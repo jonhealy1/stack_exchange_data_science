{
 "cells": [
  {
   "cell_type": "code",
   "execution_count": 1,
   "metadata": {},
   "outputs": [],
   "source": [
    "from py2neo import Graph, Node, Relationship"
   ]
  },
  {
   "cell_type": "code",
   "execution_count": 2,
   "metadata": {},
   "outputs": [
    {
     "name": "stdout",
     "output_type": "stream",
     "text": [
      "   label  count(*)\n",
      "0   Post     39929\n",
      "1   User     66951\n",
      "2    Tag       489\n",
      "3  Stack      6187\n"
     ]
    }
   ],
   "source": [
    "graph = Graph(password=\"password\")\n",
    "\n",
    "query = \"match (n) return head(labels(n)) as label, count(*);\"\n",
    "result = graph.run(query)\n",
    "\n",
    "print(result.to_data_frame())"
   ]
  },
  {
   "cell_type": "markdown",
   "metadata": {},
   "source": [
    "#### Create constraints and indices - easier in browser - localhost:7474"
   ]
  },
  {
   "cell_type": "code",
   "execution_count": 3,
   "metadata": {},
   "outputs": [],
   "source": [
    "# create index on :Post(title);\n",
    "# create index on :Post(createdAt);\n",
    "# create index on :Post(score);\n",
    "# create index on :Post(views);\n",
    "# create index on :Post(favorites);\n",
    "# create index on :Post(answers);\n",
    "# create index on :Post(score);\n",
    "\n",
    "# create index on :User(name);\n",
    "# create index on :User(createdAt);\n",
    "# create index on :User(reputation);\n",
    "# create index on :User(age);\n",
    "\n",
    "# create index on :Tag(count);\n",
    "\n",
    "# create constraint on (t:Tag) assert t.tagId is unique;\n",
    "# create constraint on (u:User) assert u.userId is unique;\n",
    "# create constraint on (p:Post) assert p.postId is unique;\n",
    "\n",
    "# We then waited for the indexes to be finished.\n",
    "\n",
    "# schema await"
   ]
  },
  {
   "cell_type": "code",
   "execution_count": 4,
   "metadata": {},
   "outputs": [
    {
     "name": "stdout",
     "output_type": "stream",
     "text": [
      "    u.displayname  posts\n",
      "0     Neil Slater    403\n",
      "1     Vaalizaadeh    354\n",
      "2         n1k31t4    347\n",
      "3    Anony-Mousse    325\n",
      "4  Brian Spiering    241\n",
      "5            Emre    227\n",
      "6    Martin Thoma    224\n",
      "7         Dawny33    215\n",
      "8           Tasos    205\n",
      "9        JahKnows    203\n"
     ]
    }
   ],
   "source": [
    "query = \"match (u:User) with u,size( (u)-[:POSTED]->()) as posts order by posts desc limit 10 return u.displayname, posts;\" \n",
    "result = graph.run(query)\n",
    "\n",
    "print(result.to_data_frame())"
   ]
  },
  {
   "cell_type": "markdown",
   "metadata": {},
   "source": [
    "#### Get number of tags used in asking questions"
   ]
  },
  {
   "cell_type": "code",
   "execution_count": 5,
   "metadata": {},
   "outputs": [
    {
     "name": "stdout",
     "output_type": "stream",
     "text": [
      "                               t  posts\n",
      "0  {'tagId': 'machine-learning'}     20\n",
      "1     {'tagId': 'deep-learning'}     15\n",
      "2    {'tagId': 'neural-network'}     11\n",
      "3               {'tagId': 'cnn'}      4\n",
      "4             {'tagId': 'keras'}      2\n"
     ]
    }
   ],
   "source": [
    "query = \"match (u:User)-[:POSTED]->()-[:HAS_TAG]->(t:Tag) where u.displayname = 'Vaalizaadeh'  return t,count(*) as posts order by posts desc limit 5;\" \n",
    "result = graph.run(query)\n",
    "\n",
    "print(result.to_data_frame())\n",
    "\n",
    "# This user only answered questions"
   ]
  },
  {
   "cell_type": "markdown",
   "metadata": {},
   "source": [
    "#### Get tags that User answered"
   ]
  },
  {
   "cell_type": "code",
   "execution_count": 6,
   "metadata": {},
   "outputs": [
    {
     "name": "stdout",
     "output_type": "stream",
     "text": [
      "            t.tagId  posts\n",
      "0           bigdata      1\n",
      "1            libsvm      1\n",
      "2  machine-learning      1\n"
     ]
    }
   ],
   "source": [
    "query = \"match (u:User)-[:POSTED]->()-[:HAS_TAG]->(t:Tag) where u.displayname = 'Puffin GDI' return t.tagId,count(*) as posts order by posts desc limit 5;\" \n",
    "result = graph.run(query)\n",
    "\n",
    "print(result.to_data_frame())"
   ]
  },
  {
   "cell_type": "markdown",
   "metadata": {},
   "source": [
    "#### All shortest paths - run in neo4j console or browser"
   ]
  },
  {
   "cell_type": "code",
   "execution_count": 7,
   "metadata": {},
   "outputs": [],
   "source": [
    "# MATCH path = allShortestPaths(\n",
    "#      (u:User {displayname:\"Emre\"})-[*]-(me:User {displayname:\"Vaalizaadeh\"}))\n",
    "# RETURN path;"
   ]
  },
  {
   "cell_type": "markdown",
   "metadata": {},
   "source": [
    "![title](images/all_short_path.png)"
   ]
  },
  {
   "cell_type": "markdown",
   "metadata": {},
   "source": [
    "#### User with letter t in name answered the most questions about python"
   ]
  },
  {
   "cell_type": "code",
   "execution_count": 45,
   "metadata": {},
   "outputs": [
    {
     "data": {
      "text/html": [
       "<div>\n",
       "<style scoped>\n",
       "    .dataframe tbody tr th:only-of-type {\n",
       "        vertical-align: middle;\n",
       "    }\n",
       "\n",
       "    .dataframe tbody tr th {\n",
       "        vertical-align: top;\n",
       "    }\n",
       "\n",
       "    .dataframe thead th {\n",
       "        text-align: right;\n",
       "    }\n",
       "</style>\n",
       "<table border=\"1\" class=\"dataframe\">\n",
       "  <thead>\n",
       "    <tr style=\"text-align: right;\">\n",
       "      <th></th>\n",
       "      <th>name</th>\n",
       "      <th>rep</th>\n",
       "      <th>u.location</th>\n",
       "      <th>answers</th>\n",
       "      <th>rep/ans</th>\n",
       "    </tr>\n",
       "  </thead>\n",
       "  <tbody>\n",
       "    <tr>\n",
       "      <td>0</td>\n",
       "      <td>n1k31t4</td>\n",
       "      <td>8181</td>\n",
       "      <td>Europa</td>\n",
       "      <td>117</td>\n",
       "      <td>69.923077</td>\n",
       "    </tr>\n",
       "    <tr>\n",
       "      <td>1</td>\n",
       "      <td>Neil Slater</td>\n",
       "      <td>18824</td>\n",
       "      <td>Durham, United Kingdom</td>\n",
       "      <td>36</td>\n",
       "      <td>522.888889</td>\n",
       "    </tr>\n",
       "    <tr>\n",
       "      <td>2</td>\n",
       "      <td>Juan Esteban de la Calle</td>\n",
       "      <td>1504</td>\n",
       "      <td>Bogotá, Colombia</td>\n",
       "      <td>24</td>\n",
       "      <td>62.666667</td>\n",
       "    </tr>\n",
       "    <tr>\n",
       "      <td>3</td>\n",
       "      <td>Jan van der Vegt</td>\n",
       "      <td>6995</td>\n",
       "      <td>Amsterdam</td>\n",
       "      <td>23</td>\n",
       "      <td>304.130435</td>\n",
       "    </tr>\n",
       "    <tr>\n",
       "      <td>4</td>\n",
       "      <td>Aditya</td>\n",
       "      <td>1577</td>\n",
       "      <td>West Bengal, India</td>\n",
       "      <td>22</td>\n",
       "      <td>71.681818</td>\n",
       "    </tr>\n",
       "    <tr>\n",
       "      <td>5</td>\n",
       "      <td>Stephen Rauch</td>\n",
       "      <td>1598</td>\n",
       "      <td>Northern California, United States</td>\n",
       "      <td>19</td>\n",
       "      <td>84.105263</td>\n",
       "    </tr>\n",
       "    <tr>\n",
       "      <td>6</td>\n",
       "      <td>Peter</td>\n",
       "      <td>1648</td>\n",
       "      <td>Frankfurt am Main, Deutschland</td>\n",
       "      <td>17</td>\n",
       "      <td>96.941176</td>\n",
       "    </tr>\n",
       "    <tr>\n",
       "      <td>7</td>\n",
       "      <td>Ankit Seth</td>\n",
       "      <td>1159</td>\n",
       "      <td>None</td>\n",
       "      <td>17</td>\n",
       "      <td>68.176471</td>\n",
       "    </tr>\n",
       "    <tr>\n",
       "      <td>8</td>\n",
       "      <td>Kiritee Gak</td>\n",
       "      <td>1379</td>\n",
       "      <td>Delhi, India</td>\n",
       "      <td>15</td>\n",
       "      <td>91.933333</td>\n",
       "    </tr>\n",
       "    <tr>\n",
       "      <td>9</td>\n",
       "      <td>Shamit Verma</td>\n",
       "      <td>1754</td>\n",
       "      <td>Mumbai, India</td>\n",
       "      <td>14</td>\n",
       "      <td>125.285714</td>\n",
       "    </tr>\n",
       "    <tr>\n",
       "      <td>10</td>\n",
       "      <td>TitoOrt</td>\n",
       "      <td>822</td>\n",
       "      <td>Stuttgart, Germany</td>\n",
       "      <td>11</td>\n",
       "      <td>74.727273</td>\n",
       "    </tr>\n",
       "    <tr>\n",
       "      <td>11</td>\n",
       "      <td>Antonio Jurić</td>\n",
       "      <td>789</td>\n",
       "      <td>None</td>\n",
       "      <td>10</td>\n",
       "      <td>78.900000</td>\n",
       "    </tr>\n",
       "    <tr>\n",
       "      <td>12</td>\n",
       "      <td>Franck Dernoncourt</td>\n",
       "      <td>3656</td>\n",
       "      <td>Adobe Research, San Jose, CA, USA</td>\n",
       "      <td>10</td>\n",
       "      <td>365.600000</td>\n",
       "    </tr>\n",
       "    <tr>\n",
       "      <td>13</td>\n",
       "      <td>Elias Strehle</td>\n",
       "      <td>1311</td>\n",
       "      <td>Hamburg, Germany</td>\n",
       "      <td>10</td>\n",
       "      <td>131.100000</td>\n",
       "    </tr>\n",
       "    <tr>\n",
       "      <td>14</td>\n",
       "      <td>stmax</td>\n",
       "      <td>1409</td>\n",
       "      <td>Austria</td>\n",
       "      <td>10</td>\n",
       "      <td>140.900000</td>\n",
       "    </tr>\n",
       "    <tr>\n",
       "      <td>15</td>\n",
       "      <td>I_Play_With_Data</td>\n",
       "      <td>1294</td>\n",
       "      <td>USA</td>\n",
       "      <td>10</td>\n",
       "      <td>129.400000</td>\n",
       "    </tr>\n",
       "    <tr>\n",
       "      <td>16</td>\n",
       "      <td>tuomastik</td>\n",
       "      <td>781</td>\n",
       "      <td>Helsinki, Finland</td>\n",
       "      <td>10</td>\n",
       "      <td>78.100000</td>\n",
       "    </tr>\n",
       "    <tr>\n",
       "      <td>17</td>\n",
       "      <td>Ryan Zotti</td>\n",
       "      <td>2564</td>\n",
       "      <td>San Francisco, CA, USA</td>\n",
       "      <td>9</td>\n",
       "      <td>284.888889</td>\n",
       "    </tr>\n",
       "    <tr>\n",
       "      <td>18</td>\n",
       "      <td>thanatoz</td>\n",
       "      <td>900</td>\n",
       "      <td>India</td>\n",
       "      <td>8</td>\n",
       "      <td>112.500000</td>\n",
       "    </tr>\n",
       "    <tr>\n",
       "      <td>19</td>\n",
       "      <td>StatsSorceress</td>\n",
       "      <td>1194</td>\n",
       "      <td>None</td>\n",
       "      <td>8</td>\n",
       "      <td>149.250000</td>\n",
       "    </tr>\n",
       "  </tbody>\n",
       "</table>\n",
       "</div>"
      ],
      "text/plain": [
       "                        name    rep                          u.location  \\\n",
       "0                    n1k31t4   8181                              Europa   \n",
       "1                Neil Slater  18824              Durham, United Kingdom   \n",
       "2   Juan Esteban de la Calle   1504                    Bogotá, Colombia   \n",
       "3           Jan van der Vegt   6995                           Amsterdam   \n",
       "4                     Aditya   1577                  West Bengal, India   \n",
       "5              Stephen Rauch   1598  Northern California, United States   \n",
       "6                      Peter   1648      Frankfurt am Main, Deutschland   \n",
       "7                 Ankit Seth   1159                                None   \n",
       "8                Kiritee Gak   1379                        Delhi, India   \n",
       "9               Shamit Verma   1754                       Mumbai, India   \n",
       "10                   TitoOrt    822                  Stuttgart, Germany   \n",
       "11             Antonio Jurić    789                                None   \n",
       "12        Franck Dernoncourt   3656   Adobe Research, San Jose, CA, USA   \n",
       "13             Elias Strehle   1311                    Hamburg, Germany   \n",
       "14                     stmax   1409                             Austria   \n",
       "15          I_Play_With_Data   1294                                 USA   \n",
       "16                 tuomastik    781                   Helsinki, Finland   \n",
       "17                Ryan Zotti   2564              San Francisco, CA, USA   \n",
       "18                  thanatoz    900                               India   \n",
       "19            StatsSorceress   1194                                None   \n",
       "\n",
       "    answers     rep/ans  \n",
       "0       117   69.923077  \n",
       "1        36  522.888889  \n",
       "2        24   62.666667  \n",
       "3        23  304.130435  \n",
       "4        22   71.681818  \n",
       "5        19   84.105263  \n",
       "6        17   96.941176  \n",
       "7        17   68.176471  \n",
       "8        15   91.933333  \n",
       "9        14  125.285714  \n",
       "10       11   74.727273  \n",
       "11       10   78.900000  \n",
       "12       10  365.600000  \n",
       "13       10  131.100000  \n",
       "14       10  140.900000  \n",
       "15       10  129.400000  \n",
       "16       10   78.100000  \n",
       "17        9  284.888889  \n",
       "18        8  112.500000  \n",
       "19        8  149.250000  "
      ]
     },
     "execution_count": 45,
     "metadata": {},
     "output_type": "execute_result"
    }
   ],
   "source": [
    "query = \"MATCH (u:User)-[:POSTED]->(answer)<-[:PARENT_OF]-()-[:HAS_TAG]-(:Tag {tagId:'python'}) WHERE u.displayname contains 't' RETURN u.displayname AS name,u.reputation AS rep,u.location, count(distinct answer) AS answers ORDER BY answers DESC LIMIT 20;\" \n",
    "result = graph.run(query)\n",
    "#print(result.to_data_frame())\n",
    "xo = result.to_data_frame()\n",
    "xo[\"rep/ans\"] = xo[\"rep\"].astype(float) / xo[\"answers\"].astype(float)\n",
    "#print(xo)\n",
    "xo.head(40)\n",
    "\n",
    "# query = \"\" \n",
    "# result = graph.run(query)\n",
    "# print(result.to_data_frame())"
   ]
  },
  {
   "cell_type": "code",
   "execution_count": 130,
   "metadata": {},
   "outputs": [
    {
     "data": {
      "text/html": [
       "<div>\n",
       "<style scoped>\n",
       "    .dataframe tbody tr th:only-of-type {\n",
       "        vertical-align: middle;\n",
       "    }\n",
       "\n",
       "    .dataframe tbody tr th {\n",
       "        vertical-align: top;\n",
       "    }\n",
       "\n",
       "    .dataframe thead th {\n",
       "        text-align: right;\n",
       "    }\n",
       "</style>\n",
       "<table border=\"1\" class=\"dataframe\">\n",
       "  <thead>\n",
       "    <tr style=\"text-align: right;\">\n",
       "      <th></th>\n",
       "      <th>name</th>\n",
       "      <th>rep</th>\n",
       "      <th>u.location</th>\n",
       "      <th>answers</th>\n",
       "      <th>rep/ans</th>\n",
       "    </tr>\n",
       "  </thead>\n",
       "  <tbody>\n",
       "    <tr>\n",
       "      <td>20</td>\n",
       "      <td>n1k31t4</td>\n",
       "      <td>8181</td>\n",
       "      <td>Europa</td>\n",
       "      <td>117</td>\n",
       "      <td>69.923077</td>\n",
       "    </tr>\n",
       "    <tr>\n",
       "      <td>230</td>\n",
       "      <td>Neil Slater</td>\n",
       "      <td>18824</td>\n",
       "      <td>Durham, United Kingdom</td>\n",
       "      <td>36</td>\n",
       "      <td>522.888889</td>\n",
       "    </tr>\n",
       "    <tr>\n",
       "      <td>288</td>\n",
       "      <td>Juan Esteban de la Calle</td>\n",
       "      <td>1504</td>\n",
       "      <td>Bogotá, Colombia</td>\n",
       "      <td>24</td>\n",
       "      <td>62.666667</td>\n",
       "    </tr>\n",
       "    <tr>\n",
       "      <td>34</td>\n",
       "      <td>Jan van der Vegt</td>\n",
       "      <td>6995</td>\n",
       "      <td>Amsterdam</td>\n",
       "      <td>23</td>\n",
       "      <td>304.130435</td>\n",
       "    </tr>\n",
       "    <tr>\n",
       "      <td>275</td>\n",
       "      <td>Aditya</td>\n",
       "      <td>1577</td>\n",
       "      <td>West Bengal, India</td>\n",
       "      <td>22</td>\n",
       "      <td>71.681818</td>\n",
       "    </tr>\n",
       "    <tr>\n",
       "      <td>272</td>\n",
       "      <td>Stephen Rauch</td>\n",
       "      <td>1598</td>\n",
       "      <td>Northern California, United States</td>\n",
       "      <td>19</td>\n",
       "      <td>84.105263</td>\n",
       "    </tr>\n",
       "    <tr>\n",
       "      <td>259</td>\n",
       "      <td>Peter</td>\n",
       "      <td>1648</td>\n",
       "      <td>Frankfurt am Main, Deutschland</td>\n",
       "      <td>17</td>\n",
       "      <td>96.941176</td>\n",
       "    </tr>\n",
       "    <tr>\n",
       "      <td>352</td>\n",
       "      <td>Ankit Seth</td>\n",
       "      <td>1159</td>\n",
       "      <td>None</td>\n",
       "      <td>17</td>\n",
       "      <td>68.176471</td>\n",
       "    </tr>\n",
       "    <tr>\n",
       "      <td>304</td>\n",
       "      <td>Kiritee Gak</td>\n",
       "      <td>1379</td>\n",
       "      <td>Delhi, India</td>\n",
       "      <td>15</td>\n",
       "      <td>91.933333</td>\n",
       "    </tr>\n",
       "    <tr>\n",
       "      <td>245</td>\n",
       "      <td>Shamit Verma</td>\n",
       "      <td>1754</td>\n",
       "      <td>Mumbai, India</td>\n",
       "      <td>14</td>\n",
       "      <td>125.285714</td>\n",
       "    </tr>\n",
       "    <tr>\n",
       "      <td>19</td>\n",
       "      <td>TitoOrt</td>\n",
       "      <td>822</td>\n",
       "      <td>Stuttgart, Germany</td>\n",
       "      <td>11</td>\n",
       "      <td>74.727273</td>\n",
       "    </tr>\n",
       "    <tr>\n",
       "      <td>118</td>\n",
       "      <td>Franck Dernoncourt</td>\n",
       "      <td>3656</td>\n",
       "      <td>Adobe Research, San Jose, CA, USA</td>\n",
       "      <td>10</td>\n",
       "      <td>365.600000</td>\n",
       "    </tr>\n",
       "    <tr>\n",
       "      <td>311</td>\n",
       "      <td>Elias Strehle</td>\n",
       "      <td>1311</td>\n",
       "      <td>Hamburg, Germany</td>\n",
       "      <td>10</td>\n",
       "      <td>131.100000</td>\n",
       "    </tr>\n",
       "    <tr>\n",
       "      <td>303</td>\n",
       "      <td>stmax</td>\n",
       "      <td>1409</td>\n",
       "      <td>Austria</td>\n",
       "      <td>10</td>\n",
       "      <td>140.900000</td>\n",
       "    </tr>\n",
       "    <tr>\n",
       "      <td>319</td>\n",
       "      <td>I_Play_With_Data</td>\n",
       "      <td>1294</td>\n",
       "      <td>USA</td>\n",
       "      <td>10</td>\n",
       "      <td>129.400000</td>\n",
       "    </tr>\n",
       "    <tr>\n",
       "      <td>24</td>\n",
       "      <td>Antonio Jurić</td>\n",
       "      <td>789</td>\n",
       "      <td>None</td>\n",
       "      <td>10</td>\n",
       "      <td>78.900000</td>\n",
       "    </tr>\n",
       "    <tr>\n",
       "      <td>25</td>\n",
       "      <td>tuomastik</td>\n",
       "      <td>781</td>\n",
       "      <td>Helsinki, Finland</td>\n",
       "      <td>10</td>\n",
       "      <td>78.100000</td>\n",
       "    </tr>\n",
       "    <tr>\n",
       "      <td>187</td>\n",
       "      <td>Ryan Zotti</td>\n",
       "      <td>2564</td>\n",
       "      <td>San Francisco, CA, USA</td>\n",
       "      <td>9</td>\n",
       "      <td>284.888889</td>\n",
       "    </tr>\n",
       "    <tr>\n",
       "      <td>346</td>\n",
       "      <td>StatsSorceress</td>\n",
       "      <td>1194</td>\n",
       "      <td>None</td>\n",
       "      <td>8</td>\n",
       "      <td>149.250000</td>\n",
       "    </tr>\n",
       "    <tr>\n",
       "      <td>280</td>\n",
       "      <td>Tophat</td>\n",
       "      <td>1552</td>\n",
       "      <td>New York, NY, United States</td>\n",
       "      <td>8</td>\n",
       "      <td>194.000000</td>\n",
       "    </tr>\n",
       "  </tbody>\n",
       "</table>\n",
       "</div>"
      ],
      "text/plain": [
       "                         name    rep                          u.location  \\\n",
       "20                    n1k31t4   8181                              Europa   \n",
       "230               Neil Slater  18824              Durham, United Kingdom   \n",
       "288  Juan Esteban de la Calle   1504                    Bogotá, Colombia   \n",
       "34           Jan van der Vegt   6995                           Amsterdam   \n",
       "275                    Aditya   1577                  West Bengal, India   \n",
       "272             Stephen Rauch   1598  Northern California, United States   \n",
       "259                     Peter   1648      Frankfurt am Main, Deutschland   \n",
       "352                Ankit Seth   1159                                None   \n",
       "304               Kiritee Gak   1379                        Delhi, India   \n",
       "245              Shamit Verma   1754                       Mumbai, India   \n",
       "19                    TitoOrt    822                  Stuttgart, Germany   \n",
       "118        Franck Dernoncourt   3656   Adobe Research, San Jose, CA, USA   \n",
       "311             Elias Strehle   1311                    Hamburg, Germany   \n",
       "303                     stmax   1409                             Austria   \n",
       "319          I_Play_With_Data   1294                                 USA   \n",
       "24              Antonio Jurić    789                                None   \n",
       "25                  tuomastik    781                   Helsinki, Finland   \n",
       "187                Ryan Zotti   2564              San Francisco, CA, USA   \n",
       "346            StatsSorceress   1194                                None   \n",
       "280                    Tophat   1552         New York, NY, United States   \n",
       "\n",
       "     answers     rep/ans  \n",
       "20       117   69.923077  \n",
       "230       36  522.888889  \n",
       "288       24   62.666667  \n",
       "34        23  304.130435  \n",
       "275       22   71.681818  \n",
       "272       19   84.105263  \n",
       "259       17   96.941176  \n",
       "352       17   68.176471  \n",
       "304       15   91.933333  \n",
       "245       14  125.285714  \n",
       "19        11   74.727273  \n",
       "118       10  365.600000  \n",
       "311       10  131.100000  \n",
       "303       10  140.900000  \n",
       "319       10  129.400000  \n",
       "24        10   78.900000  \n",
       "25        10   78.100000  \n",
       "187        9  284.888889  \n",
       "346        8  149.250000  \n",
       "280        8  194.000000  "
      ]
     },
     "execution_count": 130,
     "metadata": {},
     "output_type": "execute_result"
    }
   ],
   "source": [
    "query = \"MATCH (u:User)-[:POSTED]->(answer)<-[:PARENT_OF]-()-[:HAS_TAG]-(:Tag {tagId:'python'}) WHERE u.displayname contains 't' RETURN u.displayname AS name,u.reputation AS rep,u.location, count(distinct answer) AS answers ORDER BY rep DESC;\" \n",
    "result = graph.run(query)\n",
    "#print(result.to_data_frame())\n",
    "xr = result.to_data_frame()\n",
    "xr[\"rep/ans\"] = xr[\"rep\"].astype(float) / xr[\"answers\"].astype(float)\n",
    "#print(xo)\n",
    "#xr.head(40)\n",
    "sort_by2 = xr.sort_values('answers', ascending=False)\n",
    "#df.sort_values(by=['Brand'], inplace=True, ascending=False)\n",
    "s2 = sort_by2.head(20)\n",
    "s2.head(20)"
   ]
  },
  {
   "cell_type": "code",
   "execution_count": null,
   "metadata": {},
   "outputs": [],
   "source": []
  },
  {
   "cell_type": "code",
   "execution_count": 65,
   "metadata": {},
   "outputs": [
    {
     "data": {
      "text/html": [
       "<div>\n",
       "<style scoped>\n",
       "    .dataframe tbody tr th:only-of-type {\n",
       "        vertical-align: middle;\n",
       "    }\n",
       "\n",
       "    .dataframe tbody tr th {\n",
       "        vertical-align: top;\n",
       "    }\n",
       "\n",
       "    .dataframe thead th {\n",
       "        text-align: right;\n",
       "    }\n",
       "</style>\n",
       "<table border=\"1\" class=\"dataframe\">\n",
       "  <thead>\n",
       "    <tr style=\"text-align: right;\">\n",
       "      <th></th>\n",
       "      <th>name</th>\n",
       "      <th>rep</th>\n",
       "      <th>u.location</th>\n",
       "      <th>answers</th>\n",
       "      <th>rep/ans</th>\n",
       "    </tr>\n",
       "  </thead>\n",
       "  <tbody>\n",
       "    <tr>\n",
       "      <td>1</td>\n",
       "      <td>Neil Slater</td>\n",
       "      <td>18824</td>\n",
       "      <td>Durham, United Kingdom</td>\n",
       "      <td>36</td>\n",
       "      <td>522.888889</td>\n",
       "    </tr>\n",
       "    <tr>\n",
       "      <td>12</td>\n",
       "      <td>Franck Dernoncourt</td>\n",
       "      <td>3656</td>\n",
       "      <td>Adobe Research, San Jose, CA, USA</td>\n",
       "      <td>10</td>\n",
       "      <td>365.600000</td>\n",
       "    </tr>\n",
       "    <tr>\n",
       "      <td>3</td>\n",
       "      <td>Jan van der Vegt</td>\n",
       "      <td>6995</td>\n",
       "      <td>Amsterdam</td>\n",
       "      <td>23</td>\n",
       "      <td>304.130435</td>\n",
       "    </tr>\n",
       "    <tr>\n",
       "      <td>17</td>\n",
       "      <td>Ryan Zotti</td>\n",
       "      <td>2564</td>\n",
       "      <td>San Francisco, CA, USA</td>\n",
       "      <td>9</td>\n",
       "      <td>284.888889</td>\n",
       "    </tr>\n",
       "    <tr>\n",
       "      <td>19</td>\n",
       "      <td>StatsSorceress</td>\n",
       "      <td>1194</td>\n",
       "      <td>None</td>\n",
       "      <td>8</td>\n",
       "      <td>149.250000</td>\n",
       "    </tr>\n",
       "    <tr>\n",
       "      <td>14</td>\n",
       "      <td>stmax</td>\n",
       "      <td>1409</td>\n",
       "      <td>Austria</td>\n",
       "      <td>10</td>\n",
       "      <td>140.900000</td>\n",
       "    </tr>\n",
       "    <tr>\n",
       "      <td>13</td>\n",
       "      <td>Elias Strehle</td>\n",
       "      <td>1311</td>\n",
       "      <td>Hamburg, Germany</td>\n",
       "      <td>10</td>\n",
       "      <td>131.100000</td>\n",
       "    </tr>\n",
       "    <tr>\n",
       "      <td>15</td>\n",
       "      <td>I_Play_With_Data</td>\n",
       "      <td>1294</td>\n",
       "      <td>USA</td>\n",
       "      <td>10</td>\n",
       "      <td>129.400000</td>\n",
       "    </tr>\n",
       "    <tr>\n",
       "      <td>9</td>\n",
       "      <td>Shamit Verma</td>\n",
       "      <td>1754</td>\n",
       "      <td>Mumbai, India</td>\n",
       "      <td>14</td>\n",
       "      <td>125.285714</td>\n",
       "    </tr>\n",
       "    <tr>\n",
       "      <td>18</td>\n",
       "      <td>thanatoz</td>\n",
       "      <td>900</td>\n",
       "      <td>India</td>\n",
       "      <td>8</td>\n",
       "      <td>112.500000</td>\n",
       "    </tr>\n",
       "    <tr>\n",
       "      <td>6</td>\n",
       "      <td>Peter</td>\n",
       "      <td>1648</td>\n",
       "      <td>Frankfurt am Main, Deutschland</td>\n",
       "      <td>17</td>\n",
       "      <td>96.941176</td>\n",
       "    </tr>\n",
       "    <tr>\n",
       "      <td>8</td>\n",
       "      <td>Kiritee Gak</td>\n",
       "      <td>1379</td>\n",
       "      <td>Delhi, India</td>\n",
       "      <td>15</td>\n",
       "      <td>91.933333</td>\n",
       "    </tr>\n",
       "    <tr>\n",
       "      <td>5</td>\n",
       "      <td>Stephen Rauch</td>\n",
       "      <td>1598</td>\n",
       "      <td>Northern California, United States</td>\n",
       "      <td>19</td>\n",
       "      <td>84.105263</td>\n",
       "    </tr>\n",
       "    <tr>\n",
       "      <td>11</td>\n",
       "      <td>Antonio Jurić</td>\n",
       "      <td>789</td>\n",
       "      <td>None</td>\n",
       "      <td>10</td>\n",
       "      <td>78.900000</td>\n",
       "    </tr>\n",
       "    <tr>\n",
       "      <td>16</td>\n",
       "      <td>tuomastik</td>\n",
       "      <td>781</td>\n",
       "      <td>Helsinki, Finland</td>\n",
       "      <td>10</td>\n",
       "      <td>78.100000</td>\n",
       "    </tr>\n",
       "    <tr>\n",
       "      <td>10</td>\n",
       "      <td>TitoOrt</td>\n",
       "      <td>822</td>\n",
       "      <td>Stuttgart, Germany</td>\n",
       "      <td>11</td>\n",
       "      <td>74.727273</td>\n",
       "    </tr>\n",
       "    <tr>\n",
       "      <td>4</td>\n",
       "      <td>Aditya</td>\n",
       "      <td>1577</td>\n",
       "      <td>West Bengal, India</td>\n",
       "      <td>22</td>\n",
       "      <td>71.681818</td>\n",
       "    </tr>\n",
       "    <tr>\n",
       "      <td>0</td>\n",
       "      <td>n1k31t4</td>\n",
       "      <td>8181</td>\n",
       "      <td>Europa</td>\n",
       "      <td>117</td>\n",
       "      <td>69.923077</td>\n",
       "    </tr>\n",
       "    <tr>\n",
       "      <td>7</td>\n",
       "      <td>Ankit Seth</td>\n",
       "      <td>1159</td>\n",
       "      <td>None</td>\n",
       "      <td>17</td>\n",
       "      <td>68.176471</td>\n",
       "    </tr>\n",
       "    <tr>\n",
       "      <td>2</td>\n",
       "      <td>Juan Esteban de la Calle</td>\n",
       "      <td>1504</td>\n",
       "      <td>Bogotá, Colombia</td>\n",
       "      <td>24</td>\n",
       "      <td>62.666667</td>\n",
       "    </tr>\n",
       "  </tbody>\n",
       "</table>\n",
       "</div>"
      ],
      "text/plain": [
       "                        name    rep                          u.location  \\\n",
       "1                Neil Slater  18824              Durham, United Kingdom   \n",
       "12        Franck Dernoncourt   3656   Adobe Research, San Jose, CA, USA   \n",
       "3           Jan van der Vegt   6995                           Amsterdam   \n",
       "17                Ryan Zotti   2564              San Francisco, CA, USA   \n",
       "19            StatsSorceress   1194                                None   \n",
       "14                     stmax   1409                             Austria   \n",
       "13             Elias Strehle   1311                    Hamburg, Germany   \n",
       "15          I_Play_With_Data   1294                                 USA   \n",
       "9               Shamit Verma   1754                       Mumbai, India   \n",
       "18                  thanatoz    900                               India   \n",
       "6                      Peter   1648      Frankfurt am Main, Deutschland   \n",
       "8                Kiritee Gak   1379                        Delhi, India   \n",
       "5              Stephen Rauch   1598  Northern California, United States   \n",
       "11             Antonio Jurić    789                                None   \n",
       "16                 tuomastik    781                   Helsinki, Finland   \n",
       "10                   TitoOrt    822                  Stuttgart, Germany   \n",
       "4                     Aditya   1577                  West Bengal, India   \n",
       "0                    n1k31t4   8181                              Europa   \n",
       "7                 Ankit Seth   1159                                None   \n",
       "2   Juan Esteban de la Calle   1504                    Bogotá, Colombia   \n",
       "\n",
       "    answers     rep/ans  \n",
       "1        36  522.888889  \n",
       "12       10  365.600000  \n",
       "3        23  304.130435  \n",
       "17        9  284.888889  \n",
       "19        8  149.250000  \n",
       "14       10  140.900000  \n",
       "13       10  131.100000  \n",
       "15       10  129.400000  \n",
       "9        14  125.285714  \n",
       "18        8  112.500000  \n",
       "6        17   96.941176  \n",
       "8        15   91.933333  \n",
       "5        19   84.105263  \n",
       "11       10   78.900000  \n",
       "16       10   78.100000  \n",
       "10       11   74.727273  \n",
       "4        22   71.681818  \n",
       "0       117   69.923077  \n",
       "7        17   68.176471  \n",
       "2        24   62.666667  "
      ]
     },
     "execution_count": 65,
     "metadata": {},
     "output_type": "execute_result"
    }
   ],
   "source": [
    "sort_by = xo.sort_values('rep/ans', ascending=False)\n",
    "#df.sort_values(by=['Brand'], inplace=True, ascending=False)\n",
    "sort_by.head(20)"
   ]
  },
  {
   "cell_type": "code",
   "execution_count": 96,
   "metadata": {},
   "outputs": [
    {
     "data": {
      "application/vnd.plotly.v1+json": {
       "config": {
        "plotlyServerURL": "https://plot.ly"
       },
       "data": [
        {
         "alignmentgroup": "True",
         "hoverlabel": {
          "namelength": 0
         },
         "hovertemplate": "name=%{x}<br>rep/ans=%{y}",
         "legendgroup": "",
         "marker": {
          "color": "#636efa"
         },
         "name": "",
         "offsetgroup": "",
         "orientation": "v",
         "showlegend": false,
         "textposition": "auto",
         "type": "bar",
         "x": [
          "Neil Slater",
          "Franck Dernoncourt",
          "Jan van der Vegt",
          "Ryan Zotti",
          "StatsSorceress",
          "stmax",
          "Elias Strehle",
          "I_Play_With_Data",
          "Shamit Verma",
          "thanatoz",
          "Peter",
          "Kiritee Gak",
          "Stephen Rauch",
          "Antonio Jurić",
          "tuomastik",
          "TitoOrt",
          "Aditya",
          "n1k31t4",
          "Ankit Seth",
          "Juan Esteban de la Calle"
         ],
         "xaxis": "x",
         "y": [
          522.8888888888889,
          365.6,
          304.1304347826087,
          284.8888888888889,
          149.25,
          140.9,
          131.1,
          129.4,
          125.28571428571429,
          112.5,
          96.94117647058823,
          91.93333333333334,
          84.10526315789474,
          78.9,
          78.1,
          74.72727272727273,
          71.68181818181819,
          69.92307692307692,
          68.17647058823529,
          62.666666666666664
         ],
         "yaxis": "y"
        }
       ],
       "layout": {
        "barmode": "relative",
        "height": 600,
        "legend": {
         "tracegroupgap": 0
        },
        "margin": {
         "t": 60
        },
        "template": {
         "data": {
          "bar": [
           {
            "error_x": {
             "color": "#f2f5fa"
            },
            "error_y": {
             "color": "#f2f5fa"
            },
            "marker": {
             "line": {
              "color": "rgb(17,17,17)",
              "width": 0.5
             }
            },
            "type": "bar"
           }
          ],
          "barpolar": [
           {
            "marker": {
             "line": {
              "color": "rgb(17,17,17)",
              "width": 0.5
             }
            },
            "type": "barpolar"
           }
          ],
          "carpet": [
           {
            "aaxis": {
             "endlinecolor": "#A2B1C6",
             "gridcolor": "#506784",
             "linecolor": "#506784",
             "minorgridcolor": "#506784",
             "startlinecolor": "#A2B1C6"
            },
            "baxis": {
             "endlinecolor": "#A2B1C6",
             "gridcolor": "#506784",
             "linecolor": "#506784",
             "minorgridcolor": "#506784",
             "startlinecolor": "#A2B1C6"
            },
            "type": "carpet"
           }
          ],
          "choropleth": [
           {
            "colorbar": {
             "outlinewidth": 0,
             "ticks": ""
            },
            "type": "choropleth"
           }
          ],
          "contour": [
           {
            "colorbar": {
             "outlinewidth": 0,
             "ticks": ""
            },
            "colorscale": [
             [
              0,
              "#0d0887"
             ],
             [
              0.1111111111111111,
              "#46039f"
             ],
             [
              0.2222222222222222,
              "#7201a8"
             ],
             [
              0.3333333333333333,
              "#9c179e"
             ],
             [
              0.4444444444444444,
              "#bd3786"
             ],
             [
              0.5555555555555556,
              "#d8576b"
             ],
             [
              0.6666666666666666,
              "#ed7953"
             ],
             [
              0.7777777777777778,
              "#fb9f3a"
             ],
             [
              0.8888888888888888,
              "#fdca26"
             ],
             [
              1,
              "#f0f921"
             ]
            ],
            "type": "contour"
           }
          ],
          "contourcarpet": [
           {
            "colorbar": {
             "outlinewidth": 0,
             "ticks": ""
            },
            "type": "contourcarpet"
           }
          ],
          "heatmap": [
           {
            "colorbar": {
             "outlinewidth": 0,
             "ticks": ""
            },
            "colorscale": [
             [
              0,
              "#0d0887"
             ],
             [
              0.1111111111111111,
              "#46039f"
             ],
             [
              0.2222222222222222,
              "#7201a8"
             ],
             [
              0.3333333333333333,
              "#9c179e"
             ],
             [
              0.4444444444444444,
              "#bd3786"
             ],
             [
              0.5555555555555556,
              "#d8576b"
             ],
             [
              0.6666666666666666,
              "#ed7953"
             ],
             [
              0.7777777777777778,
              "#fb9f3a"
             ],
             [
              0.8888888888888888,
              "#fdca26"
             ],
             [
              1,
              "#f0f921"
             ]
            ],
            "type": "heatmap"
           }
          ],
          "heatmapgl": [
           {
            "colorbar": {
             "outlinewidth": 0,
             "ticks": ""
            },
            "colorscale": [
             [
              0,
              "#0d0887"
             ],
             [
              0.1111111111111111,
              "#46039f"
             ],
             [
              0.2222222222222222,
              "#7201a8"
             ],
             [
              0.3333333333333333,
              "#9c179e"
             ],
             [
              0.4444444444444444,
              "#bd3786"
             ],
             [
              0.5555555555555556,
              "#d8576b"
             ],
             [
              0.6666666666666666,
              "#ed7953"
             ],
             [
              0.7777777777777778,
              "#fb9f3a"
             ],
             [
              0.8888888888888888,
              "#fdca26"
             ],
             [
              1,
              "#f0f921"
             ]
            ],
            "type": "heatmapgl"
           }
          ],
          "histogram": [
           {
            "marker": {
             "colorbar": {
              "outlinewidth": 0,
              "ticks": ""
             }
            },
            "type": "histogram"
           }
          ],
          "histogram2d": [
           {
            "colorbar": {
             "outlinewidth": 0,
             "ticks": ""
            },
            "colorscale": [
             [
              0,
              "#0d0887"
             ],
             [
              0.1111111111111111,
              "#46039f"
             ],
             [
              0.2222222222222222,
              "#7201a8"
             ],
             [
              0.3333333333333333,
              "#9c179e"
             ],
             [
              0.4444444444444444,
              "#bd3786"
             ],
             [
              0.5555555555555556,
              "#d8576b"
             ],
             [
              0.6666666666666666,
              "#ed7953"
             ],
             [
              0.7777777777777778,
              "#fb9f3a"
             ],
             [
              0.8888888888888888,
              "#fdca26"
             ],
             [
              1,
              "#f0f921"
             ]
            ],
            "type": "histogram2d"
           }
          ],
          "histogram2dcontour": [
           {
            "colorbar": {
             "outlinewidth": 0,
             "ticks": ""
            },
            "colorscale": [
             [
              0,
              "#0d0887"
             ],
             [
              0.1111111111111111,
              "#46039f"
             ],
             [
              0.2222222222222222,
              "#7201a8"
             ],
             [
              0.3333333333333333,
              "#9c179e"
             ],
             [
              0.4444444444444444,
              "#bd3786"
             ],
             [
              0.5555555555555556,
              "#d8576b"
             ],
             [
              0.6666666666666666,
              "#ed7953"
             ],
             [
              0.7777777777777778,
              "#fb9f3a"
             ],
             [
              0.8888888888888888,
              "#fdca26"
             ],
             [
              1,
              "#f0f921"
             ]
            ],
            "type": "histogram2dcontour"
           }
          ],
          "mesh3d": [
           {
            "colorbar": {
             "outlinewidth": 0,
             "ticks": ""
            },
            "type": "mesh3d"
           }
          ],
          "parcoords": [
           {
            "line": {
             "colorbar": {
              "outlinewidth": 0,
              "ticks": ""
             }
            },
            "type": "parcoords"
           }
          ],
          "scatter": [
           {
            "marker": {
             "line": {
              "color": "#283442"
             }
            },
            "type": "scatter"
           }
          ],
          "scatter3d": [
           {
            "line": {
             "colorbar": {
              "outlinewidth": 0,
              "ticks": ""
             }
            },
            "marker": {
             "colorbar": {
              "outlinewidth": 0,
              "ticks": ""
             }
            },
            "type": "scatter3d"
           }
          ],
          "scattercarpet": [
           {
            "marker": {
             "colorbar": {
              "outlinewidth": 0,
              "ticks": ""
             }
            },
            "type": "scattercarpet"
           }
          ],
          "scattergeo": [
           {
            "marker": {
             "colorbar": {
              "outlinewidth": 0,
              "ticks": ""
             }
            },
            "type": "scattergeo"
           }
          ],
          "scattergl": [
           {
            "marker": {
             "line": {
              "color": "#283442"
             }
            },
            "type": "scattergl"
           }
          ],
          "scattermapbox": [
           {
            "marker": {
             "colorbar": {
              "outlinewidth": 0,
              "ticks": ""
             }
            },
            "type": "scattermapbox"
           }
          ],
          "scatterpolar": [
           {
            "marker": {
             "colorbar": {
              "outlinewidth": 0,
              "ticks": ""
             }
            },
            "type": "scatterpolar"
           }
          ],
          "scatterpolargl": [
           {
            "marker": {
             "colorbar": {
              "outlinewidth": 0,
              "ticks": ""
             }
            },
            "type": "scatterpolargl"
           }
          ],
          "scatterternary": [
           {
            "marker": {
             "colorbar": {
              "outlinewidth": 0,
              "ticks": ""
             }
            },
            "type": "scatterternary"
           }
          ],
          "surface": [
           {
            "colorbar": {
             "outlinewidth": 0,
             "ticks": ""
            },
            "colorscale": [
             [
              0,
              "#0d0887"
             ],
             [
              0.1111111111111111,
              "#46039f"
             ],
             [
              0.2222222222222222,
              "#7201a8"
             ],
             [
              0.3333333333333333,
              "#9c179e"
             ],
             [
              0.4444444444444444,
              "#bd3786"
             ],
             [
              0.5555555555555556,
              "#d8576b"
             ],
             [
              0.6666666666666666,
              "#ed7953"
             ],
             [
              0.7777777777777778,
              "#fb9f3a"
             ],
             [
              0.8888888888888888,
              "#fdca26"
             ],
             [
              1,
              "#f0f921"
             ]
            ],
            "type": "surface"
           }
          ],
          "table": [
           {
            "cells": {
             "fill": {
              "color": "#506784"
             },
             "line": {
              "color": "rgb(17,17,17)"
             }
            },
            "header": {
             "fill": {
              "color": "#2a3f5f"
             },
             "line": {
              "color": "rgb(17,17,17)"
             }
            },
            "type": "table"
           }
          ]
         },
         "layout": {
          "annotationdefaults": {
           "arrowcolor": "#f2f5fa",
           "arrowhead": 0,
           "arrowwidth": 1
          },
          "colorscale": {
           "diverging": [
            [
             0,
             "#8e0152"
            ],
            [
             0.1,
             "#c51b7d"
            ],
            [
             0.2,
             "#de77ae"
            ],
            [
             0.3,
             "#f1b6da"
            ],
            [
             0.4,
             "#fde0ef"
            ],
            [
             0.5,
             "#f7f7f7"
            ],
            [
             0.6,
             "#e6f5d0"
            ],
            [
             0.7,
             "#b8e186"
            ],
            [
             0.8,
             "#7fbc41"
            ],
            [
             0.9,
             "#4d9221"
            ],
            [
             1,
             "#276419"
            ]
           ],
           "sequential": [
            [
             0,
             "#0d0887"
            ],
            [
             0.1111111111111111,
             "#46039f"
            ],
            [
             0.2222222222222222,
             "#7201a8"
            ],
            [
             0.3333333333333333,
             "#9c179e"
            ],
            [
             0.4444444444444444,
             "#bd3786"
            ],
            [
             0.5555555555555556,
             "#d8576b"
            ],
            [
             0.6666666666666666,
             "#ed7953"
            ],
            [
             0.7777777777777778,
             "#fb9f3a"
            ],
            [
             0.8888888888888888,
             "#fdca26"
            ],
            [
             1,
             "#f0f921"
            ]
           ],
           "sequentialminus": [
            [
             0,
             "#0d0887"
            ],
            [
             0.1111111111111111,
             "#46039f"
            ],
            [
             0.2222222222222222,
             "#7201a8"
            ],
            [
             0.3333333333333333,
             "#9c179e"
            ],
            [
             0.4444444444444444,
             "#bd3786"
            ],
            [
             0.5555555555555556,
             "#d8576b"
            ],
            [
             0.6666666666666666,
             "#ed7953"
            ],
            [
             0.7777777777777778,
             "#fb9f3a"
            ],
            [
             0.8888888888888888,
             "#fdca26"
            ],
            [
             1,
             "#f0f921"
            ]
           ]
          },
          "colorway": [
           "#636efa",
           "#EF553B",
           "#00cc96",
           "#ab63fa",
           "#FFA15A",
           "#19d3f3",
           "#FF6692",
           "#B6E880",
           "#FF97FF",
           "#FECB52"
          ],
          "font": {
           "color": "#f2f5fa"
          },
          "geo": {
           "bgcolor": "rgb(17,17,17)",
           "lakecolor": "rgb(17,17,17)",
           "landcolor": "rgb(17,17,17)",
           "showlakes": true,
           "showland": true,
           "subunitcolor": "#506784"
          },
          "hoverlabel": {
           "align": "left"
          },
          "hovermode": "closest",
          "mapbox": {
           "style": "dark"
          },
          "paper_bgcolor": "rgb(17,17,17)",
          "plot_bgcolor": "rgb(17,17,17)",
          "polar": {
           "angularaxis": {
            "gridcolor": "#506784",
            "linecolor": "#506784",
            "ticks": ""
           },
           "bgcolor": "rgb(17,17,17)",
           "radialaxis": {
            "gridcolor": "#506784",
            "linecolor": "#506784",
            "ticks": ""
           }
          },
          "scene": {
           "xaxis": {
            "backgroundcolor": "rgb(17,17,17)",
            "gridcolor": "#506784",
            "gridwidth": 2,
            "linecolor": "#506784",
            "showbackground": true,
            "ticks": "",
            "zerolinecolor": "#C8D4E3"
           },
           "yaxis": {
            "backgroundcolor": "rgb(17,17,17)",
            "gridcolor": "#506784",
            "gridwidth": 2,
            "linecolor": "#506784",
            "showbackground": true,
            "ticks": "",
            "zerolinecolor": "#C8D4E3"
           },
           "zaxis": {
            "backgroundcolor": "rgb(17,17,17)",
            "gridcolor": "#506784",
            "gridwidth": 2,
            "linecolor": "#506784",
            "showbackground": true,
            "ticks": "",
            "zerolinecolor": "#C8D4E3"
           }
          },
          "shapedefaults": {
           "line": {
            "color": "#f2f5fa"
           }
          },
          "sliderdefaults": {
           "bgcolor": "#C8D4E3",
           "bordercolor": "rgb(17,17,17)",
           "borderwidth": 1,
           "tickwidth": 0
          },
          "ternary": {
           "aaxis": {
            "gridcolor": "#506784",
            "linecolor": "#506784",
            "ticks": ""
           },
           "baxis": {
            "gridcolor": "#506784",
            "linecolor": "#506784",
            "ticks": ""
           },
           "bgcolor": "rgb(17,17,17)",
           "caxis": {
            "gridcolor": "#506784",
            "linecolor": "#506784",
            "ticks": ""
           }
          },
          "title": {
           "x": 0.05
          },
          "updatemenudefaults": {
           "bgcolor": "#506784",
           "borderwidth": 0
          },
          "xaxis": {
           "automargin": true,
           "gridcolor": "#283442",
           "linecolor": "#506784",
           "ticks": "",
           "zerolinecolor": "#283442",
           "zerolinewidth": 2
          },
          "yaxis": {
           "automargin": true,
           "gridcolor": "#283442",
           "linecolor": "#506784",
           "ticks": "",
           "zerolinecolor": "#283442",
           "zerolinewidth": 2
          }
         }
        },
        "xaxis": {
         "anchor": "y",
         "domain": [
          0,
          0.98
         ],
         "title": {
          "text": "name"
         }
        },
        "yaxis": {
         "anchor": "x",
         "domain": [
          0,
          1
         ],
         "title": {
          "text": "rep/ans"
         }
        }
       }
      },
      "text/html": [
       "<div>\n",
       "        \n",
       "        \n",
       "            <div id=\"f7eba25a-2081-4f8c-b2e2-6e4acd491bb2\" class=\"plotly-graph-div\" style=\"height:600px; width:100%;\"></div>\n",
       "            <script type=\"text/javascript\">\n",
       "                require([\"plotly\"], function(Plotly) {\n",
       "                    window.PLOTLYENV=window.PLOTLYENV || {};\n",
       "                    \n",
       "                if (document.getElementById(\"f7eba25a-2081-4f8c-b2e2-6e4acd491bb2\")) {\n",
       "                    Plotly.newPlot(\n",
       "                        'f7eba25a-2081-4f8c-b2e2-6e4acd491bb2',\n",
       "                        [{\"alignmentgroup\": \"True\", \"hoverlabel\": {\"namelength\": 0}, \"hovertemplate\": \"name=%{x}<br>rep/ans=%{y}\", \"legendgroup\": \"\", \"marker\": {\"color\": \"#636efa\"}, \"name\": \"\", \"offsetgroup\": \"\", \"orientation\": \"v\", \"showlegend\": false, \"textposition\": \"auto\", \"type\": \"bar\", \"x\": [\"Neil Slater\", \"Franck Dernoncourt\", \"Jan van der Vegt\", \"Ryan Zotti\", \"StatsSorceress\", \"stmax\", \"Elias Strehle\", \"I_Play_With_Data\", \"Shamit Verma\", \"thanatoz\", \"Peter\", \"Kiritee Gak\", \"Stephen Rauch\", \"Antonio Juri\\u0107\", \"tuomastik\", \"TitoOrt\", \"Aditya\", \"n1k31t4\", \"Ankit Seth\", \"Juan Esteban de la Calle\"], \"xaxis\": \"x\", \"y\": [522.8888888888889, 365.6, 304.1304347826087, 284.8888888888889, 149.25, 140.9, 131.1, 129.4, 125.28571428571429, 112.5, 96.94117647058823, 91.93333333333334, 84.10526315789474, 78.9, 78.1, 74.72727272727273, 71.68181818181819, 69.92307692307692, 68.17647058823529, 62.666666666666664], \"yaxis\": \"y\"}],\n",
       "                        {\"barmode\": \"relative\", \"height\": 600, \"legend\": {\"tracegroupgap\": 0}, \"margin\": {\"t\": 60}, \"template\": {\"data\": {\"bar\": [{\"error_x\": {\"color\": \"#f2f5fa\"}, \"error_y\": {\"color\": \"#f2f5fa\"}, \"marker\": {\"line\": {\"color\": \"rgb(17,17,17)\", \"width\": 0.5}}, \"type\": \"bar\"}], \"barpolar\": [{\"marker\": {\"line\": {\"color\": \"rgb(17,17,17)\", \"width\": 0.5}}, \"type\": \"barpolar\"}], \"carpet\": [{\"aaxis\": {\"endlinecolor\": \"#A2B1C6\", \"gridcolor\": \"#506784\", \"linecolor\": \"#506784\", \"minorgridcolor\": \"#506784\", \"startlinecolor\": \"#A2B1C6\"}, \"baxis\": {\"endlinecolor\": \"#A2B1C6\", \"gridcolor\": \"#506784\", \"linecolor\": \"#506784\", \"minorgridcolor\": \"#506784\", \"startlinecolor\": \"#A2B1C6\"}, \"type\": \"carpet\"}], \"choropleth\": [{\"colorbar\": {\"outlinewidth\": 0, \"ticks\": \"\"}, \"type\": \"choropleth\"}], \"contour\": [{\"colorbar\": {\"outlinewidth\": 0, \"ticks\": \"\"}, \"colorscale\": [[0.0, \"#0d0887\"], [0.1111111111111111, \"#46039f\"], [0.2222222222222222, \"#7201a8\"], [0.3333333333333333, \"#9c179e\"], [0.4444444444444444, \"#bd3786\"], [0.5555555555555556, \"#d8576b\"], [0.6666666666666666, \"#ed7953\"], [0.7777777777777778, \"#fb9f3a\"], [0.8888888888888888, \"#fdca26\"], [1.0, \"#f0f921\"]], \"type\": \"contour\"}], \"contourcarpet\": [{\"colorbar\": {\"outlinewidth\": 0, \"ticks\": \"\"}, \"type\": \"contourcarpet\"}], \"heatmap\": [{\"colorbar\": {\"outlinewidth\": 0, \"ticks\": \"\"}, \"colorscale\": [[0.0, \"#0d0887\"], [0.1111111111111111, \"#46039f\"], [0.2222222222222222, \"#7201a8\"], [0.3333333333333333, \"#9c179e\"], [0.4444444444444444, \"#bd3786\"], [0.5555555555555556, \"#d8576b\"], [0.6666666666666666, \"#ed7953\"], [0.7777777777777778, \"#fb9f3a\"], [0.8888888888888888, \"#fdca26\"], [1.0, \"#f0f921\"]], \"type\": \"heatmap\"}], \"heatmapgl\": [{\"colorbar\": {\"outlinewidth\": 0, \"ticks\": \"\"}, \"colorscale\": [[0.0, \"#0d0887\"], [0.1111111111111111, \"#46039f\"], [0.2222222222222222, \"#7201a8\"], [0.3333333333333333, \"#9c179e\"], [0.4444444444444444, \"#bd3786\"], [0.5555555555555556, \"#d8576b\"], [0.6666666666666666, \"#ed7953\"], [0.7777777777777778, \"#fb9f3a\"], [0.8888888888888888, \"#fdca26\"], [1.0, \"#f0f921\"]], \"type\": \"heatmapgl\"}], \"histogram\": [{\"marker\": {\"colorbar\": {\"outlinewidth\": 0, \"ticks\": \"\"}}, \"type\": \"histogram\"}], \"histogram2d\": [{\"colorbar\": {\"outlinewidth\": 0, \"ticks\": \"\"}, \"colorscale\": [[0.0, \"#0d0887\"], [0.1111111111111111, \"#46039f\"], [0.2222222222222222, \"#7201a8\"], [0.3333333333333333, \"#9c179e\"], [0.4444444444444444, \"#bd3786\"], [0.5555555555555556, \"#d8576b\"], [0.6666666666666666, \"#ed7953\"], [0.7777777777777778, \"#fb9f3a\"], [0.8888888888888888, \"#fdca26\"], [1.0, \"#f0f921\"]], \"type\": \"histogram2d\"}], \"histogram2dcontour\": [{\"colorbar\": {\"outlinewidth\": 0, \"ticks\": \"\"}, \"colorscale\": [[0.0, \"#0d0887\"], [0.1111111111111111, \"#46039f\"], [0.2222222222222222, \"#7201a8\"], [0.3333333333333333, \"#9c179e\"], [0.4444444444444444, \"#bd3786\"], [0.5555555555555556, \"#d8576b\"], [0.6666666666666666, \"#ed7953\"], [0.7777777777777778, \"#fb9f3a\"], [0.8888888888888888, \"#fdca26\"], [1.0, \"#f0f921\"]], \"type\": \"histogram2dcontour\"}], \"mesh3d\": [{\"colorbar\": {\"outlinewidth\": 0, \"ticks\": \"\"}, \"type\": \"mesh3d\"}], \"parcoords\": [{\"line\": {\"colorbar\": {\"outlinewidth\": 0, \"ticks\": \"\"}}, \"type\": \"parcoords\"}], \"scatter\": [{\"marker\": {\"line\": {\"color\": \"#283442\"}}, \"type\": \"scatter\"}], \"scatter3d\": [{\"line\": {\"colorbar\": {\"outlinewidth\": 0, \"ticks\": \"\"}}, \"marker\": {\"colorbar\": {\"outlinewidth\": 0, \"ticks\": \"\"}}, \"type\": \"scatter3d\"}], \"scattercarpet\": [{\"marker\": {\"colorbar\": {\"outlinewidth\": 0, \"ticks\": \"\"}}, \"type\": \"scattercarpet\"}], \"scattergeo\": [{\"marker\": {\"colorbar\": {\"outlinewidth\": 0, \"ticks\": \"\"}}, \"type\": \"scattergeo\"}], \"scattergl\": [{\"marker\": {\"line\": {\"color\": \"#283442\"}}, \"type\": \"scattergl\"}], \"scattermapbox\": [{\"marker\": {\"colorbar\": {\"outlinewidth\": 0, \"ticks\": \"\"}}, \"type\": \"scattermapbox\"}], \"scatterpolar\": [{\"marker\": {\"colorbar\": {\"outlinewidth\": 0, \"ticks\": \"\"}}, \"type\": \"scatterpolar\"}], \"scatterpolargl\": [{\"marker\": {\"colorbar\": {\"outlinewidth\": 0, \"ticks\": \"\"}}, \"type\": \"scatterpolargl\"}], \"scatterternary\": [{\"marker\": {\"colorbar\": {\"outlinewidth\": 0, \"ticks\": \"\"}}, \"type\": \"scatterternary\"}], \"surface\": [{\"colorbar\": {\"outlinewidth\": 0, \"ticks\": \"\"}, \"colorscale\": [[0.0, \"#0d0887\"], [0.1111111111111111, \"#46039f\"], [0.2222222222222222, \"#7201a8\"], [0.3333333333333333, \"#9c179e\"], [0.4444444444444444, \"#bd3786\"], [0.5555555555555556, \"#d8576b\"], [0.6666666666666666, \"#ed7953\"], [0.7777777777777778, \"#fb9f3a\"], [0.8888888888888888, \"#fdca26\"], [1.0, \"#f0f921\"]], \"type\": \"surface\"}], \"table\": [{\"cells\": {\"fill\": {\"color\": \"#506784\"}, \"line\": {\"color\": \"rgb(17,17,17)\"}}, \"header\": {\"fill\": {\"color\": \"#2a3f5f\"}, \"line\": {\"color\": \"rgb(17,17,17)\"}}, \"type\": \"table\"}]}, \"layout\": {\"annotationdefaults\": {\"arrowcolor\": \"#f2f5fa\", \"arrowhead\": 0, \"arrowwidth\": 1}, \"colorscale\": {\"diverging\": [[0, \"#8e0152\"], [0.1, \"#c51b7d\"], [0.2, \"#de77ae\"], [0.3, \"#f1b6da\"], [0.4, \"#fde0ef\"], [0.5, \"#f7f7f7\"], [0.6, \"#e6f5d0\"], [0.7, \"#b8e186\"], [0.8, \"#7fbc41\"], [0.9, \"#4d9221\"], [1, \"#276419\"]], \"sequential\": [[0.0, \"#0d0887\"], [0.1111111111111111, \"#46039f\"], [0.2222222222222222, \"#7201a8\"], [0.3333333333333333, \"#9c179e\"], [0.4444444444444444, \"#bd3786\"], [0.5555555555555556, \"#d8576b\"], [0.6666666666666666, \"#ed7953\"], [0.7777777777777778, \"#fb9f3a\"], [0.8888888888888888, \"#fdca26\"], [1.0, \"#f0f921\"]], \"sequentialminus\": [[0.0, \"#0d0887\"], [0.1111111111111111, \"#46039f\"], [0.2222222222222222, \"#7201a8\"], [0.3333333333333333, \"#9c179e\"], [0.4444444444444444, \"#bd3786\"], [0.5555555555555556, \"#d8576b\"], [0.6666666666666666, \"#ed7953\"], [0.7777777777777778, \"#fb9f3a\"], [0.8888888888888888, \"#fdca26\"], [1.0, \"#f0f921\"]]}, \"colorway\": [\"#636efa\", \"#EF553B\", \"#00cc96\", \"#ab63fa\", \"#FFA15A\", \"#19d3f3\", \"#FF6692\", \"#B6E880\", \"#FF97FF\", \"#FECB52\"], \"font\": {\"color\": \"#f2f5fa\"}, \"geo\": {\"bgcolor\": \"rgb(17,17,17)\", \"lakecolor\": \"rgb(17,17,17)\", \"landcolor\": \"rgb(17,17,17)\", \"showlakes\": true, \"showland\": true, \"subunitcolor\": \"#506784\"}, \"hoverlabel\": {\"align\": \"left\"}, \"hovermode\": \"closest\", \"mapbox\": {\"style\": \"dark\"}, \"paper_bgcolor\": \"rgb(17,17,17)\", \"plot_bgcolor\": \"rgb(17,17,17)\", \"polar\": {\"angularaxis\": {\"gridcolor\": \"#506784\", \"linecolor\": \"#506784\", \"ticks\": \"\"}, \"bgcolor\": \"rgb(17,17,17)\", \"radialaxis\": {\"gridcolor\": \"#506784\", \"linecolor\": \"#506784\", \"ticks\": \"\"}}, \"scene\": {\"xaxis\": {\"backgroundcolor\": \"rgb(17,17,17)\", \"gridcolor\": \"#506784\", \"gridwidth\": 2, \"linecolor\": \"#506784\", \"showbackground\": true, \"ticks\": \"\", \"zerolinecolor\": \"#C8D4E3\"}, \"yaxis\": {\"backgroundcolor\": \"rgb(17,17,17)\", \"gridcolor\": \"#506784\", \"gridwidth\": 2, \"linecolor\": \"#506784\", \"showbackground\": true, \"ticks\": \"\", \"zerolinecolor\": \"#C8D4E3\"}, \"zaxis\": {\"backgroundcolor\": \"rgb(17,17,17)\", \"gridcolor\": \"#506784\", \"gridwidth\": 2, \"linecolor\": \"#506784\", \"showbackground\": true, \"ticks\": \"\", \"zerolinecolor\": \"#C8D4E3\"}}, \"shapedefaults\": {\"line\": {\"color\": \"#f2f5fa\"}}, \"sliderdefaults\": {\"bgcolor\": \"#C8D4E3\", \"bordercolor\": \"rgb(17,17,17)\", \"borderwidth\": 1, \"tickwidth\": 0}, \"ternary\": {\"aaxis\": {\"gridcolor\": \"#506784\", \"linecolor\": \"#506784\", \"ticks\": \"\"}, \"baxis\": {\"gridcolor\": \"#506784\", \"linecolor\": \"#506784\", \"ticks\": \"\"}, \"bgcolor\": \"rgb(17,17,17)\", \"caxis\": {\"gridcolor\": \"#506784\", \"linecolor\": \"#506784\", \"ticks\": \"\"}}, \"title\": {\"x\": 0.05}, \"updatemenudefaults\": {\"bgcolor\": \"#506784\", \"borderwidth\": 0}, \"xaxis\": {\"automargin\": true, \"gridcolor\": \"#283442\", \"linecolor\": \"#506784\", \"ticks\": \"\", \"zerolinecolor\": \"#283442\", \"zerolinewidth\": 2}, \"yaxis\": {\"automargin\": true, \"gridcolor\": \"#283442\", \"linecolor\": \"#506784\", \"ticks\": \"\", \"zerolinecolor\": \"#283442\", \"zerolinewidth\": 2}}}, \"xaxis\": {\"anchor\": \"y\", \"domain\": [0.0, 0.98], \"title\": {\"text\": \"name\"}}, \"yaxis\": {\"anchor\": \"x\", \"domain\": [0.0, 1.0], \"title\": {\"text\": \"rep/ans\"}}},\n",
       "                        {\"responsive\": true}\n",
       "                    ).then(function(){\n",
       "                            \n",
       "var gd = document.getElementById('f7eba25a-2081-4f8c-b2e2-6e4acd491bb2');\n",
       "var x = new MutationObserver(function (mutations, observer) {{\n",
       "        var display = window.getComputedStyle(gd).display;\n",
       "        if (!display || display === 'none') {{\n",
       "            console.log([gd, 'removed!']);\n",
       "            Plotly.purge(gd);\n",
       "            observer.disconnect();\n",
       "        }}\n",
       "}});\n",
       "\n",
       "// Listen for the removal of the full notebook cells\n",
       "var notebookContainer = gd.closest('#notebook-container');\n",
       "if (notebookContainer) {{\n",
       "    x.observe(notebookContainer, {childList: true});\n",
       "}}\n",
       "\n",
       "// Listen for the clearing of the current output cell\n",
       "var outputEl = gd.closest('.output');\n",
       "if (outputEl) {{\n",
       "    x.observe(outputEl, {childList: true});\n",
       "}}\n",
       "\n",
       "                        })\n",
       "                };\n",
       "                });\n",
       "            </script>\n",
       "        </div>"
      ]
     },
     "metadata": {},
     "output_type": "display_data"
    }
   ],
   "source": [
    "import plotly_express as px         \n",
    "px.bar(sort_by, x='name', y='rep/ans', template='plotly_dark')"
   ]
  },
  {
   "cell_type": "code",
   "execution_count": 127,
   "metadata": {},
   "outputs": [
    {
     "data": {
      "application/vnd.plotly.v1+json": {
       "config": {
        "plotlyServerURL": "https://plot.ly"
       },
       "data": [
        {
         "hoverlabel": {
          "namelength": 0
         },
         "hovertemplate": "name=n1k31t4<br>rep/ans=%{marker.size}<br>answers=%{x}<br>rep=%{y}",
         "legendgroup": "name=n1k31t4, rep/ans=69.92307692307692",
         "marker": {
          "color": "#636efa",
          "size": [
           69.92307692307692
          ],
          "sizemode": "area",
          "sizeref": 1.3072222222222223,
          "symbol": "circle"
         },
         "mode": "markers",
         "name": "name=n1k31t4, rep/ans=69.92307692307692",
         "showlegend": true,
         "type": "scatter",
         "x": [
          117
         ],
         "xaxis": "x",
         "y": [
          "8181"
         ],
         "yaxis": "y"
        },
        {
         "hoverlabel": {
          "namelength": 0
         },
         "hovertemplate": "name=Neil Slater<br>rep/ans=%{marker.size}<br>answers=%{x}<br>rep=%{y}",
         "legendgroup": "name=Neil Slater, rep/ans=522.8888888888889",
         "marker": {
          "color": "#EF553B",
          "size": [
           522.8888888888889
          ],
          "sizemode": "area",
          "sizeref": 1.3072222222222223,
          "symbol": "diamond"
         },
         "mode": "markers",
         "name": "name=Neil Slater, rep/ans=522.8888888888889",
         "showlegend": true,
         "type": "scatter",
         "x": [
          36
         ],
         "xaxis": "x",
         "y": [
          "18824"
         ],
         "yaxis": "y"
        },
        {
         "hoverlabel": {
          "namelength": 0
         },
         "hovertemplate": "name=Juan Esteban de la Calle<br>rep/ans=%{marker.size}<br>answers=%{x}<br>rep=%{y}",
         "legendgroup": "name=Juan Esteban de la Calle, rep/ans=62.666666666666664",
         "marker": {
          "color": "#00cc96",
          "size": [
           62.666666666666664
          ],
          "sizemode": "area",
          "sizeref": 1.3072222222222223,
          "symbol": "square"
         },
         "mode": "markers",
         "name": "name=Juan Esteban de la Calle, rep/ans=62.666666666666664",
         "showlegend": true,
         "type": "scatter",
         "x": [
          24
         ],
         "xaxis": "x",
         "y": [
          "1504"
         ],
         "yaxis": "y"
        },
        {
         "hoverlabel": {
          "namelength": 0
         },
         "hovertemplate": "name=Jan van der Vegt<br>rep/ans=%{marker.size}<br>answers=%{x}<br>rep=%{y}",
         "legendgroup": "name=Jan van der Vegt, rep/ans=304.1304347826087",
         "marker": {
          "color": "#ab63fa",
          "size": [
           304.1304347826087
          ],
          "sizemode": "area",
          "sizeref": 1.3072222222222223,
          "symbol": "x"
         },
         "mode": "markers",
         "name": "name=Jan van der Vegt, rep/ans=304.1304347826087",
         "showlegend": true,
         "type": "scatter",
         "x": [
          23
         ],
         "xaxis": "x",
         "y": [
          "6995"
         ],
         "yaxis": "y"
        },
        {
         "hoverlabel": {
          "namelength": 0
         },
         "hovertemplate": "name=Aditya<br>rep/ans=%{marker.size}<br>answers=%{x}<br>rep=%{y}",
         "legendgroup": "name=Aditya, rep/ans=71.68181818181819",
         "marker": {
          "color": "#FFA15A",
          "size": [
           71.68181818181819
          ],
          "sizemode": "area",
          "sizeref": 1.3072222222222223,
          "symbol": "cross"
         },
         "mode": "markers",
         "name": "name=Aditya, rep/ans=71.68181818181819",
         "showlegend": true,
         "type": "scatter",
         "x": [
          22
         ],
         "xaxis": "x",
         "y": [
          "1577"
         ],
         "yaxis": "y"
        },
        {
         "hoverlabel": {
          "namelength": 0
         },
         "hovertemplate": "name=Stephen Rauch<br>rep/ans=%{marker.size}<br>answers=%{x}<br>rep=%{y}",
         "legendgroup": "name=Stephen Rauch, rep/ans=84.10526315789474",
         "marker": {
          "color": "#19d3f3",
          "size": [
           84.10526315789474
          ],
          "sizemode": "area",
          "sizeref": 1.3072222222222223,
          "symbol": "circle"
         },
         "mode": "markers",
         "name": "name=Stephen Rauch, rep/ans=84.10526315789474",
         "showlegend": true,
         "type": "scatter",
         "x": [
          19
         ],
         "xaxis": "x",
         "y": [
          "1598"
         ],
         "yaxis": "y"
        },
        {
         "hoverlabel": {
          "namelength": 0
         },
         "hovertemplate": "name=Peter<br>rep/ans=%{marker.size}<br>answers=%{x}<br>rep=%{y}",
         "legendgroup": "name=Peter, rep/ans=96.94117647058823",
         "marker": {
          "color": "#FF6692",
          "size": [
           96.94117647058823
          ],
          "sizemode": "area",
          "sizeref": 1.3072222222222223,
          "symbol": "diamond"
         },
         "mode": "markers",
         "name": "name=Peter, rep/ans=96.94117647058823",
         "showlegend": true,
         "type": "scatter",
         "x": [
          17
         ],
         "xaxis": "x",
         "y": [
          "1648"
         ],
         "yaxis": "y"
        },
        {
         "hoverlabel": {
          "namelength": 0
         },
         "hovertemplate": "name=Ankit Seth<br>rep/ans=%{marker.size}<br>answers=%{x}<br>rep=%{y}",
         "legendgroup": "name=Ankit Seth, rep/ans=68.17647058823529",
         "marker": {
          "color": "#B6E880",
          "size": [
           68.17647058823529
          ],
          "sizemode": "area",
          "sizeref": 1.3072222222222223,
          "symbol": "square"
         },
         "mode": "markers",
         "name": "name=Ankit Seth, rep/ans=68.17647058823529",
         "showlegend": true,
         "type": "scatter",
         "x": [
          17
         ],
         "xaxis": "x",
         "y": [
          "1159"
         ],
         "yaxis": "y"
        },
        {
         "hoverlabel": {
          "namelength": 0
         },
         "hovertemplate": "name=Kiritee Gak<br>rep/ans=%{marker.size}<br>answers=%{x}<br>rep=%{y}",
         "legendgroup": "name=Kiritee Gak, rep/ans=91.93333333333334",
         "marker": {
          "color": "#FF97FF",
          "size": [
           91.93333333333334
          ],
          "sizemode": "area",
          "sizeref": 1.3072222222222223,
          "symbol": "x"
         },
         "mode": "markers",
         "name": "name=Kiritee Gak, rep/ans=91.93333333333334",
         "showlegend": true,
         "type": "scatter",
         "x": [
          15
         ],
         "xaxis": "x",
         "y": [
          "1379"
         ],
         "yaxis": "y"
        },
        {
         "hoverlabel": {
          "namelength": 0
         },
         "hovertemplate": "name=Shamit Verma<br>rep/ans=%{marker.size}<br>answers=%{x}<br>rep=%{y}",
         "legendgroup": "name=Shamit Verma, rep/ans=125.28571428571429",
         "marker": {
          "color": "#FECB52",
          "size": [
           125.28571428571429
          ],
          "sizemode": "area",
          "sizeref": 1.3072222222222223,
          "symbol": "cross"
         },
         "mode": "markers",
         "name": "name=Shamit Verma, rep/ans=125.28571428571429",
         "showlegend": true,
         "type": "scatter",
         "x": [
          14
         ],
         "xaxis": "x",
         "y": [
          "1754"
         ],
         "yaxis": "y"
        },
        {
         "hoverlabel": {
          "namelength": 0
         },
         "hovertemplate": "name=TitoOrt<br>rep/ans=%{marker.size}<br>answers=%{x}<br>rep=%{y}",
         "legendgroup": "name=TitoOrt, rep/ans=74.72727272727273",
         "marker": {
          "color": "#636efa",
          "size": [
           74.72727272727273
          ],
          "sizemode": "area",
          "sizeref": 1.3072222222222223,
          "symbol": "circle"
         },
         "mode": "markers",
         "name": "name=TitoOrt, rep/ans=74.72727272727273",
         "showlegend": true,
         "type": "scatter",
         "x": [
          11
         ],
         "xaxis": "x",
         "y": [
          "822"
         ],
         "yaxis": "y"
        },
        {
         "hoverlabel": {
          "namelength": 0
         },
         "hovertemplate": "name=Franck Dernoncourt<br>rep/ans=%{marker.size}<br>answers=%{x}<br>rep=%{y}",
         "legendgroup": "name=Franck Dernoncourt, rep/ans=365.6",
         "marker": {
          "color": "#EF553B",
          "size": [
           365.6
          ],
          "sizemode": "area",
          "sizeref": 1.3072222222222223,
          "symbol": "diamond"
         },
         "mode": "markers",
         "name": "name=Franck Dernoncourt, rep/ans=365.6",
         "showlegend": true,
         "type": "scatter",
         "x": [
          10
         ],
         "xaxis": "x",
         "y": [
          "3656"
         ],
         "yaxis": "y"
        },
        {
         "hoverlabel": {
          "namelength": 0
         },
         "hovertemplate": "name=Elias Strehle<br>rep/ans=%{marker.size}<br>answers=%{x}<br>rep=%{y}",
         "legendgroup": "name=Elias Strehle, rep/ans=131.1",
         "marker": {
          "color": "#00cc96",
          "size": [
           131.1
          ],
          "sizemode": "area",
          "sizeref": 1.3072222222222223,
          "symbol": "square"
         },
         "mode": "markers",
         "name": "name=Elias Strehle, rep/ans=131.1",
         "showlegend": true,
         "type": "scatter",
         "x": [
          10
         ],
         "xaxis": "x",
         "y": [
          "1311"
         ],
         "yaxis": "y"
        },
        {
         "hoverlabel": {
          "namelength": 0
         },
         "hovertemplate": "name=stmax<br>rep/ans=%{marker.size}<br>answers=%{x}<br>rep=%{y}",
         "legendgroup": "name=stmax, rep/ans=140.9",
         "marker": {
          "color": "#ab63fa",
          "size": [
           140.9
          ],
          "sizemode": "area",
          "sizeref": 1.3072222222222223,
          "symbol": "x"
         },
         "mode": "markers",
         "name": "name=stmax, rep/ans=140.9",
         "showlegend": true,
         "type": "scatter",
         "x": [
          10
         ],
         "xaxis": "x",
         "y": [
          "1409"
         ],
         "yaxis": "y"
        },
        {
         "hoverlabel": {
          "namelength": 0
         },
         "hovertemplate": "name=I_Play_With_Data<br>rep/ans=%{marker.size}<br>answers=%{x}<br>rep=%{y}",
         "legendgroup": "name=I_Play_With_Data, rep/ans=129.4",
         "marker": {
          "color": "#FFA15A",
          "size": [
           129.4
          ],
          "sizemode": "area",
          "sizeref": 1.3072222222222223,
          "symbol": "cross"
         },
         "mode": "markers",
         "name": "name=I_Play_With_Data, rep/ans=129.4",
         "showlegend": true,
         "type": "scatter",
         "x": [
          10
         ],
         "xaxis": "x",
         "y": [
          "1294"
         ],
         "yaxis": "y"
        },
        {
         "hoverlabel": {
          "namelength": 0
         },
         "hovertemplate": "name=Antonio Jurić<br>rep/ans=%{marker.size}<br>answers=%{x}<br>rep=%{y}",
         "legendgroup": "name=Antonio Jurić, rep/ans=78.9",
         "marker": {
          "color": "#19d3f3",
          "size": [
           78.9
          ],
          "sizemode": "area",
          "sizeref": 1.3072222222222223,
          "symbol": "circle"
         },
         "mode": "markers",
         "name": "name=Antonio Jurić, rep/ans=78.9",
         "showlegend": true,
         "type": "scatter",
         "x": [
          10
         ],
         "xaxis": "x",
         "y": [
          "789"
         ],
         "yaxis": "y"
        },
        {
         "hoverlabel": {
          "namelength": 0
         },
         "hovertemplate": "name=tuomastik<br>rep/ans=%{marker.size}<br>answers=%{x}<br>rep=%{y}",
         "legendgroup": "name=tuomastik, rep/ans=78.1",
         "marker": {
          "color": "#FF6692",
          "size": [
           78.1
          ],
          "sizemode": "area",
          "sizeref": 1.3072222222222223,
          "symbol": "diamond"
         },
         "mode": "markers",
         "name": "name=tuomastik, rep/ans=78.1",
         "showlegend": true,
         "type": "scatter",
         "x": [
          10
         ],
         "xaxis": "x",
         "y": [
          "781"
         ],
         "yaxis": "y"
        },
        {
         "hoverlabel": {
          "namelength": 0
         },
         "hovertemplate": "name=Ryan Zotti<br>rep/ans=%{marker.size}<br>answers=%{x}<br>rep=%{y}",
         "legendgroup": "name=Ryan Zotti, rep/ans=284.8888888888889",
         "marker": {
          "color": "#B6E880",
          "size": [
           284.8888888888889
          ],
          "sizemode": "area",
          "sizeref": 1.3072222222222223,
          "symbol": "square"
         },
         "mode": "markers",
         "name": "name=Ryan Zotti, rep/ans=284.8888888888889",
         "showlegend": true,
         "type": "scatter",
         "x": [
          9
         ],
         "xaxis": "x",
         "y": [
          "2564"
         ],
         "yaxis": "y"
        },
        {
         "hoverlabel": {
          "namelength": 0
         },
         "hovertemplate": "name=StatsSorceress<br>rep/ans=%{marker.size}<br>answers=%{x}<br>rep=%{y}",
         "legendgroup": "name=StatsSorceress, rep/ans=149.25",
         "marker": {
          "color": "#FF97FF",
          "size": [
           149.25
          ],
          "sizemode": "area",
          "sizeref": 1.3072222222222223,
          "symbol": "x"
         },
         "mode": "markers",
         "name": "name=StatsSorceress, rep/ans=149.25",
         "showlegend": true,
         "type": "scatter",
         "x": [
          8
         ],
         "xaxis": "x",
         "y": [
          "1194"
         ],
         "yaxis": "y"
        },
        {
         "hoverlabel": {
          "namelength": 0
         },
         "hovertemplate": "name=Tophat<br>rep/ans=%{marker.size}<br>answers=%{x}<br>rep=%{y}",
         "legendgroup": "name=Tophat, rep/ans=194.0",
         "marker": {
          "color": "#FECB52",
          "size": [
           194
          ],
          "sizemode": "area",
          "sizeref": 1.3072222222222223,
          "symbol": "cross"
         },
         "mode": "markers",
         "name": "name=Tophat, rep/ans=194.0",
         "showlegend": true,
         "type": "scatter",
         "x": [
          8
         ],
         "xaxis": "x",
         "y": [
          "1552"
         ],
         "yaxis": "y"
        }
       ],
       "layout": {
        "height": 600,
        "legend": {
         "itemsizing": "constant",
         "tracegroupgap": 0
        },
        "margin": {
         "t": 60
        },
        "template": {
         "data": {
          "bar": [
           {
            "error_x": {
             "color": "#f2f5fa"
            },
            "error_y": {
             "color": "#f2f5fa"
            },
            "marker": {
             "line": {
              "color": "rgb(17,17,17)",
              "width": 0.5
             }
            },
            "type": "bar"
           }
          ],
          "barpolar": [
           {
            "marker": {
             "line": {
              "color": "rgb(17,17,17)",
              "width": 0.5
             }
            },
            "type": "barpolar"
           }
          ],
          "carpet": [
           {
            "aaxis": {
             "endlinecolor": "#A2B1C6",
             "gridcolor": "#506784",
             "linecolor": "#506784",
             "minorgridcolor": "#506784",
             "startlinecolor": "#A2B1C6"
            },
            "baxis": {
             "endlinecolor": "#A2B1C6",
             "gridcolor": "#506784",
             "linecolor": "#506784",
             "minorgridcolor": "#506784",
             "startlinecolor": "#A2B1C6"
            },
            "type": "carpet"
           }
          ],
          "choropleth": [
           {
            "colorbar": {
             "outlinewidth": 0,
             "ticks": ""
            },
            "type": "choropleth"
           }
          ],
          "contour": [
           {
            "colorbar": {
             "outlinewidth": 0,
             "ticks": ""
            },
            "colorscale": [
             [
              0,
              "#0d0887"
             ],
             [
              0.1111111111111111,
              "#46039f"
             ],
             [
              0.2222222222222222,
              "#7201a8"
             ],
             [
              0.3333333333333333,
              "#9c179e"
             ],
             [
              0.4444444444444444,
              "#bd3786"
             ],
             [
              0.5555555555555556,
              "#d8576b"
             ],
             [
              0.6666666666666666,
              "#ed7953"
             ],
             [
              0.7777777777777778,
              "#fb9f3a"
             ],
             [
              0.8888888888888888,
              "#fdca26"
             ],
             [
              1,
              "#f0f921"
             ]
            ],
            "type": "contour"
           }
          ],
          "contourcarpet": [
           {
            "colorbar": {
             "outlinewidth": 0,
             "ticks": ""
            },
            "type": "contourcarpet"
           }
          ],
          "heatmap": [
           {
            "colorbar": {
             "outlinewidth": 0,
             "ticks": ""
            },
            "colorscale": [
             [
              0,
              "#0d0887"
             ],
             [
              0.1111111111111111,
              "#46039f"
             ],
             [
              0.2222222222222222,
              "#7201a8"
             ],
             [
              0.3333333333333333,
              "#9c179e"
             ],
             [
              0.4444444444444444,
              "#bd3786"
             ],
             [
              0.5555555555555556,
              "#d8576b"
             ],
             [
              0.6666666666666666,
              "#ed7953"
             ],
             [
              0.7777777777777778,
              "#fb9f3a"
             ],
             [
              0.8888888888888888,
              "#fdca26"
             ],
             [
              1,
              "#f0f921"
             ]
            ],
            "type": "heatmap"
           }
          ],
          "heatmapgl": [
           {
            "colorbar": {
             "outlinewidth": 0,
             "ticks": ""
            },
            "colorscale": [
             [
              0,
              "#0d0887"
             ],
             [
              0.1111111111111111,
              "#46039f"
             ],
             [
              0.2222222222222222,
              "#7201a8"
             ],
             [
              0.3333333333333333,
              "#9c179e"
             ],
             [
              0.4444444444444444,
              "#bd3786"
             ],
             [
              0.5555555555555556,
              "#d8576b"
             ],
             [
              0.6666666666666666,
              "#ed7953"
             ],
             [
              0.7777777777777778,
              "#fb9f3a"
             ],
             [
              0.8888888888888888,
              "#fdca26"
             ],
             [
              1,
              "#f0f921"
             ]
            ],
            "type": "heatmapgl"
           }
          ],
          "histogram": [
           {
            "marker": {
             "colorbar": {
              "outlinewidth": 0,
              "ticks": ""
             }
            },
            "type": "histogram"
           }
          ],
          "histogram2d": [
           {
            "colorbar": {
             "outlinewidth": 0,
             "ticks": ""
            },
            "colorscale": [
             [
              0,
              "#0d0887"
             ],
             [
              0.1111111111111111,
              "#46039f"
             ],
             [
              0.2222222222222222,
              "#7201a8"
             ],
             [
              0.3333333333333333,
              "#9c179e"
             ],
             [
              0.4444444444444444,
              "#bd3786"
             ],
             [
              0.5555555555555556,
              "#d8576b"
             ],
             [
              0.6666666666666666,
              "#ed7953"
             ],
             [
              0.7777777777777778,
              "#fb9f3a"
             ],
             [
              0.8888888888888888,
              "#fdca26"
             ],
             [
              1,
              "#f0f921"
             ]
            ],
            "type": "histogram2d"
           }
          ],
          "histogram2dcontour": [
           {
            "colorbar": {
             "outlinewidth": 0,
             "ticks": ""
            },
            "colorscale": [
             [
              0,
              "#0d0887"
             ],
             [
              0.1111111111111111,
              "#46039f"
             ],
             [
              0.2222222222222222,
              "#7201a8"
             ],
             [
              0.3333333333333333,
              "#9c179e"
             ],
             [
              0.4444444444444444,
              "#bd3786"
             ],
             [
              0.5555555555555556,
              "#d8576b"
             ],
             [
              0.6666666666666666,
              "#ed7953"
             ],
             [
              0.7777777777777778,
              "#fb9f3a"
             ],
             [
              0.8888888888888888,
              "#fdca26"
             ],
             [
              1,
              "#f0f921"
             ]
            ],
            "type": "histogram2dcontour"
           }
          ],
          "mesh3d": [
           {
            "colorbar": {
             "outlinewidth": 0,
             "ticks": ""
            },
            "type": "mesh3d"
           }
          ],
          "parcoords": [
           {
            "line": {
             "colorbar": {
              "outlinewidth": 0,
              "ticks": ""
             }
            },
            "type": "parcoords"
           }
          ],
          "scatter": [
           {
            "marker": {
             "line": {
              "color": "#283442"
             }
            },
            "type": "scatter"
           }
          ],
          "scatter3d": [
           {
            "line": {
             "colorbar": {
              "outlinewidth": 0,
              "ticks": ""
             }
            },
            "marker": {
             "colorbar": {
              "outlinewidth": 0,
              "ticks": ""
             }
            },
            "type": "scatter3d"
           }
          ],
          "scattercarpet": [
           {
            "marker": {
             "colorbar": {
              "outlinewidth": 0,
              "ticks": ""
             }
            },
            "type": "scattercarpet"
           }
          ],
          "scattergeo": [
           {
            "marker": {
             "colorbar": {
              "outlinewidth": 0,
              "ticks": ""
             }
            },
            "type": "scattergeo"
           }
          ],
          "scattergl": [
           {
            "marker": {
             "line": {
              "color": "#283442"
             }
            },
            "type": "scattergl"
           }
          ],
          "scattermapbox": [
           {
            "marker": {
             "colorbar": {
              "outlinewidth": 0,
              "ticks": ""
             }
            },
            "type": "scattermapbox"
           }
          ],
          "scatterpolar": [
           {
            "marker": {
             "colorbar": {
              "outlinewidth": 0,
              "ticks": ""
             }
            },
            "type": "scatterpolar"
           }
          ],
          "scatterpolargl": [
           {
            "marker": {
             "colorbar": {
              "outlinewidth": 0,
              "ticks": ""
             }
            },
            "type": "scatterpolargl"
           }
          ],
          "scatterternary": [
           {
            "marker": {
             "colorbar": {
              "outlinewidth": 0,
              "ticks": ""
             }
            },
            "type": "scatterternary"
           }
          ],
          "surface": [
           {
            "colorbar": {
             "outlinewidth": 0,
             "ticks": ""
            },
            "colorscale": [
             [
              0,
              "#0d0887"
             ],
             [
              0.1111111111111111,
              "#46039f"
             ],
             [
              0.2222222222222222,
              "#7201a8"
             ],
             [
              0.3333333333333333,
              "#9c179e"
             ],
             [
              0.4444444444444444,
              "#bd3786"
             ],
             [
              0.5555555555555556,
              "#d8576b"
             ],
             [
              0.6666666666666666,
              "#ed7953"
             ],
             [
              0.7777777777777778,
              "#fb9f3a"
             ],
             [
              0.8888888888888888,
              "#fdca26"
             ],
             [
              1,
              "#f0f921"
             ]
            ],
            "type": "surface"
           }
          ],
          "table": [
           {
            "cells": {
             "fill": {
              "color": "#506784"
             },
             "line": {
              "color": "rgb(17,17,17)"
             }
            },
            "header": {
             "fill": {
              "color": "#2a3f5f"
             },
             "line": {
              "color": "rgb(17,17,17)"
             }
            },
            "type": "table"
           }
          ]
         },
         "layout": {
          "annotationdefaults": {
           "arrowcolor": "#f2f5fa",
           "arrowhead": 0,
           "arrowwidth": 1
          },
          "colorscale": {
           "diverging": [
            [
             0,
             "#8e0152"
            ],
            [
             0.1,
             "#c51b7d"
            ],
            [
             0.2,
             "#de77ae"
            ],
            [
             0.3,
             "#f1b6da"
            ],
            [
             0.4,
             "#fde0ef"
            ],
            [
             0.5,
             "#f7f7f7"
            ],
            [
             0.6,
             "#e6f5d0"
            ],
            [
             0.7,
             "#b8e186"
            ],
            [
             0.8,
             "#7fbc41"
            ],
            [
             0.9,
             "#4d9221"
            ],
            [
             1,
             "#276419"
            ]
           ],
           "sequential": [
            [
             0,
             "#0d0887"
            ],
            [
             0.1111111111111111,
             "#46039f"
            ],
            [
             0.2222222222222222,
             "#7201a8"
            ],
            [
             0.3333333333333333,
             "#9c179e"
            ],
            [
             0.4444444444444444,
             "#bd3786"
            ],
            [
             0.5555555555555556,
             "#d8576b"
            ],
            [
             0.6666666666666666,
             "#ed7953"
            ],
            [
             0.7777777777777778,
             "#fb9f3a"
            ],
            [
             0.8888888888888888,
             "#fdca26"
            ],
            [
             1,
             "#f0f921"
            ]
           ],
           "sequentialminus": [
            [
             0,
             "#0d0887"
            ],
            [
             0.1111111111111111,
             "#46039f"
            ],
            [
             0.2222222222222222,
             "#7201a8"
            ],
            [
             0.3333333333333333,
             "#9c179e"
            ],
            [
             0.4444444444444444,
             "#bd3786"
            ],
            [
             0.5555555555555556,
             "#d8576b"
            ],
            [
             0.6666666666666666,
             "#ed7953"
            ],
            [
             0.7777777777777778,
             "#fb9f3a"
            ],
            [
             0.8888888888888888,
             "#fdca26"
            ],
            [
             1,
             "#f0f921"
            ]
           ]
          },
          "colorway": [
           "#636efa",
           "#EF553B",
           "#00cc96",
           "#ab63fa",
           "#FFA15A",
           "#19d3f3",
           "#FF6692",
           "#B6E880",
           "#FF97FF",
           "#FECB52"
          ],
          "font": {
           "color": "#f2f5fa"
          },
          "geo": {
           "bgcolor": "rgb(17,17,17)",
           "lakecolor": "rgb(17,17,17)",
           "landcolor": "rgb(17,17,17)",
           "showlakes": true,
           "showland": true,
           "subunitcolor": "#506784"
          },
          "hoverlabel": {
           "align": "left"
          },
          "hovermode": "closest",
          "mapbox": {
           "style": "dark"
          },
          "paper_bgcolor": "rgb(17,17,17)",
          "plot_bgcolor": "rgb(17,17,17)",
          "polar": {
           "angularaxis": {
            "gridcolor": "#506784",
            "linecolor": "#506784",
            "ticks": ""
           },
           "bgcolor": "rgb(17,17,17)",
           "radialaxis": {
            "gridcolor": "#506784",
            "linecolor": "#506784",
            "ticks": ""
           }
          },
          "scene": {
           "xaxis": {
            "backgroundcolor": "rgb(17,17,17)",
            "gridcolor": "#506784",
            "gridwidth": 2,
            "linecolor": "#506784",
            "showbackground": true,
            "ticks": "",
            "zerolinecolor": "#C8D4E3"
           },
           "yaxis": {
            "backgroundcolor": "rgb(17,17,17)",
            "gridcolor": "#506784",
            "gridwidth": 2,
            "linecolor": "#506784",
            "showbackground": true,
            "ticks": "",
            "zerolinecolor": "#C8D4E3"
           },
           "zaxis": {
            "backgroundcolor": "rgb(17,17,17)",
            "gridcolor": "#506784",
            "gridwidth": 2,
            "linecolor": "#506784",
            "showbackground": true,
            "ticks": "",
            "zerolinecolor": "#C8D4E3"
           }
          },
          "shapedefaults": {
           "line": {
            "color": "#f2f5fa"
           }
          },
          "sliderdefaults": {
           "bgcolor": "#C8D4E3",
           "bordercolor": "rgb(17,17,17)",
           "borderwidth": 1,
           "tickwidth": 0
          },
          "ternary": {
           "aaxis": {
            "gridcolor": "#506784",
            "linecolor": "#506784",
            "ticks": ""
           },
           "baxis": {
            "gridcolor": "#506784",
            "linecolor": "#506784",
            "ticks": ""
           },
           "bgcolor": "rgb(17,17,17)",
           "caxis": {
            "gridcolor": "#506784",
            "linecolor": "#506784",
            "ticks": ""
           }
          },
          "title": {
           "x": 0.05
          },
          "updatemenudefaults": {
           "bgcolor": "#506784",
           "borderwidth": 0
          },
          "xaxis": {
           "automargin": true,
           "gridcolor": "#283442",
           "linecolor": "#506784",
           "ticks": "",
           "zerolinecolor": "#283442",
           "zerolinewidth": 2
          },
          "yaxis": {
           "automargin": true,
           "gridcolor": "#283442",
           "linecolor": "#506784",
           "ticks": "",
           "zerolinecolor": "#283442",
           "zerolinewidth": 2
          }
         }
        },
        "xaxis": {
         "anchor": "y",
         "domain": [
          0,
          0.98
         ],
         "title": {
          "text": "answers"
         },
         "type": "log"
        },
        "yaxis": {
         "anchor": "x",
         "domain": [
          0,
          1
         ],
         "title": {
          "text": "rep"
         },
         "type": "log"
        }
       }
      },
      "text/html": [
       "<div>\n",
       "        \n",
       "        \n",
       "            <div id=\"db96c25e-ada2-42b8-987e-f1c0ed4df54a\" class=\"plotly-graph-div\" style=\"height:600px; width:100%;\"></div>\n",
       "            <script type=\"text/javascript\">\n",
       "                require([\"plotly\"], function(Plotly) {\n",
       "                    window.PLOTLYENV=window.PLOTLYENV || {};\n",
       "                    \n",
       "                if (document.getElementById(\"db96c25e-ada2-42b8-987e-f1c0ed4df54a\")) {\n",
       "                    Plotly.newPlot(\n",
       "                        'db96c25e-ada2-42b8-987e-f1c0ed4df54a',\n",
       "                        [{\"hoverlabel\": {\"namelength\": 0}, \"hovertemplate\": \"name=n1k31t4<br>rep/ans=%{marker.size}<br>answers=%{x}<br>rep=%{y}\", \"legendgroup\": \"name=n1k31t4, rep/ans=69.92307692307692\", \"marker\": {\"color\": \"#636efa\", \"size\": [69.92307692307692], \"sizemode\": \"area\", \"sizeref\": 1.3072222222222223, \"symbol\": \"circle\"}, \"mode\": \"markers\", \"name\": \"name=n1k31t4, rep/ans=69.92307692307692\", \"showlegend\": true, \"type\": \"scatter\", \"x\": [117], \"xaxis\": \"x\", \"y\": [\"8181\"], \"yaxis\": \"y\"}, {\"hoverlabel\": {\"namelength\": 0}, \"hovertemplate\": \"name=Neil Slater<br>rep/ans=%{marker.size}<br>answers=%{x}<br>rep=%{y}\", \"legendgroup\": \"name=Neil Slater, rep/ans=522.8888888888889\", \"marker\": {\"color\": \"#EF553B\", \"size\": [522.8888888888889], \"sizemode\": \"area\", \"sizeref\": 1.3072222222222223, \"symbol\": \"diamond\"}, \"mode\": \"markers\", \"name\": \"name=Neil Slater, rep/ans=522.8888888888889\", \"showlegend\": true, \"type\": \"scatter\", \"x\": [36], \"xaxis\": \"x\", \"y\": [\"18824\"], \"yaxis\": \"y\"}, {\"hoverlabel\": {\"namelength\": 0}, \"hovertemplate\": \"name=Juan Esteban de la Calle<br>rep/ans=%{marker.size}<br>answers=%{x}<br>rep=%{y}\", \"legendgroup\": \"name=Juan Esteban de la Calle, rep/ans=62.666666666666664\", \"marker\": {\"color\": \"#00cc96\", \"size\": [62.666666666666664], \"sizemode\": \"area\", \"sizeref\": 1.3072222222222223, \"symbol\": \"square\"}, \"mode\": \"markers\", \"name\": \"name=Juan Esteban de la Calle, rep/ans=62.666666666666664\", \"showlegend\": true, \"type\": \"scatter\", \"x\": [24], \"xaxis\": \"x\", \"y\": [\"1504\"], \"yaxis\": \"y\"}, {\"hoverlabel\": {\"namelength\": 0}, \"hovertemplate\": \"name=Jan van der Vegt<br>rep/ans=%{marker.size}<br>answers=%{x}<br>rep=%{y}\", \"legendgroup\": \"name=Jan van der Vegt, rep/ans=304.1304347826087\", \"marker\": {\"color\": \"#ab63fa\", \"size\": [304.1304347826087], \"sizemode\": \"area\", \"sizeref\": 1.3072222222222223, \"symbol\": \"x\"}, \"mode\": \"markers\", \"name\": \"name=Jan van der Vegt, rep/ans=304.1304347826087\", \"showlegend\": true, \"type\": \"scatter\", \"x\": [23], \"xaxis\": \"x\", \"y\": [\"6995\"], \"yaxis\": \"y\"}, {\"hoverlabel\": {\"namelength\": 0}, \"hovertemplate\": \"name=Aditya<br>rep/ans=%{marker.size}<br>answers=%{x}<br>rep=%{y}\", \"legendgroup\": \"name=Aditya, rep/ans=71.68181818181819\", \"marker\": {\"color\": \"#FFA15A\", \"size\": [71.68181818181819], \"sizemode\": \"area\", \"sizeref\": 1.3072222222222223, \"symbol\": \"cross\"}, \"mode\": \"markers\", \"name\": \"name=Aditya, rep/ans=71.68181818181819\", \"showlegend\": true, \"type\": \"scatter\", \"x\": [22], \"xaxis\": \"x\", \"y\": [\"1577\"], \"yaxis\": \"y\"}, {\"hoverlabel\": {\"namelength\": 0}, \"hovertemplate\": \"name=Stephen Rauch<br>rep/ans=%{marker.size}<br>answers=%{x}<br>rep=%{y}\", \"legendgroup\": \"name=Stephen Rauch, rep/ans=84.10526315789474\", \"marker\": {\"color\": \"#19d3f3\", \"size\": [84.10526315789474], \"sizemode\": \"area\", \"sizeref\": 1.3072222222222223, \"symbol\": \"circle\"}, \"mode\": \"markers\", \"name\": \"name=Stephen Rauch, rep/ans=84.10526315789474\", \"showlegend\": true, \"type\": \"scatter\", \"x\": [19], \"xaxis\": \"x\", \"y\": [\"1598\"], \"yaxis\": \"y\"}, {\"hoverlabel\": {\"namelength\": 0}, \"hovertemplate\": \"name=Peter<br>rep/ans=%{marker.size}<br>answers=%{x}<br>rep=%{y}\", \"legendgroup\": \"name=Peter, rep/ans=96.94117647058823\", \"marker\": {\"color\": \"#FF6692\", \"size\": [96.94117647058823], \"sizemode\": \"area\", \"sizeref\": 1.3072222222222223, \"symbol\": \"diamond\"}, \"mode\": \"markers\", \"name\": \"name=Peter, rep/ans=96.94117647058823\", \"showlegend\": true, \"type\": \"scatter\", \"x\": [17], \"xaxis\": \"x\", \"y\": [\"1648\"], \"yaxis\": \"y\"}, {\"hoverlabel\": {\"namelength\": 0}, \"hovertemplate\": \"name=Ankit Seth<br>rep/ans=%{marker.size}<br>answers=%{x}<br>rep=%{y}\", \"legendgroup\": \"name=Ankit Seth, rep/ans=68.17647058823529\", \"marker\": {\"color\": \"#B6E880\", \"size\": [68.17647058823529], \"sizemode\": \"area\", \"sizeref\": 1.3072222222222223, \"symbol\": \"square\"}, \"mode\": \"markers\", \"name\": \"name=Ankit Seth, rep/ans=68.17647058823529\", \"showlegend\": true, \"type\": \"scatter\", \"x\": [17], \"xaxis\": \"x\", \"y\": [\"1159\"], \"yaxis\": \"y\"}, {\"hoverlabel\": {\"namelength\": 0}, \"hovertemplate\": \"name=Kiritee Gak<br>rep/ans=%{marker.size}<br>answers=%{x}<br>rep=%{y}\", \"legendgroup\": \"name=Kiritee Gak, rep/ans=91.93333333333334\", \"marker\": {\"color\": \"#FF97FF\", \"size\": [91.93333333333334], \"sizemode\": \"area\", \"sizeref\": 1.3072222222222223, \"symbol\": \"x\"}, \"mode\": \"markers\", \"name\": \"name=Kiritee Gak, rep/ans=91.93333333333334\", \"showlegend\": true, \"type\": \"scatter\", \"x\": [15], \"xaxis\": \"x\", \"y\": [\"1379\"], \"yaxis\": \"y\"}, {\"hoverlabel\": {\"namelength\": 0}, \"hovertemplate\": \"name=Shamit Verma<br>rep/ans=%{marker.size}<br>answers=%{x}<br>rep=%{y}\", \"legendgroup\": \"name=Shamit Verma, rep/ans=125.28571428571429\", \"marker\": {\"color\": \"#FECB52\", \"size\": [125.28571428571429], \"sizemode\": \"area\", \"sizeref\": 1.3072222222222223, \"symbol\": \"cross\"}, \"mode\": \"markers\", \"name\": \"name=Shamit Verma, rep/ans=125.28571428571429\", \"showlegend\": true, \"type\": \"scatter\", \"x\": [14], \"xaxis\": \"x\", \"y\": [\"1754\"], \"yaxis\": \"y\"}, {\"hoverlabel\": {\"namelength\": 0}, \"hovertemplate\": \"name=TitoOrt<br>rep/ans=%{marker.size}<br>answers=%{x}<br>rep=%{y}\", \"legendgroup\": \"name=TitoOrt, rep/ans=74.72727272727273\", \"marker\": {\"color\": \"#636efa\", \"size\": [74.72727272727273], \"sizemode\": \"area\", \"sizeref\": 1.3072222222222223, \"symbol\": \"circle\"}, \"mode\": \"markers\", \"name\": \"name=TitoOrt, rep/ans=74.72727272727273\", \"showlegend\": true, \"type\": \"scatter\", \"x\": [11], \"xaxis\": \"x\", \"y\": [\"822\"], \"yaxis\": \"y\"}, {\"hoverlabel\": {\"namelength\": 0}, \"hovertemplate\": \"name=Franck Dernoncourt<br>rep/ans=%{marker.size}<br>answers=%{x}<br>rep=%{y}\", \"legendgroup\": \"name=Franck Dernoncourt, rep/ans=365.6\", \"marker\": {\"color\": \"#EF553B\", \"size\": [365.6], \"sizemode\": \"area\", \"sizeref\": 1.3072222222222223, \"symbol\": \"diamond\"}, \"mode\": \"markers\", \"name\": \"name=Franck Dernoncourt, rep/ans=365.6\", \"showlegend\": true, \"type\": \"scatter\", \"x\": [10], \"xaxis\": \"x\", \"y\": [\"3656\"], \"yaxis\": \"y\"}, {\"hoverlabel\": {\"namelength\": 0}, \"hovertemplate\": \"name=Elias Strehle<br>rep/ans=%{marker.size}<br>answers=%{x}<br>rep=%{y}\", \"legendgroup\": \"name=Elias Strehle, rep/ans=131.1\", \"marker\": {\"color\": \"#00cc96\", \"size\": [131.1], \"sizemode\": \"area\", \"sizeref\": 1.3072222222222223, \"symbol\": \"square\"}, \"mode\": \"markers\", \"name\": \"name=Elias Strehle, rep/ans=131.1\", \"showlegend\": true, \"type\": \"scatter\", \"x\": [10], \"xaxis\": \"x\", \"y\": [\"1311\"], \"yaxis\": \"y\"}, {\"hoverlabel\": {\"namelength\": 0}, \"hovertemplate\": \"name=stmax<br>rep/ans=%{marker.size}<br>answers=%{x}<br>rep=%{y}\", \"legendgroup\": \"name=stmax, rep/ans=140.9\", \"marker\": {\"color\": \"#ab63fa\", \"size\": [140.9], \"sizemode\": \"area\", \"sizeref\": 1.3072222222222223, \"symbol\": \"x\"}, \"mode\": \"markers\", \"name\": \"name=stmax, rep/ans=140.9\", \"showlegend\": true, \"type\": \"scatter\", \"x\": [10], \"xaxis\": \"x\", \"y\": [\"1409\"], \"yaxis\": \"y\"}, {\"hoverlabel\": {\"namelength\": 0}, \"hovertemplate\": \"name=I_Play_With_Data<br>rep/ans=%{marker.size}<br>answers=%{x}<br>rep=%{y}\", \"legendgroup\": \"name=I_Play_With_Data, rep/ans=129.4\", \"marker\": {\"color\": \"#FFA15A\", \"size\": [129.4], \"sizemode\": \"area\", \"sizeref\": 1.3072222222222223, \"symbol\": \"cross\"}, \"mode\": \"markers\", \"name\": \"name=I_Play_With_Data, rep/ans=129.4\", \"showlegend\": true, \"type\": \"scatter\", \"x\": [10], \"xaxis\": \"x\", \"y\": [\"1294\"], \"yaxis\": \"y\"}, {\"hoverlabel\": {\"namelength\": 0}, \"hovertemplate\": \"name=Antonio Juri\\u0107<br>rep/ans=%{marker.size}<br>answers=%{x}<br>rep=%{y}\", \"legendgroup\": \"name=Antonio Juri\\u0107, rep/ans=78.9\", \"marker\": {\"color\": \"#19d3f3\", \"size\": [78.9], \"sizemode\": \"area\", \"sizeref\": 1.3072222222222223, \"symbol\": \"circle\"}, \"mode\": \"markers\", \"name\": \"name=Antonio Juri\\u0107, rep/ans=78.9\", \"showlegend\": true, \"type\": \"scatter\", \"x\": [10], \"xaxis\": \"x\", \"y\": [\"789\"], \"yaxis\": \"y\"}, {\"hoverlabel\": {\"namelength\": 0}, \"hovertemplate\": \"name=tuomastik<br>rep/ans=%{marker.size}<br>answers=%{x}<br>rep=%{y}\", \"legendgroup\": \"name=tuomastik, rep/ans=78.1\", \"marker\": {\"color\": \"#FF6692\", \"size\": [78.1], \"sizemode\": \"area\", \"sizeref\": 1.3072222222222223, \"symbol\": \"diamond\"}, \"mode\": \"markers\", \"name\": \"name=tuomastik, rep/ans=78.1\", \"showlegend\": true, \"type\": \"scatter\", \"x\": [10], \"xaxis\": \"x\", \"y\": [\"781\"], \"yaxis\": \"y\"}, {\"hoverlabel\": {\"namelength\": 0}, \"hovertemplate\": \"name=Ryan Zotti<br>rep/ans=%{marker.size}<br>answers=%{x}<br>rep=%{y}\", \"legendgroup\": \"name=Ryan Zotti, rep/ans=284.8888888888889\", \"marker\": {\"color\": \"#B6E880\", \"size\": [284.8888888888889], \"sizemode\": \"area\", \"sizeref\": 1.3072222222222223, \"symbol\": \"square\"}, \"mode\": \"markers\", \"name\": \"name=Ryan Zotti, rep/ans=284.8888888888889\", \"showlegend\": true, \"type\": \"scatter\", \"x\": [9], \"xaxis\": \"x\", \"y\": [\"2564\"], \"yaxis\": \"y\"}, {\"hoverlabel\": {\"namelength\": 0}, \"hovertemplate\": \"name=StatsSorceress<br>rep/ans=%{marker.size}<br>answers=%{x}<br>rep=%{y}\", \"legendgroup\": \"name=StatsSorceress, rep/ans=149.25\", \"marker\": {\"color\": \"#FF97FF\", \"size\": [149.25], \"sizemode\": \"area\", \"sizeref\": 1.3072222222222223, \"symbol\": \"x\"}, \"mode\": \"markers\", \"name\": \"name=StatsSorceress, rep/ans=149.25\", \"showlegend\": true, \"type\": \"scatter\", \"x\": [8], \"xaxis\": \"x\", \"y\": [\"1194\"], \"yaxis\": \"y\"}, {\"hoverlabel\": {\"namelength\": 0}, \"hovertemplate\": \"name=Tophat<br>rep/ans=%{marker.size}<br>answers=%{x}<br>rep=%{y}\", \"legendgroup\": \"name=Tophat, rep/ans=194.0\", \"marker\": {\"color\": \"#FECB52\", \"size\": [194.0], \"sizemode\": \"area\", \"sizeref\": 1.3072222222222223, \"symbol\": \"cross\"}, \"mode\": \"markers\", \"name\": \"name=Tophat, rep/ans=194.0\", \"showlegend\": true, \"type\": \"scatter\", \"x\": [8], \"xaxis\": \"x\", \"y\": [\"1552\"], \"yaxis\": \"y\"}],\n",
       "                        {\"height\": 600, \"legend\": {\"itemsizing\": \"constant\", \"tracegroupgap\": 0}, \"margin\": {\"t\": 60}, \"template\": {\"data\": {\"bar\": [{\"error_x\": {\"color\": \"#f2f5fa\"}, \"error_y\": {\"color\": \"#f2f5fa\"}, \"marker\": {\"line\": {\"color\": \"rgb(17,17,17)\", \"width\": 0.5}}, \"type\": \"bar\"}], \"barpolar\": [{\"marker\": {\"line\": {\"color\": \"rgb(17,17,17)\", \"width\": 0.5}}, \"type\": \"barpolar\"}], \"carpet\": [{\"aaxis\": {\"endlinecolor\": \"#A2B1C6\", \"gridcolor\": \"#506784\", \"linecolor\": \"#506784\", \"minorgridcolor\": \"#506784\", \"startlinecolor\": \"#A2B1C6\"}, \"baxis\": {\"endlinecolor\": \"#A2B1C6\", \"gridcolor\": \"#506784\", \"linecolor\": \"#506784\", \"minorgridcolor\": \"#506784\", \"startlinecolor\": \"#A2B1C6\"}, \"type\": \"carpet\"}], \"choropleth\": [{\"colorbar\": {\"outlinewidth\": 0, \"ticks\": \"\"}, \"type\": \"choropleth\"}], \"contour\": [{\"colorbar\": {\"outlinewidth\": 0, \"ticks\": \"\"}, \"colorscale\": [[0.0, \"#0d0887\"], [0.1111111111111111, \"#46039f\"], [0.2222222222222222, \"#7201a8\"], [0.3333333333333333, \"#9c179e\"], [0.4444444444444444, \"#bd3786\"], [0.5555555555555556, \"#d8576b\"], [0.6666666666666666, \"#ed7953\"], [0.7777777777777778, \"#fb9f3a\"], [0.8888888888888888, \"#fdca26\"], [1.0, \"#f0f921\"]], \"type\": \"contour\"}], \"contourcarpet\": [{\"colorbar\": {\"outlinewidth\": 0, \"ticks\": \"\"}, \"type\": \"contourcarpet\"}], \"heatmap\": [{\"colorbar\": {\"outlinewidth\": 0, \"ticks\": \"\"}, \"colorscale\": [[0.0, \"#0d0887\"], [0.1111111111111111, \"#46039f\"], [0.2222222222222222, \"#7201a8\"], [0.3333333333333333, \"#9c179e\"], [0.4444444444444444, \"#bd3786\"], [0.5555555555555556, \"#d8576b\"], [0.6666666666666666, \"#ed7953\"], [0.7777777777777778, \"#fb9f3a\"], [0.8888888888888888, \"#fdca26\"], [1.0, \"#f0f921\"]], \"type\": \"heatmap\"}], \"heatmapgl\": [{\"colorbar\": {\"outlinewidth\": 0, \"ticks\": \"\"}, \"colorscale\": [[0.0, \"#0d0887\"], [0.1111111111111111, \"#46039f\"], [0.2222222222222222, \"#7201a8\"], [0.3333333333333333, \"#9c179e\"], [0.4444444444444444, \"#bd3786\"], [0.5555555555555556, \"#d8576b\"], [0.6666666666666666, \"#ed7953\"], [0.7777777777777778, \"#fb9f3a\"], [0.8888888888888888, \"#fdca26\"], [1.0, \"#f0f921\"]], \"type\": \"heatmapgl\"}], \"histogram\": [{\"marker\": {\"colorbar\": {\"outlinewidth\": 0, \"ticks\": \"\"}}, \"type\": \"histogram\"}], \"histogram2d\": [{\"colorbar\": {\"outlinewidth\": 0, \"ticks\": \"\"}, \"colorscale\": [[0.0, \"#0d0887\"], [0.1111111111111111, \"#46039f\"], [0.2222222222222222, \"#7201a8\"], [0.3333333333333333, \"#9c179e\"], [0.4444444444444444, \"#bd3786\"], [0.5555555555555556, \"#d8576b\"], [0.6666666666666666, \"#ed7953\"], [0.7777777777777778, \"#fb9f3a\"], [0.8888888888888888, \"#fdca26\"], [1.0, \"#f0f921\"]], \"type\": \"histogram2d\"}], \"histogram2dcontour\": [{\"colorbar\": {\"outlinewidth\": 0, \"ticks\": \"\"}, \"colorscale\": [[0.0, \"#0d0887\"], [0.1111111111111111, \"#46039f\"], [0.2222222222222222, \"#7201a8\"], [0.3333333333333333, \"#9c179e\"], [0.4444444444444444, \"#bd3786\"], [0.5555555555555556, \"#d8576b\"], [0.6666666666666666, \"#ed7953\"], [0.7777777777777778, \"#fb9f3a\"], [0.8888888888888888, \"#fdca26\"], [1.0, \"#f0f921\"]], \"type\": \"histogram2dcontour\"}], \"mesh3d\": [{\"colorbar\": {\"outlinewidth\": 0, \"ticks\": \"\"}, \"type\": \"mesh3d\"}], \"parcoords\": [{\"line\": {\"colorbar\": {\"outlinewidth\": 0, \"ticks\": \"\"}}, \"type\": \"parcoords\"}], \"scatter\": [{\"marker\": {\"line\": {\"color\": \"#283442\"}}, \"type\": \"scatter\"}], \"scatter3d\": [{\"line\": {\"colorbar\": {\"outlinewidth\": 0, \"ticks\": \"\"}}, \"marker\": {\"colorbar\": {\"outlinewidth\": 0, \"ticks\": \"\"}}, \"type\": \"scatter3d\"}], \"scattercarpet\": [{\"marker\": {\"colorbar\": {\"outlinewidth\": 0, \"ticks\": \"\"}}, \"type\": \"scattercarpet\"}], \"scattergeo\": [{\"marker\": {\"colorbar\": {\"outlinewidth\": 0, \"ticks\": \"\"}}, \"type\": \"scattergeo\"}], \"scattergl\": [{\"marker\": {\"line\": {\"color\": \"#283442\"}}, \"type\": \"scattergl\"}], \"scattermapbox\": [{\"marker\": {\"colorbar\": {\"outlinewidth\": 0, \"ticks\": \"\"}}, \"type\": \"scattermapbox\"}], \"scatterpolar\": [{\"marker\": {\"colorbar\": {\"outlinewidth\": 0, \"ticks\": \"\"}}, \"type\": \"scatterpolar\"}], \"scatterpolargl\": [{\"marker\": {\"colorbar\": {\"outlinewidth\": 0, \"ticks\": \"\"}}, \"type\": \"scatterpolargl\"}], \"scatterternary\": [{\"marker\": {\"colorbar\": {\"outlinewidth\": 0, \"ticks\": \"\"}}, \"type\": \"scatterternary\"}], \"surface\": [{\"colorbar\": {\"outlinewidth\": 0, \"ticks\": \"\"}, \"colorscale\": [[0.0, \"#0d0887\"], [0.1111111111111111, \"#46039f\"], [0.2222222222222222, \"#7201a8\"], [0.3333333333333333, \"#9c179e\"], [0.4444444444444444, \"#bd3786\"], [0.5555555555555556, \"#d8576b\"], [0.6666666666666666, \"#ed7953\"], [0.7777777777777778, \"#fb9f3a\"], [0.8888888888888888, \"#fdca26\"], [1.0, \"#f0f921\"]], \"type\": \"surface\"}], \"table\": [{\"cells\": {\"fill\": {\"color\": \"#506784\"}, \"line\": {\"color\": \"rgb(17,17,17)\"}}, \"header\": {\"fill\": {\"color\": \"#2a3f5f\"}, \"line\": {\"color\": \"rgb(17,17,17)\"}}, \"type\": \"table\"}]}, \"layout\": {\"annotationdefaults\": {\"arrowcolor\": \"#f2f5fa\", \"arrowhead\": 0, \"arrowwidth\": 1}, \"colorscale\": {\"diverging\": [[0, \"#8e0152\"], [0.1, \"#c51b7d\"], [0.2, \"#de77ae\"], [0.3, \"#f1b6da\"], [0.4, \"#fde0ef\"], [0.5, \"#f7f7f7\"], [0.6, \"#e6f5d0\"], [0.7, \"#b8e186\"], [0.8, \"#7fbc41\"], [0.9, \"#4d9221\"], [1, \"#276419\"]], \"sequential\": [[0.0, \"#0d0887\"], [0.1111111111111111, \"#46039f\"], [0.2222222222222222, \"#7201a8\"], [0.3333333333333333, \"#9c179e\"], [0.4444444444444444, \"#bd3786\"], [0.5555555555555556, \"#d8576b\"], [0.6666666666666666, \"#ed7953\"], [0.7777777777777778, \"#fb9f3a\"], [0.8888888888888888, \"#fdca26\"], [1.0, \"#f0f921\"]], \"sequentialminus\": [[0.0, \"#0d0887\"], [0.1111111111111111, \"#46039f\"], [0.2222222222222222, \"#7201a8\"], [0.3333333333333333, \"#9c179e\"], [0.4444444444444444, \"#bd3786\"], [0.5555555555555556, \"#d8576b\"], [0.6666666666666666, \"#ed7953\"], [0.7777777777777778, \"#fb9f3a\"], [0.8888888888888888, \"#fdca26\"], [1.0, \"#f0f921\"]]}, \"colorway\": [\"#636efa\", \"#EF553B\", \"#00cc96\", \"#ab63fa\", \"#FFA15A\", \"#19d3f3\", \"#FF6692\", \"#B6E880\", \"#FF97FF\", \"#FECB52\"], \"font\": {\"color\": \"#f2f5fa\"}, \"geo\": {\"bgcolor\": \"rgb(17,17,17)\", \"lakecolor\": \"rgb(17,17,17)\", \"landcolor\": \"rgb(17,17,17)\", \"showlakes\": true, \"showland\": true, \"subunitcolor\": \"#506784\"}, \"hoverlabel\": {\"align\": \"left\"}, \"hovermode\": \"closest\", \"mapbox\": {\"style\": \"dark\"}, \"paper_bgcolor\": \"rgb(17,17,17)\", \"plot_bgcolor\": \"rgb(17,17,17)\", \"polar\": {\"angularaxis\": {\"gridcolor\": \"#506784\", \"linecolor\": \"#506784\", \"ticks\": \"\"}, \"bgcolor\": \"rgb(17,17,17)\", \"radialaxis\": {\"gridcolor\": \"#506784\", \"linecolor\": \"#506784\", \"ticks\": \"\"}}, \"scene\": {\"xaxis\": {\"backgroundcolor\": \"rgb(17,17,17)\", \"gridcolor\": \"#506784\", \"gridwidth\": 2, \"linecolor\": \"#506784\", \"showbackground\": true, \"ticks\": \"\", \"zerolinecolor\": \"#C8D4E3\"}, \"yaxis\": {\"backgroundcolor\": \"rgb(17,17,17)\", \"gridcolor\": \"#506784\", \"gridwidth\": 2, \"linecolor\": \"#506784\", \"showbackground\": true, \"ticks\": \"\", \"zerolinecolor\": \"#C8D4E3\"}, \"zaxis\": {\"backgroundcolor\": \"rgb(17,17,17)\", \"gridcolor\": \"#506784\", \"gridwidth\": 2, \"linecolor\": \"#506784\", \"showbackground\": true, \"ticks\": \"\", \"zerolinecolor\": \"#C8D4E3\"}}, \"shapedefaults\": {\"line\": {\"color\": \"#f2f5fa\"}}, \"sliderdefaults\": {\"bgcolor\": \"#C8D4E3\", \"bordercolor\": \"rgb(17,17,17)\", \"borderwidth\": 1, \"tickwidth\": 0}, \"ternary\": {\"aaxis\": {\"gridcolor\": \"#506784\", \"linecolor\": \"#506784\", \"ticks\": \"\"}, \"baxis\": {\"gridcolor\": \"#506784\", \"linecolor\": \"#506784\", \"ticks\": \"\"}, \"bgcolor\": \"rgb(17,17,17)\", \"caxis\": {\"gridcolor\": \"#506784\", \"linecolor\": \"#506784\", \"ticks\": \"\"}}, \"title\": {\"x\": 0.05}, \"updatemenudefaults\": {\"bgcolor\": \"#506784\", \"borderwidth\": 0}, \"xaxis\": {\"automargin\": true, \"gridcolor\": \"#283442\", \"linecolor\": \"#506784\", \"ticks\": \"\", \"zerolinecolor\": \"#283442\", \"zerolinewidth\": 2}, \"yaxis\": {\"automargin\": true, \"gridcolor\": \"#283442\", \"linecolor\": \"#506784\", \"ticks\": \"\", \"zerolinecolor\": \"#283442\", \"zerolinewidth\": 2}}}, \"xaxis\": {\"anchor\": \"y\", \"domain\": [0.0, 0.98], \"title\": {\"text\": \"answers\"}, \"type\": \"log\"}, \"yaxis\": {\"anchor\": \"x\", \"domain\": [0.0, 1.0], \"title\": {\"text\": \"rep\"}, \"type\": \"log\"}},\n",
       "                        {\"responsive\": true}\n",
       "                    ).then(function(){\n",
       "                            \n",
       "var gd = document.getElementById('db96c25e-ada2-42b8-987e-f1c0ed4df54a');\n",
       "var x = new MutationObserver(function (mutations, observer) {{\n",
       "        var display = window.getComputedStyle(gd).display;\n",
       "        if (!display || display === 'none') {{\n",
       "            console.log([gd, 'removed!']);\n",
       "            Plotly.purge(gd);\n",
       "            observer.disconnect();\n",
       "        }}\n",
       "}});\n",
       "\n",
       "// Listen for the removal of the full notebook cells\n",
       "var notebookContainer = gd.closest('#notebook-container');\n",
       "if (notebookContainer) {{\n",
       "    x.observe(notebookContainer, {childList: true});\n",
       "}}\n",
       "\n",
       "// Listen for the clearing of the current output cell\n",
       "var outputEl = gd.closest('.output');\n",
       "if (outputEl) {{\n",
       "    x.observe(outputEl, {childList: true});\n",
       "}}\n",
       "\n",
       "                        })\n",
       "                };\n",
       "                });\n",
       "            </script>\n",
       "        </div>"
      ]
     },
     "metadata": {},
     "output_type": "display_data"
    }
   ],
   "source": [
    "fig = px.scatter(s2, x=\"answers\", y=\"rep\", color=\"name\", size=\"rep/ans\", symbol=\"rep/ans\", log_x=True, log_y=True, template='plotly_dark')\n",
    "fig.show()"
   ]
  },
  {
   "cell_type": "code",
   "execution_count": 126,
   "metadata": {},
   "outputs": [
    {
     "data": {
      "application/vnd.plotly.v1+json": {
       "config": {
        "plotlyServerURL": "https://plot.ly"
       },
       "data": [
        {
         "hoverlabel": {
          "namelength": 0
         },
         "hovertemplate": "name=Neil Slater<br>answers=%{marker.size}<br>rep=%{x}<br>rep/ans=%{y}",
         "legendgroup": "name=Neil Slater, answers=36",
         "marker": {
          "color": "#636efa",
          "size": [
           36
          ],
          "sizemode": "area",
          "sizeref": 0.2925,
          "symbol": "circle"
         },
         "mode": "markers",
         "name": "name=Neil Slater, answers=36",
         "showlegend": true,
         "type": "scatter",
         "x": [
          "18824"
         ],
         "xaxis": "x",
         "y": [
          522.8888888888889
         ],
         "yaxis": "y"
        },
        {
         "hoverlabel": {
          "namelength": 0
         },
         "hovertemplate": "name=Franck Dernoncourt<br>answers=%{marker.size}<br>rep=%{x}<br>rep/ans=%{y}",
         "legendgroup": "name=Franck Dernoncourt, answers=10",
         "marker": {
          "color": "#EF553B",
          "size": [
           10
          ],
          "sizemode": "area",
          "sizeref": 0.2925,
          "symbol": "diamond"
         },
         "mode": "markers",
         "name": "name=Franck Dernoncourt, answers=10",
         "showlegend": true,
         "type": "scatter",
         "x": [
          "3656"
         ],
         "xaxis": "x",
         "y": [
          365.6
         ],
         "yaxis": "y"
        },
        {
         "hoverlabel": {
          "namelength": 0
         },
         "hovertemplate": "name=Jan van der Vegt<br>answers=%{marker.size}<br>rep=%{x}<br>rep/ans=%{y}",
         "legendgroup": "name=Jan van der Vegt, answers=23",
         "marker": {
          "color": "#00cc96",
          "size": [
           23
          ],
          "sizemode": "area",
          "sizeref": 0.2925,
          "symbol": "square"
         },
         "mode": "markers",
         "name": "name=Jan van der Vegt, answers=23",
         "showlegend": true,
         "type": "scatter",
         "x": [
          "6995"
         ],
         "xaxis": "x",
         "y": [
          304.1304347826087
         ],
         "yaxis": "y"
        },
        {
         "hoverlabel": {
          "namelength": 0
         },
         "hovertemplate": "name=Ryan Zotti<br>answers=%{marker.size}<br>rep=%{x}<br>rep/ans=%{y}",
         "legendgroup": "name=Ryan Zotti, answers=9",
         "marker": {
          "color": "#ab63fa",
          "size": [
           9
          ],
          "sizemode": "area",
          "sizeref": 0.2925,
          "symbol": "x"
         },
         "mode": "markers",
         "name": "name=Ryan Zotti, answers=9",
         "showlegend": true,
         "type": "scatter",
         "x": [
          "2564"
         ],
         "xaxis": "x",
         "y": [
          284.8888888888889
         ],
         "yaxis": "y"
        },
        {
         "hoverlabel": {
          "namelength": 0
         },
         "hovertemplate": "name=StatsSorceress<br>answers=%{marker.size}<br>rep=%{x}<br>rep/ans=%{y}",
         "legendgroup": "name=StatsSorceress, answers=8",
         "marker": {
          "color": "#FFA15A",
          "size": [
           8
          ],
          "sizemode": "area",
          "sizeref": 0.2925,
          "symbol": "cross"
         },
         "mode": "markers",
         "name": "name=StatsSorceress, answers=8",
         "showlegend": true,
         "type": "scatter",
         "x": [
          "1194"
         ],
         "xaxis": "x",
         "y": [
          149.25
         ],
         "yaxis": "y"
        },
        {
         "hoverlabel": {
          "namelength": 0
         },
         "hovertemplate": "name=stmax<br>answers=%{marker.size}<br>rep=%{x}<br>rep/ans=%{y}",
         "legendgroup": "name=stmax, answers=10",
         "marker": {
          "color": "#19d3f3",
          "size": [
           10
          ],
          "sizemode": "area",
          "sizeref": 0.2925,
          "symbol": "diamond"
         },
         "mode": "markers",
         "name": "name=stmax, answers=10",
         "showlegend": true,
         "type": "scatter",
         "x": [
          "1409"
         ],
         "xaxis": "x",
         "y": [
          140.9
         ],
         "yaxis": "y"
        },
        {
         "hoverlabel": {
          "namelength": 0
         },
         "hovertemplate": "name=Elias Strehle<br>answers=%{marker.size}<br>rep=%{x}<br>rep/ans=%{y}",
         "legendgroup": "name=Elias Strehle, answers=10",
         "marker": {
          "color": "#FF6692",
          "size": [
           10
          ],
          "sizemode": "area",
          "sizeref": 0.2925,
          "symbol": "diamond"
         },
         "mode": "markers",
         "name": "name=Elias Strehle, answers=10",
         "showlegend": true,
         "type": "scatter",
         "x": [
          "1311"
         ],
         "xaxis": "x",
         "y": [
          131.1
         ],
         "yaxis": "y"
        },
        {
         "hoverlabel": {
          "namelength": 0
         },
         "hovertemplate": "name=I_Play_With_Data<br>answers=%{marker.size}<br>rep=%{x}<br>rep/ans=%{y}",
         "legendgroup": "name=I_Play_With_Data, answers=10",
         "marker": {
          "color": "#B6E880",
          "size": [
           10
          ],
          "sizemode": "area",
          "sizeref": 0.2925,
          "symbol": "diamond"
         },
         "mode": "markers",
         "name": "name=I_Play_With_Data, answers=10",
         "showlegend": true,
         "type": "scatter",
         "x": [
          "1294"
         ],
         "xaxis": "x",
         "y": [
          129.4
         ],
         "yaxis": "y"
        },
        {
         "hoverlabel": {
          "namelength": 0
         },
         "hovertemplate": "name=Shamit Verma<br>answers=%{marker.size}<br>rep=%{x}<br>rep/ans=%{y}",
         "legendgroup": "name=Shamit Verma, answers=14",
         "marker": {
          "color": "#FF97FF",
          "size": [
           14
          ],
          "sizemode": "area",
          "sizeref": 0.2925,
          "symbol": "circle"
         },
         "mode": "markers",
         "name": "name=Shamit Verma, answers=14",
         "showlegend": true,
         "type": "scatter",
         "x": [
          "1754"
         ],
         "xaxis": "x",
         "y": [
          125.28571428571429
         ],
         "yaxis": "y"
        },
        {
         "hoverlabel": {
          "namelength": 0
         },
         "hovertemplate": "name=thanatoz<br>answers=%{marker.size}<br>rep=%{x}<br>rep/ans=%{y}",
         "legendgroup": "name=thanatoz, answers=8",
         "marker": {
          "color": "#FECB52",
          "size": [
           8
          ],
          "sizemode": "area",
          "sizeref": 0.2925,
          "symbol": "cross"
         },
         "mode": "markers",
         "name": "name=thanatoz, answers=8",
         "showlegend": true,
         "type": "scatter",
         "x": [
          "900"
         ],
         "xaxis": "x",
         "y": [
          112.5
         ],
         "yaxis": "y"
        },
        {
         "hoverlabel": {
          "namelength": 0
         },
         "hovertemplate": "name=Peter<br>answers=%{marker.size}<br>rep=%{x}<br>rep/ans=%{y}",
         "legendgroup": "name=Peter, answers=17",
         "marker": {
          "color": "#636efa",
          "size": [
           17
          ],
          "sizemode": "area",
          "sizeref": 0.2925,
          "symbol": "diamond"
         },
         "mode": "markers",
         "name": "name=Peter, answers=17",
         "showlegend": true,
         "type": "scatter",
         "x": [
          "1648"
         ],
         "xaxis": "x",
         "y": [
          96.94117647058823
         ],
         "yaxis": "y"
        },
        {
         "hoverlabel": {
          "namelength": 0
         },
         "hovertemplate": "name=Kiritee Gak<br>answers=%{marker.size}<br>rep=%{x}<br>rep/ans=%{y}",
         "legendgroup": "name=Kiritee Gak, answers=15",
         "marker": {
          "color": "#EF553B",
          "size": [
           15
          ],
          "sizemode": "area",
          "sizeref": 0.2925,
          "symbol": "square"
         },
         "mode": "markers",
         "name": "name=Kiritee Gak, answers=15",
         "showlegend": true,
         "type": "scatter",
         "x": [
          "1379"
         ],
         "xaxis": "x",
         "y": [
          91.93333333333334
         ],
         "yaxis": "y"
        },
        {
         "hoverlabel": {
          "namelength": 0
         },
         "hovertemplate": "name=Stephen Rauch<br>answers=%{marker.size}<br>rep=%{x}<br>rep/ans=%{y}",
         "legendgroup": "name=Stephen Rauch, answers=19",
         "marker": {
          "color": "#00cc96",
          "size": [
           19
          ],
          "sizemode": "area",
          "sizeref": 0.2925,
          "symbol": "x"
         },
         "mode": "markers",
         "name": "name=Stephen Rauch, answers=19",
         "showlegend": true,
         "type": "scatter",
         "x": [
          "1598"
         ],
         "xaxis": "x",
         "y": [
          84.10526315789474
         ],
         "yaxis": "y"
        },
        {
         "hoverlabel": {
          "namelength": 0
         },
         "hovertemplate": "name=Antonio Jurić<br>answers=%{marker.size}<br>rep=%{x}<br>rep/ans=%{y}",
         "legendgroup": "name=Antonio Jurić, answers=10",
         "marker": {
          "color": "#ab63fa",
          "size": [
           10
          ],
          "sizemode": "area",
          "sizeref": 0.2925,
          "symbol": "diamond"
         },
         "mode": "markers",
         "name": "name=Antonio Jurić, answers=10",
         "showlegend": true,
         "type": "scatter",
         "x": [
          "789"
         ],
         "xaxis": "x",
         "y": [
          78.9
         ],
         "yaxis": "y"
        },
        {
         "hoverlabel": {
          "namelength": 0
         },
         "hovertemplate": "name=tuomastik<br>answers=%{marker.size}<br>rep=%{x}<br>rep/ans=%{y}",
         "legendgroup": "name=tuomastik, answers=10",
         "marker": {
          "color": "#FFA15A",
          "size": [
           10
          ],
          "sizemode": "area",
          "sizeref": 0.2925,
          "symbol": "diamond"
         },
         "mode": "markers",
         "name": "name=tuomastik, answers=10",
         "showlegend": true,
         "type": "scatter",
         "x": [
          "781"
         ],
         "xaxis": "x",
         "y": [
          78.1
         ],
         "yaxis": "y"
        },
        {
         "hoverlabel": {
          "namelength": 0
         },
         "hovertemplate": "name=TitoOrt<br>answers=%{marker.size}<br>rep=%{x}<br>rep/ans=%{y}",
         "legendgroup": "name=TitoOrt, answers=11",
         "marker": {
          "color": "#19d3f3",
          "size": [
           11
          ],
          "sizemode": "area",
          "sizeref": 0.2925,
          "symbol": "cross"
         },
         "mode": "markers",
         "name": "name=TitoOrt, answers=11",
         "showlegend": true,
         "type": "scatter",
         "x": [
          "822"
         ],
         "xaxis": "x",
         "y": [
          74.72727272727273
         ],
         "yaxis": "y"
        },
        {
         "hoverlabel": {
          "namelength": 0
         },
         "hovertemplate": "name=Aditya<br>answers=%{marker.size}<br>rep=%{x}<br>rep/ans=%{y}",
         "legendgroup": "name=Aditya, answers=22",
         "marker": {
          "color": "#FF6692",
          "size": [
           22
          ],
          "sizemode": "area",
          "sizeref": 0.2925,
          "symbol": "circle"
         },
         "mode": "markers",
         "name": "name=Aditya, answers=22",
         "showlegend": true,
         "type": "scatter",
         "x": [
          "1577"
         ],
         "xaxis": "x",
         "y": [
          71.68181818181819
         ],
         "yaxis": "y"
        },
        {
         "hoverlabel": {
          "namelength": 0
         },
         "hovertemplate": "name=n1k31t4<br>answers=%{marker.size}<br>rep=%{x}<br>rep/ans=%{y}",
         "legendgroup": "name=n1k31t4, answers=117",
         "marker": {
          "color": "#B6E880",
          "size": [
           117
          ],
          "sizemode": "area",
          "sizeref": 0.2925,
          "symbol": "diamond"
         },
         "mode": "markers",
         "name": "name=n1k31t4, answers=117",
         "showlegend": true,
         "type": "scatter",
         "x": [
          "8181"
         ],
         "xaxis": "x",
         "y": [
          69.92307692307692
         ],
         "yaxis": "y"
        },
        {
         "hoverlabel": {
          "namelength": 0
         },
         "hovertemplate": "name=Ankit Seth<br>answers=%{marker.size}<br>rep=%{x}<br>rep/ans=%{y}",
         "legendgroup": "name=Ankit Seth, answers=17",
         "marker": {
          "color": "#FF97FF",
          "size": [
           17
          ],
          "sizemode": "area",
          "sizeref": 0.2925,
          "symbol": "diamond"
         },
         "mode": "markers",
         "name": "name=Ankit Seth, answers=17",
         "showlegend": true,
         "type": "scatter",
         "x": [
          "1159"
         ],
         "xaxis": "x",
         "y": [
          68.17647058823529
         ],
         "yaxis": "y"
        },
        {
         "hoverlabel": {
          "namelength": 0
         },
         "hovertemplate": "name=Juan Esteban de la Calle<br>answers=%{marker.size}<br>rep=%{x}<br>rep/ans=%{y}",
         "legendgroup": "name=Juan Esteban de la Calle, answers=24",
         "marker": {
          "color": "#FECB52",
          "size": [
           24
          ],
          "sizemode": "area",
          "sizeref": 0.2925,
          "symbol": "square"
         },
         "mode": "markers",
         "name": "name=Juan Esteban de la Calle, answers=24",
         "showlegend": true,
         "type": "scatter",
         "x": [
          "1504"
         ],
         "xaxis": "x",
         "y": [
          62.666666666666664
         ],
         "yaxis": "y"
        }
       ],
       "layout": {
        "height": 600,
        "legend": {
         "itemsizing": "constant",
         "tracegroupgap": 0
        },
        "margin": {
         "t": 60
        },
        "template": {
         "data": {
          "bar": [
           {
            "error_x": {
             "color": "#f2f5fa"
            },
            "error_y": {
             "color": "#f2f5fa"
            },
            "marker": {
             "line": {
              "color": "rgb(17,17,17)",
              "width": 0.5
             }
            },
            "type": "bar"
           }
          ],
          "barpolar": [
           {
            "marker": {
             "line": {
              "color": "rgb(17,17,17)",
              "width": 0.5
             }
            },
            "type": "barpolar"
           }
          ],
          "carpet": [
           {
            "aaxis": {
             "endlinecolor": "#A2B1C6",
             "gridcolor": "#506784",
             "linecolor": "#506784",
             "minorgridcolor": "#506784",
             "startlinecolor": "#A2B1C6"
            },
            "baxis": {
             "endlinecolor": "#A2B1C6",
             "gridcolor": "#506784",
             "linecolor": "#506784",
             "minorgridcolor": "#506784",
             "startlinecolor": "#A2B1C6"
            },
            "type": "carpet"
           }
          ],
          "choropleth": [
           {
            "colorbar": {
             "outlinewidth": 0,
             "ticks": ""
            },
            "type": "choropleth"
           }
          ],
          "contour": [
           {
            "colorbar": {
             "outlinewidth": 0,
             "ticks": ""
            },
            "colorscale": [
             [
              0,
              "#0d0887"
             ],
             [
              0.1111111111111111,
              "#46039f"
             ],
             [
              0.2222222222222222,
              "#7201a8"
             ],
             [
              0.3333333333333333,
              "#9c179e"
             ],
             [
              0.4444444444444444,
              "#bd3786"
             ],
             [
              0.5555555555555556,
              "#d8576b"
             ],
             [
              0.6666666666666666,
              "#ed7953"
             ],
             [
              0.7777777777777778,
              "#fb9f3a"
             ],
             [
              0.8888888888888888,
              "#fdca26"
             ],
             [
              1,
              "#f0f921"
             ]
            ],
            "type": "contour"
           }
          ],
          "contourcarpet": [
           {
            "colorbar": {
             "outlinewidth": 0,
             "ticks": ""
            },
            "type": "contourcarpet"
           }
          ],
          "heatmap": [
           {
            "colorbar": {
             "outlinewidth": 0,
             "ticks": ""
            },
            "colorscale": [
             [
              0,
              "#0d0887"
             ],
             [
              0.1111111111111111,
              "#46039f"
             ],
             [
              0.2222222222222222,
              "#7201a8"
             ],
             [
              0.3333333333333333,
              "#9c179e"
             ],
             [
              0.4444444444444444,
              "#bd3786"
             ],
             [
              0.5555555555555556,
              "#d8576b"
             ],
             [
              0.6666666666666666,
              "#ed7953"
             ],
             [
              0.7777777777777778,
              "#fb9f3a"
             ],
             [
              0.8888888888888888,
              "#fdca26"
             ],
             [
              1,
              "#f0f921"
             ]
            ],
            "type": "heatmap"
           }
          ],
          "heatmapgl": [
           {
            "colorbar": {
             "outlinewidth": 0,
             "ticks": ""
            },
            "colorscale": [
             [
              0,
              "#0d0887"
             ],
             [
              0.1111111111111111,
              "#46039f"
             ],
             [
              0.2222222222222222,
              "#7201a8"
             ],
             [
              0.3333333333333333,
              "#9c179e"
             ],
             [
              0.4444444444444444,
              "#bd3786"
             ],
             [
              0.5555555555555556,
              "#d8576b"
             ],
             [
              0.6666666666666666,
              "#ed7953"
             ],
             [
              0.7777777777777778,
              "#fb9f3a"
             ],
             [
              0.8888888888888888,
              "#fdca26"
             ],
             [
              1,
              "#f0f921"
             ]
            ],
            "type": "heatmapgl"
           }
          ],
          "histogram": [
           {
            "marker": {
             "colorbar": {
              "outlinewidth": 0,
              "ticks": ""
             }
            },
            "type": "histogram"
           }
          ],
          "histogram2d": [
           {
            "colorbar": {
             "outlinewidth": 0,
             "ticks": ""
            },
            "colorscale": [
             [
              0,
              "#0d0887"
             ],
             [
              0.1111111111111111,
              "#46039f"
             ],
             [
              0.2222222222222222,
              "#7201a8"
             ],
             [
              0.3333333333333333,
              "#9c179e"
             ],
             [
              0.4444444444444444,
              "#bd3786"
             ],
             [
              0.5555555555555556,
              "#d8576b"
             ],
             [
              0.6666666666666666,
              "#ed7953"
             ],
             [
              0.7777777777777778,
              "#fb9f3a"
             ],
             [
              0.8888888888888888,
              "#fdca26"
             ],
             [
              1,
              "#f0f921"
             ]
            ],
            "type": "histogram2d"
           }
          ],
          "histogram2dcontour": [
           {
            "colorbar": {
             "outlinewidth": 0,
             "ticks": ""
            },
            "colorscale": [
             [
              0,
              "#0d0887"
             ],
             [
              0.1111111111111111,
              "#46039f"
             ],
             [
              0.2222222222222222,
              "#7201a8"
             ],
             [
              0.3333333333333333,
              "#9c179e"
             ],
             [
              0.4444444444444444,
              "#bd3786"
             ],
             [
              0.5555555555555556,
              "#d8576b"
             ],
             [
              0.6666666666666666,
              "#ed7953"
             ],
             [
              0.7777777777777778,
              "#fb9f3a"
             ],
             [
              0.8888888888888888,
              "#fdca26"
             ],
             [
              1,
              "#f0f921"
             ]
            ],
            "type": "histogram2dcontour"
           }
          ],
          "mesh3d": [
           {
            "colorbar": {
             "outlinewidth": 0,
             "ticks": ""
            },
            "type": "mesh3d"
           }
          ],
          "parcoords": [
           {
            "line": {
             "colorbar": {
              "outlinewidth": 0,
              "ticks": ""
             }
            },
            "type": "parcoords"
           }
          ],
          "scatter": [
           {
            "marker": {
             "line": {
              "color": "#283442"
             }
            },
            "type": "scatter"
           }
          ],
          "scatter3d": [
           {
            "line": {
             "colorbar": {
              "outlinewidth": 0,
              "ticks": ""
             }
            },
            "marker": {
             "colorbar": {
              "outlinewidth": 0,
              "ticks": ""
             }
            },
            "type": "scatter3d"
           }
          ],
          "scattercarpet": [
           {
            "marker": {
             "colorbar": {
              "outlinewidth": 0,
              "ticks": ""
             }
            },
            "type": "scattercarpet"
           }
          ],
          "scattergeo": [
           {
            "marker": {
             "colorbar": {
              "outlinewidth": 0,
              "ticks": ""
             }
            },
            "type": "scattergeo"
           }
          ],
          "scattergl": [
           {
            "marker": {
             "line": {
              "color": "#283442"
             }
            },
            "type": "scattergl"
           }
          ],
          "scattermapbox": [
           {
            "marker": {
             "colorbar": {
              "outlinewidth": 0,
              "ticks": ""
             }
            },
            "type": "scattermapbox"
           }
          ],
          "scatterpolar": [
           {
            "marker": {
             "colorbar": {
              "outlinewidth": 0,
              "ticks": ""
             }
            },
            "type": "scatterpolar"
           }
          ],
          "scatterpolargl": [
           {
            "marker": {
             "colorbar": {
              "outlinewidth": 0,
              "ticks": ""
             }
            },
            "type": "scatterpolargl"
           }
          ],
          "scatterternary": [
           {
            "marker": {
             "colorbar": {
              "outlinewidth": 0,
              "ticks": ""
             }
            },
            "type": "scatterternary"
           }
          ],
          "surface": [
           {
            "colorbar": {
             "outlinewidth": 0,
             "ticks": ""
            },
            "colorscale": [
             [
              0,
              "#0d0887"
             ],
             [
              0.1111111111111111,
              "#46039f"
             ],
             [
              0.2222222222222222,
              "#7201a8"
             ],
             [
              0.3333333333333333,
              "#9c179e"
             ],
             [
              0.4444444444444444,
              "#bd3786"
             ],
             [
              0.5555555555555556,
              "#d8576b"
             ],
             [
              0.6666666666666666,
              "#ed7953"
             ],
             [
              0.7777777777777778,
              "#fb9f3a"
             ],
             [
              0.8888888888888888,
              "#fdca26"
             ],
             [
              1,
              "#f0f921"
             ]
            ],
            "type": "surface"
           }
          ],
          "table": [
           {
            "cells": {
             "fill": {
              "color": "#506784"
             },
             "line": {
              "color": "rgb(17,17,17)"
             }
            },
            "header": {
             "fill": {
              "color": "#2a3f5f"
             },
             "line": {
              "color": "rgb(17,17,17)"
             }
            },
            "type": "table"
           }
          ]
         },
         "layout": {
          "annotationdefaults": {
           "arrowcolor": "#f2f5fa",
           "arrowhead": 0,
           "arrowwidth": 1
          },
          "colorscale": {
           "diverging": [
            [
             0,
             "#8e0152"
            ],
            [
             0.1,
             "#c51b7d"
            ],
            [
             0.2,
             "#de77ae"
            ],
            [
             0.3,
             "#f1b6da"
            ],
            [
             0.4,
             "#fde0ef"
            ],
            [
             0.5,
             "#f7f7f7"
            ],
            [
             0.6,
             "#e6f5d0"
            ],
            [
             0.7,
             "#b8e186"
            ],
            [
             0.8,
             "#7fbc41"
            ],
            [
             0.9,
             "#4d9221"
            ],
            [
             1,
             "#276419"
            ]
           ],
           "sequential": [
            [
             0,
             "#0d0887"
            ],
            [
             0.1111111111111111,
             "#46039f"
            ],
            [
             0.2222222222222222,
             "#7201a8"
            ],
            [
             0.3333333333333333,
             "#9c179e"
            ],
            [
             0.4444444444444444,
             "#bd3786"
            ],
            [
             0.5555555555555556,
             "#d8576b"
            ],
            [
             0.6666666666666666,
             "#ed7953"
            ],
            [
             0.7777777777777778,
             "#fb9f3a"
            ],
            [
             0.8888888888888888,
             "#fdca26"
            ],
            [
             1,
             "#f0f921"
            ]
           ],
           "sequentialminus": [
            [
             0,
             "#0d0887"
            ],
            [
             0.1111111111111111,
             "#46039f"
            ],
            [
             0.2222222222222222,
             "#7201a8"
            ],
            [
             0.3333333333333333,
             "#9c179e"
            ],
            [
             0.4444444444444444,
             "#bd3786"
            ],
            [
             0.5555555555555556,
             "#d8576b"
            ],
            [
             0.6666666666666666,
             "#ed7953"
            ],
            [
             0.7777777777777778,
             "#fb9f3a"
            ],
            [
             0.8888888888888888,
             "#fdca26"
            ],
            [
             1,
             "#f0f921"
            ]
           ]
          },
          "colorway": [
           "#636efa",
           "#EF553B",
           "#00cc96",
           "#ab63fa",
           "#FFA15A",
           "#19d3f3",
           "#FF6692",
           "#B6E880",
           "#FF97FF",
           "#FECB52"
          ],
          "font": {
           "color": "#f2f5fa"
          },
          "geo": {
           "bgcolor": "rgb(17,17,17)",
           "lakecolor": "rgb(17,17,17)",
           "landcolor": "rgb(17,17,17)",
           "showlakes": true,
           "showland": true,
           "subunitcolor": "#506784"
          },
          "hoverlabel": {
           "align": "left"
          },
          "hovermode": "closest",
          "mapbox": {
           "style": "dark"
          },
          "paper_bgcolor": "rgb(17,17,17)",
          "plot_bgcolor": "rgb(17,17,17)",
          "polar": {
           "angularaxis": {
            "gridcolor": "#506784",
            "linecolor": "#506784",
            "ticks": ""
           },
           "bgcolor": "rgb(17,17,17)",
           "radialaxis": {
            "gridcolor": "#506784",
            "linecolor": "#506784",
            "ticks": ""
           }
          },
          "scene": {
           "xaxis": {
            "backgroundcolor": "rgb(17,17,17)",
            "gridcolor": "#506784",
            "gridwidth": 2,
            "linecolor": "#506784",
            "showbackground": true,
            "ticks": "",
            "zerolinecolor": "#C8D4E3"
           },
           "yaxis": {
            "backgroundcolor": "rgb(17,17,17)",
            "gridcolor": "#506784",
            "gridwidth": 2,
            "linecolor": "#506784",
            "showbackground": true,
            "ticks": "",
            "zerolinecolor": "#C8D4E3"
           },
           "zaxis": {
            "backgroundcolor": "rgb(17,17,17)",
            "gridcolor": "#506784",
            "gridwidth": 2,
            "linecolor": "#506784",
            "showbackground": true,
            "ticks": "",
            "zerolinecolor": "#C8D4E3"
           }
          },
          "shapedefaults": {
           "line": {
            "color": "#f2f5fa"
           }
          },
          "sliderdefaults": {
           "bgcolor": "#C8D4E3",
           "bordercolor": "rgb(17,17,17)",
           "borderwidth": 1,
           "tickwidth": 0
          },
          "ternary": {
           "aaxis": {
            "gridcolor": "#506784",
            "linecolor": "#506784",
            "ticks": ""
           },
           "baxis": {
            "gridcolor": "#506784",
            "linecolor": "#506784",
            "ticks": ""
           },
           "bgcolor": "rgb(17,17,17)",
           "caxis": {
            "gridcolor": "#506784",
            "linecolor": "#506784",
            "ticks": ""
           }
          },
          "title": {
           "x": 0.05
          },
          "updatemenudefaults": {
           "bgcolor": "#506784",
           "borderwidth": 0
          },
          "xaxis": {
           "automargin": true,
           "gridcolor": "#283442",
           "linecolor": "#506784",
           "ticks": "",
           "zerolinecolor": "#283442",
           "zerolinewidth": 2
          },
          "yaxis": {
           "automargin": true,
           "gridcolor": "#283442",
           "linecolor": "#506784",
           "ticks": "",
           "zerolinecolor": "#283442",
           "zerolinewidth": 2
          }
         }
        },
        "xaxis": {
         "anchor": "y",
         "domain": [
          0,
          0.98
         ],
         "title": {
          "text": "rep"
         },
         "type": "log"
        },
        "yaxis": {
         "anchor": "x",
         "domain": [
          0,
          1
         ],
         "title": {
          "text": "rep/ans"
         },
         "type": "log"
        }
       }
      },
      "text/html": [
       "<div>\n",
       "        \n",
       "        \n",
       "            <div id=\"92e81aa6-66fd-468e-acee-4d9d7efe86ed\" class=\"plotly-graph-div\" style=\"height:600px; width:100%;\"></div>\n",
       "            <script type=\"text/javascript\">\n",
       "                require([\"plotly\"], function(Plotly) {\n",
       "                    window.PLOTLYENV=window.PLOTLYENV || {};\n",
       "                    \n",
       "                if (document.getElementById(\"92e81aa6-66fd-468e-acee-4d9d7efe86ed\")) {\n",
       "                    Plotly.newPlot(\n",
       "                        '92e81aa6-66fd-468e-acee-4d9d7efe86ed',\n",
       "                        [{\"hoverlabel\": {\"namelength\": 0}, \"hovertemplate\": \"name=Neil Slater<br>answers=%{marker.size}<br>rep=%{x}<br>rep/ans=%{y}\", \"legendgroup\": \"name=Neil Slater, answers=36\", \"marker\": {\"color\": \"#636efa\", \"size\": [36], \"sizemode\": \"area\", \"sizeref\": 0.2925, \"symbol\": \"circle\"}, \"mode\": \"markers\", \"name\": \"name=Neil Slater, answers=36\", \"showlegend\": true, \"type\": \"scatter\", \"x\": [\"18824\"], \"xaxis\": \"x\", \"y\": [522.8888888888889], \"yaxis\": \"y\"}, {\"hoverlabel\": {\"namelength\": 0}, \"hovertemplate\": \"name=Franck Dernoncourt<br>answers=%{marker.size}<br>rep=%{x}<br>rep/ans=%{y}\", \"legendgroup\": \"name=Franck Dernoncourt, answers=10\", \"marker\": {\"color\": \"#EF553B\", \"size\": [10], \"sizemode\": \"area\", \"sizeref\": 0.2925, \"symbol\": \"diamond\"}, \"mode\": \"markers\", \"name\": \"name=Franck Dernoncourt, answers=10\", \"showlegend\": true, \"type\": \"scatter\", \"x\": [\"3656\"], \"xaxis\": \"x\", \"y\": [365.6], \"yaxis\": \"y\"}, {\"hoverlabel\": {\"namelength\": 0}, \"hovertemplate\": \"name=Jan van der Vegt<br>answers=%{marker.size}<br>rep=%{x}<br>rep/ans=%{y}\", \"legendgroup\": \"name=Jan van der Vegt, answers=23\", \"marker\": {\"color\": \"#00cc96\", \"size\": [23], \"sizemode\": \"area\", \"sizeref\": 0.2925, \"symbol\": \"square\"}, \"mode\": \"markers\", \"name\": \"name=Jan van der Vegt, answers=23\", \"showlegend\": true, \"type\": \"scatter\", \"x\": [\"6995\"], \"xaxis\": \"x\", \"y\": [304.1304347826087], \"yaxis\": \"y\"}, {\"hoverlabel\": {\"namelength\": 0}, \"hovertemplate\": \"name=Ryan Zotti<br>answers=%{marker.size}<br>rep=%{x}<br>rep/ans=%{y}\", \"legendgroup\": \"name=Ryan Zotti, answers=9\", \"marker\": {\"color\": \"#ab63fa\", \"size\": [9], \"sizemode\": \"area\", \"sizeref\": 0.2925, \"symbol\": \"x\"}, \"mode\": \"markers\", \"name\": \"name=Ryan Zotti, answers=9\", \"showlegend\": true, \"type\": \"scatter\", \"x\": [\"2564\"], \"xaxis\": \"x\", \"y\": [284.8888888888889], \"yaxis\": \"y\"}, {\"hoverlabel\": {\"namelength\": 0}, \"hovertemplate\": \"name=StatsSorceress<br>answers=%{marker.size}<br>rep=%{x}<br>rep/ans=%{y}\", \"legendgroup\": \"name=StatsSorceress, answers=8\", \"marker\": {\"color\": \"#FFA15A\", \"size\": [8], \"sizemode\": \"area\", \"sizeref\": 0.2925, \"symbol\": \"cross\"}, \"mode\": \"markers\", \"name\": \"name=StatsSorceress, answers=8\", \"showlegend\": true, \"type\": \"scatter\", \"x\": [\"1194\"], \"xaxis\": \"x\", \"y\": [149.25], \"yaxis\": \"y\"}, {\"hoverlabel\": {\"namelength\": 0}, \"hovertemplate\": \"name=stmax<br>answers=%{marker.size}<br>rep=%{x}<br>rep/ans=%{y}\", \"legendgroup\": \"name=stmax, answers=10\", \"marker\": {\"color\": \"#19d3f3\", \"size\": [10], \"sizemode\": \"area\", \"sizeref\": 0.2925, \"symbol\": \"diamond\"}, \"mode\": \"markers\", \"name\": \"name=stmax, answers=10\", \"showlegend\": true, \"type\": \"scatter\", \"x\": [\"1409\"], \"xaxis\": \"x\", \"y\": [140.9], \"yaxis\": \"y\"}, {\"hoverlabel\": {\"namelength\": 0}, \"hovertemplate\": \"name=Elias Strehle<br>answers=%{marker.size}<br>rep=%{x}<br>rep/ans=%{y}\", \"legendgroup\": \"name=Elias Strehle, answers=10\", \"marker\": {\"color\": \"#FF6692\", \"size\": [10], \"sizemode\": \"area\", \"sizeref\": 0.2925, \"symbol\": \"diamond\"}, \"mode\": \"markers\", \"name\": \"name=Elias Strehle, answers=10\", \"showlegend\": true, \"type\": \"scatter\", \"x\": [\"1311\"], \"xaxis\": \"x\", \"y\": [131.1], \"yaxis\": \"y\"}, {\"hoverlabel\": {\"namelength\": 0}, \"hovertemplate\": \"name=I_Play_With_Data<br>answers=%{marker.size}<br>rep=%{x}<br>rep/ans=%{y}\", \"legendgroup\": \"name=I_Play_With_Data, answers=10\", \"marker\": {\"color\": \"#B6E880\", \"size\": [10], \"sizemode\": \"area\", \"sizeref\": 0.2925, \"symbol\": \"diamond\"}, \"mode\": \"markers\", \"name\": \"name=I_Play_With_Data, answers=10\", \"showlegend\": true, \"type\": \"scatter\", \"x\": [\"1294\"], \"xaxis\": \"x\", \"y\": [129.4], \"yaxis\": \"y\"}, {\"hoverlabel\": {\"namelength\": 0}, \"hovertemplate\": \"name=Shamit Verma<br>answers=%{marker.size}<br>rep=%{x}<br>rep/ans=%{y}\", \"legendgroup\": \"name=Shamit Verma, answers=14\", \"marker\": {\"color\": \"#FF97FF\", \"size\": [14], \"sizemode\": \"area\", \"sizeref\": 0.2925, \"symbol\": \"circle\"}, \"mode\": \"markers\", \"name\": \"name=Shamit Verma, answers=14\", \"showlegend\": true, \"type\": \"scatter\", \"x\": [\"1754\"], \"xaxis\": \"x\", \"y\": [125.28571428571429], \"yaxis\": \"y\"}, {\"hoverlabel\": {\"namelength\": 0}, \"hovertemplate\": \"name=thanatoz<br>answers=%{marker.size}<br>rep=%{x}<br>rep/ans=%{y}\", \"legendgroup\": \"name=thanatoz, answers=8\", \"marker\": {\"color\": \"#FECB52\", \"size\": [8], \"sizemode\": \"area\", \"sizeref\": 0.2925, \"symbol\": \"cross\"}, \"mode\": \"markers\", \"name\": \"name=thanatoz, answers=8\", \"showlegend\": true, \"type\": \"scatter\", \"x\": [\"900\"], \"xaxis\": \"x\", \"y\": [112.5], \"yaxis\": \"y\"}, {\"hoverlabel\": {\"namelength\": 0}, \"hovertemplate\": \"name=Peter<br>answers=%{marker.size}<br>rep=%{x}<br>rep/ans=%{y}\", \"legendgroup\": \"name=Peter, answers=17\", \"marker\": {\"color\": \"#636efa\", \"size\": [17], \"sizemode\": \"area\", \"sizeref\": 0.2925, \"symbol\": \"diamond\"}, \"mode\": \"markers\", \"name\": \"name=Peter, answers=17\", \"showlegend\": true, \"type\": \"scatter\", \"x\": [\"1648\"], \"xaxis\": \"x\", \"y\": [96.94117647058823], \"yaxis\": \"y\"}, {\"hoverlabel\": {\"namelength\": 0}, \"hovertemplate\": \"name=Kiritee Gak<br>answers=%{marker.size}<br>rep=%{x}<br>rep/ans=%{y}\", \"legendgroup\": \"name=Kiritee Gak, answers=15\", \"marker\": {\"color\": \"#EF553B\", \"size\": [15], \"sizemode\": \"area\", \"sizeref\": 0.2925, \"symbol\": \"square\"}, \"mode\": \"markers\", \"name\": \"name=Kiritee Gak, answers=15\", \"showlegend\": true, \"type\": \"scatter\", \"x\": [\"1379\"], \"xaxis\": \"x\", \"y\": [91.93333333333334], \"yaxis\": \"y\"}, {\"hoverlabel\": {\"namelength\": 0}, \"hovertemplate\": \"name=Stephen Rauch<br>answers=%{marker.size}<br>rep=%{x}<br>rep/ans=%{y}\", \"legendgroup\": \"name=Stephen Rauch, answers=19\", \"marker\": {\"color\": \"#00cc96\", \"size\": [19], \"sizemode\": \"area\", \"sizeref\": 0.2925, \"symbol\": \"x\"}, \"mode\": \"markers\", \"name\": \"name=Stephen Rauch, answers=19\", \"showlegend\": true, \"type\": \"scatter\", \"x\": [\"1598\"], \"xaxis\": \"x\", \"y\": [84.10526315789474], \"yaxis\": \"y\"}, {\"hoverlabel\": {\"namelength\": 0}, \"hovertemplate\": \"name=Antonio Juri\\u0107<br>answers=%{marker.size}<br>rep=%{x}<br>rep/ans=%{y}\", \"legendgroup\": \"name=Antonio Juri\\u0107, answers=10\", \"marker\": {\"color\": \"#ab63fa\", \"size\": [10], \"sizemode\": \"area\", \"sizeref\": 0.2925, \"symbol\": \"diamond\"}, \"mode\": \"markers\", \"name\": \"name=Antonio Juri\\u0107, answers=10\", \"showlegend\": true, \"type\": \"scatter\", \"x\": [\"789\"], \"xaxis\": \"x\", \"y\": [78.9], \"yaxis\": \"y\"}, {\"hoverlabel\": {\"namelength\": 0}, \"hovertemplate\": \"name=tuomastik<br>answers=%{marker.size}<br>rep=%{x}<br>rep/ans=%{y}\", \"legendgroup\": \"name=tuomastik, answers=10\", \"marker\": {\"color\": \"#FFA15A\", \"size\": [10], \"sizemode\": \"area\", \"sizeref\": 0.2925, \"symbol\": \"diamond\"}, \"mode\": \"markers\", \"name\": \"name=tuomastik, answers=10\", \"showlegend\": true, \"type\": \"scatter\", \"x\": [\"781\"], \"xaxis\": \"x\", \"y\": [78.1], \"yaxis\": \"y\"}, {\"hoverlabel\": {\"namelength\": 0}, \"hovertemplate\": \"name=TitoOrt<br>answers=%{marker.size}<br>rep=%{x}<br>rep/ans=%{y}\", \"legendgroup\": \"name=TitoOrt, answers=11\", \"marker\": {\"color\": \"#19d3f3\", \"size\": [11], \"sizemode\": \"area\", \"sizeref\": 0.2925, \"symbol\": \"cross\"}, \"mode\": \"markers\", \"name\": \"name=TitoOrt, answers=11\", \"showlegend\": true, \"type\": \"scatter\", \"x\": [\"822\"], \"xaxis\": \"x\", \"y\": [74.72727272727273], \"yaxis\": \"y\"}, {\"hoverlabel\": {\"namelength\": 0}, \"hovertemplate\": \"name=Aditya<br>answers=%{marker.size}<br>rep=%{x}<br>rep/ans=%{y}\", \"legendgroup\": \"name=Aditya, answers=22\", \"marker\": {\"color\": \"#FF6692\", \"size\": [22], \"sizemode\": \"area\", \"sizeref\": 0.2925, \"symbol\": \"circle\"}, \"mode\": \"markers\", \"name\": \"name=Aditya, answers=22\", \"showlegend\": true, \"type\": \"scatter\", \"x\": [\"1577\"], \"xaxis\": \"x\", \"y\": [71.68181818181819], \"yaxis\": \"y\"}, {\"hoverlabel\": {\"namelength\": 0}, \"hovertemplate\": \"name=n1k31t4<br>answers=%{marker.size}<br>rep=%{x}<br>rep/ans=%{y}\", \"legendgroup\": \"name=n1k31t4, answers=117\", \"marker\": {\"color\": \"#B6E880\", \"size\": [117], \"sizemode\": \"area\", \"sizeref\": 0.2925, \"symbol\": \"diamond\"}, \"mode\": \"markers\", \"name\": \"name=n1k31t4, answers=117\", \"showlegend\": true, \"type\": \"scatter\", \"x\": [\"8181\"], \"xaxis\": \"x\", \"y\": [69.92307692307692], \"yaxis\": \"y\"}, {\"hoverlabel\": {\"namelength\": 0}, \"hovertemplate\": \"name=Ankit Seth<br>answers=%{marker.size}<br>rep=%{x}<br>rep/ans=%{y}\", \"legendgroup\": \"name=Ankit Seth, answers=17\", \"marker\": {\"color\": \"#FF97FF\", \"size\": [17], \"sizemode\": \"area\", \"sizeref\": 0.2925, \"symbol\": \"diamond\"}, \"mode\": \"markers\", \"name\": \"name=Ankit Seth, answers=17\", \"showlegend\": true, \"type\": \"scatter\", \"x\": [\"1159\"], \"xaxis\": \"x\", \"y\": [68.17647058823529], \"yaxis\": \"y\"}, {\"hoverlabel\": {\"namelength\": 0}, \"hovertemplate\": \"name=Juan Esteban de la Calle<br>answers=%{marker.size}<br>rep=%{x}<br>rep/ans=%{y}\", \"legendgroup\": \"name=Juan Esteban de la Calle, answers=24\", \"marker\": {\"color\": \"#FECB52\", \"size\": [24], \"sizemode\": \"area\", \"sizeref\": 0.2925, \"symbol\": \"square\"}, \"mode\": \"markers\", \"name\": \"name=Juan Esteban de la Calle, answers=24\", \"showlegend\": true, \"type\": \"scatter\", \"x\": [\"1504\"], \"xaxis\": \"x\", \"y\": [62.666666666666664], \"yaxis\": \"y\"}],\n",
       "                        {\"height\": 600, \"legend\": {\"itemsizing\": \"constant\", \"tracegroupgap\": 0}, \"margin\": {\"t\": 60}, \"template\": {\"data\": {\"bar\": [{\"error_x\": {\"color\": \"#f2f5fa\"}, \"error_y\": {\"color\": \"#f2f5fa\"}, \"marker\": {\"line\": {\"color\": \"rgb(17,17,17)\", \"width\": 0.5}}, \"type\": \"bar\"}], \"barpolar\": [{\"marker\": {\"line\": {\"color\": \"rgb(17,17,17)\", \"width\": 0.5}}, \"type\": \"barpolar\"}], \"carpet\": [{\"aaxis\": {\"endlinecolor\": \"#A2B1C6\", \"gridcolor\": \"#506784\", \"linecolor\": \"#506784\", \"minorgridcolor\": \"#506784\", \"startlinecolor\": \"#A2B1C6\"}, \"baxis\": {\"endlinecolor\": \"#A2B1C6\", \"gridcolor\": \"#506784\", \"linecolor\": \"#506784\", \"minorgridcolor\": \"#506784\", \"startlinecolor\": \"#A2B1C6\"}, \"type\": \"carpet\"}], \"choropleth\": [{\"colorbar\": {\"outlinewidth\": 0, \"ticks\": \"\"}, \"type\": \"choropleth\"}], \"contour\": [{\"colorbar\": {\"outlinewidth\": 0, \"ticks\": \"\"}, \"colorscale\": [[0.0, \"#0d0887\"], [0.1111111111111111, \"#46039f\"], [0.2222222222222222, \"#7201a8\"], [0.3333333333333333, \"#9c179e\"], [0.4444444444444444, \"#bd3786\"], [0.5555555555555556, \"#d8576b\"], [0.6666666666666666, \"#ed7953\"], [0.7777777777777778, \"#fb9f3a\"], [0.8888888888888888, \"#fdca26\"], [1.0, \"#f0f921\"]], \"type\": \"contour\"}], \"contourcarpet\": [{\"colorbar\": {\"outlinewidth\": 0, \"ticks\": \"\"}, \"type\": \"contourcarpet\"}], \"heatmap\": [{\"colorbar\": {\"outlinewidth\": 0, \"ticks\": \"\"}, \"colorscale\": [[0.0, \"#0d0887\"], [0.1111111111111111, \"#46039f\"], [0.2222222222222222, \"#7201a8\"], [0.3333333333333333, \"#9c179e\"], [0.4444444444444444, \"#bd3786\"], [0.5555555555555556, \"#d8576b\"], [0.6666666666666666, \"#ed7953\"], [0.7777777777777778, \"#fb9f3a\"], [0.8888888888888888, \"#fdca26\"], [1.0, \"#f0f921\"]], \"type\": \"heatmap\"}], \"heatmapgl\": [{\"colorbar\": {\"outlinewidth\": 0, \"ticks\": \"\"}, \"colorscale\": [[0.0, \"#0d0887\"], [0.1111111111111111, \"#46039f\"], [0.2222222222222222, \"#7201a8\"], [0.3333333333333333, \"#9c179e\"], [0.4444444444444444, \"#bd3786\"], [0.5555555555555556, \"#d8576b\"], [0.6666666666666666, \"#ed7953\"], [0.7777777777777778, \"#fb9f3a\"], [0.8888888888888888, \"#fdca26\"], [1.0, \"#f0f921\"]], \"type\": \"heatmapgl\"}], \"histogram\": [{\"marker\": {\"colorbar\": {\"outlinewidth\": 0, \"ticks\": \"\"}}, \"type\": \"histogram\"}], \"histogram2d\": [{\"colorbar\": {\"outlinewidth\": 0, \"ticks\": \"\"}, \"colorscale\": [[0.0, \"#0d0887\"], [0.1111111111111111, \"#46039f\"], [0.2222222222222222, \"#7201a8\"], [0.3333333333333333, \"#9c179e\"], [0.4444444444444444, \"#bd3786\"], [0.5555555555555556, \"#d8576b\"], [0.6666666666666666, \"#ed7953\"], [0.7777777777777778, \"#fb9f3a\"], [0.8888888888888888, \"#fdca26\"], [1.0, \"#f0f921\"]], \"type\": \"histogram2d\"}], \"histogram2dcontour\": [{\"colorbar\": {\"outlinewidth\": 0, \"ticks\": \"\"}, \"colorscale\": [[0.0, \"#0d0887\"], [0.1111111111111111, \"#46039f\"], [0.2222222222222222, \"#7201a8\"], [0.3333333333333333, \"#9c179e\"], [0.4444444444444444, \"#bd3786\"], [0.5555555555555556, \"#d8576b\"], [0.6666666666666666, \"#ed7953\"], [0.7777777777777778, \"#fb9f3a\"], [0.8888888888888888, \"#fdca26\"], [1.0, \"#f0f921\"]], \"type\": \"histogram2dcontour\"}], \"mesh3d\": [{\"colorbar\": {\"outlinewidth\": 0, \"ticks\": \"\"}, \"type\": \"mesh3d\"}], \"parcoords\": [{\"line\": {\"colorbar\": {\"outlinewidth\": 0, \"ticks\": \"\"}}, \"type\": \"parcoords\"}], \"scatter\": [{\"marker\": {\"line\": {\"color\": \"#283442\"}}, \"type\": \"scatter\"}], \"scatter3d\": [{\"line\": {\"colorbar\": {\"outlinewidth\": 0, \"ticks\": \"\"}}, \"marker\": {\"colorbar\": {\"outlinewidth\": 0, \"ticks\": \"\"}}, \"type\": \"scatter3d\"}], \"scattercarpet\": [{\"marker\": {\"colorbar\": {\"outlinewidth\": 0, \"ticks\": \"\"}}, \"type\": \"scattercarpet\"}], \"scattergeo\": [{\"marker\": {\"colorbar\": {\"outlinewidth\": 0, \"ticks\": \"\"}}, \"type\": \"scattergeo\"}], \"scattergl\": [{\"marker\": {\"line\": {\"color\": \"#283442\"}}, \"type\": \"scattergl\"}], \"scattermapbox\": [{\"marker\": {\"colorbar\": {\"outlinewidth\": 0, \"ticks\": \"\"}}, \"type\": \"scattermapbox\"}], \"scatterpolar\": [{\"marker\": {\"colorbar\": {\"outlinewidth\": 0, \"ticks\": \"\"}}, \"type\": \"scatterpolar\"}], \"scatterpolargl\": [{\"marker\": {\"colorbar\": {\"outlinewidth\": 0, \"ticks\": \"\"}}, \"type\": \"scatterpolargl\"}], \"scatterternary\": [{\"marker\": {\"colorbar\": {\"outlinewidth\": 0, \"ticks\": \"\"}}, \"type\": \"scatterternary\"}], \"surface\": [{\"colorbar\": {\"outlinewidth\": 0, \"ticks\": \"\"}, \"colorscale\": [[0.0, \"#0d0887\"], [0.1111111111111111, \"#46039f\"], [0.2222222222222222, \"#7201a8\"], [0.3333333333333333, \"#9c179e\"], [0.4444444444444444, \"#bd3786\"], [0.5555555555555556, \"#d8576b\"], [0.6666666666666666, \"#ed7953\"], [0.7777777777777778, \"#fb9f3a\"], [0.8888888888888888, \"#fdca26\"], [1.0, \"#f0f921\"]], \"type\": \"surface\"}], \"table\": [{\"cells\": {\"fill\": {\"color\": \"#506784\"}, \"line\": {\"color\": \"rgb(17,17,17)\"}}, \"header\": {\"fill\": {\"color\": \"#2a3f5f\"}, \"line\": {\"color\": \"rgb(17,17,17)\"}}, \"type\": \"table\"}]}, \"layout\": {\"annotationdefaults\": {\"arrowcolor\": \"#f2f5fa\", \"arrowhead\": 0, \"arrowwidth\": 1}, \"colorscale\": {\"diverging\": [[0, \"#8e0152\"], [0.1, \"#c51b7d\"], [0.2, \"#de77ae\"], [0.3, \"#f1b6da\"], [0.4, \"#fde0ef\"], [0.5, \"#f7f7f7\"], [0.6, \"#e6f5d0\"], [0.7, \"#b8e186\"], [0.8, \"#7fbc41\"], [0.9, \"#4d9221\"], [1, \"#276419\"]], \"sequential\": [[0.0, \"#0d0887\"], [0.1111111111111111, \"#46039f\"], [0.2222222222222222, \"#7201a8\"], [0.3333333333333333, \"#9c179e\"], [0.4444444444444444, \"#bd3786\"], [0.5555555555555556, \"#d8576b\"], [0.6666666666666666, \"#ed7953\"], [0.7777777777777778, \"#fb9f3a\"], [0.8888888888888888, \"#fdca26\"], [1.0, \"#f0f921\"]], \"sequentialminus\": [[0.0, \"#0d0887\"], [0.1111111111111111, \"#46039f\"], [0.2222222222222222, \"#7201a8\"], [0.3333333333333333, \"#9c179e\"], [0.4444444444444444, \"#bd3786\"], [0.5555555555555556, \"#d8576b\"], [0.6666666666666666, \"#ed7953\"], [0.7777777777777778, \"#fb9f3a\"], [0.8888888888888888, \"#fdca26\"], [1.0, \"#f0f921\"]]}, \"colorway\": [\"#636efa\", \"#EF553B\", \"#00cc96\", \"#ab63fa\", \"#FFA15A\", \"#19d3f3\", \"#FF6692\", \"#B6E880\", \"#FF97FF\", \"#FECB52\"], \"font\": {\"color\": \"#f2f5fa\"}, \"geo\": {\"bgcolor\": \"rgb(17,17,17)\", \"lakecolor\": \"rgb(17,17,17)\", \"landcolor\": \"rgb(17,17,17)\", \"showlakes\": true, \"showland\": true, \"subunitcolor\": \"#506784\"}, \"hoverlabel\": {\"align\": \"left\"}, \"hovermode\": \"closest\", \"mapbox\": {\"style\": \"dark\"}, \"paper_bgcolor\": \"rgb(17,17,17)\", \"plot_bgcolor\": \"rgb(17,17,17)\", \"polar\": {\"angularaxis\": {\"gridcolor\": \"#506784\", \"linecolor\": \"#506784\", \"ticks\": \"\"}, \"bgcolor\": \"rgb(17,17,17)\", \"radialaxis\": {\"gridcolor\": \"#506784\", \"linecolor\": \"#506784\", \"ticks\": \"\"}}, \"scene\": {\"xaxis\": {\"backgroundcolor\": \"rgb(17,17,17)\", \"gridcolor\": \"#506784\", \"gridwidth\": 2, \"linecolor\": \"#506784\", \"showbackground\": true, \"ticks\": \"\", \"zerolinecolor\": \"#C8D4E3\"}, \"yaxis\": {\"backgroundcolor\": \"rgb(17,17,17)\", \"gridcolor\": \"#506784\", \"gridwidth\": 2, \"linecolor\": \"#506784\", \"showbackground\": true, \"ticks\": \"\", \"zerolinecolor\": \"#C8D4E3\"}, \"zaxis\": {\"backgroundcolor\": \"rgb(17,17,17)\", \"gridcolor\": \"#506784\", \"gridwidth\": 2, \"linecolor\": \"#506784\", \"showbackground\": true, \"ticks\": \"\", \"zerolinecolor\": \"#C8D4E3\"}}, \"shapedefaults\": {\"line\": {\"color\": \"#f2f5fa\"}}, \"sliderdefaults\": {\"bgcolor\": \"#C8D4E3\", \"bordercolor\": \"rgb(17,17,17)\", \"borderwidth\": 1, \"tickwidth\": 0}, \"ternary\": {\"aaxis\": {\"gridcolor\": \"#506784\", \"linecolor\": \"#506784\", \"ticks\": \"\"}, \"baxis\": {\"gridcolor\": \"#506784\", \"linecolor\": \"#506784\", \"ticks\": \"\"}, \"bgcolor\": \"rgb(17,17,17)\", \"caxis\": {\"gridcolor\": \"#506784\", \"linecolor\": \"#506784\", \"ticks\": \"\"}}, \"title\": {\"x\": 0.05}, \"updatemenudefaults\": {\"bgcolor\": \"#506784\", \"borderwidth\": 0}, \"xaxis\": {\"automargin\": true, \"gridcolor\": \"#283442\", \"linecolor\": \"#506784\", \"ticks\": \"\", \"zerolinecolor\": \"#283442\", \"zerolinewidth\": 2}, \"yaxis\": {\"automargin\": true, \"gridcolor\": \"#283442\", \"linecolor\": \"#506784\", \"ticks\": \"\", \"zerolinecolor\": \"#283442\", \"zerolinewidth\": 2}}}, \"xaxis\": {\"anchor\": \"y\", \"domain\": [0.0, 0.98], \"title\": {\"text\": \"rep\"}, \"type\": \"log\"}, \"yaxis\": {\"anchor\": \"x\", \"domain\": [0.0, 1.0], \"title\": {\"text\": \"rep/ans\"}, \"type\": \"log\"}},\n",
       "                        {\"responsive\": true}\n",
       "                    ).then(function(){\n",
       "                            \n",
       "var gd = document.getElementById('92e81aa6-66fd-468e-acee-4d9d7efe86ed');\n",
       "var x = new MutationObserver(function (mutations, observer) {{\n",
       "        var display = window.getComputedStyle(gd).display;\n",
       "        if (!display || display === 'none') {{\n",
       "            console.log([gd, 'removed!']);\n",
       "            Plotly.purge(gd);\n",
       "            observer.disconnect();\n",
       "        }}\n",
       "}});\n",
       "\n",
       "// Listen for the removal of the full notebook cells\n",
       "var notebookContainer = gd.closest('#notebook-container');\n",
       "if (notebookContainer) {{\n",
       "    x.observe(notebookContainer, {childList: true});\n",
       "}}\n",
       "\n",
       "// Listen for the clearing of the current output cell\n",
       "var outputEl = gd.closest('.output');\n",
       "if (outputEl) {{\n",
       "    x.observe(outputEl, {childList: true});\n",
       "}}\n",
       "\n",
       "                        })\n",
       "                };\n",
       "                });\n",
       "            </script>\n",
       "        </div>"
      ]
     },
     "metadata": {},
     "output_type": "display_data"
    }
   ],
   "source": [
    "fig2 = px.scatter(sort_by, x=\"rep\", y=\"rep/ans\", size=\"answers\", symbol=\"answers\", color=\"name\", log_x=True, log_y=True, template='plotly_dark')\n",
    "fig2.show()"
   ]
  },
  {
   "cell_type": "code",
   "execution_count": 95,
   "metadata": {},
   "outputs": [
    {
     "data": {
      "application/vnd.plotly.v1+json": {
       "config": {
        "plotlyServerURL": "https://plot.ly"
       },
       "data": [
        {
         "alignmentgroup": "True",
         "hoverlabel": {
          "namelength": 0
         },
         "hovertemplate": "rep/ans=%{y}",
         "legendgroup": "",
         "marker": {
          "color": "#636efa"
         },
         "name": "",
         "notched": false,
         "offsetgroup": "",
         "orientation": "v",
         "showlegend": false,
         "type": "box",
         "x0": " ",
         "xaxis": "x",
         "y": [
          522.8888888888889,
          365.6,
          304.1304347826087,
          284.8888888888889,
          149.25,
          140.9,
          131.1,
          129.4,
          125.28571428571429,
          112.5,
          96.94117647058823,
          91.93333333333334,
          84.10526315789474,
          78.9,
          78.1,
          74.72727272727273,
          71.68181818181819,
          69.92307692307692,
          68.17647058823529,
          62.666666666666664
         ],
         "y0": " ",
         "yaxis": "y"
        }
       ],
       "layout": {
        "boxmode": "group",
        "height": 600,
        "legend": {
         "tracegroupgap": 0
        },
        "template": {
         "data": {
          "bar": [
           {
            "error_x": {
             "color": "#f2f5fa"
            },
            "error_y": {
             "color": "#f2f5fa"
            },
            "marker": {
             "line": {
              "color": "rgb(17,17,17)",
              "width": 0.5
             }
            },
            "type": "bar"
           }
          ],
          "barpolar": [
           {
            "marker": {
             "line": {
              "color": "rgb(17,17,17)",
              "width": 0.5
             }
            },
            "type": "barpolar"
           }
          ],
          "carpet": [
           {
            "aaxis": {
             "endlinecolor": "#A2B1C6",
             "gridcolor": "#506784",
             "linecolor": "#506784",
             "minorgridcolor": "#506784",
             "startlinecolor": "#A2B1C6"
            },
            "baxis": {
             "endlinecolor": "#A2B1C6",
             "gridcolor": "#506784",
             "linecolor": "#506784",
             "minorgridcolor": "#506784",
             "startlinecolor": "#A2B1C6"
            },
            "type": "carpet"
           }
          ],
          "choropleth": [
           {
            "colorbar": {
             "outlinewidth": 0,
             "ticks": ""
            },
            "type": "choropleth"
           }
          ],
          "contour": [
           {
            "colorbar": {
             "outlinewidth": 0,
             "ticks": ""
            },
            "colorscale": [
             [
              0,
              "#0d0887"
             ],
             [
              0.1111111111111111,
              "#46039f"
             ],
             [
              0.2222222222222222,
              "#7201a8"
             ],
             [
              0.3333333333333333,
              "#9c179e"
             ],
             [
              0.4444444444444444,
              "#bd3786"
             ],
             [
              0.5555555555555556,
              "#d8576b"
             ],
             [
              0.6666666666666666,
              "#ed7953"
             ],
             [
              0.7777777777777778,
              "#fb9f3a"
             ],
             [
              0.8888888888888888,
              "#fdca26"
             ],
             [
              1,
              "#f0f921"
             ]
            ],
            "type": "contour"
           }
          ],
          "contourcarpet": [
           {
            "colorbar": {
             "outlinewidth": 0,
             "ticks": ""
            },
            "type": "contourcarpet"
           }
          ],
          "heatmap": [
           {
            "colorbar": {
             "outlinewidth": 0,
             "ticks": ""
            },
            "colorscale": [
             [
              0,
              "#0d0887"
             ],
             [
              0.1111111111111111,
              "#46039f"
             ],
             [
              0.2222222222222222,
              "#7201a8"
             ],
             [
              0.3333333333333333,
              "#9c179e"
             ],
             [
              0.4444444444444444,
              "#bd3786"
             ],
             [
              0.5555555555555556,
              "#d8576b"
             ],
             [
              0.6666666666666666,
              "#ed7953"
             ],
             [
              0.7777777777777778,
              "#fb9f3a"
             ],
             [
              0.8888888888888888,
              "#fdca26"
             ],
             [
              1,
              "#f0f921"
             ]
            ],
            "type": "heatmap"
           }
          ],
          "heatmapgl": [
           {
            "colorbar": {
             "outlinewidth": 0,
             "ticks": ""
            },
            "colorscale": [
             [
              0,
              "#0d0887"
             ],
             [
              0.1111111111111111,
              "#46039f"
             ],
             [
              0.2222222222222222,
              "#7201a8"
             ],
             [
              0.3333333333333333,
              "#9c179e"
             ],
             [
              0.4444444444444444,
              "#bd3786"
             ],
             [
              0.5555555555555556,
              "#d8576b"
             ],
             [
              0.6666666666666666,
              "#ed7953"
             ],
             [
              0.7777777777777778,
              "#fb9f3a"
             ],
             [
              0.8888888888888888,
              "#fdca26"
             ],
             [
              1,
              "#f0f921"
             ]
            ],
            "type": "heatmapgl"
           }
          ],
          "histogram": [
           {
            "marker": {
             "colorbar": {
              "outlinewidth": 0,
              "ticks": ""
             }
            },
            "type": "histogram"
           }
          ],
          "histogram2d": [
           {
            "colorbar": {
             "outlinewidth": 0,
             "ticks": ""
            },
            "colorscale": [
             [
              0,
              "#0d0887"
             ],
             [
              0.1111111111111111,
              "#46039f"
             ],
             [
              0.2222222222222222,
              "#7201a8"
             ],
             [
              0.3333333333333333,
              "#9c179e"
             ],
             [
              0.4444444444444444,
              "#bd3786"
             ],
             [
              0.5555555555555556,
              "#d8576b"
             ],
             [
              0.6666666666666666,
              "#ed7953"
             ],
             [
              0.7777777777777778,
              "#fb9f3a"
             ],
             [
              0.8888888888888888,
              "#fdca26"
             ],
             [
              1,
              "#f0f921"
             ]
            ],
            "type": "histogram2d"
           }
          ],
          "histogram2dcontour": [
           {
            "colorbar": {
             "outlinewidth": 0,
             "ticks": ""
            },
            "colorscale": [
             [
              0,
              "#0d0887"
             ],
             [
              0.1111111111111111,
              "#46039f"
             ],
             [
              0.2222222222222222,
              "#7201a8"
             ],
             [
              0.3333333333333333,
              "#9c179e"
             ],
             [
              0.4444444444444444,
              "#bd3786"
             ],
             [
              0.5555555555555556,
              "#d8576b"
             ],
             [
              0.6666666666666666,
              "#ed7953"
             ],
             [
              0.7777777777777778,
              "#fb9f3a"
             ],
             [
              0.8888888888888888,
              "#fdca26"
             ],
             [
              1,
              "#f0f921"
             ]
            ],
            "type": "histogram2dcontour"
           }
          ],
          "mesh3d": [
           {
            "colorbar": {
             "outlinewidth": 0,
             "ticks": ""
            },
            "type": "mesh3d"
           }
          ],
          "parcoords": [
           {
            "line": {
             "colorbar": {
              "outlinewidth": 0,
              "ticks": ""
             }
            },
            "type": "parcoords"
           }
          ],
          "scatter": [
           {
            "marker": {
             "line": {
              "color": "#283442"
             }
            },
            "type": "scatter"
           }
          ],
          "scatter3d": [
           {
            "line": {
             "colorbar": {
              "outlinewidth": 0,
              "ticks": ""
             }
            },
            "marker": {
             "colorbar": {
              "outlinewidth": 0,
              "ticks": ""
             }
            },
            "type": "scatter3d"
           }
          ],
          "scattercarpet": [
           {
            "marker": {
             "colorbar": {
              "outlinewidth": 0,
              "ticks": ""
             }
            },
            "type": "scattercarpet"
           }
          ],
          "scattergeo": [
           {
            "marker": {
             "colorbar": {
              "outlinewidth": 0,
              "ticks": ""
             }
            },
            "type": "scattergeo"
           }
          ],
          "scattergl": [
           {
            "marker": {
             "line": {
              "color": "#283442"
             }
            },
            "type": "scattergl"
           }
          ],
          "scattermapbox": [
           {
            "marker": {
             "colorbar": {
              "outlinewidth": 0,
              "ticks": ""
             }
            },
            "type": "scattermapbox"
           }
          ],
          "scatterpolar": [
           {
            "marker": {
             "colorbar": {
              "outlinewidth": 0,
              "ticks": ""
             }
            },
            "type": "scatterpolar"
           }
          ],
          "scatterpolargl": [
           {
            "marker": {
             "colorbar": {
              "outlinewidth": 0,
              "ticks": ""
             }
            },
            "type": "scatterpolargl"
           }
          ],
          "scatterternary": [
           {
            "marker": {
             "colorbar": {
              "outlinewidth": 0,
              "ticks": ""
             }
            },
            "type": "scatterternary"
           }
          ],
          "surface": [
           {
            "colorbar": {
             "outlinewidth": 0,
             "ticks": ""
            },
            "colorscale": [
             [
              0,
              "#0d0887"
             ],
             [
              0.1111111111111111,
              "#46039f"
             ],
             [
              0.2222222222222222,
              "#7201a8"
             ],
             [
              0.3333333333333333,
              "#9c179e"
             ],
             [
              0.4444444444444444,
              "#bd3786"
             ],
             [
              0.5555555555555556,
              "#d8576b"
             ],
             [
              0.6666666666666666,
              "#ed7953"
             ],
             [
              0.7777777777777778,
              "#fb9f3a"
             ],
             [
              0.8888888888888888,
              "#fdca26"
             ],
             [
              1,
              "#f0f921"
             ]
            ],
            "type": "surface"
           }
          ],
          "table": [
           {
            "cells": {
             "fill": {
              "color": "#506784"
             },
             "line": {
              "color": "rgb(17,17,17)"
             }
            },
            "header": {
             "fill": {
              "color": "#2a3f5f"
             },
             "line": {
              "color": "rgb(17,17,17)"
             }
            },
            "type": "table"
           }
          ]
         },
         "layout": {
          "annotationdefaults": {
           "arrowcolor": "#f2f5fa",
           "arrowhead": 0,
           "arrowwidth": 1
          },
          "colorscale": {
           "diverging": [
            [
             0,
             "#8e0152"
            ],
            [
             0.1,
             "#c51b7d"
            ],
            [
             0.2,
             "#de77ae"
            ],
            [
             0.3,
             "#f1b6da"
            ],
            [
             0.4,
             "#fde0ef"
            ],
            [
             0.5,
             "#f7f7f7"
            ],
            [
             0.6,
             "#e6f5d0"
            ],
            [
             0.7,
             "#b8e186"
            ],
            [
             0.8,
             "#7fbc41"
            ],
            [
             0.9,
             "#4d9221"
            ],
            [
             1,
             "#276419"
            ]
           ],
           "sequential": [
            [
             0,
             "#0d0887"
            ],
            [
             0.1111111111111111,
             "#46039f"
            ],
            [
             0.2222222222222222,
             "#7201a8"
            ],
            [
             0.3333333333333333,
             "#9c179e"
            ],
            [
             0.4444444444444444,
             "#bd3786"
            ],
            [
             0.5555555555555556,
             "#d8576b"
            ],
            [
             0.6666666666666666,
             "#ed7953"
            ],
            [
             0.7777777777777778,
             "#fb9f3a"
            ],
            [
             0.8888888888888888,
             "#fdca26"
            ],
            [
             1,
             "#f0f921"
            ]
           ],
           "sequentialminus": [
            [
             0,
             "#0d0887"
            ],
            [
             0.1111111111111111,
             "#46039f"
            ],
            [
             0.2222222222222222,
             "#7201a8"
            ],
            [
             0.3333333333333333,
             "#9c179e"
            ],
            [
             0.4444444444444444,
             "#bd3786"
            ],
            [
             0.5555555555555556,
             "#d8576b"
            ],
            [
             0.6666666666666666,
             "#ed7953"
            ],
            [
             0.7777777777777778,
             "#fb9f3a"
            ],
            [
             0.8888888888888888,
             "#fdca26"
            ],
            [
             1,
             "#f0f921"
            ]
           ]
          },
          "colorway": [
           "#636efa",
           "#EF553B",
           "#00cc96",
           "#ab63fa",
           "#FFA15A",
           "#19d3f3",
           "#FF6692",
           "#B6E880",
           "#FF97FF",
           "#FECB52"
          ],
          "font": {
           "color": "#f2f5fa"
          },
          "geo": {
           "bgcolor": "rgb(17,17,17)",
           "lakecolor": "rgb(17,17,17)",
           "landcolor": "rgb(17,17,17)",
           "showlakes": true,
           "showland": true,
           "subunitcolor": "#506784"
          },
          "hoverlabel": {
           "align": "left"
          },
          "hovermode": "closest",
          "mapbox": {
           "style": "dark"
          },
          "paper_bgcolor": "rgb(17,17,17)",
          "plot_bgcolor": "rgb(17,17,17)",
          "polar": {
           "angularaxis": {
            "gridcolor": "#506784",
            "linecolor": "#506784",
            "ticks": ""
           },
           "bgcolor": "rgb(17,17,17)",
           "radialaxis": {
            "gridcolor": "#506784",
            "linecolor": "#506784",
            "ticks": ""
           }
          },
          "scene": {
           "xaxis": {
            "backgroundcolor": "rgb(17,17,17)",
            "gridcolor": "#506784",
            "gridwidth": 2,
            "linecolor": "#506784",
            "showbackground": true,
            "ticks": "",
            "zerolinecolor": "#C8D4E3"
           },
           "yaxis": {
            "backgroundcolor": "rgb(17,17,17)",
            "gridcolor": "#506784",
            "gridwidth": 2,
            "linecolor": "#506784",
            "showbackground": true,
            "ticks": "",
            "zerolinecolor": "#C8D4E3"
           },
           "zaxis": {
            "backgroundcolor": "rgb(17,17,17)",
            "gridcolor": "#506784",
            "gridwidth": 2,
            "linecolor": "#506784",
            "showbackground": true,
            "ticks": "",
            "zerolinecolor": "#C8D4E3"
           }
          },
          "shapedefaults": {
           "line": {
            "color": "#f2f5fa"
           }
          },
          "sliderdefaults": {
           "bgcolor": "#C8D4E3",
           "bordercolor": "rgb(17,17,17)",
           "borderwidth": 1,
           "tickwidth": 0
          },
          "ternary": {
           "aaxis": {
            "gridcolor": "#506784",
            "linecolor": "#506784",
            "ticks": ""
           },
           "baxis": {
            "gridcolor": "#506784",
            "linecolor": "#506784",
            "ticks": ""
           },
           "bgcolor": "rgb(17,17,17)",
           "caxis": {
            "gridcolor": "#506784",
            "linecolor": "#506784",
            "ticks": ""
           }
          },
          "title": {
           "x": 0.05
          },
          "updatemenudefaults": {
           "bgcolor": "#506784",
           "borderwidth": 0
          },
          "xaxis": {
           "automargin": true,
           "gridcolor": "#283442",
           "linecolor": "#506784",
           "ticks": "",
           "zerolinecolor": "#283442",
           "zerolinewidth": 2
          },
          "yaxis": {
           "automargin": true,
           "gridcolor": "#283442",
           "linecolor": "#506784",
           "ticks": "",
           "zerolinecolor": "#283442",
           "zerolinewidth": 2
          }
         }
        },
        "title": {
         "text": "Distribution of Reputation/Answers"
        },
        "xaxis": {
         "anchor": "y",
         "domain": [
          0,
          0.98
         ]
        },
        "yaxis": {
         "anchor": "x",
         "domain": [
          0,
          1
         ],
         "title": {
          "text": "rep/ans"
         }
        }
       }
      },
      "text/html": [
       "<div>\n",
       "        \n",
       "        \n",
       "            <div id=\"d550954b-717b-41f1-93db-db7798c5607a\" class=\"plotly-graph-div\" style=\"height:600px; width:100%;\"></div>\n",
       "            <script type=\"text/javascript\">\n",
       "                require([\"plotly\"], function(Plotly) {\n",
       "                    window.PLOTLYENV=window.PLOTLYENV || {};\n",
       "                    \n",
       "                if (document.getElementById(\"d550954b-717b-41f1-93db-db7798c5607a\")) {\n",
       "                    Plotly.newPlot(\n",
       "                        'd550954b-717b-41f1-93db-db7798c5607a',\n",
       "                        [{\"alignmentgroup\": \"True\", \"hoverlabel\": {\"namelength\": 0}, \"hovertemplate\": \"rep/ans=%{y}\", \"legendgroup\": \"\", \"marker\": {\"color\": \"#636efa\"}, \"name\": \"\", \"notched\": false, \"offsetgroup\": \"\", \"orientation\": \"v\", \"showlegend\": false, \"type\": \"box\", \"x0\": \" \", \"xaxis\": \"x\", \"y\": [522.8888888888889, 365.6, 304.1304347826087, 284.8888888888889, 149.25, 140.9, 131.1, 129.4, 125.28571428571429, 112.5, 96.94117647058823, 91.93333333333334, 84.10526315789474, 78.9, 78.1, 74.72727272727273, 71.68181818181819, 69.92307692307692, 68.17647058823529, 62.666666666666664], \"y0\": \" \", \"yaxis\": \"y\"}],\n",
       "                        {\"boxmode\": \"group\", \"height\": 600, \"legend\": {\"tracegroupgap\": 0}, \"template\": {\"data\": {\"bar\": [{\"error_x\": {\"color\": \"#f2f5fa\"}, \"error_y\": {\"color\": \"#f2f5fa\"}, \"marker\": {\"line\": {\"color\": \"rgb(17,17,17)\", \"width\": 0.5}}, \"type\": \"bar\"}], \"barpolar\": [{\"marker\": {\"line\": {\"color\": \"rgb(17,17,17)\", \"width\": 0.5}}, \"type\": \"barpolar\"}], \"carpet\": [{\"aaxis\": {\"endlinecolor\": \"#A2B1C6\", \"gridcolor\": \"#506784\", \"linecolor\": \"#506784\", \"minorgridcolor\": \"#506784\", \"startlinecolor\": \"#A2B1C6\"}, \"baxis\": {\"endlinecolor\": \"#A2B1C6\", \"gridcolor\": \"#506784\", \"linecolor\": \"#506784\", \"minorgridcolor\": \"#506784\", \"startlinecolor\": \"#A2B1C6\"}, \"type\": \"carpet\"}], \"choropleth\": [{\"colorbar\": {\"outlinewidth\": 0, \"ticks\": \"\"}, \"type\": \"choropleth\"}], \"contour\": [{\"colorbar\": {\"outlinewidth\": 0, \"ticks\": \"\"}, \"colorscale\": [[0.0, \"#0d0887\"], [0.1111111111111111, \"#46039f\"], [0.2222222222222222, \"#7201a8\"], [0.3333333333333333, \"#9c179e\"], [0.4444444444444444, \"#bd3786\"], [0.5555555555555556, \"#d8576b\"], [0.6666666666666666, \"#ed7953\"], [0.7777777777777778, \"#fb9f3a\"], [0.8888888888888888, \"#fdca26\"], [1.0, \"#f0f921\"]], \"type\": \"contour\"}], \"contourcarpet\": [{\"colorbar\": {\"outlinewidth\": 0, \"ticks\": \"\"}, \"type\": \"contourcarpet\"}], \"heatmap\": [{\"colorbar\": {\"outlinewidth\": 0, \"ticks\": \"\"}, \"colorscale\": [[0.0, \"#0d0887\"], [0.1111111111111111, \"#46039f\"], [0.2222222222222222, \"#7201a8\"], [0.3333333333333333, \"#9c179e\"], [0.4444444444444444, \"#bd3786\"], [0.5555555555555556, \"#d8576b\"], [0.6666666666666666, \"#ed7953\"], [0.7777777777777778, \"#fb9f3a\"], [0.8888888888888888, \"#fdca26\"], [1.0, \"#f0f921\"]], \"type\": \"heatmap\"}], \"heatmapgl\": [{\"colorbar\": {\"outlinewidth\": 0, \"ticks\": \"\"}, \"colorscale\": [[0.0, \"#0d0887\"], [0.1111111111111111, \"#46039f\"], [0.2222222222222222, \"#7201a8\"], [0.3333333333333333, \"#9c179e\"], [0.4444444444444444, \"#bd3786\"], [0.5555555555555556, \"#d8576b\"], [0.6666666666666666, \"#ed7953\"], [0.7777777777777778, \"#fb9f3a\"], [0.8888888888888888, \"#fdca26\"], [1.0, \"#f0f921\"]], \"type\": \"heatmapgl\"}], \"histogram\": [{\"marker\": {\"colorbar\": {\"outlinewidth\": 0, \"ticks\": \"\"}}, \"type\": \"histogram\"}], \"histogram2d\": [{\"colorbar\": {\"outlinewidth\": 0, \"ticks\": \"\"}, \"colorscale\": [[0.0, \"#0d0887\"], [0.1111111111111111, \"#46039f\"], [0.2222222222222222, \"#7201a8\"], [0.3333333333333333, \"#9c179e\"], [0.4444444444444444, \"#bd3786\"], [0.5555555555555556, \"#d8576b\"], [0.6666666666666666, \"#ed7953\"], [0.7777777777777778, \"#fb9f3a\"], [0.8888888888888888, \"#fdca26\"], [1.0, \"#f0f921\"]], \"type\": \"histogram2d\"}], \"histogram2dcontour\": [{\"colorbar\": {\"outlinewidth\": 0, \"ticks\": \"\"}, \"colorscale\": [[0.0, \"#0d0887\"], [0.1111111111111111, \"#46039f\"], [0.2222222222222222, \"#7201a8\"], [0.3333333333333333, \"#9c179e\"], [0.4444444444444444, \"#bd3786\"], [0.5555555555555556, \"#d8576b\"], [0.6666666666666666, \"#ed7953\"], [0.7777777777777778, \"#fb9f3a\"], [0.8888888888888888, \"#fdca26\"], [1.0, \"#f0f921\"]], \"type\": \"histogram2dcontour\"}], \"mesh3d\": [{\"colorbar\": {\"outlinewidth\": 0, \"ticks\": \"\"}, \"type\": \"mesh3d\"}], \"parcoords\": [{\"line\": {\"colorbar\": {\"outlinewidth\": 0, \"ticks\": \"\"}}, \"type\": \"parcoords\"}], \"scatter\": [{\"marker\": {\"line\": {\"color\": \"#283442\"}}, \"type\": \"scatter\"}], \"scatter3d\": [{\"line\": {\"colorbar\": {\"outlinewidth\": 0, \"ticks\": \"\"}}, \"marker\": {\"colorbar\": {\"outlinewidth\": 0, \"ticks\": \"\"}}, \"type\": \"scatter3d\"}], \"scattercarpet\": [{\"marker\": {\"colorbar\": {\"outlinewidth\": 0, \"ticks\": \"\"}}, \"type\": \"scattercarpet\"}], \"scattergeo\": [{\"marker\": {\"colorbar\": {\"outlinewidth\": 0, \"ticks\": \"\"}}, \"type\": \"scattergeo\"}], \"scattergl\": [{\"marker\": {\"line\": {\"color\": \"#283442\"}}, \"type\": \"scattergl\"}], \"scattermapbox\": [{\"marker\": {\"colorbar\": {\"outlinewidth\": 0, \"ticks\": \"\"}}, \"type\": \"scattermapbox\"}], \"scatterpolar\": [{\"marker\": {\"colorbar\": {\"outlinewidth\": 0, \"ticks\": \"\"}}, \"type\": \"scatterpolar\"}], \"scatterpolargl\": [{\"marker\": {\"colorbar\": {\"outlinewidth\": 0, \"ticks\": \"\"}}, \"type\": \"scatterpolargl\"}], \"scatterternary\": [{\"marker\": {\"colorbar\": {\"outlinewidth\": 0, \"ticks\": \"\"}}, \"type\": \"scatterternary\"}], \"surface\": [{\"colorbar\": {\"outlinewidth\": 0, \"ticks\": \"\"}, \"colorscale\": [[0.0, \"#0d0887\"], [0.1111111111111111, \"#46039f\"], [0.2222222222222222, \"#7201a8\"], [0.3333333333333333, \"#9c179e\"], [0.4444444444444444, \"#bd3786\"], [0.5555555555555556, \"#d8576b\"], [0.6666666666666666, \"#ed7953\"], [0.7777777777777778, \"#fb9f3a\"], [0.8888888888888888, \"#fdca26\"], [1.0, \"#f0f921\"]], \"type\": \"surface\"}], \"table\": [{\"cells\": {\"fill\": {\"color\": \"#506784\"}, \"line\": {\"color\": \"rgb(17,17,17)\"}}, \"header\": {\"fill\": {\"color\": \"#2a3f5f\"}, \"line\": {\"color\": \"rgb(17,17,17)\"}}, \"type\": \"table\"}]}, \"layout\": {\"annotationdefaults\": {\"arrowcolor\": \"#f2f5fa\", \"arrowhead\": 0, \"arrowwidth\": 1}, \"colorscale\": {\"diverging\": [[0, \"#8e0152\"], [0.1, \"#c51b7d\"], [0.2, \"#de77ae\"], [0.3, \"#f1b6da\"], [0.4, \"#fde0ef\"], [0.5, \"#f7f7f7\"], [0.6, \"#e6f5d0\"], [0.7, \"#b8e186\"], [0.8, \"#7fbc41\"], [0.9, \"#4d9221\"], [1, \"#276419\"]], \"sequential\": [[0.0, \"#0d0887\"], [0.1111111111111111, \"#46039f\"], [0.2222222222222222, \"#7201a8\"], [0.3333333333333333, \"#9c179e\"], [0.4444444444444444, \"#bd3786\"], [0.5555555555555556, \"#d8576b\"], [0.6666666666666666, \"#ed7953\"], [0.7777777777777778, \"#fb9f3a\"], [0.8888888888888888, \"#fdca26\"], [1.0, \"#f0f921\"]], \"sequentialminus\": [[0.0, \"#0d0887\"], [0.1111111111111111, \"#46039f\"], [0.2222222222222222, \"#7201a8\"], [0.3333333333333333, \"#9c179e\"], [0.4444444444444444, \"#bd3786\"], [0.5555555555555556, \"#d8576b\"], [0.6666666666666666, \"#ed7953\"], [0.7777777777777778, \"#fb9f3a\"], [0.8888888888888888, \"#fdca26\"], [1.0, \"#f0f921\"]]}, \"colorway\": [\"#636efa\", \"#EF553B\", \"#00cc96\", \"#ab63fa\", \"#FFA15A\", \"#19d3f3\", \"#FF6692\", \"#B6E880\", \"#FF97FF\", \"#FECB52\"], \"font\": {\"color\": \"#f2f5fa\"}, \"geo\": {\"bgcolor\": \"rgb(17,17,17)\", \"lakecolor\": \"rgb(17,17,17)\", \"landcolor\": \"rgb(17,17,17)\", \"showlakes\": true, \"showland\": true, \"subunitcolor\": \"#506784\"}, \"hoverlabel\": {\"align\": \"left\"}, \"hovermode\": \"closest\", \"mapbox\": {\"style\": \"dark\"}, \"paper_bgcolor\": \"rgb(17,17,17)\", \"plot_bgcolor\": \"rgb(17,17,17)\", \"polar\": {\"angularaxis\": {\"gridcolor\": \"#506784\", \"linecolor\": \"#506784\", \"ticks\": \"\"}, \"bgcolor\": \"rgb(17,17,17)\", \"radialaxis\": {\"gridcolor\": \"#506784\", \"linecolor\": \"#506784\", \"ticks\": \"\"}}, \"scene\": {\"xaxis\": {\"backgroundcolor\": \"rgb(17,17,17)\", \"gridcolor\": \"#506784\", \"gridwidth\": 2, \"linecolor\": \"#506784\", \"showbackground\": true, \"ticks\": \"\", \"zerolinecolor\": \"#C8D4E3\"}, \"yaxis\": {\"backgroundcolor\": \"rgb(17,17,17)\", \"gridcolor\": \"#506784\", \"gridwidth\": 2, \"linecolor\": \"#506784\", \"showbackground\": true, \"ticks\": \"\", \"zerolinecolor\": \"#C8D4E3\"}, \"zaxis\": {\"backgroundcolor\": \"rgb(17,17,17)\", \"gridcolor\": \"#506784\", \"gridwidth\": 2, \"linecolor\": \"#506784\", \"showbackground\": true, \"ticks\": \"\", \"zerolinecolor\": \"#C8D4E3\"}}, \"shapedefaults\": {\"line\": {\"color\": \"#f2f5fa\"}}, \"sliderdefaults\": {\"bgcolor\": \"#C8D4E3\", \"bordercolor\": \"rgb(17,17,17)\", \"borderwidth\": 1, \"tickwidth\": 0}, \"ternary\": {\"aaxis\": {\"gridcolor\": \"#506784\", \"linecolor\": \"#506784\", \"ticks\": \"\"}, \"baxis\": {\"gridcolor\": \"#506784\", \"linecolor\": \"#506784\", \"ticks\": \"\"}, \"bgcolor\": \"rgb(17,17,17)\", \"caxis\": {\"gridcolor\": \"#506784\", \"linecolor\": \"#506784\", \"ticks\": \"\"}}, \"title\": {\"x\": 0.05}, \"updatemenudefaults\": {\"bgcolor\": \"#506784\", \"borderwidth\": 0}, \"xaxis\": {\"automargin\": true, \"gridcolor\": \"#283442\", \"linecolor\": \"#506784\", \"ticks\": \"\", \"zerolinecolor\": \"#283442\", \"zerolinewidth\": 2}, \"yaxis\": {\"automargin\": true, \"gridcolor\": \"#283442\", \"linecolor\": \"#506784\", \"ticks\": \"\", \"zerolinecolor\": \"#283442\", \"zerolinewidth\": 2}}}, \"title\": {\"text\": \"Distribution of Reputation/Answers\"}, \"xaxis\": {\"anchor\": \"y\", \"domain\": [0.0, 0.98]}, \"yaxis\": {\"anchor\": \"x\", \"domain\": [0.0, 1.0], \"title\": {\"text\": \"rep/ans\"}}},\n",
       "                        {\"responsive\": true}\n",
       "                    ).then(function(){\n",
       "                            \n",
       "var gd = document.getElementById('d550954b-717b-41f1-93db-db7798c5607a');\n",
       "var x = new MutationObserver(function (mutations, observer) {{\n",
       "        var display = window.getComputedStyle(gd).display;\n",
       "        if (!display || display === 'none') {{\n",
       "            console.log([gd, 'removed!']);\n",
       "            Plotly.purge(gd);\n",
       "            observer.disconnect();\n",
       "        }}\n",
       "}});\n",
       "\n",
       "// Listen for the removal of the full notebook cells\n",
       "var notebookContainer = gd.closest('#notebook-container');\n",
       "if (notebookContainer) {{\n",
       "    x.observe(notebookContainer, {childList: true});\n",
       "}}\n",
       "\n",
       "// Listen for the clearing of the current output cell\n",
       "var outputEl = gd.closest('.output');\n",
       "if (outputEl) {{\n",
       "    x.observe(outputEl, {childList: true});\n",
       "}}\n",
       "\n",
       "                        })\n",
       "                };\n",
       "                });\n",
       "            </script>\n",
       "        </div>"
      ]
     },
     "metadata": {},
     "output_type": "display_data"
    }
   ],
   "source": [
    "px.box(data_frame=sort_by\n",
    "    , y=\"rep/ans\"\n",
    "    , title=\"Distribution of Reputation/Answers\"\n",
    "    , template='plotly_dark'\n",
    "    )"
   ]
  },
  {
   "cell_type": "code",
   "execution_count": 128,
   "metadata": {},
   "outputs": [
    {
     "data": {
      "application/vnd.plotly.v1+json": {
       "config": {
        "plotlyServerURL": "https://plot.ly"
       },
       "data": [
        {
         "dimensions": [
          {
           "axis": {
            "matches": true
           },
           "label": "rep",
           "values": [
            "18824"
           ]
          },
          {
           "axis": {
            "matches": true
           },
           "label": "answers",
           "values": [
            36
           ]
          }
         ],
         "hoverlabel": {
          "namelength": 0
         },
         "hovertemplate": "<b>%{hovertext}</b><br><br>name=Neil Slater<br>rep=18824<br>rep/ans=%{marker.size}<br>%{xaxis.title.text}=%{x}<br>%{yaxis.title.text}=%{y}",
         "hovertext": [
          "Neil Slater"
         ],
         "legendgroup": "name=Neil Slater, rep=18824",
         "marker": {
          "color": "rgb(76,114,176)",
          "size": [
           522.8888888888889
          ],
          "sizemode": "area",
          "sizeref": 1.3072222222222223,
          "symbol": "circle"
         },
         "name": "name=Neil Slater, rep=18824",
         "showlegend": true,
         "type": "splom"
        },
        {
         "dimensions": [
          {
           "axis": {
            "matches": true
           },
           "label": "rep",
           "values": [
            "3656"
           ]
          },
          {
           "axis": {
            "matches": true
           },
           "label": "answers",
           "values": [
            10
           ]
          }
         ],
         "hoverlabel": {
          "namelength": 0
         },
         "hovertemplate": "<b>%{hovertext}</b><br><br>name=Franck Dernoncourt<br>rep=3656<br>rep/ans=%{marker.size}<br>%{xaxis.title.text}=%{x}<br>%{yaxis.title.text}=%{y}",
         "hovertext": [
          "Franck Dernoncourt"
         ],
         "legendgroup": "name=Franck Dernoncourt, rep=3656",
         "marker": {
          "color": "rgb(221,132,82)",
          "size": [
           365.6
          ],
          "sizemode": "area",
          "sizeref": 1.3072222222222223,
          "symbol": "diamond"
         },
         "name": "name=Franck Dernoncourt, rep=3656",
         "showlegend": true,
         "type": "splom"
        },
        {
         "dimensions": [
          {
           "axis": {
            "matches": true
           },
           "label": "rep",
           "values": [
            "6995"
           ]
          },
          {
           "axis": {
            "matches": true
           },
           "label": "answers",
           "values": [
            23
           ]
          }
         ],
         "hoverlabel": {
          "namelength": 0
         },
         "hovertemplate": "<b>%{hovertext}</b><br><br>name=Jan van der Vegt<br>rep=6995<br>rep/ans=%{marker.size}<br>%{xaxis.title.text}=%{x}<br>%{yaxis.title.text}=%{y}",
         "hovertext": [
          "Jan van der Vegt"
         ],
         "legendgroup": "name=Jan van der Vegt, rep=6995",
         "marker": {
          "color": "rgb(85,168,104)",
          "size": [
           304.1304347826087
          ],
          "sizemode": "area",
          "sizeref": 1.3072222222222223,
          "symbol": "square"
         },
         "name": "name=Jan van der Vegt, rep=6995",
         "showlegend": true,
         "type": "splom"
        },
        {
         "dimensions": [
          {
           "axis": {
            "matches": true
           },
           "label": "rep",
           "values": [
            "2564"
           ]
          },
          {
           "axis": {
            "matches": true
           },
           "label": "answers",
           "values": [
            9
           ]
          }
         ],
         "hoverlabel": {
          "namelength": 0
         },
         "hovertemplate": "<b>%{hovertext}</b><br><br>name=Ryan Zotti<br>rep=2564<br>rep/ans=%{marker.size}<br>%{xaxis.title.text}=%{x}<br>%{yaxis.title.text}=%{y}",
         "hovertext": [
          "Ryan Zotti"
         ],
         "legendgroup": "name=Ryan Zotti, rep=2564",
         "marker": {
          "color": "rgb(196,78,82)",
          "size": [
           284.8888888888889
          ],
          "sizemode": "area",
          "sizeref": 1.3072222222222223,
          "symbol": "x"
         },
         "name": "name=Ryan Zotti, rep=2564",
         "showlegend": true,
         "type": "splom"
        },
        {
         "dimensions": [
          {
           "axis": {
            "matches": true
           },
           "label": "rep",
           "values": [
            "1194"
           ]
          },
          {
           "axis": {
            "matches": true
           },
           "label": "answers",
           "values": [
            8
           ]
          }
         ],
         "hoverlabel": {
          "namelength": 0
         },
         "hovertemplate": "<b>%{hovertext}</b><br><br>name=StatsSorceress<br>rep=1194<br>rep/ans=%{marker.size}<br>%{xaxis.title.text}=%{x}<br>%{yaxis.title.text}=%{y}",
         "hovertext": [
          "StatsSorceress"
         ],
         "legendgroup": "name=StatsSorceress, rep=1194",
         "marker": {
          "color": "rgb(129,114,179)",
          "size": [
           149.25
          ],
          "sizemode": "area",
          "sizeref": 1.3072222222222223,
          "symbol": "cross"
         },
         "name": "name=StatsSorceress, rep=1194",
         "showlegend": true,
         "type": "splom"
        },
        {
         "dimensions": [
          {
           "axis": {
            "matches": true
           },
           "label": "rep",
           "values": [
            "1409"
           ]
          },
          {
           "axis": {
            "matches": true
           },
           "label": "answers",
           "values": [
            10
           ]
          }
         ],
         "hoverlabel": {
          "namelength": 0
         },
         "hovertemplate": "<b>%{hovertext}</b><br><br>name=stmax<br>rep=1409<br>rep/ans=%{marker.size}<br>%{xaxis.title.text}=%{x}<br>%{yaxis.title.text}=%{y}",
         "hovertext": [
          "stmax"
         ],
         "legendgroup": "name=stmax, rep=1409",
         "marker": {
          "color": "rgb(147,120,96)",
          "size": [
           140.9
          ],
          "sizemode": "area",
          "sizeref": 1.3072222222222223,
          "symbol": "circle"
         },
         "name": "name=stmax, rep=1409",
         "showlegend": true,
         "type": "splom"
        },
        {
         "dimensions": [
          {
           "axis": {
            "matches": true
           },
           "label": "rep",
           "values": [
            "1311"
           ]
          },
          {
           "axis": {
            "matches": true
           },
           "label": "answers",
           "values": [
            10
           ]
          }
         ],
         "hoverlabel": {
          "namelength": 0
         },
         "hovertemplate": "<b>%{hovertext}</b><br><br>name=Elias Strehle<br>rep=1311<br>rep/ans=%{marker.size}<br>%{xaxis.title.text}=%{x}<br>%{yaxis.title.text}=%{y}",
         "hovertext": [
          "Elias Strehle"
         ],
         "legendgroup": "name=Elias Strehle, rep=1311",
         "marker": {
          "color": "rgb(218,139,195)",
          "size": [
           131.1
          ],
          "sizemode": "area",
          "sizeref": 1.3072222222222223,
          "symbol": "diamond"
         },
         "name": "name=Elias Strehle, rep=1311",
         "showlegend": true,
         "type": "splom"
        },
        {
         "dimensions": [
          {
           "axis": {
            "matches": true
           },
           "label": "rep",
           "values": [
            "1294"
           ]
          },
          {
           "axis": {
            "matches": true
           },
           "label": "answers",
           "values": [
            10
           ]
          }
         ],
         "hoverlabel": {
          "namelength": 0
         },
         "hovertemplate": "<b>%{hovertext}</b><br><br>name=I_Play_With_Data<br>rep=1294<br>rep/ans=%{marker.size}<br>%{xaxis.title.text}=%{x}<br>%{yaxis.title.text}=%{y}",
         "hovertext": [
          "I_Play_With_Data"
         ],
         "legendgroup": "name=I_Play_With_Data, rep=1294",
         "marker": {
          "color": "rgb(140,140,140)",
          "size": [
           129.4
          ],
          "sizemode": "area",
          "sizeref": 1.3072222222222223,
          "symbol": "square"
         },
         "name": "name=I_Play_With_Data, rep=1294",
         "showlegend": true,
         "type": "splom"
        },
        {
         "dimensions": [
          {
           "axis": {
            "matches": true
           },
           "label": "rep",
           "values": [
            "1754"
           ]
          },
          {
           "axis": {
            "matches": true
           },
           "label": "answers",
           "values": [
            14
           ]
          }
         ],
         "hoverlabel": {
          "namelength": 0
         },
         "hovertemplate": "<b>%{hovertext}</b><br><br>name=Shamit Verma<br>rep=1754<br>rep/ans=%{marker.size}<br>%{xaxis.title.text}=%{x}<br>%{yaxis.title.text}=%{y}",
         "hovertext": [
          "Shamit Verma"
         ],
         "legendgroup": "name=Shamit Verma, rep=1754",
         "marker": {
          "color": "rgb(204,185,116)",
          "size": [
           125.28571428571429
          ],
          "sizemode": "area",
          "sizeref": 1.3072222222222223,
          "symbol": "x"
         },
         "name": "name=Shamit Verma, rep=1754",
         "showlegend": true,
         "type": "splom"
        },
        {
         "dimensions": [
          {
           "axis": {
            "matches": true
           },
           "label": "rep",
           "values": [
            "900"
           ]
          },
          {
           "axis": {
            "matches": true
           },
           "label": "answers",
           "values": [
            8
           ]
          }
         ],
         "hoverlabel": {
          "namelength": 0
         },
         "hovertemplate": "<b>%{hovertext}</b><br><br>name=thanatoz<br>rep=900<br>rep/ans=%{marker.size}<br>%{xaxis.title.text}=%{x}<br>%{yaxis.title.text}=%{y}",
         "hovertext": [
          "thanatoz"
         ],
         "legendgroup": "name=thanatoz, rep=900",
         "marker": {
          "color": "rgb(100,181,205)",
          "size": [
           112.5
          ],
          "sizemode": "area",
          "sizeref": 1.3072222222222223,
          "symbol": "cross"
         },
         "name": "name=thanatoz, rep=900",
         "showlegend": true,
         "type": "splom"
        },
        {
         "dimensions": [
          {
           "axis": {
            "matches": true
           },
           "label": "rep",
           "values": [
            "1648"
           ]
          },
          {
           "axis": {
            "matches": true
           },
           "label": "answers",
           "values": [
            17
           ]
          }
         ],
         "hoverlabel": {
          "namelength": 0
         },
         "hovertemplate": "<b>%{hovertext}</b><br><br>name=Peter<br>rep=1648<br>rep/ans=%{marker.size}<br>%{xaxis.title.text}=%{x}<br>%{yaxis.title.text}=%{y}",
         "hovertext": [
          "Peter"
         ],
         "legendgroup": "name=Peter, rep=1648",
         "marker": {
          "color": "rgb(76,114,176)",
          "size": [
           96.94117647058823
          ],
          "sizemode": "area",
          "sizeref": 1.3072222222222223,
          "symbol": "circle"
         },
         "name": "name=Peter, rep=1648",
         "showlegend": true,
         "type": "splom"
        },
        {
         "dimensions": [
          {
           "axis": {
            "matches": true
           },
           "label": "rep",
           "values": [
            "1379"
           ]
          },
          {
           "axis": {
            "matches": true
           },
           "label": "answers",
           "values": [
            15
           ]
          }
         ],
         "hoverlabel": {
          "namelength": 0
         },
         "hovertemplate": "<b>%{hovertext}</b><br><br>name=Kiritee Gak<br>rep=1379<br>rep/ans=%{marker.size}<br>%{xaxis.title.text}=%{x}<br>%{yaxis.title.text}=%{y}",
         "hovertext": [
          "Kiritee Gak"
         ],
         "legendgroup": "name=Kiritee Gak, rep=1379",
         "marker": {
          "color": "rgb(221,132,82)",
          "size": [
           91.93333333333334
          ],
          "sizemode": "area",
          "sizeref": 1.3072222222222223,
          "symbol": "diamond"
         },
         "name": "name=Kiritee Gak, rep=1379",
         "showlegend": true,
         "type": "splom"
        },
        {
         "dimensions": [
          {
           "axis": {
            "matches": true
           },
           "label": "rep",
           "values": [
            "1598"
           ]
          },
          {
           "axis": {
            "matches": true
           },
           "label": "answers",
           "values": [
            19
           ]
          }
         ],
         "hoverlabel": {
          "namelength": 0
         },
         "hovertemplate": "<b>%{hovertext}</b><br><br>name=Stephen Rauch<br>rep=1598<br>rep/ans=%{marker.size}<br>%{xaxis.title.text}=%{x}<br>%{yaxis.title.text}=%{y}",
         "hovertext": [
          "Stephen Rauch"
         ],
         "legendgroup": "name=Stephen Rauch, rep=1598",
         "marker": {
          "color": "rgb(85,168,104)",
          "size": [
           84.10526315789474
          ],
          "sizemode": "area",
          "sizeref": 1.3072222222222223,
          "symbol": "square"
         },
         "name": "name=Stephen Rauch, rep=1598",
         "showlegend": true,
         "type": "splom"
        },
        {
         "dimensions": [
          {
           "axis": {
            "matches": true
           },
           "label": "rep",
           "values": [
            "789"
           ]
          },
          {
           "axis": {
            "matches": true
           },
           "label": "answers",
           "values": [
            10
           ]
          }
         ],
         "hoverlabel": {
          "namelength": 0
         },
         "hovertemplate": "<b>%{hovertext}</b><br><br>name=Antonio Jurić<br>rep=789<br>rep/ans=%{marker.size}<br>%{xaxis.title.text}=%{x}<br>%{yaxis.title.text}=%{y}",
         "hovertext": [
          "Antonio Jurić"
         ],
         "legendgroup": "name=Antonio Jurić, rep=789",
         "marker": {
          "color": "rgb(196,78,82)",
          "size": [
           78.9
          ],
          "sizemode": "area",
          "sizeref": 1.3072222222222223,
          "symbol": "x"
         },
         "name": "name=Antonio Jurić, rep=789",
         "showlegend": true,
         "type": "splom"
        },
        {
         "dimensions": [
          {
           "axis": {
            "matches": true
           },
           "label": "rep",
           "values": [
            "781"
           ]
          },
          {
           "axis": {
            "matches": true
           },
           "label": "answers",
           "values": [
            10
           ]
          }
         ],
         "hoverlabel": {
          "namelength": 0
         },
         "hovertemplate": "<b>%{hovertext}</b><br><br>name=tuomastik<br>rep=781<br>rep/ans=%{marker.size}<br>%{xaxis.title.text}=%{x}<br>%{yaxis.title.text}=%{y}",
         "hovertext": [
          "tuomastik"
         ],
         "legendgroup": "name=tuomastik, rep=781",
         "marker": {
          "color": "rgb(129,114,179)",
          "size": [
           78.1
          ],
          "sizemode": "area",
          "sizeref": 1.3072222222222223,
          "symbol": "cross"
         },
         "name": "name=tuomastik, rep=781",
         "showlegend": true,
         "type": "splom"
        },
        {
         "dimensions": [
          {
           "axis": {
            "matches": true
           },
           "label": "rep",
           "values": [
            "822"
           ]
          },
          {
           "axis": {
            "matches": true
           },
           "label": "answers",
           "values": [
            11
           ]
          }
         ],
         "hoverlabel": {
          "namelength": 0
         },
         "hovertemplate": "<b>%{hovertext}</b><br><br>name=TitoOrt<br>rep=822<br>rep/ans=%{marker.size}<br>%{xaxis.title.text}=%{x}<br>%{yaxis.title.text}=%{y}",
         "hovertext": [
          "TitoOrt"
         ],
         "legendgroup": "name=TitoOrt, rep=822",
         "marker": {
          "color": "rgb(147,120,96)",
          "size": [
           74.72727272727273
          ],
          "sizemode": "area",
          "sizeref": 1.3072222222222223,
          "symbol": "circle"
         },
         "name": "name=TitoOrt, rep=822",
         "showlegend": true,
         "type": "splom"
        },
        {
         "dimensions": [
          {
           "axis": {
            "matches": true
           },
           "label": "rep",
           "values": [
            "1577"
           ]
          },
          {
           "axis": {
            "matches": true
           },
           "label": "answers",
           "values": [
            22
           ]
          }
         ],
         "hoverlabel": {
          "namelength": 0
         },
         "hovertemplate": "<b>%{hovertext}</b><br><br>name=Aditya<br>rep=1577<br>rep/ans=%{marker.size}<br>%{xaxis.title.text}=%{x}<br>%{yaxis.title.text}=%{y}",
         "hovertext": [
          "Aditya"
         ],
         "legendgroup": "name=Aditya, rep=1577",
         "marker": {
          "color": "rgb(218,139,195)",
          "size": [
           71.68181818181819
          ],
          "sizemode": "area",
          "sizeref": 1.3072222222222223,
          "symbol": "diamond"
         },
         "name": "name=Aditya, rep=1577",
         "showlegend": true,
         "type": "splom"
        },
        {
         "dimensions": [
          {
           "axis": {
            "matches": true
           },
           "label": "rep",
           "values": [
            "8181"
           ]
          },
          {
           "axis": {
            "matches": true
           },
           "label": "answers",
           "values": [
            117
           ]
          }
         ],
         "hoverlabel": {
          "namelength": 0
         },
         "hovertemplate": "<b>%{hovertext}</b><br><br>name=n1k31t4<br>rep=8181<br>rep/ans=%{marker.size}<br>%{xaxis.title.text}=%{x}<br>%{yaxis.title.text}=%{y}",
         "hovertext": [
          "n1k31t4"
         ],
         "legendgroup": "name=n1k31t4, rep=8181",
         "marker": {
          "color": "rgb(140,140,140)",
          "size": [
           69.92307692307692
          ],
          "sizemode": "area",
          "sizeref": 1.3072222222222223,
          "symbol": "square"
         },
         "name": "name=n1k31t4, rep=8181",
         "showlegend": true,
         "type": "splom"
        },
        {
         "dimensions": [
          {
           "axis": {
            "matches": true
           },
           "label": "rep",
           "values": [
            "1159"
           ]
          },
          {
           "axis": {
            "matches": true
           },
           "label": "answers",
           "values": [
            17
           ]
          }
         ],
         "hoverlabel": {
          "namelength": 0
         },
         "hovertemplate": "<b>%{hovertext}</b><br><br>name=Ankit Seth<br>rep=1159<br>rep/ans=%{marker.size}<br>%{xaxis.title.text}=%{x}<br>%{yaxis.title.text}=%{y}",
         "hovertext": [
          "Ankit Seth"
         ],
         "legendgroup": "name=Ankit Seth, rep=1159",
         "marker": {
          "color": "rgb(204,185,116)",
          "size": [
           68.17647058823529
          ],
          "sizemode": "area",
          "sizeref": 1.3072222222222223,
          "symbol": "x"
         },
         "name": "name=Ankit Seth, rep=1159",
         "showlegend": true,
         "type": "splom"
        },
        {
         "dimensions": [
          {
           "axis": {
            "matches": true
           },
           "label": "rep",
           "values": [
            "1504"
           ]
          },
          {
           "axis": {
            "matches": true
           },
           "label": "answers",
           "values": [
            24
           ]
          }
         ],
         "hoverlabel": {
          "namelength": 0
         },
         "hovertemplate": "<b>%{hovertext}</b><br><br>name=Juan Esteban de la Calle<br>rep=1504<br>rep/ans=%{marker.size}<br>%{xaxis.title.text}=%{x}<br>%{yaxis.title.text}=%{y}",
         "hovertext": [
          "Juan Esteban de la Calle"
         ],
         "legendgroup": "name=Juan Esteban de la Calle, rep=1504",
         "marker": {
          "color": "rgb(100,181,205)",
          "size": [
           62.666666666666664
          ],
          "sizemode": "area",
          "sizeref": 1.3072222222222223,
          "symbol": "cross"
         },
         "name": "name=Juan Esteban de la Calle, rep=1504",
         "showlegend": true,
         "type": "splom"
        }
       ],
       "layout": {
        "dragmode": "select",
        "height": 600,
        "legend": {
         "itemsizing": "constant",
         "tracegroupgap": 0
        },
        "template": {
         "data": {
          "bar": [
           {
            "error_x": {
             "color": "rgb(36,36,36)"
            },
            "error_y": {
             "color": "rgb(36,36,36)"
            },
            "marker": {
             "line": {
              "color": "rgb(234,234,242)",
              "width": 0.5
             }
            },
            "type": "bar"
           }
          ],
          "barpolar": [
           {
            "marker": {
             "line": {
              "color": "rgb(234,234,242)",
              "width": 0.5
             }
            },
            "type": "barpolar"
           }
          ],
          "carpet": [
           {
            "aaxis": {
             "endlinecolor": "rgb(36,36,36)",
             "gridcolor": "white",
             "linecolor": "white",
             "minorgridcolor": "white",
             "startlinecolor": "rgb(36,36,36)"
            },
            "baxis": {
             "endlinecolor": "rgb(36,36,36)",
             "gridcolor": "white",
             "linecolor": "white",
             "minorgridcolor": "white",
             "startlinecolor": "rgb(36,36,36)"
            },
            "type": "carpet"
           }
          ],
          "choropleth": [
           {
            "colorbar": {
             "outlinewidth": 0,
             "tickcolor": "rgb(36,36,36)",
             "ticklen": 8,
             "ticks": "outside",
             "tickwidth": 2
            },
            "type": "choropleth"
           }
          ],
          "contour": [
           {
            "colorbar": {
             "outlinewidth": 0,
             "tickcolor": "rgb(36,36,36)",
             "ticklen": 8,
             "ticks": "outside",
             "tickwidth": 2
            },
            "colorscale": [
             [
              0,
              "rgb(2,4,25)"
             ],
             [
              0.06274509803921569,
              "rgb(24,15,41)"
             ],
             [
              0.12549019607843137,
              "rgb(47,23,57)"
             ],
             [
              0.18823529411764706,
              "rgb(71,28,72)"
             ],
             [
              0.25098039215686274,
              "rgb(97,30,82)"
             ],
             [
              0.3137254901960784,
              "rgb(123,30,89)"
             ],
             [
              0.3764705882352941,
              "rgb(150,27,91)"
             ],
             [
              0.4392156862745098,
              "rgb(177,22,88)"
             ],
             [
              0.5019607843137255,
              "rgb(203,26,79)"
             ],
             [
              0.5647058823529412,
              "rgb(223,47,67)"
             ],
             [
              0.6274509803921569,
              "rgb(236,76,61)"
             ],
             [
              0.6901960784313725,
              "rgb(242,107,73)"
             ],
             [
              0.7529411764705882,
              "rgb(244,135,95)"
             ],
             [
              0.8156862745098039,
              "rgb(245,162,122)"
             ],
             [
              0.8784313725490196,
              "rgb(246,188,153)"
             ],
             [
              0.9411764705882353,
              "rgb(247,212,187)"
             ],
             [
              1,
              "rgb(250,234,220)"
             ]
            ],
            "type": "contour"
           }
          ],
          "contourcarpet": [
           {
            "colorbar": {
             "outlinewidth": 0,
             "tickcolor": "rgb(36,36,36)",
             "ticklen": 8,
             "ticks": "outside",
             "tickwidth": 2
            },
            "type": "contourcarpet"
           }
          ],
          "heatmap": [
           {
            "colorbar": {
             "outlinewidth": 0,
             "tickcolor": "rgb(36,36,36)",
             "ticklen": 8,
             "ticks": "outside",
             "tickwidth": 2
            },
            "colorscale": [
             [
              0,
              "rgb(2,4,25)"
             ],
             [
              0.06274509803921569,
              "rgb(24,15,41)"
             ],
             [
              0.12549019607843137,
              "rgb(47,23,57)"
             ],
             [
              0.18823529411764706,
              "rgb(71,28,72)"
             ],
             [
              0.25098039215686274,
              "rgb(97,30,82)"
             ],
             [
              0.3137254901960784,
              "rgb(123,30,89)"
             ],
             [
              0.3764705882352941,
              "rgb(150,27,91)"
             ],
             [
              0.4392156862745098,
              "rgb(177,22,88)"
             ],
             [
              0.5019607843137255,
              "rgb(203,26,79)"
             ],
             [
              0.5647058823529412,
              "rgb(223,47,67)"
             ],
             [
              0.6274509803921569,
              "rgb(236,76,61)"
             ],
             [
              0.6901960784313725,
              "rgb(242,107,73)"
             ],
             [
              0.7529411764705882,
              "rgb(244,135,95)"
             ],
             [
              0.8156862745098039,
              "rgb(245,162,122)"
             ],
             [
              0.8784313725490196,
              "rgb(246,188,153)"
             ],
             [
              0.9411764705882353,
              "rgb(247,212,187)"
             ],
             [
              1,
              "rgb(250,234,220)"
             ]
            ],
            "type": "heatmap"
           }
          ],
          "heatmapgl": [
           {
            "colorbar": {
             "outlinewidth": 0,
             "tickcolor": "rgb(36,36,36)",
             "ticklen": 8,
             "ticks": "outside",
             "tickwidth": 2
            },
            "colorscale": [
             [
              0,
              "rgb(2,4,25)"
             ],
             [
              0.06274509803921569,
              "rgb(24,15,41)"
             ],
             [
              0.12549019607843137,
              "rgb(47,23,57)"
             ],
             [
              0.18823529411764706,
              "rgb(71,28,72)"
             ],
             [
              0.25098039215686274,
              "rgb(97,30,82)"
             ],
             [
              0.3137254901960784,
              "rgb(123,30,89)"
             ],
             [
              0.3764705882352941,
              "rgb(150,27,91)"
             ],
             [
              0.4392156862745098,
              "rgb(177,22,88)"
             ],
             [
              0.5019607843137255,
              "rgb(203,26,79)"
             ],
             [
              0.5647058823529412,
              "rgb(223,47,67)"
             ],
             [
              0.6274509803921569,
              "rgb(236,76,61)"
             ],
             [
              0.6901960784313725,
              "rgb(242,107,73)"
             ],
             [
              0.7529411764705882,
              "rgb(244,135,95)"
             ],
             [
              0.8156862745098039,
              "rgb(245,162,122)"
             ],
             [
              0.8784313725490196,
              "rgb(246,188,153)"
             ],
             [
              0.9411764705882353,
              "rgb(247,212,187)"
             ],
             [
              1,
              "rgb(250,234,220)"
             ]
            ],
            "type": "heatmapgl"
           }
          ],
          "histogram": [
           {
            "marker": {
             "colorbar": {
              "outlinewidth": 0,
              "tickcolor": "rgb(36,36,36)",
              "ticklen": 8,
              "ticks": "outside",
              "tickwidth": 2
             }
            },
            "type": "histogram"
           }
          ],
          "histogram2d": [
           {
            "colorbar": {
             "outlinewidth": 0,
             "tickcolor": "rgb(36,36,36)",
             "ticklen": 8,
             "ticks": "outside",
             "tickwidth": 2
            },
            "colorscale": [
             [
              0,
              "rgb(2,4,25)"
             ],
             [
              0.06274509803921569,
              "rgb(24,15,41)"
             ],
             [
              0.12549019607843137,
              "rgb(47,23,57)"
             ],
             [
              0.18823529411764706,
              "rgb(71,28,72)"
             ],
             [
              0.25098039215686274,
              "rgb(97,30,82)"
             ],
             [
              0.3137254901960784,
              "rgb(123,30,89)"
             ],
             [
              0.3764705882352941,
              "rgb(150,27,91)"
             ],
             [
              0.4392156862745098,
              "rgb(177,22,88)"
             ],
             [
              0.5019607843137255,
              "rgb(203,26,79)"
             ],
             [
              0.5647058823529412,
              "rgb(223,47,67)"
             ],
             [
              0.6274509803921569,
              "rgb(236,76,61)"
             ],
             [
              0.6901960784313725,
              "rgb(242,107,73)"
             ],
             [
              0.7529411764705882,
              "rgb(244,135,95)"
             ],
             [
              0.8156862745098039,
              "rgb(245,162,122)"
             ],
             [
              0.8784313725490196,
              "rgb(246,188,153)"
             ],
             [
              0.9411764705882353,
              "rgb(247,212,187)"
             ],
             [
              1,
              "rgb(250,234,220)"
             ]
            ],
            "type": "histogram2d"
           }
          ],
          "histogram2dcontour": [
           {
            "colorbar": {
             "outlinewidth": 0,
             "tickcolor": "rgb(36,36,36)",
             "ticklen": 8,
             "ticks": "outside",
             "tickwidth": 2
            },
            "colorscale": [
             [
              0,
              "rgb(2,4,25)"
             ],
             [
              0.06274509803921569,
              "rgb(24,15,41)"
             ],
             [
              0.12549019607843137,
              "rgb(47,23,57)"
             ],
             [
              0.18823529411764706,
              "rgb(71,28,72)"
             ],
             [
              0.25098039215686274,
              "rgb(97,30,82)"
             ],
             [
              0.3137254901960784,
              "rgb(123,30,89)"
             ],
             [
              0.3764705882352941,
              "rgb(150,27,91)"
             ],
             [
              0.4392156862745098,
              "rgb(177,22,88)"
             ],
             [
              0.5019607843137255,
              "rgb(203,26,79)"
             ],
             [
              0.5647058823529412,
              "rgb(223,47,67)"
             ],
             [
              0.6274509803921569,
              "rgb(236,76,61)"
             ],
             [
              0.6901960784313725,
              "rgb(242,107,73)"
             ],
             [
              0.7529411764705882,
              "rgb(244,135,95)"
             ],
             [
              0.8156862745098039,
              "rgb(245,162,122)"
             ],
             [
              0.8784313725490196,
              "rgb(246,188,153)"
             ],
             [
              0.9411764705882353,
              "rgb(247,212,187)"
             ],
             [
              1,
              "rgb(250,234,220)"
             ]
            ],
            "type": "histogram2dcontour"
           }
          ],
          "mesh3d": [
           {
            "colorbar": {
             "outlinewidth": 0,
             "tickcolor": "rgb(36,36,36)",
             "ticklen": 8,
             "ticks": "outside",
             "tickwidth": 2
            },
            "type": "mesh3d"
           }
          ],
          "parcoords": [
           {
            "line": {
             "colorbar": {
              "outlinewidth": 0,
              "tickcolor": "rgb(36,36,36)",
              "ticklen": 8,
              "ticks": "outside",
              "tickwidth": 2
             }
            },
            "type": "parcoords"
           }
          ],
          "scatter": [
           {
            "marker": {
             "colorbar": {
              "outlinewidth": 0,
              "tickcolor": "rgb(36,36,36)",
              "ticklen": 8,
              "ticks": "outside",
              "tickwidth": 2
             }
            },
            "type": "scatter"
           }
          ],
          "scatter3d": [
           {
            "line": {
             "colorbar": {
              "outlinewidth": 0,
              "tickcolor": "rgb(36,36,36)",
              "ticklen": 8,
              "ticks": "outside",
              "tickwidth": 2
             }
            },
            "marker": {
             "colorbar": {
              "outlinewidth": 0,
              "tickcolor": "rgb(36,36,36)",
              "ticklen": 8,
              "ticks": "outside",
              "tickwidth": 2
             }
            },
            "type": "scatter3d"
           }
          ],
          "scattercarpet": [
           {
            "marker": {
             "colorbar": {
              "outlinewidth": 0,
              "tickcolor": "rgb(36,36,36)",
              "ticklen": 8,
              "ticks": "outside",
              "tickwidth": 2
             }
            },
            "type": "scattercarpet"
           }
          ],
          "scattergeo": [
           {
            "marker": {
             "colorbar": {
              "outlinewidth": 0,
              "tickcolor": "rgb(36,36,36)",
              "ticklen": 8,
              "ticks": "outside",
              "tickwidth": 2
             }
            },
            "type": "scattergeo"
           }
          ],
          "scattergl": [
           {
            "marker": {
             "colorbar": {
              "outlinewidth": 0,
              "tickcolor": "rgb(36,36,36)",
              "ticklen": 8,
              "ticks": "outside",
              "tickwidth": 2
             }
            },
            "type": "scattergl"
           }
          ],
          "scattermapbox": [
           {
            "marker": {
             "colorbar": {
              "outlinewidth": 0,
              "tickcolor": "rgb(36,36,36)",
              "ticklen": 8,
              "ticks": "outside",
              "tickwidth": 2
             }
            },
            "type": "scattermapbox"
           }
          ],
          "scatterpolar": [
           {
            "marker": {
             "colorbar": {
              "outlinewidth": 0,
              "tickcolor": "rgb(36,36,36)",
              "ticklen": 8,
              "ticks": "outside",
              "tickwidth": 2
             }
            },
            "type": "scatterpolar"
           }
          ],
          "scatterpolargl": [
           {
            "marker": {
             "colorbar": {
              "outlinewidth": 0,
              "tickcolor": "rgb(36,36,36)",
              "ticklen": 8,
              "ticks": "outside",
              "tickwidth": 2
             }
            },
            "type": "scatterpolargl"
           }
          ],
          "scatterternary": [
           {
            "marker": {
             "colorbar": {
              "outlinewidth": 0,
              "tickcolor": "rgb(36,36,36)",
              "ticklen": 8,
              "ticks": "outside",
              "tickwidth": 2
             }
            },
            "type": "scatterternary"
           }
          ],
          "surface": [
           {
            "colorbar": {
             "outlinewidth": 0,
             "tickcolor": "rgb(36,36,36)",
             "ticklen": 8,
             "ticks": "outside",
             "tickwidth": 2
            },
            "colorscale": [
             [
              0,
              "rgb(2,4,25)"
             ],
             [
              0.06274509803921569,
              "rgb(24,15,41)"
             ],
             [
              0.12549019607843137,
              "rgb(47,23,57)"
             ],
             [
              0.18823529411764706,
              "rgb(71,28,72)"
             ],
             [
              0.25098039215686274,
              "rgb(97,30,82)"
             ],
             [
              0.3137254901960784,
              "rgb(123,30,89)"
             ],
             [
              0.3764705882352941,
              "rgb(150,27,91)"
             ],
             [
              0.4392156862745098,
              "rgb(177,22,88)"
             ],
             [
              0.5019607843137255,
              "rgb(203,26,79)"
             ],
             [
              0.5647058823529412,
              "rgb(223,47,67)"
             ],
             [
              0.6274509803921569,
              "rgb(236,76,61)"
             ],
             [
              0.6901960784313725,
              "rgb(242,107,73)"
             ],
             [
              0.7529411764705882,
              "rgb(244,135,95)"
             ],
             [
              0.8156862745098039,
              "rgb(245,162,122)"
             ],
             [
              0.8784313725490196,
              "rgb(246,188,153)"
             ],
             [
              0.9411764705882353,
              "rgb(247,212,187)"
             ],
             [
              1,
              "rgb(250,234,220)"
             ]
            ],
            "type": "surface"
           }
          ],
          "table": [
           {
            "cells": {
             "fill": {
              "color": "rgb(231,231,240)"
             },
             "line": {
              "color": "white"
             }
            },
            "header": {
             "fill": {
              "color": "rgb(183,183,191)"
             },
             "line": {
              "color": "white"
             }
            },
            "type": "table"
           }
          ]
         },
         "layout": {
          "annotationdefaults": {
           "arrowcolor": "rgb(67,103,167)"
          },
          "colorscale": {
           "sequential": [
            [
             0,
             "rgb(2,4,25)"
            ],
            [
             0.06274509803921569,
             "rgb(24,15,41)"
            ],
            [
             0.12549019607843137,
             "rgb(47,23,57)"
            ],
            [
             0.18823529411764706,
             "rgb(71,28,72)"
            ],
            [
             0.25098039215686274,
             "rgb(97,30,82)"
            ],
            [
             0.3137254901960784,
             "rgb(123,30,89)"
            ],
            [
             0.3764705882352941,
             "rgb(150,27,91)"
            ],
            [
             0.4392156862745098,
             "rgb(177,22,88)"
            ],
            [
             0.5019607843137255,
             "rgb(203,26,79)"
            ],
            [
             0.5647058823529412,
             "rgb(223,47,67)"
            ],
            [
             0.6274509803921569,
             "rgb(236,76,61)"
            ],
            [
             0.6901960784313725,
             "rgb(242,107,73)"
            ],
            [
             0.7529411764705882,
             "rgb(244,135,95)"
            ],
            [
             0.8156862745098039,
             "rgb(245,162,122)"
            ],
            [
             0.8784313725490196,
             "rgb(246,188,153)"
            ],
            [
             0.9411764705882353,
             "rgb(247,212,187)"
            ],
            [
             1,
             "rgb(250,234,220)"
            ]
           ],
           "sequentialminus": [
            [
             0,
             "rgb(2,4,25)"
            ],
            [
             0.06274509803921569,
             "rgb(24,15,41)"
            ],
            [
             0.12549019607843137,
             "rgb(47,23,57)"
            ],
            [
             0.18823529411764706,
             "rgb(71,28,72)"
            ],
            [
             0.25098039215686274,
             "rgb(97,30,82)"
            ],
            [
             0.3137254901960784,
             "rgb(123,30,89)"
            ],
            [
             0.3764705882352941,
             "rgb(150,27,91)"
            ],
            [
             0.4392156862745098,
             "rgb(177,22,88)"
            ],
            [
             0.5019607843137255,
             "rgb(203,26,79)"
            ],
            [
             0.5647058823529412,
             "rgb(223,47,67)"
            ],
            [
             0.6274509803921569,
             "rgb(236,76,61)"
            ],
            [
             0.6901960784313725,
             "rgb(242,107,73)"
            ],
            [
             0.7529411764705882,
             "rgb(244,135,95)"
            ],
            [
             0.8156862745098039,
             "rgb(245,162,122)"
            ],
            [
             0.8784313725490196,
             "rgb(246,188,153)"
            ],
            [
             0.9411764705882353,
             "rgb(247,212,187)"
            ],
            [
             1,
             "rgb(250,234,220)"
            ]
           ]
          },
          "colorway": [
           "rgb(76,114,176)",
           "rgb(221,132,82)",
           "rgb(85,168,104)",
           "rgb(196,78,82)",
           "rgb(129,114,179)",
           "rgb(147,120,96)",
           "rgb(218,139,195)",
           "rgb(140,140,140)",
           "rgb(204,185,116)",
           "rgb(100,181,205)"
          ],
          "font": {
           "color": "rgb(36,36,36)"
          },
          "geo": {
           "bgcolor": "white",
           "lakecolor": "white",
           "landcolor": "rgb(234,234,242)",
           "showlakes": true,
           "showland": true,
           "subunitcolor": "white"
          },
          "hoverlabel": {
           "align": "left"
          },
          "hovermode": "closest",
          "paper_bgcolor": "white",
          "plot_bgcolor": "rgb(234,234,242)",
          "polar": {
           "angularaxis": {
            "gridcolor": "white",
            "linecolor": "white",
            "showgrid": true,
            "ticks": ""
           },
           "bgcolor": "rgb(234,234,242)",
           "radialaxis": {
            "gridcolor": "white",
            "linecolor": "white",
            "showgrid": true,
            "ticks": ""
           }
          },
          "scene": {
           "xaxis": {
            "backgroundcolor": "rgb(234,234,242)",
            "gridcolor": "white",
            "gridwidth": 2,
            "linecolor": "white",
            "showbackground": true,
            "showgrid": true,
            "ticks": "",
            "zerolinecolor": "white"
           },
           "yaxis": {
            "backgroundcolor": "rgb(234,234,242)",
            "gridcolor": "white",
            "gridwidth": 2,
            "linecolor": "white",
            "showbackground": true,
            "showgrid": true,
            "ticks": "",
            "zerolinecolor": "white"
           },
           "zaxis": {
            "backgroundcolor": "rgb(234,234,242)",
            "gridcolor": "white",
            "gridwidth": 2,
            "linecolor": "white",
            "showbackground": true,
            "showgrid": true,
            "ticks": "",
            "zerolinecolor": "white"
           }
          },
          "shapedefaults": {
           "fillcolor": "rgb(67,103,167)",
           "line": {
            "width": 0
           },
           "opacity": 0.5
          },
          "ternary": {
           "aaxis": {
            "gridcolor": "white",
            "linecolor": "white",
            "showgrid": true,
            "ticks": ""
           },
           "baxis": {
            "gridcolor": "white",
            "linecolor": "white",
            "showgrid": true,
            "ticks": ""
           },
           "bgcolor": "rgb(234,234,242)",
           "caxis": {
            "gridcolor": "white",
            "linecolor": "white",
            "showgrid": true,
            "ticks": ""
           }
          },
          "xaxis": {
           "automargin": true,
           "gridcolor": "white",
           "linecolor": "white",
           "showgrid": true,
           "ticks": "",
           "zerolinecolor": "white"
          },
          "yaxis": {
           "automargin": true,
           "gridcolor": "white",
           "linecolor": "white",
           "showgrid": true,
           "ticks": "",
           "zerolinecolor": "white"
          }
         }
        },
        "title": {
         "text": "Comparisons"
        }
       }
      },
      "text/html": [
       "<div>\n",
       "        \n",
       "        \n",
       "            <div id=\"81800705-0da0-4e0e-8ceb-43971bd2797b\" class=\"plotly-graph-div\" style=\"height:600px; width:100%;\"></div>\n",
       "            <script type=\"text/javascript\">\n",
       "                require([\"plotly\"], function(Plotly) {\n",
       "                    window.PLOTLYENV=window.PLOTLYENV || {};\n",
       "                    \n",
       "                if (document.getElementById(\"81800705-0da0-4e0e-8ceb-43971bd2797b\")) {\n",
       "                    Plotly.newPlot(\n",
       "                        '81800705-0da0-4e0e-8ceb-43971bd2797b',\n",
       "                        [{\"dimensions\": [{\"axis\": {\"matches\": true}, \"label\": \"rep\", \"values\": [\"18824\"]}, {\"axis\": {\"matches\": true}, \"label\": \"answers\", \"values\": [36]}], \"hoverlabel\": {\"namelength\": 0}, \"hovertemplate\": \"<b>%{hovertext}</b><br><br>name=Neil Slater<br>rep=18824<br>rep/ans=%{marker.size}<br>%{xaxis.title.text}=%{x}<br>%{yaxis.title.text}=%{y}\", \"hovertext\": [\"Neil Slater\"], \"legendgroup\": \"name=Neil Slater, rep=18824\", \"marker\": {\"color\": \"rgb(76,114,176)\", \"size\": [522.8888888888889], \"sizemode\": \"area\", \"sizeref\": 1.3072222222222223, \"symbol\": \"circle\"}, \"name\": \"name=Neil Slater, rep=18824\", \"showlegend\": true, \"type\": \"splom\"}, {\"dimensions\": [{\"axis\": {\"matches\": true}, \"label\": \"rep\", \"values\": [\"3656\"]}, {\"axis\": {\"matches\": true}, \"label\": \"answers\", \"values\": [10]}], \"hoverlabel\": {\"namelength\": 0}, \"hovertemplate\": \"<b>%{hovertext}</b><br><br>name=Franck Dernoncourt<br>rep=3656<br>rep/ans=%{marker.size}<br>%{xaxis.title.text}=%{x}<br>%{yaxis.title.text}=%{y}\", \"hovertext\": [\"Franck Dernoncourt\"], \"legendgroup\": \"name=Franck Dernoncourt, rep=3656\", \"marker\": {\"color\": \"rgb(221,132,82)\", \"size\": [365.6], \"sizemode\": \"area\", \"sizeref\": 1.3072222222222223, \"symbol\": \"diamond\"}, \"name\": \"name=Franck Dernoncourt, rep=3656\", \"showlegend\": true, \"type\": \"splom\"}, {\"dimensions\": [{\"axis\": {\"matches\": true}, \"label\": \"rep\", \"values\": [\"6995\"]}, {\"axis\": {\"matches\": true}, \"label\": \"answers\", \"values\": [23]}], \"hoverlabel\": {\"namelength\": 0}, \"hovertemplate\": \"<b>%{hovertext}</b><br><br>name=Jan van der Vegt<br>rep=6995<br>rep/ans=%{marker.size}<br>%{xaxis.title.text}=%{x}<br>%{yaxis.title.text}=%{y}\", \"hovertext\": [\"Jan van der Vegt\"], \"legendgroup\": \"name=Jan van der Vegt, rep=6995\", \"marker\": {\"color\": \"rgb(85,168,104)\", \"size\": [304.1304347826087], \"sizemode\": \"area\", \"sizeref\": 1.3072222222222223, \"symbol\": \"square\"}, \"name\": \"name=Jan van der Vegt, rep=6995\", \"showlegend\": true, \"type\": \"splom\"}, {\"dimensions\": [{\"axis\": {\"matches\": true}, \"label\": \"rep\", \"values\": [\"2564\"]}, {\"axis\": {\"matches\": true}, \"label\": \"answers\", \"values\": [9]}], \"hoverlabel\": {\"namelength\": 0}, \"hovertemplate\": \"<b>%{hovertext}</b><br><br>name=Ryan Zotti<br>rep=2564<br>rep/ans=%{marker.size}<br>%{xaxis.title.text}=%{x}<br>%{yaxis.title.text}=%{y}\", \"hovertext\": [\"Ryan Zotti\"], \"legendgroup\": \"name=Ryan Zotti, rep=2564\", \"marker\": {\"color\": \"rgb(196,78,82)\", \"size\": [284.8888888888889], \"sizemode\": \"area\", \"sizeref\": 1.3072222222222223, \"symbol\": \"x\"}, \"name\": \"name=Ryan Zotti, rep=2564\", \"showlegend\": true, \"type\": \"splom\"}, {\"dimensions\": [{\"axis\": {\"matches\": true}, \"label\": \"rep\", \"values\": [\"1194\"]}, {\"axis\": {\"matches\": true}, \"label\": \"answers\", \"values\": [8]}], \"hoverlabel\": {\"namelength\": 0}, \"hovertemplate\": \"<b>%{hovertext}</b><br><br>name=StatsSorceress<br>rep=1194<br>rep/ans=%{marker.size}<br>%{xaxis.title.text}=%{x}<br>%{yaxis.title.text}=%{y}\", \"hovertext\": [\"StatsSorceress\"], \"legendgroup\": \"name=StatsSorceress, rep=1194\", \"marker\": {\"color\": \"rgb(129,114,179)\", \"size\": [149.25], \"sizemode\": \"area\", \"sizeref\": 1.3072222222222223, \"symbol\": \"cross\"}, \"name\": \"name=StatsSorceress, rep=1194\", \"showlegend\": true, \"type\": \"splom\"}, {\"dimensions\": [{\"axis\": {\"matches\": true}, \"label\": \"rep\", \"values\": [\"1409\"]}, {\"axis\": {\"matches\": true}, \"label\": \"answers\", \"values\": [10]}], \"hoverlabel\": {\"namelength\": 0}, \"hovertemplate\": \"<b>%{hovertext}</b><br><br>name=stmax<br>rep=1409<br>rep/ans=%{marker.size}<br>%{xaxis.title.text}=%{x}<br>%{yaxis.title.text}=%{y}\", \"hovertext\": [\"stmax\"], \"legendgroup\": \"name=stmax, rep=1409\", \"marker\": {\"color\": \"rgb(147,120,96)\", \"size\": [140.9], \"sizemode\": \"area\", \"sizeref\": 1.3072222222222223, \"symbol\": \"circle\"}, \"name\": \"name=stmax, rep=1409\", \"showlegend\": true, \"type\": \"splom\"}, {\"dimensions\": [{\"axis\": {\"matches\": true}, \"label\": \"rep\", \"values\": [\"1311\"]}, {\"axis\": {\"matches\": true}, \"label\": \"answers\", \"values\": [10]}], \"hoverlabel\": {\"namelength\": 0}, \"hovertemplate\": \"<b>%{hovertext}</b><br><br>name=Elias Strehle<br>rep=1311<br>rep/ans=%{marker.size}<br>%{xaxis.title.text}=%{x}<br>%{yaxis.title.text}=%{y}\", \"hovertext\": [\"Elias Strehle\"], \"legendgroup\": \"name=Elias Strehle, rep=1311\", \"marker\": {\"color\": \"rgb(218,139,195)\", \"size\": [131.1], \"sizemode\": \"area\", \"sizeref\": 1.3072222222222223, \"symbol\": \"diamond\"}, \"name\": \"name=Elias Strehle, rep=1311\", \"showlegend\": true, \"type\": \"splom\"}, {\"dimensions\": [{\"axis\": {\"matches\": true}, \"label\": \"rep\", \"values\": [\"1294\"]}, {\"axis\": {\"matches\": true}, \"label\": \"answers\", \"values\": [10]}], \"hoverlabel\": {\"namelength\": 0}, \"hovertemplate\": \"<b>%{hovertext}</b><br><br>name=I_Play_With_Data<br>rep=1294<br>rep/ans=%{marker.size}<br>%{xaxis.title.text}=%{x}<br>%{yaxis.title.text}=%{y}\", \"hovertext\": [\"I_Play_With_Data\"], \"legendgroup\": \"name=I_Play_With_Data, rep=1294\", \"marker\": {\"color\": \"rgb(140,140,140)\", \"size\": [129.4], \"sizemode\": \"area\", \"sizeref\": 1.3072222222222223, \"symbol\": \"square\"}, \"name\": \"name=I_Play_With_Data, rep=1294\", \"showlegend\": true, \"type\": \"splom\"}, {\"dimensions\": [{\"axis\": {\"matches\": true}, \"label\": \"rep\", \"values\": [\"1754\"]}, {\"axis\": {\"matches\": true}, \"label\": \"answers\", \"values\": [14]}], \"hoverlabel\": {\"namelength\": 0}, \"hovertemplate\": \"<b>%{hovertext}</b><br><br>name=Shamit Verma<br>rep=1754<br>rep/ans=%{marker.size}<br>%{xaxis.title.text}=%{x}<br>%{yaxis.title.text}=%{y}\", \"hovertext\": [\"Shamit Verma\"], \"legendgroup\": \"name=Shamit Verma, rep=1754\", \"marker\": {\"color\": \"rgb(204,185,116)\", \"size\": [125.28571428571429], \"sizemode\": \"area\", \"sizeref\": 1.3072222222222223, \"symbol\": \"x\"}, \"name\": \"name=Shamit Verma, rep=1754\", \"showlegend\": true, \"type\": \"splom\"}, {\"dimensions\": [{\"axis\": {\"matches\": true}, \"label\": \"rep\", \"values\": [\"900\"]}, {\"axis\": {\"matches\": true}, \"label\": \"answers\", \"values\": [8]}], \"hoverlabel\": {\"namelength\": 0}, \"hovertemplate\": \"<b>%{hovertext}</b><br><br>name=thanatoz<br>rep=900<br>rep/ans=%{marker.size}<br>%{xaxis.title.text}=%{x}<br>%{yaxis.title.text}=%{y}\", \"hovertext\": [\"thanatoz\"], \"legendgroup\": \"name=thanatoz, rep=900\", \"marker\": {\"color\": \"rgb(100,181,205)\", \"size\": [112.5], \"sizemode\": \"area\", \"sizeref\": 1.3072222222222223, \"symbol\": \"cross\"}, \"name\": \"name=thanatoz, rep=900\", \"showlegend\": true, \"type\": \"splom\"}, {\"dimensions\": [{\"axis\": {\"matches\": true}, \"label\": \"rep\", \"values\": [\"1648\"]}, {\"axis\": {\"matches\": true}, \"label\": \"answers\", \"values\": [17]}], \"hoverlabel\": {\"namelength\": 0}, \"hovertemplate\": \"<b>%{hovertext}</b><br><br>name=Peter<br>rep=1648<br>rep/ans=%{marker.size}<br>%{xaxis.title.text}=%{x}<br>%{yaxis.title.text}=%{y}\", \"hovertext\": [\"Peter\"], \"legendgroup\": \"name=Peter, rep=1648\", \"marker\": {\"color\": \"rgb(76,114,176)\", \"size\": [96.94117647058823], \"sizemode\": \"area\", \"sizeref\": 1.3072222222222223, \"symbol\": \"circle\"}, \"name\": \"name=Peter, rep=1648\", \"showlegend\": true, \"type\": \"splom\"}, {\"dimensions\": [{\"axis\": {\"matches\": true}, \"label\": \"rep\", \"values\": [\"1379\"]}, {\"axis\": {\"matches\": true}, \"label\": \"answers\", \"values\": [15]}], \"hoverlabel\": {\"namelength\": 0}, \"hovertemplate\": \"<b>%{hovertext}</b><br><br>name=Kiritee Gak<br>rep=1379<br>rep/ans=%{marker.size}<br>%{xaxis.title.text}=%{x}<br>%{yaxis.title.text}=%{y}\", \"hovertext\": [\"Kiritee Gak\"], \"legendgroup\": \"name=Kiritee Gak, rep=1379\", \"marker\": {\"color\": \"rgb(221,132,82)\", \"size\": [91.93333333333334], \"sizemode\": \"area\", \"sizeref\": 1.3072222222222223, \"symbol\": \"diamond\"}, \"name\": \"name=Kiritee Gak, rep=1379\", \"showlegend\": true, \"type\": \"splom\"}, {\"dimensions\": [{\"axis\": {\"matches\": true}, \"label\": \"rep\", \"values\": [\"1598\"]}, {\"axis\": {\"matches\": true}, \"label\": \"answers\", \"values\": [19]}], \"hoverlabel\": {\"namelength\": 0}, \"hovertemplate\": \"<b>%{hovertext}</b><br><br>name=Stephen Rauch<br>rep=1598<br>rep/ans=%{marker.size}<br>%{xaxis.title.text}=%{x}<br>%{yaxis.title.text}=%{y}\", \"hovertext\": [\"Stephen Rauch\"], \"legendgroup\": \"name=Stephen Rauch, rep=1598\", \"marker\": {\"color\": \"rgb(85,168,104)\", \"size\": [84.10526315789474], \"sizemode\": \"area\", \"sizeref\": 1.3072222222222223, \"symbol\": \"square\"}, \"name\": \"name=Stephen Rauch, rep=1598\", \"showlegend\": true, \"type\": \"splom\"}, {\"dimensions\": [{\"axis\": {\"matches\": true}, \"label\": \"rep\", \"values\": [\"789\"]}, {\"axis\": {\"matches\": true}, \"label\": \"answers\", \"values\": [10]}], \"hoverlabel\": {\"namelength\": 0}, \"hovertemplate\": \"<b>%{hovertext}</b><br><br>name=Antonio Juri\\u0107<br>rep=789<br>rep/ans=%{marker.size}<br>%{xaxis.title.text}=%{x}<br>%{yaxis.title.text}=%{y}\", \"hovertext\": [\"Antonio Juri\\u0107\"], \"legendgroup\": \"name=Antonio Juri\\u0107, rep=789\", \"marker\": {\"color\": \"rgb(196,78,82)\", \"size\": [78.9], \"sizemode\": \"area\", \"sizeref\": 1.3072222222222223, \"symbol\": \"x\"}, \"name\": \"name=Antonio Juri\\u0107, rep=789\", \"showlegend\": true, \"type\": \"splom\"}, {\"dimensions\": [{\"axis\": {\"matches\": true}, \"label\": \"rep\", \"values\": [\"781\"]}, {\"axis\": {\"matches\": true}, \"label\": \"answers\", \"values\": [10]}], \"hoverlabel\": {\"namelength\": 0}, \"hovertemplate\": \"<b>%{hovertext}</b><br><br>name=tuomastik<br>rep=781<br>rep/ans=%{marker.size}<br>%{xaxis.title.text}=%{x}<br>%{yaxis.title.text}=%{y}\", \"hovertext\": [\"tuomastik\"], \"legendgroup\": \"name=tuomastik, rep=781\", \"marker\": {\"color\": \"rgb(129,114,179)\", \"size\": [78.1], \"sizemode\": \"area\", \"sizeref\": 1.3072222222222223, \"symbol\": \"cross\"}, \"name\": \"name=tuomastik, rep=781\", \"showlegend\": true, \"type\": \"splom\"}, {\"dimensions\": [{\"axis\": {\"matches\": true}, \"label\": \"rep\", \"values\": [\"822\"]}, {\"axis\": {\"matches\": true}, \"label\": \"answers\", \"values\": [11]}], \"hoverlabel\": {\"namelength\": 0}, \"hovertemplate\": \"<b>%{hovertext}</b><br><br>name=TitoOrt<br>rep=822<br>rep/ans=%{marker.size}<br>%{xaxis.title.text}=%{x}<br>%{yaxis.title.text}=%{y}\", \"hovertext\": [\"TitoOrt\"], \"legendgroup\": \"name=TitoOrt, rep=822\", \"marker\": {\"color\": \"rgb(147,120,96)\", \"size\": [74.72727272727273], \"sizemode\": \"area\", \"sizeref\": 1.3072222222222223, \"symbol\": \"circle\"}, \"name\": \"name=TitoOrt, rep=822\", \"showlegend\": true, \"type\": \"splom\"}, {\"dimensions\": [{\"axis\": {\"matches\": true}, \"label\": \"rep\", \"values\": [\"1577\"]}, {\"axis\": {\"matches\": true}, \"label\": \"answers\", \"values\": [22]}], \"hoverlabel\": {\"namelength\": 0}, \"hovertemplate\": \"<b>%{hovertext}</b><br><br>name=Aditya<br>rep=1577<br>rep/ans=%{marker.size}<br>%{xaxis.title.text}=%{x}<br>%{yaxis.title.text}=%{y}\", \"hovertext\": [\"Aditya\"], \"legendgroup\": \"name=Aditya, rep=1577\", \"marker\": {\"color\": \"rgb(218,139,195)\", \"size\": [71.68181818181819], \"sizemode\": \"area\", \"sizeref\": 1.3072222222222223, \"symbol\": \"diamond\"}, \"name\": \"name=Aditya, rep=1577\", \"showlegend\": true, \"type\": \"splom\"}, {\"dimensions\": [{\"axis\": {\"matches\": true}, \"label\": \"rep\", \"values\": [\"8181\"]}, {\"axis\": {\"matches\": true}, \"label\": \"answers\", \"values\": [117]}], \"hoverlabel\": {\"namelength\": 0}, \"hovertemplate\": \"<b>%{hovertext}</b><br><br>name=n1k31t4<br>rep=8181<br>rep/ans=%{marker.size}<br>%{xaxis.title.text}=%{x}<br>%{yaxis.title.text}=%{y}\", \"hovertext\": [\"n1k31t4\"], \"legendgroup\": \"name=n1k31t4, rep=8181\", \"marker\": {\"color\": \"rgb(140,140,140)\", \"size\": [69.92307692307692], \"sizemode\": \"area\", \"sizeref\": 1.3072222222222223, \"symbol\": \"square\"}, \"name\": \"name=n1k31t4, rep=8181\", \"showlegend\": true, \"type\": \"splom\"}, {\"dimensions\": [{\"axis\": {\"matches\": true}, \"label\": \"rep\", \"values\": [\"1159\"]}, {\"axis\": {\"matches\": true}, \"label\": \"answers\", \"values\": [17]}], \"hoverlabel\": {\"namelength\": 0}, \"hovertemplate\": \"<b>%{hovertext}</b><br><br>name=Ankit Seth<br>rep=1159<br>rep/ans=%{marker.size}<br>%{xaxis.title.text}=%{x}<br>%{yaxis.title.text}=%{y}\", \"hovertext\": [\"Ankit Seth\"], \"legendgroup\": \"name=Ankit Seth, rep=1159\", \"marker\": {\"color\": \"rgb(204,185,116)\", \"size\": [68.17647058823529], \"sizemode\": \"area\", \"sizeref\": 1.3072222222222223, \"symbol\": \"x\"}, \"name\": \"name=Ankit Seth, rep=1159\", \"showlegend\": true, \"type\": \"splom\"}, {\"dimensions\": [{\"axis\": {\"matches\": true}, \"label\": \"rep\", \"values\": [\"1504\"]}, {\"axis\": {\"matches\": true}, \"label\": \"answers\", \"values\": [24]}], \"hoverlabel\": {\"namelength\": 0}, \"hovertemplate\": \"<b>%{hovertext}</b><br><br>name=Juan Esteban de la Calle<br>rep=1504<br>rep/ans=%{marker.size}<br>%{xaxis.title.text}=%{x}<br>%{yaxis.title.text}=%{y}\", \"hovertext\": [\"Juan Esteban de la Calle\"], \"legendgroup\": \"name=Juan Esteban de la Calle, rep=1504\", \"marker\": {\"color\": \"rgb(100,181,205)\", \"size\": [62.666666666666664], \"sizemode\": \"area\", \"sizeref\": 1.3072222222222223, \"symbol\": \"cross\"}, \"name\": \"name=Juan Esteban de la Calle, rep=1504\", \"showlegend\": true, \"type\": \"splom\"}],\n",
       "                        {\"dragmode\": \"select\", \"height\": 600, \"legend\": {\"itemsizing\": \"constant\", \"tracegroupgap\": 0}, \"template\": {\"data\": {\"bar\": [{\"error_x\": {\"color\": \"rgb(36,36,36)\"}, \"error_y\": {\"color\": \"rgb(36,36,36)\"}, \"marker\": {\"line\": {\"color\": \"rgb(234,234,242)\", \"width\": 0.5}}, \"type\": \"bar\"}], \"barpolar\": [{\"marker\": {\"line\": {\"color\": \"rgb(234,234,242)\", \"width\": 0.5}}, \"type\": \"barpolar\"}], \"carpet\": [{\"aaxis\": {\"endlinecolor\": \"rgb(36,36,36)\", \"gridcolor\": \"white\", \"linecolor\": \"white\", \"minorgridcolor\": \"white\", \"startlinecolor\": \"rgb(36,36,36)\"}, \"baxis\": {\"endlinecolor\": \"rgb(36,36,36)\", \"gridcolor\": \"white\", \"linecolor\": \"white\", \"minorgridcolor\": \"white\", \"startlinecolor\": \"rgb(36,36,36)\"}, \"type\": \"carpet\"}], \"choropleth\": [{\"colorbar\": {\"outlinewidth\": 0, \"tickcolor\": \"rgb(36,36,36)\", \"ticklen\": 8, \"ticks\": \"outside\", \"tickwidth\": 2}, \"type\": \"choropleth\"}], \"contour\": [{\"colorbar\": {\"outlinewidth\": 0, \"tickcolor\": \"rgb(36,36,36)\", \"ticklen\": 8, \"ticks\": \"outside\", \"tickwidth\": 2}, \"colorscale\": [[0.0, \"rgb(2,4,25)\"], [0.06274509803921569, \"rgb(24,15,41)\"], [0.12549019607843137, \"rgb(47,23,57)\"], [0.18823529411764706, \"rgb(71,28,72)\"], [0.25098039215686274, \"rgb(97,30,82)\"], [0.3137254901960784, \"rgb(123,30,89)\"], [0.3764705882352941, \"rgb(150,27,91)\"], [0.4392156862745098, \"rgb(177,22,88)\"], [0.5019607843137255, \"rgb(203,26,79)\"], [0.5647058823529412, \"rgb(223,47,67)\"], [0.6274509803921569, \"rgb(236,76,61)\"], [0.6901960784313725, \"rgb(242,107,73)\"], [0.7529411764705882, \"rgb(244,135,95)\"], [0.8156862745098039, \"rgb(245,162,122)\"], [0.8784313725490196, \"rgb(246,188,153)\"], [0.9411764705882353, \"rgb(247,212,187)\"], [1.0, \"rgb(250,234,220)\"]], \"type\": \"contour\"}], \"contourcarpet\": [{\"colorbar\": {\"outlinewidth\": 0, \"tickcolor\": \"rgb(36,36,36)\", \"ticklen\": 8, \"ticks\": \"outside\", \"tickwidth\": 2}, \"type\": \"contourcarpet\"}], \"heatmap\": [{\"colorbar\": {\"outlinewidth\": 0, \"tickcolor\": \"rgb(36,36,36)\", \"ticklen\": 8, \"ticks\": \"outside\", \"tickwidth\": 2}, \"colorscale\": [[0.0, \"rgb(2,4,25)\"], [0.06274509803921569, \"rgb(24,15,41)\"], [0.12549019607843137, \"rgb(47,23,57)\"], [0.18823529411764706, \"rgb(71,28,72)\"], [0.25098039215686274, \"rgb(97,30,82)\"], [0.3137254901960784, \"rgb(123,30,89)\"], [0.3764705882352941, \"rgb(150,27,91)\"], [0.4392156862745098, \"rgb(177,22,88)\"], [0.5019607843137255, \"rgb(203,26,79)\"], [0.5647058823529412, \"rgb(223,47,67)\"], [0.6274509803921569, \"rgb(236,76,61)\"], [0.6901960784313725, \"rgb(242,107,73)\"], [0.7529411764705882, \"rgb(244,135,95)\"], [0.8156862745098039, \"rgb(245,162,122)\"], [0.8784313725490196, \"rgb(246,188,153)\"], [0.9411764705882353, \"rgb(247,212,187)\"], [1.0, \"rgb(250,234,220)\"]], \"type\": \"heatmap\"}], \"heatmapgl\": [{\"colorbar\": {\"outlinewidth\": 0, \"tickcolor\": \"rgb(36,36,36)\", \"ticklen\": 8, \"ticks\": \"outside\", \"tickwidth\": 2}, \"colorscale\": [[0.0, \"rgb(2,4,25)\"], [0.06274509803921569, \"rgb(24,15,41)\"], [0.12549019607843137, \"rgb(47,23,57)\"], [0.18823529411764706, \"rgb(71,28,72)\"], [0.25098039215686274, \"rgb(97,30,82)\"], [0.3137254901960784, \"rgb(123,30,89)\"], [0.3764705882352941, \"rgb(150,27,91)\"], [0.4392156862745098, \"rgb(177,22,88)\"], [0.5019607843137255, \"rgb(203,26,79)\"], [0.5647058823529412, \"rgb(223,47,67)\"], [0.6274509803921569, \"rgb(236,76,61)\"], [0.6901960784313725, \"rgb(242,107,73)\"], [0.7529411764705882, \"rgb(244,135,95)\"], [0.8156862745098039, \"rgb(245,162,122)\"], [0.8784313725490196, \"rgb(246,188,153)\"], [0.9411764705882353, \"rgb(247,212,187)\"], [1.0, \"rgb(250,234,220)\"]], \"type\": \"heatmapgl\"}], \"histogram\": [{\"marker\": {\"colorbar\": {\"outlinewidth\": 0, \"tickcolor\": \"rgb(36,36,36)\", \"ticklen\": 8, \"ticks\": \"outside\", \"tickwidth\": 2}}, \"type\": \"histogram\"}], \"histogram2d\": [{\"colorbar\": {\"outlinewidth\": 0, \"tickcolor\": \"rgb(36,36,36)\", \"ticklen\": 8, \"ticks\": \"outside\", \"tickwidth\": 2}, \"colorscale\": [[0.0, \"rgb(2,4,25)\"], [0.06274509803921569, \"rgb(24,15,41)\"], [0.12549019607843137, \"rgb(47,23,57)\"], [0.18823529411764706, \"rgb(71,28,72)\"], [0.25098039215686274, \"rgb(97,30,82)\"], [0.3137254901960784, \"rgb(123,30,89)\"], [0.3764705882352941, \"rgb(150,27,91)\"], [0.4392156862745098, \"rgb(177,22,88)\"], [0.5019607843137255, \"rgb(203,26,79)\"], [0.5647058823529412, \"rgb(223,47,67)\"], [0.6274509803921569, \"rgb(236,76,61)\"], [0.6901960784313725, \"rgb(242,107,73)\"], [0.7529411764705882, \"rgb(244,135,95)\"], [0.8156862745098039, \"rgb(245,162,122)\"], [0.8784313725490196, \"rgb(246,188,153)\"], [0.9411764705882353, \"rgb(247,212,187)\"], [1.0, \"rgb(250,234,220)\"]], \"type\": \"histogram2d\"}], \"histogram2dcontour\": [{\"colorbar\": {\"outlinewidth\": 0, \"tickcolor\": \"rgb(36,36,36)\", \"ticklen\": 8, \"ticks\": \"outside\", \"tickwidth\": 2}, \"colorscale\": [[0.0, \"rgb(2,4,25)\"], [0.06274509803921569, \"rgb(24,15,41)\"], [0.12549019607843137, \"rgb(47,23,57)\"], [0.18823529411764706, \"rgb(71,28,72)\"], [0.25098039215686274, \"rgb(97,30,82)\"], [0.3137254901960784, \"rgb(123,30,89)\"], [0.3764705882352941, \"rgb(150,27,91)\"], [0.4392156862745098, \"rgb(177,22,88)\"], [0.5019607843137255, \"rgb(203,26,79)\"], [0.5647058823529412, \"rgb(223,47,67)\"], [0.6274509803921569, \"rgb(236,76,61)\"], [0.6901960784313725, \"rgb(242,107,73)\"], [0.7529411764705882, \"rgb(244,135,95)\"], [0.8156862745098039, \"rgb(245,162,122)\"], [0.8784313725490196, \"rgb(246,188,153)\"], [0.9411764705882353, \"rgb(247,212,187)\"], [1.0, \"rgb(250,234,220)\"]], \"type\": \"histogram2dcontour\"}], \"mesh3d\": [{\"colorbar\": {\"outlinewidth\": 0, \"tickcolor\": \"rgb(36,36,36)\", \"ticklen\": 8, \"ticks\": \"outside\", \"tickwidth\": 2}, \"type\": \"mesh3d\"}], \"parcoords\": [{\"line\": {\"colorbar\": {\"outlinewidth\": 0, \"tickcolor\": \"rgb(36,36,36)\", \"ticklen\": 8, \"ticks\": \"outside\", \"tickwidth\": 2}}, \"type\": \"parcoords\"}], \"scatter\": [{\"marker\": {\"colorbar\": {\"outlinewidth\": 0, \"tickcolor\": \"rgb(36,36,36)\", \"ticklen\": 8, \"ticks\": \"outside\", \"tickwidth\": 2}}, \"type\": \"scatter\"}], \"scatter3d\": [{\"line\": {\"colorbar\": {\"outlinewidth\": 0, \"tickcolor\": \"rgb(36,36,36)\", \"ticklen\": 8, \"ticks\": \"outside\", \"tickwidth\": 2}}, \"marker\": {\"colorbar\": {\"outlinewidth\": 0, \"tickcolor\": \"rgb(36,36,36)\", \"ticklen\": 8, \"ticks\": \"outside\", \"tickwidth\": 2}}, \"type\": \"scatter3d\"}], \"scattercarpet\": [{\"marker\": {\"colorbar\": {\"outlinewidth\": 0, \"tickcolor\": \"rgb(36,36,36)\", \"ticklen\": 8, \"ticks\": \"outside\", \"tickwidth\": 2}}, \"type\": \"scattercarpet\"}], \"scattergeo\": [{\"marker\": {\"colorbar\": {\"outlinewidth\": 0, \"tickcolor\": \"rgb(36,36,36)\", \"ticklen\": 8, \"ticks\": \"outside\", \"tickwidth\": 2}}, \"type\": \"scattergeo\"}], \"scattergl\": [{\"marker\": {\"colorbar\": {\"outlinewidth\": 0, \"tickcolor\": \"rgb(36,36,36)\", \"ticklen\": 8, \"ticks\": \"outside\", \"tickwidth\": 2}}, \"type\": \"scattergl\"}], \"scattermapbox\": [{\"marker\": {\"colorbar\": {\"outlinewidth\": 0, \"tickcolor\": \"rgb(36,36,36)\", \"ticklen\": 8, \"ticks\": \"outside\", \"tickwidth\": 2}}, \"type\": \"scattermapbox\"}], \"scatterpolar\": [{\"marker\": {\"colorbar\": {\"outlinewidth\": 0, \"tickcolor\": \"rgb(36,36,36)\", \"ticklen\": 8, \"ticks\": \"outside\", \"tickwidth\": 2}}, \"type\": \"scatterpolar\"}], \"scatterpolargl\": [{\"marker\": {\"colorbar\": {\"outlinewidth\": 0, \"tickcolor\": \"rgb(36,36,36)\", \"ticklen\": 8, \"ticks\": \"outside\", \"tickwidth\": 2}}, \"type\": \"scatterpolargl\"}], \"scatterternary\": [{\"marker\": {\"colorbar\": {\"outlinewidth\": 0, \"tickcolor\": \"rgb(36,36,36)\", \"ticklen\": 8, \"ticks\": \"outside\", \"tickwidth\": 2}}, \"type\": \"scatterternary\"}], \"surface\": [{\"colorbar\": {\"outlinewidth\": 0, \"tickcolor\": \"rgb(36,36,36)\", \"ticklen\": 8, \"ticks\": \"outside\", \"tickwidth\": 2}, \"colorscale\": [[0.0, \"rgb(2,4,25)\"], [0.06274509803921569, \"rgb(24,15,41)\"], [0.12549019607843137, \"rgb(47,23,57)\"], [0.18823529411764706, \"rgb(71,28,72)\"], [0.25098039215686274, \"rgb(97,30,82)\"], [0.3137254901960784, \"rgb(123,30,89)\"], [0.3764705882352941, \"rgb(150,27,91)\"], [0.4392156862745098, \"rgb(177,22,88)\"], [0.5019607843137255, \"rgb(203,26,79)\"], [0.5647058823529412, \"rgb(223,47,67)\"], [0.6274509803921569, \"rgb(236,76,61)\"], [0.6901960784313725, \"rgb(242,107,73)\"], [0.7529411764705882, \"rgb(244,135,95)\"], [0.8156862745098039, \"rgb(245,162,122)\"], [0.8784313725490196, \"rgb(246,188,153)\"], [0.9411764705882353, \"rgb(247,212,187)\"], [1.0, \"rgb(250,234,220)\"]], \"type\": \"surface\"}], \"table\": [{\"cells\": {\"fill\": {\"color\": \"rgb(231,231,240)\"}, \"line\": {\"color\": \"white\"}}, \"header\": {\"fill\": {\"color\": \"rgb(183,183,191)\"}, \"line\": {\"color\": \"white\"}}, \"type\": \"table\"}]}, \"layout\": {\"annotationdefaults\": {\"arrowcolor\": \"rgb(67,103,167)\"}, \"colorscale\": {\"sequential\": [[0.0, \"rgb(2,4,25)\"], [0.06274509803921569, \"rgb(24,15,41)\"], [0.12549019607843137, \"rgb(47,23,57)\"], [0.18823529411764706, \"rgb(71,28,72)\"], [0.25098039215686274, \"rgb(97,30,82)\"], [0.3137254901960784, \"rgb(123,30,89)\"], [0.3764705882352941, \"rgb(150,27,91)\"], [0.4392156862745098, \"rgb(177,22,88)\"], [0.5019607843137255, \"rgb(203,26,79)\"], [0.5647058823529412, \"rgb(223,47,67)\"], [0.6274509803921569, \"rgb(236,76,61)\"], [0.6901960784313725, \"rgb(242,107,73)\"], [0.7529411764705882, \"rgb(244,135,95)\"], [0.8156862745098039, \"rgb(245,162,122)\"], [0.8784313725490196, \"rgb(246,188,153)\"], [0.9411764705882353, \"rgb(247,212,187)\"], [1.0, \"rgb(250,234,220)\"]], \"sequentialminus\": [[0.0, \"rgb(2,4,25)\"], [0.06274509803921569, \"rgb(24,15,41)\"], [0.12549019607843137, \"rgb(47,23,57)\"], [0.18823529411764706, \"rgb(71,28,72)\"], [0.25098039215686274, \"rgb(97,30,82)\"], [0.3137254901960784, \"rgb(123,30,89)\"], [0.3764705882352941, \"rgb(150,27,91)\"], [0.4392156862745098, \"rgb(177,22,88)\"], [0.5019607843137255, \"rgb(203,26,79)\"], [0.5647058823529412, \"rgb(223,47,67)\"], [0.6274509803921569, \"rgb(236,76,61)\"], [0.6901960784313725, \"rgb(242,107,73)\"], [0.7529411764705882, \"rgb(244,135,95)\"], [0.8156862745098039, \"rgb(245,162,122)\"], [0.8784313725490196, \"rgb(246,188,153)\"], [0.9411764705882353, \"rgb(247,212,187)\"], [1.0, \"rgb(250,234,220)\"]]}, \"colorway\": [\"rgb(76,114,176)\", \"rgb(221,132,82)\", \"rgb(85,168,104)\", \"rgb(196,78,82)\", \"rgb(129,114,179)\", \"rgb(147,120,96)\", \"rgb(218,139,195)\", \"rgb(140,140,140)\", \"rgb(204,185,116)\", \"rgb(100,181,205)\"], \"font\": {\"color\": \"rgb(36,36,36)\"}, \"geo\": {\"bgcolor\": \"white\", \"lakecolor\": \"white\", \"landcolor\": \"rgb(234,234,242)\", \"showlakes\": true, \"showland\": true, \"subunitcolor\": \"white\"}, \"hoverlabel\": {\"align\": \"left\"}, \"hovermode\": \"closest\", \"paper_bgcolor\": \"white\", \"plot_bgcolor\": \"rgb(234,234,242)\", \"polar\": {\"angularaxis\": {\"gridcolor\": \"white\", \"linecolor\": \"white\", \"showgrid\": true, \"ticks\": \"\"}, \"bgcolor\": \"rgb(234,234,242)\", \"radialaxis\": {\"gridcolor\": \"white\", \"linecolor\": \"white\", \"showgrid\": true, \"ticks\": \"\"}}, \"scene\": {\"xaxis\": {\"backgroundcolor\": \"rgb(234,234,242)\", \"gridcolor\": \"white\", \"gridwidth\": 2, \"linecolor\": \"white\", \"showbackground\": true, \"showgrid\": true, \"ticks\": \"\", \"zerolinecolor\": \"white\"}, \"yaxis\": {\"backgroundcolor\": \"rgb(234,234,242)\", \"gridcolor\": \"white\", \"gridwidth\": 2, \"linecolor\": \"white\", \"showbackground\": true, \"showgrid\": true, \"ticks\": \"\", \"zerolinecolor\": \"white\"}, \"zaxis\": {\"backgroundcolor\": \"rgb(234,234,242)\", \"gridcolor\": \"white\", \"gridwidth\": 2, \"linecolor\": \"white\", \"showbackground\": true, \"showgrid\": true, \"ticks\": \"\", \"zerolinecolor\": \"white\"}}, \"shapedefaults\": {\"fillcolor\": \"rgb(67,103,167)\", \"line\": {\"width\": 0}, \"opacity\": 0.5}, \"ternary\": {\"aaxis\": {\"gridcolor\": \"white\", \"linecolor\": \"white\", \"showgrid\": true, \"ticks\": \"\"}, \"baxis\": {\"gridcolor\": \"white\", \"linecolor\": \"white\", \"showgrid\": true, \"ticks\": \"\"}, \"bgcolor\": \"rgb(234,234,242)\", \"caxis\": {\"gridcolor\": \"white\", \"linecolor\": \"white\", \"showgrid\": true, \"ticks\": \"\"}}, \"xaxis\": {\"automargin\": true, \"gridcolor\": \"white\", \"linecolor\": \"white\", \"showgrid\": true, \"ticks\": \"\", \"zerolinecolor\": \"white\"}, \"yaxis\": {\"automargin\": true, \"gridcolor\": \"white\", \"linecolor\": \"white\", \"showgrid\": true, \"ticks\": \"\", \"zerolinecolor\": \"white\"}}}, \"title\": {\"text\": \"Comparisons\"}},\n",
       "                        {\"responsive\": true}\n",
       "                    ).then(function(){\n",
       "                            \n",
       "var gd = document.getElementById('81800705-0da0-4e0e-8ceb-43971bd2797b');\n",
       "var x = new MutationObserver(function (mutations, observer) {{\n",
       "        var display = window.getComputedStyle(gd).display;\n",
       "        if (!display || display === 'none') {{\n",
       "            console.log([gd, 'removed!']);\n",
       "            Plotly.purge(gd);\n",
       "            observer.disconnect();\n",
       "        }}\n",
       "}});\n",
       "\n",
       "// Listen for the removal of the full notebook cells\n",
       "var notebookContainer = gd.closest('#notebook-container');\n",
       "if (notebookContainer) {{\n",
       "    x.observe(notebookContainer, {childList: true});\n",
       "}}\n",
       "\n",
       "// Listen for the clearing of the current output cell\n",
       "var outputEl = gd.closest('.output');\n",
       "if (outputEl) {{\n",
       "    x.observe(outputEl, {childList: true});\n",
       "}}\n",
       "\n",
       "                        })\n",
       "                };\n",
       "                });\n",
       "            </script>\n",
       "        </div>"
      ]
     },
     "metadata": {},
     "output_type": "display_data"
    }
   ],
   "source": [
    "px.scatter_matrix(data_frame=sort_by\n",
    "                  , dimensions=[\"rep\", \"answers\"] \n",
    "                  , color=\"name\"\n",
    "                  , size=\"rep/ans\"\n",
    "                  , symbol=\"rep\" \n",
    "                  , title='Comparisons'\n",
    "                  , hover_name='name'\n",
    "                  , template='seaborn'\n",
    "                 )"
   ]
  },
  {
   "cell_type": "code",
   "execution_count": 47,
   "metadata": {},
   "outputs": [],
   "source": [
    "# MATCH (u:User)-[:POSTED]->(answer)<-[:PARENT_OF]-()-[:HAS_TAG]-(:Tag {tagId:\"nosql\"}) \n",
    "# WHERE u.displayname = 'Emre'\n",
    "# RETURN u.displayname, u.reputation,u.location, count(distinct answer) AS answers\n",
    "# ORDER BY answers DESC;"
   ]
  },
  {
   "cell_type": "markdown",
   "metadata": {},
   "source": [
    "#### Run this graph in browser/ console"
   ]
  },
  {
   "cell_type": "code",
   "execution_count": 62,
   "metadata": {},
   "outputs": [],
   "source": [
    "# MATCH (u:User)-[:POSTED]->(answer)<-[:PARENT_OF]-(question)-[:HAS_TAG]-(tag:Tag {tagId:\"python\"}) \n",
    "# WHERE u.displayname contains \"t\"\n",
    "# RETURN *,count(distinct answer) AS answers\n",
    "# ORDER BY answers DESC limit 30;"
   ]
  },
  {
   "cell_type": "markdown",
   "metadata": {},
   "source": [
    "![title](images/python_answers.png)"
   ]
  },
  {
   "cell_type": "markdown",
   "metadata": {},
   "source": [
    "#### Top 5 tags of all time"
   ]
  },
  {
   "cell_type": "code",
   "execution_count": 73,
   "metadata": {},
   "outputs": [
    {
     "name": "stdout",
     "output_type": "stream",
     "text": [
      "            t.tagId t.count\n",
      "0  machine-learning    None\n",
      "1           bigdata    None\n",
      "2       data-mining    None\n",
      "3         databases    None\n",
      "4       definitions    None\n"
     ]
    }
   ],
   "source": [
    "query = \"match (t:Tag) with t order by t.count desc limit 5 return t.tagId, t.count;\" \n",
    "result = graph.run(query)\n",
    "print(result.to_data_frame())"
   ]
  },
  {
   "cell_type": "markdown",
   "metadata": {},
   "source": [
    "#### Co-occurence with 'javascript' tag"
   ]
  },
  {
   "cell_type": "code",
   "execution_count": 75,
   "metadata": {},
   "outputs": [
    {
     "name": "stdout",
     "output_type": "stream",
     "text": [
      "        other.tagId  freq\n",
      "0     visualization    11\n",
      "1    neural-network     6\n",
      "2  machine-learning     6\n",
      "3            python     3\n",
      "4            graphs     2\n"
     ]
    }
   ],
   "source": [
    "query = \"match (t:Tag {tagId:'javascript'})<-[:HAS_TAG]-()-[:HAS_TAG]->(other:Tag) WITH other, count(*) as freq order by freq desc limit 5 RETURN other.tagId,freq;\" \n",
    "result = graph.run(query)\n",
    "print(result.to_data_frame())\n",
    "\n",
    "# match (t:Tag {tagId:\"javascript\"})<-[:HAS_TAG]-()-[:HAS_TAG]->(other:Tag) \n",
    "# WITH other, count(*) as freq order by freq desc limit 5\n",
    "# RETURN other.tagId,freq;"
   ]
  },
  {
   "cell_type": "markdown",
   "metadata": {},
   "source": [
    "#### Most active answerers for python"
   ]
  },
  {
   "cell_type": "code",
   "execution_count": 79,
   "metadata": {},
   "outputs": [
    {
     "name": "stdout",
     "output_type": "stream",
     "text": [
      "    u.displayname  freq\n",
      "0         n1k31t4   117\n",
      "1        JahKnows    52\n",
      "2  Brian Spiering    49\n",
      "3    Anony-Mousse    49\n",
      "4            Emre    42\n",
      "5     Vaalizaadeh    38\n",
      "6     Neil Slater    36\n",
      "7            MaxU    34\n",
      "8  Kasra Manshaei    31\n",
      "9           Tasos    28\n"
     ]
    }
   ],
   "source": [
    "query = \"match (t:Tag {tagId:'python'})<-[:HAS_TAG]-()-[:PARENT_OF]->()<-[:POSTED]-(u:User) WITH u, count(*) as freq order by freq desc limit 10 RETURN u.displayname,freq;\" \n",
    "result = graph.run(query)\n",
    "print(result.to_data_frame())\n",
    "\n",
    "\n",
    "# match (t:Tag {tagId:\"neo4j\"})<-[:HAS_TAG]-()\n",
    "#        -[:PARENT_OF]->()<-[:POSTED]-(u:User) \n",
    "# WITH u, count(*) as freq order by freq desc limit 10\n",
    "# RETURN u.name,freq;"
   ]
  },
  {
   "cell_type": "markdown",
   "metadata": {},
   "source": [
    "#### Where are the most active answerers also active"
   ]
  },
  {
   "cell_type": "code",
   "execution_count": 82,
   "metadata": {},
   "outputs": [
    {
     "name": "stdout",
     "output_type": "stream",
     "text": [
      "    u.displayname                                               tags\n",
      "0     Vaalizaadeh        [deep-learning, neural-network, cnn, keras]\n",
      "1    Anony-Mousse  [machine-learning, k-means, data-mining, class...\n",
      "2     Neil Slater  [neural-network, reinforcement-learning, deep-...\n",
      "3            Emre  [neural-network, classification, deep-learning...\n",
      "4         n1k31t4  [deep-learning, neural-network, keras, tensorf...\n",
      "5        JahKnows  [neural-network, deep-learning, keras, classif...\n",
      "6  Brian Spiering  [nlp, deep-learning, neural-network, text-mining]\n",
      "7  Kasra Manshaei  [clustering, graphs, classification, data-mining]\n",
      "8           Tasos             [pandas, nlp, statistics, time-series]\n"
     ]
    }
   ],
   "source": [
    "query = \"MATCH (neo:Tag {tagId:'python'})<-[:HAS_TAG]-()-[:PARENT_OF]->()<-[:POSTED]-(u:User) WITH neo,u, count(*) as freq order by freq desc limit 10 MATCH (u)-[:POSTED]->()<-[:PARENT_OF]-(p)-[:HAS_TAG]->(other:Tag) WHERE NOT (p)-[:HAS_TAG]->(neo) WITH u,other,count(*) as freq2 order by freq2 desc RETURN u.displayname,collect(distinct other.tagId)[1..5] as tags;\" \n",
    "result = graph.run(query)\n",
    "print(result.to_data_frame())\n",
    "\n",
    "\n",
    "# MATCH (neo:Tag {tagId:'neo4j'})<-[:HAS_TAG]-()\n",
    "#       -[:PARENT_OF]->()<-[:POSTED]-(u:User) \n",
    "# WITH neo,u, count(*) as freq order by freq desc limit 10\n",
    "# MATCH (u)-[:POSTED]->()<-[:PARENT_OF]-(p)-[:HAS_TAG]->(other:Tag)\n",
    "# WHERE NOT (p)-[:HAS_TAG]->(neo)\n",
    "# WITH u,other,count(*) as freq2 order by freq2 desc \n",
    "# RETURN u.displayname,collect(distinct other.tagId)[1..5] as tags;"
   ]
  },
  {
   "cell_type": "markdown",
   "metadata": {},
   "source": [
    "#### Posted most questions about neo4j"
   ]
  },
  {
   "cell_type": "code",
   "execution_count": 85,
   "metadata": {},
   "outputs": [
    {
     "name": "stdout",
     "output_type": "stream",
     "text": [
      "       u.displayname  count\n",
      "0        John Newman      2\n",
      "1       Sreejithc321      2\n",
      "2        TobiasJakob      1\n",
      "3           blunders      1\n",
      "4                SRS      1\n",
      "5      sheldonkreger      1\n",
      "6             Victor      1\n",
      "7  Austin Capobianco      1\n"
     ]
    }
   ],
   "source": [
    "query = \"MATCH (t:Tag {tagId:'neo4j'})<-[:HAS_TAG]-(:Post)<-[:POSTED]-(u:User) RETURN u.displayname,count(*) as count ORDER BY count DESC LIMIT 10;\" \n",
    "result = graph.run(query)\n",
    "print(result.to_data_frame())\n",
    "\n",
    "# MATCH (t:Tag {tagId:'neo4j'})<-[:HAS_TAG]-(:Post)<-[:POSTED]-(u:User)\n",
    "# RETURN u.name,count(*) as count\n",
    "# ORDER BY count DESC LIMIT 10;"
   ]
  },
  {
   "cell_type": "markdown",
   "metadata": {},
   "source": [
    "#### Top answerers for pandas tag"
   ]
  },
  {
   "cell_type": "code",
   "execution_count": 88,
   "metadata": {},
   "outputs": [
    {
     "name": "stdout",
     "output_type": "stream",
     "text": [
      "   u.displayname  count\n",
      "0        n1k31t4     36\n",
      "1           MaxU     24\n",
      "2           Emre     18\n",
      "3          Tasos     15\n",
      "4         Aditya     12\n",
      "5          bkshi     12\n",
      "6  Stephen Rauch     10\n",
      "7    Vaalizaadeh     10\n",
      "8   TwinPenguins      8\n",
      "9       JahKnows      8\n"
     ]
    }
   ],
   "source": [
    "query = \"MATCH (:Tag {tagId:'pandas'})<-[:HAS_TAG]-()-[:PARENT_OF]->()<-[:POSTED]-(u:User) RETURN u.displayname,count(*) as count ORDER BY count DESC LIMIT 10;\" \n",
    "result = graph.run(query)\n",
    "print(result.to_data_frame())\n",
    "\n",
    "# MATCH (:Tag {tagId:'py2neo'})<-[:HAS_TAG]-()-[:PARENT_OF]->()\n",
    "#       <-[:POSTED]-(u:User)\n",
    "# RETURN u.displayname,count(*) as count\n",
    "# ORDER BY count DESC LIMIT 10;"
   ]
  },
  {
   "cell_type": "markdown",
   "metadata": {},
   "source": [
    "#### Users who answered their own question "
   ]
  },
  {
   "cell_type": "code",
   "execution_count": 94,
   "metadata": {},
   "outputs": [
    {
     "name": "stdout",
     "output_type": "stream",
     "text": [
      "Empty DataFrame\n",
      "Columns: []\n",
      "Index: []\n"
     ]
    }
   ],
   "source": [
    "query = \"MATCH (u:User) WHERE u.reputation > 1000 MATCH (u)-[:POSTED]->(question)-[:ANSWER]->(answer)<-[:POSTED]-(u) WITH u,count(distinct question) AS questions ORDER BY questions DESC LIMIT 5 RETURN u.displayname, u.reputation, questions;\" \n",
    "result = graph.run(query)\n",
    "print(result.to_data_frame())\n",
    "\n",
    "# MATCH (u:User) WHERE u.reputation > 20000\n",
    "# MATCH (u)-[:POSTED]->(question)-[:ANSWER]->(answer)<-[:POSTED]-(u)\n",
    "# WITH u,count(distinct question) AS questions\n",
    "# ORDER BY questions DESC LIMIT 5\n",
    "# RETURN u.displayname, u.reputation, questions;\n",
    "\n",
    "# not working no :ANSWER relationship"
   ]
  },
  {
   "cell_type": "markdown",
   "metadata": {},
   "source": [
    "#### Smaller queries"
   ]
  },
  {
   "cell_type": "code",
   "execution_count": null,
   "metadata": {},
   "outputs": [],
   "source": [
    "# MATCH path = allShortestPaths( (t:Tag {tagId:\"activation\"})-[*]-(u:Tag {tagId:\"xboost\"})) RETURN path LIMIT 10;"
   ]
  },
  {
   "cell_type": "markdown",
   "metadata": {},
   "source": [
    "![title](images/xboost_activation_bigdb.png)"
   ]
  },
  {
   "cell_type": "code",
   "execution_count": 1,
   "metadata": {},
   "outputs": [],
   "source": [
    "# MATCH path = allShortestPaths( (t:User {displayname:\"black_cat\"})-[*]-(u:User {displayname:\"Skier\"})) RETURN path LIMIT 10;"
   ]
  },
  {
   "cell_type": "markdown",
   "metadata": {},
   "source": [
    "![title](images/black_cat_to_skier.png)"
   ]
  },
  {
   "cell_type": "code",
   "execution_count": null,
   "metadata": {},
   "outputs": [],
   "source": []
  },
  {
   "cell_type": "raw",
   "metadata": {},
   "source": [
    "query = \"MATCH (u:User)-[:POSTED]->(answer)<-[:PARENT_OF]-()-[:HAS_TAG]-(:Tag {tagId:'education'}) RETURN u.displayname AS name,u.reputation AS rep,u.location, count(distinct answer) AS answers ORDER BY answers DESC LIMIT 20;\" \n",
    "result = graph.run(query)\n",
    "#print(result.to_data_frame())\n",
    "the3 = result.to_data_frame()\n",
    "the3[\"rep/ans\"] = the3[\"rep\"].astype(float) / the3[\"answers\"].astype(float)\n",
    "#print(xo)\n",
    "the3.head(40)\n",
    "\n"
   ]
  },
  {
   "cell_type": "code",
   "execution_count": null,
   "metadata": {},
   "outputs": [],
   "source": []
  }
 ],
 "metadata": {
  "kernelspec": {
   "display_name": "Python 3",
   "language": "python",
   "name": "python3"
  },
  "language_info": {
   "codemirror_mode": {
    "name": "ipython",
    "version": 3
   },
   "file_extension": ".py",
   "mimetype": "text/x-python",
   "name": "python",
   "nbconvert_exporter": "python",
   "pygments_lexer": "ipython3",
   "version": "3.7.3"
  }
 },
 "nbformat": 4,
 "nbformat_minor": 2
}
