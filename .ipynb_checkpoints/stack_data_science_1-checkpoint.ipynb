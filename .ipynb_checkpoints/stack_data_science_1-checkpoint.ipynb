{
 "cells": [
  {
   "cell_type": "code",
   "execution_count": 1,
   "metadata": {},
   "outputs": [],
   "source": [
    "from py2neo import Graph, Node, Relationship"
   ]
  },
  {
   "cell_type": "code",
   "execution_count": 6,
   "metadata": {},
   "outputs": [
    {
     "name": "stdout",
     "output_type": "stream",
     "text": [
      "  label  count(*)\n",
      "0  Post     39929\n",
      "1  User     66951\n",
      "2   Tag       489\n"
     ]
    }
   ],
   "source": [
    "graph = Graph(password=\"password\")\n",
    "\n",
    "query = \"match (n) return head(labels(n)) as label, count(*);\"\n",
    "result = graph.run(query)\n",
    "\n",
    "print(result.to_data_frame())"
   ]
  },
  {
   "cell_type": "markdown",
   "metadata": {},
   "source": [
    "#### Create constraints and indices - easier in browser - localhost:7474"
   ]
  },
  {
   "cell_type": "code",
   "execution_count": null,
   "metadata": {},
   "outputs": [],
   "source": [
    "# create index on :Post(title);\n",
    "# create index on :Post(createdAt);\n",
    "# create index on :Post(score);\n",
    "# create index on :Post(views);\n",
    "# create index on :Post(favorites);\n",
    "# create index on :Post(answers);\n",
    "# create index on :Post(score);\n",
    "\n",
    "# create index on :User(name);\n",
    "# create index on :User(createdAt);\n",
    "# create index on :User(reputation);\n",
    "# create index on :User(age);\n",
    "\n",
    "# create index on :Tag(count);\n",
    "\n",
    "# create constraint on (t:Tag) assert t.tagId is unique;\n",
    "# create constraint on (u:User) assert u.userId is unique;\n",
    "# create constraint on (p:Post) assert p.postId is unique;\n",
    "\n",
    "# We then waited for the indexes to be finished.\n",
    "\n",
    "# schema await"
   ]
  },
  {
   "cell_type": "code",
   "execution_count": 12,
   "metadata": {},
   "outputs": [
    {
     "name": "stdout",
     "output_type": "stream",
     "text": [
      "    u.displayname  posts\n",
      "0     Neil Slater    403\n",
      "1     Vaalizaadeh    354\n",
      "2         n1k31t4    347\n",
      "3    Anony-Mousse    325\n",
      "4  Brian Spiering    241\n",
      "5            Emre    227\n",
      "6    Martin Thoma    224\n",
      "7         Dawny33    215\n",
      "8           Tasos    205\n",
      "9        JahKnows    203\n"
     ]
    }
   ],
   "source": [
    "query = \"match (u:User) with u,size( (u)-[:POSTED]->()) as posts order by posts desc limit 10 return u.displayname, posts;\" \n",
    "result = graph.run(query)\n",
    "\n",
    "print(result.to_data_frame())"
   ]
  },
  {
   "cell_type": "markdown",
   "metadata": {},
   "source": [
    "#### Get number of tags used in asking questions"
   ]
  },
  {
   "cell_type": "code",
   "execution_count": 21,
   "metadata": {},
   "outputs": [
    {
     "name": "stdout",
     "output_type": "stream",
     "text": [
      "                               t  posts\n",
      "0  {'tagId': 'machine-learning'}     20\n",
      "1     {'tagId': 'deep-learning'}     15\n",
      "2    {'tagId': 'neural-network'}     11\n",
      "3               {'tagId': 'cnn'}      4\n",
      "4             {'tagId': 'keras'}      2\n"
     ]
    }
   ],
   "source": [
    "query = \"match (u:User)-[:POSTED]->()-[:HAS_TAG]->(t:Tag) where u.displayname = 'Vaalizaadeh'  return t,count(*) as posts order by posts desc limit 5;\" \n",
    "result = graph.run(query)\n",
    "\n",
    "print(result.to_data_frame())\n",
    "\n",
    "# This user only answered questions"
   ]
  },
  {
   "cell_type": "markdown",
   "metadata": {},
   "source": [
    "#### Get tags that User answered"
   ]
  },
  {
   "cell_type": "code",
   "execution_count": 32,
   "metadata": {},
   "outputs": [
    {
     "name": "stdout",
     "output_type": "stream",
     "text": [
      "            t.tagId  posts\n",
      "0           bigdata      1\n",
      "1            libsvm      1\n",
      "2  machine-learning      1\n"
     ]
    }
   ],
   "source": [
    "query = \"match (u:User)-[:POSTED]->()-[:HAS_TAG]->(t:Tag) where u.displayname = 'Puffin GDI' return t.tagId,count(*) as posts order by posts desc limit 5;\" \n",
    "result = graph.run(query)\n",
    "\n",
    "print(result.to_data_frame())"
   ]
  },
  {
   "cell_type": "markdown",
   "metadata": {},
   "source": [
    "#### All shortest paths - run in neo4j console or browser"
   ]
  },
  {
   "cell_type": "code",
   "execution_count": 35,
   "metadata": {},
   "outputs": [],
   "source": [
    "# MATCH path = allShortestPaths(\n",
    "#      (u:User {displayname:\"Emre\"})-[*]-(me:User {displayname:\"Vaalizaadeh\"}))\n",
    "# RETURN path;"
   ]
  },
  {
   "cell_type": "markdown",
   "metadata": {},
   "source": [
    "#### Which Mark answered the most questions about neo4j"
   ]
  },
  {
   "cell_type": "code",
   "execution_count": 36,
   "metadata": {},
   "outputs": [
    {
     "ename": "SyntaxError",
     "evalue": "invalid syntax (<ipython-input-36-ca241592afa3>, line 1)",
     "output_type": "error",
     "traceback": [
      "\u001b[0;36m  File \u001b[0;32m\"<ipython-input-36-ca241592afa3>\"\u001b[0;36m, line \u001b[0;32m1\u001b[0m\n\u001b[0;31m    query = \"MATCH (u:User)-[:POSTED]->(answer)<-[:PARENT_OF]-()-[:HAS_TAG]-(:Tag {tagId:\"neo4j\"}) WHERE u.displayname like \"Mark %\" RETURN u.displayname, u.reputation,u.location,count(distinct answer) AS answers ORDER BY answers DESC;\"\u001b[0m\n\u001b[0m                                                                                              ^\u001b[0m\n\u001b[0;31mSyntaxError\u001b[0m\u001b[0;31m:\u001b[0m invalid syntax\n"
     ]
    }
   ],
   "source": [
    "query = \"MATCH (u:User)-[:POSTED]->(answer)<-[:PARENT_OF]-()-[:HAS_TAG]-(:Tag {tagId:\"neo4j\"}) WHERE u.displayname like \"Mark %\" RETURN u.displayname, u.reputation,u.location,count(distinct answer) AS answers ORDER BY answers DESC;\" \n",
    "result = graph.run(query)\n",
    "print(result.to_data_frame())\n",
    "\n",
    "# query = \"\" \n",
    "# result = graph.run(query)\n",
    "# print(result.to_data_frame())\n",
    "\n"
   ]
  },
  {
   "cell_type": "code",
   "execution_count": null,
   "metadata": {},
   "outputs": [],
   "source": [
    "MATCH (u:User)-[:POSTED]->(answer)<-[:PARENT_OF]-()-[:HAS_TAG]-(:Tag {tagId:\"nosql\"}) \n",
    "WHERE u.displayname = \"Emre\"\n",
    "RETURN u.displayname, u.reputation,u.location,count(distinct answer) AS answers\n",
    "ORDER BY answers DESC;"
   ]
  }
 ],
 "metadata": {
  "kernelspec": {
   "display_name": "Python 3",
   "language": "python",
   "name": "python3"
  },
  "language_info": {
   "codemirror_mode": {
    "name": "ipython",
    "version": 3
   },
   "file_extension": ".py",
   "mimetype": "text/x-python",
   "name": "python",
   "nbconvert_exporter": "python",
   "pygments_lexer": "ipython3",
   "version": "3.7.3"
  }
 },
 "nbformat": 4,
 "nbformat_minor": 2
}
