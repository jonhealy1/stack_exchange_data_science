{
 "cells": [
  {
   "cell_type": "code",
   "execution_count": 15,
   "metadata": {},
   "outputs": [
    {
     "data": {
      "text/html": [
       "<div>\n",
       "<style scoped>\n",
       "    .dataframe tbody tr th:only-of-type {\n",
       "        vertical-align: middle;\n",
       "    }\n",
       "\n",
       "    .dataframe tbody tr th {\n",
       "        vertical-align: top;\n",
       "    }\n",
       "\n",
       "    .dataframe thead th {\n",
       "        text-align: right;\n",
       "    }\n",
       "</style>\n",
       "<table border=\"1\" class=\"dataframe\">\n",
       "  <thead>\n",
       "    <tr style=\"text-align: right;\">\n",
       "      <th></th>\n",
       "      <th>Unnamed: 0</th>\n",
       "      <th>text</th>\n",
       "      <th>postId</th>\n",
       "    </tr>\n",
       "  </thead>\n",
       "  <tbody>\n",
       "    <tr>\n",
       "      <td>0</td>\n",
       "      <td>0</td>\n",
       "      <td>ve always been interested in machine learning ...</td>\n",
       "      <td>5</td>\n",
       "    </tr>\n",
       "    <tr>\n",
       "      <td>1</td>\n",
       "      <td>1</td>\n",
       "      <td>as researcher and instructor looking for open ...</td>\n",
       "      <td>7</td>\n",
       "    </tr>\n",
       "    <tr>\n",
       "      <td>2</td>\n",
       "      <td>2</td>\n",
       "      <td>not sure if this fits the scope of this se but...</td>\n",
       "      <td>9</td>\n",
       "    </tr>\n",
       "    <tr>\n",
       "      <td>3</td>\n",
       "      <td>3</td>\n",
       "      <td>one book that freely available is the elements...</td>\n",
       "      <td>10</td>\n",
       "    </tr>\n",
       "    <tr>\n",
       "      <td>4</td>\n",
       "      <td>4</td>\n",
       "      <td>am sure data science as will be discussed in t...</td>\n",
       "      <td>14</td>\n",
       "    </tr>\n",
       "    <tr>\n",
       "      <td>5</td>\n",
       "      <td>5</td>\n",
       "      <td>in which situations would one system be prefer...</td>\n",
       "      <td>15</td>\n",
       "    </tr>\n",
       "    <tr>\n",
       "      <td>6</td>\n",
       "      <td>6</td>\n",
       "      <td>use href to train data and predict clas</td>\n",
       "      <td>16</td>\n",
       "    </tr>\n",
       "    <tr>\n",
       "      <td>7</td>\n",
       "      <td>7</td>\n",
       "      <td>href rel nofollow libsvm is library for suppor</td>\n",
       "      <td>17</td>\n",
       "    </tr>\n",
       "    <tr>\n",
       "      <td>8</td>\n",
       "      <td>8</td>\n",
       "      <td>NaN</td>\n",
       "      <td>18</td>\n",
       "    </tr>\n",
       "    <tr>\n",
       "      <td>9</td>\n",
       "      <td>9</td>\n",
       "      <td>lots of people use the term em big data em in ...</td>\n",
       "      <td>19</td>\n",
       "    </tr>\n",
       "    <tr>\n",
       "      <td>10</td>\n",
       "      <td>10</td>\n",
       "      <td>we created this social network application for...</td>\n",
       "      <td>20</td>\n",
       "    </tr>\n",
       "    <tr>\n",
       "      <td>11</td>\n",
       "      <td>11</td>\n",
       "      <td>as you rightly note these days big data is som...</td>\n",
       "      <td>21</td>\n",
       "    </tr>\n",
       "    <tr>\n",
       "      <td>12</td>\n",
       "      <td>12</td>\n",
       "      <td>my data set contains number of numeric attribu...</td>\n",
       "      <td>22</td>\n",
       "    </tr>\n",
       "    <tr>\n",
       "      <td>13</td>\n",
       "      <td>13</td>\n",
       "      <td>data science specialization from johns hopkins...</td>\n",
       "      <td>23</td>\n",
       "    </tr>\n",
       "    <tr>\n",
       "      <td>14</td>\n",
       "      <td>14</td>\n",
       "      <td>the standard means algorithm is not directly a...</td>\n",
       "      <td>24</td>\n",
       "    </tr>\n",
       "    <tr>\n",
       "      <td>15</td>\n",
       "      <td>15</td>\n",
       "      <td>big data is defined by the volume of data that...</td>\n",
       "      <td>25</td>\n",
       "    </tr>\n",
       "    <tr>\n",
       "      <td>16</td>\n",
       "      <td>16</td>\n",
       "      <td>few gigabytes is not very strong big strong it...</td>\n",
       "      <td>26</td>\n",
       "    </tr>\n",
       "    <tr>\n",
       "      <td>17</td>\n",
       "      <td>17</td>\n",
       "      <td>to answer this question you have to answer whi...</td>\n",
       "      <td>27</td>\n",
       "    </tr>\n",
       "    <tr>\n",
       "      <td>18</td>\n",
       "      <td>18</td>\n",
       "      <td>there is free ebook href rel noreferrer introd...</td>\n",
       "      <td>28</td>\n",
       "    </tr>\n",
       "    <tr>\n",
       "      <td>19</td>\n",
       "      <td>19</td>\n",
       "      <td>href starts to lay the</td>\n",
       "      <td>29</td>\n",
       "    </tr>\n",
       "  </tbody>\n",
       "</table>\n",
       "</div>"
      ],
      "text/plain": [
       "    Unnamed: 0                                               text  postId\n",
       "0            0  ve always been interested in machine learning ...       5\n",
       "1            1  as researcher and instructor looking for open ...       7\n",
       "2            2  not sure if this fits the scope of this se but...       9\n",
       "3            3  one book that freely available is the elements...      10\n",
       "4            4  am sure data science as will be discussed in t...      14\n",
       "5            5  in which situations would one system be prefer...      15\n",
       "6            6            use href to train data and predict clas      16\n",
       "7            7     href rel nofollow libsvm is library for suppor      17\n",
       "8            8                                                NaN      18\n",
       "9            9  lots of people use the term em big data em in ...      19\n",
       "10          10  we created this social network application for...      20\n",
       "11          11  as you rightly note these days big data is som...      21\n",
       "12          12  my data set contains number of numeric attribu...      22\n",
       "13          13  data science specialization from johns hopkins...      23\n",
       "14          14  the standard means algorithm is not directly a...      24\n",
       "15          15  big data is defined by the volume of data that...      25\n",
       "16          16  few gigabytes is not very strong big strong it...      26\n",
       "17          17  to answer this question you have to answer whi...      27\n",
       "18          18  there is free ebook href rel noreferrer introd...      28\n",
       "19          19                             href starts to lay the      29"
      ]
     },
     "execution_count": 15,
     "metadata": {},
     "output_type": "execute_result"
    }
   ],
   "source": [
    "import pandas as pd\n",
    "df = pd.read_csv(\"clean_tweet.csv\")\n",
    "#df.drop(['score','views','comments'],axis=1,inplace=True)\n",
    "df.head(20)\n",
    "\n",
    "# https://medium.com/neo4j/machine-learning-on-graphs-fca6eeb8f1d1\n",
    "# https://markhneedham.com/blog/2018/05/11/node2vec-tensorflow/"
   ]
  },
  {
   "cell_type": "code",
   "execution_count": 16,
   "metadata": {},
   "outputs": [
    {
     "data": {
      "text/html": [
       "<div>\n",
       "<style scoped>\n",
       "    .dataframe tbody tr th:only-of-type {\n",
       "        vertical-align: middle;\n",
       "    }\n",
       "\n",
       "    .dataframe tbody tr th {\n",
       "        vertical-align: top;\n",
       "    }\n",
       "\n",
       "    .dataframe thead th {\n",
       "        text-align: right;\n",
       "    }\n",
       "</style>\n",
       "<table border=\"1\" class=\"dataframe\">\n",
       "  <thead>\n",
       "    <tr style=\"text-align: right;\">\n",
       "      <th></th>\n",
       "      <th>:START_ID(Post)</th>\n",
       "      <th>:END_ID(Tag)</th>\n",
       "    </tr>\n",
       "  </thead>\n",
       "  <tbody>\n",
       "    <tr>\n",
       "      <td>0</td>\n",
       "      <td>5</td>\n",
       "      <td>machine-learning</td>\n",
       "    </tr>\n",
       "    <tr>\n",
       "      <td>1</td>\n",
       "      <td>7</td>\n",
       "      <td>education</td>\n",
       "    </tr>\n",
       "    <tr>\n",
       "      <td>2</td>\n",
       "      <td>7</td>\n",
       "      <td>open-source</td>\n",
       "    </tr>\n",
       "    <tr>\n",
       "      <td>3</td>\n",
       "      <td>14</td>\n",
       "      <td>data-mining</td>\n",
       "    </tr>\n",
       "    <tr>\n",
       "      <td>4</td>\n",
       "      <td>14</td>\n",
       "      <td>definitions</td>\n",
       "    </tr>\n",
       "    <tr>\n",
       "      <td>5</td>\n",
       "      <td>15</td>\n",
       "      <td>databases</td>\n",
       "    </tr>\n",
       "    <tr>\n",
       "      <td>6</td>\n",
       "      <td>16</td>\n",
       "      <td>machine-learning</td>\n",
       "    </tr>\n",
       "    <tr>\n",
       "      <td>7</td>\n",
       "      <td>16</td>\n",
       "      <td>bigdata</td>\n",
       "    </tr>\n",
       "    <tr>\n",
       "      <td>8</td>\n",
       "      <td>16</td>\n",
       "      <td>libsvm</td>\n",
       "    </tr>\n",
       "    <tr>\n",
       "      <td>9</td>\n",
       "      <td>19</td>\n",
       "      <td>bigdata</td>\n",
       "    </tr>\n",
       "    <tr>\n",
       "      <td>10</td>\n",
       "      <td>19</td>\n",
       "      <td>scalability</td>\n",
       "    </tr>\n",
       "    <tr>\n",
       "      <td>11</td>\n",
       "      <td>19</td>\n",
       "      <td>efficiency</td>\n",
       "    </tr>\n",
       "    <tr>\n",
       "      <td>12</td>\n",
       "      <td>19</td>\n",
       "      <td>performance</td>\n",
       "    </tr>\n",
       "    <tr>\n",
       "      <td>13</td>\n",
       "      <td>20</td>\n",
       "      <td>nosql</td>\n",
       "    </tr>\n",
       "    <tr>\n",
       "      <td>14</td>\n",
       "      <td>20</td>\n",
       "      <td>relational-dbms</td>\n",
       "    </tr>\n",
       "    <tr>\n",
       "      <td>15</td>\n",
       "      <td>22</td>\n",
       "      <td>data-mining</td>\n",
       "    </tr>\n",
       "    <tr>\n",
       "      <td>16</td>\n",
       "      <td>22</td>\n",
       "      <td>clustering</td>\n",
       "    </tr>\n",
       "    <tr>\n",
       "      <td>17</td>\n",
       "      <td>22</td>\n",
       "      <td>octave</td>\n",
       "    </tr>\n",
       "    <tr>\n",
       "      <td>18</td>\n",
       "      <td>22</td>\n",
       "      <td>k-means</td>\n",
       "    </tr>\n",
       "    <tr>\n",
       "      <td>19</td>\n",
       "      <td>22</td>\n",
       "      <td>categorical-data</td>\n",
       "    </tr>\n",
       "  </tbody>\n",
       "</table>\n",
       "</div>"
      ],
      "text/plain": [
       "    :START_ID(Post)      :END_ID(Tag)\n",
       "0                 5  machine-learning\n",
       "1                 7         education\n",
       "2                 7       open-source\n",
       "3                14       data-mining\n",
       "4                14       definitions\n",
       "5                15         databases\n",
       "6                16  machine-learning\n",
       "7                16           bigdata\n",
       "8                16            libsvm\n",
       "9                19           bigdata\n",
       "10               19       scalability\n",
       "11               19        efficiency\n",
       "12               19       performance\n",
       "13               20             nosql\n",
       "14               20   relational-dbms\n",
       "15               22       data-mining\n",
       "16               22        clustering\n",
       "17               22            octave\n",
       "18               22           k-means\n",
       "19               22  categorical-data"
      ]
     },
     "execution_count": 16,
     "metadata": {},
     "output_type": "execute_result"
    }
   ],
   "source": [
    "df_p = pd.read_csv(\"import_code/csvs/tags_posts_rel.csv\")\n",
    "# df.drop(['external_author_id','language','publish_date','harvested_date'],axis=1,inplace=True)\n",
    "df_p.head(20)"
   ]
  },
  {
   "cell_type": "code",
   "execution_count": 17,
   "metadata": {},
   "outputs": [],
   "source": [
    "df_p.columns = ['postId', 'tag']"
   ]
  },
  {
   "cell_type": "code",
   "execution_count": 18,
   "metadata": {},
   "outputs": [
    {
     "data": {
      "text/html": [
       "<div>\n",
       "<style scoped>\n",
       "    .dataframe tbody tr th:only-of-type {\n",
       "        vertical-align: middle;\n",
       "    }\n",
       "\n",
       "    .dataframe tbody tr th {\n",
       "        vertical-align: top;\n",
       "    }\n",
       "\n",
       "    .dataframe thead th {\n",
       "        text-align: right;\n",
       "    }\n",
       "</style>\n",
       "<table border=\"1\" class=\"dataframe\">\n",
       "  <thead>\n",
       "    <tr style=\"text-align: right;\">\n",
       "      <th></th>\n",
       "      <th>postId</th>\n",
       "      <th>tag</th>\n",
       "    </tr>\n",
       "  </thead>\n",
       "  <tbody>\n",
       "    <tr>\n",
       "      <td>0</td>\n",
       "      <td>5</td>\n",
       "      <td>machine-learning</td>\n",
       "    </tr>\n",
       "    <tr>\n",
       "      <td>1</td>\n",
       "      <td>7</td>\n",
       "      <td>education</td>\n",
       "    </tr>\n",
       "    <tr>\n",
       "      <td>2</td>\n",
       "      <td>7</td>\n",
       "      <td>open-source</td>\n",
       "    </tr>\n",
       "    <tr>\n",
       "      <td>3</td>\n",
       "      <td>14</td>\n",
       "      <td>data-mining</td>\n",
       "    </tr>\n",
       "    <tr>\n",
       "      <td>4</td>\n",
       "      <td>14</td>\n",
       "      <td>definitions</td>\n",
       "    </tr>\n",
       "  </tbody>\n",
       "</table>\n",
       "</div>"
      ],
      "text/plain": [
       "   postId               tag\n",
       "0       5  machine-learning\n",
       "1       7         education\n",
       "2       7       open-source\n",
       "3      14       data-mining\n",
       "4      14       definitions"
      ]
     },
     "execution_count": 18,
     "metadata": {},
     "output_type": "execute_result"
    }
   ],
   "source": [
    "df_p.head()"
   ]
  },
  {
   "cell_type": "code",
   "execution_count": 19,
   "metadata": {},
   "outputs": [],
   "source": [
    "my_df = pd.merge(df, df_p, on='postId')"
   ]
  },
  {
   "cell_type": "code",
   "execution_count": 65,
   "metadata": {},
   "outputs": [
    {
     "data": {
      "text/html": [
       "<div>\n",
       "<style scoped>\n",
       "    .dataframe tbody tr th:only-of-type {\n",
       "        vertical-align: middle;\n",
       "    }\n",
       "\n",
       "    .dataframe tbody tr th {\n",
       "        vertical-align: top;\n",
       "    }\n",
       "\n",
       "    .dataframe thead th {\n",
       "        text-align: right;\n",
       "    }\n",
       "</style>\n",
       "<table border=\"1\" class=\"dataframe\">\n",
       "  <thead>\n",
       "    <tr style=\"text-align: right;\">\n",
       "      <th></th>\n",
       "      <th>text</th>\n",
       "      <th>postId</th>\n",
       "      <th>tag</th>\n",
       "    </tr>\n",
       "  </thead>\n",
       "  <tbody>\n",
       "    <tr>\n",
       "      <td>0</td>\n",
       "      <td>ve always been interested in machine learning ...</td>\n",
       "      <td>5</td>\n",
       "      <td>machine-learning</td>\n",
       "    </tr>\n",
       "    <tr>\n",
       "      <td>1</td>\n",
       "      <td>as researcher and instructor looking for open ...</td>\n",
       "      <td>7</td>\n",
       "      <td>education</td>\n",
       "    </tr>\n",
       "    <tr>\n",
       "      <td>2</td>\n",
       "      <td>as researcher and instructor looking for open ...</td>\n",
       "      <td>7</td>\n",
       "      <td>open-source</td>\n",
       "    </tr>\n",
       "    <tr>\n",
       "      <td>3</td>\n",
       "      <td>am sure data science as will be discussed in t...</td>\n",
       "      <td>14</td>\n",
       "      <td>data-mining</td>\n",
       "    </tr>\n",
       "    <tr>\n",
       "      <td>4</td>\n",
       "      <td>am sure data science as will be discussed in t...</td>\n",
       "      <td>14</td>\n",
       "      <td>definitions</td>\n",
       "    </tr>\n",
       "    <tr>\n",
       "      <td>5</td>\n",
       "      <td>in which situations would one system be prefer...</td>\n",
       "      <td>15</td>\n",
       "      <td>databases</td>\n",
       "    </tr>\n",
       "    <tr>\n",
       "      <td>6</td>\n",
       "      <td>use href to train data and predict clas</td>\n",
       "      <td>16</td>\n",
       "      <td>machine-learning</td>\n",
       "    </tr>\n",
       "    <tr>\n",
       "      <td>7</td>\n",
       "      <td>use href to train data and predict clas</td>\n",
       "      <td>16</td>\n",
       "      <td>bigdata</td>\n",
       "    </tr>\n",
       "    <tr>\n",
       "      <td>8</td>\n",
       "      <td>use href to train data and predict clas</td>\n",
       "      <td>16</td>\n",
       "      <td>libsvm</td>\n",
       "    </tr>\n",
       "    <tr>\n",
       "      <td>9</td>\n",
       "      <td>lots of people use the term em big data em in ...</td>\n",
       "      <td>19</td>\n",
       "      <td>bigdata</td>\n",
       "    </tr>\n",
       "    <tr>\n",
       "      <td>10</td>\n",
       "      <td>lots of people use the term em big data em in ...</td>\n",
       "      <td>19</td>\n",
       "      <td>scalability</td>\n",
       "    </tr>\n",
       "    <tr>\n",
       "      <td>11</td>\n",
       "      <td>lots of people use the term em big data em in ...</td>\n",
       "      <td>19</td>\n",
       "      <td>efficiency</td>\n",
       "    </tr>\n",
       "    <tr>\n",
       "      <td>12</td>\n",
       "      <td>lots of people use the term em big data em in ...</td>\n",
       "      <td>19</td>\n",
       "      <td>performance</td>\n",
       "    </tr>\n",
       "    <tr>\n",
       "      <td>13</td>\n",
       "      <td>we created this social network application for...</td>\n",
       "      <td>20</td>\n",
       "      <td>nosql</td>\n",
       "    </tr>\n",
       "    <tr>\n",
       "      <td>14</td>\n",
       "      <td>we created this social network application for...</td>\n",
       "      <td>20</td>\n",
       "      <td>relational-dbms</td>\n",
       "    </tr>\n",
       "    <tr>\n",
       "      <td>15</td>\n",
       "      <td>my data set contains number of numeric attribu...</td>\n",
       "      <td>22</td>\n",
       "      <td>data-mining</td>\n",
       "    </tr>\n",
       "    <tr>\n",
       "      <td>16</td>\n",
       "      <td>my data set contains number of numeric attribu...</td>\n",
       "      <td>22</td>\n",
       "      <td>clustering</td>\n",
       "    </tr>\n",
       "    <tr>\n",
       "      <td>17</td>\n",
       "      <td>my data set contains number of numeric attribu...</td>\n",
       "      <td>22</td>\n",
       "      <td>octave</td>\n",
       "    </tr>\n",
       "    <tr>\n",
       "      <td>18</td>\n",
       "      <td>my data set contains number of numeric attribu...</td>\n",
       "      <td>22</td>\n",
       "      <td>k-means</td>\n",
       "    </tr>\n",
       "    <tr>\n",
       "      <td>19</td>\n",
       "      <td>my data set contains number of numeric attribu...</td>\n",
       "      <td>22</td>\n",
       "      <td>categorical-data</td>\n",
       "    </tr>\n",
       "    <tr>\n",
       "      <td>20</td>\n",
       "      <td>have bunch of customer profiles stored in href...</td>\n",
       "      <td>31</td>\n",
       "      <td>data-mining</td>\n",
       "    </tr>\n",
       "    <tr>\n",
       "      <td>21</td>\n",
       "      <td>have bunch of customer profiles stored in href...</td>\n",
       "      <td>31</td>\n",
       "      <td>clustering</td>\n",
       "    </tr>\n",
       "    <tr>\n",
       "      <td>22</td>\n",
       "      <td>in working on exploratory data analysis and de...</td>\n",
       "      <td>35</td>\n",
       "      <td>algorithms</td>\n",
       "    </tr>\n",
       "    <tr>\n",
       "      <td>23</td>\n",
       "      <td>heard about many tools frameworks for helping ...</td>\n",
       "      <td>38</td>\n",
       "      <td>nosql</td>\n",
       "    </tr>\n",
       "    <tr>\n",
       "      <td>24</td>\n",
       "      <td>heard about many tools frameworks for helping ...</td>\n",
       "      <td>38</td>\n",
       "      <td>tools</td>\n",
       "    </tr>\n",
       "    <tr>\n",
       "      <td>25</td>\n",
       "      <td>heard about many tools frameworks for helping ...</td>\n",
       "      <td>38</td>\n",
       "      <td>processing</td>\n",
       "    </tr>\n",
       "    <tr>\n",
       "      <td>26</td>\n",
       "      <td>heard about many tools frameworks for helping ...</td>\n",
       "      <td>38</td>\n",
       "      <td>apache-hadoop</td>\n",
       "    </tr>\n",
       "    <tr>\n",
       "      <td>27</td>\n",
       "      <td>has many libraries which are aimed at data ana...</td>\n",
       "      <td>41</td>\n",
       "      <td>bigdata</td>\n",
       "    </tr>\n",
       "    <tr>\n",
       "      <td>28</td>\n",
       "      <td>has many libraries which are aimed at data ana...</td>\n",
       "      <td>41</td>\n",
       "      <td>r</td>\n",
       "    </tr>\n",
       "    <tr>\n",
       "      <td>29</td>\n",
       "      <td>have an script that generates report based on ...</td>\n",
       "      <td>50</td>\n",
       "      <td>r</td>\n",
       "    </tr>\n",
       "  </tbody>\n",
       "</table>\n",
       "</div>"
      ],
      "text/plain": [
       "                                                 text  postId  \\\n",
       "0   ve always been interested in machine learning ...       5   \n",
       "1   as researcher and instructor looking for open ...       7   \n",
       "2   as researcher and instructor looking for open ...       7   \n",
       "3   am sure data science as will be discussed in t...      14   \n",
       "4   am sure data science as will be discussed in t...      14   \n",
       "5   in which situations would one system be prefer...      15   \n",
       "6             use href to train data and predict clas      16   \n",
       "7             use href to train data and predict clas      16   \n",
       "8             use href to train data and predict clas      16   \n",
       "9   lots of people use the term em big data em in ...      19   \n",
       "10  lots of people use the term em big data em in ...      19   \n",
       "11  lots of people use the term em big data em in ...      19   \n",
       "12  lots of people use the term em big data em in ...      19   \n",
       "13  we created this social network application for...      20   \n",
       "14  we created this social network application for...      20   \n",
       "15  my data set contains number of numeric attribu...      22   \n",
       "16  my data set contains number of numeric attribu...      22   \n",
       "17  my data set contains number of numeric attribu...      22   \n",
       "18  my data set contains number of numeric attribu...      22   \n",
       "19  my data set contains number of numeric attribu...      22   \n",
       "20  have bunch of customer profiles stored in href...      31   \n",
       "21  have bunch of customer profiles stored in href...      31   \n",
       "22  in working on exploratory data analysis and de...      35   \n",
       "23  heard about many tools frameworks for helping ...      38   \n",
       "24  heard about many tools frameworks for helping ...      38   \n",
       "25  heard about many tools frameworks for helping ...      38   \n",
       "26  heard about many tools frameworks for helping ...      38   \n",
       "27  has many libraries which are aimed at data ana...      41   \n",
       "28  has many libraries which are aimed at data ana...      41   \n",
       "29  have an script that generates report based on ...      50   \n",
       "\n",
       "                 tag  \n",
       "0   machine-learning  \n",
       "1          education  \n",
       "2        open-source  \n",
       "3        data-mining  \n",
       "4        definitions  \n",
       "5          databases  \n",
       "6   machine-learning  \n",
       "7            bigdata  \n",
       "8             libsvm  \n",
       "9            bigdata  \n",
       "10       scalability  \n",
       "11        efficiency  \n",
       "12       performance  \n",
       "13             nosql  \n",
       "14   relational-dbms  \n",
       "15       data-mining  \n",
       "16        clustering  \n",
       "17            octave  \n",
       "18           k-means  \n",
       "19  categorical-data  \n",
       "20       data-mining  \n",
       "21        clustering  \n",
       "22        algorithms  \n",
       "23             nosql  \n",
       "24             tools  \n",
       "25        processing  \n",
       "26     apache-hadoop  \n",
       "27           bigdata  \n",
       "28                 r  \n",
       "29                 r  "
      ]
     },
     "execution_count": 65,
     "metadata": {},
     "output_type": "execute_result"
    }
   ],
   "source": [
    "my_df.head(30)"
   ]
  },
  {
   "cell_type": "code",
   "execution_count": 21,
   "metadata": {},
   "outputs": [
    {
     "name": "stdout",
     "output_type": "stream",
     "text": [
      "Unnamed: 0\n",
      "text\n",
      "postId\n",
      "tag\n"
     ]
    }
   ],
   "source": [
    "for col in my_df.columns: \n",
    "    print(col) "
   ]
  },
  {
   "cell_type": "code",
   "execution_count": 22,
   "metadata": {},
   "outputs": [],
   "source": [
    "my_df.drop(['Unnamed: 0'],axis=1,inplace=True)"
   ]
  },
  {
   "cell_type": "code",
   "execution_count": 26,
   "metadata": {},
   "outputs": [
    {
     "data": {
      "text/html": [
       "<div>\n",
       "<style scoped>\n",
       "    .dataframe tbody tr th:only-of-type {\n",
       "        vertical-align: middle;\n",
       "    }\n",
       "\n",
       "    .dataframe tbody tr th {\n",
       "        vertical-align: top;\n",
       "    }\n",
       "\n",
       "    .dataframe thead th {\n",
       "        text-align: right;\n",
       "    }\n",
       "</style>\n",
       "<table border=\"1\" class=\"dataframe\">\n",
       "  <thead>\n",
       "    <tr style=\"text-align: right;\">\n",
       "      <th></th>\n",
       "      <th>text</th>\n",
       "      <th>postId</th>\n",
       "    </tr>\n",
       "    <tr>\n",
       "      <th>tag</th>\n",
       "      <th></th>\n",
       "      <th></th>\n",
       "    </tr>\n",
       "  </thead>\n",
       "  <tbody>\n",
       "    <tr>\n",
       "      <td>.net</td>\n",
       "      <td>6</td>\n",
       "      <td>6</td>\n",
       "    </tr>\n",
       "    <tr>\n",
       "      <td>3d-reconstruction</td>\n",
       "      <td>5</td>\n",
       "      <td>5</td>\n",
       "    </tr>\n",
       "    <tr>\n",
       "      <td>ab-test</td>\n",
       "      <td>26</td>\n",
       "      <td>26</td>\n",
       "    </tr>\n",
       "    <tr>\n",
       "      <td>accuracy</td>\n",
       "      <td>152</td>\n",
       "      <td>152</td>\n",
       "    </tr>\n",
       "    <tr>\n",
       "      <td>activation</td>\n",
       "      <td>1</td>\n",
       "      <td>1</td>\n",
       "    </tr>\n",
       "    <tr>\n",
       "      <td>...</td>\n",
       "      <td>...</td>\n",
       "      <td>...</td>\n",
       "    </tr>\n",
       "    <tr>\n",
       "      <td>word-embeddings</td>\n",
       "      <td>206</td>\n",
       "      <td>206</td>\n",
       "    </tr>\n",
       "    <tr>\n",
       "      <td>word2vec</td>\n",
       "      <td>227</td>\n",
       "      <td>227</td>\n",
       "    </tr>\n",
       "    <tr>\n",
       "      <td>xboost</td>\n",
       "      <td>1</td>\n",
       "      <td>1</td>\n",
       "    </tr>\n",
       "    <tr>\n",
       "      <td>xgboost</td>\n",
       "      <td>303</td>\n",
       "      <td>303</td>\n",
       "    </tr>\n",
       "    <tr>\n",
       "      <td>yolo</td>\n",
       "      <td>29</td>\n",
       "      <td>29</td>\n",
       "    </tr>\n",
       "  </tbody>\n",
       "</table>\n",
       "<p>489 rows × 2 columns</p>\n",
       "</div>"
      ],
      "text/plain": [
       "                   text  postId\n",
       "tag                            \n",
       ".net                  6       6\n",
       "3d-reconstruction     5       5\n",
       "ab-test              26      26\n",
       "accuracy            152     152\n",
       "activation            1       1\n",
       "...                 ...     ...\n",
       "word-embeddings     206     206\n",
       "word2vec            227     227\n",
       "xboost                1       1\n",
       "xgboost             303     303\n",
       "yolo                 29      29\n",
       "\n",
       "[489 rows x 2 columns]"
      ]
     },
     "execution_count": 26,
     "metadata": {},
     "output_type": "execute_result"
    }
   ],
   "source": [
    "my_df.groupby('tag').count()"
   ]
  },
  {
   "cell_type": "code",
   "execution_count": 17,
   "metadata": {},
   "outputs": [
    {
     "data": {
      "text/html": [
       "<div>\n",
       "<style scoped>\n",
       "    .dataframe tbody tr th:only-of-type {\n",
       "        vertical-align: middle;\n",
       "    }\n",
       "\n",
       "    .dataframe tbody tr th {\n",
       "        vertical-align: top;\n",
       "    }\n",
       "\n",
       "    .dataframe thead th {\n",
       "        text-align: right;\n",
       "    }\n",
       "</style>\n",
       "<table border=\"1\" class=\"dataframe\">\n",
       "  <thead>\n",
       "    <tr style=\"text-align: right;\">\n",
       "      <th></th>\n",
       "      <th>text</th>\n",
       "      <th>postId</th>\n",
       "      <th>tag</th>\n",
       "    </tr>\n",
       "  </thead>\n",
       "  <tbody>\n",
       "    <tr>\n",
       "      <td>0</td>\n",
       "      <td>ve always been interested in machine learning ...</td>\n",
       "      <td>5</td>\n",
       "      <td>machine-learning</td>\n",
       "    </tr>\n",
       "    <tr>\n",
       "      <td>1</td>\n",
       "      <td>as researcher and instructor looking for open ...</td>\n",
       "      <td>7</td>\n",
       "      <td>education</td>\n",
       "    </tr>\n",
       "    <tr>\n",
       "      <td>2</td>\n",
       "      <td>as researcher and instructor looking for open ...</td>\n",
       "      <td>7</td>\n",
       "      <td>open-source</td>\n",
       "    </tr>\n",
       "    <tr>\n",
       "      <td>3</td>\n",
       "      <td>am sure data science as will be discussed in t...</td>\n",
       "      <td>14</td>\n",
       "      <td>data-mining</td>\n",
       "    </tr>\n",
       "    <tr>\n",
       "      <td>4</td>\n",
       "      <td>am sure data science as will be discussed in t...</td>\n",
       "      <td>14</td>\n",
       "      <td>definitions</td>\n",
       "    </tr>\n",
       "    <tr>\n",
       "      <td>5</td>\n",
       "      <td>in which situations would one system be prefer...</td>\n",
       "      <td>15</td>\n",
       "      <td>databases</td>\n",
       "    </tr>\n",
       "    <tr>\n",
       "      <td>6</td>\n",
       "      <td>use href to train data and predict clas</td>\n",
       "      <td>16</td>\n",
       "      <td>machine-learning</td>\n",
       "    </tr>\n",
       "    <tr>\n",
       "      <td>7</td>\n",
       "      <td>use href to train data and predict clas</td>\n",
       "      <td>16</td>\n",
       "      <td>bigdata</td>\n",
       "    </tr>\n",
       "    <tr>\n",
       "      <td>8</td>\n",
       "      <td>use href to train data and predict clas</td>\n",
       "      <td>16</td>\n",
       "      <td>libsvm</td>\n",
       "    </tr>\n",
       "    <tr>\n",
       "      <td>9</td>\n",
       "      <td>lots of people use the term em big data em in ...</td>\n",
       "      <td>19</td>\n",
       "      <td>bigdata</td>\n",
       "    </tr>\n",
       "    <tr>\n",
       "      <td>10</td>\n",
       "      <td>lots of people use the term em big data em in ...</td>\n",
       "      <td>19</td>\n",
       "      <td>scalability</td>\n",
       "    </tr>\n",
       "    <tr>\n",
       "      <td>11</td>\n",
       "      <td>lots of people use the term em big data em in ...</td>\n",
       "      <td>19</td>\n",
       "      <td>efficiency</td>\n",
       "    </tr>\n",
       "    <tr>\n",
       "      <td>12</td>\n",
       "      <td>lots of people use the term em big data em in ...</td>\n",
       "      <td>19</td>\n",
       "      <td>performance</td>\n",
       "    </tr>\n",
       "    <tr>\n",
       "      <td>13</td>\n",
       "      <td>we created this social network application for...</td>\n",
       "      <td>20</td>\n",
       "      <td>nosql</td>\n",
       "    </tr>\n",
       "    <tr>\n",
       "      <td>14</td>\n",
       "      <td>we created this social network application for...</td>\n",
       "      <td>20</td>\n",
       "      <td>relational-dbms</td>\n",
       "    </tr>\n",
       "    <tr>\n",
       "      <td>15</td>\n",
       "      <td>my data set contains number of numeric attribu...</td>\n",
       "      <td>22</td>\n",
       "      <td>data-mining</td>\n",
       "    </tr>\n",
       "    <tr>\n",
       "      <td>16</td>\n",
       "      <td>my data set contains number of numeric attribu...</td>\n",
       "      <td>22</td>\n",
       "      <td>clustering</td>\n",
       "    </tr>\n",
       "    <tr>\n",
       "      <td>17</td>\n",
       "      <td>my data set contains number of numeric attribu...</td>\n",
       "      <td>22</td>\n",
       "      <td>octave</td>\n",
       "    </tr>\n",
       "    <tr>\n",
       "      <td>18</td>\n",
       "      <td>my data set contains number of numeric attribu...</td>\n",
       "      <td>22</td>\n",
       "      <td>k-means</td>\n",
       "    </tr>\n",
       "    <tr>\n",
       "      <td>19</td>\n",
       "      <td>my data set contains number of numeric attribu...</td>\n",
       "      <td>22</td>\n",
       "      <td>categorical-data</td>\n",
       "    </tr>\n",
       "  </tbody>\n",
       "</table>\n",
       "</div>"
      ],
      "text/plain": [
       "                                                 text  postId  \\\n",
       "0   ve always been interested in machine learning ...       5   \n",
       "1   as researcher and instructor looking for open ...       7   \n",
       "2   as researcher and instructor looking for open ...       7   \n",
       "3   am sure data science as will be discussed in t...      14   \n",
       "4   am sure data science as will be discussed in t...      14   \n",
       "5   in which situations would one system be prefer...      15   \n",
       "6             use href to train data and predict clas      16   \n",
       "7             use href to train data and predict clas      16   \n",
       "8             use href to train data and predict clas      16   \n",
       "9   lots of people use the term em big data em in ...      19   \n",
       "10  lots of people use the term em big data em in ...      19   \n",
       "11  lots of people use the term em big data em in ...      19   \n",
       "12  lots of people use the term em big data em in ...      19   \n",
       "13  we created this social network application for...      20   \n",
       "14  we created this social network application for...      20   \n",
       "15  my data set contains number of numeric attribu...      22   \n",
       "16  my data set contains number of numeric attribu...      22   \n",
       "17  my data set contains number of numeric attribu...      22   \n",
       "18  my data set contains number of numeric attribu...      22   \n",
       "19  my data set contains number of numeric attribu...      22   \n",
       "\n",
       "                 tag  \n",
       "0   machine-learning  \n",
       "1          education  \n",
       "2        open-source  \n",
       "3        data-mining  \n",
       "4        definitions  \n",
       "5          databases  \n",
       "6   machine-learning  \n",
       "7            bigdata  \n",
       "8             libsvm  \n",
       "9            bigdata  \n",
       "10       scalability  \n",
       "11        efficiency  \n",
       "12       performance  \n",
       "13             nosql  \n",
       "14   relational-dbms  \n",
       "15       data-mining  \n",
       "16        clustering  \n",
       "17            octave  \n",
       "18           k-means  \n",
       "19  categorical-data  "
      ]
     },
     "execution_count": 17,
     "metadata": {},
     "output_type": "execute_result"
    }
   ],
   "source": [
    "my_df.head(20)"
   ]
  },
  {
   "cell_type": "code",
   "execution_count": 19,
   "metadata": {},
   "outputs": [],
   "source": [
    "my_df.to_csv('tag_and_post.csv',encoding='utf-8')"
   ]
  },
  {
   "cell_type": "markdown",
   "metadata": {},
   "source": [
    "#### Build graph in neo4j"
   ]
  },
  {
   "cell_type": "code",
   "execution_count": 7,
   "metadata": {},
   "outputs": [],
   "source": [
    "from py2neo import Graph, Node, Relationship\n",
    "\n",
    "graph = Graph(password=\"password\")"
   ]
  },
  {
   "cell_type": "code",
   "execution_count": 8,
   "metadata": {},
   "outputs": [],
   "source": [
    "query = '''\n",
    "USING PERIODIC COMMIT 500\n",
    "LOAD CSV WITH HEADERS FROM \"file:////tag_and_post.csv\" as row\n",
    "MERGE (s:TAG{tag:row.tag})\n",
    "MERGE (t:CONTENT{text:row.text})\n",
    "CREATE (s)-[:TAGS]->(t)\n",
    "'''"
   ]
  },
  {
   "cell_type": "code",
   "execution_count": 9,
   "metadata": {},
   "outputs": [
    {
     "name": "stdout",
     "output_type": "stream",
     "text": [
      "<py2neo.database.Cursor object at 0x108211908>\n"
     ]
    }
   ],
   "source": [
    "# run query\n",
    "data = graph.run(query)\n",
    "print(data)"
   ]
  },
  {
   "cell_type": "markdown",
   "metadata": {},
   "source": [
    "#### all posts with tag 'octave'"
   ]
  },
  {
   "cell_type": "code",
   "execution_count": null,
   "metadata": {},
   "outputs": [],
   "source": [
    "# MATCH p=(t:TAG)-[]->() WHERE t.tag = \"octave\" RETURN p LIMIT 25"
   ]
  },
  {
   "cell_type": "markdown",
   "metadata": {},
   "source": [
    "![title](images/tag_octave.png)"
   ]
  },
  {
   "cell_type": "markdown",
   "metadata": {},
   "source": [
    "#### all shortest path between 'java' and 'python' with some of the edge nodes tags shown"
   ]
  },
  {
   "cell_type": "code",
   "execution_count": null,
   "metadata": {},
   "outputs": [],
   "source": [
    "# MATCH path = allShortestPaths( (t:TAG {tag:\"java\"})-[*]-(u:TAG {tag:\"python\"})) RETURN path LIMIT 10;"
   ]
  },
  {
   "cell_type": "markdown",
   "metadata": {},
   "source": [
    "![title](images/python_java_shortpath.png)"
   ]
  },
  {
   "cell_type": "markdown",
   "metadata": {},
   "source": [
    " #### all shortest path between 'education' and 'java'"
   ]
  },
  {
   "cell_type": "markdown",
   "metadata": {},
   "source": [
    "![title](images/java_education_shortpath.png)"
   ]
  },
  {
   "cell_type": "markdown",
   "metadata": {},
   "source": [
    " #### shortest path between 'activation' and 'xboost' with some of the edge nodes tags shown"
   ]
  },
  {
   "cell_type": "markdown",
   "metadata": {},
   "source": [
    "![title](images/xboost_activation_shortpath.png)"
   ]
  },
  {
   "cell_type": "markdown",
   "metadata": {},
   "source": [
    "#### Create edge list - node2vec"
   ]
  },
  {
   "cell_type": "code",
   "execution_count": 70,
   "metadata": {},
   "outputs": [
    {
     "name": "stdout",
     "output_type": "stream",
     "text": [
      "Create the edge list\n"
     ]
    }
   ],
   "source": [
    "# from neo4j.v1 import GraphDatabase, basic_auth\n",
    "\n",
    "# host = \"bolt://127.0.0.1:7687\" # replace this with your Sandbox host\n",
    "# password = \"password\" # replace this with your Sandbox password\n",
    "\n",
    "# driver = GraphDatabase.driver(host)\n",
    "\n",
    "from neo4j import GraphDatabase\n",
    "import csv\n",
    "\n",
    "uri = \"bolt://localhost:7687\"\n",
    "driver = GraphDatabase.driver(uri, auth=(\"neo4j\", \"password\"))\n",
    "\n",
    "# print('Create the edge list')\n",
    "# with driver.session() as session, open(\"graph/stack_data.edgelist\", \"w\") as edges_file:\n",
    "#     result = session.run(\"\"\"\\\n",
    "#     MATCH (t:TAG)--(other)\n",
    "#     RETURN id(t) AS source, id(other) AS target\n",
    "#     \"\"\")\n",
    "\n",
    "#     writer = csv.writer(edges_file, delimiter=\" \")\n",
    "\n",
    "#     for row in result:\n",
    "#         writer.writerow([row[\"source\"], row[\"target\"]])\n",
    "        \n",
    "print('Create the edge list')\n",
    "with driver.session() as session, open(\"graph/stack_content.edgelist\", \"w\") as edges_file:\n",
    "    result = session.run(\"\"\"\\\n",
    "    MATCH (c:CONTENT)--(other)\n",
    "    RETURN id(c) AS source, id(other) AS target\n",
    "    \"\"\")\n",
    "\n",
    "    writer = csv.writer(edges_file, delimiter=\" \")\n",
    "\n",
    "    for row in result:\n",
    "        writer.writerow([row[\"source\"], row[\"target\"]])"
   ]
  },
  {
   "cell_type": "markdown",
   "metadata": {},
   "source": [
    "#### node2vec"
   ]
  },
  {
   "cell_type": "code",
   "execution_count": 38,
   "metadata": {},
   "outputs": [],
   "source": [
    "# https://github.com/snap-stanford/snap/tree/master/examples/node2vec\n",
    "\n",
    "# %%bash\n",
    "# ./node2vec -i:graph/stack_data.edgelist -o:emb/stack_data.emb -l:80 -d:100 -p:0.3 -dr -v"
   ]
  },
  {
   "cell_type": "code",
   "execution_count": null,
   "metadata": {},
   "outputs": [],
   "source": [
    "# (base) Computers-MacBook-Air:node2vec computer$ ./node2vec\n",
    "\n",
    "# An algorithmic framework for representational learning on graphs. [Dec  2 2019]\n",
    "# ================================================================================\n",
    "# usage: node2vec\n",
    "#    -i:Input graph path (default:'graph/karate.edgelist')\n",
    "#    -o:Output graph path (default:'emb/karate.emb')\n",
    "#    -d:Number of dimensions. Default is 128 (default:128)\n",
    "#    -l:Length of walk per source. Default is 80 (default:80)\n",
    "#    -r:Number of walks per source. Default is 10 (default:10)\n",
    "#    -k:Context size for optimization. Default is 10 (default:10)\n",
    "#    -e:Number of epochs in SGD. Default is 1 (default:1)\n",
    "#    -p:Return hyperparameter. Default is 1 (default:1)\n",
    "#    -q:Inout hyperparameter. Default is 1 (default:1)\n",
    "#    -v Verbose output. \n",
    "#    -dr Graph is directed. \n",
    "#    -w Graph is weighted. \n",
    "#    -ow Output random walks instead of embeddings. \n",
    "# (base) Computers-MacBook-Air:node2vec computer$ ./node2vec -i:graph/stack_data.edgelist -o:emb/stack_data.emb -l:80 -d:100 -p:0.3 -dr -v\n",
    "\n",
    "# An algorithmic framework for representational learning on graphs. [Dec  2 2019]\n",
    "# ================================================================================\n",
    "# Input graph path (-i:)=graph/stack_data.edgelist\n",
    "# Output graph path (-o:)=emb/stack_data.emb\n",
    "# Number of dimensions. Default is 128 (-d:)=100\n",
    "# Length of walk per source. Default is 80 (-l:)=80\n",
    "# Number of walks per source. Default is 10 (-r:)=10\n",
    "# Context size for optimization. Default is 10 (-k:)=10\n",
    "# Number of epochs in SGD. Default is 1 (-e:)=1\n",
    "# Return hyperparameter. Default is 1 (-p:)=0.3\n",
    "# Inout hyperparameter. Default is 1 (-q:)=1\n",
    "# Verbose output. (-v)=YES\n",
    "# Graph is directed. (-dr)=YES\n",
    "# Graph is weighted. (-w)=NO\n",
    "# Output random walks instead of embeddings. (-ow)=NO\n",
    "# Read 53952 lines from graph/stack_data.edgelist\n",
    "# Preprocessing progress: 99.61% \n",
    "# Walking Progress: 95.88%\n",
    "# Learning Progress: 99.94% \n",
    "# (base) Computers-MacBook-Air:node2vec computer$ "
   ]
  },
  {
   "cell_type": "markdown",
   "metadata": {},
   "source": [
    "![title](images/node2vec_output.png)"
   ]
  },
  {
   "cell_type": "code",
   "execution_count": null,
   "metadata": {},
   "outputs": [],
   "source": []
  },
  {
   "cell_type": "markdown",
   "metadata": {},
   "source": [
    "#### Store embeddings in graph"
   ]
  },
  {
   "cell_type": "code",
   "execution_count": null,
   "metadata": {},
   "outputs": [],
   "source": [
    "# with open(\"emb/stack_data.emb\", \"r\") as stack_data_file, driver.session() as session:\n",
    "#     next(stack_data_file)\n",
    "#     reader = csv.reader(stack_data_file, delimiter=\" \")\n",
    "\n",
    "#     params = []\n",
    "#     for row in reader:\n",
    "#         stack_id = row[0]\n",
    "#         params.append({\n",
    "#             \"id\": int(stack_id),\n",
    "#             \"embedding\": [float(item) for item in row[1:]]\n",
    "#         })\n",
    "\n",
    "#     session.run(\"\"\"\\\n",
    "#     UNWIND {params} AS param\n",
    "#     MATCH (t:Tag) WHERE id(t) = param.id\n",
    "#     SET t.embedding = param.embedding\n",
    "#     \"\"\", {\"params\": params})\n",
    "    \n",
    "with open(\"emb/stack_content.emb\", \"r\") as stack_data_file, driver.session() as session:\n",
    "    next(stack_data_file)\n",
    "    reader = csv.reader(stack_data_file, delimiter=\" \")\n",
    "\n",
    "    params = []\n",
    "    for row in reader:\n",
    "        stack_id = row[0]\n",
    "        params.append({\n",
    "            \"id\": int(stack_id),\n",
    "            \"embedding\": [float(item) for item in row[1:]]\n",
    "        })\n",
    "        #print(params)\n",
    "\n",
    "    session.run(\"\"\"\\\n",
    "    UNWIND {params} AS param\n",
    "    MATCH (c:Content) WHERE id(c) = param.id\n",
    "    SET c.embedding = param.embedding\n",
    "    \"\"\", {\"params\": params})"
   ]
  },
  {
   "cell_type": "code",
   "execution_count": 101,
   "metadata": {},
   "outputs": [],
   "source": [
    "# movies_tag_query = \"\"\"\\\n",
    "# MATCH (tag:TAG)\n",
    "# WITH tag ORDER BY tag.name\n",
    "# WITH collect(id(tag)) AS tags\n",
    "# MATCH (tag)-[:TAGS]->(c:CONTENT)\n",
    "# WITH tags, id(c) AS source, c.embedding AS embedding, collect(id(tag)) AS target\n",
    "# RETURN source, embedding, [t in tags | CASE WHEN t in target THEN 1 ELSE 0 END] AS genres\n",
    "# \"\"\"\n",
    "\n",
    "# with driver.session() as session:\n",
    "#     result = session.run(movies_tag_query)\n",
    "#     df = pd.DataFrame([dict(row) for row in result])\n",
    "    \n",
    "    \n",
    "stack_tag_query = \"\"\"\\\n",
    "MATCH (con:CONTENT)\n",
    "WITH con ORDER BY con.text\n",
    "WITH collect(id(con)) AS cons\n",
    "MATCH (t:TAG)-[:TAGS]->(con)\n",
    "WITH cons, id(t) AS source, t.embedding AS embedding, collect(id(con)) AS target\n",
    "RETURN source, embedding, [c in cons | CASE WHEN c in target THEN 1 ELSE 0 END] AS genres\n",
    "\"\"\"\n",
    "\n",
    "with driver.session() as session:\n",
    "    result = session.run(stack_tag_query)\n",
    "    df = pd.DataFrame([dict(row) for row in result])"
   ]
  },
  {
   "cell_type": "code",
   "execution_count": 102,
   "metadata": {},
   "outputs": [
    {
     "data": {
      "text/html": [
       "<div>\n",
       "<style scoped>\n",
       "    .dataframe tbody tr th:only-of-type {\n",
       "        vertical-align: middle;\n",
       "    }\n",
       "\n",
       "    .dataframe tbody tr th {\n",
       "        vertical-align: top;\n",
       "    }\n",
       "\n",
       "    .dataframe thead th {\n",
       "        text-align: right;\n",
       "    }\n",
       "</style>\n",
       "<table border=\"1\" class=\"dataframe\">\n",
       "  <thead>\n",
       "    <tr style=\"text-align: right;\">\n",
       "      <th></th>\n",
       "      <th>source</th>\n",
       "      <th>embedding</th>\n",
       "      <th>genres</th>\n",
       "    </tr>\n",
       "  </thead>\n",
       "  <tbody>\n",
       "    <tr>\n",
       "      <td>0</td>\n",
       "      <td>0</td>\n",
       "      <td>None</td>\n",
       "      <td>[0, 1, 1, 0, 0, 1, 0, 0, 0, 1, 0, 0, 0, 1, 0, ...</td>\n",
       "    </tr>\n",
       "    <tr>\n",
       "      <td>1</td>\n",
       "      <td>2</td>\n",
       "      <td>None</td>\n",
       "      <td>[0, 0, 0, 0, 0, 0, 0, 0, 0, 0, 0, 0, 0, 0, 0, ...</td>\n",
       "    </tr>\n",
       "    <tr>\n",
       "      <td>2</td>\n",
       "      <td>4</td>\n",
       "      <td>None</td>\n",
       "      <td>[0, 0, 0, 0, 0, 0, 0, 0, 0, 0, 0, 0, 0, 0, 0, ...</td>\n",
       "    </tr>\n",
       "    <tr>\n",
       "      <td>3</td>\n",
       "      <td>5</td>\n",
       "      <td>None</td>\n",
       "      <td>[0, 0, 1, 0, 0, 0, 0, 0, 0, 0, 0, 0, 0, 0, 0, ...</td>\n",
       "    </tr>\n",
       "    <tr>\n",
       "      <td>4</td>\n",
       "      <td>7</td>\n",
       "      <td>None</td>\n",
       "      <td>[0, 0, 0, 0, 0, 0, 0, 0, 0, 0, 0, 0, 0, 0, 0, ...</td>\n",
       "    </tr>\n",
       "  </tbody>\n",
       "</table>\n",
       "</div>"
      ],
      "text/plain": [
       "   source embedding                                             genres\n",
       "0       0      None  [0, 1, 1, 0, 0, 1, 0, 0, 0, 1, 0, 0, 0, 1, 0, ...\n",
       "1       2      None  [0, 0, 0, 0, 0, 0, 0, 0, 0, 0, 0, 0, 0, 0, 0, ...\n",
       "2       4      None  [0, 0, 0, 0, 0, 0, 0, 0, 0, 0, 0, 0, 0, 0, 0, ...\n",
       "3       5      None  [0, 0, 1, 0, 0, 0, 0, 0, 0, 0, 0, 0, 0, 0, 0, ...\n",
       "4       7      None  [0, 0, 0, 0, 0, 0, 0, 0, 0, 0, 0, 0, 0, 0, 0, ..."
      ]
     },
     "execution_count": 102,
     "metadata": {},
     "output_type": "execute_result"
    }
   ],
   "source": [
    "df.head()"
   ]
  },
  {
   "cell_type": "code",
   "execution_count": null,
   "metadata": {},
   "outputs": [],
   "source": []
  },
  {
   "cell_type": "code",
   "execution_count": 72,
   "metadata": {},
   "outputs": [
    {
     "data": {
      "text/plain": [
       "[('10799', 0.9953666925430298),\n",
       " ('9461', 0.9944242238998413),\n",
       " ('8192', 0.9934298992156982),\n",
       " ('4915', 0.9930078387260437),\n",
       " ('11019', 0.9928181171417236),\n",
       " ('13502', 0.9927777051925659),\n",
       " ('9466', 0.9925971627235413),\n",
       " ('7522', 0.9923624396324158),\n",
       " ('6836', 0.9918798804283142),\n",
       " ('13955', 0.9918056726455688)]"
      ]
     },
     "execution_count": 72,
     "metadata": {},
     "output_type": "execute_result"
    }
   ],
   "source": [
    "from gensim.models import KeyedVectors\n",
    "\n",
    "filename = 'emb/stack_content.emb'\n",
    "model = KeyedVectors.load_word2vec_format(filename, binary=False)\n",
    "model.most_similar('7048')"
   ]
  },
  {
   "cell_type": "code",
   "execution_count": 73,
   "metadata": {},
   "outputs": [],
   "source": [
    "# not working ???\n",
    "\n",
    "# def neo4j_most_similar(model, key):\n",
    "#     with driver.session() as session:\n",
    "#         find_post = \"MATCH (t:Tag {id: '%s'}) return id(t)\" % key\n",
    "#         result = session.run(find_post)\n",
    "#         for r in result:\n",
    "#             similar_posts = model.most_similar(str(r.value()))\n",
    "#             for s_post in similar_post:\n",
    "#                 find_post = \"MATCH (t:Tag) where id(m) = %s return m.name\" % s_post[0]\n",
    "#                 similar_post_names = session.run(find_post)\n",
    "#                 for sm in similar_post_names:\n",
    "#                     # print the movie name with the cosine similarity\n",
    "#                     print(sm.value(), s_post[1])\n",
    "                    \n",
    "# neo4j_most_similar(model, 'java')"
   ]
  },
  {
   "cell_type": "code",
   "execution_count": 74,
   "metadata": {},
   "outputs": [],
   "source": [
    "# print(neo4j_most_similar(model, '7048'))"
   ]
  },
  {
   "cell_type": "code",
   "execution_count": 55,
   "metadata": {},
   "outputs": [
    {
     "data": {
      "text/html": [
       "<div>\n",
       "<style scoped>\n",
       "    .dataframe tbody tr th:only-of-type {\n",
       "        vertical-align: middle;\n",
       "    }\n",
       "\n",
       "    .dataframe tbody tr th {\n",
       "        vertical-align: top;\n",
       "    }\n",
       "\n",
       "    .dataframe thead th {\n",
       "        text-align: right;\n",
       "    }\n",
       "</style>\n",
       "<table border=\"1\" class=\"dataframe\">\n",
       "  <thead>\n",
       "    <tr style=\"text-align: right;\">\n",
       "      <th></th>\n",
       "      <th>text</th>\n",
       "      <th>postId</th>\n",
       "      <th>tag</th>\n",
       "    </tr>\n",
       "  </thead>\n",
       "  <tbody>\n",
       "    <tr>\n",
       "      <td>0</td>\n",
       "      <td>ve always been interested in machine learning ...</td>\n",
       "      <td>5</td>\n",
       "      <td>machine-learning</td>\n",
       "    </tr>\n",
       "    <tr>\n",
       "      <td>1</td>\n",
       "      <td>as researcher and instructor looking for open ...</td>\n",
       "      <td>7</td>\n",
       "      <td>education</td>\n",
       "    </tr>\n",
       "    <tr>\n",
       "      <td>2</td>\n",
       "      <td>as researcher and instructor looking for open ...</td>\n",
       "      <td>7</td>\n",
       "      <td>open-source</td>\n",
       "    </tr>\n",
       "    <tr>\n",
       "      <td>3</td>\n",
       "      <td>am sure data science as will be discussed in t...</td>\n",
       "      <td>14</td>\n",
       "      <td>data-mining</td>\n",
       "    </tr>\n",
       "    <tr>\n",
       "      <td>4</td>\n",
       "      <td>am sure data science as will be discussed in t...</td>\n",
       "      <td>14</td>\n",
       "      <td>definitions</td>\n",
       "    </tr>\n",
       "  </tbody>\n",
       "</table>\n",
       "</div>"
      ],
      "text/plain": [
       "                                                text  postId               tag\n",
       "0  ve always been interested in machine learning ...       5  machine-learning\n",
       "1  as researcher and instructor looking for open ...       7         education\n",
       "2  as researcher and instructor looking for open ...       7       open-source\n",
       "3  am sure data science as will be discussed in t...      14       data-mining\n",
       "4  am sure data science as will be discussed in t...      14       definitions"
      ]
     },
     "execution_count": 55,
     "metadata": {},
     "output_type": "execute_result"
    }
   ],
   "source": [
    "my_df.head()"
   ]
  },
  {
   "cell_type": "code",
   "execution_count": 60,
   "metadata": {},
   "outputs": [
    {
     "name": "stdout",
     "output_type": "stream",
     "text": [
      "7048    neural-network\n",
      "Name: tag, dtype: object\n"
     ]
    }
   ],
   "source": [
    "print(my_df.loc[[7048], 'tag'])"
   ]
  },
  {
   "cell_type": "code",
   "execution_count": 61,
   "metadata": {},
   "outputs": [
    {
     "name": "stdout",
     "output_type": "stream",
     "text": [
      "17355    decision-trees\n",
      "Name: tag, dtype: object\n"
     ]
    }
   ],
   "source": [
    "print(my_df.loc[[17355], 'tag'])"
   ]
  },
  {
   "cell_type": "code",
   "execution_count": 62,
   "metadata": {},
   "outputs": [
    {
     "name": "stdout",
     "output_type": "stream",
     "text": [
      "158    classification\n",
      "Name: tag, dtype: object\n"
     ]
    }
   ],
   "source": [
    "print(my_df.loc[[158], 'tag'])"
   ]
  },
  {
   "cell_type": "code",
   "execution_count": 63,
   "metadata": {},
   "outputs": [
    {
     "name": "stdout",
     "output_type": "stream",
     "text": [
      "10264    predictive-modeling\n",
      "Name: tag, dtype: object\n"
     ]
    }
   ],
   "source": [
    "print(my_df.loc[[10264], 'tag'])"
   ]
  },
  {
   "cell_type": "code",
   "execution_count": 64,
   "metadata": {},
   "outputs": [
    {
     "name": "stdout",
     "output_type": "stream",
     "text": [
      "0    machine-learning\n",
      "Name: tag, dtype: object\n"
     ]
    }
   ],
   "source": [
    "print(my_df.loc[[0], 'tag'])"
   ]
  },
  {
   "cell_type": "code",
   "execution_count": 66,
   "metadata": {},
   "outputs": [
    {
     "name": "stdout",
     "output_type": "stream",
     "text": [
      "23    nosql\n",
      "Name: tag, dtype: object\n"
     ]
    }
   ],
   "source": [
    "print(my_df.loc[[23], 'tag'])"
   ]
  },
  {
   "cell_type": "code",
   "execution_count": 67,
   "metadata": {},
   "outputs": [
    {
     "data": {
      "text/plain": [
       "[('15282', 0.9684323072433472),\n",
       " ('2324', 0.9675244092941284),\n",
       " ('5822', 0.9673711061477661),\n",
       " ('17591', 0.9669812917709351),\n",
       " ('16678', 0.9669248461723328),\n",
       " ('16810', 0.9666957855224609),\n",
       " ('14515', 0.9659811854362488),\n",
       " ('17307', 0.9658770561218262),\n",
       " ('4463', 0.9640902280807495),\n",
       " ('15665', 0.9633384346961975)]"
      ]
     },
     "execution_count": 67,
     "metadata": {},
     "output_type": "execute_result"
    }
   ],
   "source": [
    "model.most_similar('23') "
   ]
  },
  {
   "cell_type": "code",
   "execution_count": 69,
   "metadata": {},
   "outputs": [
    {
     "name": "stdout",
     "output_type": "stream",
     "text": [
      "2324    machine-learning\n",
      "Name: tag, dtype: object\n"
     ]
    }
   ],
   "source": [
    "print(my_df.loc[[2324], 'tag'])"
   ]
  },
  {
   "cell_type": "code",
   "execution_count": 84,
   "metadata": {},
   "outputs": [
    {
     "name": "stdout",
     "output_type": "stream",
     "text": [
      "                                                    text  postId           tag\n",
      "10799  lets say we have training data and we have est...   16540  distribution\n"
     ]
    }
   ],
   "source": [
    "print(my_df.loc[[10799]])"
   ]
  },
  {
   "cell_type": "code",
   "execution_count": 82,
   "metadata": {},
   "outputs": [
    {
     "name": "stdout",
     "output_type": "stream",
     "text": [
      "                                    text  postId             tag\n",
      "7048  came across href rel nofollow this   12386  neural-network\n"
     ]
    }
   ],
   "source": [
    "print(my_df.loc[[7048]])"
   ]
  },
  {
   "cell_type": "code",
   "execution_count": 87,
   "metadata": {},
   "outputs": [
    {
     "name": "stdout",
     "output_type": "stream",
     "text": [
      "                                                   text  postId         tag\n",
      "9461  have number of lists such as whose lengths are ob   15056  tensorflow\n"
     ]
    }
   ],
   "source": [
    "print(my_df.loc[[9461]])"
   ]
  },
  {
   "cell_type": "code",
   "execution_count": null,
   "metadata": {},
   "outputs": [],
   "source": []
  }
 ],
 "metadata": {
  "kernelspec": {
   "display_name": "Python 3",
   "language": "python",
   "name": "python3"
  },
  "language_info": {
   "codemirror_mode": {
    "name": "ipython",
    "version": 3
   },
   "file_extension": ".py",
   "mimetype": "text/x-python",
   "name": "python",
   "nbconvert_exporter": "python",
   "pygments_lexer": "ipython3",
   "version": "3.7.3"
  }
 },
 "nbformat": 4,
 "nbformat_minor": 2
}
