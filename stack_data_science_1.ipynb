{
 "cells": [
  {
   "cell_type": "code",
   "execution_count": 1,
   "metadata": {},
   "outputs": [],
   "source": [
    "from py2neo import Graph, Node, Relationship"
   ]
  },
  {
   "cell_type": "code",
   "execution_count": 2,
   "metadata": {},
   "outputs": [
    {
     "name": "stdout",
     "output_type": "stream",
     "text": [
      "   label  count(*)\n",
      "0   Post     39929\n",
      "1   User     66951\n",
      "2    Tag       489\n",
      "3  Stack      6187\n"
     ]
    }
   ],
   "source": [
    "graph = Graph(password=\"password\")\n",
    "\n",
    "query = \"match (n) return head(labels(n)) as label, count(*);\"\n",
    "result = graph.run(query)\n",
    "\n",
    "print(result.to_data_frame())"
   ]
  },
  {
   "cell_type": "markdown",
   "metadata": {},
   "source": [
    "#### Create constraints and indices - easier in browser - localhost:7474"
   ]
  },
  {
   "cell_type": "code",
   "execution_count": 3,
   "metadata": {},
   "outputs": [],
   "source": [
    "# create index on :Post(title);\n",
    "# create index on :Post(createdAt);\n",
    "# create index on :Post(score);\n",
    "# create index on :Post(views);\n",
    "# create index on :Post(favorites);\n",
    "# create index on :Post(answers);\n",
    "# create index on :Post(score);\n",
    "\n",
    "# create index on :User(name);\n",
    "# create index on :User(createdAt);\n",
    "# create index on :User(reputation);\n",
    "# create index on :User(age);\n",
    "\n",
    "# create index on :Tag(count);\n",
    "\n",
    "# create constraint on (t:Tag) assert t.tagId is unique;\n",
    "# create constraint on (u:User) assert u.userId is unique;\n",
    "# create constraint on (p:Post) assert p.postId is unique;\n",
    "\n",
    "# We then waited for the indexes to be finished.\n",
    "\n",
    "# schema await"
   ]
  },
  {
   "cell_type": "code",
   "execution_count": 4,
   "metadata": {},
   "outputs": [
    {
     "name": "stdout",
     "output_type": "stream",
     "text": [
      "    u.displayname  posts\n",
      "0     Neil Slater    403\n",
      "1     Vaalizaadeh    354\n",
      "2         n1k31t4    347\n",
      "3    Anony-Mousse    325\n",
      "4  Brian Spiering    241\n",
      "5            Emre    227\n",
      "6    Martin Thoma    224\n",
      "7         Dawny33    215\n",
      "8           Tasos    205\n",
      "9        JahKnows    203\n"
     ]
    }
   ],
   "source": [
    "query = \"match (u:User) with u,size( (u)-[:POSTED]->()) as posts order by posts desc limit 10 return u.displayname, posts;\" \n",
    "result = graph.run(query)\n",
    "\n",
    "print(result.to_data_frame())"
   ]
  },
  {
   "cell_type": "markdown",
   "metadata": {},
   "source": [
    "#### Get number of tags used in asking questions"
   ]
  },
  {
   "cell_type": "code",
   "execution_count": 5,
   "metadata": {},
   "outputs": [
    {
     "name": "stdout",
     "output_type": "stream",
     "text": [
      "                               t  posts\n",
      "0  {'tagId': 'machine-learning'}     20\n",
      "1     {'tagId': 'deep-learning'}     15\n",
      "2    {'tagId': 'neural-network'}     11\n",
      "3               {'tagId': 'cnn'}      4\n",
      "4             {'tagId': 'keras'}      2\n"
     ]
    }
   ],
   "source": [
    "query = \"match (u:User)-[:POSTED]->()-[:HAS_TAG]->(t:Tag) where u.displayname = 'Vaalizaadeh'  return t,count(*) as posts order by posts desc limit 5;\" \n",
    "result = graph.run(query)\n",
    "\n",
    "print(result.to_data_frame())\n",
    "\n",
    "# This user only answered questions"
   ]
  },
  {
   "cell_type": "markdown",
   "metadata": {},
   "source": [
    "#### Get tags that User answered"
   ]
  },
  {
   "cell_type": "code",
   "execution_count": 6,
   "metadata": {},
   "outputs": [
    {
     "name": "stdout",
     "output_type": "stream",
     "text": [
      "            t.tagId  posts\n",
      "0           bigdata      1\n",
      "1            libsvm      1\n",
      "2  machine-learning      1\n"
     ]
    }
   ],
   "source": [
    "query = \"match (u:User)-[:POSTED]->()-[:HAS_TAG]->(t:Tag) where u.displayname = 'Puffin GDI' return t.tagId,count(*) as posts order by posts desc limit 5;\" \n",
    "result = graph.run(query)\n",
    "\n",
    "print(result.to_data_frame())"
   ]
  },
  {
   "cell_type": "markdown",
   "metadata": {},
   "source": [
    "#### All shortest paths - run in neo4j console or browser"
   ]
  },
  {
   "cell_type": "code",
   "execution_count": 7,
   "metadata": {},
   "outputs": [],
   "source": [
    "# MATCH path = allShortestPaths(\n",
    "#      (u:User {displayname:\"Emre\"})-[*]-(me:User {displayname:\"Vaalizaadeh\"}))\n",
    "# RETURN path;"
   ]
  },
  {
   "cell_type": "markdown",
   "metadata": {},
   "source": [
    "![title](images/all_short_path.png)"
   ]
  },
  {
   "cell_type": "markdown",
   "metadata": {},
   "source": [
    "#### User with letter t in name answered the most questions about python"
   ]
  },
  {
   "cell_type": "code",
   "execution_count": 45,
   "metadata": {},
   "outputs": [
    {
     "data": {
      "text/html": [
       "<div>\n",
       "<style scoped>\n",
       "    .dataframe tbody tr th:only-of-type {\n",
       "        vertical-align: middle;\n",
       "    }\n",
       "\n",
       "    .dataframe tbody tr th {\n",
       "        vertical-align: top;\n",
       "    }\n",
       "\n",
       "    .dataframe thead th {\n",
       "        text-align: right;\n",
       "    }\n",
       "</style>\n",
       "<table border=\"1\" class=\"dataframe\">\n",
       "  <thead>\n",
       "    <tr style=\"text-align: right;\">\n",
       "      <th></th>\n",
       "      <th>name</th>\n",
       "      <th>rep</th>\n",
       "      <th>u.location</th>\n",
       "      <th>answers</th>\n",
       "      <th>rep/ans</th>\n",
       "    </tr>\n",
       "  </thead>\n",
       "  <tbody>\n",
       "    <tr>\n",
       "      <td>0</td>\n",
       "      <td>n1k31t4</td>\n",
       "      <td>8181</td>\n",
       "      <td>Europa</td>\n",
       "      <td>117</td>\n",
       "      <td>69.923077</td>\n",
       "    </tr>\n",
       "    <tr>\n",
       "      <td>1</td>\n",
       "      <td>Neil Slater</td>\n",
       "      <td>18824</td>\n",
       "      <td>Durham, United Kingdom</td>\n",
       "      <td>36</td>\n",
       "      <td>522.888889</td>\n",
       "    </tr>\n",
       "    <tr>\n",
       "      <td>2</td>\n",
       "      <td>Juan Esteban de la Calle</td>\n",
       "      <td>1504</td>\n",
       "      <td>Bogotá, Colombia</td>\n",
       "      <td>24</td>\n",
       "      <td>62.666667</td>\n",
       "    </tr>\n",
       "    <tr>\n",
       "      <td>3</td>\n",
       "      <td>Jan van der Vegt</td>\n",
       "      <td>6995</td>\n",
       "      <td>Amsterdam</td>\n",
       "      <td>23</td>\n",
       "      <td>304.130435</td>\n",
       "    </tr>\n",
       "    <tr>\n",
       "      <td>4</td>\n",
       "      <td>Aditya</td>\n",
       "      <td>1577</td>\n",
       "      <td>West Bengal, India</td>\n",
       "      <td>22</td>\n",
       "      <td>71.681818</td>\n",
       "    </tr>\n",
       "    <tr>\n",
       "      <td>5</td>\n",
       "      <td>Stephen Rauch</td>\n",
       "      <td>1598</td>\n",
       "      <td>Northern California, United States</td>\n",
       "      <td>19</td>\n",
       "      <td>84.105263</td>\n",
       "    </tr>\n",
       "    <tr>\n",
       "      <td>6</td>\n",
       "      <td>Peter</td>\n",
       "      <td>1648</td>\n",
       "      <td>Frankfurt am Main, Deutschland</td>\n",
       "      <td>17</td>\n",
       "      <td>96.941176</td>\n",
       "    </tr>\n",
       "    <tr>\n",
       "      <td>7</td>\n",
       "      <td>Ankit Seth</td>\n",
       "      <td>1159</td>\n",
       "      <td>None</td>\n",
       "      <td>17</td>\n",
       "      <td>68.176471</td>\n",
       "    </tr>\n",
       "    <tr>\n",
       "      <td>8</td>\n",
       "      <td>Kiritee Gak</td>\n",
       "      <td>1379</td>\n",
       "      <td>Delhi, India</td>\n",
       "      <td>15</td>\n",
       "      <td>91.933333</td>\n",
       "    </tr>\n",
       "    <tr>\n",
       "      <td>9</td>\n",
       "      <td>Shamit Verma</td>\n",
       "      <td>1754</td>\n",
       "      <td>Mumbai, India</td>\n",
       "      <td>14</td>\n",
       "      <td>125.285714</td>\n",
       "    </tr>\n",
       "    <tr>\n",
       "      <td>10</td>\n",
       "      <td>TitoOrt</td>\n",
       "      <td>822</td>\n",
       "      <td>Stuttgart, Germany</td>\n",
       "      <td>11</td>\n",
       "      <td>74.727273</td>\n",
       "    </tr>\n",
       "    <tr>\n",
       "      <td>11</td>\n",
       "      <td>Antonio Jurić</td>\n",
       "      <td>789</td>\n",
       "      <td>None</td>\n",
       "      <td>10</td>\n",
       "      <td>78.900000</td>\n",
       "    </tr>\n",
       "    <tr>\n",
       "      <td>12</td>\n",
       "      <td>Franck Dernoncourt</td>\n",
       "      <td>3656</td>\n",
       "      <td>Adobe Research, San Jose, CA, USA</td>\n",
       "      <td>10</td>\n",
       "      <td>365.600000</td>\n",
       "    </tr>\n",
       "    <tr>\n",
       "      <td>13</td>\n",
       "      <td>Elias Strehle</td>\n",
       "      <td>1311</td>\n",
       "      <td>Hamburg, Germany</td>\n",
       "      <td>10</td>\n",
       "      <td>131.100000</td>\n",
       "    </tr>\n",
       "    <tr>\n",
       "      <td>14</td>\n",
       "      <td>stmax</td>\n",
       "      <td>1409</td>\n",
       "      <td>Austria</td>\n",
       "      <td>10</td>\n",
       "      <td>140.900000</td>\n",
       "    </tr>\n",
       "    <tr>\n",
       "      <td>15</td>\n",
       "      <td>I_Play_With_Data</td>\n",
       "      <td>1294</td>\n",
       "      <td>USA</td>\n",
       "      <td>10</td>\n",
       "      <td>129.400000</td>\n",
       "    </tr>\n",
       "    <tr>\n",
       "      <td>16</td>\n",
       "      <td>tuomastik</td>\n",
       "      <td>781</td>\n",
       "      <td>Helsinki, Finland</td>\n",
       "      <td>10</td>\n",
       "      <td>78.100000</td>\n",
       "    </tr>\n",
       "    <tr>\n",
       "      <td>17</td>\n",
       "      <td>Ryan Zotti</td>\n",
       "      <td>2564</td>\n",
       "      <td>San Francisco, CA, USA</td>\n",
       "      <td>9</td>\n",
       "      <td>284.888889</td>\n",
       "    </tr>\n",
       "    <tr>\n",
       "      <td>18</td>\n",
       "      <td>thanatoz</td>\n",
       "      <td>900</td>\n",
       "      <td>India</td>\n",
       "      <td>8</td>\n",
       "      <td>112.500000</td>\n",
       "    </tr>\n",
       "    <tr>\n",
       "      <td>19</td>\n",
       "      <td>StatsSorceress</td>\n",
       "      <td>1194</td>\n",
       "      <td>None</td>\n",
       "      <td>8</td>\n",
       "      <td>149.250000</td>\n",
       "    </tr>\n",
       "  </tbody>\n",
       "</table>\n",
       "</div>"
      ],
      "text/plain": [
       "                        name    rep                          u.location  \\\n",
       "0                    n1k31t4   8181                              Europa   \n",
       "1                Neil Slater  18824              Durham, United Kingdom   \n",
       "2   Juan Esteban de la Calle   1504                    Bogotá, Colombia   \n",
       "3           Jan van der Vegt   6995                           Amsterdam   \n",
       "4                     Aditya   1577                  West Bengal, India   \n",
       "5              Stephen Rauch   1598  Northern California, United States   \n",
       "6                      Peter   1648      Frankfurt am Main, Deutschland   \n",
       "7                 Ankit Seth   1159                                None   \n",
       "8                Kiritee Gak   1379                        Delhi, India   \n",
       "9               Shamit Verma   1754                       Mumbai, India   \n",
       "10                   TitoOrt    822                  Stuttgart, Germany   \n",
       "11             Antonio Jurić    789                                None   \n",
       "12        Franck Dernoncourt   3656   Adobe Research, San Jose, CA, USA   \n",
       "13             Elias Strehle   1311                    Hamburg, Germany   \n",
       "14                     stmax   1409                             Austria   \n",
       "15          I_Play_With_Data   1294                                 USA   \n",
       "16                 tuomastik    781                   Helsinki, Finland   \n",
       "17                Ryan Zotti   2564              San Francisco, CA, USA   \n",
       "18                  thanatoz    900                               India   \n",
       "19            StatsSorceress   1194                                None   \n",
       "\n",
       "    answers     rep/ans  \n",
       "0       117   69.923077  \n",
       "1        36  522.888889  \n",
       "2        24   62.666667  \n",
       "3        23  304.130435  \n",
       "4        22   71.681818  \n",
       "5        19   84.105263  \n",
       "6        17   96.941176  \n",
       "7        17   68.176471  \n",
       "8        15   91.933333  \n",
       "9        14  125.285714  \n",
       "10       11   74.727273  \n",
       "11       10   78.900000  \n",
       "12       10  365.600000  \n",
       "13       10  131.100000  \n",
       "14       10  140.900000  \n",
       "15       10  129.400000  \n",
       "16       10   78.100000  \n",
       "17        9  284.888889  \n",
       "18        8  112.500000  \n",
       "19        8  149.250000  "
      ]
     },
     "execution_count": 45,
     "metadata": {},
     "output_type": "execute_result"
    }
   ],
   "source": [
    "query = \"MATCH (u:User)-[:POSTED]->(answer)<-[:PARENT_OF]-()-[:HAS_TAG]-(:Tag {tagId:'python'}) WHERE u.displayname contains 't' RETURN u.displayname AS name,u.reputation AS rep,u.location, count(distinct answer) AS answers ORDER BY answers DESC LIMIT 20;\" \n",
    "result = graph.run(query)\n",
    "#print(result.to_data_frame())\n",
    "xo = result.to_data_frame()\n",
    "xo[\"rep/ans\"] = xo[\"rep\"].astype(float) / xo[\"answers\"].astype(float)\n",
    "#print(xo)\n",
    "xo.head(40)\n",
    "\n",
    "# query = \"\" \n",
    "# result = graph.run(query)\n",
    "# print(result.to_data_frame())"
   ]
  },
  {
   "cell_type": "code",
   "execution_count": 130,
   "metadata": {},
   "outputs": [
    {
     "data": {
      "text/html": [
       "<div>\n",
       "<style scoped>\n",
       "    .dataframe tbody tr th:only-of-type {\n",
       "        vertical-align: middle;\n",
       "    }\n",
       "\n",
       "    .dataframe tbody tr th {\n",
       "        vertical-align: top;\n",
       "    }\n",
       "\n",
       "    .dataframe thead th {\n",
       "        text-align: right;\n",
       "    }\n",
       "</style>\n",
       "<table border=\"1\" class=\"dataframe\">\n",
       "  <thead>\n",
       "    <tr style=\"text-align: right;\">\n",
       "      <th></th>\n",
       "      <th>name</th>\n",
       "      <th>rep</th>\n",
       "      <th>u.location</th>\n",
       "      <th>answers</th>\n",
       "      <th>rep/ans</th>\n",
       "    </tr>\n",
       "  </thead>\n",
       "  <tbody>\n",
       "    <tr>\n",
       "      <td>20</td>\n",
       "      <td>n1k31t4</td>\n",
       "      <td>8181</td>\n",
       "      <td>Europa</td>\n",
       "      <td>117</td>\n",
       "      <td>69.923077</td>\n",
       "    </tr>\n",
       "    <tr>\n",
       "      <td>230</td>\n",
       "      <td>Neil Slater</td>\n",
       "      <td>18824</td>\n",
       "      <td>Durham, United Kingdom</td>\n",
       "      <td>36</td>\n",
       "      <td>522.888889</td>\n",
       "    </tr>\n",
       "    <tr>\n",
       "      <td>288</td>\n",
       "      <td>Juan Esteban de la Calle</td>\n",
       "      <td>1504</td>\n",
       "      <td>Bogotá, Colombia</td>\n",
       "      <td>24</td>\n",
       "      <td>62.666667</td>\n",
       "    </tr>\n",
       "    <tr>\n",
       "      <td>34</td>\n",
       "      <td>Jan van der Vegt</td>\n",
       "      <td>6995</td>\n",
       "      <td>Amsterdam</td>\n",
       "      <td>23</td>\n",
       "      <td>304.130435</td>\n",
       "    </tr>\n",
       "    <tr>\n",
       "      <td>275</td>\n",
       "      <td>Aditya</td>\n",
       "      <td>1577</td>\n",
       "      <td>West Bengal, India</td>\n",
       "      <td>22</td>\n",
       "      <td>71.681818</td>\n",
       "    </tr>\n",
       "    <tr>\n",
       "      <td>272</td>\n",
       "      <td>Stephen Rauch</td>\n",
       "      <td>1598</td>\n",
       "      <td>Northern California, United States</td>\n",
       "      <td>19</td>\n",
       "      <td>84.105263</td>\n",
       "    </tr>\n",
       "    <tr>\n",
       "      <td>259</td>\n",
       "      <td>Peter</td>\n",
       "      <td>1648</td>\n",
       "      <td>Frankfurt am Main, Deutschland</td>\n",
       "      <td>17</td>\n",
       "      <td>96.941176</td>\n",
       "    </tr>\n",
       "    <tr>\n",
       "      <td>352</td>\n",
       "      <td>Ankit Seth</td>\n",
       "      <td>1159</td>\n",
       "      <td>None</td>\n",
       "      <td>17</td>\n",
       "      <td>68.176471</td>\n",
       "    </tr>\n",
       "    <tr>\n",
       "      <td>304</td>\n",
       "      <td>Kiritee Gak</td>\n",
       "      <td>1379</td>\n",
       "      <td>Delhi, India</td>\n",
       "      <td>15</td>\n",
       "      <td>91.933333</td>\n",
       "    </tr>\n",
       "    <tr>\n",
       "      <td>245</td>\n",
       "      <td>Shamit Verma</td>\n",
       "      <td>1754</td>\n",
       "      <td>Mumbai, India</td>\n",
       "      <td>14</td>\n",
       "      <td>125.285714</td>\n",
       "    </tr>\n",
       "    <tr>\n",
       "      <td>19</td>\n",
       "      <td>TitoOrt</td>\n",
       "      <td>822</td>\n",
       "      <td>Stuttgart, Germany</td>\n",
       "      <td>11</td>\n",
       "      <td>74.727273</td>\n",
       "    </tr>\n",
       "    <tr>\n",
       "      <td>118</td>\n",
       "      <td>Franck Dernoncourt</td>\n",
       "      <td>3656</td>\n",
       "      <td>Adobe Research, San Jose, CA, USA</td>\n",
       "      <td>10</td>\n",
       "      <td>365.600000</td>\n",
       "    </tr>\n",
       "    <tr>\n",
       "      <td>311</td>\n",
       "      <td>Elias Strehle</td>\n",
       "      <td>1311</td>\n",
       "      <td>Hamburg, Germany</td>\n",
       "      <td>10</td>\n",
       "      <td>131.100000</td>\n",
       "    </tr>\n",
       "    <tr>\n",
       "      <td>303</td>\n",
       "      <td>stmax</td>\n",
       "      <td>1409</td>\n",
       "      <td>Austria</td>\n",
       "      <td>10</td>\n",
       "      <td>140.900000</td>\n",
       "    </tr>\n",
       "    <tr>\n",
       "      <td>319</td>\n",
       "      <td>I_Play_With_Data</td>\n",
       "      <td>1294</td>\n",
       "      <td>USA</td>\n",
       "      <td>10</td>\n",
       "      <td>129.400000</td>\n",
       "    </tr>\n",
       "    <tr>\n",
       "      <td>24</td>\n",
       "      <td>Antonio Jurić</td>\n",
       "      <td>789</td>\n",
       "      <td>None</td>\n",
       "      <td>10</td>\n",
       "      <td>78.900000</td>\n",
       "    </tr>\n",
       "    <tr>\n",
       "      <td>25</td>\n",
       "      <td>tuomastik</td>\n",
       "      <td>781</td>\n",
       "      <td>Helsinki, Finland</td>\n",
       "      <td>10</td>\n",
       "      <td>78.100000</td>\n",
       "    </tr>\n",
       "    <tr>\n",
       "      <td>187</td>\n",
       "      <td>Ryan Zotti</td>\n",
       "      <td>2564</td>\n",
       "      <td>San Francisco, CA, USA</td>\n",
       "      <td>9</td>\n",
       "      <td>284.888889</td>\n",
       "    </tr>\n",
       "    <tr>\n",
       "      <td>346</td>\n",
       "      <td>StatsSorceress</td>\n",
       "      <td>1194</td>\n",
       "      <td>None</td>\n",
       "      <td>8</td>\n",
       "      <td>149.250000</td>\n",
       "    </tr>\n",
       "    <tr>\n",
       "      <td>280</td>\n",
       "      <td>Tophat</td>\n",
       "      <td>1552</td>\n",
       "      <td>New York, NY, United States</td>\n",
       "      <td>8</td>\n",
       "      <td>194.000000</td>\n",
       "    </tr>\n",
       "  </tbody>\n",
       "</table>\n",
       "</div>"
      ],
      "text/plain": [
       "                         name    rep                          u.location  \\\n",
       "20                    n1k31t4   8181                              Europa   \n",
       "230               Neil Slater  18824              Durham, United Kingdom   \n",
       "288  Juan Esteban de la Calle   1504                    Bogotá, Colombia   \n",
       "34           Jan van der Vegt   6995                           Amsterdam   \n",
       "275                    Aditya   1577                  West Bengal, India   \n",
       "272             Stephen Rauch   1598  Northern California, United States   \n",
       "259                     Peter   1648      Frankfurt am Main, Deutschland   \n",
       "352                Ankit Seth   1159                                None   \n",
       "304               Kiritee Gak   1379                        Delhi, India   \n",
       "245              Shamit Verma   1754                       Mumbai, India   \n",
       "19                    TitoOrt    822                  Stuttgart, Germany   \n",
       "118        Franck Dernoncourt   3656   Adobe Research, San Jose, CA, USA   \n",
       "311             Elias Strehle   1311                    Hamburg, Germany   \n",
       "303                     stmax   1409                             Austria   \n",
       "319          I_Play_With_Data   1294                                 USA   \n",
       "24              Antonio Jurić    789                                None   \n",
       "25                  tuomastik    781                   Helsinki, Finland   \n",
       "187                Ryan Zotti   2564              San Francisco, CA, USA   \n",
       "346            StatsSorceress   1194                                None   \n",
       "280                    Tophat   1552         New York, NY, United States   \n",
       "\n",
       "     answers     rep/ans  \n",
       "20       117   69.923077  \n",
       "230       36  522.888889  \n",
       "288       24   62.666667  \n",
       "34        23  304.130435  \n",
       "275       22   71.681818  \n",
       "272       19   84.105263  \n",
       "259       17   96.941176  \n",
       "352       17   68.176471  \n",
       "304       15   91.933333  \n",
       "245       14  125.285714  \n",
       "19        11   74.727273  \n",
       "118       10  365.600000  \n",
       "311       10  131.100000  \n",
       "303       10  140.900000  \n",
       "319       10  129.400000  \n",
       "24        10   78.900000  \n",
       "25        10   78.100000  \n",
       "187        9  284.888889  \n",
       "346        8  149.250000  \n",
       "280        8  194.000000  "
      ]
     },
     "execution_count": 130,
     "metadata": {},
     "output_type": "execute_result"
    }
   ],
   "source": [
    "query = \"MATCH (u:User)-[:POSTED]->(answer)<-[:PARENT_OF]-()-[:HAS_TAG]-(:Tag {tagId:'python'}) WHERE u.displayname contains 't' RETURN u.displayname AS name,u.reputation AS rep,u.location, count(distinct answer) AS answers ORDER BY rep DESC;\" \n",
    "result = graph.run(query)\n",
    "#print(result.to_data_frame())\n",
    "xr = result.to_data_frame()\n",
    "xr[\"rep/ans\"] = xr[\"rep\"].astype(float) / xr[\"answers\"].astype(float)\n",
    "#print(xo)\n",
    "#xr.head(40)\n",
    "sort_by2 = xr.sort_values('answers', ascending=False)\n",
    "#df.sort_values(by=['Brand'], inplace=True, ascending=False)\n",
    "s2 = sort_by2.head(20)\n",
    "s2.head(20)"
   ]
  },
  {
   "cell_type": "code",
   "execution_count": null,
   "metadata": {},
   "outputs": [],
   "source": []
  },
  {
   "cell_type": "code",
   "execution_count": 65,
   "metadata": {},
   "outputs": [
    {
     "data": {
      "text/html": [
       "<div>\n",
       "<style scoped>\n",
       "    .dataframe tbody tr th:only-of-type {\n",
       "        vertical-align: middle;\n",
       "    }\n",
       "\n",
       "    .dataframe tbody tr th {\n",
       "        vertical-align: top;\n",
       "    }\n",
       "\n",
       "    .dataframe thead th {\n",
       "        text-align: right;\n",
       "    }\n",
       "</style>\n",
       "<table border=\"1\" class=\"dataframe\">\n",
       "  <thead>\n",
       "    <tr style=\"text-align: right;\">\n",
       "      <th></th>\n",
       "      <th>name</th>\n",
       "      <th>rep</th>\n",
       "      <th>u.location</th>\n",
       "      <th>answers</th>\n",
       "      <th>rep/ans</th>\n",
       "    </tr>\n",
       "  </thead>\n",
       "  <tbody>\n",
       "    <tr>\n",
       "      <td>1</td>\n",
       "      <td>Neil Slater</td>\n",
       "      <td>18824</td>\n",
       "      <td>Durham, United Kingdom</td>\n",
       "      <td>36</td>\n",
       "      <td>522.888889</td>\n",
       "    </tr>\n",
       "    <tr>\n",
       "      <td>12</td>\n",
       "      <td>Franck Dernoncourt</td>\n",
       "      <td>3656</td>\n",
       "      <td>Adobe Research, San Jose, CA, USA</td>\n",
       "      <td>10</td>\n",
       "      <td>365.600000</td>\n",
       "    </tr>\n",
       "    <tr>\n",
       "      <td>3</td>\n",
       "      <td>Jan van der Vegt</td>\n",
       "      <td>6995</td>\n",
       "      <td>Amsterdam</td>\n",
       "      <td>23</td>\n",
       "      <td>304.130435</td>\n",
       "    </tr>\n",
       "    <tr>\n",
       "      <td>17</td>\n",
       "      <td>Ryan Zotti</td>\n",
       "      <td>2564</td>\n",
       "      <td>San Francisco, CA, USA</td>\n",
       "      <td>9</td>\n",
       "      <td>284.888889</td>\n",
       "    </tr>\n",
       "    <tr>\n",
       "      <td>19</td>\n",
       "      <td>StatsSorceress</td>\n",
       "      <td>1194</td>\n",
       "      <td>None</td>\n",
       "      <td>8</td>\n",
       "      <td>149.250000</td>\n",
       "    </tr>\n",
       "    <tr>\n",
       "      <td>14</td>\n",
       "      <td>stmax</td>\n",
       "      <td>1409</td>\n",
       "      <td>Austria</td>\n",
       "      <td>10</td>\n",
       "      <td>140.900000</td>\n",
       "    </tr>\n",
       "    <tr>\n",
       "      <td>13</td>\n",
       "      <td>Elias Strehle</td>\n",
       "      <td>1311</td>\n",
       "      <td>Hamburg, Germany</td>\n",
       "      <td>10</td>\n",
       "      <td>131.100000</td>\n",
       "    </tr>\n",
       "    <tr>\n",
       "      <td>15</td>\n",
       "      <td>I_Play_With_Data</td>\n",
       "      <td>1294</td>\n",
       "      <td>USA</td>\n",
       "      <td>10</td>\n",
       "      <td>129.400000</td>\n",
       "    </tr>\n",
       "    <tr>\n",
       "      <td>9</td>\n",
       "      <td>Shamit Verma</td>\n",
       "      <td>1754</td>\n",
       "      <td>Mumbai, India</td>\n",
       "      <td>14</td>\n",
       "      <td>125.285714</td>\n",
       "    </tr>\n",
       "    <tr>\n",
       "      <td>18</td>\n",
       "      <td>thanatoz</td>\n",
       "      <td>900</td>\n",
       "      <td>India</td>\n",
       "      <td>8</td>\n",
       "      <td>112.500000</td>\n",
       "    </tr>\n",
       "    <tr>\n",
       "      <td>6</td>\n",
       "      <td>Peter</td>\n",
       "      <td>1648</td>\n",
       "      <td>Frankfurt am Main, Deutschland</td>\n",
       "      <td>17</td>\n",
       "      <td>96.941176</td>\n",
       "    </tr>\n",
       "    <tr>\n",
       "      <td>8</td>\n",
       "      <td>Kiritee Gak</td>\n",
       "      <td>1379</td>\n",
       "      <td>Delhi, India</td>\n",
       "      <td>15</td>\n",
       "      <td>91.933333</td>\n",
       "    </tr>\n",
       "    <tr>\n",
       "      <td>5</td>\n",
       "      <td>Stephen Rauch</td>\n",
       "      <td>1598</td>\n",
       "      <td>Northern California, United States</td>\n",
       "      <td>19</td>\n",
       "      <td>84.105263</td>\n",
       "    </tr>\n",
       "    <tr>\n",
       "      <td>11</td>\n",
       "      <td>Antonio Jurić</td>\n",
       "      <td>789</td>\n",
       "      <td>None</td>\n",
       "      <td>10</td>\n",
       "      <td>78.900000</td>\n",
       "    </tr>\n",
       "    <tr>\n",
       "      <td>16</td>\n",
       "      <td>tuomastik</td>\n",
       "      <td>781</td>\n",
       "      <td>Helsinki, Finland</td>\n",
       "      <td>10</td>\n",
       "      <td>78.100000</td>\n",
       "    </tr>\n",
       "    <tr>\n",
       "      <td>10</td>\n",
       "      <td>TitoOrt</td>\n",
       "      <td>822</td>\n",
       "      <td>Stuttgart, Germany</td>\n",
       "      <td>11</td>\n",
       "      <td>74.727273</td>\n",
       "    </tr>\n",
       "    <tr>\n",
       "      <td>4</td>\n",
       "      <td>Aditya</td>\n",
       "      <td>1577</td>\n",
       "      <td>West Bengal, India</td>\n",
       "      <td>22</td>\n",
       "      <td>71.681818</td>\n",
       "    </tr>\n",
       "    <tr>\n",
       "      <td>0</td>\n",
       "      <td>n1k31t4</td>\n",
       "      <td>8181</td>\n",
       "      <td>Europa</td>\n",
       "      <td>117</td>\n",
       "      <td>69.923077</td>\n",
       "    </tr>\n",
       "    <tr>\n",
       "      <td>7</td>\n",
       "      <td>Ankit Seth</td>\n",
       "      <td>1159</td>\n",
       "      <td>None</td>\n",
       "      <td>17</td>\n",
       "      <td>68.176471</td>\n",
       "    </tr>\n",
       "    <tr>\n",
       "      <td>2</td>\n",
       "      <td>Juan Esteban de la Calle</td>\n",
       "      <td>1504</td>\n",
       "      <td>Bogotá, Colombia</td>\n",
       "      <td>24</td>\n",
       "      <td>62.666667</td>\n",
       "    </tr>\n",
       "  </tbody>\n",
       "</table>\n",
       "</div>"
      ],
      "text/plain": [
       "                        name    rep                          u.location  \\\n",
       "1                Neil Slater  18824              Durham, United Kingdom   \n",
       "12        Franck Dernoncourt   3656   Adobe Research, San Jose, CA, USA   \n",
       "3           Jan van der Vegt   6995                           Amsterdam   \n",
       "17                Ryan Zotti   2564              San Francisco, CA, USA   \n",
       "19            StatsSorceress   1194                                None   \n",
       "14                     stmax   1409                             Austria   \n",
       "13             Elias Strehle   1311                    Hamburg, Germany   \n",
       "15          I_Play_With_Data   1294                                 USA   \n",
       "9               Shamit Verma   1754                       Mumbai, India   \n",
       "18                  thanatoz    900                               India   \n",
       "6                      Peter   1648      Frankfurt am Main, Deutschland   \n",
       "8                Kiritee Gak   1379                        Delhi, India   \n",
       "5              Stephen Rauch   1598  Northern California, United States   \n",
       "11             Antonio Jurić    789                                None   \n",
       "16                 tuomastik    781                   Helsinki, Finland   \n",
       "10                   TitoOrt    822                  Stuttgart, Germany   \n",
       "4                     Aditya   1577                  West Bengal, India   \n",
       "0                    n1k31t4   8181                              Europa   \n",
       "7                 Ankit Seth   1159                                None   \n",
       "2   Juan Esteban de la Calle   1504                    Bogotá, Colombia   \n",
       "\n",
       "    answers     rep/ans  \n",
       "1        36  522.888889  \n",
       "12       10  365.600000  \n",
       "3        23  304.130435  \n",
       "17        9  284.888889  \n",
       "19        8  149.250000  \n",
       "14       10  140.900000  \n",
       "13       10  131.100000  \n",
       "15       10  129.400000  \n",
       "9        14  125.285714  \n",
       "18        8  112.500000  \n",
       "6        17   96.941176  \n",
       "8        15   91.933333  \n",
       "5        19   84.105263  \n",
       "11       10   78.900000  \n",
       "16       10   78.100000  \n",
       "10       11   74.727273  \n",
       "4        22   71.681818  \n",
       "0       117   69.923077  \n",
       "7        17   68.176471  \n",
       "2        24   62.666667  "
      ]
     },
     "execution_count": 65,
     "metadata": {},
     "output_type": "execute_result"
    }
   ],
   "source": [
    "sort_by = xo.sort_values('rep/ans', ascending=False)\n",
    "#df.sort_values(by=['Brand'], inplace=True, ascending=False)\n",
    "sort_by.head(20)"
   ]
  },
  {
   "cell_type": "code",
   "execution_count": 143,
   "metadata": {},
   "outputs": [
    {
     "data": {
      "application/vnd.plotly.v1+json": {
       "config": {
        "plotlyServerURL": "https://plot.ly"
       },
       "data": [
        {
         "alignmentgroup": "True",
         "hoverlabel": {
          "namelength": 0
         },
         "hovertemplate": "name=%{x}<br>rep/ans=%{y}",
         "legendgroup": "",
         "marker": {
          "color": "#636efa"
         },
         "name": "",
         "offsetgroup": "",
         "orientation": "v",
         "showlegend": false,
         "textposition": "auto",
         "type": "bar",
         "x": [
          "Neil Slater",
          "n1k31t4",
          "Vaalizaadeh",
          "Anony-Mousse",
          "Brian Spiering",
          "Emre",
          "JahKnows",
          "Jan van der Vegt",
          "Esmailian",
          "Kasra Manshaei",
          "Peter",
          "oW_",
          "pcko1",
          "Erwan",
          "Dawny33",
          "Juan Esteban de la Calle",
          "Martin Thoma",
          "Ben Reiniger",
          "Shamit Verma",
          "ncasas"
         ],
         "xaxis": "x",
         "y": [
          47.89821882951654,
          23.713043478260868,
          26.4741641337386,
          18.372307692307693,
          21.83613445378151,
          39.12334801762115,
          28.482758620689655,
          38.016304347826086,
          33.348684210526315,
          26.53061224489796,
          13.398373983739837,
          33.672413793103445,
          18.130434782608695,
          11.780701754385966,
          51.767857142857146,
          13.925925925925926,
          66.26851851851852,
          16.39622641509434,
          16.865384615384617,
          40.786407766990294
         ],
         "yaxis": "y"
        }
       ],
       "layout": {
        "barmode": "relative",
        "height": 600,
        "legend": {
         "tracegroupgap": 0
        },
        "margin": {
         "t": 60
        },
        "template": {
         "data": {
          "bar": [
           {
            "error_x": {
             "color": "#f2f5fa"
            },
            "error_y": {
             "color": "#f2f5fa"
            },
            "marker": {
             "line": {
              "color": "rgb(17,17,17)",
              "width": 0.5
             }
            },
            "type": "bar"
           }
          ],
          "barpolar": [
           {
            "marker": {
             "line": {
              "color": "rgb(17,17,17)",
              "width": 0.5
             }
            },
            "type": "barpolar"
           }
          ],
          "carpet": [
           {
            "aaxis": {
             "endlinecolor": "#A2B1C6",
             "gridcolor": "#506784",
             "linecolor": "#506784",
             "minorgridcolor": "#506784",
             "startlinecolor": "#A2B1C6"
            },
            "baxis": {
             "endlinecolor": "#A2B1C6",
             "gridcolor": "#506784",
             "linecolor": "#506784",
             "minorgridcolor": "#506784",
             "startlinecolor": "#A2B1C6"
            },
            "type": "carpet"
           }
          ],
          "choropleth": [
           {
            "colorbar": {
             "outlinewidth": 0,
             "ticks": ""
            },
            "type": "choropleth"
           }
          ],
          "contour": [
           {
            "colorbar": {
             "outlinewidth": 0,
             "ticks": ""
            },
            "colorscale": [
             [
              0,
              "#0d0887"
             ],
             [
              0.1111111111111111,
              "#46039f"
             ],
             [
              0.2222222222222222,
              "#7201a8"
             ],
             [
              0.3333333333333333,
              "#9c179e"
             ],
             [
              0.4444444444444444,
              "#bd3786"
             ],
             [
              0.5555555555555556,
              "#d8576b"
             ],
             [
              0.6666666666666666,
              "#ed7953"
             ],
             [
              0.7777777777777778,
              "#fb9f3a"
             ],
             [
              0.8888888888888888,
              "#fdca26"
             ],
             [
              1,
              "#f0f921"
             ]
            ],
            "type": "contour"
           }
          ],
          "contourcarpet": [
           {
            "colorbar": {
             "outlinewidth": 0,
             "ticks": ""
            },
            "type": "contourcarpet"
           }
          ],
          "heatmap": [
           {
            "colorbar": {
             "outlinewidth": 0,
             "ticks": ""
            },
            "colorscale": [
             [
              0,
              "#0d0887"
             ],
             [
              0.1111111111111111,
              "#46039f"
             ],
             [
              0.2222222222222222,
              "#7201a8"
             ],
             [
              0.3333333333333333,
              "#9c179e"
             ],
             [
              0.4444444444444444,
              "#bd3786"
             ],
             [
              0.5555555555555556,
              "#d8576b"
             ],
             [
              0.6666666666666666,
              "#ed7953"
             ],
             [
              0.7777777777777778,
              "#fb9f3a"
             ],
             [
              0.8888888888888888,
              "#fdca26"
             ],
             [
              1,
              "#f0f921"
             ]
            ],
            "type": "heatmap"
           }
          ],
          "heatmapgl": [
           {
            "colorbar": {
             "outlinewidth": 0,
             "ticks": ""
            },
            "colorscale": [
             [
              0,
              "#0d0887"
             ],
             [
              0.1111111111111111,
              "#46039f"
             ],
             [
              0.2222222222222222,
              "#7201a8"
             ],
             [
              0.3333333333333333,
              "#9c179e"
             ],
             [
              0.4444444444444444,
              "#bd3786"
             ],
             [
              0.5555555555555556,
              "#d8576b"
             ],
             [
              0.6666666666666666,
              "#ed7953"
             ],
             [
              0.7777777777777778,
              "#fb9f3a"
             ],
             [
              0.8888888888888888,
              "#fdca26"
             ],
             [
              1,
              "#f0f921"
             ]
            ],
            "type": "heatmapgl"
           }
          ],
          "histogram": [
           {
            "marker": {
             "colorbar": {
              "outlinewidth": 0,
              "ticks": ""
             }
            },
            "type": "histogram"
           }
          ],
          "histogram2d": [
           {
            "colorbar": {
             "outlinewidth": 0,
             "ticks": ""
            },
            "colorscale": [
             [
              0,
              "#0d0887"
             ],
             [
              0.1111111111111111,
              "#46039f"
             ],
             [
              0.2222222222222222,
              "#7201a8"
             ],
             [
              0.3333333333333333,
              "#9c179e"
             ],
             [
              0.4444444444444444,
              "#bd3786"
             ],
             [
              0.5555555555555556,
              "#d8576b"
             ],
             [
              0.6666666666666666,
              "#ed7953"
             ],
             [
              0.7777777777777778,
              "#fb9f3a"
             ],
             [
              0.8888888888888888,
              "#fdca26"
             ],
             [
              1,
              "#f0f921"
             ]
            ],
            "type": "histogram2d"
           }
          ],
          "histogram2dcontour": [
           {
            "colorbar": {
             "outlinewidth": 0,
             "ticks": ""
            },
            "colorscale": [
             [
              0,
              "#0d0887"
             ],
             [
              0.1111111111111111,
              "#46039f"
             ],
             [
              0.2222222222222222,
              "#7201a8"
             ],
             [
              0.3333333333333333,
              "#9c179e"
             ],
             [
              0.4444444444444444,
              "#bd3786"
             ],
             [
              0.5555555555555556,
              "#d8576b"
             ],
             [
              0.6666666666666666,
              "#ed7953"
             ],
             [
              0.7777777777777778,
              "#fb9f3a"
             ],
             [
              0.8888888888888888,
              "#fdca26"
             ],
             [
              1,
              "#f0f921"
             ]
            ],
            "type": "histogram2dcontour"
           }
          ],
          "mesh3d": [
           {
            "colorbar": {
             "outlinewidth": 0,
             "ticks": ""
            },
            "type": "mesh3d"
           }
          ],
          "parcoords": [
           {
            "line": {
             "colorbar": {
              "outlinewidth": 0,
              "ticks": ""
             }
            },
            "type": "parcoords"
           }
          ],
          "scatter": [
           {
            "marker": {
             "line": {
              "color": "#283442"
             }
            },
            "type": "scatter"
           }
          ],
          "scatter3d": [
           {
            "line": {
             "colorbar": {
              "outlinewidth": 0,
              "ticks": ""
             }
            },
            "marker": {
             "colorbar": {
              "outlinewidth": 0,
              "ticks": ""
             }
            },
            "type": "scatter3d"
           }
          ],
          "scattercarpet": [
           {
            "marker": {
             "colorbar": {
              "outlinewidth": 0,
              "ticks": ""
             }
            },
            "type": "scattercarpet"
           }
          ],
          "scattergeo": [
           {
            "marker": {
             "colorbar": {
              "outlinewidth": 0,
              "ticks": ""
             }
            },
            "type": "scattergeo"
           }
          ],
          "scattergl": [
           {
            "marker": {
             "line": {
              "color": "#283442"
             }
            },
            "type": "scattergl"
           }
          ],
          "scattermapbox": [
           {
            "marker": {
             "colorbar": {
              "outlinewidth": 0,
              "ticks": ""
             }
            },
            "type": "scattermapbox"
           }
          ],
          "scatterpolar": [
           {
            "marker": {
             "colorbar": {
              "outlinewidth": 0,
              "ticks": ""
             }
            },
            "type": "scatterpolar"
           }
          ],
          "scatterpolargl": [
           {
            "marker": {
             "colorbar": {
              "outlinewidth": 0,
              "ticks": ""
             }
            },
            "type": "scatterpolargl"
           }
          ],
          "scatterternary": [
           {
            "marker": {
             "colorbar": {
              "outlinewidth": 0,
              "ticks": ""
             }
            },
            "type": "scatterternary"
           }
          ],
          "surface": [
           {
            "colorbar": {
             "outlinewidth": 0,
             "ticks": ""
            },
            "colorscale": [
             [
              0,
              "#0d0887"
             ],
             [
              0.1111111111111111,
              "#46039f"
             ],
             [
              0.2222222222222222,
              "#7201a8"
             ],
             [
              0.3333333333333333,
              "#9c179e"
             ],
             [
              0.4444444444444444,
              "#bd3786"
             ],
             [
              0.5555555555555556,
              "#d8576b"
             ],
             [
              0.6666666666666666,
              "#ed7953"
             ],
             [
              0.7777777777777778,
              "#fb9f3a"
             ],
             [
              0.8888888888888888,
              "#fdca26"
             ],
             [
              1,
              "#f0f921"
             ]
            ],
            "type": "surface"
           }
          ],
          "table": [
           {
            "cells": {
             "fill": {
              "color": "#506784"
             },
             "line": {
              "color": "rgb(17,17,17)"
             }
            },
            "header": {
             "fill": {
              "color": "#2a3f5f"
             },
             "line": {
              "color": "rgb(17,17,17)"
             }
            },
            "type": "table"
           }
          ]
         },
         "layout": {
          "annotationdefaults": {
           "arrowcolor": "#f2f5fa",
           "arrowhead": 0,
           "arrowwidth": 1
          },
          "colorscale": {
           "diverging": [
            [
             0,
             "#8e0152"
            ],
            [
             0.1,
             "#c51b7d"
            ],
            [
             0.2,
             "#de77ae"
            ],
            [
             0.3,
             "#f1b6da"
            ],
            [
             0.4,
             "#fde0ef"
            ],
            [
             0.5,
             "#f7f7f7"
            ],
            [
             0.6,
             "#e6f5d0"
            ],
            [
             0.7,
             "#b8e186"
            ],
            [
             0.8,
             "#7fbc41"
            ],
            [
             0.9,
             "#4d9221"
            ],
            [
             1,
             "#276419"
            ]
           ],
           "sequential": [
            [
             0,
             "#0d0887"
            ],
            [
             0.1111111111111111,
             "#46039f"
            ],
            [
             0.2222222222222222,
             "#7201a8"
            ],
            [
             0.3333333333333333,
             "#9c179e"
            ],
            [
             0.4444444444444444,
             "#bd3786"
            ],
            [
             0.5555555555555556,
             "#d8576b"
            ],
            [
             0.6666666666666666,
             "#ed7953"
            ],
            [
             0.7777777777777778,
             "#fb9f3a"
            ],
            [
             0.8888888888888888,
             "#fdca26"
            ],
            [
             1,
             "#f0f921"
            ]
           ],
           "sequentialminus": [
            [
             0,
             "#0d0887"
            ],
            [
             0.1111111111111111,
             "#46039f"
            ],
            [
             0.2222222222222222,
             "#7201a8"
            ],
            [
             0.3333333333333333,
             "#9c179e"
            ],
            [
             0.4444444444444444,
             "#bd3786"
            ],
            [
             0.5555555555555556,
             "#d8576b"
            ],
            [
             0.6666666666666666,
             "#ed7953"
            ],
            [
             0.7777777777777778,
             "#fb9f3a"
            ],
            [
             0.8888888888888888,
             "#fdca26"
            ],
            [
             1,
             "#f0f921"
            ]
           ]
          },
          "colorway": [
           "#636efa",
           "#EF553B",
           "#00cc96",
           "#ab63fa",
           "#FFA15A",
           "#19d3f3",
           "#FF6692",
           "#B6E880",
           "#FF97FF",
           "#FECB52"
          ],
          "font": {
           "color": "#f2f5fa"
          },
          "geo": {
           "bgcolor": "rgb(17,17,17)",
           "lakecolor": "rgb(17,17,17)",
           "landcolor": "rgb(17,17,17)",
           "showlakes": true,
           "showland": true,
           "subunitcolor": "#506784"
          },
          "hoverlabel": {
           "align": "left"
          },
          "hovermode": "closest",
          "mapbox": {
           "style": "dark"
          },
          "paper_bgcolor": "rgb(17,17,17)",
          "plot_bgcolor": "rgb(17,17,17)",
          "polar": {
           "angularaxis": {
            "gridcolor": "#506784",
            "linecolor": "#506784",
            "ticks": ""
           },
           "bgcolor": "rgb(17,17,17)",
           "radialaxis": {
            "gridcolor": "#506784",
            "linecolor": "#506784",
            "ticks": ""
           }
          },
          "scene": {
           "xaxis": {
            "backgroundcolor": "rgb(17,17,17)",
            "gridcolor": "#506784",
            "gridwidth": 2,
            "linecolor": "#506784",
            "showbackground": true,
            "ticks": "",
            "zerolinecolor": "#C8D4E3"
           },
           "yaxis": {
            "backgroundcolor": "rgb(17,17,17)",
            "gridcolor": "#506784",
            "gridwidth": 2,
            "linecolor": "#506784",
            "showbackground": true,
            "ticks": "",
            "zerolinecolor": "#C8D4E3"
           },
           "zaxis": {
            "backgroundcolor": "rgb(17,17,17)",
            "gridcolor": "#506784",
            "gridwidth": 2,
            "linecolor": "#506784",
            "showbackground": true,
            "ticks": "",
            "zerolinecolor": "#C8D4E3"
           }
          },
          "shapedefaults": {
           "line": {
            "color": "#f2f5fa"
           }
          },
          "sliderdefaults": {
           "bgcolor": "#C8D4E3",
           "bordercolor": "rgb(17,17,17)",
           "borderwidth": 1,
           "tickwidth": 0
          },
          "ternary": {
           "aaxis": {
            "gridcolor": "#506784",
            "linecolor": "#506784",
            "ticks": ""
           },
           "baxis": {
            "gridcolor": "#506784",
            "linecolor": "#506784",
            "ticks": ""
           },
           "bgcolor": "rgb(17,17,17)",
           "caxis": {
            "gridcolor": "#506784",
            "linecolor": "#506784",
            "ticks": ""
           }
          },
          "title": {
           "x": 0.05
          },
          "updatemenudefaults": {
           "bgcolor": "#506784",
           "borderwidth": 0
          },
          "xaxis": {
           "automargin": true,
           "gridcolor": "#283442",
           "linecolor": "#506784",
           "ticks": "",
           "zerolinecolor": "#283442",
           "zerolinewidth": 2
          },
          "yaxis": {
           "automargin": true,
           "gridcolor": "#283442",
           "linecolor": "#506784",
           "ticks": "",
           "zerolinecolor": "#283442",
           "zerolinewidth": 2
          }
         }
        },
        "xaxis": {
         "anchor": "y",
         "domain": [
          0,
          0.98
         ],
         "title": {
          "text": "name"
         }
        },
        "yaxis": {
         "anchor": "x",
         "domain": [
          0,
          1
         ],
         "title": {
          "text": "rep/ans"
         }
        }
       }
      },
      "text/html": [
       "<div>\n",
       "        \n",
       "        \n",
       "            <div id=\"459cb722-aa96-4dfe-9fc7-4643caf158a4\" class=\"plotly-graph-div\" style=\"height:600px; width:100%;\"></div>\n",
       "            <script type=\"text/javascript\">\n",
       "                require([\"plotly\"], function(Plotly) {\n",
       "                    window.PLOTLYENV=window.PLOTLYENV || {};\n",
       "                    \n",
       "                if (document.getElementById(\"459cb722-aa96-4dfe-9fc7-4643caf158a4\")) {\n",
       "                    Plotly.newPlot(\n",
       "                        '459cb722-aa96-4dfe-9fc7-4643caf158a4',\n",
       "                        [{\"alignmentgroup\": \"True\", \"hoverlabel\": {\"namelength\": 0}, \"hovertemplate\": \"name=%{x}<br>rep/ans=%{y}\", \"legendgroup\": \"\", \"marker\": {\"color\": \"#636efa\"}, \"name\": \"\", \"offsetgroup\": \"\", \"orientation\": \"v\", \"showlegend\": false, \"textposition\": \"auto\", \"type\": \"bar\", \"x\": [\"Neil Slater\", \"n1k31t4\", \"Vaalizaadeh\", \"Anony-Mousse\", \"Brian Spiering\", \"Emre\", \"JahKnows\", \"Jan van der Vegt\", \"Esmailian\", \"Kasra Manshaei\", \"Peter\", \"oW_\", \"pcko1\", \"Erwan\", \"Dawny33\", \"Juan Esteban de la Calle\", \"Martin Thoma\", \"Ben Reiniger\", \"Shamit Verma\", \"ncasas\"], \"xaxis\": \"x\", \"y\": [47.89821882951654, 23.713043478260868, 26.4741641337386, 18.372307692307693, 21.83613445378151, 39.12334801762115, 28.482758620689655, 38.016304347826086, 33.348684210526315, 26.53061224489796, 13.398373983739837, 33.672413793103445, 18.130434782608695, 11.780701754385966, 51.767857142857146, 13.925925925925926, 66.26851851851852, 16.39622641509434, 16.865384615384617, 40.786407766990294], \"yaxis\": \"y\"}],\n",
       "                        {\"barmode\": \"relative\", \"height\": 600, \"legend\": {\"tracegroupgap\": 0}, \"margin\": {\"t\": 60}, \"template\": {\"data\": {\"bar\": [{\"error_x\": {\"color\": \"#f2f5fa\"}, \"error_y\": {\"color\": \"#f2f5fa\"}, \"marker\": {\"line\": {\"color\": \"rgb(17,17,17)\", \"width\": 0.5}}, \"type\": \"bar\"}], \"barpolar\": [{\"marker\": {\"line\": {\"color\": \"rgb(17,17,17)\", \"width\": 0.5}}, \"type\": \"barpolar\"}], \"carpet\": [{\"aaxis\": {\"endlinecolor\": \"#A2B1C6\", \"gridcolor\": \"#506784\", \"linecolor\": \"#506784\", \"minorgridcolor\": \"#506784\", \"startlinecolor\": \"#A2B1C6\"}, \"baxis\": {\"endlinecolor\": \"#A2B1C6\", \"gridcolor\": \"#506784\", \"linecolor\": \"#506784\", \"minorgridcolor\": \"#506784\", \"startlinecolor\": \"#A2B1C6\"}, \"type\": \"carpet\"}], \"choropleth\": [{\"colorbar\": {\"outlinewidth\": 0, \"ticks\": \"\"}, \"type\": \"choropleth\"}], \"contour\": [{\"colorbar\": {\"outlinewidth\": 0, \"ticks\": \"\"}, \"colorscale\": [[0.0, \"#0d0887\"], [0.1111111111111111, \"#46039f\"], [0.2222222222222222, \"#7201a8\"], [0.3333333333333333, \"#9c179e\"], [0.4444444444444444, \"#bd3786\"], [0.5555555555555556, \"#d8576b\"], [0.6666666666666666, \"#ed7953\"], [0.7777777777777778, \"#fb9f3a\"], [0.8888888888888888, \"#fdca26\"], [1.0, \"#f0f921\"]], \"type\": \"contour\"}], \"contourcarpet\": [{\"colorbar\": {\"outlinewidth\": 0, \"ticks\": \"\"}, \"type\": \"contourcarpet\"}], \"heatmap\": [{\"colorbar\": {\"outlinewidth\": 0, \"ticks\": \"\"}, \"colorscale\": [[0.0, \"#0d0887\"], [0.1111111111111111, \"#46039f\"], [0.2222222222222222, \"#7201a8\"], [0.3333333333333333, \"#9c179e\"], [0.4444444444444444, \"#bd3786\"], [0.5555555555555556, \"#d8576b\"], [0.6666666666666666, \"#ed7953\"], [0.7777777777777778, \"#fb9f3a\"], [0.8888888888888888, \"#fdca26\"], [1.0, \"#f0f921\"]], \"type\": \"heatmap\"}], \"heatmapgl\": [{\"colorbar\": {\"outlinewidth\": 0, \"ticks\": \"\"}, \"colorscale\": [[0.0, \"#0d0887\"], [0.1111111111111111, \"#46039f\"], [0.2222222222222222, \"#7201a8\"], [0.3333333333333333, \"#9c179e\"], [0.4444444444444444, \"#bd3786\"], [0.5555555555555556, \"#d8576b\"], [0.6666666666666666, \"#ed7953\"], [0.7777777777777778, \"#fb9f3a\"], [0.8888888888888888, \"#fdca26\"], [1.0, \"#f0f921\"]], \"type\": \"heatmapgl\"}], \"histogram\": [{\"marker\": {\"colorbar\": {\"outlinewidth\": 0, \"ticks\": \"\"}}, \"type\": \"histogram\"}], \"histogram2d\": [{\"colorbar\": {\"outlinewidth\": 0, \"ticks\": \"\"}, \"colorscale\": [[0.0, \"#0d0887\"], [0.1111111111111111, \"#46039f\"], [0.2222222222222222, \"#7201a8\"], [0.3333333333333333, \"#9c179e\"], [0.4444444444444444, \"#bd3786\"], [0.5555555555555556, \"#d8576b\"], [0.6666666666666666, \"#ed7953\"], [0.7777777777777778, \"#fb9f3a\"], [0.8888888888888888, \"#fdca26\"], [1.0, \"#f0f921\"]], \"type\": \"histogram2d\"}], \"histogram2dcontour\": [{\"colorbar\": {\"outlinewidth\": 0, \"ticks\": \"\"}, \"colorscale\": [[0.0, \"#0d0887\"], [0.1111111111111111, \"#46039f\"], [0.2222222222222222, \"#7201a8\"], [0.3333333333333333, \"#9c179e\"], [0.4444444444444444, \"#bd3786\"], [0.5555555555555556, \"#d8576b\"], [0.6666666666666666, \"#ed7953\"], [0.7777777777777778, \"#fb9f3a\"], [0.8888888888888888, \"#fdca26\"], [1.0, \"#f0f921\"]], \"type\": \"histogram2dcontour\"}], \"mesh3d\": [{\"colorbar\": {\"outlinewidth\": 0, \"ticks\": \"\"}, \"type\": \"mesh3d\"}], \"parcoords\": [{\"line\": {\"colorbar\": {\"outlinewidth\": 0, \"ticks\": \"\"}}, \"type\": \"parcoords\"}], \"scatter\": [{\"marker\": {\"line\": {\"color\": \"#283442\"}}, \"type\": \"scatter\"}], \"scatter3d\": [{\"line\": {\"colorbar\": {\"outlinewidth\": 0, \"ticks\": \"\"}}, \"marker\": {\"colorbar\": {\"outlinewidth\": 0, \"ticks\": \"\"}}, \"type\": \"scatter3d\"}], \"scattercarpet\": [{\"marker\": {\"colorbar\": {\"outlinewidth\": 0, \"ticks\": \"\"}}, \"type\": \"scattercarpet\"}], \"scattergeo\": [{\"marker\": {\"colorbar\": {\"outlinewidth\": 0, \"ticks\": \"\"}}, \"type\": \"scattergeo\"}], \"scattergl\": [{\"marker\": {\"line\": {\"color\": \"#283442\"}}, \"type\": \"scattergl\"}], \"scattermapbox\": [{\"marker\": {\"colorbar\": {\"outlinewidth\": 0, \"ticks\": \"\"}}, \"type\": \"scattermapbox\"}], \"scatterpolar\": [{\"marker\": {\"colorbar\": {\"outlinewidth\": 0, \"ticks\": \"\"}}, \"type\": \"scatterpolar\"}], \"scatterpolargl\": [{\"marker\": {\"colorbar\": {\"outlinewidth\": 0, \"ticks\": \"\"}}, \"type\": \"scatterpolargl\"}], \"scatterternary\": [{\"marker\": {\"colorbar\": {\"outlinewidth\": 0, \"ticks\": \"\"}}, \"type\": \"scatterternary\"}], \"surface\": [{\"colorbar\": {\"outlinewidth\": 0, \"ticks\": \"\"}, \"colorscale\": [[0.0, \"#0d0887\"], [0.1111111111111111, \"#46039f\"], [0.2222222222222222, \"#7201a8\"], [0.3333333333333333, \"#9c179e\"], [0.4444444444444444, \"#bd3786\"], [0.5555555555555556, \"#d8576b\"], [0.6666666666666666, \"#ed7953\"], [0.7777777777777778, \"#fb9f3a\"], [0.8888888888888888, \"#fdca26\"], [1.0, \"#f0f921\"]], \"type\": \"surface\"}], \"table\": [{\"cells\": {\"fill\": {\"color\": \"#506784\"}, \"line\": {\"color\": \"rgb(17,17,17)\"}}, \"header\": {\"fill\": {\"color\": \"#2a3f5f\"}, \"line\": {\"color\": \"rgb(17,17,17)\"}}, \"type\": \"table\"}]}, \"layout\": {\"annotationdefaults\": {\"arrowcolor\": \"#f2f5fa\", \"arrowhead\": 0, \"arrowwidth\": 1}, \"colorscale\": {\"diverging\": [[0, \"#8e0152\"], [0.1, \"#c51b7d\"], [0.2, \"#de77ae\"], [0.3, \"#f1b6da\"], [0.4, \"#fde0ef\"], [0.5, \"#f7f7f7\"], [0.6, \"#e6f5d0\"], [0.7, \"#b8e186\"], [0.8, \"#7fbc41\"], [0.9, \"#4d9221\"], [1, \"#276419\"]], \"sequential\": [[0.0, \"#0d0887\"], [0.1111111111111111, \"#46039f\"], [0.2222222222222222, \"#7201a8\"], [0.3333333333333333, \"#9c179e\"], [0.4444444444444444, \"#bd3786\"], [0.5555555555555556, \"#d8576b\"], [0.6666666666666666, \"#ed7953\"], [0.7777777777777778, \"#fb9f3a\"], [0.8888888888888888, \"#fdca26\"], [1.0, \"#f0f921\"]], \"sequentialminus\": [[0.0, \"#0d0887\"], [0.1111111111111111, \"#46039f\"], [0.2222222222222222, \"#7201a8\"], [0.3333333333333333, \"#9c179e\"], [0.4444444444444444, \"#bd3786\"], [0.5555555555555556, \"#d8576b\"], [0.6666666666666666, \"#ed7953\"], [0.7777777777777778, \"#fb9f3a\"], [0.8888888888888888, \"#fdca26\"], [1.0, \"#f0f921\"]]}, \"colorway\": [\"#636efa\", \"#EF553B\", \"#00cc96\", \"#ab63fa\", \"#FFA15A\", \"#19d3f3\", \"#FF6692\", \"#B6E880\", \"#FF97FF\", \"#FECB52\"], \"font\": {\"color\": \"#f2f5fa\"}, \"geo\": {\"bgcolor\": \"rgb(17,17,17)\", \"lakecolor\": \"rgb(17,17,17)\", \"landcolor\": \"rgb(17,17,17)\", \"showlakes\": true, \"showland\": true, \"subunitcolor\": \"#506784\"}, \"hoverlabel\": {\"align\": \"left\"}, \"hovermode\": \"closest\", \"mapbox\": {\"style\": \"dark\"}, \"paper_bgcolor\": \"rgb(17,17,17)\", \"plot_bgcolor\": \"rgb(17,17,17)\", \"polar\": {\"angularaxis\": {\"gridcolor\": \"#506784\", \"linecolor\": \"#506784\", \"ticks\": \"\"}, \"bgcolor\": \"rgb(17,17,17)\", \"radialaxis\": {\"gridcolor\": \"#506784\", \"linecolor\": \"#506784\", \"ticks\": \"\"}}, \"scene\": {\"xaxis\": {\"backgroundcolor\": \"rgb(17,17,17)\", \"gridcolor\": \"#506784\", \"gridwidth\": 2, \"linecolor\": \"#506784\", \"showbackground\": true, \"ticks\": \"\", \"zerolinecolor\": \"#C8D4E3\"}, \"yaxis\": {\"backgroundcolor\": \"rgb(17,17,17)\", \"gridcolor\": \"#506784\", \"gridwidth\": 2, \"linecolor\": \"#506784\", \"showbackground\": true, \"ticks\": \"\", \"zerolinecolor\": \"#C8D4E3\"}, \"zaxis\": {\"backgroundcolor\": \"rgb(17,17,17)\", \"gridcolor\": \"#506784\", \"gridwidth\": 2, \"linecolor\": \"#506784\", \"showbackground\": true, \"ticks\": \"\", \"zerolinecolor\": \"#C8D4E3\"}}, \"shapedefaults\": {\"line\": {\"color\": \"#f2f5fa\"}}, \"sliderdefaults\": {\"bgcolor\": \"#C8D4E3\", \"bordercolor\": \"rgb(17,17,17)\", \"borderwidth\": 1, \"tickwidth\": 0}, \"ternary\": {\"aaxis\": {\"gridcolor\": \"#506784\", \"linecolor\": \"#506784\", \"ticks\": \"\"}, \"baxis\": {\"gridcolor\": \"#506784\", \"linecolor\": \"#506784\", \"ticks\": \"\"}, \"bgcolor\": \"rgb(17,17,17)\", \"caxis\": {\"gridcolor\": \"#506784\", \"linecolor\": \"#506784\", \"ticks\": \"\"}}, \"title\": {\"x\": 0.05}, \"updatemenudefaults\": {\"bgcolor\": \"#506784\", \"borderwidth\": 0}, \"xaxis\": {\"automargin\": true, \"gridcolor\": \"#283442\", \"linecolor\": \"#506784\", \"ticks\": \"\", \"zerolinecolor\": \"#283442\", \"zerolinewidth\": 2}, \"yaxis\": {\"automargin\": true, \"gridcolor\": \"#283442\", \"linecolor\": \"#506784\", \"ticks\": \"\", \"zerolinecolor\": \"#283442\", \"zerolinewidth\": 2}}}, \"xaxis\": {\"anchor\": \"y\", \"domain\": [0.0, 0.98], \"title\": {\"text\": \"name\"}}, \"yaxis\": {\"anchor\": \"x\", \"domain\": [0.0, 1.0], \"title\": {\"text\": \"rep/ans\"}}},\n",
       "                        {\"responsive\": true}\n",
       "                    ).then(function(){\n",
       "                            \n",
       "var gd = document.getElementById('459cb722-aa96-4dfe-9fc7-4643caf158a4');\n",
       "var x = new MutationObserver(function (mutations, observer) {{\n",
       "        var display = window.getComputedStyle(gd).display;\n",
       "        if (!display || display === 'none') {{\n",
       "            console.log([gd, 'removed!']);\n",
       "            Plotly.purge(gd);\n",
       "            observer.disconnect();\n",
       "        }}\n",
       "}});\n",
       "\n",
       "// Listen for the removal of the full notebook cells\n",
       "var notebookContainer = gd.closest('#notebook-container');\n",
       "if (notebookContainer) {{\n",
       "    x.observe(notebookContainer, {childList: true});\n",
       "}}\n",
       "\n",
       "// Listen for the clearing of the current output cell\n",
       "var outputEl = gd.closest('.output');\n",
       "if (outputEl) {{\n",
       "    x.observe(outputEl, {childList: true});\n",
       "}}\n",
       "\n",
       "                        })\n",
       "                };\n",
       "                });\n",
       "            </script>\n",
       "        </div>"
      ]
     },
     "metadata": {},
     "output_type": "display_data"
    }
   ],
   "source": [
    "import plotly_express as px         \n",
    "px.bar(the3, x='name', y='rep/ans', template='plotly_dark')"
   ]
  },
  {
   "cell_type": "code",
   "execution_count": 139,
   "metadata": {},
   "outputs": [
    {
     "data": {
      "application/vnd.plotly.v1+json": {
       "config": {
        "plotlyServerURL": "https://plot.ly"
       },
       "data": [
        {
         "hoverlabel": {
          "namelength": 0
         },
         "hovertemplate": "name=Neil Slater<br>rep/ans=%{marker.size}<br>answers=%{x}<br>rep=%{y}",
         "legendgroup": "name=Neil Slater, rep/ans=47.89821882951654",
         "marker": {
          "color": "#636efa",
          "size": [
           47.89821882951654
          ],
          "sizemode": "area",
          "sizeref": 0.1656712962962963,
          "symbol": "circle"
         },
         "mode": "markers",
         "name": "name=Neil Slater, rep/ans=47.89821882951654",
         "showlegend": true,
         "type": "scatter",
         "x": [
          393
         ],
         "xaxis": "x",
         "y": [
          "18824"
         ],
         "yaxis": "y"
        },
        {
         "hoverlabel": {
          "namelength": 0
         },
         "hovertemplate": "name=n1k31t4<br>rep/ans=%{marker.size}<br>answers=%{x}<br>rep=%{y}",
         "legendgroup": "name=n1k31t4, rep/ans=23.713043478260868",
         "marker": {
          "color": "#EF553B",
          "size": [
           23.713043478260868
          ],
          "sizemode": "area",
          "sizeref": 0.1656712962962963,
          "symbol": "diamond"
         },
         "mode": "markers",
         "name": "name=n1k31t4, rep/ans=23.713043478260868",
         "showlegend": true,
         "type": "scatter",
         "x": [
          345
         ],
         "xaxis": "x",
         "y": [
          "8181"
         ],
         "yaxis": "y"
        },
        {
         "hoverlabel": {
          "namelength": 0
         },
         "hovertemplate": "name=Vaalizaadeh<br>rep/ans=%{marker.size}<br>answers=%{x}<br>rep=%{y}",
         "legendgroup": "name=Vaalizaadeh, rep/ans=26.4741641337386",
         "marker": {
          "color": "#00cc96",
          "size": [
           26.4741641337386
          ],
          "sizemode": "area",
          "sizeref": 0.1656712962962963,
          "symbol": "square"
         },
         "mode": "markers",
         "name": "name=Vaalizaadeh, rep/ans=26.4741641337386",
         "showlegend": true,
         "type": "scatter",
         "x": [
          329
         ],
         "xaxis": "x",
         "y": [
          "8710"
         ],
         "yaxis": "y"
        },
        {
         "hoverlabel": {
          "namelength": 0
         },
         "hovertemplate": "name=Anony-Mousse<br>rep/ans=%{marker.size}<br>answers=%{x}<br>rep=%{y}",
         "legendgroup": "name=Anony-Mousse, rep/ans=18.372307692307693",
         "marker": {
          "color": "#ab63fa",
          "size": [
           18.372307692307693
          ],
          "sizemode": "area",
          "sizeref": 0.1656712962962963,
          "symbol": "x"
         },
         "mode": "markers",
         "name": "name=Anony-Mousse, rep/ans=18.372307692307693",
         "showlegend": true,
         "type": "scatter",
         "x": [
          325
         ],
         "xaxis": "x",
         "y": [
          "5971"
         ],
         "yaxis": "y"
        },
        {
         "hoverlabel": {
          "namelength": 0
         },
         "hovertemplate": "name=Brian Spiering<br>rep/ans=%{marker.size}<br>answers=%{x}<br>rep=%{y}",
         "legendgroup": "name=Brian Spiering, rep/ans=21.83613445378151",
         "marker": {
          "color": "#FFA15A",
          "size": [
           21.83613445378151
          ],
          "sizemode": "area",
          "sizeref": 0.1656712962962963,
          "symbol": "cross"
         },
         "mode": "markers",
         "name": "name=Brian Spiering, rep/ans=21.83613445378151",
         "showlegend": true,
         "type": "scatter",
         "x": [
          238
         ],
         "xaxis": "x",
         "y": [
          "5197"
         ],
         "yaxis": "y"
        },
        {
         "hoverlabel": {
          "namelength": 0
         },
         "hovertemplate": "name=Emre<br>rep/ans=%{marker.size}<br>answers=%{x}<br>rep=%{y}",
         "legendgroup": "name=Emre, rep/ans=39.12334801762115",
         "marker": {
          "color": "#19d3f3",
          "size": [
           39.12334801762115
          ],
          "sizemode": "area",
          "sizeref": 0.1656712962962963,
          "symbol": "circle"
         },
         "mode": "markers",
         "name": "name=Emre, rep/ans=39.12334801762115",
         "showlegend": true,
         "type": "scatter",
         "x": [
          227
         ],
         "xaxis": "x",
         "y": [
          "8881"
         ],
         "yaxis": "y"
        },
        {
         "hoverlabel": {
          "namelength": 0
         },
         "hovertemplate": "name=JahKnows<br>rep/ans=%{marker.size}<br>answers=%{x}<br>rep=%{y}",
         "legendgroup": "name=JahKnows, rep/ans=28.482758620689655",
         "marker": {
          "color": "#FF6692",
          "size": [
           28.482758620689655
          ],
          "sizemode": "area",
          "sizeref": 0.1656712962962963,
          "symbol": "diamond"
         },
         "mode": "markers",
         "name": "name=JahKnows, rep/ans=28.482758620689655",
         "showlegend": true,
         "type": "scatter",
         "x": [
          203
         ],
         "xaxis": "x",
         "y": [
          "5782"
         ],
         "yaxis": "y"
        },
        {
         "hoverlabel": {
          "namelength": 0
         },
         "hovertemplate": "name=Jan van der Vegt<br>rep/ans=%{marker.size}<br>answers=%{x}<br>rep=%{y}",
         "legendgroup": "name=Jan van der Vegt, rep/ans=38.016304347826086",
         "marker": {
          "color": "#B6E880",
          "size": [
           38.016304347826086
          ],
          "sizemode": "area",
          "sizeref": 0.1656712962962963,
          "symbol": "square"
         },
         "mode": "markers",
         "name": "name=Jan van der Vegt, rep/ans=38.016304347826086",
         "showlegend": true,
         "type": "scatter",
         "x": [
          184
         ],
         "xaxis": "x",
         "y": [
          "6995"
         ],
         "yaxis": "y"
        },
        {
         "hoverlabel": {
          "namelength": 0
         },
         "hovertemplate": "name=Esmailian<br>rep/ans=%{marker.size}<br>answers=%{x}<br>rep=%{y}",
         "legendgroup": "name=Esmailian, rep/ans=33.348684210526315",
         "marker": {
          "color": "#FF97FF",
          "size": [
           33.348684210526315
          ],
          "sizemode": "area",
          "sizeref": 0.1656712962962963,
          "symbol": "x"
         },
         "mode": "markers",
         "name": "name=Esmailian, rep/ans=33.348684210526315",
         "showlegend": true,
         "type": "scatter",
         "x": [
          152
         ],
         "xaxis": "x",
         "y": [
          "5069"
         ],
         "yaxis": "y"
        },
        {
         "hoverlabel": {
          "namelength": 0
         },
         "hovertemplate": "name=Kasra Manshaei<br>rep/ans=%{marker.size}<br>answers=%{x}<br>rep=%{y}",
         "legendgroup": "name=Kasra Manshaei, rep/ans=26.53061224489796",
         "marker": {
          "color": "#FECB52",
          "size": [
           26.53061224489796
          ],
          "sizemode": "area",
          "sizeref": 0.1656712962962963,
          "symbol": "cross"
         },
         "mode": "markers",
         "name": "name=Kasra Manshaei, rep/ans=26.53061224489796",
         "showlegend": true,
         "type": "scatter",
         "x": [
          147
         ],
         "xaxis": "x",
         "y": [
          "3900"
         ],
         "yaxis": "y"
        },
        {
         "hoverlabel": {
          "namelength": 0
         },
         "hovertemplate": "name=Peter<br>rep/ans=%{marker.size}<br>answers=%{x}<br>rep=%{y}",
         "legendgroup": "name=Peter, rep/ans=13.398373983739837",
         "marker": {
          "color": "#636efa",
          "size": [
           13.398373983739837
          ],
          "sizemode": "area",
          "sizeref": 0.1656712962962963,
          "symbol": "circle"
         },
         "mode": "markers",
         "name": "name=Peter, rep/ans=13.398373983739837",
         "showlegend": true,
         "type": "scatter",
         "x": [
          123
         ],
         "xaxis": "x",
         "y": [
          "1648"
         ],
         "yaxis": "y"
        },
        {
         "hoverlabel": {
          "namelength": 0
         },
         "hovertemplate": "name=oW_<br>rep/ans=%{marker.size}<br>answers=%{x}<br>rep=%{y}",
         "legendgroup": "name=oW_, rep/ans=33.672413793103445",
         "marker": {
          "color": "#EF553B",
          "size": [
           33.672413793103445
          ],
          "sizemode": "area",
          "sizeref": 0.1656712962962963,
          "symbol": "diamond"
         },
         "mode": "markers",
         "name": "name=oW_, rep/ans=33.672413793103445",
         "showlegend": true,
         "type": "scatter",
         "x": [
          116
         ],
         "xaxis": "x",
         "y": [
          "3906"
         ],
         "yaxis": "y"
        },
        {
         "hoverlabel": {
          "namelength": 0
         },
         "hovertemplate": "name=pcko1<br>rep/ans=%{marker.size}<br>answers=%{x}<br>rep=%{y}",
         "legendgroup": "name=pcko1, rep/ans=18.130434782608695",
         "marker": {
          "color": "#00cc96",
          "size": [
           18.130434782608695
          ],
          "sizemode": "area",
          "sizeref": 0.1656712962962963,
          "symbol": "square"
         },
         "mode": "markers",
         "name": "name=pcko1, rep/ans=18.130434782608695",
         "showlegend": true,
         "type": "scatter",
         "x": [
          115
         ],
         "xaxis": "x",
         "y": [
          "2085"
         ],
         "yaxis": "y"
        },
        {
         "hoverlabel": {
          "namelength": 0
         },
         "hovertemplate": "name=Erwan<br>rep/ans=%{marker.size}<br>answers=%{x}<br>rep=%{y}",
         "legendgroup": "name=Erwan, rep/ans=11.780701754385966",
         "marker": {
          "color": "#ab63fa",
          "size": [
           11.780701754385966
          ],
          "sizemode": "area",
          "sizeref": 0.1656712962962963,
          "symbol": "x"
         },
         "mode": "markers",
         "name": "name=Erwan, rep/ans=11.780701754385966",
         "showlegend": true,
         "type": "scatter",
         "x": [
          114
         ],
         "xaxis": "x",
         "y": [
          "1343"
         ],
         "yaxis": "y"
        },
        {
         "hoverlabel": {
          "namelength": 0
         },
         "hovertemplate": "name=Dawny33<br>rep/ans=%{marker.size}<br>answers=%{x}<br>rep=%{y}",
         "legendgroup": "name=Dawny33, rep/ans=51.767857142857146",
         "marker": {
          "color": "#FFA15A",
          "size": [
           51.767857142857146
          ],
          "sizemode": "area",
          "sizeref": 0.1656712962962963,
          "symbol": "cross"
         },
         "mode": "markers",
         "name": "name=Dawny33, rep/ans=51.767857142857146",
         "showlegend": true,
         "type": "scatter",
         "x": [
          112
         ],
         "xaxis": "x",
         "y": [
          "5798"
         ],
         "yaxis": "y"
        },
        {
         "hoverlabel": {
          "namelength": 0
         },
         "hovertemplate": "name=Juan Esteban de la Calle<br>rep/ans=%{marker.size}<br>answers=%{x}<br>rep=%{y}",
         "legendgroup": "name=Juan Esteban de la Calle, rep/ans=13.925925925925926",
         "marker": {
          "color": "#19d3f3",
          "size": [
           13.925925925925926
          ],
          "sizemode": "area",
          "sizeref": 0.1656712962962963,
          "symbol": "circle"
         },
         "mode": "markers",
         "name": "name=Juan Esteban de la Calle, rep/ans=13.925925925925926",
         "showlegend": true,
         "type": "scatter",
         "x": [
          108
         ],
         "xaxis": "x",
         "y": [
          "1504"
         ],
         "yaxis": "y"
        },
        {
         "hoverlabel": {
          "namelength": 0
         },
         "hovertemplate": "name=Martin Thoma<br>rep/ans=%{marker.size}<br>answers=%{x}<br>rep=%{y}",
         "legendgroup": "name=Martin Thoma, rep/ans=66.26851851851852",
         "marker": {
          "color": "#FF6692",
          "size": [
           66.26851851851852
          ],
          "sizemode": "area",
          "sizeref": 0.1656712962962963,
          "symbol": "diamond"
         },
         "mode": "markers",
         "name": "name=Martin Thoma, rep/ans=66.26851851851852",
         "showlegend": true,
         "type": "scatter",
         "x": [
          108
         ],
         "xaxis": "x",
         "y": [
          "7157"
         ],
         "yaxis": "y"
        },
        {
         "hoverlabel": {
          "namelength": 0
         },
         "hovertemplate": "name=Ben Reiniger<br>rep/ans=%{marker.size}<br>answers=%{x}<br>rep=%{y}",
         "legendgroup": "name=Ben Reiniger, rep/ans=16.39622641509434",
         "marker": {
          "color": "#B6E880",
          "size": [
           16.39622641509434
          ],
          "sizemode": "area",
          "sizeref": 0.1656712962962963,
          "symbol": "square"
         },
         "mode": "markers",
         "name": "name=Ben Reiniger, rep/ans=16.39622641509434",
         "showlegend": true,
         "type": "scatter",
         "x": [
          106
         ],
         "xaxis": "x",
         "y": [
          "1738"
         ],
         "yaxis": "y"
        },
        {
         "hoverlabel": {
          "namelength": 0
         },
         "hovertemplate": "name=Shamit Verma<br>rep/ans=%{marker.size}<br>answers=%{x}<br>rep=%{y}",
         "legendgroup": "name=Shamit Verma, rep/ans=16.865384615384617",
         "marker": {
          "color": "#FF97FF",
          "size": [
           16.865384615384617
          ],
          "sizemode": "area",
          "sizeref": 0.1656712962962963,
          "symbol": "x"
         },
         "mode": "markers",
         "name": "name=Shamit Verma, rep/ans=16.865384615384617",
         "showlegend": true,
         "type": "scatter",
         "x": [
          104
         ],
         "xaxis": "x",
         "y": [
          "1754"
         ],
         "yaxis": "y"
        },
        {
         "hoverlabel": {
          "namelength": 0
         },
         "hovertemplate": "name=ncasas<br>rep/ans=%{marker.size}<br>answers=%{x}<br>rep=%{y}",
         "legendgroup": "name=ncasas, rep/ans=40.786407766990294",
         "marker": {
          "color": "#FECB52",
          "size": [
           40.786407766990294
          ],
          "sizemode": "area",
          "sizeref": 0.1656712962962963,
          "symbol": "cross"
         },
         "mode": "markers",
         "name": "name=ncasas, rep/ans=40.786407766990294",
         "showlegend": true,
         "type": "scatter",
         "x": [
          103
         ],
         "xaxis": "x",
         "y": [
          "4201"
         ],
         "yaxis": "y"
        }
       ],
       "layout": {
        "height": 600,
        "legend": {
         "itemsizing": "constant",
         "tracegroupgap": 0
        },
        "margin": {
         "t": 60
        },
        "template": {
         "data": {
          "bar": [
           {
            "error_x": {
             "color": "#f2f5fa"
            },
            "error_y": {
             "color": "#f2f5fa"
            },
            "marker": {
             "line": {
              "color": "rgb(17,17,17)",
              "width": 0.5
             }
            },
            "type": "bar"
           }
          ],
          "barpolar": [
           {
            "marker": {
             "line": {
              "color": "rgb(17,17,17)",
              "width": 0.5
             }
            },
            "type": "barpolar"
           }
          ],
          "carpet": [
           {
            "aaxis": {
             "endlinecolor": "#A2B1C6",
             "gridcolor": "#506784",
             "linecolor": "#506784",
             "minorgridcolor": "#506784",
             "startlinecolor": "#A2B1C6"
            },
            "baxis": {
             "endlinecolor": "#A2B1C6",
             "gridcolor": "#506784",
             "linecolor": "#506784",
             "minorgridcolor": "#506784",
             "startlinecolor": "#A2B1C6"
            },
            "type": "carpet"
           }
          ],
          "choropleth": [
           {
            "colorbar": {
             "outlinewidth": 0,
             "ticks": ""
            },
            "type": "choropleth"
           }
          ],
          "contour": [
           {
            "colorbar": {
             "outlinewidth": 0,
             "ticks": ""
            },
            "colorscale": [
             [
              0,
              "#0d0887"
             ],
             [
              0.1111111111111111,
              "#46039f"
             ],
             [
              0.2222222222222222,
              "#7201a8"
             ],
             [
              0.3333333333333333,
              "#9c179e"
             ],
             [
              0.4444444444444444,
              "#bd3786"
             ],
             [
              0.5555555555555556,
              "#d8576b"
             ],
             [
              0.6666666666666666,
              "#ed7953"
             ],
             [
              0.7777777777777778,
              "#fb9f3a"
             ],
             [
              0.8888888888888888,
              "#fdca26"
             ],
             [
              1,
              "#f0f921"
             ]
            ],
            "type": "contour"
           }
          ],
          "contourcarpet": [
           {
            "colorbar": {
             "outlinewidth": 0,
             "ticks": ""
            },
            "type": "contourcarpet"
           }
          ],
          "heatmap": [
           {
            "colorbar": {
             "outlinewidth": 0,
             "ticks": ""
            },
            "colorscale": [
             [
              0,
              "#0d0887"
             ],
             [
              0.1111111111111111,
              "#46039f"
             ],
             [
              0.2222222222222222,
              "#7201a8"
             ],
             [
              0.3333333333333333,
              "#9c179e"
             ],
             [
              0.4444444444444444,
              "#bd3786"
             ],
             [
              0.5555555555555556,
              "#d8576b"
             ],
             [
              0.6666666666666666,
              "#ed7953"
             ],
             [
              0.7777777777777778,
              "#fb9f3a"
             ],
             [
              0.8888888888888888,
              "#fdca26"
             ],
             [
              1,
              "#f0f921"
             ]
            ],
            "type": "heatmap"
           }
          ],
          "heatmapgl": [
           {
            "colorbar": {
             "outlinewidth": 0,
             "ticks": ""
            },
            "colorscale": [
             [
              0,
              "#0d0887"
             ],
             [
              0.1111111111111111,
              "#46039f"
             ],
             [
              0.2222222222222222,
              "#7201a8"
             ],
             [
              0.3333333333333333,
              "#9c179e"
             ],
             [
              0.4444444444444444,
              "#bd3786"
             ],
             [
              0.5555555555555556,
              "#d8576b"
             ],
             [
              0.6666666666666666,
              "#ed7953"
             ],
             [
              0.7777777777777778,
              "#fb9f3a"
             ],
             [
              0.8888888888888888,
              "#fdca26"
             ],
             [
              1,
              "#f0f921"
             ]
            ],
            "type": "heatmapgl"
           }
          ],
          "histogram": [
           {
            "marker": {
             "colorbar": {
              "outlinewidth": 0,
              "ticks": ""
             }
            },
            "type": "histogram"
           }
          ],
          "histogram2d": [
           {
            "colorbar": {
             "outlinewidth": 0,
             "ticks": ""
            },
            "colorscale": [
             [
              0,
              "#0d0887"
             ],
             [
              0.1111111111111111,
              "#46039f"
             ],
             [
              0.2222222222222222,
              "#7201a8"
             ],
             [
              0.3333333333333333,
              "#9c179e"
             ],
             [
              0.4444444444444444,
              "#bd3786"
             ],
             [
              0.5555555555555556,
              "#d8576b"
             ],
             [
              0.6666666666666666,
              "#ed7953"
             ],
             [
              0.7777777777777778,
              "#fb9f3a"
             ],
             [
              0.8888888888888888,
              "#fdca26"
             ],
             [
              1,
              "#f0f921"
             ]
            ],
            "type": "histogram2d"
           }
          ],
          "histogram2dcontour": [
           {
            "colorbar": {
             "outlinewidth": 0,
             "ticks": ""
            },
            "colorscale": [
             [
              0,
              "#0d0887"
             ],
             [
              0.1111111111111111,
              "#46039f"
             ],
             [
              0.2222222222222222,
              "#7201a8"
             ],
             [
              0.3333333333333333,
              "#9c179e"
             ],
             [
              0.4444444444444444,
              "#bd3786"
             ],
             [
              0.5555555555555556,
              "#d8576b"
             ],
             [
              0.6666666666666666,
              "#ed7953"
             ],
             [
              0.7777777777777778,
              "#fb9f3a"
             ],
             [
              0.8888888888888888,
              "#fdca26"
             ],
             [
              1,
              "#f0f921"
             ]
            ],
            "type": "histogram2dcontour"
           }
          ],
          "mesh3d": [
           {
            "colorbar": {
             "outlinewidth": 0,
             "ticks": ""
            },
            "type": "mesh3d"
           }
          ],
          "parcoords": [
           {
            "line": {
             "colorbar": {
              "outlinewidth": 0,
              "ticks": ""
             }
            },
            "type": "parcoords"
           }
          ],
          "scatter": [
           {
            "marker": {
             "line": {
              "color": "#283442"
             }
            },
            "type": "scatter"
           }
          ],
          "scatter3d": [
           {
            "line": {
             "colorbar": {
              "outlinewidth": 0,
              "ticks": ""
             }
            },
            "marker": {
             "colorbar": {
              "outlinewidth": 0,
              "ticks": ""
             }
            },
            "type": "scatter3d"
           }
          ],
          "scattercarpet": [
           {
            "marker": {
             "colorbar": {
              "outlinewidth": 0,
              "ticks": ""
             }
            },
            "type": "scattercarpet"
           }
          ],
          "scattergeo": [
           {
            "marker": {
             "colorbar": {
              "outlinewidth": 0,
              "ticks": ""
             }
            },
            "type": "scattergeo"
           }
          ],
          "scattergl": [
           {
            "marker": {
             "line": {
              "color": "#283442"
             }
            },
            "type": "scattergl"
           }
          ],
          "scattermapbox": [
           {
            "marker": {
             "colorbar": {
              "outlinewidth": 0,
              "ticks": ""
             }
            },
            "type": "scattermapbox"
           }
          ],
          "scatterpolar": [
           {
            "marker": {
             "colorbar": {
              "outlinewidth": 0,
              "ticks": ""
             }
            },
            "type": "scatterpolar"
           }
          ],
          "scatterpolargl": [
           {
            "marker": {
             "colorbar": {
              "outlinewidth": 0,
              "ticks": ""
             }
            },
            "type": "scatterpolargl"
           }
          ],
          "scatterternary": [
           {
            "marker": {
             "colorbar": {
              "outlinewidth": 0,
              "ticks": ""
             }
            },
            "type": "scatterternary"
           }
          ],
          "surface": [
           {
            "colorbar": {
             "outlinewidth": 0,
             "ticks": ""
            },
            "colorscale": [
             [
              0,
              "#0d0887"
             ],
             [
              0.1111111111111111,
              "#46039f"
             ],
             [
              0.2222222222222222,
              "#7201a8"
             ],
             [
              0.3333333333333333,
              "#9c179e"
             ],
             [
              0.4444444444444444,
              "#bd3786"
             ],
             [
              0.5555555555555556,
              "#d8576b"
             ],
             [
              0.6666666666666666,
              "#ed7953"
             ],
             [
              0.7777777777777778,
              "#fb9f3a"
             ],
             [
              0.8888888888888888,
              "#fdca26"
             ],
             [
              1,
              "#f0f921"
             ]
            ],
            "type": "surface"
           }
          ],
          "table": [
           {
            "cells": {
             "fill": {
              "color": "#506784"
             },
             "line": {
              "color": "rgb(17,17,17)"
             }
            },
            "header": {
             "fill": {
              "color": "#2a3f5f"
             },
             "line": {
              "color": "rgb(17,17,17)"
             }
            },
            "type": "table"
           }
          ]
         },
         "layout": {
          "annotationdefaults": {
           "arrowcolor": "#f2f5fa",
           "arrowhead": 0,
           "arrowwidth": 1
          },
          "colorscale": {
           "diverging": [
            [
             0,
             "#8e0152"
            ],
            [
             0.1,
             "#c51b7d"
            ],
            [
             0.2,
             "#de77ae"
            ],
            [
             0.3,
             "#f1b6da"
            ],
            [
             0.4,
             "#fde0ef"
            ],
            [
             0.5,
             "#f7f7f7"
            ],
            [
             0.6,
             "#e6f5d0"
            ],
            [
             0.7,
             "#b8e186"
            ],
            [
             0.8,
             "#7fbc41"
            ],
            [
             0.9,
             "#4d9221"
            ],
            [
             1,
             "#276419"
            ]
           ],
           "sequential": [
            [
             0,
             "#0d0887"
            ],
            [
             0.1111111111111111,
             "#46039f"
            ],
            [
             0.2222222222222222,
             "#7201a8"
            ],
            [
             0.3333333333333333,
             "#9c179e"
            ],
            [
             0.4444444444444444,
             "#bd3786"
            ],
            [
             0.5555555555555556,
             "#d8576b"
            ],
            [
             0.6666666666666666,
             "#ed7953"
            ],
            [
             0.7777777777777778,
             "#fb9f3a"
            ],
            [
             0.8888888888888888,
             "#fdca26"
            ],
            [
             1,
             "#f0f921"
            ]
           ],
           "sequentialminus": [
            [
             0,
             "#0d0887"
            ],
            [
             0.1111111111111111,
             "#46039f"
            ],
            [
             0.2222222222222222,
             "#7201a8"
            ],
            [
             0.3333333333333333,
             "#9c179e"
            ],
            [
             0.4444444444444444,
             "#bd3786"
            ],
            [
             0.5555555555555556,
             "#d8576b"
            ],
            [
             0.6666666666666666,
             "#ed7953"
            ],
            [
             0.7777777777777778,
             "#fb9f3a"
            ],
            [
             0.8888888888888888,
             "#fdca26"
            ],
            [
             1,
             "#f0f921"
            ]
           ]
          },
          "colorway": [
           "#636efa",
           "#EF553B",
           "#00cc96",
           "#ab63fa",
           "#FFA15A",
           "#19d3f3",
           "#FF6692",
           "#B6E880",
           "#FF97FF",
           "#FECB52"
          ],
          "font": {
           "color": "#f2f5fa"
          },
          "geo": {
           "bgcolor": "rgb(17,17,17)",
           "lakecolor": "rgb(17,17,17)",
           "landcolor": "rgb(17,17,17)",
           "showlakes": true,
           "showland": true,
           "subunitcolor": "#506784"
          },
          "hoverlabel": {
           "align": "left"
          },
          "hovermode": "closest",
          "mapbox": {
           "style": "dark"
          },
          "paper_bgcolor": "rgb(17,17,17)",
          "plot_bgcolor": "rgb(17,17,17)",
          "polar": {
           "angularaxis": {
            "gridcolor": "#506784",
            "linecolor": "#506784",
            "ticks": ""
           },
           "bgcolor": "rgb(17,17,17)",
           "radialaxis": {
            "gridcolor": "#506784",
            "linecolor": "#506784",
            "ticks": ""
           }
          },
          "scene": {
           "xaxis": {
            "backgroundcolor": "rgb(17,17,17)",
            "gridcolor": "#506784",
            "gridwidth": 2,
            "linecolor": "#506784",
            "showbackground": true,
            "ticks": "",
            "zerolinecolor": "#C8D4E3"
           },
           "yaxis": {
            "backgroundcolor": "rgb(17,17,17)",
            "gridcolor": "#506784",
            "gridwidth": 2,
            "linecolor": "#506784",
            "showbackground": true,
            "ticks": "",
            "zerolinecolor": "#C8D4E3"
           },
           "zaxis": {
            "backgroundcolor": "rgb(17,17,17)",
            "gridcolor": "#506784",
            "gridwidth": 2,
            "linecolor": "#506784",
            "showbackground": true,
            "ticks": "",
            "zerolinecolor": "#C8D4E3"
           }
          },
          "shapedefaults": {
           "line": {
            "color": "#f2f5fa"
           }
          },
          "sliderdefaults": {
           "bgcolor": "#C8D4E3",
           "bordercolor": "rgb(17,17,17)",
           "borderwidth": 1,
           "tickwidth": 0
          },
          "ternary": {
           "aaxis": {
            "gridcolor": "#506784",
            "linecolor": "#506784",
            "ticks": ""
           },
           "baxis": {
            "gridcolor": "#506784",
            "linecolor": "#506784",
            "ticks": ""
           },
           "bgcolor": "rgb(17,17,17)",
           "caxis": {
            "gridcolor": "#506784",
            "linecolor": "#506784",
            "ticks": ""
           }
          },
          "title": {
           "x": 0.05
          },
          "updatemenudefaults": {
           "bgcolor": "#506784",
           "borderwidth": 0
          },
          "xaxis": {
           "automargin": true,
           "gridcolor": "#283442",
           "linecolor": "#506784",
           "ticks": "",
           "zerolinecolor": "#283442",
           "zerolinewidth": 2
          },
          "yaxis": {
           "automargin": true,
           "gridcolor": "#283442",
           "linecolor": "#506784",
           "ticks": "",
           "zerolinecolor": "#283442",
           "zerolinewidth": 2
          }
         }
        },
        "xaxis": {
         "anchor": "y",
         "domain": [
          0,
          0.98
         ],
         "title": {
          "text": "answers"
         },
         "type": "log"
        },
        "yaxis": {
         "anchor": "x",
         "domain": [
          0,
          1
         ],
         "title": {
          "text": "rep"
         },
         "type": "log"
        }
       }
      },
      "text/html": [
       "<div>\n",
       "        \n",
       "        \n",
       "            <div id=\"e99ccbc2-96cd-4822-acf4-e7e17a096f3d\" class=\"plotly-graph-div\" style=\"height:600px; width:100%;\"></div>\n",
       "            <script type=\"text/javascript\">\n",
       "                require([\"plotly\"], function(Plotly) {\n",
       "                    window.PLOTLYENV=window.PLOTLYENV || {};\n",
       "                    \n",
       "                if (document.getElementById(\"e99ccbc2-96cd-4822-acf4-e7e17a096f3d\")) {\n",
       "                    Plotly.newPlot(\n",
       "                        'e99ccbc2-96cd-4822-acf4-e7e17a096f3d',\n",
       "                        [{\"hoverlabel\": {\"namelength\": 0}, \"hovertemplate\": \"name=Neil Slater<br>rep/ans=%{marker.size}<br>answers=%{x}<br>rep=%{y}\", \"legendgroup\": \"name=Neil Slater, rep/ans=47.89821882951654\", \"marker\": {\"color\": \"#636efa\", \"size\": [47.89821882951654], \"sizemode\": \"area\", \"sizeref\": 0.1656712962962963, \"symbol\": \"circle\"}, \"mode\": \"markers\", \"name\": \"name=Neil Slater, rep/ans=47.89821882951654\", \"showlegend\": true, \"type\": \"scatter\", \"x\": [393], \"xaxis\": \"x\", \"y\": [\"18824\"], \"yaxis\": \"y\"}, {\"hoverlabel\": {\"namelength\": 0}, \"hovertemplate\": \"name=n1k31t4<br>rep/ans=%{marker.size}<br>answers=%{x}<br>rep=%{y}\", \"legendgroup\": \"name=n1k31t4, rep/ans=23.713043478260868\", \"marker\": {\"color\": \"#EF553B\", \"size\": [23.713043478260868], \"sizemode\": \"area\", \"sizeref\": 0.1656712962962963, \"symbol\": \"diamond\"}, \"mode\": \"markers\", \"name\": \"name=n1k31t4, rep/ans=23.713043478260868\", \"showlegend\": true, \"type\": \"scatter\", \"x\": [345], \"xaxis\": \"x\", \"y\": [\"8181\"], \"yaxis\": \"y\"}, {\"hoverlabel\": {\"namelength\": 0}, \"hovertemplate\": \"name=Vaalizaadeh<br>rep/ans=%{marker.size}<br>answers=%{x}<br>rep=%{y}\", \"legendgroup\": \"name=Vaalizaadeh, rep/ans=26.4741641337386\", \"marker\": {\"color\": \"#00cc96\", \"size\": [26.4741641337386], \"sizemode\": \"area\", \"sizeref\": 0.1656712962962963, \"symbol\": \"square\"}, \"mode\": \"markers\", \"name\": \"name=Vaalizaadeh, rep/ans=26.4741641337386\", \"showlegend\": true, \"type\": \"scatter\", \"x\": [329], \"xaxis\": \"x\", \"y\": [\"8710\"], \"yaxis\": \"y\"}, {\"hoverlabel\": {\"namelength\": 0}, \"hovertemplate\": \"name=Anony-Mousse<br>rep/ans=%{marker.size}<br>answers=%{x}<br>rep=%{y}\", \"legendgroup\": \"name=Anony-Mousse, rep/ans=18.372307692307693\", \"marker\": {\"color\": \"#ab63fa\", \"size\": [18.372307692307693], \"sizemode\": \"area\", \"sizeref\": 0.1656712962962963, \"symbol\": \"x\"}, \"mode\": \"markers\", \"name\": \"name=Anony-Mousse, rep/ans=18.372307692307693\", \"showlegend\": true, \"type\": \"scatter\", \"x\": [325], \"xaxis\": \"x\", \"y\": [\"5971\"], \"yaxis\": \"y\"}, {\"hoverlabel\": {\"namelength\": 0}, \"hovertemplate\": \"name=Brian Spiering<br>rep/ans=%{marker.size}<br>answers=%{x}<br>rep=%{y}\", \"legendgroup\": \"name=Brian Spiering, rep/ans=21.83613445378151\", \"marker\": {\"color\": \"#FFA15A\", \"size\": [21.83613445378151], \"sizemode\": \"area\", \"sizeref\": 0.1656712962962963, \"symbol\": \"cross\"}, \"mode\": \"markers\", \"name\": \"name=Brian Spiering, rep/ans=21.83613445378151\", \"showlegend\": true, \"type\": \"scatter\", \"x\": [238], \"xaxis\": \"x\", \"y\": [\"5197\"], \"yaxis\": \"y\"}, {\"hoverlabel\": {\"namelength\": 0}, \"hovertemplate\": \"name=Emre<br>rep/ans=%{marker.size}<br>answers=%{x}<br>rep=%{y}\", \"legendgroup\": \"name=Emre, rep/ans=39.12334801762115\", \"marker\": {\"color\": \"#19d3f3\", \"size\": [39.12334801762115], \"sizemode\": \"area\", \"sizeref\": 0.1656712962962963, \"symbol\": \"circle\"}, \"mode\": \"markers\", \"name\": \"name=Emre, rep/ans=39.12334801762115\", \"showlegend\": true, \"type\": \"scatter\", \"x\": [227], \"xaxis\": \"x\", \"y\": [\"8881\"], \"yaxis\": \"y\"}, {\"hoverlabel\": {\"namelength\": 0}, \"hovertemplate\": \"name=JahKnows<br>rep/ans=%{marker.size}<br>answers=%{x}<br>rep=%{y}\", \"legendgroup\": \"name=JahKnows, rep/ans=28.482758620689655\", \"marker\": {\"color\": \"#FF6692\", \"size\": [28.482758620689655], \"sizemode\": \"area\", \"sizeref\": 0.1656712962962963, \"symbol\": \"diamond\"}, \"mode\": \"markers\", \"name\": \"name=JahKnows, rep/ans=28.482758620689655\", \"showlegend\": true, \"type\": \"scatter\", \"x\": [203], \"xaxis\": \"x\", \"y\": [\"5782\"], \"yaxis\": \"y\"}, {\"hoverlabel\": {\"namelength\": 0}, \"hovertemplate\": \"name=Jan van der Vegt<br>rep/ans=%{marker.size}<br>answers=%{x}<br>rep=%{y}\", \"legendgroup\": \"name=Jan van der Vegt, rep/ans=38.016304347826086\", \"marker\": {\"color\": \"#B6E880\", \"size\": [38.016304347826086], \"sizemode\": \"area\", \"sizeref\": 0.1656712962962963, \"symbol\": \"square\"}, \"mode\": \"markers\", \"name\": \"name=Jan van der Vegt, rep/ans=38.016304347826086\", \"showlegend\": true, \"type\": \"scatter\", \"x\": [184], \"xaxis\": \"x\", \"y\": [\"6995\"], \"yaxis\": \"y\"}, {\"hoverlabel\": {\"namelength\": 0}, \"hovertemplate\": \"name=Esmailian<br>rep/ans=%{marker.size}<br>answers=%{x}<br>rep=%{y}\", \"legendgroup\": \"name=Esmailian, rep/ans=33.348684210526315\", \"marker\": {\"color\": \"#FF97FF\", \"size\": [33.348684210526315], \"sizemode\": \"area\", \"sizeref\": 0.1656712962962963, \"symbol\": \"x\"}, \"mode\": \"markers\", \"name\": \"name=Esmailian, rep/ans=33.348684210526315\", \"showlegend\": true, \"type\": \"scatter\", \"x\": [152], \"xaxis\": \"x\", \"y\": [\"5069\"], \"yaxis\": \"y\"}, {\"hoverlabel\": {\"namelength\": 0}, \"hovertemplate\": \"name=Kasra Manshaei<br>rep/ans=%{marker.size}<br>answers=%{x}<br>rep=%{y}\", \"legendgroup\": \"name=Kasra Manshaei, rep/ans=26.53061224489796\", \"marker\": {\"color\": \"#FECB52\", \"size\": [26.53061224489796], \"sizemode\": \"area\", \"sizeref\": 0.1656712962962963, \"symbol\": \"cross\"}, \"mode\": \"markers\", \"name\": \"name=Kasra Manshaei, rep/ans=26.53061224489796\", \"showlegend\": true, \"type\": \"scatter\", \"x\": [147], \"xaxis\": \"x\", \"y\": [\"3900\"], \"yaxis\": \"y\"}, {\"hoverlabel\": {\"namelength\": 0}, \"hovertemplate\": \"name=Peter<br>rep/ans=%{marker.size}<br>answers=%{x}<br>rep=%{y}\", \"legendgroup\": \"name=Peter, rep/ans=13.398373983739837\", \"marker\": {\"color\": \"#636efa\", \"size\": [13.398373983739837], \"sizemode\": \"area\", \"sizeref\": 0.1656712962962963, \"symbol\": \"circle\"}, \"mode\": \"markers\", \"name\": \"name=Peter, rep/ans=13.398373983739837\", \"showlegend\": true, \"type\": \"scatter\", \"x\": [123], \"xaxis\": \"x\", \"y\": [\"1648\"], \"yaxis\": \"y\"}, {\"hoverlabel\": {\"namelength\": 0}, \"hovertemplate\": \"name=oW_<br>rep/ans=%{marker.size}<br>answers=%{x}<br>rep=%{y}\", \"legendgroup\": \"name=oW_, rep/ans=33.672413793103445\", \"marker\": {\"color\": \"#EF553B\", \"size\": [33.672413793103445], \"sizemode\": \"area\", \"sizeref\": 0.1656712962962963, \"symbol\": \"diamond\"}, \"mode\": \"markers\", \"name\": \"name=oW_, rep/ans=33.672413793103445\", \"showlegend\": true, \"type\": \"scatter\", \"x\": [116], \"xaxis\": \"x\", \"y\": [\"3906\"], \"yaxis\": \"y\"}, {\"hoverlabel\": {\"namelength\": 0}, \"hovertemplate\": \"name=pcko1<br>rep/ans=%{marker.size}<br>answers=%{x}<br>rep=%{y}\", \"legendgroup\": \"name=pcko1, rep/ans=18.130434782608695\", \"marker\": {\"color\": \"#00cc96\", \"size\": [18.130434782608695], \"sizemode\": \"area\", \"sizeref\": 0.1656712962962963, \"symbol\": \"square\"}, \"mode\": \"markers\", \"name\": \"name=pcko1, rep/ans=18.130434782608695\", \"showlegend\": true, \"type\": \"scatter\", \"x\": [115], \"xaxis\": \"x\", \"y\": [\"2085\"], \"yaxis\": \"y\"}, {\"hoverlabel\": {\"namelength\": 0}, \"hovertemplate\": \"name=Erwan<br>rep/ans=%{marker.size}<br>answers=%{x}<br>rep=%{y}\", \"legendgroup\": \"name=Erwan, rep/ans=11.780701754385966\", \"marker\": {\"color\": \"#ab63fa\", \"size\": [11.780701754385966], \"sizemode\": \"area\", \"sizeref\": 0.1656712962962963, \"symbol\": \"x\"}, \"mode\": \"markers\", \"name\": \"name=Erwan, rep/ans=11.780701754385966\", \"showlegend\": true, \"type\": \"scatter\", \"x\": [114], \"xaxis\": \"x\", \"y\": [\"1343\"], \"yaxis\": \"y\"}, {\"hoverlabel\": {\"namelength\": 0}, \"hovertemplate\": \"name=Dawny33<br>rep/ans=%{marker.size}<br>answers=%{x}<br>rep=%{y}\", \"legendgroup\": \"name=Dawny33, rep/ans=51.767857142857146\", \"marker\": {\"color\": \"#FFA15A\", \"size\": [51.767857142857146], \"sizemode\": \"area\", \"sizeref\": 0.1656712962962963, \"symbol\": \"cross\"}, \"mode\": \"markers\", \"name\": \"name=Dawny33, rep/ans=51.767857142857146\", \"showlegend\": true, \"type\": \"scatter\", \"x\": [112], \"xaxis\": \"x\", \"y\": [\"5798\"], \"yaxis\": \"y\"}, {\"hoverlabel\": {\"namelength\": 0}, \"hovertemplate\": \"name=Juan Esteban de la Calle<br>rep/ans=%{marker.size}<br>answers=%{x}<br>rep=%{y}\", \"legendgroup\": \"name=Juan Esteban de la Calle, rep/ans=13.925925925925926\", \"marker\": {\"color\": \"#19d3f3\", \"size\": [13.925925925925926], \"sizemode\": \"area\", \"sizeref\": 0.1656712962962963, \"symbol\": \"circle\"}, \"mode\": \"markers\", \"name\": \"name=Juan Esteban de la Calle, rep/ans=13.925925925925926\", \"showlegend\": true, \"type\": \"scatter\", \"x\": [108], \"xaxis\": \"x\", \"y\": [\"1504\"], \"yaxis\": \"y\"}, {\"hoverlabel\": {\"namelength\": 0}, \"hovertemplate\": \"name=Martin Thoma<br>rep/ans=%{marker.size}<br>answers=%{x}<br>rep=%{y}\", \"legendgroup\": \"name=Martin Thoma, rep/ans=66.26851851851852\", \"marker\": {\"color\": \"#FF6692\", \"size\": [66.26851851851852], \"sizemode\": \"area\", \"sizeref\": 0.1656712962962963, \"symbol\": \"diamond\"}, \"mode\": \"markers\", \"name\": \"name=Martin Thoma, rep/ans=66.26851851851852\", \"showlegend\": true, \"type\": \"scatter\", \"x\": [108], \"xaxis\": \"x\", \"y\": [\"7157\"], \"yaxis\": \"y\"}, {\"hoverlabel\": {\"namelength\": 0}, \"hovertemplate\": \"name=Ben Reiniger<br>rep/ans=%{marker.size}<br>answers=%{x}<br>rep=%{y}\", \"legendgroup\": \"name=Ben Reiniger, rep/ans=16.39622641509434\", \"marker\": {\"color\": \"#B6E880\", \"size\": [16.39622641509434], \"sizemode\": \"area\", \"sizeref\": 0.1656712962962963, \"symbol\": \"square\"}, \"mode\": \"markers\", \"name\": \"name=Ben Reiniger, rep/ans=16.39622641509434\", \"showlegend\": true, \"type\": \"scatter\", \"x\": [106], \"xaxis\": \"x\", \"y\": [\"1738\"], \"yaxis\": \"y\"}, {\"hoverlabel\": {\"namelength\": 0}, \"hovertemplate\": \"name=Shamit Verma<br>rep/ans=%{marker.size}<br>answers=%{x}<br>rep=%{y}\", \"legendgroup\": \"name=Shamit Verma, rep/ans=16.865384615384617\", \"marker\": {\"color\": \"#FF97FF\", \"size\": [16.865384615384617], \"sizemode\": \"area\", \"sizeref\": 0.1656712962962963, \"symbol\": \"x\"}, \"mode\": \"markers\", \"name\": \"name=Shamit Verma, rep/ans=16.865384615384617\", \"showlegend\": true, \"type\": \"scatter\", \"x\": [104], \"xaxis\": \"x\", \"y\": [\"1754\"], \"yaxis\": \"y\"}, {\"hoverlabel\": {\"namelength\": 0}, \"hovertemplate\": \"name=ncasas<br>rep/ans=%{marker.size}<br>answers=%{x}<br>rep=%{y}\", \"legendgroup\": \"name=ncasas, rep/ans=40.786407766990294\", \"marker\": {\"color\": \"#FECB52\", \"size\": [40.786407766990294], \"sizemode\": \"area\", \"sizeref\": 0.1656712962962963, \"symbol\": \"cross\"}, \"mode\": \"markers\", \"name\": \"name=ncasas, rep/ans=40.786407766990294\", \"showlegend\": true, \"type\": \"scatter\", \"x\": [103], \"xaxis\": \"x\", \"y\": [\"4201\"], \"yaxis\": \"y\"}],\n",
       "                        {\"height\": 600, \"legend\": {\"itemsizing\": \"constant\", \"tracegroupgap\": 0}, \"margin\": {\"t\": 60}, \"template\": {\"data\": {\"bar\": [{\"error_x\": {\"color\": \"#f2f5fa\"}, \"error_y\": {\"color\": \"#f2f5fa\"}, \"marker\": {\"line\": {\"color\": \"rgb(17,17,17)\", \"width\": 0.5}}, \"type\": \"bar\"}], \"barpolar\": [{\"marker\": {\"line\": {\"color\": \"rgb(17,17,17)\", \"width\": 0.5}}, \"type\": \"barpolar\"}], \"carpet\": [{\"aaxis\": {\"endlinecolor\": \"#A2B1C6\", \"gridcolor\": \"#506784\", \"linecolor\": \"#506784\", \"minorgridcolor\": \"#506784\", \"startlinecolor\": \"#A2B1C6\"}, \"baxis\": {\"endlinecolor\": \"#A2B1C6\", \"gridcolor\": \"#506784\", \"linecolor\": \"#506784\", \"minorgridcolor\": \"#506784\", \"startlinecolor\": \"#A2B1C6\"}, \"type\": \"carpet\"}], \"choropleth\": [{\"colorbar\": {\"outlinewidth\": 0, \"ticks\": \"\"}, \"type\": \"choropleth\"}], \"contour\": [{\"colorbar\": {\"outlinewidth\": 0, \"ticks\": \"\"}, \"colorscale\": [[0.0, \"#0d0887\"], [0.1111111111111111, \"#46039f\"], [0.2222222222222222, \"#7201a8\"], [0.3333333333333333, \"#9c179e\"], [0.4444444444444444, \"#bd3786\"], [0.5555555555555556, \"#d8576b\"], [0.6666666666666666, \"#ed7953\"], [0.7777777777777778, \"#fb9f3a\"], [0.8888888888888888, \"#fdca26\"], [1.0, \"#f0f921\"]], \"type\": \"contour\"}], \"contourcarpet\": [{\"colorbar\": {\"outlinewidth\": 0, \"ticks\": \"\"}, \"type\": \"contourcarpet\"}], \"heatmap\": [{\"colorbar\": {\"outlinewidth\": 0, \"ticks\": \"\"}, \"colorscale\": [[0.0, \"#0d0887\"], [0.1111111111111111, \"#46039f\"], [0.2222222222222222, \"#7201a8\"], [0.3333333333333333, \"#9c179e\"], [0.4444444444444444, \"#bd3786\"], [0.5555555555555556, \"#d8576b\"], [0.6666666666666666, \"#ed7953\"], [0.7777777777777778, \"#fb9f3a\"], [0.8888888888888888, \"#fdca26\"], [1.0, \"#f0f921\"]], \"type\": \"heatmap\"}], \"heatmapgl\": [{\"colorbar\": {\"outlinewidth\": 0, \"ticks\": \"\"}, \"colorscale\": [[0.0, \"#0d0887\"], [0.1111111111111111, \"#46039f\"], [0.2222222222222222, \"#7201a8\"], [0.3333333333333333, \"#9c179e\"], [0.4444444444444444, \"#bd3786\"], [0.5555555555555556, \"#d8576b\"], [0.6666666666666666, \"#ed7953\"], [0.7777777777777778, \"#fb9f3a\"], [0.8888888888888888, \"#fdca26\"], [1.0, \"#f0f921\"]], \"type\": \"heatmapgl\"}], \"histogram\": [{\"marker\": {\"colorbar\": {\"outlinewidth\": 0, \"ticks\": \"\"}}, \"type\": \"histogram\"}], \"histogram2d\": [{\"colorbar\": {\"outlinewidth\": 0, \"ticks\": \"\"}, \"colorscale\": [[0.0, \"#0d0887\"], [0.1111111111111111, \"#46039f\"], [0.2222222222222222, \"#7201a8\"], [0.3333333333333333, \"#9c179e\"], [0.4444444444444444, \"#bd3786\"], [0.5555555555555556, \"#d8576b\"], [0.6666666666666666, \"#ed7953\"], [0.7777777777777778, \"#fb9f3a\"], [0.8888888888888888, \"#fdca26\"], [1.0, \"#f0f921\"]], \"type\": \"histogram2d\"}], \"histogram2dcontour\": [{\"colorbar\": {\"outlinewidth\": 0, \"ticks\": \"\"}, \"colorscale\": [[0.0, \"#0d0887\"], [0.1111111111111111, \"#46039f\"], [0.2222222222222222, \"#7201a8\"], [0.3333333333333333, \"#9c179e\"], [0.4444444444444444, \"#bd3786\"], [0.5555555555555556, \"#d8576b\"], [0.6666666666666666, \"#ed7953\"], [0.7777777777777778, \"#fb9f3a\"], [0.8888888888888888, \"#fdca26\"], [1.0, \"#f0f921\"]], \"type\": \"histogram2dcontour\"}], \"mesh3d\": [{\"colorbar\": {\"outlinewidth\": 0, \"ticks\": \"\"}, \"type\": \"mesh3d\"}], \"parcoords\": [{\"line\": {\"colorbar\": {\"outlinewidth\": 0, \"ticks\": \"\"}}, \"type\": \"parcoords\"}], \"scatter\": [{\"marker\": {\"line\": {\"color\": \"#283442\"}}, \"type\": \"scatter\"}], \"scatter3d\": [{\"line\": {\"colorbar\": {\"outlinewidth\": 0, \"ticks\": \"\"}}, \"marker\": {\"colorbar\": {\"outlinewidth\": 0, \"ticks\": \"\"}}, \"type\": \"scatter3d\"}], \"scattercarpet\": [{\"marker\": {\"colorbar\": {\"outlinewidth\": 0, \"ticks\": \"\"}}, \"type\": \"scattercarpet\"}], \"scattergeo\": [{\"marker\": {\"colorbar\": {\"outlinewidth\": 0, \"ticks\": \"\"}}, \"type\": \"scattergeo\"}], \"scattergl\": [{\"marker\": {\"line\": {\"color\": \"#283442\"}}, \"type\": \"scattergl\"}], \"scattermapbox\": [{\"marker\": {\"colorbar\": {\"outlinewidth\": 0, \"ticks\": \"\"}}, \"type\": \"scattermapbox\"}], \"scatterpolar\": [{\"marker\": {\"colorbar\": {\"outlinewidth\": 0, \"ticks\": \"\"}}, \"type\": \"scatterpolar\"}], \"scatterpolargl\": [{\"marker\": {\"colorbar\": {\"outlinewidth\": 0, \"ticks\": \"\"}}, \"type\": \"scatterpolargl\"}], \"scatterternary\": [{\"marker\": {\"colorbar\": {\"outlinewidth\": 0, \"ticks\": \"\"}}, \"type\": \"scatterternary\"}], \"surface\": [{\"colorbar\": {\"outlinewidth\": 0, \"ticks\": \"\"}, \"colorscale\": [[0.0, \"#0d0887\"], [0.1111111111111111, \"#46039f\"], [0.2222222222222222, \"#7201a8\"], [0.3333333333333333, \"#9c179e\"], [0.4444444444444444, \"#bd3786\"], [0.5555555555555556, \"#d8576b\"], [0.6666666666666666, \"#ed7953\"], [0.7777777777777778, \"#fb9f3a\"], [0.8888888888888888, \"#fdca26\"], [1.0, \"#f0f921\"]], \"type\": \"surface\"}], \"table\": [{\"cells\": {\"fill\": {\"color\": \"#506784\"}, \"line\": {\"color\": \"rgb(17,17,17)\"}}, \"header\": {\"fill\": {\"color\": \"#2a3f5f\"}, \"line\": {\"color\": \"rgb(17,17,17)\"}}, \"type\": \"table\"}]}, \"layout\": {\"annotationdefaults\": {\"arrowcolor\": \"#f2f5fa\", \"arrowhead\": 0, \"arrowwidth\": 1}, \"colorscale\": {\"diverging\": [[0, \"#8e0152\"], [0.1, \"#c51b7d\"], [0.2, \"#de77ae\"], [0.3, \"#f1b6da\"], [0.4, \"#fde0ef\"], [0.5, \"#f7f7f7\"], [0.6, \"#e6f5d0\"], [0.7, \"#b8e186\"], [0.8, \"#7fbc41\"], [0.9, \"#4d9221\"], [1, \"#276419\"]], \"sequential\": [[0.0, \"#0d0887\"], [0.1111111111111111, \"#46039f\"], [0.2222222222222222, \"#7201a8\"], [0.3333333333333333, \"#9c179e\"], [0.4444444444444444, \"#bd3786\"], [0.5555555555555556, \"#d8576b\"], [0.6666666666666666, \"#ed7953\"], [0.7777777777777778, \"#fb9f3a\"], [0.8888888888888888, \"#fdca26\"], [1.0, \"#f0f921\"]], \"sequentialminus\": [[0.0, \"#0d0887\"], [0.1111111111111111, \"#46039f\"], [0.2222222222222222, \"#7201a8\"], [0.3333333333333333, \"#9c179e\"], [0.4444444444444444, \"#bd3786\"], [0.5555555555555556, \"#d8576b\"], [0.6666666666666666, \"#ed7953\"], [0.7777777777777778, \"#fb9f3a\"], [0.8888888888888888, \"#fdca26\"], [1.0, \"#f0f921\"]]}, \"colorway\": [\"#636efa\", \"#EF553B\", \"#00cc96\", \"#ab63fa\", \"#FFA15A\", \"#19d3f3\", \"#FF6692\", \"#B6E880\", \"#FF97FF\", \"#FECB52\"], \"font\": {\"color\": \"#f2f5fa\"}, \"geo\": {\"bgcolor\": \"rgb(17,17,17)\", \"lakecolor\": \"rgb(17,17,17)\", \"landcolor\": \"rgb(17,17,17)\", \"showlakes\": true, \"showland\": true, \"subunitcolor\": \"#506784\"}, \"hoverlabel\": {\"align\": \"left\"}, \"hovermode\": \"closest\", \"mapbox\": {\"style\": \"dark\"}, \"paper_bgcolor\": \"rgb(17,17,17)\", \"plot_bgcolor\": \"rgb(17,17,17)\", \"polar\": {\"angularaxis\": {\"gridcolor\": \"#506784\", \"linecolor\": \"#506784\", \"ticks\": \"\"}, \"bgcolor\": \"rgb(17,17,17)\", \"radialaxis\": {\"gridcolor\": \"#506784\", \"linecolor\": \"#506784\", \"ticks\": \"\"}}, \"scene\": {\"xaxis\": {\"backgroundcolor\": \"rgb(17,17,17)\", \"gridcolor\": \"#506784\", \"gridwidth\": 2, \"linecolor\": \"#506784\", \"showbackground\": true, \"ticks\": \"\", \"zerolinecolor\": \"#C8D4E3\"}, \"yaxis\": {\"backgroundcolor\": \"rgb(17,17,17)\", \"gridcolor\": \"#506784\", \"gridwidth\": 2, \"linecolor\": \"#506784\", \"showbackground\": true, \"ticks\": \"\", \"zerolinecolor\": \"#C8D4E3\"}, \"zaxis\": {\"backgroundcolor\": \"rgb(17,17,17)\", \"gridcolor\": \"#506784\", \"gridwidth\": 2, \"linecolor\": \"#506784\", \"showbackground\": true, \"ticks\": \"\", \"zerolinecolor\": \"#C8D4E3\"}}, \"shapedefaults\": {\"line\": {\"color\": \"#f2f5fa\"}}, \"sliderdefaults\": {\"bgcolor\": \"#C8D4E3\", \"bordercolor\": \"rgb(17,17,17)\", \"borderwidth\": 1, \"tickwidth\": 0}, \"ternary\": {\"aaxis\": {\"gridcolor\": \"#506784\", \"linecolor\": \"#506784\", \"ticks\": \"\"}, \"baxis\": {\"gridcolor\": \"#506784\", \"linecolor\": \"#506784\", \"ticks\": \"\"}, \"bgcolor\": \"rgb(17,17,17)\", \"caxis\": {\"gridcolor\": \"#506784\", \"linecolor\": \"#506784\", \"ticks\": \"\"}}, \"title\": {\"x\": 0.05}, \"updatemenudefaults\": {\"bgcolor\": \"#506784\", \"borderwidth\": 0}, \"xaxis\": {\"automargin\": true, \"gridcolor\": \"#283442\", \"linecolor\": \"#506784\", \"ticks\": \"\", \"zerolinecolor\": \"#283442\", \"zerolinewidth\": 2}, \"yaxis\": {\"automargin\": true, \"gridcolor\": \"#283442\", \"linecolor\": \"#506784\", \"ticks\": \"\", \"zerolinecolor\": \"#283442\", \"zerolinewidth\": 2}}}, \"xaxis\": {\"anchor\": \"y\", \"domain\": [0.0, 0.98], \"title\": {\"text\": \"answers\"}, \"type\": \"log\"}, \"yaxis\": {\"anchor\": \"x\", \"domain\": [0.0, 1.0], \"title\": {\"text\": \"rep\"}, \"type\": \"log\"}},\n",
       "                        {\"responsive\": true}\n",
       "                    ).then(function(){\n",
       "                            \n",
       "var gd = document.getElementById('e99ccbc2-96cd-4822-acf4-e7e17a096f3d');\n",
       "var x = new MutationObserver(function (mutations, observer) {{\n",
       "        var display = window.getComputedStyle(gd).display;\n",
       "        if (!display || display === 'none') {{\n",
       "            console.log([gd, 'removed!']);\n",
       "            Plotly.purge(gd);\n",
       "            observer.disconnect();\n",
       "        }}\n",
       "}});\n",
       "\n",
       "// Listen for the removal of the full notebook cells\n",
       "var notebookContainer = gd.closest('#notebook-container');\n",
       "if (notebookContainer) {{\n",
       "    x.observe(notebookContainer, {childList: true});\n",
       "}}\n",
       "\n",
       "// Listen for the clearing of the current output cell\n",
       "var outputEl = gd.closest('.output');\n",
       "if (outputEl) {{\n",
       "    x.observe(outputEl, {childList: true});\n",
       "}}\n",
       "\n",
       "                        })\n",
       "                };\n",
       "                });\n",
       "            </script>\n",
       "        </div>"
      ]
     },
     "metadata": {},
     "output_type": "display_data"
    }
   ],
   "source": [
    "fig = px.scatter(the3, x=\"answers\", y=\"rep\", color=\"name\", size=\"rep/ans\", symbol=\"rep/ans\", log_x=True, log_y=True, template='plotly_dark')\n",
    "fig.show()"
   ]
  },
  {
   "cell_type": "code",
   "execution_count": 140,
   "metadata": {},
   "outputs": [
    {
     "data": {
      "application/vnd.plotly.v1+json": {
       "config": {
        "plotlyServerURL": "https://plot.ly"
       },
       "data": [
        {
         "hoverlabel": {
          "namelength": 0
         },
         "hovertemplate": "name=Neil Slater<br>answers=%{marker.size}<br>rep=%{x}<br>rep/ans=%{y}",
         "legendgroup": "name=Neil Slater, answers=393",
         "marker": {
          "color": "#636efa",
          "size": [
           393
          ],
          "sizemode": "area",
          "sizeref": 0.9825,
          "symbol": "circle"
         },
         "mode": "markers",
         "name": "name=Neil Slater, answers=393",
         "showlegend": true,
         "type": "scatter",
         "x": [
          "18824"
         ],
         "xaxis": "x",
         "y": [
          47.89821882951654
         ],
         "yaxis": "y"
        },
        {
         "hoverlabel": {
          "namelength": 0
         },
         "hovertemplate": "name=n1k31t4<br>answers=%{marker.size}<br>rep=%{x}<br>rep/ans=%{y}",
         "legendgroup": "name=n1k31t4, answers=345",
         "marker": {
          "color": "#EF553B",
          "size": [
           345
          ],
          "sizemode": "area",
          "sizeref": 0.9825,
          "symbol": "diamond"
         },
         "mode": "markers",
         "name": "name=n1k31t4, answers=345",
         "showlegend": true,
         "type": "scatter",
         "x": [
          "8181"
         ],
         "xaxis": "x",
         "y": [
          23.713043478260868
         ],
         "yaxis": "y"
        },
        {
         "hoverlabel": {
          "namelength": 0
         },
         "hovertemplate": "name=Vaalizaadeh<br>answers=%{marker.size}<br>rep=%{x}<br>rep/ans=%{y}",
         "legendgroup": "name=Vaalizaadeh, answers=329",
         "marker": {
          "color": "#00cc96",
          "size": [
           329
          ],
          "sizemode": "area",
          "sizeref": 0.9825,
          "symbol": "square"
         },
         "mode": "markers",
         "name": "name=Vaalizaadeh, answers=329",
         "showlegend": true,
         "type": "scatter",
         "x": [
          "8710"
         ],
         "xaxis": "x",
         "y": [
          26.4741641337386
         ],
         "yaxis": "y"
        },
        {
         "hoverlabel": {
          "namelength": 0
         },
         "hovertemplate": "name=Anony-Mousse<br>answers=%{marker.size}<br>rep=%{x}<br>rep/ans=%{y}",
         "legendgroup": "name=Anony-Mousse, answers=325",
         "marker": {
          "color": "#ab63fa",
          "size": [
           325
          ],
          "sizemode": "area",
          "sizeref": 0.9825,
          "symbol": "x"
         },
         "mode": "markers",
         "name": "name=Anony-Mousse, answers=325",
         "showlegend": true,
         "type": "scatter",
         "x": [
          "5971"
         ],
         "xaxis": "x",
         "y": [
          18.372307692307693
         ],
         "yaxis": "y"
        },
        {
         "hoverlabel": {
          "namelength": 0
         },
         "hovertemplate": "name=Brian Spiering<br>answers=%{marker.size}<br>rep=%{x}<br>rep/ans=%{y}",
         "legendgroup": "name=Brian Spiering, answers=238",
         "marker": {
          "color": "#FFA15A",
          "size": [
           238
          ],
          "sizemode": "area",
          "sizeref": 0.9825,
          "symbol": "cross"
         },
         "mode": "markers",
         "name": "name=Brian Spiering, answers=238",
         "showlegend": true,
         "type": "scatter",
         "x": [
          "5197"
         ],
         "xaxis": "x",
         "y": [
          21.83613445378151
         ],
         "yaxis": "y"
        },
        {
         "hoverlabel": {
          "namelength": 0
         },
         "hovertemplate": "name=Emre<br>answers=%{marker.size}<br>rep=%{x}<br>rep/ans=%{y}",
         "legendgroup": "name=Emre, answers=227",
         "marker": {
          "color": "#19d3f3",
          "size": [
           227
          ],
          "sizemode": "area",
          "sizeref": 0.9825,
          "symbol": "circle"
         },
         "mode": "markers",
         "name": "name=Emre, answers=227",
         "showlegend": true,
         "type": "scatter",
         "x": [
          "8881"
         ],
         "xaxis": "x",
         "y": [
          39.12334801762115
         ],
         "yaxis": "y"
        },
        {
         "hoverlabel": {
          "namelength": 0
         },
         "hovertemplate": "name=JahKnows<br>answers=%{marker.size}<br>rep=%{x}<br>rep/ans=%{y}",
         "legendgroup": "name=JahKnows, answers=203",
         "marker": {
          "color": "#FF6692",
          "size": [
           203
          ],
          "sizemode": "area",
          "sizeref": 0.9825,
          "symbol": "diamond"
         },
         "mode": "markers",
         "name": "name=JahKnows, answers=203",
         "showlegend": true,
         "type": "scatter",
         "x": [
          "5782"
         ],
         "xaxis": "x",
         "y": [
          28.482758620689655
         ],
         "yaxis": "y"
        },
        {
         "hoverlabel": {
          "namelength": 0
         },
         "hovertemplate": "name=Jan van der Vegt<br>answers=%{marker.size}<br>rep=%{x}<br>rep/ans=%{y}",
         "legendgroup": "name=Jan van der Vegt, answers=184",
         "marker": {
          "color": "#B6E880",
          "size": [
           184
          ],
          "sizemode": "area",
          "sizeref": 0.9825,
          "symbol": "square"
         },
         "mode": "markers",
         "name": "name=Jan van der Vegt, answers=184",
         "showlegend": true,
         "type": "scatter",
         "x": [
          "6995"
         ],
         "xaxis": "x",
         "y": [
          38.016304347826086
         ],
         "yaxis": "y"
        },
        {
         "hoverlabel": {
          "namelength": 0
         },
         "hovertemplate": "name=Esmailian<br>answers=%{marker.size}<br>rep=%{x}<br>rep/ans=%{y}",
         "legendgroup": "name=Esmailian, answers=152",
         "marker": {
          "color": "#FF97FF",
          "size": [
           152
          ],
          "sizemode": "area",
          "sizeref": 0.9825,
          "symbol": "x"
         },
         "mode": "markers",
         "name": "name=Esmailian, answers=152",
         "showlegend": true,
         "type": "scatter",
         "x": [
          "5069"
         ],
         "xaxis": "x",
         "y": [
          33.348684210526315
         ],
         "yaxis": "y"
        },
        {
         "hoverlabel": {
          "namelength": 0
         },
         "hovertemplate": "name=Kasra Manshaei<br>answers=%{marker.size}<br>rep=%{x}<br>rep/ans=%{y}",
         "legendgroup": "name=Kasra Manshaei, answers=147",
         "marker": {
          "color": "#FECB52",
          "size": [
           147
          ],
          "sizemode": "area",
          "sizeref": 0.9825,
          "symbol": "cross"
         },
         "mode": "markers",
         "name": "name=Kasra Manshaei, answers=147",
         "showlegend": true,
         "type": "scatter",
         "x": [
          "3900"
         ],
         "xaxis": "x",
         "y": [
          26.53061224489796
         ],
         "yaxis": "y"
        },
        {
         "hoverlabel": {
          "namelength": 0
         },
         "hovertemplate": "name=Peter<br>answers=%{marker.size}<br>rep=%{x}<br>rep/ans=%{y}",
         "legendgroup": "name=Peter, answers=123",
         "marker": {
          "color": "#636efa",
          "size": [
           123
          ],
          "sizemode": "area",
          "sizeref": 0.9825,
          "symbol": "circle"
         },
         "mode": "markers",
         "name": "name=Peter, answers=123",
         "showlegend": true,
         "type": "scatter",
         "x": [
          "1648"
         ],
         "xaxis": "x",
         "y": [
          13.398373983739837
         ],
         "yaxis": "y"
        },
        {
         "hoverlabel": {
          "namelength": 0
         },
         "hovertemplate": "name=oW_<br>answers=%{marker.size}<br>rep=%{x}<br>rep/ans=%{y}",
         "legendgroup": "name=oW_, answers=116",
         "marker": {
          "color": "#EF553B",
          "size": [
           116
          ],
          "sizemode": "area",
          "sizeref": 0.9825,
          "symbol": "diamond"
         },
         "mode": "markers",
         "name": "name=oW_, answers=116",
         "showlegend": true,
         "type": "scatter",
         "x": [
          "3906"
         ],
         "xaxis": "x",
         "y": [
          33.672413793103445
         ],
         "yaxis": "y"
        },
        {
         "hoverlabel": {
          "namelength": 0
         },
         "hovertemplate": "name=pcko1<br>answers=%{marker.size}<br>rep=%{x}<br>rep/ans=%{y}",
         "legendgroup": "name=pcko1, answers=115",
         "marker": {
          "color": "#00cc96",
          "size": [
           115
          ],
          "sizemode": "area",
          "sizeref": 0.9825,
          "symbol": "square"
         },
         "mode": "markers",
         "name": "name=pcko1, answers=115",
         "showlegend": true,
         "type": "scatter",
         "x": [
          "2085"
         ],
         "xaxis": "x",
         "y": [
          18.130434782608695
         ],
         "yaxis": "y"
        },
        {
         "hoverlabel": {
          "namelength": 0
         },
         "hovertemplate": "name=Erwan<br>answers=%{marker.size}<br>rep=%{x}<br>rep/ans=%{y}",
         "legendgroup": "name=Erwan, answers=114",
         "marker": {
          "color": "#ab63fa",
          "size": [
           114
          ],
          "sizemode": "area",
          "sizeref": 0.9825,
          "symbol": "x"
         },
         "mode": "markers",
         "name": "name=Erwan, answers=114",
         "showlegend": true,
         "type": "scatter",
         "x": [
          "1343"
         ],
         "xaxis": "x",
         "y": [
          11.780701754385966
         ],
         "yaxis": "y"
        },
        {
         "hoverlabel": {
          "namelength": 0
         },
         "hovertemplate": "name=Dawny33<br>answers=%{marker.size}<br>rep=%{x}<br>rep/ans=%{y}",
         "legendgroup": "name=Dawny33, answers=112",
         "marker": {
          "color": "#FFA15A",
          "size": [
           112
          ],
          "sizemode": "area",
          "sizeref": 0.9825,
          "symbol": "cross"
         },
         "mode": "markers",
         "name": "name=Dawny33, answers=112",
         "showlegend": true,
         "type": "scatter",
         "x": [
          "5798"
         ],
         "xaxis": "x",
         "y": [
          51.767857142857146
         ],
         "yaxis": "y"
        },
        {
         "hoverlabel": {
          "namelength": 0
         },
         "hovertemplate": "name=Juan Esteban de la Calle<br>answers=%{marker.size}<br>rep=%{x}<br>rep/ans=%{y}",
         "legendgroup": "name=Juan Esteban de la Calle, answers=108",
         "marker": {
          "color": "#19d3f3",
          "size": [
           108
          ],
          "sizemode": "area",
          "sizeref": 0.9825,
          "symbol": "circle"
         },
         "mode": "markers",
         "name": "name=Juan Esteban de la Calle, answers=108",
         "showlegend": true,
         "type": "scatter",
         "x": [
          "1504"
         ],
         "xaxis": "x",
         "y": [
          13.925925925925926
         ],
         "yaxis": "y"
        },
        {
         "hoverlabel": {
          "namelength": 0
         },
         "hovertemplate": "name=Martin Thoma<br>answers=%{marker.size}<br>rep=%{x}<br>rep/ans=%{y}",
         "legendgroup": "name=Martin Thoma, answers=108",
         "marker": {
          "color": "#FF6692",
          "size": [
           108
          ],
          "sizemode": "area",
          "sizeref": 0.9825,
          "symbol": "circle"
         },
         "mode": "markers",
         "name": "name=Martin Thoma, answers=108",
         "showlegend": true,
         "type": "scatter",
         "x": [
          "7157"
         ],
         "xaxis": "x",
         "y": [
          66.26851851851852
         ],
         "yaxis": "y"
        },
        {
         "hoverlabel": {
          "namelength": 0
         },
         "hovertemplate": "name=Ben Reiniger<br>answers=%{marker.size}<br>rep=%{x}<br>rep/ans=%{y}",
         "legendgroup": "name=Ben Reiniger, answers=106",
         "marker": {
          "color": "#B6E880",
          "size": [
           106
          ],
          "sizemode": "area",
          "sizeref": 0.9825,
          "symbol": "diamond"
         },
         "mode": "markers",
         "name": "name=Ben Reiniger, answers=106",
         "showlegend": true,
         "type": "scatter",
         "x": [
          "1738"
         ],
         "xaxis": "x",
         "y": [
          16.39622641509434
         ],
         "yaxis": "y"
        },
        {
         "hoverlabel": {
          "namelength": 0
         },
         "hovertemplate": "name=Shamit Verma<br>answers=%{marker.size}<br>rep=%{x}<br>rep/ans=%{y}",
         "legendgroup": "name=Shamit Verma, answers=104",
         "marker": {
          "color": "#FF97FF",
          "size": [
           104
          ],
          "sizemode": "area",
          "sizeref": 0.9825,
          "symbol": "square"
         },
         "mode": "markers",
         "name": "name=Shamit Verma, answers=104",
         "showlegend": true,
         "type": "scatter",
         "x": [
          "1754"
         ],
         "xaxis": "x",
         "y": [
          16.865384615384617
         ],
         "yaxis": "y"
        },
        {
         "hoverlabel": {
          "namelength": 0
         },
         "hovertemplate": "name=ncasas<br>answers=%{marker.size}<br>rep=%{x}<br>rep/ans=%{y}",
         "legendgroup": "name=ncasas, answers=103",
         "marker": {
          "color": "#FECB52",
          "size": [
           103
          ],
          "sizemode": "area",
          "sizeref": 0.9825,
          "symbol": "x"
         },
         "mode": "markers",
         "name": "name=ncasas, answers=103",
         "showlegend": true,
         "type": "scatter",
         "x": [
          "4201"
         ],
         "xaxis": "x",
         "y": [
          40.786407766990294
         ],
         "yaxis": "y"
        }
       ],
       "layout": {
        "height": 600,
        "legend": {
         "itemsizing": "constant",
         "tracegroupgap": 0
        },
        "margin": {
         "t": 60
        },
        "template": {
         "data": {
          "bar": [
           {
            "error_x": {
             "color": "#f2f5fa"
            },
            "error_y": {
             "color": "#f2f5fa"
            },
            "marker": {
             "line": {
              "color": "rgb(17,17,17)",
              "width": 0.5
             }
            },
            "type": "bar"
           }
          ],
          "barpolar": [
           {
            "marker": {
             "line": {
              "color": "rgb(17,17,17)",
              "width": 0.5
             }
            },
            "type": "barpolar"
           }
          ],
          "carpet": [
           {
            "aaxis": {
             "endlinecolor": "#A2B1C6",
             "gridcolor": "#506784",
             "linecolor": "#506784",
             "minorgridcolor": "#506784",
             "startlinecolor": "#A2B1C6"
            },
            "baxis": {
             "endlinecolor": "#A2B1C6",
             "gridcolor": "#506784",
             "linecolor": "#506784",
             "minorgridcolor": "#506784",
             "startlinecolor": "#A2B1C6"
            },
            "type": "carpet"
           }
          ],
          "choropleth": [
           {
            "colorbar": {
             "outlinewidth": 0,
             "ticks": ""
            },
            "type": "choropleth"
           }
          ],
          "contour": [
           {
            "colorbar": {
             "outlinewidth": 0,
             "ticks": ""
            },
            "colorscale": [
             [
              0,
              "#0d0887"
             ],
             [
              0.1111111111111111,
              "#46039f"
             ],
             [
              0.2222222222222222,
              "#7201a8"
             ],
             [
              0.3333333333333333,
              "#9c179e"
             ],
             [
              0.4444444444444444,
              "#bd3786"
             ],
             [
              0.5555555555555556,
              "#d8576b"
             ],
             [
              0.6666666666666666,
              "#ed7953"
             ],
             [
              0.7777777777777778,
              "#fb9f3a"
             ],
             [
              0.8888888888888888,
              "#fdca26"
             ],
             [
              1,
              "#f0f921"
             ]
            ],
            "type": "contour"
           }
          ],
          "contourcarpet": [
           {
            "colorbar": {
             "outlinewidth": 0,
             "ticks": ""
            },
            "type": "contourcarpet"
           }
          ],
          "heatmap": [
           {
            "colorbar": {
             "outlinewidth": 0,
             "ticks": ""
            },
            "colorscale": [
             [
              0,
              "#0d0887"
             ],
             [
              0.1111111111111111,
              "#46039f"
             ],
             [
              0.2222222222222222,
              "#7201a8"
             ],
             [
              0.3333333333333333,
              "#9c179e"
             ],
             [
              0.4444444444444444,
              "#bd3786"
             ],
             [
              0.5555555555555556,
              "#d8576b"
             ],
             [
              0.6666666666666666,
              "#ed7953"
             ],
             [
              0.7777777777777778,
              "#fb9f3a"
             ],
             [
              0.8888888888888888,
              "#fdca26"
             ],
             [
              1,
              "#f0f921"
             ]
            ],
            "type": "heatmap"
           }
          ],
          "heatmapgl": [
           {
            "colorbar": {
             "outlinewidth": 0,
             "ticks": ""
            },
            "colorscale": [
             [
              0,
              "#0d0887"
             ],
             [
              0.1111111111111111,
              "#46039f"
             ],
             [
              0.2222222222222222,
              "#7201a8"
             ],
             [
              0.3333333333333333,
              "#9c179e"
             ],
             [
              0.4444444444444444,
              "#bd3786"
             ],
             [
              0.5555555555555556,
              "#d8576b"
             ],
             [
              0.6666666666666666,
              "#ed7953"
             ],
             [
              0.7777777777777778,
              "#fb9f3a"
             ],
             [
              0.8888888888888888,
              "#fdca26"
             ],
             [
              1,
              "#f0f921"
             ]
            ],
            "type": "heatmapgl"
           }
          ],
          "histogram": [
           {
            "marker": {
             "colorbar": {
              "outlinewidth": 0,
              "ticks": ""
             }
            },
            "type": "histogram"
           }
          ],
          "histogram2d": [
           {
            "colorbar": {
             "outlinewidth": 0,
             "ticks": ""
            },
            "colorscale": [
             [
              0,
              "#0d0887"
             ],
             [
              0.1111111111111111,
              "#46039f"
             ],
             [
              0.2222222222222222,
              "#7201a8"
             ],
             [
              0.3333333333333333,
              "#9c179e"
             ],
             [
              0.4444444444444444,
              "#bd3786"
             ],
             [
              0.5555555555555556,
              "#d8576b"
             ],
             [
              0.6666666666666666,
              "#ed7953"
             ],
             [
              0.7777777777777778,
              "#fb9f3a"
             ],
             [
              0.8888888888888888,
              "#fdca26"
             ],
             [
              1,
              "#f0f921"
             ]
            ],
            "type": "histogram2d"
           }
          ],
          "histogram2dcontour": [
           {
            "colorbar": {
             "outlinewidth": 0,
             "ticks": ""
            },
            "colorscale": [
             [
              0,
              "#0d0887"
             ],
             [
              0.1111111111111111,
              "#46039f"
             ],
             [
              0.2222222222222222,
              "#7201a8"
             ],
             [
              0.3333333333333333,
              "#9c179e"
             ],
             [
              0.4444444444444444,
              "#bd3786"
             ],
             [
              0.5555555555555556,
              "#d8576b"
             ],
             [
              0.6666666666666666,
              "#ed7953"
             ],
             [
              0.7777777777777778,
              "#fb9f3a"
             ],
             [
              0.8888888888888888,
              "#fdca26"
             ],
             [
              1,
              "#f0f921"
             ]
            ],
            "type": "histogram2dcontour"
           }
          ],
          "mesh3d": [
           {
            "colorbar": {
             "outlinewidth": 0,
             "ticks": ""
            },
            "type": "mesh3d"
           }
          ],
          "parcoords": [
           {
            "line": {
             "colorbar": {
              "outlinewidth": 0,
              "ticks": ""
             }
            },
            "type": "parcoords"
           }
          ],
          "scatter": [
           {
            "marker": {
             "line": {
              "color": "#283442"
             }
            },
            "type": "scatter"
           }
          ],
          "scatter3d": [
           {
            "line": {
             "colorbar": {
              "outlinewidth": 0,
              "ticks": ""
             }
            },
            "marker": {
             "colorbar": {
              "outlinewidth": 0,
              "ticks": ""
             }
            },
            "type": "scatter3d"
           }
          ],
          "scattercarpet": [
           {
            "marker": {
             "colorbar": {
              "outlinewidth": 0,
              "ticks": ""
             }
            },
            "type": "scattercarpet"
           }
          ],
          "scattergeo": [
           {
            "marker": {
             "colorbar": {
              "outlinewidth": 0,
              "ticks": ""
             }
            },
            "type": "scattergeo"
           }
          ],
          "scattergl": [
           {
            "marker": {
             "line": {
              "color": "#283442"
             }
            },
            "type": "scattergl"
           }
          ],
          "scattermapbox": [
           {
            "marker": {
             "colorbar": {
              "outlinewidth": 0,
              "ticks": ""
             }
            },
            "type": "scattermapbox"
           }
          ],
          "scatterpolar": [
           {
            "marker": {
             "colorbar": {
              "outlinewidth": 0,
              "ticks": ""
             }
            },
            "type": "scatterpolar"
           }
          ],
          "scatterpolargl": [
           {
            "marker": {
             "colorbar": {
              "outlinewidth": 0,
              "ticks": ""
             }
            },
            "type": "scatterpolargl"
           }
          ],
          "scatterternary": [
           {
            "marker": {
             "colorbar": {
              "outlinewidth": 0,
              "ticks": ""
             }
            },
            "type": "scatterternary"
           }
          ],
          "surface": [
           {
            "colorbar": {
             "outlinewidth": 0,
             "ticks": ""
            },
            "colorscale": [
             [
              0,
              "#0d0887"
             ],
             [
              0.1111111111111111,
              "#46039f"
             ],
             [
              0.2222222222222222,
              "#7201a8"
             ],
             [
              0.3333333333333333,
              "#9c179e"
             ],
             [
              0.4444444444444444,
              "#bd3786"
             ],
             [
              0.5555555555555556,
              "#d8576b"
             ],
             [
              0.6666666666666666,
              "#ed7953"
             ],
             [
              0.7777777777777778,
              "#fb9f3a"
             ],
             [
              0.8888888888888888,
              "#fdca26"
             ],
             [
              1,
              "#f0f921"
             ]
            ],
            "type": "surface"
           }
          ],
          "table": [
           {
            "cells": {
             "fill": {
              "color": "#506784"
             },
             "line": {
              "color": "rgb(17,17,17)"
             }
            },
            "header": {
             "fill": {
              "color": "#2a3f5f"
             },
             "line": {
              "color": "rgb(17,17,17)"
             }
            },
            "type": "table"
           }
          ]
         },
         "layout": {
          "annotationdefaults": {
           "arrowcolor": "#f2f5fa",
           "arrowhead": 0,
           "arrowwidth": 1
          },
          "colorscale": {
           "diverging": [
            [
             0,
             "#8e0152"
            ],
            [
             0.1,
             "#c51b7d"
            ],
            [
             0.2,
             "#de77ae"
            ],
            [
             0.3,
             "#f1b6da"
            ],
            [
             0.4,
             "#fde0ef"
            ],
            [
             0.5,
             "#f7f7f7"
            ],
            [
             0.6,
             "#e6f5d0"
            ],
            [
             0.7,
             "#b8e186"
            ],
            [
             0.8,
             "#7fbc41"
            ],
            [
             0.9,
             "#4d9221"
            ],
            [
             1,
             "#276419"
            ]
           ],
           "sequential": [
            [
             0,
             "#0d0887"
            ],
            [
             0.1111111111111111,
             "#46039f"
            ],
            [
             0.2222222222222222,
             "#7201a8"
            ],
            [
             0.3333333333333333,
             "#9c179e"
            ],
            [
             0.4444444444444444,
             "#bd3786"
            ],
            [
             0.5555555555555556,
             "#d8576b"
            ],
            [
             0.6666666666666666,
             "#ed7953"
            ],
            [
             0.7777777777777778,
             "#fb9f3a"
            ],
            [
             0.8888888888888888,
             "#fdca26"
            ],
            [
             1,
             "#f0f921"
            ]
           ],
           "sequentialminus": [
            [
             0,
             "#0d0887"
            ],
            [
             0.1111111111111111,
             "#46039f"
            ],
            [
             0.2222222222222222,
             "#7201a8"
            ],
            [
             0.3333333333333333,
             "#9c179e"
            ],
            [
             0.4444444444444444,
             "#bd3786"
            ],
            [
             0.5555555555555556,
             "#d8576b"
            ],
            [
             0.6666666666666666,
             "#ed7953"
            ],
            [
             0.7777777777777778,
             "#fb9f3a"
            ],
            [
             0.8888888888888888,
             "#fdca26"
            ],
            [
             1,
             "#f0f921"
            ]
           ]
          },
          "colorway": [
           "#636efa",
           "#EF553B",
           "#00cc96",
           "#ab63fa",
           "#FFA15A",
           "#19d3f3",
           "#FF6692",
           "#B6E880",
           "#FF97FF",
           "#FECB52"
          ],
          "font": {
           "color": "#f2f5fa"
          },
          "geo": {
           "bgcolor": "rgb(17,17,17)",
           "lakecolor": "rgb(17,17,17)",
           "landcolor": "rgb(17,17,17)",
           "showlakes": true,
           "showland": true,
           "subunitcolor": "#506784"
          },
          "hoverlabel": {
           "align": "left"
          },
          "hovermode": "closest",
          "mapbox": {
           "style": "dark"
          },
          "paper_bgcolor": "rgb(17,17,17)",
          "plot_bgcolor": "rgb(17,17,17)",
          "polar": {
           "angularaxis": {
            "gridcolor": "#506784",
            "linecolor": "#506784",
            "ticks": ""
           },
           "bgcolor": "rgb(17,17,17)",
           "radialaxis": {
            "gridcolor": "#506784",
            "linecolor": "#506784",
            "ticks": ""
           }
          },
          "scene": {
           "xaxis": {
            "backgroundcolor": "rgb(17,17,17)",
            "gridcolor": "#506784",
            "gridwidth": 2,
            "linecolor": "#506784",
            "showbackground": true,
            "ticks": "",
            "zerolinecolor": "#C8D4E3"
           },
           "yaxis": {
            "backgroundcolor": "rgb(17,17,17)",
            "gridcolor": "#506784",
            "gridwidth": 2,
            "linecolor": "#506784",
            "showbackground": true,
            "ticks": "",
            "zerolinecolor": "#C8D4E3"
           },
           "zaxis": {
            "backgroundcolor": "rgb(17,17,17)",
            "gridcolor": "#506784",
            "gridwidth": 2,
            "linecolor": "#506784",
            "showbackground": true,
            "ticks": "",
            "zerolinecolor": "#C8D4E3"
           }
          },
          "shapedefaults": {
           "line": {
            "color": "#f2f5fa"
           }
          },
          "sliderdefaults": {
           "bgcolor": "#C8D4E3",
           "bordercolor": "rgb(17,17,17)",
           "borderwidth": 1,
           "tickwidth": 0
          },
          "ternary": {
           "aaxis": {
            "gridcolor": "#506784",
            "linecolor": "#506784",
            "ticks": ""
           },
           "baxis": {
            "gridcolor": "#506784",
            "linecolor": "#506784",
            "ticks": ""
           },
           "bgcolor": "rgb(17,17,17)",
           "caxis": {
            "gridcolor": "#506784",
            "linecolor": "#506784",
            "ticks": ""
           }
          },
          "title": {
           "x": 0.05
          },
          "updatemenudefaults": {
           "bgcolor": "#506784",
           "borderwidth": 0
          },
          "xaxis": {
           "automargin": true,
           "gridcolor": "#283442",
           "linecolor": "#506784",
           "ticks": "",
           "zerolinecolor": "#283442",
           "zerolinewidth": 2
          },
          "yaxis": {
           "automargin": true,
           "gridcolor": "#283442",
           "linecolor": "#506784",
           "ticks": "",
           "zerolinecolor": "#283442",
           "zerolinewidth": 2
          }
         }
        },
        "xaxis": {
         "anchor": "y",
         "domain": [
          0,
          0.98
         ],
         "title": {
          "text": "rep"
         },
         "type": "log"
        },
        "yaxis": {
         "anchor": "x",
         "domain": [
          0,
          1
         ],
         "title": {
          "text": "rep/ans"
         },
         "type": "log"
        }
       }
      },
      "text/html": [
       "<div>\n",
       "        \n",
       "        \n",
       "            <div id=\"a3a5ee53-591d-48b0-ad4a-550f7c14d4d3\" class=\"plotly-graph-div\" style=\"height:600px; width:100%;\"></div>\n",
       "            <script type=\"text/javascript\">\n",
       "                require([\"plotly\"], function(Plotly) {\n",
       "                    window.PLOTLYENV=window.PLOTLYENV || {};\n",
       "                    \n",
       "                if (document.getElementById(\"a3a5ee53-591d-48b0-ad4a-550f7c14d4d3\")) {\n",
       "                    Plotly.newPlot(\n",
       "                        'a3a5ee53-591d-48b0-ad4a-550f7c14d4d3',\n",
       "                        [{\"hoverlabel\": {\"namelength\": 0}, \"hovertemplate\": \"name=Neil Slater<br>answers=%{marker.size}<br>rep=%{x}<br>rep/ans=%{y}\", \"legendgroup\": \"name=Neil Slater, answers=393\", \"marker\": {\"color\": \"#636efa\", \"size\": [393], \"sizemode\": \"area\", \"sizeref\": 0.9825, \"symbol\": \"circle\"}, \"mode\": \"markers\", \"name\": \"name=Neil Slater, answers=393\", \"showlegend\": true, \"type\": \"scatter\", \"x\": [\"18824\"], \"xaxis\": \"x\", \"y\": [47.89821882951654], \"yaxis\": \"y\"}, {\"hoverlabel\": {\"namelength\": 0}, \"hovertemplate\": \"name=n1k31t4<br>answers=%{marker.size}<br>rep=%{x}<br>rep/ans=%{y}\", \"legendgroup\": \"name=n1k31t4, answers=345\", \"marker\": {\"color\": \"#EF553B\", \"size\": [345], \"sizemode\": \"area\", \"sizeref\": 0.9825, \"symbol\": \"diamond\"}, \"mode\": \"markers\", \"name\": \"name=n1k31t4, answers=345\", \"showlegend\": true, \"type\": \"scatter\", \"x\": [\"8181\"], \"xaxis\": \"x\", \"y\": [23.713043478260868], \"yaxis\": \"y\"}, {\"hoverlabel\": {\"namelength\": 0}, \"hovertemplate\": \"name=Vaalizaadeh<br>answers=%{marker.size}<br>rep=%{x}<br>rep/ans=%{y}\", \"legendgroup\": \"name=Vaalizaadeh, answers=329\", \"marker\": {\"color\": \"#00cc96\", \"size\": [329], \"sizemode\": \"area\", \"sizeref\": 0.9825, \"symbol\": \"square\"}, \"mode\": \"markers\", \"name\": \"name=Vaalizaadeh, answers=329\", \"showlegend\": true, \"type\": \"scatter\", \"x\": [\"8710\"], \"xaxis\": \"x\", \"y\": [26.4741641337386], \"yaxis\": \"y\"}, {\"hoverlabel\": {\"namelength\": 0}, \"hovertemplate\": \"name=Anony-Mousse<br>answers=%{marker.size}<br>rep=%{x}<br>rep/ans=%{y}\", \"legendgroup\": \"name=Anony-Mousse, answers=325\", \"marker\": {\"color\": \"#ab63fa\", \"size\": [325], \"sizemode\": \"area\", \"sizeref\": 0.9825, \"symbol\": \"x\"}, \"mode\": \"markers\", \"name\": \"name=Anony-Mousse, answers=325\", \"showlegend\": true, \"type\": \"scatter\", \"x\": [\"5971\"], \"xaxis\": \"x\", \"y\": [18.372307692307693], \"yaxis\": \"y\"}, {\"hoverlabel\": {\"namelength\": 0}, \"hovertemplate\": \"name=Brian Spiering<br>answers=%{marker.size}<br>rep=%{x}<br>rep/ans=%{y}\", \"legendgroup\": \"name=Brian Spiering, answers=238\", \"marker\": {\"color\": \"#FFA15A\", \"size\": [238], \"sizemode\": \"area\", \"sizeref\": 0.9825, \"symbol\": \"cross\"}, \"mode\": \"markers\", \"name\": \"name=Brian Spiering, answers=238\", \"showlegend\": true, \"type\": \"scatter\", \"x\": [\"5197\"], \"xaxis\": \"x\", \"y\": [21.83613445378151], \"yaxis\": \"y\"}, {\"hoverlabel\": {\"namelength\": 0}, \"hovertemplate\": \"name=Emre<br>answers=%{marker.size}<br>rep=%{x}<br>rep/ans=%{y}\", \"legendgroup\": \"name=Emre, answers=227\", \"marker\": {\"color\": \"#19d3f3\", \"size\": [227], \"sizemode\": \"area\", \"sizeref\": 0.9825, \"symbol\": \"circle\"}, \"mode\": \"markers\", \"name\": \"name=Emre, answers=227\", \"showlegend\": true, \"type\": \"scatter\", \"x\": [\"8881\"], \"xaxis\": \"x\", \"y\": [39.12334801762115], \"yaxis\": \"y\"}, {\"hoverlabel\": {\"namelength\": 0}, \"hovertemplate\": \"name=JahKnows<br>answers=%{marker.size}<br>rep=%{x}<br>rep/ans=%{y}\", \"legendgroup\": \"name=JahKnows, answers=203\", \"marker\": {\"color\": \"#FF6692\", \"size\": [203], \"sizemode\": \"area\", \"sizeref\": 0.9825, \"symbol\": \"diamond\"}, \"mode\": \"markers\", \"name\": \"name=JahKnows, answers=203\", \"showlegend\": true, \"type\": \"scatter\", \"x\": [\"5782\"], \"xaxis\": \"x\", \"y\": [28.482758620689655], \"yaxis\": \"y\"}, {\"hoverlabel\": {\"namelength\": 0}, \"hovertemplate\": \"name=Jan van der Vegt<br>answers=%{marker.size}<br>rep=%{x}<br>rep/ans=%{y}\", \"legendgroup\": \"name=Jan van der Vegt, answers=184\", \"marker\": {\"color\": \"#B6E880\", \"size\": [184], \"sizemode\": \"area\", \"sizeref\": 0.9825, \"symbol\": \"square\"}, \"mode\": \"markers\", \"name\": \"name=Jan van der Vegt, answers=184\", \"showlegend\": true, \"type\": \"scatter\", \"x\": [\"6995\"], \"xaxis\": \"x\", \"y\": [38.016304347826086], \"yaxis\": \"y\"}, {\"hoverlabel\": {\"namelength\": 0}, \"hovertemplate\": \"name=Esmailian<br>answers=%{marker.size}<br>rep=%{x}<br>rep/ans=%{y}\", \"legendgroup\": \"name=Esmailian, answers=152\", \"marker\": {\"color\": \"#FF97FF\", \"size\": [152], \"sizemode\": \"area\", \"sizeref\": 0.9825, \"symbol\": \"x\"}, \"mode\": \"markers\", \"name\": \"name=Esmailian, answers=152\", \"showlegend\": true, \"type\": \"scatter\", \"x\": [\"5069\"], \"xaxis\": \"x\", \"y\": [33.348684210526315], \"yaxis\": \"y\"}, {\"hoverlabel\": {\"namelength\": 0}, \"hovertemplate\": \"name=Kasra Manshaei<br>answers=%{marker.size}<br>rep=%{x}<br>rep/ans=%{y}\", \"legendgroup\": \"name=Kasra Manshaei, answers=147\", \"marker\": {\"color\": \"#FECB52\", \"size\": [147], \"sizemode\": \"area\", \"sizeref\": 0.9825, \"symbol\": \"cross\"}, \"mode\": \"markers\", \"name\": \"name=Kasra Manshaei, answers=147\", \"showlegend\": true, \"type\": \"scatter\", \"x\": [\"3900\"], \"xaxis\": \"x\", \"y\": [26.53061224489796], \"yaxis\": \"y\"}, {\"hoverlabel\": {\"namelength\": 0}, \"hovertemplate\": \"name=Peter<br>answers=%{marker.size}<br>rep=%{x}<br>rep/ans=%{y}\", \"legendgroup\": \"name=Peter, answers=123\", \"marker\": {\"color\": \"#636efa\", \"size\": [123], \"sizemode\": \"area\", \"sizeref\": 0.9825, \"symbol\": \"circle\"}, \"mode\": \"markers\", \"name\": \"name=Peter, answers=123\", \"showlegend\": true, \"type\": \"scatter\", \"x\": [\"1648\"], \"xaxis\": \"x\", \"y\": [13.398373983739837], \"yaxis\": \"y\"}, {\"hoverlabel\": {\"namelength\": 0}, \"hovertemplate\": \"name=oW_<br>answers=%{marker.size}<br>rep=%{x}<br>rep/ans=%{y}\", \"legendgroup\": \"name=oW_, answers=116\", \"marker\": {\"color\": \"#EF553B\", \"size\": [116], \"sizemode\": \"area\", \"sizeref\": 0.9825, \"symbol\": \"diamond\"}, \"mode\": \"markers\", \"name\": \"name=oW_, answers=116\", \"showlegend\": true, \"type\": \"scatter\", \"x\": [\"3906\"], \"xaxis\": \"x\", \"y\": [33.672413793103445], \"yaxis\": \"y\"}, {\"hoverlabel\": {\"namelength\": 0}, \"hovertemplate\": \"name=pcko1<br>answers=%{marker.size}<br>rep=%{x}<br>rep/ans=%{y}\", \"legendgroup\": \"name=pcko1, answers=115\", \"marker\": {\"color\": \"#00cc96\", \"size\": [115], \"sizemode\": \"area\", \"sizeref\": 0.9825, \"symbol\": \"square\"}, \"mode\": \"markers\", \"name\": \"name=pcko1, answers=115\", \"showlegend\": true, \"type\": \"scatter\", \"x\": [\"2085\"], \"xaxis\": \"x\", \"y\": [18.130434782608695], \"yaxis\": \"y\"}, {\"hoverlabel\": {\"namelength\": 0}, \"hovertemplate\": \"name=Erwan<br>answers=%{marker.size}<br>rep=%{x}<br>rep/ans=%{y}\", \"legendgroup\": \"name=Erwan, answers=114\", \"marker\": {\"color\": \"#ab63fa\", \"size\": [114], \"sizemode\": \"area\", \"sizeref\": 0.9825, \"symbol\": \"x\"}, \"mode\": \"markers\", \"name\": \"name=Erwan, answers=114\", \"showlegend\": true, \"type\": \"scatter\", \"x\": [\"1343\"], \"xaxis\": \"x\", \"y\": [11.780701754385966], \"yaxis\": \"y\"}, {\"hoverlabel\": {\"namelength\": 0}, \"hovertemplate\": \"name=Dawny33<br>answers=%{marker.size}<br>rep=%{x}<br>rep/ans=%{y}\", \"legendgroup\": \"name=Dawny33, answers=112\", \"marker\": {\"color\": \"#FFA15A\", \"size\": [112], \"sizemode\": \"area\", \"sizeref\": 0.9825, \"symbol\": \"cross\"}, \"mode\": \"markers\", \"name\": \"name=Dawny33, answers=112\", \"showlegend\": true, \"type\": \"scatter\", \"x\": [\"5798\"], \"xaxis\": \"x\", \"y\": [51.767857142857146], \"yaxis\": \"y\"}, {\"hoverlabel\": {\"namelength\": 0}, \"hovertemplate\": \"name=Juan Esteban de la Calle<br>answers=%{marker.size}<br>rep=%{x}<br>rep/ans=%{y}\", \"legendgroup\": \"name=Juan Esteban de la Calle, answers=108\", \"marker\": {\"color\": \"#19d3f3\", \"size\": [108], \"sizemode\": \"area\", \"sizeref\": 0.9825, \"symbol\": \"circle\"}, \"mode\": \"markers\", \"name\": \"name=Juan Esteban de la Calle, answers=108\", \"showlegend\": true, \"type\": \"scatter\", \"x\": [\"1504\"], \"xaxis\": \"x\", \"y\": [13.925925925925926], \"yaxis\": \"y\"}, {\"hoverlabel\": {\"namelength\": 0}, \"hovertemplate\": \"name=Martin Thoma<br>answers=%{marker.size}<br>rep=%{x}<br>rep/ans=%{y}\", \"legendgroup\": \"name=Martin Thoma, answers=108\", \"marker\": {\"color\": \"#FF6692\", \"size\": [108], \"sizemode\": \"area\", \"sizeref\": 0.9825, \"symbol\": \"circle\"}, \"mode\": \"markers\", \"name\": \"name=Martin Thoma, answers=108\", \"showlegend\": true, \"type\": \"scatter\", \"x\": [\"7157\"], \"xaxis\": \"x\", \"y\": [66.26851851851852], \"yaxis\": \"y\"}, {\"hoverlabel\": {\"namelength\": 0}, \"hovertemplate\": \"name=Ben Reiniger<br>answers=%{marker.size}<br>rep=%{x}<br>rep/ans=%{y}\", \"legendgroup\": \"name=Ben Reiniger, answers=106\", \"marker\": {\"color\": \"#B6E880\", \"size\": [106], \"sizemode\": \"area\", \"sizeref\": 0.9825, \"symbol\": \"diamond\"}, \"mode\": \"markers\", \"name\": \"name=Ben Reiniger, answers=106\", \"showlegend\": true, \"type\": \"scatter\", \"x\": [\"1738\"], \"xaxis\": \"x\", \"y\": [16.39622641509434], \"yaxis\": \"y\"}, {\"hoverlabel\": {\"namelength\": 0}, \"hovertemplate\": \"name=Shamit Verma<br>answers=%{marker.size}<br>rep=%{x}<br>rep/ans=%{y}\", \"legendgroup\": \"name=Shamit Verma, answers=104\", \"marker\": {\"color\": \"#FF97FF\", \"size\": [104], \"sizemode\": \"area\", \"sizeref\": 0.9825, \"symbol\": \"square\"}, \"mode\": \"markers\", \"name\": \"name=Shamit Verma, answers=104\", \"showlegend\": true, \"type\": \"scatter\", \"x\": [\"1754\"], \"xaxis\": \"x\", \"y\": [16.865384615384617], \"yaxis\": \"y\"}, {\"hoverlabel\": {\"namelength\": 0}, \"hovertemplate\": \"name=ncasas<br>answers=%{marker.size}<br>rep=%{x}<br>rep/ans=%{y}\", \"legendgroup\": \"name=ncasas, answers=103\", \"marker\": {\"color\": \"#FECB52\", \"size\": [103], \"sizemode\": \"area\", \"sizeref\": 0.9825, \"symbol\": \"x\"}, \"mode\": \"markers\", \"name\": \"name=ncasas, answers=103\", \"showlegend\": true, \"type\": \"scatter\", \"x\": [\"4201\"], \"xaxis\": \"x\", \"y\": [40.786407766990294], \"yaxis\": \"y\"}],\n",
       "                        {\"height\": 600, \"legend\": {\"itemsizing\": \"constant\", \"tracegroupgap\": 0}, \"margin\": {\"t\": 60}, \"template\": {\"data\": {\"bar\": [{\"error_x\": {\"color\": \"#f2f5fa\"}, \"error_y\": {\"color\": \"#f2f5fa\"}, \"marker\": {\"line\": {\"color\": \"rgb(17,17,17)\", \"width\": 0.5}}, \"type\": \"bar\"}], \"barpolar\": [{\"marker\": {\"line\": {\"color\": \"rgb(17,17,17)\", \"width\": 0.5}}, \"type\": \"barpolar\"}], \"carpet\": [{\"aaxis\": {\"endlinecolor\": \"#A2B1C6\", \"gridcolor\": \"#506784\", \"linecolor\": \"#506784\", \"minorgridcolor\": \"#506784\", \"startlinecolor\": \"#A2B1C6\"}, \"baxis\": {\"endlinecolor\": \"#A2B1C6\", \"gridcolor\": \"#506784\", \"linecolor\": \"#506784\", \"minorgridcolor\": \"#506784\", \"startlinecolor\": \"#A2B1C6\"}, \"type\": \"carpet\"}], \"choropleth\": [{\"colorbar\": {\"outlinewidth\": 0, \"ticks\": \"\"}, \"type\": \"choropleth\"}], \"contour\": [{\"colorbar\": {\"outlinewidth\": 0, \"ticks\": \"\"}, \"colorscale\": [[0.0, \"#0d0887\"], [0.1111111111111111, \"#46039f\"], [0.2222222222222222, \"#7201a8\"], [0.3333333333333333, \"#9c179e\"], [0.4444444444444444, \"#bd3786\"], [0.5555555555555556, \"#d8576b\"], [0.6666666666666666, \"#ed7953\"], [0.7777777777777778, \"#fb9f3a\"], [0.8888888888888888, \"#fdca26\"], [1.0, \"#f0f921\"]], \"type\": \"contour\"}], \"contourcarpet\": [{\"colorbar\": {\"outlinewidth\": 0, \"ticks\": \"\"}, \"type\": \"contourcarpet\"}], \"heatmap\": [{\"colorbar\": {\"outlinewidth\": 0, \"ticks\": \"\"}, \"colorscale\": [[0.0, \"#0d0887\"], [0.1111111111111111, \"#46039f\"], [0.2222222222222222, \"#7201a8\"], [0.3333333333333333, \"#9c179e\"], [0.4444444444444444, \"#bd3786\"], [0.5555555555555556, \"#d8576b\"], [0.6666666666666666, \"#ed7953\"], [0.7777777777777778, \"#fb9f3a\"], [0.8888888888888888, \"#fdca26\"], [1.0, \"#f0f921\"]], \"type\": \"heatmap\"}], \"heatmapgl\": [{\"colorbar\": {\"outlinewidth\": 0, \"ticks\": \"\"}, \"colorscale\": [[0.0, \"#0d0887\"], [0.1111111111111111, \"#46039f\"], [0.2222222222222222, \"#7201a8\"], [0.3333333333333333, \"#9c179e\"], [0.4444444444444444, \"#bd3786\"], [0.5555555555555556, \"#d8576b\"], [0.6666666666666666, \"#ed7953\"], [0.7777777777777778, \"#fb9f3a\"], [0.8888888888888888, \"#fdca26\"], [1.0, \"#f0f921\"]], \"type\": \"heatmapgl\"}], \"histogram\": [{\"marker\": {\"colorbar\": {\"outlinewidth\": 0, \"ticks\": \"\"}}, \"type\": \"histogram\"}], \"histogram2d\": [{\"colorbar\": {\"outlinewidth\": 0, \"ticks\": \"\"}, \"colorscale\": [[0.0, \"#0d0887\"], [0.1111111111111111, \"#46039f\"], [0.2222222222222222, \"#7201a8\"], [0.3333333333333333, \"#9c179e\"], [0.4444444444444444, \"#bd3786\"], [0.5555555555555556, \"#d8576b\"], [0.6666666666666666, \"#ed7953\"], [0.7777777777777778, \"#fb9f3a\"], [0.8888888888888888, \"#fdca26\"], [1.0, \"#f0f921\"]], \"type\": \"histogram2d\"}], \"histogram2dcontour\": [{\"colorbar\": {\"outlinewidth\": 0, \"ticks\": \"\"}, \"colorscale\": [[0.0, \"#0d0887\"], [0.1111111111111111, \"#46039f\"], [0.2222222222222222, \"#7201a8\"], [0.3333333333333333, \"#9c179e\"], [0.4444444444444444, \"#bd3786\"], [0.5555555555555556, \"#d8576b\"], [0.6666666666666666, \"#ed7953\"], [0.7777777777777778, \"#fb9f3a\"], [0.8888888888888888, \"#fdca26\"], [1.0, \"#f0f921\"]], \"type\": \"histogram2dcontour\"}], \"mesh3d\": [{\"colorbar\": {\"outlinewidth\": 0, \"ticks\": \"\"}, \"type\": \"mesh3d\"}], \"parcoords\": [{\"line\": {\"colorbar\": {\"outlinewidth\": 0, \"ticks\": \"\"}}, \"type\": \"parcoords\"}], \"scatter\": [{\"marker\": {\"line\": {\"color\": \"#283442\"}}, \"type\": \"scatter\"}], \"scatter3d\": [{\"line\": {\"colorbar\": {\"outlinewidth\": 0, \"ticks\": \"\"}}, \"marker\": {\"colorbar\": {\"outlinewidth\": 0, \"ticks\": \"\"}}, \"type\": \"scatter3d\"}], \"scattercarpet\": [{\"marker\": {\"colorbar\": {\"outlinewidth\": 0, \"ticks\": \"\"}}, \"type\": \"scattercarpet\"}], \"scattergeo\": [{\"marker\": {\"colorbar\": {\"outlinewidth\": 0, \"ticks\": \"\"}}, \"type\": \"scattergeo\"}], \"scattergl\": [{\"marker\": {\"line\": {\"color\": \"#283442\"}}, \"type\": \"scattergl\"}], \"scattermapbox\": [{\"marker\": {\"colorbar\": {\"outlinewidth\": 0, \"ticks\": \"\"}}, \"type\": \"scattermapbox\"}], \"scatterpolar\": [{\"marker\": {\"colorbar\": {\"outlinewidth\": 0, \"ticks\": \"\"}}, \"type\": \"scatterpolar\"}], \"scatterpolargl\": [{\"marker\": {\"colorbar\": {\"outlinewidth\": 0, \"ticks\": \"\"}}, \"type\": \"scatterpolargl\"}], \"scatterternary\": [{\"marker\": {\"colorbar\": {\"outlinewidth\": 0, \"ticks\": \"\"}}, \"type\": \"scatterternary\"}], \"surface\": [{\"colorbar\": {\"outlinewidth\": 0, \"ticks\": \"\"}, \"colorscale\": [[0.0, \"#0d0887\"], [0.1111111111111111, \"#46039f\"], [0.2222222222222222, \"#7201a8\"], [0.3333333333333333, \"#9c179e\"], [0.4444444444444444, \"#bd3786\"], [0.5555555555555556, \"#d8576b\"], [0.6666666666666666, \"#ed7953\"], [0.7777777777777778, \"#fb9f3a\"], [0.8888888888888888, \"#fdca26\"], [1.0, \"#f0f921\"]], \"type\": \"surface\"}], \"table\": [{\"cells\": {\"fill\": {\"color\": \"#506784\"}, \"line\": {\"color\": \"rgb(17,17,17)\"}}, \"header\": {\"fill\": {\"color\": \"#2a3f5f\"}, \"line\": {\"color\": \"rgb(17,17,17)\"}}, \"type\": \"table\"}]}, \"layout\": {\"annotationdefaults\": {\"arrowcolor\": \"#f2f5fa\", \"arrowhead\": 0, \"arrowwidth\": 1}, \"colorscale\": {\"diverging\": [[0, \"#8e0152\"], [0.1, \"#c51b7d\"], [0.2, \"#de77ae\"], [0.3, \"#f1b6da\"], [0.4, \"#fde0ef\"], [0.5, \"#f7f7f7\"], [0.6, \"#e6f5d0\"], [0.7, \"#b8e186\"], [0.8, \"#7fbc41\"], [0.9, \"#4d9221\"], [1, \"#276419\"]], \"sequential\": [[0.0, \"#0d0887\"], [0.1111111111111111, \"#46039f\"], [0.2222222222222222, \"#7201a8\"], [0.3333333333333333, \"#9c179e\"], [0.4444444444444444, \"#bd3786\"], [0.5555555555555556, \"#d8576b\"], [0.6666666666666666, \"#ed7953\"], [0.7777777777777778, \"#fb9f3a\"], [0.8888888888888888, \"#fdca26\"], [1.0, \"#f0f921\"]], \"sequentialminus\": [[0.0, \"#0d0887\"], [0.1111111111111111, \"#46039f\"], [0.2222222222222222, \"#7201a8\"], [0.3333333333333333, \"#9c179e\"], [0.4444444444444444, \"#bd3786\"], [0.5555555555555556, \"#d8576b\"], [0.6666666666666666, \"#ed7953\"], [0.7777777777777778, \"#fb9f3a\"], [0.8888888888888888, \"#fdca26\"], [1.0, \"#f0f921\"]]}, \"colorway\": [\"#636efa\", \"#EF553B\", \"#00cc96\", \"#ab63fa\", \"#FFA15A\", \"#19d3f3\", \"#FF6692\", \"#B6E880\", \"#FF97FF\", \"#FECB52\"], \"font\": {\"color\": \"#f2f5fa\"}, \"geo\": {\"bgcolor\": \"rgb(17,17,17)\", \"lakecolor\": \"rgb(17,17,17)\", \"landcolor\": \"rgb(17,17,17)\", \"showlakes\": true, \"showland\": true, \"subunitcolor\": \"#506784\"}, \"hoverlabel\": {\"align\": \"left\"}, \"hovermode\": \"closest\", \"mapbox\": {\"style\": \"dark\"}, \"paper_bgcolor\": \"rgb(17,17,17)\", \"plot_bgcolor\": \"rgb(17,17,17)\", \"polar\": {\"angularaxis\": {\"gridcolor\": \"#506784\", \"linecolor\": \"#506784\", \"ticks\": \"\"}, \"bgcolor\": \"rgb(17,17,17)\", \"radialaxis\": {\"gridcolor\": \"#506784\", \"linecolor\": \"#506784\", \"ticks\": \"\"}}, \"scene\": {\"xaxis\": {\"backgroundcolor\": \"rgb(17,17,17)\", \"gridcolor\": \"#506784\", \"gridwidth\": 2, \"linecolor\": \"#506784\", \"showbackground\": true, \"ticks\": \"\", \"zerolinecolor\": \"#C8D4E3\"}, \"yaxis\": {\"backgroundcolor\": \"rgb(17,17,17)\", \"gridcolor\": \"#506784\", \"gridwidth\": 2, \"linecolor\": \"#506784\", \"showbackground\": true, \"ticks\": \"\", \"zerolinecolor\": \"#C8D4E3\"}, \"zaxis\": {\"backgroundcolor\": \"rgb(17,17,17)\", \"gridcolor\": \"#506784\", \"gridwidth\": 2, \"linecolor\": \"#506784\", \"showbackground\": true, \"ticks\": \"\", \"zerolinecolor\": \"#C8D4E3\"}}, \"shapedefaults\": {\"line\": {\"color\": \"#f2f5fa\"}}, \"sliderdefaults\": {\"bgcolor\": \"#C8D4E3\", \"bordercolor\": \"rgb(17,17,17)\", \"borderwidth\": 1, \"tickwidth\": 0}, \"ternary\": {\"aaxis\": {\"gridcolor\": \"#506784\", \"linecolor\": \"#506784\", \"ticks\": \"\"}, \"baxis\": {\"gridcolor\": \"#506784\", \"linecolor\": \"#506784\", \"ticks\": \"\"}, \"bgcolor\": \"rgb(17,17,17)\", \"caxis\": {\"gridcolor\": \"#506784\", \"linecolor\": \"#506784\", \"ticks\": \"\"}}, \"title\": {\"x\": 0.05}, \"updatemenudefaults\": {\"bgcolor\": \"#506784\", \"borderwidth\": 0}, \"xaxis\": {\"automargin\": true, \"gridcolor\": \"#283442\", \"linecolor\": \"#506784\", \"ticks\": \"\", \"zerolinecolor\": \"#283442\", \"zerolinewidth\": 2}, \"yaxis\": {\"automargin\": true, \"gridcolor\": \"#283442\", \"linecolor\": \"#506784\", \"ticks\": \"\", \"zerolinecolor\": \"#283442\", \"zerolinewidth\": 2}}}, \"xaxis\": {\"anchor\": \"y\", \"domain\": [0.0, 0.98], \"title\": {\"text\": \"rep\"}, \"type\": \"log\"}, \"yaxis\": {\"anchor\": \"x\", \"domain\": [0.0, 1.0], \"title\": {\"text\": \"rep/ans\"}, \"type\": \"log\"}},\n",
       "                        {\"responsive\": true}\n",
       "                    ).then(function(){\n",
       "                            \n",
       "var gd = document.getElementById('a3a5ee53-591d-48b0-ad4a-550f7c14d4d3');\n",
       "var x = new MutationObserver(function (mutations, observer) {{\n",
       "        var display = window.getComputedStyle(gd).display;\n",
       "        if (!display || display === 'none') {{\n",
       "            console.log([gd, 'removed!']);\n",
       "            Plotly.purge(gd);\n",
       "            observer.disconnect();\n",
       "        }}\n",
       "}});\n",
       "\n",
       "// Listen for the removal of the full notebook cells\n",
       "var notebookContainer = gd.closest('#notebook-container');\n",
       "if (notebookContainer) {{\n",
       "    x.observe(notebookContainer, {childList: true});\n",
       "}}\n",
       "\n",
       "// Listen for the clearing of the current output cell\n",
       "var outputEl = gd.closest('.output');\n",
       "if (outputEl) {{\n",
       "    x.observe(outputEl, {childList: true});\n",
       "}}\n",
       "\n",
       "                        })\n",
       "                };\n",
       "                });\n",
       "            </script>\n",
       "        </div>"
      ]
     },
     "metadata": {},
     "output_type": "display_data"
    }
   ],
   "source": [
    "fig2 = px.scatter(the3, x=\"rep\", y=\"rep/ans\", size=\"answers\", symbol=\"answers\", color=\"name\", log_x=True, log_y=True, template='plotly_dark')\n",
    "fig2.show()"
   ]
  },
  {
   "cell_type": "code",
   "execution_count": 141,
   "metadata": {},
   "outputs": [
    {
     "data": {
      "application/vnd.plotly.v1+json": {
       "config": {
        "plotlyServerURL": "https://plot.ly"
       },
       "data": [
        {
         "alignmentgroup": "True",
         "hoverlabel": {
          "namelength": 0
         },
         "hovertemplate": "rep/ans=%{y}",
         "legendgroup": "",
         "marker": {
          "color": "#636efa"
         },
         "name": "",
         "notched": false,
         "offsetgroup": "",
         "orientation": "v",
         "showlegend": false,
         "type": "box",
         "x0": " ",
         "xaxis": "x",
         "y": [
          47.89821882951654,
          23.713043478260868,
          26.4741641337386,
          18.372307692307693,
          21.83613445378151,
          39.12334801762115,
          28.482758620689655,
          38.016304347826086,
          33.348684210526315,
          26.53061224489796,
          13.398373983739837,
          33.672413793103445,
          18.130434782608695,
          11.780701754385966,
          51.767857142857146,
          13.925925925925926,
          66.26851851851852,
          16.39622641509434,
          16.865384615384617,
          40.786407766990294
         ],
         "y0": " ",
         "yaxis": "y"
        }
       ],
       "layout": {
        "boxmode": "group",
        "height": 600,
        "legend": {
         "tracegroupgap": 0
        },
        "template": {
         "data": {
          "bar": [
           {
            "error_x": {
             "color": "#f2f5fa"
            },
            "error_y": {
             "color": "#f2f5fa"
            },
            "marker": {
             "line": {
              "color": "rgb(17,17,17)",
              "width": 0.5
             }
            },
            "type": "bar"
           }
          ],
          "barpolar": [
           {
            "marker": {
             "line": {
              "color": "rgb(17,17,17)",
              "width": 0.5
             }
            },
            "type": "barpolar"
           }
          ],
          "carpet": [
           {
            "aaxis": {
             "endlinecolor": "#A2B1C6",
             "gridcolor": "#506784",
             "linecolor": "#506784",
             "minorgridcolor": "#506784",
             "startlinecolor": "#A2B1C6"
            },
            "baxis": {
             "endlinecolor": "#A2B1C6",
             "gridcolor": "#506784",
             "linecolor": "#506784",
             "minorgridcolor": "#506784",
             "startlinecolor": "#A2B1C6"
            },
            "type": "carpet"
           }
          ],
          "choropleth": [
           {
            "colorbar": {
             "outlinewidth": 0,
             "ticks": ""
            },
            "type": "choropleth"
           }
          ],
          "contour": [
           {
            "colorbar": {
             "outlinewidth": 0,
             "ticks": ""
            },
            "colorscale": [
             [
              0,
              "#0d0887"
             ],
             [
              0.1111111111111111,
              "#46039f"
             ],
             [
              0.2222222222222222,
              "#7201a8"
             ],
             [
              0.3333333333333333,
              "#9c179e"
             ],
             [
              0.4444444444444444,
              "#bd3786"
             ],
             [
              0.5555555555555556,
              "#d8576b"
             ],
             [
              0.6666666666666666,
              "#ed7953"
             ],
             [
              0.7777777777777778,
              "#fb9f3a"
             ],
             [
              0.8888888888888888,
              "#fdca26"
             ],
             [
              1,
              "#f0f921"
             ]
            ],
            "type": "contour"
           }
          ],
          "contourcarpet": [
           {
            "colorbar": {
             "outlinewidth": 0,
             "ticks": ""
            },
            "type": "contourcarpet"
           }
          ],
          "heatmap": [
           {
            "colorbar": {
             "outlinewidth": 0,
             "ticks": ""
            },
            "colorscale": [
             [
              0,
              "#0d0887"
             ],
             [
              0.1111111111111111,
              "#46039f"
             ],
             [
              0.2222222222222222,
              "#7201a8"
             ],
             [
              0.3333333333333333,
              "#9c179e"
             ],
             [
              0.4444444444444444,
              "#bd3786"
             ],
             [
              0.5555555555555556,
              "#d8576b"
             ],
             [
              0.6666666666666666,
              "#ed7953"
             ],
             [
              0.7777777777777778,
              "#fb9f3a"
             ],
             [
              0.8888888888888888,
              "#fdca26"
             ],
             [
              1,
              "#f0f921"
             ]
            ],
            "type": "heatmap"
           }
          ],
          "heatmapgl": [
           {
            "colorbar": {
             "outlinewidth": 0,
             "ticks": ""
            },
            "colorscale": [
             [
              0,
              "#0d0887"
             ],
             [
              0.1111111111111111,
              "#46039f"
             ],
             [
              0.2222222222222222,
              "#7201a8"
             ],
             [
              0.3333333333333333,
              "#9c179e"
             ],
             [
              0.4444444444444444,
              "#bd3786"
             ],
             [
              0.5555555555555556,
              "#d8576b"
             ],
             [
              0.6666666666666666,
              "#ed7953"
             ],
             [
              0.7777777777777778,
              "#fb9f3a"
             ],
             [
              0.8888888888888888,
              "#fdca26"
             ],
             [
              1,
              "#f0f921"
             ]
            ],
            "type": "heatmapgl"
           }
          ],
          "histogram": [
           {
            "marker": {
             "colorbar": {
              "outlinewidth": 0,
              "ticks": ""
             }
            },
            "type": "histogram"
           }
          ],
          "histogram2d": [
           {
            "colorbar": {
             "outlinewidth": 0,
             "ticks": ""
            },
            "colorscale": [
             [
              0,
              "#0d0887"
             ],
             [
              0.1111111111111111,
              "#46039f"
             ],
             [
              0.2222222222222222,
              "#7201a8"
             ],
             [
              0.3333333333333333,
              "#9c179e"
             ],
             [
              0.4444444444444444,
              "#bd3786"
             ],
             [
              0.5555555555555556,
              "#d8576b"
             ],
             [
              0.6666666666666666,
              "#ed7953"
             ],
             [
              0.7777777777777778,
              "#fb9f3a"
             ],
             [
              0.8888888888888888,
              "#fdca26"
             ],
             [
              1,
              "#f0f921"
             ]
            ],
            "type": "histogram2d"
           }
          ],
          "histogram2dcontour": [
           {
            "colorbar": {
             "outlinewidth": 0,
             "ticks": ""
            },
            "colorscale": [
             [
              0,
              "#0d0887"
             ],
             [
              0.1111111111111111,
              "#46039f"
             ],
             [
              0.2222222222222222,
              "#7201a8"
             ],
             [
              0.3333333333333333,
              "#9c179e"
             ],
             [
              0.4444444444444444,
              "#bd3786"
             ],
             [
              0.5555555555555556,
              "#d8576b"
             ],
             [
              0.6666666666666666,
              "#ed7953"
             ],
             [
              0.7777777777777778,
              "#fb9f3a"
             ],
             [
              0.8888888888888888,
              "#fdca26"
             ],
             [
              1,
              "#f0f921"
             ]
            ],
            "type": "histogram2dcontour"
           }
          ],
          "mesh3d": [
           {
            "colorbar": {
             "outlinewidth": 0,
             "ticks": ""
            },
            "type": "mesh3d"
           }
          ],
          "parcoords": [
           {
            "line": {
             "colorbar": {
              "outlinewidth": 0,
              "ticks": ""
             }
            },
            "type": "parcoords"
           }
          ],
          "scatter": [
           {
            "marker": {
             "line": {
              "color": "#283442"
             }
            },
            "type": "scatter"
           }
          ],
          "scatter3d": [
           {
            "line": {
             "colorbar": {
              "outlinewidth": 0,
              "ticks": ""
             }
            },
            "marker": {
             "colorbar": {
              "outlinewidth": 0,
              "ticks": ""
             }
            },
            "type": "scatter3d"
           }
          ],
          "scattercarpet": [
           {
            "marker": {
             "colorbar": {
              "outlinewidth": 0,
              "ticks": ""
             }
            },
            "type": "scattercarpet"
           }
          ],
          "scattergeo": [
           {
            "marker": {
             "colorbar": {
              "outlinewidth": 0,
              "ticks": ""
             }
            },
            "type": "scattergeo"
           }
          ],
          "scattergl": [
           {
            "marker": {
             "line": {
              "color": "#283442"
             }
            },
            "type": "scattergl"
           }
          ],
          "scattermapbox": [
           {
            "marker": {
             "colorbar": {
              "outlinewidth": 0,
              "ticks": ""
             }
            },
            "type": "scattermapbox"
           }
          ],
          "scatterpolar": [
           {
            "marker": {
             "colorbar": {
              "outlinewidth": 0,
              "ticks": ""
             }
            },
            "type": "scatterpolar"
           }
          ],
          "scatterpolargl": [
           {
            "marker": {
             "colorbar": {
              "outlinewidth": 0,
              "ticks": ""
             }
            },
            "type": "scatterpolargl"
           }
          ],
          "scatterternary": [
           {
            "marker": {
             "colorbar": {
              "outlinewidth": 0,
              "ticks": ""
             }
            },
            "type": "scatterternary"
           }
          ],
          "surface": [
           {
            "colorbar": {
             "outlinewidth": 0,
             "ticks": ""
            },
            "colorscale": [
             [
              0,
              "#0d0887"
             ],
             [
              0.1111111111111111,
              "#46039f"
             ],
             [
              0.2222222222222222,
              "#7201a8"
             ],
             [
              0.3333333333333333,
              "#9c179e"
             ],
             [
              0.4444444444444444,
              "#bd3786"
             ],
             [
              0.5555555555555556,
              "#d8576b"
             ],
             [
              0.6666666666666666,
              "#ed7953"
             ],
             [
              0.7777777777777778,
              "#fb9f3a"
             ],
             [
              0.8888888888888888,
              "#fdca26"
             ],
             [
              1,
              "#f0f921"
             ]
            ],
            "type": "surface"
           }
          ],
          "table": [
           {
            "cells": {
             "fill": {
              "color": "#506784"
             },
             "line": {
              "color": "rgb(17,17,17)"
             }
            },
            "header": {
             "fill": {
              "color": "#2a3f5f"
             },
             "line": {
              "color": "rgb(17,17,17)"
             }
            },
            "type": "table"
           }
          ]
         },
         "layout": {
          "annotationdefaults": {
           "arrowcolor": "#f2f5fa",
           "arrowhead": 0,
           "arrowwidth": 1
          },
          "colorscale": {
           "diverging": [
            [
             0,
             "#8e0152"
            ],
            [
             0.1,
             "#c51b7d"
            ],
            [
             0.2,
             "#de77ae"
            ],
            [
             0.3,
             "#f1b6da"
            ],
            [
             0.4,
             "#fde0ef"
            ],
            [
             0.5,
             "#f7f7f7"
            ],
            [
             0.6,
             "#e6f5d0"
            ],
            [
             0.7,
             "#b8e186"
            ],
            [
             0.8,
             "#7fbc41"
            ],
            [
             0.9,
             "#4d9221"
            ],
            [
             1,
             "#276419"
            ]
           ],
           "sequential": [
            [
             0,
             "#0d0887"
            ],
            [
             0.1111111111111111,
             "#46039f"
            ],
            [
             0.2222222222222222,
             "#7201a8"
            ],
            [
             0.3333333333333333,
             "#9c179e"
            ],
            [
             0.4444444444444444,
             "#bd3786"
            ],
            [
             0.5555555555555556,
             "#d8576b"
            ],
            [
             0.6666666666666666,
             "#ed7953"
            ],
            [
             0.7777777777777778,
             "#fb9f3a"
            ],
            [
             0.8888888888888888,
             "#fdca26"
            ],
            [
             1,
             "#f0f921"
            ]
           ],
           "sequentialminus": [
            [
             0,
             "#0d0887"
            ],
            [
             0.1111111111111111,
             "#46039f"
            ],
            [
             0.2222222222222222,
             "#7201a8"
            ],
            [
             0.3333333333333333,
             "#9c179e"
            ],
            [
             0.4444444444444444,
             "#bd3786"
            ],
            [
             0.5555555555555556,
             "#d8576b"
            ],
            [
             0.6666666666666666,
             "#ed7953"
            ],
            [
             0.7777777777777778,
             "#fb9f3a"
            ],
            [
             0.8888888888888888,
             "#fdca26"
            ],
            [
             1,
             "#f0f921"
            ]
           ]
          },
          "colorway": [
           "#636efa",
           "#EF553B",
           "#00cc96",
           "#ab63fa",
           "#FFA15A",
           "#19d3f3",
           "#FF6692",
           "#B6E880",
           "#FF97FF",
           "#FECB52"
          ],
          "font": {
           "color": "#f2f5fa"
          },
          "geo": {
           "bgcolor": "rgb(17,17,17)",
           "lakecolor": "rgb(17,17,17)",
           "landcolor": "rgb(17,17,17)",
           "showlakes": true,
           "showland": true,
           "subunitcolor": "#506784"
          },
          "hoverlabel": {
           "align": "left"
          },
          "hovermode": "closest",
          "mapbox": {
           "style": "dark"
          },
          "paper_bgcolor": "rgb(17,17,17)",
          "plot_bgcolor": "rgb(17,17,17)",
          "polar": {
           "angularaxis": {
            "gridcolor": "#506784",
            "linecolor": "#506784",
            "ticks": ""
           },
           "bgcolor": "rgb(17,17,17)",
           "radialaxis": {
            "gridcolor": "#506784",
            "linecolor": "#506784",
            "ticks": ""
           }
          },
          "scene": {
           "xaxis": {
            "backgroundcolor": "rgb(17,17,17)",
            "gridcolor": "#506784",
            "gridwidth": 2,
            "linecolor": "#506784",
            "showbackground": true,
            "ticks": "",
            "zerolinecolor": "#C8D4E3"
           },
           "yaxis": {
            "backgroundcolor": "rgb(17,17,17)",
            "gridcolor": "#506784",
            "gridwidth": 2,
            "linecolor": "#506784",
            "showbackground": true,
            "ticks": "",
            "zerolinecolor": "#C8D4E3"
           },
           "zaxis": {
            "backgroundcolor": "rgb(17,17,17)",
            "gridcolor": "#506784",
            "gridwidth": 2,
            "linecolor": "#506784",
            "showbackground": true,
            "ticks": "",
            "zerolinecolor": "#C8D4E3"
           }
          },
          "shapedefaults": {
           "line": {
            "color": "#f2f5fa"
           }
          },
          "sliderdefaults": {
           "bgcolor": "#C8D4E3",
           "bordercolor": "rgb(17,17,17)",
           "borderwidth": 1,
           "tickwidth": 0
          },
          "ternary": {
           "aaxis": {
            "gridcolor": "#506784",
            "linecolor": "#506784",
            "ticks": ""
           },
           "baxis": {
            "gridcolor": "#506784",
            "linecolor": "#506784",
            "ticks": ""
           },
           "bgcolor": "rgb(17,17,17)",
           "caxis": {
            "gridcolor": "#506784",
            "linecolor": "#506784",
            "ticks": ""
           }
          },
          "title": {
           "x": 0.05
          },
          "updatemenudefaults": {
           "bgcolor": "#506784",
           "borderwidth": 0
          },
          "xaxis": {
           "automargin": true,
           "gridcolor": "#283442",
           "linecolor": "#506784",
           "ticks": "",
           "zerolinecolor": "#283442",
           "zerolinewidth": 2
          },
          "yaxis": {
           "automargin": true,
           "gridcolor": "#283442",
           "linecolor": "#506784",
           "ticks": "",
           "zerolinecolor": "#283442",
           "zerolinewidth": 2
          }
         }
        },
        "title": {
         "text": "Distribution of Reputation/Answers"
        },
        "xaxis": {
         "anchor": "y",
         "domain": [
          0,
          0.98
         ]
        },
        "yaxis": {
         "anchor": "x",
         "domain": [
          0,
          1
         ],
         "title": {
          "text": "rep/ans"
         }
        }
       }
      },
      "text/html": [
       "<div>\n",
       "        \n",
       "        \n",
       "            <div id=\"04f275c8-048a-4c22-9c24-aec0070d5aac\" class=\"plotly-graph-div\" style=\"height:600px; width:100%;\"></div>\n",
       "            <script type=\"text/javascript\">\n",
       "                require([\"plotly\"], function(Plotly) {\n",
       "                    window.PLOTLYENV=window.PLOTLYENV || {};\n",
       "                    \n",
       "                if (document.getElementById(\"04f275c8-048a-4c22-9c24-aec0070d5aac\")) {\n",
       "                    Plotly.newPlot(\n",
       "                        '04f275c8-048a-4c22-9c24-aec0070d5aac',\n",
       "                        [{\"alignmentgroup\": \"True\", \"hoverlabel\": {\"namelength\": 0}, \"hovertemplate\": \"rep/ans=%{y}\", \"legendgroup\": \"\", \"marker\": {\"color\": \"#636efa\"}, \"name\": \"\", \"notched\": false, \"offsetgroup\": \"\", \"orientation\": \"v\", \"showlegend\": false, \"type\": \"box\", \"x0\": \" \", \"xaxis\": \"x\", \"y\": [47.89821882951654, 23.713043478260868, 26.4741641337386, 18.372307692307693, 21.83613445378151, 39.12334801762115, 28.482758620689655, 38.016304347826086, 33.348684210526315, 26.53061224489796, 13.398373983739837, 33.672413793103445, 18.130434782608695, 11.780701754385966, 51.767857142857146, 13.925925925925926, 66.26851851851852, 16.39622641509434, 16.865384615384617, 40.786407766990294], \"y0\": \" \", \"yaxis\": \"y\"}],\n",
       "                        {\"boxmode\": \"group\", \"height\": 600, \"legend\": {\"tracegroupgap\": 0}, \"template\": {\"data\": {\"bar\": [{\"error_x\": {\"color\": \"#f2f5fa\"}, \"error_y\": {\"color\": \"#f2f5fa\"}, \"marker\": {\"line\": {\"color\": \"rgb(17,17,17)\", \"width\": 0.5}}, \"type\": \"bar\"}], \"barpolar\": [{\"marker\": {\"line\": {\"color\": \"rgb(17,17,17)\", \"width\": 0.5}}, \"type\": \"barpolar\"}], \"carpet\": [{\"aaxis\": {\"endlinecolor\": \"#A2B1C6\", \"gridcolor\": \"#506784\", \"linecolor\": \"#506784\", \"minorgridcolor\": \"#506784\", \"startlinecolor\": \"#A2B1C6\"}, \"baxis\": {\"endlinecolor\": \"#A2B1C6\", \"gridcolor\": \"#506784\", \"linecolor\": \"#506784\", \"minorgridcolor\": \"#506784\", \"startlinecolor\": \"#A2B1C6\"}, \"type\": \"carpet\"}], \"choropleth\": [{\"colorbar\": {\"outlinewidth\": 0, \"ticks\": \"\"}, \"type\": \"choropleth\"}], \"contour\": [{\"colorbar\": {\"outlinewidth\": 0, \"ticks\": \"\"}, \"colorscale\": [[0.0, \"#0d0887\"], [0.1111111111111111, \"#46039f\"], [0.2222222222222222, \"#7201a8\"], [0.3333333333333333, \"#9c179e\"], [0.4444444444444444, \"#bd3786\"], [0.5555555555555556, \"#d8576b\"], [0.6666666666666666, \"#ed7953\"], [0.7777777777777778, \"#fb9f3a\"], [0.8888888888888888, \"#fdca26\"], [1.0, \"#f0f921\"]], \"type\": \"contour\"}], \"contourcarpet\": [{\"colorbar\": {\"outlinewidth\": 0, \"ticks\": \"\"}, \"type\": \"contourcarpet\"}], \"heatmap\": [{\"colorbar\": {\"outlinewidth\": 0, \"ticks\": \"\"}, \"colorscale\": [[0.0, \"#0d0887\"], [0.1111111111111111, \"#46039f\"], [0.2222222222222222, \"#7201a8\"], [0.3333333333333333, \"#9c179e\"], [0.4444444444444444, \"#bd3786\"], [0.5555555555555556, \"#d8576b\"], [0.6666666666666666, \"#ed7953\"], [0.7777777777777778, \"#fb9f3a\"], [0.8888888888888888, \"#fdca26\"], [1.0, \"#f0f921\"]], \"type\": \"heatmap\"}], \"heatmapgl\": [{\"colorbar\": {\"outlinewidth\": 0, \"ticks\": \"\"}, \"colorscale\": [[0.0, \"#0d0887\"], [0.1111111111111111, \"#46039f\"], [0.2222222222222222, \"#7201a8\"], [0.3333333333333333, \"#9c179e\"], [0.4444444444444444, \"#bd3786\"], [0.5555555555555556, \"#d8576b\"], [0.6666666666666666, \"#ed7953\"], [0.7777777777777778, \"#fb9f3a\"], [0.8888888888888888, \"#fdca26\"], [1.0, \"#f0f921\"]], \"type\": \"heatmapgl\"}], \"histogram\": [{\"marker\": {\"colorbar\": {\"outlinewidth\": 0, \"ticks\": \"\"}}, \"type\": \"histogram\"}], \"histogram2d\": [{\"colorbar\": {\"outlinewidth\": 0, \"ticks\": \"\"}, \"colorscale\": [[0.0, \"#0d0887\"], [0.1111111111111111, \"#46039f\"], [0.2222222222222222, \"#7201a8\"], [0.3333333333333333, \"#9c179e\"], [0.4444444444444444, \"#bd3786\"], [0.5555555555555556, \"#d8576b\"], [0.6666666666666666, \"#ed7953\"], [0.7777777777777778, \"#fb9f3a\"], [0.8888888888888888, \"#fdca26\"], [1.0, \"#f0f921\"]], \"type\": \"histogram2d\"}], \"histogram2dcontour\": [{\"colorbar\": {\"outlinewidth\": 0, \"ticks\": \"\"}, \"colorscale\": [[0.0, \"#0d0887\"], [0.1111111111111111, \"#46039f\"], [0.2222222222222222, \"#7201a8\"], [0.3333333333333333, \"#9c179e\"], [0.4444444444444444, \"#bd3786\"], [0.5555555555555556, \"#d8576b\"], [0.6666666666666666, \"#ed7953\"], [0.7777777777777778, \"#fb9f3a\"], [0.8888888888888888, \"#fdca26\"], [1.0, \"#f0f921\"]], \"type\": \"histogram2dcontour\"}], \"mesh3d\": [{\"colorbar\": {\"outlinewidth\": 0, \"ticks\": \"\"}, \"type\": \"mesh3d\"}], \"parcoords\": [{\"line\": {\"colorbar\": {\"outlinewidth\": 0, \"ticks\": \"\"}}, \"type\": \"parcoords\"}], \"scatter\": [{\"marker\": {\"line\": {\"color\": \"#283442\"}}, \"type\": \"scatter\"}], \"scatter3d\": [{\"line\": {\"colorbar\": {\"outlinewidth\": 0, \"ticks\": \"\"}}, \"marker\": {\"colorbar\": {\"outlinewidth\": 0, \"ticks\": \"\"}}, \"type\": \"scatter3d\"}], \"scattercarpet\": [{\"marker\": {\"colorbar\": {\"outlinewidth\": 0, \"ticks\": \"\"}}, \"type\": \"scattercarpet\"}], \"scattergeo\": [{\"marker\": {\"colorbar\": {\"outlinewidth\": 0, \"ticks\": \"\"}}, \"type\": \"scattergeo\"}], \"scattergl\": [{\"marker\": {\"line\": {\"color\": \"#283442\"}}, \"type\": \"scattergl\"}], \"scattermapbox\": [{\"marker\": {\"colorbar\": {\"outlinewidth\": 0, \"ticks\": \"\"}}, \"type\": \"scattermapbox\"}], \"scatterpolar\": [{\"marker\": {\"colorbar\": {\"outlinewidth\": 0, \"ticks\": \"\"}}, \"type\": \"scatterpolar\"}], \"scatterpolargl\": [{\"marker\": {\"colorbar\": {\"outlinewidth\": 0, \"ticks\": \"\"}}, \"type\": \"scatterpolargl\"}], \"scatterternary\": [{\"marker\": {\"colorbar\": {\"outlinewidth\": 0, \"ticks\": \"\"}}, \"type\": \"scatterternary\"}], \"surface\": [{\"colorbar\": {\"outlinewidth\": 0, \"ticks\": \"\"}, \"colorscale\": [[0.0, \"#0d0887\"], [0.1111111111111111, \"#46039f\"], [0.2222222222222222, \"#7201a8\"], [0.3333333333333333, \"#9c179e\"], [0.4444444444444444, \"#bd3786\"], [0.5555555555555556, \"#d8576b\"], [0.6666666666666666, \"#ed7953\"], [0.7777777777777778, \"#fb9f3a\"], [0.8888888888888888, \"#fdca26\"], [1.0, \"#f0f921\"]], \"type\": \"surface\"}], \"table\": [{\"cells\": {\"fill\": {\"color\": \"#506784\"}, \"line\": {\"color\": \"rgb(17,17,17)\"}}, \"header\": {\"fill\": {\"color\": \"#2a3f5f\"}, \"line\": {\"color\": \"rgb(17,17,17)\"}}, \"type\": \"table\"}]}, \"layout\": {\"annotationdefaults\": {\"arrowcolor\": \"#f2f5fa\", \"arrowhead\": 0, \"arrowwidth\": 1}, \"colorscale\": {\"diverging\": [[0, \"#8e0152\"], [0.1, \"#c51b7d\"], [0.2, \"#de77ae\"], [0.3, \"#f1b6da\"], [0.4, \"#fde0ef\"], [0.5, \"#f7f7f7\"], [0.6, \"#e6f5d0\"], [0.7, \"#b8e186\"], [0.8, \"#7fbc41\"], [0.9, \"#4d9221\"], [1, \"#276419\"]], \"sequential\": [[0.0, \"#0d0887\"], [0.1111111111111111, \"#46039f\"], [0.2222222222222222, \"#7201a8\"], [0.3333333333333333, \"#9c179e\"], [0.4444444444444444, \"#bd3786\"], [0.5555555555555556, \"#d8576b\"], [0.6666666666666666, \"#ed7953\"], [0.7777777777777778, \"#fb9f3a\"], [0.8888888888888888, \"#fdca26\"], [1.0, \"#f0f921\"]], \"sequentialminus\": [[0.0, \"#0d0887\"], [0.1111111111111111, \"#46039f\"], [0.2222222222222222, \"#7201a8\"], [0.3333333333333333, \"#9c179e\"], [0.4444444444444444, \"#bd3786\"], [0.5555555555555556, \"#d8576b\"], [0.6666666666666666, \"#ed7953\"], [0.7777777777777778, \"#fb9f3a\"], [0.8888888888888888, \"#fdca26\"], [1.0, \"#f0f921\"]]}, \"colorway\": [\"#636efa\", \"#EF553B\", \"#00cc96\", \"#ab63fa\", \"#FFA15A\", \"#19d3f3\", \"#FF6692\", \"#B6E880\", \"#FF97FF\", \"#FECB52\"], \"font\": {\"color\": \"#f2f5fa\"}, \"geo\": {\"bgcolor\": \"rgb(17,17,17)\", \"lakecolor\": \"rgb(17,17,17)\", \"landcolor\": \"rgb(17,17,17)\", \"showlakes\": true, \"showland\": true, \"subunitcolor\": \"#506784\"}, \"hoverlabel\": {\"align\": \"left\"}, \"hovermode\": \"closest\", \"mapbox\": {\"style\": \"dark\"}, \"paper_bgcolor\": \"rgb(17,17,17)\", \"plot_bgcolor\": \"rgb(17,17,17)\", \"polar\": {\"angularaxis\": {\"gridcolor\": \"#506784\", \"linecolor\": \"#506784\", \"ticks\": \"\"}, \"bgcolor\": \"rgb(17,17,17)\", \"radialaxis\": {\"gridcolor\": \"#506784\", \"linecolor\": \"#506784\", \"ticks\": \"\"}}, \"scene\": {\"xaxis\": {\"backgroundcolor\": \"rgb(17,17,17)\", \"gridcolor\": \"#506784\", \"gridwidth\": 2, \"linecolor\": \"#506784\", \"showbackground\": true, \"ticks\": \"\", \"zerolinecolor\": \"#C8D4E3\"}, \"yaxis\": {\"backgroundcolor\": \"rgb(17,17,17)\", \"gridcolor\": \"#506784\", \"gridwidth\": 2, \"linecolor\": \"#506784\", \"showbackground\": true, \"ticks\": \"\", \"zerolinecolor\": \"#C8D4E3\"}, \"zaxis\": {\"backgroundcolor\": \"rgb(17,17,17)\", \"gridcolor\": \"#506784\", \"gridwidth\": 2, \"linecolor\": \"#506784\", \"showbackground\": true, \"ticks\": \"\", \"zerolinecolor\": \"#C8D4E3\"}}, \"shapedefaults\": {\"line\": {\"color\": \"#f2f5fa\"}}, \"sliderdefaults\": {\"bgcolor\": \"#C8D4E3\", \"bordercolor\": \"rgb(17,17,17)\", \"borderwidth\": 1, \"tickwidth\": 0}, \"ternary\": {\"aaxis\": {\"gridcolor\": \"#506784\", \"linecolor\": \"#506784\", \"ticks\": \"\"}, \"baxis\": {\"gridcolor\": \"#506784\", \"linecolor\": \"#506784\", \"ticks\": \"\"}, \"bgcolor\": \"rgb(17,17,17)\", \"caxis\": {\"gridcolor\": \"#506784\", \"linecolor\": \"#506784\", \"ticks\": \"\"}}, \"title\": {\"x\": 0.05}, \"updatemenudefaults\": {\"bgcolor\": \"#506784\", \"borderwidth\": 0}, \"xaxis\": {\"automargin\": true, \"gridcolor\": \"#283442\", \"linecolor\": \"#506784\", \"ticks\": \"\", \"zerolinecolor\": \"#283442\", \"zerolinewidth\": 2}, \"yaxis\": {\"automargin\": true, \"gridcolor\": \"#283442\", \"linecolor\": \"#506784\", \"ticks\": \"\", \"zerolinecolor\": \"#283442\", \"zerolinewidth\": 2}}}, \"title\": {\"text\": \"Distribution of Reputation/Answers\"}, \"xaxis\": {\"anchor\": \"y\", \"domain\": [0.0, 0.98]}, \"yaxis\": {\"anchor\": \"x\", \"domain\": [0.0, 1.0], \"title\": {\"text\": \"rep/ans\"}}},\n",
       "                        {\"responsive\": true}\n",
       "                    ).then(function(){\n",
       "                            \n",
       "var gd = document.getElementById('04f275c8-048a-4c22-9c24-aec0070d5aac');\n",
       "var x = new MutationObserver(function (mutations, observer) {{\n",
       "        var display = window.getComputedStyle(gd).display;\n",
       "        if (!display || display === 'none') {{\n",
       "            console.log([gd, 'removed!']);\n",
       "            Plotly.purge(gd);\n",
       "            observer.disconnect();\n",
       "        }}\n",
       "}});\n",
       "\n",
       "// Listen for the removal of the full notebook cells\n",
       "var notebookContainer = gd.closest('#notebook-container');\n",
       "if (notebookContainer) {{\n",
       "    x.observe(notebookContainer, {childList: true});\n",
       "}}\n",
       "\n",
       "// Listen for the clearing of the current output cell\n",
       "var outputEl = gd.closest('.output');\n",
       "if (outputEl) {{\n",
       "    x.observe(outputEl, {childList: true});\n",
       "}}\n",
       "\n",
       "                        })\n",
       "                };\n",
       "                });\n",
       "            </script>\n",
       "        </div>"
      ]
     },
     "metadata": {},
     "output_type": "display_data"
    }
   ],
   "source": [
    "px.box(data_frame=the3\n",
    "    , y=\"rep/ans\"\n",
    "    , title=\"Distribution of Reputation/Answers\"\n",
    "    , template='plotly_dark'\n",
    "    )"
   ]
  },
  {
   "cell_type": "code",
   "execution_count": 128,
   "metadata": {},
   "outputs": [
    {
     "data": {
      "application/vnd.plotly.v1+json": {
       "config": {
        "plotlyServerURL": "https://plot.ly"
       },
       "data": [
        {
         "dimensions": [
          {
           "axis": {
            "matches": true
           },
           "label": "rep",
           "values": [
            "18824"
           ]
          },
          {
           "axis": {
            "matches": true
           },
           "label": "answers",
           "values": [
            36
           ]
          }
         ],
         "hoverlabel": {
          "namelength": 0
         },
         "hovertemplate": "<b>%{hovertext}</b><br><br>name=Neil Slater<br>rep=18824<br>rep/ans=%{marker.size}<br>%{xaxis.title.text}=%{x}<br>%{yaxis.title.text}=%{y}",
         "hovertext": [
          "Neil Slater"
         ],
         "legendgroup": "name=Neil Slater, rep=18824",
         "marker": {
          "color": "rgb(76,114,176)",
          "size": [
           522.8888888888889
          ],
          "sizemode": "area",
          "sizeref": 1.3072222222222223,
          "symbol": "circle"
         },
         "name": "name=Neil Slater, rep=18824",
         "showlegend": true,
         "type": "splom"
        },
        {
         "dimensions": [
          {
           "axis": {
            "matches": true
           },
           "label": "rep",
           "values": [
            "3656"
           ]
          },
          {
           "axis": {
            "matches": true
           },
           "label": "answers",
           "values": [
            10
           ]
          }
         ],
         "hoverlabel": {
          "namelength": 0
         },
         "hovertemplate": "<b>%{hovertext}</b><br><br>name=Franck Dernoncourt<br>rep=3656<br>rep/ans=%{marker.size}<br>%{xaxis.title.text}=%{x}<br>%{yaxis.title.text}=%{y}",
         "hovertext": [
          "Franck Dernoncourt"
         ],
         "legendgroup": "name=Franck Dernoncourt, rep=3656",
         "marker": {
          "color": "rgb(221,132,82)",
          "size": [
           365.6
          ],
          "sizemode": "area",
          "sizeref": 1.3072222222222223,
          "symbol": "diamond"
         },
         "name": "name=Franck Dernoncourt, rep=3656",
         "showlegend": true,
         "type": "splom"
        },
        {
         "dimensions": [
          {
           "axis": {
            "matches": true
           },
           "label": "rep",
           "values": [
            "6995"
           ]
          },
          {
           "axis": {
            "matches": true
           },
           "label": "answers",
           "values": [
            23
           ]
          }
         ],
         "hoverlabel": {
          "namelength": 0
         },
         "hovertemplate": "<b>%{hovertext}</b><br><br>name=Jan van der Vegt<br>rep=6995<br>rep/ans=%{marker.size}<br>%{xaxis.title.text}=%{x}<br>%{yaxis.title.text}=%{y}",
         "hovertext": [
          "Jan van der Vegt"
         ],
         "legendgroup": "name=Jan van der Vegt, rep=6995",
         "marker": {
          "color": "rgb(85,168,104)",
          "size": [
           304.1304347826087
          ],
          "sizemode": "area",
          "sizeref": 1.3072222222222223,
          "symbol": "square"
         },
         "name": "name=Jan van der Vegt, rep=6995",
         "showlegend": true,
         "type": "splom"
        },
        {
         "dimensions": [
          {
           "axis": {
            "matches": true
           },
           "label": "rep",
           "values": [
            "2564"
           ]
          },
          {
           "axis": {
            "matches": true
           },
           "label": "answers",
           "values": [
            9
           ]
          }
         ],
         "hoverlabel": {
          "namelength": 0
         },
         "hovertemplate": "<b>%{hovertext}</b><br><br>name=Ryan Zotti<br>rep=2564<br>rep/ans=%{marker.size}<br>%{xaxis.title.text}=%{x}<br>%{yaxis.title.text}=%{y}",
         "hovertext": [
          "Ryan Zotti"
         ],
         "legendgroup": "name=Ryan Zotti, rep=2564",
         "marker": {
          "color": "rgb(196,78,82)",
          "size": [
           284.8888888888889
          ],
          "sizemode": "area",
          "sizeref": 1.3072222222222223,
          "symbol": "x"
         },
         "name": "name=Ryan Zotti, rep=2564",
         "showlegend": true,
         "type": "splom"
        },
        {
         "dimensions": [
          {
           "axis": {
            "matches": true
           },
           "label": "rep",
           "values": [
            "1194"
           ]
          },
          {
           "axis": {
            "matches": true
           },
           "label": "answers",
           "values": [
            8
           ]
          }
         ],
         "hoverlabel": {
          "namelength": 0
         },
         "hovertemplate": "<b>%{hovertext}</b><br><br>name=StatsSorceress<br>rep=1194<br>rep/ans=%{marker.size}<br>%{xaxis.title.text}=%{x}<br>%{yaxis.title.text}=%{y}",
         "hovertext": [
          "StatsSorceress"
         ],
         "legendgroup": "name=StatsSorceress, rep=1194",
         "marker": {
          "color": "rgb(129,114,179)",
          "size": [
           149.25
          ],
          "sizemode": "area",
          "sizeref": 1.3072222222222223,
          "symbol": "cross"
         },
         "name": "name=StatsSorceress, rep=1194",
         "showlegend": true,
         "type": "splom"
        },
        {
         "dimensions": [
          {
           "axis": {
            "matches": true
           },
           "label": "rep",
           "values": [
            "1409"
           ]
          },
          {
           "axis": {
            "matches": true
           },
           "label": "answers",
           "values": [
            10
           ]
          }
         ],
         "hoverlabel": {
          "namelength": 0
         },
         "hovertemplate": "<b>%{hovertext}</b><br><br>name=stmax<br>rep=1409<br>rep/ans=%{marker.size}<br>%{xaxis.title.text}=%{x}<br>%{yaxis.title.text}=%{y}",
         "hovertext": [
          "stmax"
         ],
         "legendgroup": "name=stmax, rep=1409",
         "marker": {
          "color": "rgb(147,120,96)",
          "size": [
           140.9
          ],
          "sizemode": "area",
          "sizeref": 1.3072222222222223,
          "symbol": "circle"
         },
         "name": "name=stmax, rep=1409",
         "showlegend": true,
         "type": "splom"
        },
        {
         "dimensions": [
          {
           "axis": {
            "matches": true
           },
           "label": "rep",
           "values": [
            "1311"
           ]
          },
          {
           "axis": {
            "matches": true
           },
           "label": "answers",
           "values": [
            10
           ]
          }
         ],
         "hoverlabel": {
          "namelength": 0
         },
         "hovertemplate": "<b>%{hovertext}</b><br><br>name=Elias Strehle<br>rep=1311<br>rep/ans=%{marker.size}<br>%{xaxis.title.text}=%{x}<br>%{yaxis.title.text}=%{y}",
         "hovertext": [
          "Elias Strehle"
         ],
         "legendgroup": "name=Elias Strehle, rep=1311",
         "marker": {
          "color": "rgb(218,139,195)",
          "size": [
           131.1
          ],
          "sizemode": "area",
          "sizeref": 1.3072222222222223,
          "symbol": "diamond"
         },
         "name": "name=Elias Strehle, rep=1311",
         "showlegend": true,
         "type": "splom"
        },
        {
         "dimensions": [
          {
           "axis": {
            "matches": true
           },
           "label": "rep",
           "values": [
            "1294"
           ]
          },
          {
           "axis": {
            "matches": true
           },
           "label": "answers",
           "values": [
            10
           ]
          }
         ],
         "hoverlabel": {
          "namelength": 0
         },
         "hovertemplate": "<b>%{hovertext}</b><br><br>name=I_Play_With_Data<br>rep=1294<br>rep/ans=%{marker.size}<br>%{xaxis.title.text}=%{x}<br>%{yaxis.title.text}=%{y}",
         "hovertext": [
          "I_Play_With_Data"
         ],
         "legendgroup": "name=I_Play_With_Data, rep=1294",
         "marker": {
          "color": "rgb(140,140,140)",
          "size": [
           129.4
          ],
          "sizemode": "area",
          "sizeref": 1.3072222222222223,
          "symbol": "square"
         },
         "name": "name=I_Play_With_Data, rep=1294",
         "showlegend": true,
         "type": "splom"
        },
        {
         "dimensions": [
          {
           "axis": {
            "matches": true
           },
           "label": "rep",
           "values": [
            "1754"
           ]
          },
          {
           "axis": {
            "matches": true
           },
           "label": "answers",
           "values": [
            14
           ]
          }
         ],
         "hoverlabel": {
          "namelength": 0
         },
         "hovertemplate": "<b>%{hovertext}</b><br><br>name=Shamit Verma<br>rep=1754<br>rep/ans=%{marker.size}<br>%{xaxis.title.text}=%{x}<br>%{yaxis.title.text}=%{y}",
         "hovertext": [
          "Shamit Verma"
         ],
         "legendgroup": "name=Shamit Verma, rep=1754",
         "marker": {
          "color": "rgb(204,185,116)",
          "size": [
           125.28571428571429
          ],
          "sizemode": "area",
          "sizeref": 1.3072222222222223,
          "symbol": "x"
         },
         "name": "name=Shamit Verma, rep=1754",
         "showlegend": true,
         "type": "splom"
        },
        {
         "dimensions": [
          {
           "axis": {
            "matches": true
           },
           "label": "rep",
           "values": [
            "900"
           ]
          },
          {
           "axis": {
            "matches": true
           },
           "label": "answers",
           "values": [
            8
           ]
          }
         ],
         "hoverlabel": {
          "namelength": 0
         },
         "hovertemplate": "<b>%{hovertext}</b><br><br>name=thanatoz<br>rep=900<br>rep/ans=%{marker.size}<br>%{xaxis.title.text}=%{x}<br>%{yaxis.title.text}=%{y}",
         "hovertext": [
          "thanatoz"
         ],
         "legendgroup": "name=thanatoz, rep=900",
         "marker": {
          "color": "rgb(100,181,205)",
          "size": [
           112.5
          ],
          "sizemode": "area",
          "sizeref": 1.3072222222222223,
          "symbol": "cross"
         },
         "name": "name=thanatoz, rep=900",
         "showlegend": true,
         "type": "splom"
        },
        {
         "dimensions": [
          {
           "axis": {
            "matches": true
           },
           "label": "rep",
           "values": [
            "1648"
           ]
          },
          {
           "axis": {
            "matches": true
           },
           "label": "answers",
           "values": [
            17
           ]
          }
         ],
         "hoverlabel": {
          "namelength": 0
         },
         "hovertemplate": "<b>%{hovertext}</b><br><br>name=Peter<br>rep=1648<br>rep/ans=%{marker.size}<br>%{xaxis.title.text}=%{x}<br>%{yaxis.title.text}=%{y}",
         "hovertext": [
          "Peter"
         ],
         "legendgroup": "name=Peter, rep=1648",
         "marker": {
          "color": "rgb(76,114,176)",
          "size": [
           96.94117647058823
          ],
          "sizemode": "area",
          "sizeref": 1.3072222222222223,
          "symbol": "circle"
         },
         "name": "name=Peter, rep=1648",
         "showlegend": true,
         "type": "splom"
        },
        {
         "dimensions": [
          {
           "axis": {
            "matches": true
           },
           "label": "rep",
           "values": [
            "1379"
           ]
          },
          {
           "axis": {
            "matches": true
           },
           "label": "answers",
           "values": [
            15
           ]
          }
         ],
         "hoverlabel": {
          "namelength": 0
         },
         "hovertemplate": "<b>%{hovertext}</b><br><br>name=Kiritee Gak<br>rep=1379<br>rep/ans=%{marker.size}<br>%{xaxis.title.text}=%{x}<br>%{yaxis.title.text}=%{y}",
         "hovertext": [
          "Kiritee Gak"
         ],
         "legendgroup": "name=Kiritee Gak, rep=1379",
         "marker": {
          "color": "rgb(221,132,82)",
          "size": [
           91.93333333333334
          ],
          "sizemode": "area",
          "sizeref": 1.3072222222222223,
          "symbol": "diamond"
         },
         "name": "name=Kiritee Gak, rep=1379",
         "showlegend": true,
         "type": "splom"
        },
        {
         "dimensions": [
          {
           "axis": {
            "matches": true
           },
           "label": "rep",
           "values": [
            "1598"
           ]
          },
          {
           "axis": {
            "matches": true
           },
           "label": "answers",
           "values": [
            19
           ]
          }
         ],
         "hoverlabel": {
          "namelength": 0
         },
         "hovertemplate": "<b>%{hovertext}</b><br><br>name=Stephen Rauch<br>rep=1598<br>rep/ans=%{marker.size}<br>%{xaxis.title.text}=%{x}<br>%{yaxis.title.text}=%{y}",
         "hovertext": [
          "Stephen Rauch"
         ],
         "legendgroup": "name=Stephen Rauch, rep=1598",
         "marker": {
          "color": "rgb(85,168,104)",
          "size": [
           84.10526315789474
          ],
          "sizemode": "area",
          "sizeref": 1.3072222222222223,
          "symbol": "square"
         },
         "name": "name=Stephen Rauch, rep=1598",
         "showlegend": true,
         "type": "splom"
        },
        {
         "dimensions": [
          {
           "axis": {
            "matches": true
           },
           "label": "rep",
           "values": [
            "789"
           ]
          },
          {
           "axis": {
            "matches": true
           },
           "label": "answers",
           "values": [
            10
           ]
          }
         ],
         "hoverlabel": {
          "namelength": 0
         },
         "hovertemplate": "<b>%{hovertext}</b><br><br>name=Antonio Jurić<br>rep=789<br>rep/ans=%{marker.size}<br>%{xaxis.title.text}=%{x}<br>%{yaxis.title.text}=%{y}",
         "hovertext": [
          "Antonio Jurić"
         ],
         "legendgroup": "name=Antonio Jurić, rep=789",
         "marker": {
          "color": "rgb(196,78,82)",
          "size": [
           78.9
          ],
          "sizemode": "area",
          "sizeref": 1.3072222222222223,
          "symbol": "x"
         },
         "name": "name=Antonio Jurić, rep=789",
         "showlegend": true,
         "type": "splom"
        },
        {
         "dimensions": [
          {
           "axis": {
            "matches": true
           },
           "label": "rep",
           "values": [
            "781"
           ]
          },
          {
           "axis": {
            "matches": true
           },
           "label": "answers",
           "values": [
            10
           ]
          }
         ],
         "hoverlabel": {
          "namelength": 0
         },
         "hovertemplate": "<b>%{hovertext}</b><br><br>name=tuomastik<br>rep=781<br>rep/ans=%{marker.size}<br>%{xaxis.title.text}=%{x}<br>%{yaxis.title.text}=%{y}",
         "hovertext": [
          "tuomastik"
         ],
         "legendgroup": "name=tuomastik, rep=781",
         "marker": {
          "color": "rgb(129,114,179)",
          "size": [
           78.1
          ],
          "sizemode": "area",
          "sizeref": 1.3072222222222223,
          "symbol": "cross"
         },
         "name": "name=tuomastik, rep=781",
         "showlegend": true,
         "type": "splom"
        },
        {
         "dimensions": [
          {
           "axis": {
            "matches": true
           },
           "label": "rep",
           "values": [
            "822"
           ]
          },
          {
           "axis": {
            "matches": true
           },
           "label": "answers",
           "values": [
            11
           ]
          }
         ],
         "hoverlabel": {
          "namelength": 0
         },
         "hovertemplate": "<b>%{hovertext}</b><br><br>name=TitoOrt<br>rep=822<br>rep/ans=%{marker.size}<br>%{xaxis.title.text}=%{x}<br>%{yaxis.title.text}=%{y}",
         "hovertext": [
          "TitoOrt"
         ],
         "legendgroup": "name=TitoOrt, rep=822",
         "marker": {
          "color": "rgb(147,120,96)",
          "size": [
           74.72727272727273
          ],
          "sizemode": "area",
          "sizeref": 1.3072222222222223,
          "symbol": "circle"
         },
         "name": "name=TitoOrt, rep=822",
         "showlegend": true,
         "type": "splom"
        },
        {
         "dimensions": [
          {
           "axis": {
            "matches": true
           },
           "label": "rep",
           "values": [
            "1577"
           ]
          },
          {
           "axis": {
            "matches": true
           },
           "label": "answers",
           "values": [
            22
           ]
          }
         ],
         "hoverlabel": {
          "namelength": 0
         },
         "hovertemplate": "<b>%{hovertext}</b><br><br>name=Aditya<br>rep=1577<br>rep/ans=%{marker.size}<br>%{xaxis.title.text}=%{x}<br>%{yaxis.title.text}=%{y}",
         "hovertext": [
          "Aditya"
         ],
         "legendgroup": "name=Aditya, rep=1577",
         "marker": {
          "color": "rgb(218,139,195)",
          "size": [
           71.68181818181819
          ],
          "sizemode": "area",
          "sizeref": 1.3072222222222223,
          "symbol": "diamond"
         },
         "name": "name=Aditya, rep=1577",
         "showlegend": true,
         "type": "splom"
        },
        {
         "dimensions": [
          {
           "axis": {
            "matches": true
           },
           "label": "rep",
           "values": [
            "8181"
           ]
          },
          {
           "axis": {
            "matches": true
           },
           "label": "answers",
           "values": [
            117
           ]
          }
         ],
         "hoverlabel": {
          "namelength": 0
         },
         "hovertemplate": "<b>%{hovertext}</b><br><br>name=n1k31t4<br>rep=8181<br>rep/ans=%{marker.size}<br>%{xaxis.title.text}=%{x}<br>%{yaxis.title.text}=%{y}",
         "hovertext": [
          "n1k31t4"
         ],
         "legendgroup": "name=n1k31t4, rep=8181",
         "marker": {
          "color": "rgb(140,140,140)",
          "size": [
           69.92307692307692
          ],
          "sizemode": "area",
          "sizeref": 1.3072222222222223,
          "symbol": "square"
         },
         "name": "name=n1k31t4, rep=8181",
         "showlegend": true,
         "type": "splom"
        },
        {
         "dimensions": [
          {
           "axis": {
            "matches": true
           },
           "label": "rep",
           "values": [
            "1159"
           ]
          },
          {
           "axis": {
            "matches": true
           },
           "label": "answers",
           "values": [
            17
           ]
          }
         ],
         "hoverlabel": {
          "namelength": 0
         },
         "hovertemplate": "<b>%{hovertext}</b><br><br>name=Ankit Seth<br>rep=1159<br>rep/ans=%{marker.size}<br>%{xaxis.title.text}=%{x}<br>%{yaxis.title.text}=%{y}",
         "hovertext": [
          "Ankit Seth"
         ],
         "legendgroup": "name=Ankit Seth, rep=1159",
         "marker": {
          "color": "rgb(204,185,116)",
          "size": [
           68.17647058823529
          ],
          "sizemode": "area",
          "sizeref": 1.3072222222222223,
          "symbol": "x"
         },
         "name": "name=Ankit Seth, rep=1159",
         "showlegend": true,
         "type": "splom"
        },
        {
         "dimensions": [
          {
           "axis": {
            "matches": true
           },
           "label": "rep",
           "values": [
            "1504"
           ]
          },
          {
           "axis": {
            "matches": true
           },
           "label": "answers",
           "values": [
            24
           ]
          }
         ],
         "hoverlabel": {
          "namelength": 0
         },
         "hovertemplate": "<b>%{hovertext}</b><br><br>name=Juan Esteban de la Calle<br>rep=1504<br>rep/ans=%{marker.size}<br>%{xaxis.title.text}=%{x}<br>%{yaxis.title.text}=%{y}",
         "hovertext": [
          "Juan Esteban de la Calle"
         ],
         "legendgroup": "name=Juan Esteban de la Calle, rep=1504",
         "marker": {
          "color": "rgb(100,181,205)",
          "size": [
           62.666666666666664
          ],
          "sizemode": "area",
          "sizeref": 1.3072222222222223,
          "symbol": "cross"
         },
         "name": "name=Juan Esteban de la Calle, rep=1504",
         "showlegend": true,
         "type": "splom"
        }
       ],
       "layout": {
        "dragmode": "select",
        "height": 600,
        "legend": {
         "itemsizing": "constant",
         "tracegroupgap": 0
        },
        "template": {
         "data": {
          "bar": [
           {
            "error_x": {
             "color": "rgb(36,36,36)"
            },
            "error_y": {
             "color": "rgb(36,36,36)"
            },
            "marker": {
             "line": {
              "color": "rgb(234,234,242)",
              "width": 0.5
             }
            },
            "type": "bar"
           }
          ],
          "barpolar": [
           {
            "marker": {
             "line": {
              "color": "rgb(234,234,242)",
              "width": 0.5
             }
            },
            "type": "barpolar"
           }
          ],
          "carpet": [
           {
            "aaxis": {
             "endlinecolor": "rgb(36,36,36)",
             "gridcolor": "white",
             "linecolor": "white",
             "minorgridcolor": "white",
             "startlinecolor": "rgb(36,36,36)"
            },
            "baxis": {
             "endlinecolor": "rgb(36,36,36)",
             "gridcolor": "white",
             "linecolor": "white",
             "minorgridcolor": "white",
             "startlinecolor": "rgb(36,36,36)"
            },
            "type": "carpet"
           }
          ],
          "choropleth": [
           {
            "colorbar": {
             "outlinewidth": 0,
             "tickcolor": "rgb(36,36,36)",
             "ticklen": 8,
             "ticks": "outside",
             "tickwidth": 2
            },
            "type": "choropleth"
           }
          ],
          "contour": [
           {
            "colorbar": {
             "outlinewidth": 0,
             "tickcolor": "rgb(36,36,36)",
             "ticklen": 8,
             "ticks": "outside",
             "tickwidth": 2
            },
            "colorscale": [
             [
              0,
              "rgb(2,4,25)"
             ],
             [
              0.06274509803921569,
              "rgb(24,15,41)"
             ],
             [
              0.12549019607843137,
              "rgb(47,23,57)"
             ],
             [
              0.18823529411764706,
              "rgb(71,28,72)"
             ],
             [
              0.25098039215686274,
              "rgb(97,30,82)"
             ],
             [
              0.3137254901960784,
              "rgb(123,30,89)"
             ],
             [
              0.3764705882352941,
              "rgb(150,27,91)"
             ],
             [
              0.4392156862745098,
              "rgb(177,22,88)"
             ],
             [
              0.5019607843137255,
              "rgb(203,26,79)"
             ],
             [
              0.5647058823529412,
              "rgb(223,47,67)"
             ],
             [
              0.6274509803921569,
              "rgb(236,76,61)"
             ],
             [
              0.6901960784313725,
              "rgb(242,107,73)"
             ],
             [
              0.7529411764705882,
              "rgb(244,135,95)"
             ],
             [
              0.8156862745098039,
              "rgb(245,162,122)"
             ],
             [
              0.8784313725490196,
              "rgb(246,188,153)"
             ],
             [
              0.9411764705882353,
              "rgb(247,212,187)"
             ],
             [
              1,
              "rgb(250,234,220)"
             ]
            ],
            "type": "contour"
           }
          ],
          "contourcarpet": [
           {
            "colorbar": {
             "outlinewidth": 0,
             "tickcolor": "rgb(36,36,36)",
             "ticklen": 8,
             "ticks": "outside",
             "tickwidth": 2
            },
            "type": "contourcarpet"
           }
          ],
          "heatmap": [
           {
            "colorbar": {
             "outlinewidth": 0,
             "tickcolor": "rgb(36,36,36)",
             "ticklen": 8,
             "ticks": "outside",
             "tickwidth": 2
            },
            "colorscale": [
             [
              0,
              "rgb(2,4,25)"
             ],
             [
              0.06274509803921569,
              "rgb(24,15,41)"
             ],
             [
              0.12549019607843137,
              "rgb(47,23,57)"
             ],
             [
              0.18823529411764706,
              "rgb(71,28,72)"
             ],
             [
              0.25098039215686274,
              "rgb(97,30,82)"
             ],
             [
              0.3137254901960784,
              "rgb(123,30,89)"
             ],
             [
              0.3764705882352941,
              "rgb(150,27,91)"
             ],
             [
              0.4392156862745098,
              "rgb(177,22,88)"
             ],
             [
              0.5019607843137255,
              "rgb(203,26,79)"
             ],
             [
              0.5647058823529412,
              "rgb(223,47,67)"
             ],
             [
              0.6274509803921569,
              "rgb(236,76,61)"
             ],
             [
              0.6901960784313725,
              "rgb(242,107,73)"
             ],
             [
              0.7529411764705882,
              "rgb(244,135,95)"
             ],
             [
              0.8156862745098039,
              "rgb(245,162,122)"
             ],
             [
              0.8784313725490196,
              "rgb(246,188,153)"
             ],
             [
              0.9411764705882353,
              "rgb(247,212,187)"
             ],
             [
              1,
              "rgb(250,234,220)"
             ]
            ],
            "type": "heatmap"
           }
          ],
          "heatmapgl": [
           {
            "colorbar": {
             "outlinewidth": 0,
             "tickcolor": "rgb(36,36,36)",
             "ticklen": 8,
             "ticks": "outside",
             "tickwidth": 2
            },
            "colorscale": [
             [
              0,
              "rgb(2,4,25)"
             ],
             [
              0.06274509803921569,
              "rgb(24,15,41)"
             ],
             [
              0.12549019607843137,
              "rgb(47,23,57)"
             ],
             [
              0.18823529411764706,
              "rgb(71,28,72)"
             ],
             [
              0.25098039215686274,
              "rgb(97,30,82)"
             ],
             [
              0.3137254901960784,
              "rgb(123,30,89)"
             ],
             [
              0.3764705882352941,
              "rgb(150,27,91)"
             ],
             [
              0.4392156862745098,
              "rgb(177,22,88)"
             ],
             [
              0.5019607843137255,
              "rgb(203,26,79)"
             ],
             [
              0.5647058823529412,
              "rgb(223,47,67)"
             ],
             [
              0.6274509803921569,
              "rgb(236,76,61)"
             ],
             [
              0.6901960784313725,
              "rgb(242,107,73)"
             ],
             [
              0.7529411764705882,
              "rgb(244,135,95)"
             ],
             [
              0.8156862745098039,
              "rgb(245,162,122)"
             ],
             [
              0.8784313725490196,
              "rgb(246,188,153)"
             ],
             [
              0.9411764705882353,
              "rgb(247,212,187)"
             ],
             [
              1,
              "rgb(250,234,220)"
             ]
            ],
            "type": "heatmapgl"
           }
          ],
          "histogram": [
           {
            "marker": {
             "colorbar": {
              "outlinewidth": 0,
              "tickcolor": "rgb(36,36,36)",
              "ticklen": 8,
              "ticks": "outside",
              "tickwidth": 2
             }
            },
            "type": "histogram"
           }
          ],
          "histogram2d": [
           {
            "colorbar": {
             "outlinewidth": 0,
             "tickcolor": "rgb(36,36,36)",
             "ticklen": 8,
             "ticks": "outside",
             "tickwidth": 2
            },
            "colorscale": [
             [
              0,
              "rgb(2,4,25)"
             ],
             [
              0.06274509803921569,
              "rgb(24,15,41)"
             ],
             [
              0.12549019607843137,
              "rgb(47,23,57)"
             ],
             [
              0.18823529411764706,
              "rgb(71,28,72)"
             ],
             [
              0.25098039215686274,
              "rgb(97,30,82)"
             ],
             [
              0.3137254901960784,
              "rgb(123,30,89)"
             ],
             [
              0.3764705882352941,
              "rgb(150,27,91)"
             ],
             [
              0.4392156862745098,
              "rgb(177,22,88)"
             ],
             [
              0.5019607843137255,
              "rgb(203,26,79)"
             ],
             [
              0.5647058823529412,
              "rgb(223,47,67)"
             ],
             [
              0.6274509803921569,
              "rgb(236,76,61)"
             ],
             [
              0.6901960784313725,
              "rgb(242,107,73)"
             ],
             [
              0.7529411764705882,
              "rgb(244,135,95)"
             ],
             [
              0.8156862745098039,
              "rgb(245,162,122)"
             ],
             [
              0.8784313725490196,
              "rgb(246,188,153)"
             ],
             [
              0.9411764705882353,
              "rgb(247,212,187)"
             ],
             [
              1,
              "rgb(250,234,220)"
             ]
            ],
            "type": "histogram2d"
           }
          ],
          "histogram2dcontour": [
           {
            "colorbar": {
             "outlinewidth": 0,
             "tickcolor": "rgb(36,36,36)",
             "ticklen": 8,
             "ticks": "outside",
             "tickwidth": 2
            },
            "colorscale": [
             [
              0,
              "rgb(2,4,25)"
             ],
             [
              0.06274509803921569,
              "rgb(24,15,41)"
             ],
             [
              0.12549019607843137,
              "rgb(47,23,57)"
             ],
             [
              0.18823529411764706,
              "rgb(71,28,72)"
             ],
             [
              0.25098039215686274,
              "rgb(97,30,82)"
             ],
             [
              0.3137254901960784,
              "rgb(123,30,89)"
             ],
             [
              0.3764705882352941,
              "rgb(150,27,91)"
             ],
             [
              0.4392156862745098,
              "rgb(177,22,88)"
             ],
             [
              0.5019607843137255,
              "rgb(203,26,79)"
             ],
             [
              0.5647058823529412,
              "rgb(223,47,67)"
             ],
             [
              0.6274509803921569,
              "rgb(236,76,61)"
             ],
             [
              0.6901960784313725,
              "rgb(242,107,73)"
             ],
             [
              0.7529411764705882,
              "rgb(244,135,95)"
             ],
             [
              0.8156862745098039,
              "rgb(245,162,122)"
             ],
             [
              0.8784313725490196,
              "rgb(246,188,153)"
             ],
             [
              0.9411764705882353,
              "rgb(247,212,187)"
             ],
             [
              1,
              "rgb(250,234,220)"
             ]
            ],
            "type": "histogram2dcontour"
           }
          ],
          "mesh3d": [
           {
            "colorbar": {
             "outlinewidth": 0,
             "tickcolor": "rgb(36,36,36)",
             "ticklen": 8,
             "ticks": "outside",
             "tickwidth": 2
            },
            "type": "mesh3d"
           }
          ],
          "parcoords": [
           {
            "line": {
             "colorbar": {
              "outlinewidth": 0,
              "tickcolor": "rgb(36,36,36)",
              "ticklen": 8,
              "ticks": "outside",
              "tickwidth": 2
             }
            },
            "type": "parcoords"
           }
          ],
          "scatter": [
           {
            "marker": {
             "colorbar": {
              "outlinewidth": 0,
              "tickcolor": "rgb(36,36,36)",
              "ticklen": 8,
              "ticks": "outside",
              "tickwidth": 2
             }
            },
            "type": "scatter"
           }
          ],
          "scatter3d": [
           {
            "line": {
             "colorbar": {
              "outlinewidth": 0,
              "tickcolor": "rgb(36,36,36)",
              "ticklen": 8,
              "ticks": "outside",
              "tickwidth": 2
             }
            },
            "marker": {
             "colorbar": {
              "outlinewidth": 0,
              "tickcolor": "rgb(36,36,36)",
              "ticklen": 8,
              "ticks": "outside",
              "tickwidth": 2
             }
            },
            "type": "scatter3d"
           }
          ],
          "scattercarpet": [
           {
            "marker": {
             "colorbar": {
              "outlinewidth": 0,
              "tickcolor": "rgb(36,36,36)",
              "ticklen": 8,
              "ticks": "outside",
              "tickwidth": 2
             }
            },
            "type": "scattercarpet"
           }
          ],
          "scattergeo": [
           {
            "marker": {
             "colorbar": {
              "outlinewidth": 0,
              "tickcolor": "rgb(36,36,36)",
              "ticklen": 8,
              "ticks": "outside",
              "tickwidth": 2
             }
            },
            "type": "scattergeo"
           }
          ],
          "scattergl": [
           {
            "marker": {
             "colorbar": {
              "outlinewidth": 0,
              "tickcolor": "rgb(36,36,36)",
              "ticklen": 8,
              "ticks": "outside",
              "tickwidth": 2
             }
            },
            "type": "scattergl"
           }
          ],
          "scattermapbox": [
           {
            "marker": {
             "colorbar": {
              "outlinewidth": 0,
              "tickcolor": "rgb(36,36,36)",
              "ticklen": 8,
              "ticks": "outside",
              "tickwidth": 2
             }
            },
            "type": "scattermapbox"
           }
          ],
          "scatterpolar": [
           {
            "marker": {
             "colorbar": {
              "outlinewidth": 0,
              "tickcolor": "rgb(36,36,36)",
              "ticklen": 8,
              "ticks": "outside",
              "tickwidth": 2
             }
            },
            "type": "scatterpolar"
           }
          ],
          "scatterpolargl": [
           {
            "marker": {
             "colorbar": {
              "outlinewidth": 0,
              "tickcolor": "rgb(36,36,36)",
              "ticklen": 8,
              "ticks": "outside",
              "tickwidth": 2
             }
            },
            "type": "scatterpolargl"
           }
          ],
          "scatterternary": [
           {
            "marker": {
             "colorbar": {
              "outlinewidth": 0,
              "tickcolor": "rgb(36,36,36)",
              "ticklen": 8,
              "ticks": "outside",
              "tickwidth": 2
             }
            },
            "type": "scatterternary"
           }
          ],
          "surface": [
           {
            "colorbar": {
             "outlinewidth": 0,
             "tickcolor": "rgb(36,36,36)",
             "ticklen": 8,
             "ticks": "outside",
             "tickwidth": 2
            },
            "colorscale": [
             [
              0,
              "rgb(2,4,25)"
             ],
             [
              0.06274509803921569,
              "rgb(24,15,41)"
             ],
             [
              0.12549019607843137,
              "rgb(47,23,57)"
             ],
             [
              0.18823529411764706,
              "rgb(71,28,72)"
             ],
             [
              0.25098039215686274,
              "rgb(97,30,82)"
             ],
             [
              0.3137254901960784,
              "rgb(123,30,89)"
             ],
             [
              0.3764705882352941,
              "rgb(150,27,91)"
             ],
             [
              0.4392156862745098,
              "rgb(177,22,88)"
             ],
             [
              0.5019607843137255,
              "rgb(203,26,79)"
             ],
             [
              0.5647058823529412,
              "rgb(223,47,67)"
             ],
             [
              0.6274509803921569,
              "rgb(236,76,61)"
             ],
             [
              0.6901960784313725,
              "rgb(242,107,73)"
             ],
             [
              0.7529411764705882,
              "rgb(244,135,95)"
             ],
             [
              0.8156862745098039,
              "rgb(245,162,122)"
             ],
             [
              0.8784313725490196,
              "rgb(246,188,153)"
             ],
             [
              0.9411764705882353,
              "rgb(247,212,187)"
             ],
             [
              1,
              "rgb(250,234,220)"
             ]
            ],
            "type": "surface"
           }
          ],
          "table": [
           {
            "cells": {
             "fill": {
              "color": "rgb(231,231,240)"
             },
             "line": {
              "color": "white"
             }
            },
            "header": {
             "fill": {
              "color": "rgb(183,183,191)"
             },
             "line": {
              "color": "white"
             }
            },
            "type": "table"
           }
          ]
         },
         "layout": {
          "annotationdefaults": {
           "arrowcolor": "rgb(67,103,167)"
          },
          "colorscale": {
           "sequential": [
            [
             0,
             "rgb(2,4,25)"
            ],
            [
             0.06274509803921569,
             "rgb(24,15,41)"
            ],
            [
             0.12549019607843137,
             "rgb(47,23,57)"
            ],
            [
             0.18823529411764706,
             "rgb(71,28,72)"
            ],
            [
             0.25098039215686274,
             "rgb(97,30,82)"
            ],
            [
             0.3137254901960784,
             "rgb(123,30,89)"
            ],
            [
             0.3764705882352941,
             "rgb(150,27,91)"
            ],
            [
             0.4392156862745098,
             "rgb(177,22,88)"
            ],
            [
             0.5019607843137255,
             "rgb(203,26,79)"
            ],
            [
             0.5647058823529412,
             "rgb(223,47,67)"
            ],
            [
             0.6274509803921569,
             "rgb(236,76,61)"
            ],
            [
             0.6901960784313725,
             "rgb(242,107,73)"
            ],
            [
             0.7529411764705882,
             "rgb(244,135,95)"
            ],
            [
             0.8156862745098039,
             "rgb(245,162,122)"
            ],
            [
             0.8784313725490196,
             "rgb(246,188,153)"
            ],
            [
             0.9411764705882353,
             "rgb(247,212,187)"
            ],
            [
             1,
             "rgb(250,234,220)"
            ]
           ],
           "sequentialminus": [
            [
             0,
             "rgb(2,4,25)"
            ],
            [
             0.06274509803921569,
             "rgb(24,15,41)"
            ],
            [
             0.12549019607843137,
             "rgb(47,23,57)"
            ],
            [
             0.18823529411764706,
             "rgb(71,28,72)"
            ],
            [
             0.25098039215686274,
             "rgb(97,30,82)"
            ],
            [
             0.3137254901960784,
             "rgb(123,30,89)"
            ],
            [
             0.3764705882352941,
             "rgb(150,27,91)"
            ],
            [
             0.4392156862745098,
             "rgb(177,22,88)"
            ],
            [
             0.5019607843137255,
             "rgb(203,26,79)"
            ],
            [
             0.5647058823529412,
             "rgb(223,47,67)"
            ],
            [
             0.6274509803921569,
             "rgb(236,76,61)"
            ],
            [
             0.6901960784313725,
             "rgb(242,107,73)"
            ],
            [
             0.7529411764705882,
             "rgb(244,135,95)"
            ],
            [
             0.8156862745098039,
             "rgb(245,162,122)"
            ],
            [
             0.8784313725490196,
             "rgb(246,188,153)"
            ],
            [
             0.9411764705882353,
             "rgb(247,212,187)"
            ],
            [
             1,
             "rgb(250,234,220)"
            ]
           ]
          },
          "colorway": [
           "rgb(76,114,176)",
           "rgb(221,132,82)",
           "rgb(85,168,104)",
           "rgb(196,78,82)",
           "rgb(129,114,179)",
           "rgb(147,120,96)",
           "rgb(218,139,195)",
           "rgb(140,140,140)",
           "rgb(204,185,116)",
           "rgb(100,181,205)"
          ],
          "font": {
           "color": "rgb(36,36,36)"
          },
          "geo": {
           "bgcolor": "white",
           "lakecolor": "white",
           "landcolor": "rgb(234,234,242)",
           "showlakes": true,
           "showland": true,
           "subunitcolor": "white"
          },
          "hoverlabel": {
           "align": "left"
          },
          "hovermode": "closest",
          "paper_bgcolor": "white",
          "plot_bgcolor": "rgb(234,234,242)",
          "polar": {
           "angularaxis": {
            "gridcolor": "white",
            "linecolor": "white",
            "showgrid": true,
            "ticks": ""
           },
           "bgcolor": "rgb(234,234,242)",
           "radialaxis": {
            "gridcolor": "white",
            "linecolor": "white",
            "showgrid": true,
            "ticks": ""
           }
          },
          "scene": {
           "xaxis": {
            "backgroundcolor": "rgb(234,234,242)",
            "gridcolor": "white",
            "gridwidth": 2,
            "linecolor": "white",
            "showbackground": true,
            "showgrid": true,
            "ticks": "",
            "zerolinecolor": "white"
           },
           "yaxis": {
            "backgroundcolor": "rgb(234,234,242)",
            "gridcolor": "white",
            "gridwidth": 2,
            "linecolor": "white",
            "showbackground": true,
            "showgrid": true,
            "ticks": "",
            "zerolinecolor": "white"
           },
           "zaxis": {
            "backgroundcolor": "rgb(234,234,242)",
            "gridcolor": "white",
            "gridwidth": 2,
            "linecolor": "white",
            "showbackground": true,
            "showgrid": true,
            "ticks": "",
            "zerolinecolor": "white"
           }
          },
          "shapedefaults": {
           "fillcolor": "rgb(67,103,167)",
           "line": {
            "width": 0
           },
           "opacity": 0.5
          },
          "ternary": {
           "aaxis": {
            "gridcolor": "white",
            "linecolor": "white",
            "showgrid": true,
            "ticks": ""
           },
           "baxis": {
            "gridcolor": "white",
            "linecolor": "white",
            "showgrid": true,
            "ticks": ""
           },
           "bgcolor": "rgb(234,234,242)",
           "caxis": {
            "gridcolor": "white",
            "linecolor": "white",
            "showgrid": true,
            "ticks": ""
           }
          },
          "xaxis": {
           "automargin": true,
           "gridcolor": "white",
           "linecolor": "white",
           "showgrid": true,
           "ticks": "",
           "zerolinecolor": "white"
          },
          "yaxis": {
           "automargin": true,
           "gridcolor": "white",
           "linecolor": "white",
           "showgrid": true,
           "ticks": "",
           "zerolinecolor": "white"
          }
         }
        },
        "title": {
         "text": "Comparisons"
        }
       }
      },
      "text/html": [
       "<div>\n",
       "        \n",
       "        \n",
       "            <div id=\"81800705-0da0-4e0e-8ceb-43971bd2797b\" class=\"plotly-graph-div\" style=\"height:600px; width:100%;\"></div>\n",
       "            <script type=\"text/javascript\">\n",
       "                require([\"plotly\"], function(Plotly) {\n",
       "                    window.PLOTLYENV=window.PLOTLYENV || {};\n",
       "                    \n",
       "                if (document.getElementById(\"81800705-0da0-4e0e-8ceb-43971bd2797b\")) {\n",
       "                    Plotly.newPlot(\n",
       "                        '81800705-0da0-4e0e-8ceb-43971bd2797b',\n",
       "                        [{\"dimensions\": [{\"axis\": {\"matches\": true}, \"label\": \"rep\", \"values\": [\"18824\"]}, {\"axis\": {\"matches\": true}, \"label\": \"answers\", \"values\": [36]}], \"hoverlabel\": {\"namelength\": 0}, \"hovertemplate\": \"<b>%{hovertext}</b><br><br>name=Neil Slater<br>rep=18824<br>rep/ans=%{marker.size}<br>%{xaxis.title.text}=%{x}<br>%{yaxis.title.text}=%{y}\", \"hovertext\": [\"Neil Slater\"], \"legendgroup\": \"name=Neil Slater, rep=18824\", \"marker\": {\"color\": \"rgb(76,114,176)\", \"size\": [522.8888888888889], \"sizemode\": \"area\", \"sizeref\": 1.3072222222222223, \"symbol\": \"circle\"}, \"name\": \"name=Neil Slater, rep=18824\", \"showlegend\": true, \"type\": \"splom\"}, {\"dimensions\": [{\"axis\": {\"matches\": true}, \"label\": \"rep\", \"values\": [\"3656\"]}, {\"axis\": {\"matches\": true}, \"label\": \"answers\", \"values\": [10]}], \"hoverlabel\": {\"namelength\": 0}, \"hovertemplate\": \"<b>%{hovertext}</b><br><br>name=Franck Dernoncourt<br>rep=3656<br>rep/ans=%{marker.size}<br>%{xaxis.title.text}=%{x}<br>%{yaxis.title.text}=%{y}\", \"hovertext\": [\"Franck Dernoncourt\"], \"legendgroup\": \"name=Franck Dernoncourt, rep=3656\", \"marker\": {\"color\": \"rgb(221,132,82)\", \"size\": [365.6], \"sizemode\": \"area\", \"sizeref\": 1.3072222222222223, \"symbol\": \"diamond\"}, \"name\": \"name=Franck Dernoncourt, rep=3656\", \"showlegend\": true, \"type\": \"splom\"}, {\"dimensions\": [{\"axis\": {\"matches\": true}, \"label\": \"rep\", \"values\": [\"6995\"]}, {\"axis\": {\"matches\": true}, \"label\": \"answers\", \"values\": [23]}], \"hoverlabel\": {\"namelength\": 0}, \"hovertemplate\": \"<b>%{hovertext}</b><br><br>name=Jan van der Vegt<br>rep=6995<br>rep/ans=%{marker.size}<br>%{xaxis.title.text}=%{x}<br>%{yaxis.title.text}=%{y}\", \"hovertext\": [\"Jan van der Vegt\"], \"legendgroup\": \"name=Jan van der Vegt, rep=6995\", \"marker\": {\"color\": \"rgb(85,168,104)\", \"size\": [304.1304347826087], \"sizemode\": \"area\", \"sizeref\": 1.3072222222222223, \"symbol\": \"square\"}, \"name\": \"name=Jan van der Vegt, rep=6995\", \"showlegend\": true, \"type\": \"splom\"}, {\"dimensions\": [{\"axis\": {\"matches\": true}, \"label\": \"rep\", \"values\": [\"2564\"]}, {\"axis\": {\"matches\": true}, \"label\": \"answers\", \"values\": [9]}], \"hoverlabel\": {\"namelength\": 0}, \"hovertemplate\": \"<b>%{hovertext}</b><br><br>name=Ryan Zotti<br>rep=2564<br>rep/ans=%{marker.size}<br>%{xaxis.title.text}=%{x}<br>%{yaxis.title.text}=%{y}\", \"hovertext\": [\"Ryan Zotti\"], \"legendgroup\": \"name=Ryan Zotti, rep=2564\", \"marker\": {\"color\": \"rgb(196,78,82)\", \"size\": [284.8888888888889], \"sizemode\": \"area\", \"sizeref\": 1.3072222222222223, \"symbol\": \"x\"}, \"name\": \"name=Ryan Zotti, rep=2564\", \"showlegend\": true, \"type\": \"splom\"}, {\"dimensions\": [{\"axis\": {\"matches\": true}, \"label\": \"rep\", \"values\": [\"1194\"]}, {\"axis\": {\"matches\": true}, \"label\": \"answers\", \"values\": [8]}], \"hoverlabel\": {\"namelength\": 0}, \"hovertemplate\": \"<b>%{hovertext}</b><br><br>name=StatsSorceress<br>rep=1194<br>rep/ans=%{marker.size}<br>%{xaxis.title.text}=%{x}<br>%{yaxis.title.text}=%{y}\", \"hovertext\": [\"StatsSorceress\"], \"legendgroup\": \"name=StatsSorceress, rep=1194\", \"marker\": {\"color\": \"rgb(129,114,179)\", \"size\": [149.25], \"sizemode\": \"area\", \"sizeref\": 1.3072222222222223, \"symbol\": \"cross\"}, \"name\": \"name=StatsSorceress, rep=1194\", \"showlegend\": true, \"type\": \"splom\"}, {\"dimensions\": [{\"axis\": {\"matches\": true}, \"label\": \"rep\", \"values\": [\"1409\"]}, {\"axis\": {\"matches\": true}, \"label\": \"answers\", \"values\": [10]}], \"hoverlabel\": {\"namelength\": 0}, \"hovertemplate\": \"<b>%{hovertext}</b><br><br>name=stmax<br>rep=1409<br>rep/ans=%{marker.size}<br>%{xaxis.title.text}=%{x}<br>%{yaxis.title.text}=%{y}\", \"hovertext\": [\"stmax\"], \"legendgroup\": \"name=stmax, rep=1409\", \"marker\": {\"color\": \"rgb(147,120,96)\", \"size\": [140.9], \"sizemode\": \"area\", \"sizeref\": 1.3072222222222223, \"symbol\": \"circle\"}, \"name\": \"name=stmax, rep=1409\", \"showlegend\": true, \"type\": \"splom\"}, {\"dimensions\": [{\"axis\": {\"matches\": true}, \"label\": \"rep\", \"values\": [\"1311\"]}, {\"axis\": {\"matches\": true}, \"label\": \"answers\", \"values\": [10]}], \"hoverlabel\": {\"namelength\": 0}, \"hovertemplate\": \"<b>%{hovertext}</b><br><br>name=Elias Strehle<br>rep=1311<br>rep/ans=%{marker.size}<br>%{xaxis.title.text}=%{x}<br>%{yaxis.title.text}=%{y}\", \"hovertext\": [\"Elias Strehle\"], \"legendgroup\": \"name=Elias Strehle, rep=1311\", \"marker\": {\"color\": \"rgb(218,139,195)\", \"size\": [131.1], \"sizemode\": \"area\", \"sizeref\": 1.3072222222222223, \"symbol\": \"diamond\"}, \"name\": \"name=Elias Strehle, rep=1311\", \"showlegend\": true, \"type\": \"splom\"}, {\"dimensions\": [{\"axis\": {\"matches\": true}, \"label\": \"rep\", \"values\": [\"1294\"]}, {\"axis\": {\"matches\": true}, \"label\": \"answers\", \"values\": [10]}], \"hoverlabel\": {\"namelength\": 0}, \"hovertemplate\": \"<b>%{hovertext}</b><br><br>name=I_Play_With_Data<br>rep=1294<br>rep/ans=%{marker.size}<br>%{xaxis.title.text}=%{x}<br>%{yaxis.title.text}=%{y}\", \"hovertext\": [\"I_Play_With_Data\"], \"legendgroup\": \"name=I_Play_With_Data, rep=1294\", \"marker\": {\"color\": \"rgb(140,140,140)\", \"size\": [129.4], \"sizemode\": \"area\", \"sizeref\": 1.3072222222222223, \"symbol\": \"square\"}, \"name\": \"name=I_Play_With_Data, rep=1294\", \"showlegend\": true, \"type\": \"splom\"}, {\"dimensions\": [{\"axis\": {\"matches\": true}, \"label\": \"rep\", \"values\": [\"1754\"]}, {\"axis\": {\"matches\": true}, \"label\": \"answers\", \"values\": [14]}], \"hoverlabel\": {\"namelength\": 0}, \"hovertemplate\": \"<b>%{hovertext}</b><br><br>name=Shamit Verma<br>rep=1754<br>rep/ans=%{marker.size}<br>%{xaxis.title.text}=%{x}<br>%{yaxis.title.text}=%{y}\", \"hovertext\": [\"Shamit Verma\"], \"legendgroup\": \"name=Shamit Verma, rep=1754\", \"marker\": {\"color\": \"rgb(204,185,116)\", \"size\": [125.28571428571429], \"sizemode\": \"area\", \"sizeref\": 1.3072222222222223, \"symbol\": \"x\"}, \"name\": \"name=Shamit Verma, rep=1754\", \"showlegend\": true, \"type\": \"splom\"}, {\"dimensions\": [{\"axis\": {\"matches\": true}, \"label\": \"rep\", \"values\": [\"900\"]}, {\"axis\": {\"matches\": true}, \"label\": \"answers\", \"values\": [8]}], \"hoverlabel\": {\"namelength\": 0}, \"hovertemplate\": \"<b>%{hovertext}</b><br><br>name=thanatoz<br>rep=900<br>rep/ans=%{marker.size}<br>%{xaxis.title.text}=%{x}<br>%{yaxis.title.text}=%{y}\", \"hovertext\": [\"thanatoz\"], \"legendgroup\": \"name=thanatoz, rep=900\", \"marker\": {\"color\": \"rgb(100,181,205)\", \"size\": [112.5], \"sizemode\": \"area\", \"sizeref\": 1.3072222222222223, \"symbol\": \"cross\"}, \"name\": \"name=thanatoz, rep=900\", \"showlegend\": true, \"type\": \"splom\"}, {\"dimensions\": [{\"axis\": {\"matches\": true}, \"label\": \"rep\", \"values\": [\"1648\"]}, {\"axis\": {\"matches\": true}, \"label\": \"answers\", \"values\": [17]}], \"hoverlabel\": {\"namelength\": 0}, \"hovertemplate\": \"<b>%{hovertext}</b><br><br>name=Peter<br>rep=1648<br>rep/ans=%{marker.size}<br>%{xaxis.title.text}=%{x}<br>%{yaxis.title.text}=%{y}\", \"hovertext\": [\"Peter\"], \"legendgroup\": \"name=Peter, rep=1648\", \"marker\": {\"color\": \"rgb(76,114,176)\", \"size\": [96.94117647058823], \"sizemode\": \"area\", \"sizeref\": 1.3072222222222223, \"symbol\": \"circle\"}, \"name\": \"name=Peter, rep=1648\", \"showlegend\": true, \"type\": \"splom\"}, {\"dimensions\": [{\"axis\": {\"matches\": true}, \"label\": \"rep\", \"values\": [\"1379\"]}, {\"axis\": {\"matches\": true}, \"label\": \"answers\", \"values\": [15]}], \"hoverlabel\": {\"namelength\": 0}, \"hovertemplate\": \"<b>%{hovertext}</b><br><br>name=Kiritee Gak<br>rep=1379<br>rep/ans=%{marker.size}<br>%{xaxis.title.text}=%{x}<br>%{yaxis.title.text}=%{y}\", \"hovertext\": [\"Kiritee Gak\"], \"legendgroup\": \"name=Kiritee Gak, rep=1379\", \"marker\": {\"color\": \"rgb(221,132,82)\", \"size\": [91.93333333333334], \"sizemode\": \"area\", \"sizeref\": 1.3072222222222223, \"symbol\": \"diamond\"}, \"name\": \"name=Kiritee Gak, rep=1379\", \"showlegend\": true, \"type\": \"splom\"}, {\"dimensions\": [{\"axis\": {\"matches\": true}, \"label\": \"rep\", \"values\": [\"1598\"]}, {\"axis\": {\"matches\": true}, \"label\": \"answers\", \"values\": [19]}], \"hoverlabel\": {\"namelength\": 0}, \"hovertemplate\": \"<b>%{hovertext}</b><br><br>name=Stephen Rauch<br>rep=1598<br>rep/ans=%{marker.size}<br>%{xaxis.title.text}=%{x}<br>%{yaxis.title.text}=%{y}\", \"hovertext\": [\"Stephen Rauch\"], \"legendgroup\": \"name=Stephen Rauch, rep=1598\", \"marker\": {\"color\": \"rgb(85,168,104)\", \"size\": [84.10526315789474], \"sizemode\": \"area\", \"sizeref\": 1.3072222222222223, \"symbol\": \"square\"}, \"name\": \"name=Stephen Rauch, rep=1598\", \"showlegend\": true, \"type\": \"splom\"}, {\"dimensions\": [{\"axis\": {\"matches\": true}, \"label\": \"rep\", \"values\": [\"789\"]}, {\"axis\": {\"matches\": true}, \"label\": \"answers\", \"values\": [10]}], \"hoverlabel\": {\"namelength\": 0}, \"hovertemplate\": \"<b>%{hovertext}</b><br><br>name=Antonio Juri\\u0107<br>rep=789<br>rep/ans=%{marker.size}<br>%{xaxis.title.text}=%{x}<br>%{yaxis.title.text}=%{y}\", \"hovertext\": [\"Antonio Juri\\u0107\"], \"legendgroup\": \"name=Antonio Juri\\u0107, rep=789\", \"marker\": {\"color\": \"rgb(196,78,82)\", \"size\": [78.9], \"sizemode\": \"area\", \"sizeref\": 1.3072222222222223, \"symbol\": \"x\"}, \"name\": \"name=Antonio Juri\\u0107, rep=789\", \"showlegend\": true, \"type\": \"splom\"}, {\"dimensions\": [{\"axis\": {\"matches\": true}, \"label\": \"rep\", \"values\": [\"781\"]}, {\"axis\": {\"matches\": true}, \"label\": \"answers\", \"values\": [10]}], \"hoverlabel\": {\"namelength\": 0}, \"hovertemplate\": \"<b>%{hovertext}</b><br><br>name=tuomastik<br>rep=781<br>rep/ans=%{marker.size}<br>%{xaxis.title.text}=%{x}<br>%{yaxis.title.text}=%{y}\", \"hovertext\": [\"tuomastik\"], \"legendgroup\": \"name=tuomastik, rep=781\", \"marker\": {\"color\": \"rgb(129,114,179)\", \"size\": [78.1], \"sizemode\": \"area\", \"sizeref\": 1.3072222222222223, \"symbol\": \"cross\"}, \"name\": \"name=tuomastik, rep=781\", \"showlegend\": true, \"type\": \"splom\"}, {\"dimensions\": [{\"axis\": {\"matches\": true}, \"label\": \"rep\", \"values\": [\"822\"]}, {\"axis\": {\"matches\": true}, \"label\": \"answers\", \"values\": [11]}], \"hoverlabel\": {\"namelength\": 0}, \"hovertemplate\": \"<b>%{hovertext}</b><br><br>name=TitoOrt<br>rep=822<br>rep/ans=%{marker.size}<br>%{xaxis.title.text}=%{x}<br>%{yaxis.title.text}=%{y}\", \"hovertext\": [\"TitoOrt\"], \"legendgroup\": \"name=TitoOrt, rep=822\", \"marker\": {\"color\": \"rgb(147,120,96)\", \"size\": [74.72727272727273], \"sizemode\": \"area\", \"sizeref\": 1.3072222222222223, \"symbol\": \"circle\"}, \"name\": \"name=TitoOrt, rep=822\", \"showlegend\": true, \"type\": \"splom\"}, {\"dimensions\": [{\"axis\": {\"matches\": true}, \"label\": \"rep\", \"values\": [\"1577\"]}, {\"axis\": {\"matches\": true}, \"label\": \"answers\", \"values\": [22]}], \"hoverlabel\": {\"namelength\": 0}, \"hovertemplate\": \"<b>%{hovertext}</b><br><br>name=Aditya<br>rep=1577<br>rep/ans=%{marker.size}<br>%{xaxis.title.text}=%{x}<br>%{yaxis.title.text}=%{y}\", \"hovertext\": [\"Aditya\"], \"legendgroup\": \"name=Aditya, rep=1577\", \"marker\": {\"color\": \"rgb(218,139,195)\", \"size\": [71.68181818181819], \"sizemode\": \"area\", \"sizeref\": 1.3072222222222223, \"symbol\": \"diamond\"}, \"name\": \"name=Aditya, rep=1577\", \"showlegend\": true, \"type\": \"splom\"}, {\"dimensions\": [{\"axis\": {\"matches\": true}, \"label\": \"rep\", \"values\": [\"8181\"]}, {\"axis\": {\"matches\": true}, \"label\": \"answers\", \"values\": [117]}], \"hoverlabel\": {\"namelength\": 0}, \"hovertemplate\": \"<b>%{hovertext}</b><br><br>name=n1k31t4<br>rep=8181<br>rep/ans=%{marker.size}<br>%{xaxis.title.text}=%{x}<br>%{yaxis.title.text}=%{y}\", \"hovertext\": [\"n1k31t4\"], \"legendgroup\": \"name=n1k31t4, rep=8181\", \"marker\": {\"color\": \"rgb(140,140,140)\", \"size\": [69.92307692307692], \"sizemode\": \"area\", \"sizeref\": 1.3072222222222223, \"symbol\": \"square\"}, \"name\": \"name=n1k31t4, rep=8181\", \"showlegend\": true, \"type\": \"splom\"}, {\"dimensions\": [{\"axis\": {\"matches\": true}, \"label\": \"rep\", \"values\": [\"1159\"]}, {\"axis\": {\"matches\": true}, \"label\": \"answers\", \"values\": [17]}], \"hoverlabel\": {\"namelength\": 0}, \"hovertemplate\": \"<b>%{hovertext}</b><br><br>name=Ankit Seth<br>rep=1159<br>rep/ans=%{marker.size}<br>%{xaxis.title.text}=%{x}<br>%{yaxis.title.text}=%{y}\", \"hovertext\": [\"Ankit Seth\"], \"legendgroup\": \"name=Ankit Seth, rep=1159\", \"marker\": {\"color\": \"rgb(204,185,116)\", \"size\": [68.17647058823529], \"sizemode\": \"area\", \"sizeref\": 1.3072222222222223, \"symbol\": \"x\"}, \"name\": \"name=Ankit Seth, rep=1159\", \"showlegend\": true, \"type\": \"splom\"}, {\"dimensions\": [{\"axis\": {\"matches\": true}, \"label\": \"rep\", \"values\": [\"1504\"]}, {\"axis\": {\"matches\": true}, \"label\": \"answers\", \"values\": [24]}], \"hoverlabel\": {\"namelength\": 0}, \"hovertemplate\": \"<b>%{hovertext}</b><br><br>name=Juan Esteban de la Calle<br>rep=1504<br>rep/ans=%{marker.size}<br>%{xaxis.title.text}=%{x}<br>%{yaxis.title.text}=%{y}\", \"hovertext\": [\"Juan Esteban de la Calle\"], \"legendgroup\": \"name=Juan Esteban de la Calle, rep=1504\", \"marker\": {\"color\": \"rgb(100,181,205)\", \"size\": [62.666666666666664], \"sizemode\": \"area\", \"sizeref\": 1.3072222222222223, \"symbol\": \"cross\"}, \"name\": \"name=Juan Esteban de la Calle, rep=1504\", \"showlegend\": true, \"type\": \"splom\"}],\n",
       "                        {\"dragmode\": \"select\", \"height\": 600, \"legend\": {\"itemsizing\": \"constant\", \"tracegroupgap\": 0}, \"template\": {\"data\": {\"bar\": [{\"error_x\": {\"color\": \"rgb(36,36,36)\"}, \"error_y\": {\"color\": \"rgb(36,36,36)\"}, \"marker\": {\"line\": {\"color\": \"rgb(234,234,242)\", \"width\": 0.5}}, \"type\": \"bar\"}], \"barpolar\": [{\"marker\": {\"line\": {\"color\": \"rgb(234,234,242)\", \"width\": 0.5}}, \"type\": \"barpolar\"}], \"carpet\": [{\"aaxis\": {\"endlinecolor\": \"rgb(36,36,36)\", \"gridcolor\": \"white\", \"linecolor\": \"white\", \"minorgridcolor\": \"white\", \"startlinecolor\": \"rgb(36,36,36)\"}, \"baxis\": {\"endlinecolor\": \"rgb(36,36,36)\", \"gridcolor\": \"white\", \"linecolor\": \"white\", \"minorgridcolor\": \"white\", \"startlinecolor\": \"rgb(36,36,36)\"}, \"type\": \"carpet\"}], \"choropleth\": [{\"colorbar\": {\"outlinewidth\": 0, \"tickcolor\": \"rgb(36,36,36)\", \"ticklen\": 8, \"ticks\": \"outside\", \"tickwidth\": 2}, \"type\": \"choropleth\"}], \"contour\": [{\"colorbar\": {\"outlinewidth\": 0, \"tickcolor\": \"rgb(36,36,36)\", \"ticklen\": 8, \"ticks\": \"outside\", \"tickwidth\": 2}, \"colorscale\": [[0.0, \"rgb(2,4,25)\"], [0.06274509803921569, \"rgb(24,15,41)\"], [0.12549019607843137, \"rgb(47,23,57)\"], [0.18823529411764706, \"rgb(71,28,72)\"], [0.25098039215686274, \"rgb(97,30,82)\"], [0.3137254901960784, \"rgb(123,30,89)\"], [0.3764705882352941, \"rgb(150,27,91)\"], [0.4392156862745098, \"rgb(177,22,88)\"], [0.5019607843137255, \"rgb(203,26,79)\"], [0.5647058823529412, \"rgb(223,47,67)\"], [0.6274509803921569, \"rgb(236,76,61)\"], [0.6901960784313725, \"rgb(242,107,73)\"], [0.7529411764705882, \"rgb(244,135,95)\"], [0.8156862745098039, \"rgb(245,162,122)\"], [0.8784313725490196, \"rgb(246,188,153)\"], [0.9411764705882353, \"rgb(247,212,187)\"], [1.0, \"rgb(250,234,220)\"]], \"type\": \"contour\"}], \"contourcarpet\": [{\"colorbar\": {\"outlinewidth\": 0, \"tickcolor\": \"rgb(36,36,36)\", \"ticklen\": 8, \"ticks\": \"outside\", \"tickwidth\": 2}, \"type\": \"contourcarpet\"}], \"heatmap\": [{\"colorbar\": {\"outlinewidth\": 0, \"tickcolor\": \"rgb(36,36,36)\", \"ticklen\": 8, \"ticks\": \"outside\", \"tickwidth\": 2}, \"colorscale\": [[0.0, \"rgb(2,4,25)\"], [0.06274509803921569, \"rgb(24,15,41)\"], [0.12549019607843137, \"rgb(47,23,57)\"], [0.18823529411764706, \"rgb(71,28,72)\"], [0.25098039215686274, \"rgb(97,30,82)\"], [0.3137254901960784, \"rgb(123,30,89)\"], [0.3764705882352941, \"rgb(150,27,91)\"], [0.4392156862745098, \"rgb(177,22,88)\"], [0.5019607843137255, \"rgb(203,26,79)\"], [0.5647058823529412, \"rgb(223,47,67)\"], [0.6274509803921569, \"rgb(236,76,61)\"], [0.6901960784313725, \"rgb(242,107,73)\"], [0.7529411764705882, \"rgb(244,135,95)\"], [0.8156862745098039, \"rgb(245,162,122)\"], [0.8784313725490196, \"rgb(246,188,153)\"], [0.9411764705882353, \"rgb(247,212,187)\"], [1.0, \"rgb(250,234,220)\"]], \"type\": \"heatmap\"}], \"heatmapgl\": [{\"colorbar\": {\"outlinewidth\": 0, \"tickcolor\": \"rgb(36,36,36)\", \"ticklen\": 8, \"ticks\": \"outside\", \"tickwidth\": 2}, \"colorscale\": [[0.0, \"rgb(2,4,25)\"], [0.06274509803921569, \"rgb(24,15,41)\"], [0.12549019607843137, \"rgb(47,23,57)\"], [0.18823529411764706, \"rgb(71,28,72)\"], [0.25098039215686274, \"rgb(97,30,82)\"], [0.3137254901960784, \"rgb(123,30,89)\"], [0.3764705882352941, \"rgb(150,27,91)\"], [0.4392156862745098, \"rgb(177,22,88)\"], [0.5019607843137255, \"rgb(203,26,79)\"], [0.5647058823529412, \"rgb(223,47,67)\"], [0.6274509803921569, \"rgb(236,76,61)\"], [0.6901960784313725, \"rgb(242,107,73)\"], [0.7529411764705882, \"rgb(244,135,95)\"], [0.8156862745098039, \"rgb(245,162,122)\"], [0.8784313725490196, \"rgb(246,188,153)\"], [0.9411764705882353, \"rgb(247,212,187)\"], [1.0, \"rgb(250,234,220)\"]], \"type\": \"heatmapgl\"}], \"histogram\": [{\"marker\": {\"colorbar\": {\"outlinewidth\": 0, \"tickcolor\": \"rgb(36,36,36)\", \"ticklen\": 8, \"ticks\": \"outside\", \"tickwidth\": 2}}, \"type\": \"histogram\"}], \"histogram2d\": [{\"colorbar\": {\"outlinewidth\": 0, \"tickcolor\": \"rgb(36,36,36)\", \"ticklen\": 8, \"ticks\": \"outside\", \"tickwidth\": 2}, \"colorscale\": [[0.0, \"rgb(2,4,25)\"], [0.06274509803921569, \"rgb(24,15,41)\"], [0.12549019607843137, \"rgb(47,23,57)\"], [0.18823529411764706, \"rgb(71,28,72)\"], [0.25098039215686274, \"rgb(97,30,82)\"], [0.3137254901960784, \"rgb(123,30,89)\"], [0.3764705882352941, \"rgb(150,27,91)\"], [0.4392156862745098, \"rgb(177,22,88)\"], [0.5019607843137255, \"rgb(203,26,79)\"], [0.5647058823529412, \"rgb(223,47,67)\"], [0.6274509803921569, \"rgb(236,76,61)\"], [0.6901960784313725, \"rgb(242,107,73)\"], [0.7529411764705882, \"rgb(244,135,95)\"], [0.8156862745098039, \"rgb(245,162,122)\"], [0.8784313725490196, \"rgb(246,188,153)\"], [0.9411764705882353, \"rgb(247,212,187)\"], [1.0, \"rgb(250,234,220)\"]], \"type\": \"histogram2d\"}], \"histogram2dcontour\": [{\"colorbar\": {\"outlinewidth\": 0, \"tickcolor\": \"rgb(36,36,36)\", \"ticklen\": 8, \"ticks\": \"outside\", \"tickwidth\": 2}, \"colorscale\": [[0.0, \"rgb(2,4,25)\"], [0.06274509803921569, \"rgb(24,15,41)\"], [0.12549019607843137, \"rgb(47,23,57)\"], [0.18823529411764706, \"rgb(71,28,72)\"], [0.25098039215686274, \"rgb(97,30,82)\"], [0.3137254901960784, \"rgb(123,30,89)\"], [0.3764705882352941, \"rgb(150,27,91)\"], [0.4392156862745098, \"rgb(177,22,88)\"], [0.5019607843137255, \"rgb(203,26,79)\"], [0.5647058823529412, \"rgb(223,47,67)\"], [0.6274509803921569, \"rgb(236,76,61)\"], [0.6901960784313725, \"rgb(242,107,73)\"], [0.7529411764705882, \"rgb(244,135,95)\"], [0.8156862745098039, \"rgb(245,162,122)\"], [0.8784313725490196, \"rgb(246,188,153)\"], [0.9411764705882353, \"rgb(247,212,187)\"], [1.0, \"rgb(250,234,220)\"]], \"type\": \"histogram2dcontour\"}], \"mesh3d\": [{\"colorbar\": {\"outlinewidth\": 0, \"tickcolor\": \"rgb(36,36,36)\", \"ticklen\": 8, \"ticks\": \"outside\", \"tickwidth\": 2}, \"type\": \"mesh3d\"}], \"parcoords\": [{\"line\": {\"colorbar\": {\"outlinewidth\": 0, \"tickcolor\": \"rgb(36,36,36)\", \"ticklen\": 8, \"ticks\": \"outside\", \"tickwidth\": 2}}, \"type\": \"parcoords\"}], \"scatter\": [{\"marker\": {\"colorbar\": {\"outlinewidth\": 0, \"tickcolor\": \"rgb(36,36,36)\", \"ticklen\": 8, \"ticks\": \"outside\", \"tickwidth\": 2}}, \"type\": \"scatter\"}], \"scatter3d\": [{\"line\": {\"colorbar\": {\"outlinewidth\": 0, \"tickcolor\": \"rgb(36,36,36)\", \"ticklen\": 8, \"ticks\": \"outside\", \"tickwidth\": 2}}, \"marker\": {\"colorbar\": {\"outlinewidth\": 0, \"tickcolor\": \"rgb(36,36,36)\", \"ticklen\": 8, \"ticks\": \"outside\", \"tickwidth\": 2}}, \"type\": \"scatter3d\"}], \"scattercarpet\": [{\"marker\": {\"colorbar\": {\"outlinewidth\": 0, \"tickcolor\": \"rgb(36,36,36)\", \"ticklen\": 8, \"ticks\": \"outside\", \"tickwidth\": 2}}, \"type\": \"scattercarpet\"}], \"scattergeo\": [{\"marker\": {\"colorbar\": {\"outlinewidth\": 0, \"tickcolor\": \"rgb(36,36,36)\", \"ticklen\": 8, \"ticks\": \"outside\", \"tickwidth\": 2}}, \"type\": \"scattergeo\"}], \"scattergl\": [{\"marker\": {\"colorbar\": {\"outlinewidth\": 0, \"tickcolor\": \"rgb(36,36,36)\", \"ticklen\": 8, \"ticks\": \"outside\", \"tickwidth\": 2}}, \"type\": \"scattergl\"}], \"scattermapbox\": [{\"marker\": {\"colorbar\": {\"outlinewidth\": 0, \"tickcolor\": \"rgb(36,36,36)\", \"ticklen\": 8, \"ticks\": \"outside\", \"tickwidth\": 2}}, \"type\": \"scattermapbox\"}], \"scatterpolar\": [{\"marker\": {\"colorbar\": {\"outlinewidth\": 0, \"tickcolor\": \"rgb(36,36,36)\", \"ticklen\": 8, \"ticks\": \"outside\", \"tickwidth\": 2}}, \"type\": \"scatterpolar\"}], \"scatterpolargl\": [{\"marker\": {\"colorbar\": {\"outlinewidth\": 0, \"tickcolor\": \"rgb(36,36,36)\", \"ticklen\": 8, \"ticks\": \"outside\", \"tickwidth\": 2}}, \"type\": \"scatterpolargl\"}], \"scatterternary\": [{\"marker\": {\"colorbar\": {\"outlinewidth\": 0, \"tickcolor\": \"rgb(36,36,36)\", \"ticklen\": 8, \"ticks\": \"outside\", \"tickwidth\": 2}}, \"type\": \"scatterternary\"}], \"surface\": [{\"colorbar\": {\"outlinewidth\": 0, \"tickcolor\": \"rgb(36,36,36)\", \"ticklen\": 8, \"ticks\": \"outside\", \"tickwidth\": 2}, \"colorscale\": [[0.0, \"rgb(2,4,25)\"], [0.06274509803921569, \"rgb(24,15,41)\"], [0.12549019607843137, \"rgb(47,23,57)\"], [0.18823529411764706, \"rgb(71,28,72)\"], [0.25098039215686274, \"rgb(97,30,82)\"], [0.3137254901960784, \"rgb(123,30,89)\"], [0.3764705882352941, \"rgb(150,27,91)\"], [0.4392156862745098, \"rgb(177,22,88)\"], [0.5019607843137255, \"rgb(203,26,79)\"], [0.5647058823529412, \"rgb(223,47,67)\"], [0.6274509803921569, \"rgb(236,76,61)\"], [0.6901960784313725, \"rgb(242,107,73)\"], [0.7529411764705882, \"rgb(244,135,95)\"], [0.8156862745098039, \"rgb(245,162,122)\"], [0.8784313725490196, \"rgb(246,188,153)\"], [0.9411764705882353, \"rgb(247,212,187)\"], [1.0, \"rgb(250,234,220)\"]], \"type\": \"surface\"}], \"table\": [{\"cells\": {\"fill\": {\"color\": \"rgb(231,231,240)\"}, \"line\": {\"color\": \"white\"}}, \"header\": {\"fill\": {\"color\": \"rgb(183,183,191)\"}, \"line\": {\"color\": \"white\"}}, \"type\": \"table\"}]}, \"layout\": {\"annotationdefaults\": {\"arrowcolor\": \"rgb(67,103,167)\"}, \"colorscale\": {\"sequential\": [[0.0, \"rgb(2,4,25)\"], [0.06274509803921569, \"rgb(24,15,41)\"], [0.12549019607843137, \"rgb(47,23,57)\"], [0.18823529411764706, \"rgb(71,28,72)\"], [0.25098039215686274, \"rgb(97,30,82)\"], [0.3137254901960784, \"rgb(123,30,89)\"], [0.3764705882352941, \"rgb(150,27,91)\"], [0.4392156862745098, \"rgb(177,22,88)\"], [0.5019607843137255, \"rgb(203,26,79)\"], [0.5647058823529412, \"rgb(223,47,67)\"], [0.6274509803921569, \"rgb(236,76,61)\"], [0.6901960784313725, \"rgb(242,107,73)\"], [0.7529411764705882, \"rgb(244,135,95)\"], [0.8156862745098039, \"rgb(245,162,122)\"], [0.8784313725490196, \"rgb(246,188,153)\"], [0.9411764705882353, \"rgb(247,212,187)\"], [1.0, \"rgb(250,234,220)\"]], \"sequentialminus\": [[0.0, \"rgb(2,4,25)\"], [0.06274509803921569, \"rgb(24,15,41)\"], [0.12549019607843137, \"rgb(47,23,57)\"], [0.18823529411764706, \"rgb(71,28,72)\"], [0.25098039215686274, \"rgb(97,30,82)\"], [0.3137254901960784, \"rgb(123,30,89)\"], [0.3764705882352941, \"rgb(150,27,91)\"], [0.4392156862745098, \"rgb(177,22,88)\"], [0.5019607843137255, \"rgb(203,26,79)\"], [0.5647058823529412, \"rgb(223,47,67)\"], [0.6274509803921569, \"rgb(236,76,61)\"], [0.6901960784313725, \"rgb(242,107,73)\"], [0.7529411764705882, \"rgb(244,135,95)\"], [0.8156862745098039, \"rgb(245,162,122)\"], [0.8784313725490196, \"rgb(246,188,153)\"], [0.9411764705882353, \"rgb(247,212,187)\"], [1.0, \"rgb(250,234,220)\"]]}, \"colorway\": [\"rgb(76,114,176)\", \"rgb(221,132,82)\", \"rgb(85,168,104)\", \"rgb(196,78,82)\", \"rgb(129,114,179)\", \"rgb(147,120,96)\", \"rgb(218,139,195)\", \"rgb(140,140,140)\", \"rgb(204,185,116)\", \"rgb(100,181,205)\"], \"font\": {\"color\": \"rgb(36,36,36)\"}, \"geo\": {\"bgcolor\": \"white\", \"lakecolor\": \"white\", \"landcolor\": \"rgb(234,234,242)\", \"showlakes\": true, \"showland\": true, \"subunitcolor\": \"white\"}, \"hoverlabel\": {\"align\": \"left\"}, \"hovermode\": \"closest\", \"paper_bgcolor\": \"white\", \"plot_bgcolor\": \"rgb(234,234,242)\", \"polar\": {\"angularaxis\": {\"gridcolor\": \"white\", \"linecolor\": \"white\", \"showgrid\": true, \"ticks\": \"\"}, \"bgcolor\": \"rgb(234,234,242)\", \"radialaxis\": {\"gridcolor\": \"white\", \"linecolor\": \"white\", \"showgrid\": true, \"ticks\": \"\"}}, \"scene\": {\"xaxis\": {\"backgroundcolor\": \"rgb(234,234,242)\", \"gridcolor\": \"white\", \"gridwidth\": 2, \"linecolor\": \"white\", \"showbackground\": true, \"showgrid\": true, \"ticks\": \"\", \"zerolinecolor\": \"white\"}, \"yaxis\": {\"backgroundcolor\": \"rgb(234,234,242)\", \"gridcolor\": \"white\", \"gridwidth\": 2, \"linecolor\": \"white\", \"showbackground\": true, \"showgrid\": true, \"ticks\": \"\", \"zerolinecolor\": \"white\"}, \"zaxis\": {\"backgroundcolor\": \"rgb(234,234,242)\", \"gridcolor\": \"white\", \"gridwidth\": 2, \"linecolor\": \"white\", \"showbackground\": true, \"showgrid\": true, \"ticks\": \"\", \"zerolinecolor\": \"white\"}}, \"shapedefaults\": {\"fillcolor\": \"rgb(67,103,167)\", \"line\": {\"width\": 0}, \"opacity\": 0.5}, \"ternary\": {\"aaxis\": {\"gridcolor\": \"white\", \"linecolor\": \"white\", \"showgrid\": true, \"ticks\": \"\"}, \"baxis\": {\"gridcolor\": \"white\", \"linecolor\": \"white\", \"showgrid\": true, \"ticks\": \"\"}, \"bgcolor\": \"rgb(234,234,242)\", \"caxis\": {\"gridcolor\": \"white\", \"linecolor\": \"white\", \"showgrid\": true, \"ticks\": \"\"}}, \"xaxis\": {\"automargin\": true, \"gridcolor\": \"white\", \"linecolor\": \"white\", \"showgrid\": true, \"ticks\": \"\", \"zerolinecolor\": \"white\"}, \"yaxis\": {\"automargin\": true, \"gridcolor\": \"white\", \"linecolor\": \"white\", \"showgrid\": true, \"ticks\": \"\", \"zerolinecolor\": \"white\"}}}, \"title\": {\"text\": \"Comparisons\"}},\n",
       "                        {\"responsive\": true}\n",
       "                    ).then(function(){\n",
       "                            \n",
       "var gd = document.getElementById('81800705-0da0-4e0e-8ceb-43971bd2797b');\n",
       "var x = new MutationObserver(function (mutations, observer) {{\n",
       "        var display = window.getComputedStyle(gd).display;\n",
       "        if (!display || display === 'none') {{\n",
       "            console.log([gd, 'removed!']);\n",
       "            Plotly.purge(gd);\n",
       "            observer.disconnect();\n",
       "        }}\n",
       "}});\n",
       "\n",
       "// Listen for the removal of the full notebook cells\n",
       "var notebookContainer = gd.closest('#notebook-container');\n",
       "if (notebookContainer) {{\n",
       "    x.observe(notebookContainer, {childList: true});\n",
       "}}\n",
       "\n",
       "// Listen for the clearing of the current output cell\n",
       "var outputEl = gd.closest('.output');\n",
       "if (outputEl) {{\n",
       "    x.observe(outputEl, {childList: true});\n",
       "}}\n",
       "\n",
       "                        })\n",
       "                };\n",
       "                });\n",
       "            </script>\n",
       "        </div>"
      ]
     },
     "metadata": {},
     "output_type": "display_data"
    }
   ],
   "source": [
    "px.scatter_matrix(data_frame=sort_by\n",
    "                  , dimensions=[\"rep\", \"answers\"] \n",
    "                  , color=\"name\"\n",
    "                  , size=\"rep/ans\"\n",
    "                  , symbol=\"rep\" \n",
    "                  , title='Comparisons'\n",
    "                  , hover_name='name'\n",
    "                  , template='seaborn'\n",
    "                 )"
   ]
  },
  {
   "cell_type": "code",
   "execution_count": 47,
   "metadata": {},
   "outputs": [],
   "source": [
    "# MATCH (u:User)-[:POSTED]->(answer)<-[:PARENT_OF]-()-[:HAS_TAG]-(:Tag {tagId:\"nosql\"}) \n",
    "# WHERE u.displayname = 'Emre'\n",
    "# RETURN u.displayname, u.reputation,u.location, count(distinct answer) AS answers\n",
    "# ORDER BY answers DESC;"
   ]
  },
  {
   "cell_type": "markdown",
   "metadata": {},
   "source": [
    "#### Run this graph in browser/ console"
   ]
  },
  {
   "cell_type": "code",
   "execution_count": 62,
   "metadata": {},
   "outputs": [],
   "source": [
    "# MATCH (u:User)-[:POSTED]->(answer)<-[:PARENT_OF]-(question)-[:HAS_TAG]-(tag:Tag {tagId:\"python\"}) \n",
    "# WHERE u.displayname contains \"t\"\n",
    "# RETURN *,count(distinct answer) AS answers\n",
    "# ORDER BY answers DESC limit 30;"
   ]
  },
  {
   "cell_type": "markdown",
   "metadata": {},
   "source": [
    "![title](images/python_answers.png)"
   ]
  },
  {
   "cell_type": "markdown",
   "metadata": {},
   "source": [
    "#### Top 5 tags of all time"
   ]
  },
  {
   "cell_type": "code",
   "execution_count": 73,
   "metadata": {},
   "outputs": [
    {
     "name": "stdout",
     "output_type": "stream",
     "text": [
      "            t.tagId t.count\n",
      "0  machine-learning    None\n",
      "1           bigdata    None\n",
      "2       data-mining    None\n",
      "3         databases    None\n",
      "4       definitions    None\n"
     ]
    }
   ],
   "source": [
    "query = \"match (t:Tag) with t order by t.count desc limit 5 return t.tagId, t.count;\" \n",
    "result = graph.run(query)\n",
    "print(result.to_data_frame())"
   ]
  },
  {
   "cell_type": "markdown",
   "metadata": {},
   "source": [
    "#### Co-occurence with 'javascript' tag"
   ]
  },
  {
   "cell_type": "code",
   "execution_count": 75,
   "metadata": {},
   "outputs": [
    {
     "name": "stdout",
     "output_type": "stream",
     "text": [
      "        other.tagId  freq\n",
      "0     visualization    11\n",
      "1    neural-network     6\n",
      "2  machine-learning     6\n",
      "3            python     3\n",
      "4            graphs     2\n"
     ]
    }
   ],
   "source": [
    "query = \"match (t:Tag {tagId:'javascript'})<-[:HAS_TAG]-()-[:HAS_TAG]->(other:Tag) WITH other, count(*) as freq order by freq desc limit 5 RETURN other.tagId,freq;\" \n",
    "result = graph.run(query)\n",
    "print(result.to_data_frame())\n",
    "\n",
    "# match (t:Tag {tagId:\"javascript\"})<-[:HAS_TAG]-()-[:HAS_TAG]->(other:Tag) \n",
    "# WITH other, count(*) as freq order by freq desc limit 5\n",
    "# RETURN other.tagId,freq;"
   ]
  },
  {
   "cell_type": "markdown",
   "metadata": {},
   "source": [
    "#### Most active answerers for python"
   ]
  },
  {
   "cell_type": "code",
   "execution_count": 79,
   "metadata": {},
   "outputs": [
    {
     "name": "stdout",
     "output_type": "stream",
     "text": [
      "    u.displayname  freq\n",
      "0         n1k31t4   117\n",
      "1        JahKnows    52\n",
      "2  Brian Spiering    49\n",
      "3    Anony-Mousse    49\n",
      "4            Emre    42\n",
      "5     Vaalizaadeh    38\n",
      "6     Neil Slater    36\n",
      "7            MaxU    34\n",
      "8  Kasra Manshaei    31\n",
      "9           Tasos    28\n"
     ]
    }
   ],
   "source": [
    "query = \"match (t:Tag {tagId:'python'})<-[:HAS_TAG]-()-[:PARENT_OF]->()<-[:POSTED]-(u:User) WITH u, count(*) as freq order by freq desc limit 10 RETURN u.displayname,freq;\" \n",
    "result = graph.run(query)\n",
    "print(result.to_data_frame())\n",
    "\n",
    "\n",
    "# match (t:Tag {tagId:\"neo4j\"})<-[:HAS_TAG]-()\n",
    "#        -[:PARENT_OF]->()<-[:POSTED]-(u:User) \n",
    "# WITH u, count(*) as freq order by freq desc limit 10\n",
    "# RETURN u.name,freq;"
   ]
  },
  {
   "cell_type": "markdown",
   "metadata": {},
   "source": [
    "#### Where are the most active answerers also active"
   ]
  },
  {
   "cell_type": "code",
   "execution_count": 82,
   "metadata": {},
   "outputs": [
    {
     "name": "stdout",
     "output_type": "stream",
     "text": [
      "    u.displayname                                               tags\n",
      "0     Vaalizaadeh        [deep-learning, neural-network, cnn, keras]\n",
      "1    Anony-Mousse  [machine-learning, k-means, data-mining, class...\n",
      "2     Neil Slater  [neural-network, reinforcement-learning, deep-...\n",
      "3            Emre  [neural-network, classification, deep-learning...\n",
      "4         n1k31t4  [deep-learning, neural-network, keras, tensorf...\n",
      "5        JahKnows  [neural-network, deep-learning, keras, classif...\n",
      "6  Brian Spiering  [nlp, deep-learning, neural-network, text-mining]\n",
      "7  Kasra Manshaei  [clustering, graphs, classification, data-mining]\n",
      "8           Tasos             [pandas, nlp, statistics, time-series]\n"
     ]
    }
   ],
   "source": [
    "query = \"MATCH (neo:Tag {tagId:'python'})<-[:HAS_TAG]-()-[:PARENT_OF]->()<-[:POSTED]-(u:User) WITH neo,u, count(*) as freq order by freq desc limit 10 MATCH (u)-[:POSTED]->()<-[:PARENT_OF]-(p)-[:HAS_TAG]->(other:Tag) WHERE NOT (p)-[:HAS_TAG]->(neo) WITH u,other,count(*) as freq2 order by freq2 desc RETURN u.displayname,collect(distinct other.tagId)[1..5] as tags;\" \n",
    "result = graph.run(query)\n",
    "print(result.to_data_frame())\n",
    "\n",
    "\n",
    "# MATCH (neo:Tag {tagId:'neo4j'})<-[:HAS_TAG]-()\n",
    "#       -[:PARENT_OF]->()<-[:POSTED]-(u:User) \n",
    "# WITH neo,u, count(*) as freq order by freq desc limit 10\n",
    "# MATCH (u)-[:POSTED]->()<-[:PARENT_OF]-(p)-[:HAS_TAG]->(other:Tag)\n",
    "# WHERE NOT (p)-[:HAS_TAG]->(neo)\n",
    "# WITH u,other,count(*) as freq2 order by freq2 desc \n",
    "# RETURN u.displayname,collect(distinct other.tagId)[1..5] as tags;"
   ]
  },
  {
   "cell_type": "markdown",
   "metadata": {},
   "source": [
    "#### Posted most questions about neo4j"
   ]
  },
  {
   "cell_type": "code",
   "execution_count": 85,
   "metadata": {},
   "outputs": [
    {
     "name": "stdout",
     "output_type": "stream",
     "text": [
      "       u.displayname  count\n",
      "0        John Newman      2\n",
      "1       Sreejithc321      2\n",
      "2        TobiasJakob      1\n",
      "3           blunders      1\n",
      "4                SRS      1\n",
      "5      sheldonkreger      1\n",
      "6             Victor      1\n",
      "7  Austin Capobianco      1\n"
     ]
    }
   ],
   "source": [
    "query = \"MATCH (t:Tag {tagId:'neo4j'})<-[:HAS_TAG]-(:Post)<-[:POSTED]-(u:User) RETURN u.displayname,count(*) as count ORDER BY count DESC LIMIT 10;\" \n",
    "result = graph.run(query)\n",
    "print(result.to_data_frame())\n",
    "\n",
    "# MATCH (t:Tag {tagId:'neo4j'})<-[:HAS_TAG]-(:Post)<-[:POSTED]-(u:User)\n",
    "# RETURN u.name,count(*) as count\n",
    "# ORDER BY count DESC LIMIT 10;"
   ]
  },
  {
   "cell_type": "markdown",
   "metadata": {},
   "source": [
    "#### Top answerers for pandas tag"
   ]
  },
  {
   "cell_type": "code",
   "execution_count": 88,
   "metadata": {},
   "outputs": [
    {
     "name": "stdout",
     "output_type": "stream",
     "text": [
      "   u.displayname  count\n",
      "0        n1k31t4     36\n",
      "1           MaxU     24\n",
      "2           Emre     18\n",
      "3          Tasos     15\n",
      "4         Aditya     12\n",
      "5          bkshi     12\n",
      "6  Stephen Rauch     10\n",
      "7    Vaalizaadeh     10\n",
      "8   TwinPenguins      8\n",
      "9       JahKnows      8\n"
     ]
    }
   ],
   "source": [
    "query = \"MATCH (:Tag {tagId:'pandas'})<-[:HAS_TAG]-()-[:PARENT_OF]->()<-[:POSTED]-(u:User) RETURN u.displayname,count(*) as count ORDER BY count DESC LIMIT 10;\" \n",
    "result = graph.run(query)\n",
    "print(result.to_data_frame())\n",
    "\n",
    "# MATCH (:Tag {tagId:'py2neo'})<-[:HAS_TAG]-()-[:PARENT_OF]->()\n",
    "#       <-[:POSTED]-(u:User)\n",
    "# RETURN u.displayname,count(*) as count\n",
    "# ORDER BY count DESC LIMIT 10;"
   ]
  },
  {
   "cell_type": "markdown",
   "metadata": {},
   "source": [
    "#### Users who answered their own question "
   ]
  },
  {
   "cell_type": "code",
   "execution_count": 94,
   "metadata": {},
   "outputs": [
    {
     "name": "stdout",
     "output_type": "stream",
     "text": [
      "Empty DataFrame\n",
      "Columns: []\n",
      "Index: []\n"
     ]
    }
   ],
   "source": [
    "query = \"MATCH (u:User) WHERE u.reputation > 1000 MATCH (u)-[:POSTED]->(question)-[:ANSWER]->(answer)<-[:POSTED]-(u) WITH u,count(distinct question) AS questions ORDER BY questions DESC LIMIT 5 RETURN u.displayname, u.reputation, questions;\" \n",
    "result = graph.run(query)\n",
    "print(result.to_data_frame())\n",
    "\n",
    "# MATCH (u:User) WHERE u.reputation > 20000\n",
    "# MATCH (u)-[:POSTED]->(question)-[:ANSWER]->(answer)<-[:POSTED]-(u)\n",
    "# WITH u,count(distinct question) AS questions\n",
    "# ORDER BY questions DESC LIMIT 5\n",
    "# RETURN u.displayname, u.reputation, questions;\n",
    "\n",
    "# not working no :ANSWER relationship"
   ]
  },
  {
   "cell_type": "markdown",
   "metadata": {},
   "source": [
    "#### Smaller queries"
   ]
  },
  {
   "cell_type": "code",
   "execution_count": null,
   "metadata": {},
   "outputs": [],
   "source": [
    "# MATCH path = allShortestPaths( (t:Tag {tagId:\"activation\"})-[*]-(u:Tag {tagId:\"xboost\"})) RETURN path LIMIT 10;"
   ]
  },
  {
   "cell_type": "markdown",
   "metadata": {},
   "source": [
    "![title](images/xboost_activation_bigdb.png)"
   ]
  },
  {
   "cell_type": "code",
   "execution_count": 1,
   "metadata": {},
   "outputs": [],
   "source": [
    "# MATCH path = allShortestPaths( (t:User {displayname:\"black_cat\"})-[*]-(u:User {displayname:\"Skier\"})) RETURN path LIMIT 10;"
   ]
  },
  {
   "cell_type": "markdown",
   "metadata": {},
   "source": [
    "![title](images/black_cat_to_skier.png)"
   ]
  },
  {
   "cell_type": "code",
   "execution_count": null,
   "metadata": {},
   "outputs": [],
   "source": []
  },
  {
   "cell_type": "code",
   "execution_count": 138,
   "metadata": {},
   "outputs": [
    {
     "data": {
      "text/html": [
       "<div>\n",
       "<style scoped>\n",
       "    .dataframe tbody tr th:only-of-type {\n",
       "        vertical-align: middle;\n",
       "    }\n",
       "\n",
       "    .dataframe tbody tr th {\n",
       "        vertical-align: top;\n",
       "    }\n",
       "\n",
       "    .dataframe thead th {\n",
       "        text-align: right;\n",
       "    }\n",
       "</style>\n",
       "<table border=\"1\" class=\"dataframe\">\n",
       "  <thead>\n",
       "    <tr style=\"text-align: right;\">\n",
       "      <th></th>\n",
       "      <th>name</th>\n",
       "      <th>rep</th>\n",
       "      <th>u.location</th>\n",
       "      <th>answers</th>\n",
       "      <th>rep/ans</th>\n",
       "    </tr>\n",
       "  </thead>\n",
       "  <tbody>\n",
       "    <tr>\n",
       "      <td>0</td>\n",
       "      <td>Neil Slater</td>\n",
       "      <td>18824</td>\n",
       "      <td>Durham, United Kingdom</td>\n",
       "      <td>393</td>\n",
       "      <td>47.898219</td>\n",
       "    </tr>\n",
       "    <tr>\n",
       "      <td>1</td>\n",
       "      <td>n1k31t4</td>\n",
       "      <td>8181</td>\n",
       "      <td>Europa</td>\n",
       "      <td>345</td>\n",
       "      <td>23.713043</td>\n",
       "    </tr>\n",
       "    <tr>\n",
       "      <td>2</td>\n",
       "      <td>Vaalizaadeh</td>\n",
       "      <td>8710</td>\n",
       "      <td>None</td>\n",
       "      <td>329</td>\n",
       "      <td>26.474164</td>\n",
       "    </tr>\n",
       "    <tr>\n",
       "      <td>3</td>\n",
       "      <td>Anony-Mousse</td>\n",
       "      <td>5971</td>\n",
       "      <td>Series of tubes.</td>\n",
       "      <td>325</td>\n",
       "      <td>18.372308</td>\n",
       "    </tr>\n",
       "    <tr>\n",
       "      <td>4</td>\n",
       "      <td>Brian Spiering</td>\n",
       "      <td>5197</td>\n",
       "      <td>San Francisco, CA, USA</td>\n",
       "      <td>238</td>\n",
       "      <td>21.836134</td>\n",
       "    </tr>\n",
       "    <tr>\n",
       "      <td>5</td>\n",
       "      <td>Emre</td>\n",
       "      <td>8881</td>\n",
       "      <td>Silicon Valley, CA, United States</td>\n",
       "      <td>227</td>\n",
       "      <td>39.123348</td>\n",
       "    </tr>\n",
       "    <tr>\n",
       "      <td>6</td>\n",
       "      <td>JahKnows</td>\n",
       "      <td>5782</td>\n",
       "      <td>Montreal, QC, Canada</td>\n",
       "      <td>203</td>\n",
       "      <td>28.482759</td>\n",
       "    </tr>\n",
       "    <tr>\n",
       "      <td>7</td>\n",
       "      <td>Jan van der Vegt</td>\n",
       "      <td>6995</td>\n",
       "      <td>Amsterdam</td>\n",
       "      <td>184</td>\n",
       "      <td>38.016304</td>\n",
       "    </tr>\n",
       "    <tr>\n",
       "      <td>8</td>\n",
       "      <td>Esmailian</td>\n",
       "      <td>5069</td>\n",
       "      <td>None</td>\n",
       "      <td>152</td>\n",
       "      <td>33.348684</td>\n",
       "    </tr>\n",
       "    <tr>\n",
       "      <td>9</td>\n",
       "      <td>Kasra Manshaei</td>\n",
       "      <td>3900</td>\n",
       "      <td>Bonn, Germany</td>\n",
       "      <td>147</td>\n",
       "      <td>26.530612</td>\n",
       "    </tr>\n",
       "    <tr>\n",
       "      <td>10</td>\n",
       "      <td>Peter</td>\n",
       "      <td>1648</td>\n",
       "      <td>Frankfurt am Main, Deutschland</td>\n",
       "      <td>123</td>\n",
       "      <td>13.398374</td>\n",
       "    </tr>\n",
       "    <tr>\n",
       "      <td>11</td>\n",
       "      <td>oW_</td>\n",
       "      <td>3906</td>\n",
       "      <td>San Diego, CA, United States</td>\n",
       "      <td>116</td>\n",
       "      <td>33.672414</td>\n",
       "    </tr>\n",
       "    <tr>\n",
       "      <td>12</td>\n",
       "      <td>pcko1</td>\n",
       "      <td>2085</td>\n",
       "      <td>Göteborg, Sweden</td>\n",
       "      <td>115</td>\n",
       "      <td>18.130435</td>\n",
       "    </tr>\n",
       "    <tr>\n",
       "      <td>13</td>\n",
       "      <td>Erwan</td>\n",
       "      <td>1343</td>\n",
       "      <td>None</td>\n",
       "      <td>114</td>\n",
       "      <td>11.780702</td>\n",
       "    </tr>\n",
       "    <tr>\n",
       "      <td>14</td>\n",
       "      <td>Dawny33</td>\n",
       "      <td>5798</td>\n",
       "      <td>Gurgaon, India</td>\n",
       "      <td>112</td>\n",
       "      <td>51.767857</td>\n",
       "    </tr>\n",
       "    <tr>\n",
       "      <td>15</td>\n",
       "      <td>Juan Esteban de la Calle</td>\n",
       "      <td>1504</td>\n",
       "      <td>Bogotá, Colombia</td>\n",
       "      <td>108</td>\n",
       "      <td>13.925926</td>\n",
       "    </tr>\n",
       "    <tr>\n",
       "      <td>16</td>\n",
       "      <td>Martin Thoma</td>\n",
       "      <td>7157</td>\n",
       "      <td>München, Deutschland</td>\n",
       "      <td>108</td>\n",
       "      <td>66.268519</td>\n",
       "    </tr>\n",
       "    <tr>\n",
       "      <td>17</td>\n",
       "      <td>Ben Reiniger</td>\n",
       "      <td>1738</td>\n",
       "      <td>Chicago, IL, USA</td>\n",
       "      <td>106</td>\n",
       "      <td>16.396226</td>\n",
       "    </tr>\n",
       "    <tr>\n",
       "      <td>18</td>\n",
       "      <td>Shamit Verma</td>\n",
       "      <td>1754</td>\n",
       "      <td>Mumbai, India</td>\n",
       "      <td>104</td>\n",
       "      <td>16.865385</td>\n",
       "    </tr>\n",
       "    <tr>\n",
       "      <td>19</td>\n",
       "      <td>ncasas</td>\n",
       "      <td>4201</td>\n",
       "      <td>Barcelona, España</td>\n",
       "      <td>103</td>\n",
       "      <td>40.786408</td>\n",
       "    </tr>\n",
       "  </tbody>\n",
       "</table>\n",
       "</div>"
      ],
      "text/plain": [
       "                        name    rep                         u.location  \\\n",
       "0                Neil Slater  18824             Durham, United Kingdom   \n",
       "1                    n1k31t4   8181                             Europa   \n",
       "2                Vaalizaadeh   8710                               None   \n",
       "3               Anony-Mousse   5971                   Series of tubes.   \n",
       "4             Brian Spiering   5197             San Francisco, CA, USA   \n",
       "5                       Emre   8881  Silicon Valley, CA, United States   \n",
       "6                   JahKnows   5782               Montreal, QC, Canada   \n",
       "7           Jan van der Vegt   6995                          Amsterdam   \n",
       "8                  Esmailian   5069                               None   \n",
       "9             Kasra Manshaei   3900                      Bonn, Germany   \n",
       "10                     Peter   1648     Frankfurt am Main, Deutschland   \n",
       "11                       oW_   3906       San Diego, CA, United States   \n",
       "12                     pcko1   2085                   Göteborg, Sweden   \n",
       "13                     Erwan   1343                               None   \n",
       "14                   Dawny33   5798                     Gurgaon, India   \n",
       "15  Juan Esteban de la Calle   1504                   Bogotá, Colombia   \n",
       "16              Martin Thoma   7157               München, Deutschland   \n",
       "17              Ben Reiniger   1738                   Chicago, IL, USA   \n",
       "18              Shamit Verma   1754                      Mumbai, India   \n",
       "19                    ncasas   4201                  Barcelona, España   \n",
       "\n",
       "    answers    rep/ans  \n",
       "0       393  47.898219  \n",
       "1       345  23.713043  \n",
       "2       329  26.474164  \n",
       "3       325  18.372308  \n",
       "4       238  21.836134  \n",
       "5       227  39.123348  \n",
       "6       203  28.482759  \n",
       "7       184  38.016304  \n",
       "8       152  33.348684  \n",
       "9       147  26.530612  \n",
       "10      123  13.398374  \n",
       "11      116  33.672414  \n",
       "12      115  18.130435  \n",
       "13      114  11.780702  \n",
       "14      112  51.767857  \n",
       "15      108  13.925926  \n",
       "16      108  66.268519  \n",
       "17      106  16.396226  \n",
       "18      104  16.865385  \n",
       "19      103  40.786408  "
      ]
     },
     "execution_count": 138,
     "metadata": {},
     "output_type": "execute_result"
    }
   ],
   "source": [
    "query = \"MATCH (u:User)-[:POSTED]->(answer)<-[:PARENT_OF]-()-[:HAS_TAG]-(:Tag) RETURN u.displayname AS name,u.reputation AS rep,u.location, count(distinct answer) AS answers ORDER BY answers DESC LIMIT 20;\" \n",
    "result = graph.run(query)\n",
    "#print(result.to_data_frame())\n",
    "the3 = result.to_data_frame()\n",
    "the3[\"rep/ans\"] = the3[\"rep\"].astype(float) / the3[\"answers\"].astype(float)\n",
    "#print(xo)\n",
    "the3.head(40)\n",
    "\n"
   ]
  },
  {
   "cell_type": "code",
   "execution_count": 142,
   "metadata": {},
   "outputs": [
    {
     "data": {
      "text/html": [
       "<div>\n",
       "<style scoped>\n",
       "    .dataframe tbody tr th:only-of-type {\n",
       "        vertical-align: middle;\n",
       "    }\n",
       "\n",
       "    .dataframe tbody tr th {\n",
       "        vertical-align: top;\n",
       "    }\n",
       "\n",
       "    .dataframe thead th {\n",
       "        text-align: right;\n",
       "    }\n",
       "</style>\n",
       "<table border=\"1\" class=\"dataframe\">\n",
       "  <thead>\n",
       "    <tr style=\"text-align: right;\">\n",
       "      <th></th>\n",
       "      <th>name</th>\n",
       "      <th>rep</th>\n",
       "      <th>u.location</th>\n",
       "      <th>answers</th>\n",
       "      <th>rep/ans</th>\n",
       "    </tr>\n",
       "  </thead>\n",
       "  <tbody>\n",
       "    <tr>\n",
       "      <td>16</td>\n",
       "      <td>Martin Thoma</td>\n",
       "      <td>7157</td>\n",
       "      <td>München, Deutschland</td>\n",
       "      <td>108</td>\n",
       "      <td>66.268519</td>\n",
       "    </tr>\n",
       "    <tr>\n",
       "      <td>14</td>\n",
       "      <td>Dawny33</td>\n",
       "      <td>5798</td>\n",
       "      <td>Gurgaon, India</td>\n",
       "      <td>112</td>\n",
       "      <td>51.767857</td>\n",
       "    </tr>\n",
       "    <tr>\n",
       "      <td>0</td>\n",
       "      <td>Neil Slater</td>\n",
       "      <td>18824</td>\n",
       "      <td>Durham, United Kingdom</td>\n",
       "      <td>393</td>\n",
       "      <td>47.898219</td>\n",
       "    </tr>\n",
       "    <tr>\n",
       "      <td>19</td>\n",
       "      <td>ncasas</td>\n",
       "      <td>4201</td>\n",
       "      <td>Barcelona, España</td>\n",
       "      <td>103</td>\n",
       "      <td>40.786408</td>\n",
       "    </tr>\n",
       "    <tr>\n",
       "      <td>5</td>\n",
       "      <td>Emre</td>\n",
       "      <td>8881</td>\n",
       "      <td>Silicon Valley, CA, United States</td>\n",
       "      <td>227</td>\n",
       "      <td>39.123348</td>\n",
       "    </tr>\n",
       "    <tr>\n",
       "      <td>7</td>\n",
       "      <td>Jan van der Vegt</td>\n",
       "      <td>6995</td>\n",
       "      <td>Amsterdam</td>\n",
       "      <td>184</td>\n",
       "      <td>38.016304</td>\n",
       "    </tr>\n",
       "    <tr>\n",
       "      <td>11</td>\n",
       "      <td>oW_</td>\n",
       "      <td>3906</td>\n",
       "      <td>San Diego, CA, United States</td>\n",
       "      <td>116</td>\n",
       "      <td>33.672414</td>\n",
       "    </tr>\n",
       "    <tr>\n",
       "      <td>8</td>\n",
       "      <td>Esmailian</td>\n",
       "      <td>5069</td>\n",
       "      <td>None</td>\n",
       "      <td>152</td>\n",
       "      <td>33.348684</td>\n",
       "    </tr>\n",
       "    <tr>\n",
       "      <td>6</td>\n",
       "      <td>JahKnows</td>\n",
       "      <td>5782</td>\n",
       "      <td>Montreal, QC, Canada</td>\n",
       "      <td>203</td>\n",
       "      <td>28.482759</td>\n",
       "    </tr>\n",
       "    <tr>\n",
       "      <td>9</td>\n",
       "      <td>Kasra Manshaei</td>\n",
       "      <td>3900</td>\n",
       "      <td>Bonn, Germany</td>\n",
       "      <td>147</td>\n",
       "      <td>26.530612</td>\n",
       "    </tr>\n",
       "    <tr>\n",
       "      <td>2</td>\n",
       "      <td>Vaalizaadeh</td>\n",
       "      <td>8710</td>\n",
       "      <td>None</td>\n",
       "      <td>329</td>\n",
       "      <td>26.474164</td>\n",
       "    </tr>\n",
       "    <tr>\n",
       "      <td>1</td>\n",
       "      <td>n1k31t4</td>\n",
       "      <td>8181</td>\n",
       "      <td>Europa</td>\n",
       "      <td>345</td>\n",
       "      <td>23.713043</td>\n",
       "    </tr>\n",
       "    <tr>\n",
       "      <td>4</td>\n",
       "      <td>Brian Spiering</td>\n",
       "      <td>5197</td>\n",
       "      <td>San Francisco, CA, USA</td>\n",
       "      <td>238</td>\n",
       "      <td>21.836134</td>\n",
       "    </tr>\n",
       "    <tr>\n",
       "      <td>3</td>\n",
       "      <td>Anony-Mousse</td>\n",
       "      <td>5971</td>\n",
       "      <td>Series of tubes.</td>\n",
       "      <td>325</td>\n",
       "      <td>18.372308</td>\n",
       "    </tr>\n",
       "    <tr>\n",
       "      <td>12</td>\n",
       "      <td>pcko1</td>\n",
       "      <td>2085</td>\n",
       "      <td>Göteborg, Sweden</td>\n",
       "      <td>115</td>\n",
       "      <td>18.130435</td>\n",
       "    </tr>\n",
       "    <tr>\n",
       "      <td>18</td>\n",
       "      <td>Shamit Verma</td>\n",
       "      <td>1754</td>\n",
       "      <td>Mumbai, India</td>\n",
       "      <td>104</td>\n",
       "      <td>16.865385</td>\n",
       "    </tr>\n",
       "    <tr>\n",
       "      <td>17</td>\n",
       "      <td>Ben Reiniger</td>\n",
       "      <td>1738</td>\n",
       "      <td>Chicago, IL, USA</td>\n",
       "      <td>106</td>\n",
       "      <td>16.396226</td>\n",
       "    </tr>\n",
       "    <tr>\n",
       "      <td>15</td>\n",
       "      <td>Juan Esteban de la Calle</td>\n",
       "      <td>1504</td>\n",
       "      <td>Bogotá, Colombia</td>\n",
       "      <td>108</td>\n",
       "      <td>13.925926</td>\n",
       "    </tr>\n",
       "    <tr>\n",
       "      <td>10</td>\n",
       "      <td>Peter</td>\n",
       "      <td>1648</td>\n",
       "      <td>Frankfurt am Main, Deutschland</td>\n",
       "      <td>123</td>\n",
       "      <td>13.398374</td>\n",
       "    </tr>\n",
       "    <tr>\n",
       "      <td>13</td>\n",
       "      <td>Erwan</td>\n",
       "      <td>1343</td>\n",
       "      <td>None</td>\n",
       "      <td>114</td>\n",
       "      <td>11.780702</td>\n",
       "    </tr>\n",
       "  </tbody>\n",
       "</table>\n",
       "</div>"
      ],
      "text/plain": [
       "                        name    rep                         u.location  \\\n",
       "16              Martin Thoma   7157               München, Deutschland   \n",
       "14                   Dawny33   5798                     Gurgaon, India   \n",
       "0                Neil Slater  18824             Durham, United Kingdom   \n",
       "19                    ncasas   4201                  Barcelona, España   \n",
       "5                       Emre   8881  Silicon Valley, CA, United States   \n",
       "7           Jan van der Vegt   6995                          Amsterdam   \n",
       "11                       oW_   3906       San Diego, CA, United States   \n",
       "8                  Esmailian   5069                               None   \n",
       "6                   JahKnows   5782               Montreal, QC, Canada   \n",
       "9             Kasra Manshaei   3900                      Bonn, Germany   \n",
       "2                Vaalizaadeh   8710                               None   \n",
       "1                    n1k31t4   8181                             Europa   \n",
       "4             Brian Spiering   5197             San Francisco, CA, USA   \n",
       "3               Anony-Mousse   5971                   Series of tubes.   \n",
       "12                     pcko1   2085                   Göteborg, Sweden   \n",
       "18              Shamit Verma   1754                      Mumbai, India   \n",
       "17              Ben Reiniger   1738                   Chicago, IL, USA   \n",
       "15  Juan Esteban de la Calle   1504                   Bogotá, Colombia   \n",
       "10                     Peter   1648     Frankfurt am Main, Deutschland   \n",
       "13                     Erwan   1343                               None   \n",
       "\n",
       "    answers    rep/ans  \n",
       "16      108  66.268519  \n",
       "14      112  51.767857  \n",
       "0       393  47.898219  \n",
       "19      103  40.786408  \n",
       "5       227  39.123348  \n",
       "7       184  38.016304  \n",
       "11      116  33.672414  \n",
       "8       152  33.348684  \n",
       "6       203  28.482759  \n",
       "9       147  26.530612  \n",
       "2       329  26.474164  \n",
       "1       345  23.713043  \n",
       "4       238  21.836134  \n",
       "3       325  18.372308  \n",
       "12      115  18.130435  \n",
       "18      104  16.865385  \n",
       "17      106  16.396226  \n",
       "15      108  13.925926  \n",
       "10      123  13.398374  \n",
       "13      114  11.780702  "
      ]
     },
     "execution_count": 142,
     "metadata": {},
     "output_type": "execute_result"
    }
   ],
   "source": [
    "sort = the3.sort_values('rep/ans', ascending=False)\n",
    "#df.sort_values(by=['Brand'], inplace=True, ascending=False)\n",
    "sort.head(20)"
   ]
  },
  {
   "cell_type": "code",
   "execution_count": 179,
   "metadata": {},
   "outputs": [
    {
     "data": {
      "text/html": [
       "<div>\n",
       "<style scoped>\n",
       "    .dataframe tbody tr th:only-of-type {\n",
       "        vertical-align: middle;\n",
       "    }\n",
       "\n",
       "    .dataframe tbody tr th {\n",
       "        vertical-align: top;\n",
       "    }\n",
       "\n",
       "    .dataframe thead th {\n",
       "        text-align: right;\n",
       "    }\n",
       "</style>\n",
       "<table border=\"1\" class=\"dataframe\">\n",
       "  <thead>\n",
       "    <tr style=\"text-align: right;\">\n",
       "      <th></th>\n",
       "      <th>score</th>\n",
       "      <th>comments</th>\n",
       "      <th>postId</th>\n",
       "      <th>body</th>\n",
       "      <th>score/comments</th>\n",
       "    </tr>\n",
       "  </thead>\n",
       "  <tbody>\n",
       "    <tr>\n",
       "      <td>0</td>\n",
       "      <td>4</td>\n",
       "      <td>9</td>\n",
       "      <td>43471</td>\n",
       "      <td>&lt;p&gt;I have a data set of total 8000 sound sampl...</td>\n",
       "      <td>0.444444</td>\n",
       "    </tr>\n",
       "    <tr>\n",
       "      <td>1</td>\n",
       "      <td>120</td>\n",
       "      <td>9</td>\n",
       "      <td>24</td>\n",
       "      <td>&lt;p&gt;The standard k-means algorithm isn't direct...</td>\n",
       "      <td>13.333333</td>\n",
       "    </tr>\n",
       "    <tr>\n",
       "      <td>2</td>\n",
       "      <td>4</td>\n",
       "      <td>9</td>\n",
       "      <td>34116</td>\n",
       "      <td>&lt;p&gt;It sounds like dump question but as a begin...</td>\n",
       "      <td>0.444444</td>\n",
       "    </tr>\n",
       "    <tr>\n",
       "      <td>3</td>\n",
       "      <td>0</td>\n",
       "      <td>9</td>\n",
       "      <td>43351</td>\n",
       "      <td>&lt;p&gt;It's a little unclear as to what you gain b...</td>\n",
       "      <td>0.000000</td>\n",
       "    </tr>\n",
       "    <tr>\n",
       "      <td>4</td>\n",
       "      <td>1</td>\n",
       "      <td>9</td>\n",
       "      <td>46350</td>\n",
       "      <td>&lt;p&gt;I am working on a LSTM network that I get l...</td>\n",
       "      <td>0.111111</td>\n",
       "    </tr>\n",
       "    <tr>\n",
       "      <td>5</td>\n",
       "      <td>1</td>\n",
       "      <td>9</td>\n",
       "      <td>10054</td>\n",
       "      <td>&lt;p&gt;I've done something like you're describing ...</td>\n",
       "      <td>0.111111</td>\n",
       "    </tr>\n",
       "    <tr>\n",
       "      <td>6</td>\n",
       "      <td>3</td>\n",
       "      <td>9</td>\n",
       "      <td>24741</td>\n",
       "      <td>&lt;h3&gt;Answer&lt;/h3&gt;&lt;blockquote&gt;  &lt;p&gt;Are there any ...</td>\n",
       "      <td>0.333333</td>\n",
       "    </tr>\n",
       "    <tr>\n",
       "      <td>7</td>\n",
       "      <td>1</td>\n",
       "      <td>9</td>\n",
       "      <td>34016</td>\n",
       "      <td>&lt;p&gt;&lt;br&gt;I wanted to start off by saying this is...</td>\n",
       "      <td>0.111111</td>\n",
       "    </tr>\n",
       "    <tr>\n",
       "      <td>8</td>\n",
       "      <td>2</td>\n",
       "      <td>9</td>\n",
       "      <td>38908</td>\n",
       "      <td>&lt;p&gt;Using max-pooling is not a good idea on its...</td>\n",
       "      <td>0.222222</td>\n",
       "    </tr>\n",
       "    <tr>\n",
       "      <td>9</td>\n",
       "      <td>0</td>\n",
       "      <td>9</td>\n",
       "      <td>43305</td>\n",
       "      <td>&lt;p&gt;i m try to apply k-means with Python 3 to m...</td>\n",
       "      <td>0.000000</td>\n",
       "    </tr>\n",
       "    <tr>\n",
       "      <td>10</td>\n",
       "      <td>2</td>\n",
       "      <td>9</td>\n",
       "      <td>12524</td>\n",
       "      <td>&lt;p&gt;The argmax is to get the class label predic...</td>\n",
       "      <td>0.222222</td>\n",
       "    </tr>\n",
       "    <tr>\n",
       "      <td>11</td>\n",
       "      <td>3</td>\n",
       "      <td>9</td>\n",
       "      <td>6789</td>\n",
       "      <td>&lt;p&gt;I am working on solving the handwritten dig...</td>\n",
       "      <td>0.333333</td>\n",
       "    </tr>\n",
       "    <tr>\n",
       "      <td>12</td>\n",
       "      <td>165</td>\n",
       "      <td>9</td>\n",
       "      <td>155</td>\n",
       "      <td>&lt;p&gt;One of the common problems in data science ...</td>\n",
       "      <td>18.333333</td>\n",
       "    </tr>\n",
       "    <tr>\n",
       "      <td>13</td>\n",
       "      <td>1</td>\n",
       "      <td>9</td>\n",
       "      <td>17885</td>\n",
       "      <td>&lt;p&gt;&lt;a href=https://blog.keras.io/using-pre-tra...</td>\n",
       "      <td>0.111111</td>\n",
       "    </tr>\n",
       "    <tr>\n",
       "      <td>14</td>\n",
       "      <td>6</td>\n",
       "      <td>9</td>\n",
       "      <td>22258</td>\n",
       "      <td>&lt;p&gt;The main difference is that &lt;code&gt;HashingVe...</td>\n",
       "      <td>0.666667</td>\n",
       "    </tr>\n",
       "    <tr>\n",
       "      <td>15</td>\n",
       "      <td>8</td>\n",
       "      <td>9</td>\n",
       "      <td>24393</td>\n",
       "      <td>&lt;p&gt;You need to deal with imbalanced data set w...</td>\n",
       "      <td>0.888889</td>\n",
       "    </tr>\n",
       "    <tr>\n",
       "      <td>16</td>\n",
       "      <td>1</td>\n",
       "      <td>9</td>\n",
       "      <td>27780</td>\n",
       "      <td>&lt;p&gt;There is a paper called &lt;em&gt;Spatial Transfo...</td>\n",
       "      <td>0.111111</td>\n",
       "    </tr>\n",
       "    <tr>\n",
       "      <td>17</td>\n",
       "      <td>3</td>\n",
       "      <td>9</td>\n",
       "      <td>33814</td>\n",
       "      <td>&lt;p&gt;I have trained several classifiers using Py...</td>\n",
       "      <td>0.333333</td>\n",
       "    </tr>\n",
       "    <tr>\n",
       "      <td>18</td>\n",
       "      <td>3</td>\n",
       "      <td>9</td>\n",
       "      <td>37259</td>\n",
       "      <td>&lt;p&gt;I am using Keras/CNN to identify plankton i...</td>\n",
       "      <td>0.333333</td>\n",
       "    </tr>\n",
       "    <tr>\n",
       "      <td>19</td>\n",
       "      <td>2</td>\n",
       "      <td>9</td>\n",
       "      <td>38616</td>\n",
       "      <td>&lt;p&gt;I have the following code&lt;/p&gt;&lt;pre&gt;&lt;code&gt;rf ...</td>\n",
       "      <td>0.222222</td>\n",
       "    </tr>\n",
       "    <tr>\n",
       "      <td>20</td>\n",
       "      <td>1</td>\n",
       "      <td>9</td>\n",
       "      <td>41208</td>\n",
       "      <td>&lt;p&gt;I've got a regression problem where a model...</td>\n",
       "      <td>0.111111</td>\n",
       "    </tr>\n",
       "    <tr>\n",
       "      <td>21</td>\n",
       "      <td>1</td>\n",
       "      <td>9</td>\n",
       "      <td>43284</td>\n",
       "      <td>&lt;p&gt;I am trying to implement a multi-class clas...</td>\n",
       "      <td>0.111111</td>\n",
       "    </tr>\n",
       "    <tr>\n",
       "      <td>22</td>\n",
       "      <td>12</td>\n",
       "      <td>9</td>\n",
       "      <td>866</td>\n",
       "      <td>&lt;p&gt;I am currently working with a large set of ...</td>\n",
       "      <td>1.333333</td>\n",
       "    </tr>\n",
       "    <tr>\n",
       "      <td>23</td>\n",
       "      <td>1</td>\n",
       "      <td>9</td>\n",
       "      <td>29415</td>\n",
       "      <td>&lt;p&gt;I've built a feedforward net that predicts ...</td>\n",
       "      <td>0.111111</td>\n",
       "    </tr>\n",
       "    <tr>\n",
       "      <td>24</td>\n",
       "      <td>23</td>\n",
       "      <td>9</td>\n",
       "      <td>797</td>\n",
       "      <td>&lt;p&gt;To be perfectly honest, most NoSQL database...</td>\n",
       "      <td>2.555556</td>\n",
       "    </tr>\n",
       "    <tr>\n",
       "      <td>25</td>\n",
       "      <td>0</td>\n",
       "      <td>9</td>\n",
       "      <td>53966</td>\n",
       "      <td>&lt;p&gt;My results are:     &lt;/p&gt;&lt;p&gt;&lt;a href=https://...</td>\n",
       "      <td>0.000000</td>\n",
       "    </tr>\n",
       "    <tr>\n",
       "      <td>26</td>\n",
       "      <td>-1</td>\n",
       "      <td>9</td>\n",
       "      <td>19087</td>\n",
       "      <td>&lt;p&gt;I'm classifying data into 2 classes, by Log...</td>\n",
       "      <td>-0.111111</td>\n",
       "    </tr>\n",
       "    <tr>\n",
       "      <td>27</td>\n",
       "      <td>1</td>\n",
       "      <td>9</td>\n",
       "      <td>47295</td>\n",
       "      <td>&lt;p&gt;So, I've got a dataset with almost all of i...</td>\n",
       "      <td>0.111111</td>\n",
       "    </tr>\n",
       "    <tr>\n",
       "      <td>28</td>\n",
       "      <td>0</td>\n",
       "      <td>9</td>\n",
       "      <td>47112</td>\n",
       "      <td>&lt;p&gt;You normally one hot encode your labels so ...</td>\n",
       "      <td>0.000000</td>\n",
       "    </tr>\n",
       "    <tr>\n",
       "      <td>29</td>\n",
       "      <td>3</td>\n",
       "      <td>9</td>\n",
       "      <td>6209</td>\n",
       "      <td>&lt;p&gt;I've used optical character recognition (OC...</td>\n",
       "      <td>0.333333</td>\n",
       "    </tr>\n",
       "    <tr>\n",
       "      <td>30</td>\n",
       "      <td>1</td>\n",
       "      <td>9</td>\n",
       "      <td>18853</td>\n",
       "      <td>&lt;p&gt;The data table below contains cash flows go...</td>\n",
       "      <td>0.111111</td>\n",
       "    </tr>\n",
       "    <tr>\n",
       "      <td>31</td>\n",
       "      <td>2</td>\n",
       "      <td>9</td>\n",
       "      <td>20359</td>\n",
       "      <td>&lt;p&gt;I'm currently working on an unsupervised an...</td>\n",
       "      <td>0.222222</td>\n",
       "    </tr>\n",
       "    <tr>\n",
       "      <td>32</td>\n",
       "      <td>1</td>\n",
       "      <td>9</td>\n",
       "      <td>22329</td>\n",
       "      <td>&lt;p&gt;I recently read a post describing the Suppo...</td>\n",
       "      <td>0.111111</td>\n",
       "    </tr>\n",
       "    <tr>\n",
       "      <td>33</td>\n",
       "      <td>1</td>\n",
       "      <td>9</td>\n",
       "      <td>23965</td>\n",
       "      <td>&lt;p&gt;I am following this &lt;a href=https://medium....</td>\n",
       "      <td>0.111111</td>\n",
       "    </tr>\n",
       "    <tr>\n",
       "      <td>34</td>\n",
       "      <td>0</td>\n",
       "      <td>9</td>\n",
       "      <td>25613</td>\n",
       "      <td>&lt;p&gt;I would agree with what @Berry said.&lt;/p&gt;&lt;p&gt;...</td>\n",
       "      <td>0.000000</td>\n",
       "    </tr>\n",
       "    <tr>\n",
       "      <td>35</td>\n",
       "      <td>10</td>\n",
       "      <td>9</td>\n",
       "      <td>27756</td>\n",
       "      <td>&lt;p&gt;What you have are predicted class probabili...</td>\n",
       "      <td>1.111111</td>\n",
       "    </tr>\n",
       "    <tr>\n",
       "      <td>36</td>\n",
       "      <td>4</td>\n",
       "      <td>9</td>\n",
       "      <td>31467</td>\n",
       "      <td>&lt;p&gt;Generally when ever we are trying to compar...</td>\n",
       "      <td>0.444444</td>\n",
       "    </tr>\n",
       "    <tr>\n",
       "      <td>37</td>\n",
       "      <td>-1</td>\n",
       "      <td>9</td>\n",
       "      <td>33754</td>\n",
       "      <td>&lt;p&gt;Basically you cannot. &lt;/p&gt;&lt;p&gt;What you may d...</td>\n",
       "      <td>-0.111111</td>\n",
       "    </tr>\n",
       "    <tr>\n",
       "      <td>38</td>\n",
       "      <td>1</td>\n",
       "      <td>9</td>\n",
       "      <td>36548</td>\n",
       "      <td>&lt;h1&gt;Splitting your dataset&lt;/h1&gt;&lt;p&gt;First you ca...</td>\n",
       "      <td>0.111111</td>\n",
       "    </tr>\n",
       "    <tr>\n",
       "      <td>39</td>\n",
       "      <td>2</td>\n",
       "      <td>9</td>\n",
       "      <td>36593</td>\n",
       "      <td>&lt;p&gt;I tried to implement a Basic Deep Neural Ne...</td>\n",
       "      <td>0.222222</td>\n",
       "    </tr>\n",
       "  </tbody>\n",
       "</table>\n",
       "</div>"
      ],
      "text/plain": [
       "   score comments postId                                               body  \\\n",
       "0      4        9  43471  <p>I have a data set of total 8000 sound sampl...   \n",
       "1    120        9     24  <p>The standard k-means algorithm isn't direct...   \n",
       "2      4        9  34116  <p>It sounds like dump question but as a begin...   \n",
       "3      0        9  43351  <p>It's a little unclear as to what you gain b...   \n",
       "4      1        9  46350  <p>I am working on a LSTM network that I get l...   \n",
       "5      1        9  10054  <p>I've done something like you're describing ...   \n",
       "6      3        9  24741  <h3>Answer</h3><blockquote>  <p>Are there any ...   \n",
       "7      1        9  34016  <p><br>I wanted to start off by saying this is...   \n",
       "8      2        9  38908  <p>Using max-pooling is not a good idea on its...   \n",
       "9      0        9  43305  <p>i m try to apply k-means with Python 3 to m...   \n",
       "10     2        9  12524  <p>The argmax is to get the class label predic...   \n",
       "11     3        9   6789  <p>I am working on solving the handwritten dig...   \n",
       "12   165        9    155  <p>One of the common problems in data science ...   \n",
       "13     1        9  17885  <p><a href=https://blog.keras.io/using-pre-tra...   \n",
       "14     6        9  22258  <p>The main difference is that <code>HashingVe...   \n",
       "15     8        9  24393  <p>You need to deal with imbalanced data set w...   \n",
       "16     1        9  27780  <p>There is a paper called <em>Spatial Transfo...   \n",
       "17     3        9  33814  <p>I have trained several classifiers using Py...   \n",
       "18     3        9  37259  <p>I am using Keras/CNN to identify plankton i...   \n",
       "19     2        9  38616  <p>I have the following code</p><pre><code>rf ...   \n",
       "20     1        9  41208  <p>I've got a regression problem where a model...   \n",
       "21     1        9  43284  <p>I am trying to implement a multi-class clas...   \n",
       "22    12        9    866  <p>I am currently working with a large set of ...   \n",
       "23     1        9  29415  <p>I've built a feedforward net that predicts ...   \n",
       "24    23        9    797  <p>To be perfectly honest, most NoSQL database...   \n",
       "25     0        9  53966  <p>My results are:     </p><p><a href=https://...   \n",
       "26    -1        9  19087  <p>I'm classifying data into 2 classes, by Log...   \n",
       "27     1        9  47295  <p>So, I've got a dataset with almost all of i...   \n",
       "28     0        9  47112  <p>You normally one hot encode your labels so ...   \n",
       "29     3        9   6209  <p>I've used optical character recognition (OC...   \n",
       "30     1        9  18853  <p>The data table below contains cash flows go...   \n",
       "31     2        9  20359  <p>I'm currently working on an unsupervised an...   \n",
       "32     1        9  22329  <p>I recently read a post describing the Suppo...   \n",
       "33     1        9  23965  <p>I am following this <a href=https://medium....   \n",
       "34     0        9  25613  <p>I would agree with what @Berry said.</p><p>...   \n",
       "35    10        9  27756  <p>What you have are predicted class probabili...   \n",
       "36     4        9  31467  <p>Generally when ever we are trying to compar...   \n",
       "37    -1        9  33754  <p>Basically you cannot. </p><p>What you may d...   \n",
       "38     1        9  36548  <h1>Splitting your dataset</h1><p>First you ca...   \n",
       "39     2        9  36593  <p>I tried to implement a Basic Deep Neural Ne...   \n",
       "\n",
       "    score/comments  \n",
       "0         0.444444  \n",
       "1        13.333333  \n",
       "2         0.444444  \n",
       "3         0.000000  \n",
       "4         0.111111  \n",
       "5         0.111111  \n",
       "6         0.333333  \n",
       "7         0.111111  \n",
       "8         0.222222  \n",
       "9         0.000000  \n",
       "10        0.222222  \n",
       "11        0.333333  \n",
       "12       18.333333  \n",
       "13        0.111111  \n",
       "14        0.666667  \n",
       "15        0.888889  \n",
       "16        0.111111  \n",
       "17        0.333333  \n",
       "18        0.333333  \n",
       "19        0.222222  \n",
       "20        0.111111  \n",
       "21        0.111111  \n",
       "22        1.333333  \n",
       "23        0.111111  \n",
       "24        2.555556  \n",
       "25        0.000000  \n",
       "26       -0.111111  \n",
       "27        0.111111  \n",
       "28        0.000000  \n",
       "29        0.333333  \n",
       "30        0.111111  \n",
       "31        0.222222  \n",
       "32        0.111111  \n",
       "33        0.111111  \n",
       "34        0.000000  \n",
       "35        1.111111  \n",
       "36        0.444444  \n",
       "37       -0.111111  \n",
       "38        0.111111  \n",
       "39        0.222222  "
      ]
     },
     "execution_count": 179,
     "metadata": {},
     "output_type": "execute_result"
    }
   ],
   "source": [
    "query = \"MATCH (n:Post) with n order by n.comments DESC RETURN n.score as score, n.comments as comments, n.postId as postId, n.body as body LIMIT 160;\" \n",
    "# match (t:Tag) with t order by t.count desc limit 5 return t.tagId, t.count;\n",
    "hyp4 = graph.run(query)\n",
    "#print(result.to_data_frame())\n",
    "hyp5 = hyp4.to_data_frame()\n",
    "hyp5[\"score/comments\"] = hyp5[\"score\"].astype(float) / hyp5[\"comments\"].astype(float)\n",
    "hyp5.head(40)"
   ]
  },
  {
   "cell_type": "code",
   "execution_count": 180,
   "metadata": {},
   "outputs": [
    {
     "data": {
      "application/vnd.plotly.v1+json": {
       "config": {
        "plotlyServerURL": "https://plot.ly"
       },
       "data": [
        {
         "alignmentgroup": "True",
         "hoverlabel": {
          "namelength": 0
         },
         "hovertemplate": "body=%{x}<br>score=%{y}",
         "legendgroup": "",
         "marker": {
          "color": "#636efa"
         },
         "name": "",
         "offsetgroup": "",
         "orientation": "v",
         "showlegend": false,
         "textposition": "auto",
         "type": "bar",
         "x": [
          "<p>I have a data set of total 8000 sound samples. These are the results of my multi layer neural net",
          "<p>The standard k-means algorithm isn't directly applicable to categorical data, for various reasons",
          "<p>It sounds like dump question but as a beginner, I'm really getting confuse. </p><p>For my academi",
          "<p>It's a little unclear as to what you gain by splitting the label file into training and testing s",
          "<p>I am working on a LSTM network that I get loss amounts around 4.7 e-4 . It seems adding more laye",
          "<p>I've done something like you're describing using <a href=https://www.mongodb.com/ rel=nofollow>mo",
          "<h3>Answer</h3><blockquote>  <p>Are there any heuristics for deciding on where to start with the num",
          "<p><br>I wanted to start off by saying this is not an exact duplicate of the other question. I check",
          "<p>Using max-pooling is not a good idea on its own. The reason is that by employing that, you ignore",
          "<p>i m try to apply k-means with Python 3 to my dataset (Amazon review)  for classify similar user (",
          "<p>The argmax is to get the class label prediction y_pred given a sample x. </p><p><code># symbolic ",
          "<p>I am working on solving the handwritten digit recognition problem by implementing a neural networ",
          "<p>One of the common problems in data science is gathering data from various sources in a somehow cl",
          "<p><a href=https://blog.keras.io/using-pre-trained-word-embeddings-in-a-keras-model.html rel=nofollo",
          "<p>The main difference is that <code>HashingVectorizer</code> applies a hashing function to term fre",
          "<p>You need to deal with imbalanced data set when the value of finding the minority class is much hi",
          "<p>There is a paper called <em>Spatial Transformer Networks</em> written by <em>Max Jaderberg et al<",
          "<p>I have trained several classifiers using Python's scikit-learn which are fairly accurate when app",
          "<p>I am using Keras/CNN to identify plankton images collected with an in situ camera.  When making c",
          "<p>I have the following code</p><pre><code>rf = RandomForestClassifier()  rf.fit(X_train, Y_train)  ",
          "<p>I've got a regression problem where a model is required to predict a value in the range [0, 1].  ",
          "<p>I am trying to implement a multi-class classifier with using logistic regression. In my dataset, ",
          "<p>I am currently working with a large set of health insurance claims data that includes some labora",
          "<p>I've built a feedforward net that predicts 2 classes (0,1). I've used the validation_split attrib",
          "<p>To be perfectly honest, most NoSQL databases are not very well suited to applications in big data",
          "<p>My results are:     </p><p><a href=https://i.stack.imgur.com/QBZ9G.png rel=nofollow noreferrer><i",
          "<p>I'm classifying data into 2 classes, by Logistic Regression from python scikit-learn.</p><p>I'm t",
          "<p>So, I've got a dataset with almost all of its columns are categorical variables. Problem is that ",
          "<p>You normally one hot encode your labels so that every possible attribute gets it's own binary rep",
          "<p>I've used optical character recognition (OCR) on a historic directory, and am trying to clean up ",
          "<p>The data table below contains cash flows going into an account. At index 0 the account starts wit",
          "<p>I'm currently working on an unsupervised anomaly detection project, and for it I'm using Isolatio",
          "<p>I recently read a post describing the Support Vector Machine theory and brought about some idea t",
          "<p>I am following this <a href=https://medium.com/towards-data-science/reinforcement-learning-w-kera",
          "<p>I would agree with what @Berry said.</p><p>I think using a <strong>Unique Identifier</strong> is ",
          "<p>What you have are predicted class probabilities. Since you are doing binary classification, each ",
          "<p>Generally when ever we are trying to compare between models and to choose the best one, we go for",
          "<p>Basically you cannot. </p><p>What you may do is to know the total number of users that will conne",
          "<h1>Splitting your dataset</h1><p>First you can load your data set to memory:</p><pre><code># Load t",
          "<p>I tried to implement a Basic Deep Neural Network Algorithm for a classification problem on my own",
          "<p>Unlike other graphs, the degree distribution is a function of N. Specifically, the number of node",
          "<p>I have been coding my own multi layer perceptron in MATLAB and it can be compiled without error. ",
          "<p>Based on your comments transitioning big data sets from on-premises systems to a cloud-based syst",
          "<p>I've been following the series on <a href=https://www.youtube.com/playlist?list=PLZbbT5o_s2xrwRnX",
          "<p>I can't add a comment so I'll post this here. </p><p>My main question is why are your feature val",
          "<p>For LSTM in tensorflow the tensor has three inputs. So, let's assume we have:[samples, time steps",
          "<p>For those who are interested, I've spent some time, finally figured out that the problem was the ",
          "<p>That seems like a bad way to encode the information. A C chord and a C7 chord would be very diffe",
          "<p>I'm an <code>R</code> language programmer. I'm also in the group of people who are considered Dat",
          "<h2>Vocabulary</h2><ul><li>Face detection: Finding all faces in an image.</li><li>Face representatio",
          "<p>Frame this as a classification problem and learn a decision tree to map question responses to vid",
          "<p>It would be great if you can find any trends which are similar, as you know a generalized model g",
          "<p>I tried to detect outliers in the energy gas consumption of some dutch buildings, building a neur",
          "<p>The easiest way to tune a single hyperparameter is to use what is called the elbow method. Do the",
          "<p>Algo 2</p><p>Between equal test scores choose the one with less difference between training and t",
          "<p>I want to solve the problem of finding a parameter vector for an image filter (let us assume we k",
          "<p>You could definitely add more samples and tag it as other with your classifier. However, realisti",
          "<p>1- You should set a threshold (a hyper-param) that will allow you to quit the loop.</p><p><em>Let",
          "<p>I am new to Machine Learning. I want to develop Curriculum Vitae recommender system. I want to de",
          "<p><em>Updated: see bottom of this question.</em></p><p>Not sure if I am at the right channel here b",
          "<p>The question is under a wrong assumption. Many people do what you say they cannot do.</p><p>In fa",
          "<p>I found both of your options slightly faulty. So, this is generally (very broadly) how a predicti",
          "<p>The distance is calculated according to a distance function (euclidian, manhattan, mahalanobis an",
          "<p>When training neural networks, one hyperparameter is the size of a minibatch. Common choices are ",
          "<p>I would like to know if my recent work, which is essentially free to implement, has data applicat",
          "<blockquote>  <p>Cross-entropy tends to allow errors to change weights even when nodes  saturate (wh",
          "<p>In R I have <code>data</code> where <code>head(data)</code> gives</p><pre><code>day   count   pro",
          "<p>Convergence of the weights are not necessary (although in the case of converging the loss to a ve",
          "<blockquote>  <p>For backpropagation algorithm, is it true to have weight, $w$ transposed in the exp",
          "<p>In sort of mechanistic/pictorial/image-based terms:</p><h3><strong>Dilation:</strong> ### <strong",
          "<p>I agree that sometimes the authors are not that clear about some details. If a dataset is already",
          "<p>Welcome to the site!</p><p>If I understand your question correctly you want to know why a model w",
          "<p>I think you need to distinguish between training and execution of the model. During training, you",
          "<p>Bootstrapping in RL can be read as using one or more estimated values in the update step <em>for ",
          "<p>I think that the field has moved on from that paper. There is a trend to use the data from the ex",
          "<p>Good day. I know how thin plate spline is used for smoothing splines since I've been using it per",
          "<p>Okay so i scrape data from the web on movie reviews. I also have already got my own 'dictionary' ",
          "<p>I am working on multiclass classification of images. For this I created a CNN model in keras. I a",
          "<p>I hope I did not misunderstand your question, as otherwise, this may sound too trivial to you. </",
          "<p>In order to extract some data from the fitted <code>glm</code> model object, you need to figure o",
          "<p>This will extract the rows from matrix <strong>A</strong> and <strong>B</strong>. </p><pre><code>",
          "<p>Logically speaking, I think X is Green Circle is a reasonable conclusion. I find the idea in the ",
          "<p>I'm trying to test different machine learning algorithm to try to find correlation between variou",
          "<p>For this feasibility study, following will be high level steps :</p><ol><li>For each feature perf",
          "<p><img src=https://i.stack.imgur.com/lBxL5.png alt=enter image description here></p><p>These are 4 ",
          "<p>I try to set up a multiclass CNN with Keras which relies on <code>ImageDataGenerator</code> and <",
          "<p>Just print type of both <code>xTest</code> and <code>yTest</code>. You should see that both are o",
          "<p>As a first step you should try <a href=https://en.wikipedia.org/wiki/Logistic_regression rel=nofo",
          "<p>Trigram models can be more powerful for document retrieval than unigram models, but if you want t",
          "<p>I'm trying to train an LSTM for sentiment analysis on the <a href=http://ai.stanford.edu/~amaas/d",
          "<p>I have a big matrix of size 200000 x 200000. I need to compute its inverse. But it gives out of m",
          "<p>As @seanv507 suggested, the similar performance may simply be due to the data being best separate",
          "<blockquote>  <p>The accuracy is varying and not linear, meaning that if the number of components in",
          "<p>Merge takes only two dataframes as parameter to join them together. If you want to join 3 you hav",
          "<p>Sounds like you should use a OneHotEncoder instead of a LabelEncoder since you are trying to enco",
          "<p>One option is to :</p><ol><li>Break data into constant-frequency observations (E.g.: Assume that ",
          "<p>UPDATE: the landscape has changed quite a bit since I answered this question in July '14, and som",
          "<p>If you look at the 2nd equation under Propagation function</p><p><span class=math-container>$p_{j",
          "<p>The definition of VC dimension is: if <strong>there exists</strong> a set of n points that can be",
          "<p>I'm trying to train neural networks to extract parameters out of input data.In particular determi",
          "<p>In many GBM models you can get a rough feature importance of a feature by taking the number of sp",
          "<p>let's assume that I want to train a stochastic gradient descent regression algorithm using a data",
          "<p>I have a set of 10 experiments that compute precision, recall and f1-score for each experiment.No",
          "<p>What is the ratio between 0's and the other numbers? If the ratio is too low, let's say 2%, if yo",
          "<p>The arithmetic mean is denoted as <span class=math-container>$bar{x}$</span></p><p><span class=ma",
          "<p>I have trained a SVM for image classification using RGB histogram as features and a couple of oth",
          "<p>I am trying to create a large model. One of the features is categorical, and it has almost 100 mi",
          "<p>Given the definition for mutual information</p><p>$$I(X;Y) = sum_{y in Y} sum_{x in X}  p(x,y) lo",
          "<p>i'm trying to apply scikit learns decision tree on the following dataset with the goal of classif",
          "<p>I wrote a multilayer perceptron in Python. I'm trying to get it to do nonlinear classification. I",
          "<p>Try:</p><blockquote>  <p>mylogit &lt;- glm(VALUE ~ POINT1 * POINT2 * POINT3 * POINT4, data = data",
          "<p>You can add all features as input to RNN/LSTM (Day #, F1, F2, ... F5) and binary class as output.",
          "<p>I have a list of about 20 tasks that a machine need to be performed by a machine. Each tasks cons",
          "<p><strong>Feature Generation</strong> -- This is the process of taking raw, unstructured data and d",
          "<p>If all objects are observed in the same distance and almost same angle, the relative height and w",
          "<p>I'm attempting to use a sequence of numbers (of fixed length) in order to predict a binary output",
          "<p>I apologize for a vague title, but I know only the basic machine learning jargon. Let's assume th",
          "<p>Suppose that at a layer $N$ within a CNN, my image is a 200$times$200$times$10 array. Thus, if I ",
          "<p>If I understand your goal correctly, you want to build classifier on similar entities taken from ",
          "<p>I would like to do dimensionality reduction on nearly 1 million vectors each with 200 dimensions(",
          "<p>Take this with a grain of salt, but I think this is simply not true. You can evaluate it with the",
          "<p>The easiest way is to use <em>Padding and Masking</em>.</p><p>There are three general ways to han",
          "<p>The ground truth is what you measured for your target variable for the training and testing examp",
          "<p>I've implement a neural network. It's a fully connected back propogation network. I'm training it",
          "<p>By good I assume you're trying to see if the features are different enough? It depends on your da",
          "<p>I created an algorithm which works on categorical attributes. The input data comes with categoric",
          "<blockquote>  <p>One argument is that we generally don't know, a priori, what will be the best solut",
          "<p>I'd like to figure out the <strong>elapsed time</strong> between flag status changes.</p><p>Simpl",
          "<p>I have a function $f(x_1, x_2) = Y$ and the goal would be a user gives me a variable list of Y's ",
          "<p><strong>Problem:</strong> I would like to build a machine learning model that can predict the bes",
          "<p>I want to learn ML and AI so I want to know which courses(It would be nice if the courses were fr",
          "<p>You could use the same reward function that <a href=https://github.com/openai/gym/blob/master/gym",
          "<p>I built a prediction model and predicted on new data. I now want to specify a value of my confide",
          "<p>It seems that you have an output size of 2 in your final layer, while you should rather have size",
          "<p>There are some suggestions which I think can improve CNN performance:</p><ol><li>Input size is (6",
          "<p>The slide explains a limitation which applies to any linear model. It would equally apply to line",
          "<p>Increasing the sentence length might help, but not much. You can try n-grams(2 or 3) while vector",
          "<p>For my answers, I assume you are talking about batch (not mini-batch or stochastic) gradient desc",
          "<p>I'm trying to extract percentages using Stanford NER. But it is not extracting percentage properl",
          "<p>I have an array dataset from which I need to build D whose each element is a list of strings (Thi",
          "<p>I would like to use cross validation with <code>catboost</code>. Since I do not just want to use ",
          "<p>We got several models with predictions. How can we compare scores of different models with each o",
          "<p>I try to predict temperatures values as function of time and different parameters. The temperatur",
          "<p>I am starting with the generic TensorFlow example.</p><p>To classify my data I need to use multip",
          "<p>Let's work it out from the ground up. Classification (also known as categorization) is an example",
          "<p>You certainly can use DBSCAN to solve this trivial toy example. Because it can do connected-compo",
          "<p>I want to implement a system that takes as input scribbles (i.e. drawings with writings on paper,",
          "<p>I have a huge huge model in SQL that nobody knows what it is doing. This model spits out some num",
          "<p>After reading your question, I became curious about the topic of <em>time series clustering</em> ",
          "<p>I think that this is the same issue as in this question: <a href=https://stackoverflow.com/questi",
          "<h2>Business Analyst</h2><p>A business analyst is one who understands the specific domain of the pro",
          "<p>The first logloss formula you are using is for multiclass log loss, where the $i$ subscript enume",
          "<p>I think your biggest problem is the lack of biases. Between the input layer and the hidden layer,",
          "<p>I know about the <code>fitdist()</code> function from the <code>fitdistrplus</code> package in R,",
          "<p>I'm currently following a tutorial but I got stuck at the deep Q learning model. According to my ",
          "<p>I have a hobby project which I am contemplating committing to as a way of increasing my so far li",
          "<p>I am trying to build price recommendation solution for clients in a scalable manner. I have two c",
          "<p>I'm starting in deep learning and I would like to apply a ternary classification model to text da",
          "<h1>This is what I am trying to accomplish:</h1><p>Predict <strong>Y</strong> based on <strong>X</st",
          "<p>You can try the following:</p><p>The minimum syntax you can use is:</p><blockquote>  <p>fit.norm "
         ],
         "xaxis": "x",
         "y": [
          "4",
          "120",
          "4",
          "0",
          "1",
          "1",
          "3",
          "1",
          "2",
          "0",
          "2",
          "3",
          "165",
          "1",
          "6",
          "8",
          "1",
          "3",
          "3",
          "2",
          "1",
          "1",
          "12",
          "1",
          "23",
          "0",
          "-1",
          "1",
          "0",
          "3",
          "1",
          "2",
          "1",
          "1",
          "0",
          "10",
          "4",
          "-1",
          "1",
          "2",
          "1",
          "2",
          "1",
          "1",
          "1",
          "3",
          "8",
          "3",
          "40",
          "4",
          "3",
          "1",
          "10",
          "3",
          "1",
          "2",
          "1",
          "3",
          "1",
          "2",
          "8",
          "15",
          "0",
          "19",
          "-3",
          "0",
          "6",
          "0",
          "5",
          "8",
          "0",
          "1",
          "2",
          "15",
          "1",
          "1",
          "4",
          "2",
          "1",
          "3",
          "2",
          "2",
          "1",
          "1",
          "8",
          "1",
          "0",
          "1",
          "2",
          "0",
          "1",
          "1",
          "2",
          "2",
          "1",
          "0",
          "116",
          "1",
          "5",
          "2",
          "-1",
          "9",
          "4",
          "1",
          "10",
          "0",
          "1",
          "3",
          "0",
          "3",
          "1",
          "3",
          "6",
          "13",
          "1",
          "1",
          "3",
          "5",
          "1",
          "17",
          "3",
          "11",
          "22",
          "0",
          "3",
          "1",
          "3",
          "2",
          "2",
          "0",
          "0",
          "1",
          "5",
          "0",
          "1",
          "2",
          "0",
          "2",
          "1",
          "2",
          "3",
          "0",
          "2",
          "3",
          "13",
          "1",
          "1",
          "0",
          "14",
          "1",
          "1",
          "21",
          "3",
          "-1",
          "1",
          "17",
          "2",
          "-1",
          "1",
          "0"
         ],
         "yaxis": "y"
        }
       ],
       "layout": {
        "barmode": "relative",
        "height": 600,
        "legend": {
         "tracegroupgap": 0
        },
        "margin": {
         "t": 60
        },
        "template": {
         "data": {
          "bar": [
           {
            "error_x": {
             "color": "#f2f5fa"
            },
            "error_y": {
             "color": "#f2f5fa"
            },
            "marker": {
             "line": {
              "color": "rgb(17,17,17)",
              "width": 0.5
             }
            },
            "type": "bar"
           }
          ],
          "barpolar": [
           {
            "marker": {
             "line": {
              "color": "rgb(17,17,17)",
              "width": 0.5
             }
            },
            "type": "barpolar"
           }
          ],
          "carpet": [
           {
            "aaxis": {
             "endlinecolor": "#A2B1C6",
             "gridcolor": "#506784",
             "linecolor": "#506784",
             "minorgridcolor": "#506784",
             "startlinecolor": "#A2B1C6"
            },
            "baxis": {
             "endlinecolor": "#A2B1C6",
             "gridcolor": "#506784",
             "linecolor": "#506784",
             "minorgridcolor": "#506784",
             "startlinecolor": "#A2B1C6"
            },
            "type": "carpet"
           }
          ],
          "choropleth": [
           {
            "colorbar": {
             "outlinewidth": 0,
             "ticks": ""
            },
            "type": "choropleth"
           }
          ],
          "contour": [
           {
            "colorbar": {
             "outlinewidth": 0,
             "ticks": ""
            },
            "colorscale": [
             [
              0,
              "#0d0887"
             ],
             [
              0.1111111111111111,
              "#46039f"
             ],
             [
              0.2222222222222222,
              "#7201a8"
             ],
             [
              0.3333333333333333,
              "#9c179e"
             ],
             [
              0.4444444444444444,
              "#bd3786"
             ],
             [
              0.5555555555555556,
              "#d8576b"
             ],
             [
              0.6666666666666666,
              "#ed7953"
             ],
             [
              0.7777777777777778,
              "#fb9f3a"
             ],
             [
              0.8888888888888888,
              "#fdca26"
             ],
             [
              1,
              "#f0f921"
             ]
            ],
            "type": "contour"
           }
          ],
          "contourcarpet": [
           {
            "colorbar": {
             "outlinewidth": 0,
             "ticks": ""
            },
            "type": "contourcarpet"
           }
          ],
          "heatmap": [
           {
            "colorbar": {
             "outlinewidth": 0,
             "ticks": ""
            },
            "colorscale": [
             [
              0,
              "#0d0887"
             ],
             [
              0.1111111111111111,
              "#46039f"
             ],
             [
              0.2222222222222222,
              "#7201a8"
             ],
             [
              0.3333333333333333,
              "#9c179e"
             ],
             [
              0.4444444444444444,
              "#bd3786"
             ],
             [
              0.5555555555555556,
              "#d8576b"
             ],
             [
              0.6666666666666666,
              "#ed7953"
             ],
             [
              0.7777777777777778,
              "#fb9f3a"
             ],
             [
              0.8888888888888888,
              "#fdca26"
             ],
             [
              1,
              "#f0f921"
             ]
            ],
            "type": "heatmap"
           }
          ],
          "heatmapgl": [
           {
            "colorbar": {
             "outlinewidth": 0,
             "ticks": ""
            },
            "colorscale": [
             [
              0,
              "#0d0887"
             ],
             [
              0.1111111111111111,
              "#46039f"
             ],
             [
              0.2222222222222222,
              "#7201a8"
             ],
             [
              0.3333333333333333,
              "#9c179e"
             ],
             [
              0.4444444444444444,
              "#bd3786"
             ],
             [
              0.5555555555555556,
              "#d8576b"
             ],
             [
              0.6666666666666666,
              "#ed7953"
             ],
             [
              0.7777777777777778,
              "#fb9f3a"
             ],
             [
              0.8888888888888888,
              "#fdca26"
             ],
             [
              1,
              "#f0f921"
             ]
            ],
            "type": "heatmapgl"
           }
          ],
          "histogram": [
           {
            "marker": {
             "colorbar": {
              "outlinewidth": 0,
              "ticks": ""
             }
            },
            "type": "histogram"
           }
          ],
          "histogram2d": [
           {
            "colorbar": {
             "outlinewidth": 0,
             "ticks": ""
            },
            "colorscale": [
             [
              0,
              "#0d0887"
             ],
             [
              0.1111111111111111,
              "#46039f"
             ],
             [
              0.2222222222222222,
              "#7201a8"
             ],
             [
              0.3333333333333333,
              "#9c179e"
             ],
             [
              0.4444444444444444,
              "#bd3786"
             ],
             [
              0.5555555555555556,
              "#d8576b"
             ],
             [
              0.6666666666666666,
              "#ed7953"
             ],
             [
              0.7777777777777778,
              "#fb9f3a"
             ],
             [
              0.8888888888888888,
              "#fdca26"
             ],
             [
              1,
              "#f0f921"
             ]
            ],
            "type": "histogram2d"
           }
          ],
          "histogram2dcontour": [
           {
            "colorbar": {
             "outlinewidth": 0,
             "ticks": ""
            },
            "colorscale": [
             [
              0,
              "#0d0887"
             ],
             [
              0.1111111111111111,
              "#46039f"
             ],
             [
              0.2222222222222222,
              "#7201a8"
             ],
             [
              0.3333333333333333,
              "#9c179e"
             ],
             [
              0.4444444444444444,
              "#bd3786"
             ],
             [
              0.5555555555555556,
              "#d8576b"
             ],
             [
              0.6666666666666666,
              "#ed7953"
             ],
             [
              0.7777777777777778,
              "#fb9f3a"
             ],
             [
              0.8888888888888888,
              "#fdca26"
             ],
             [
              1,
              "#f0f921"
             ]
            ],
            "type": "histogram2dcontour"
           }
          ],
          "mesh3d": [
           {
            "colorbar": {
             "outlinewidth": 0,
             "ticks": ""
            },
            "type": "mesh3d"
           }
          ],
          "parcoords": [
           {
            "line": {
             "colorbar": {
              "outlinewidth": 0,
              "ticks": ""
             }
            },
            "type": "parcoords"
           }
          ],
          "scatter": [
           {
            "marker": {
             "line": {
              "color": "#283442"
             }
            },
            "type": "scatter"
           }
          ],
          "scatter3d": [
           {
            "line": {
             "colorbar": {
              "outlinewidth": 0,
              "ticks": ""
             }
            },
            "marker": {
             "colorbar": {
              "outlinewidth": 0,
              "ticks": ""
             }
            },
            "type": "scatter3d"
           }
          ],
          "scattercarpet": [
           {
            "marker": {
             "colorbar": {
              "outlinewidth": 0,
              "ticks": ""
             }
            },
            "type": "scattercarpet"
           }
          ],
          "scattergeo": [
           {
            "marker": {
             "colorbar": {
              "outlinewidth": 0,
              "ticks": ""
             }
            },
            "type": "scattergeo"
           }
          ],
          "scattergl": [
           {
            "marker": {
             "line": {
              "color": "#283442"
             }
            },
            "type": "scattergl"
           }
          ],
          "scattermapbox": [
           {
            "marker": {
             "colorbar": {
              "outlinewidth": 0,
              "ticks": ""
             }
            },
            "type": "scattermapbox"
           }
          ],
          "scatterpolar": [
           {
            "marker": {
             "colorbar": {
              "outlinewidth": 0,
              "ticks": ""
             }
            },
            "type": "scatterpolar"
           }
          ],
          "scatterpolargl": [
           {
            "marker": {
             "colorbar": {
              "outlinewidth": 0,
              "ticks": ""
             }
            },
            "type": "scatterpolargl"
           }
          ],
          "scatterternary": [
           {
            "marker": {
             "colorbar": {
              "outlinewidth": 0,
              "ticks": ""
             }
            },
            "type": "scatterternary"
           }
          ],
          "surface": [
           {
            "colorbar": {
             "outlinewidth": 0,
             "ticks": ""
            },
            "colorscale": [
             [
              0,
              "#0d0887"
             ],
             [
              0.1111111111111111,
              "#46039f"
             ],
             [
              0.2222222222222222,
              "#7201a8"
             ],
             [
              0.3333333333333333,
              "#9c179e"
             ],
             [
              0.4444444444444444,
              "#bd3786"
             ],
             [
              0.5555555555555556,
              "#d8576b"
             ],
             [
              0.6666666666666666,
              "#ed7953"
             ],
             [
              0.7777777777777778,
              "#fb9f3a"
             ],
             [
              0.8888888888888888,
              "#fdca26"
             ],
             [
              1,
              "#f0f921"
             ]
            ],
            "type": "surface"
           }
          ],
          "table": [
           {
            "cells": {
             "fill": {
              "color": "#506784"
             },
             "line": {
              "color": "rgb(17,17,17)"
             }
            },
            "header": {
             "fill": {
              "color": "#2a3f5f"
             },
             "line": {
              "color": "rgb(17,17,17)"
             }
            },
            "type": "table"
           }
          ]
         },
         "layout": {
          "annotationdefaults": {
           "arrowcolor": "#f2f5fa",
           "arrowhead": 0,
           "arrowwidth": 1
          },
          "colorscale": {
           "diverging": [
            [
             0,
             "#8e0152"
            ],
            [
             0.1,
             "#c51b7d"
            ],
            [
             0.2,
             "#de77ae"
            ],
            [
             0.3,
             "#f1b6da"
            ],
            [
             0.4,
             "#fde0ef"
            ],
            [
             0.5,
             "#f7f7f7"
            ],
            [
             0.6,
             "#e6f5d0"
            ],
            [
             0.7,
             "#b8e186"
            ],
            [
             0.8,
             "#7fbc41"
            ],
            [
             0.9,
             "#4d9221"
            ],
            [
             1,
             "#276419"
            ]
           ],
           "sequential": [
            [
             0,
             "#0d0887"
            ],
            [
             0.1111111111111111,
             "#46039f"
            ],
            [
             0.2222222222222222,
             "#7201a8"
            ],
            [
             0.3333333333333333,
             "#9c179e"
            ],
            [
             0.4444444444444444,
             "#bd3786"
            ],
            [
             0.5555555555555556,
             "#d8576b"
            ],
            [
             0.6666666666666666,
             "#ed7953"
            ],
            [
             0.7777777777777778,
             "#fb9f3a"
            ],
            [
             0.8888888888888888,
             "#fdca26"
            ],
            [
             1,
             "#f0f921"
            ]
           ],
           "sequentialminus": [
            [
             0,
             "#0d0887"
            ],
            [
             0.1111111111111111,
             "#46039f"
            ],
            [
             0.2222222222222222,
             "#7201a8"
            ],
            [
             0.3333333333333333,
             "#9c179e"
            ],
            [
             0.4444444444444444,
             "#bd3786"
            ],
            [
             0.5555555555555556,
             "#d8576b"
            ],
            [
             0.6666666666666666,
             "#ed7953"
            ],
            [
             0.7777777777777778,
             "#fb9f3a"
            ],
            [
             0.8888888888888888,
             "#fdca26"
            ],
            [
             1,
             "#f0f921"
            ]
           ]
          },
          "colorway": [
           "#636efa",
           "#EF553B",
           "#00cc96",
           "#ab63fa",
           "#FFA15A",
           "#19d3f3",
           "#FF6692",
           "#B6E880",
           "#FF97FF",
           "#FECB52"
          ],
          "font": {
           "color": "#f2f5fa"
          },
          "geo": {
           "bgcolor": "rgb(17,17,17)",
           "lakecolor": "rgb(17,17,17)",
           "landcolor": "rgb(17,17,17)",
           "showlakes": true,
           "showland": true,
           "subunitcolor": "#506784"
          },
          "hoverlabel": {
           "align": "left"
          },
          "hovermode": "closest",
          "mapbox": {
           "style": "dark"
          },
          "paper_bgcolor": "rgb(17,17,17)",
          "plot_bgcolor": "rgb(17,17,17)",
          "polar": {
           "angularaxis": {
            "gridcolor": "#506784",
            "linecolor": "#506784",
            "ticks": ""
           },
           "bgcolor": "rgb(17,17,17)",
           "radialaxis": {
            "gridcolor": "#506784",
            "linecolor": "#506784",
            "ticks": ""
           }
          },
          "scene": {
           "xaxis": {
            "backgroundcolor": "rgb(17,17,17)",
            "gridcolor": "#506784",
            "gridwidth": 2,
            "linecolor": "#506784",
            "showbackground": true,
            "ticks": "",
            "zerolinecolor": "#C8D4E3"
           },
           "yaxis": {
            "backgroundcolor": "rgb(17,17,17)",
            "gridcolor": "#506784",
            "gridwidth": 2,
            "linecolor": "#506784",
            "showbackground": true,
            "ticks": "",
            "zerolinecolor": "#C8D4E3"
           },
           "zaxis": {
            "backgroundcolor": "rgb(17,17,17)",
            "gridcolor": "#506784",
            "gridwidth": 2,
            "linecolor": "#506784",
            "showbackground": true,
            "ticks": "",
            "zerolinecolor": "#C8D4E3"
           }
          },
          "shapedefaults": {
           "line": {
            "color": "#f2f5fa"
           }
          },
          "sliderdefaults": {
           "bgcolor": "#C8D4E3",
           "bordercolor": "rgb(17,17,17)",
           "borderwidth": 1,
           "tickwidth": 0
          },
          "ternary": {
           "aaxis": {
            "gridcolor": "#506784",
            "linecolor": "#506784",
            "ticks": ""
           },
           "baxis": {
            "gridcolor": "#506784",
            "linecolor": "#506784",
            "ticks": ""
           },
           "bgcolor": "rgb(17,17,17)",
           "caxis": {
            "gridcolor": "#506784",
            "linecolor": "#506784",
            "ticks": ""
           }
          },
          "title": {
           "x": 0.05
          },
          "updatemenudefaults": {
           "bgcolor": "#506784",
           "borderwidth": 0
          },
          "xaxis": {
           "automargin": true,
           "gridcolor": "#283442",
           "linecolor": "#506784",
           "ticks": "",
           "zerolinecolor": "#283442",
           "zerolinewidth": 2
          },
          "yaxis": {
           "automargin": true,
           "gridcolor": "#283442",
           "linecolor": "#506784",
           "ticks": "",
           "zerolinecolor": "#283442",
           "zerolinewidth": 2
          }
         }
        },
        "xaxis": {
         "anchor": "y",
         "domain": [
          0,
          0.98
         ],
         "title": {
          "text": "body"
         }
        },
        "yaxis": {
         "anchor": "x",
         "domain": [
          0,
          1
         ],
         "title": {
          "text": "score"
         }
        }
       }
      },
      "text/html": [
       "<div>\n",
       "        \n",
       "        \n",
       "            <div id=\"af1f0885-8c6a-4e2a-b642-793eb20c8a8e\" class=\"plotly-graph-div\" style=\"height:600px; width:100%;\"></div>\n",
       "            <script type=\"text/javascript\">\n",
       "                require([\"plotly\"], function(Plotly) {\n",
       "                    window.PLOTLYENV=window.PLOTLYENV || {};\n",
       "                    \n",
       "                if (document.getElementById(\"af1f0885-8c6a-4e2a-b642-793eb20c8a8e\")) {\n",
       "                    Plotly.newPlot(\n",
       "                        'af1f0885-8c6a-4e2a-b642-793eb20c8a8e',\n",
       "                        [{\"alignmentgroup\": \"True\", \"hoverlabel\": {\"namelength\": 0}, \"hovertemplate\": \"body=%{x}<br>score=%{y}\", \"legendgroup\": \"\", \"marker\": {\"color\": \"#636efa\"}, \"name\": \"\", \"offsetgroup\": \"\", \"orientation\": \"v\", \"showlegend\": false, \"textposition\": \"auto\", \"type\": \"bar\", \"x\": [\"<p>I have a data set of total 8000 sound samples. These are the results of my multi layer neural net\", \"<p>The standard k-means algorithm isn't directly applicable to categorical data, for various reasons\", \"<p>It sounds like dump question but as a beginner, I'm really getting confuse. </p><p>For my academi\", \"<p>It's a little unclear as to what you gain by splitting the label file into training and testing s\", \"<p>I am working on a LSTM network that I get loss amounts around 4.7 e-4 . It seems adding more laye\", \"<p>I've done something like you're describing using <a href=https://www.mongodb.com/ rel=nofollow>mo\", \"<h3>Answer</h3><blockquote>  <p>Are there any heuristics for deciding on where to start with the num\", \"<p><br>I wanted to start off by saying this is not an exact duplicate of the other question. I check\", \"<p>Using max-pooling is not a good idea on its own. The reason is that by employing that, you ignore\", \"<p>i m try to apply k-means with Python 3 to my dataset (Amazon review)  for classify similar user (\", \"<p>The argmax is to get the class label prediction y_pred given a sample x. </p><p><code># symbolic \", \"<p>I am working on solving the handwritten digit recognition problem by implementing a neural networ\", \"<p>One of the common problems in data science is gathering data from various sources in a somehow cl\", \"<p><a href=https://blog.keras.io/using-pre-trained-word-embeddings-in-a-keras-model.html rel=nofollo\", \"<p>The main difference is that <code>HashingVectorizer</code> applies a hashing function to term fre\", \"<p>You need to deal with imbalanced data set when the value of finding the minority class is much hi\", \"<p>There is a paper called <em>Spatial Transformer Networks</em> written by <em>Max Jaderberg et al<\", \"<p>I have trained several classifiers using Python's scikit-learn which are fairly accurate when app\", \"<p>I am using Keras/CNN to identify plankton images collected with an in situ camera.  When making c\", \"<p>I have the following code</p><pre><code>rf = RandomForestClassifier()  rf.fit(X_train, Y_train)  \", \"<p>I've got a regression problem where a model is required to predict a value in the range [0, 1].  \", \"<p>I am trying to implement a multi-class classifier with using logistic regression. In my dataset, \", \"<p>I am currently working with a large set of health insurance claims data that includes some labora\", \"<p>I've built a feedforward net that predicts 2 classes (0,1). I've used the validation_split attrib\", \"<p>To be perfectly honest, most NoSQL databases are not very well suited to applications in big data\", \"<p>My results are:     </p><p><a href=https://i.stack.imgur.com/QBZ9G.png rel=nofollow noreferrer><i\", \"<p>I'm classifying data into 2 classes, by Logistic Regression from python scikit-learn.</p><p>I'm t\", \"<p>So, I've got a dataset with almost all of its columns are categorical variables. Problem is that \", \"<p>You normally one hot encode your labels so that every possible attribute gets it's own binary rep\", \"<p>I've used optical character recognition (OCR) on a historic directory, and am trying to clean up \", \"<p>The data table below contains cash flows going into an account. At index 0 the account starts wit\", \"<p>I'm currently working on an unsupervised anomaly detection project, and for it I'm using Isolatio\", \"<p>I recently read a post describing the Support Vector Machine theory and brought about some idea t\", \"<p>I am following this <a href=https://medium.com/towards-data-science/reinforcement-learning-w-kera\", \"<p>I would agree with what @Berry said.</p><p>I think using a <strong>Unique Identifier</strong> is \", \"<p>What you have are predicted class probabilities. Since you are doing binary classification, each \", \"<p>Generally when ever we are trying to compare between models and to choose the best one, we go for\", \"<p>Basically you cannot. </p><p>What you may do is to know the total number of users that will conne\", \"<h1>Splitting your dataset</h1><p>First you can load your data set to memory:</p><pre><code># Load t\", \"<p>I tried to implement a Basic Deep Neural Network Algorithm for a classification problem on my own\", \"<p>Unlike other graphs, the degree distribution is a function of N. Specifically, the number of node\", \"<p>I have been coding my own multi layer perceptron in MATLAB and it can be compiled without error. \", \"<p>Based on your comments transitioning big data sets from on-premises systems to a cloud-based syst\", \"<p>I've been following the series on <a href=https://www.youtube.com/playlist?list=PLZbbT5o_s2xrwRnX\", \"<p>I can't add a comment so I'll post this here. </p><p>My main question is why are your feature val\", \"<p>For LSTM in tensorflow the tensor has three inputs. So, let's assume we have:[samples, time steps\", \"<p>For those who are interested, I've spent some time, finally figured out that the problem was the \", \"<p>That seems like a bad way to encode the information. A C chord and a C7 chord would be very diffe\", \"<p>I'm an <code>R</code> language programmer. I'm also in the group of people who are considered Dat\", \"<h2>Vocabulary</h2><ul><li>Face detection: Finding all faces in an image.</li><li>Face representatio\", \"<p>Frame this as a classification problem and learn a decision tree to map question responses to vid\", \"<p>It would be great if you can find any trends which are similar, as you know a generalized model g\", \"<p>I tried to detect outliers in the energy gas consumption of some dutch buildings, building a neur\", \"<p>The easiest way to tune a single hyperparameter is to use what is called the elbow method. Do the\", \"<p>Algo 2</p><p>Between equal test scores choose the one with less difference between training and t\", \"<p>I want to solve the problem of finding a parameter vector for an image filter (let us assume we k\", \"<p>You could definitely add more samples and tag it as other with your classifier. However, realisti\", \"<p>1- You should set a threshold (a hyper-param) that will allow you to quit the loop.</p><p><em>Let\", \"<p>I am new to Machine Learning. I want to develop Curriculum Vitae recommender system. I want to de\", \"<p><em>Updated: see bottom of this question.</em></p><p>Not sure if I am at the right channel here b\", \"<p>The question is under a wrong assumption. Many people do what you say they cannot do.</p><p>In fa\", \"<p>I found both of your options slightly faulty. So, this is generally (very broadly) how a predicti\", \"<p>The distance is calculated according to a distance function (euclidian, manhattan, mahalanobis an\", \"<p>When training neural networks, one hyperparameter is the size of a minibatch. Common choices are \", \"<p>I would like to know if my recent work, which is essentially free to implement, has data applicat\", \"<blockquote>  <p>Cross-entropy tends to allow errors to change weights even when nodes  saturate (wh\", \"<p>In R I have <code>data</code> where <code>head(data)</code> gives</p><pre><code>day   count   pro\", \"<p>Convergence of the weights are not necessary (although in the case of converging the loss to a ve\", \"<blockquote>  <p>For backpropagation algorithm, is it true to have weight, $w$ transposed in the exp\", \"<p>In sort of mechanistic/pictorial/image-based terms:</p><h3><strong>Dilation:</strong> ### <strong\", \"<p>I agree that sometimes the authors are not that clear about some details. If a dataset is already\", \"<p>Welcome to the site!</p><p>If I understand your question correctly you want to know why a model w\", \"<p>I think you need to distinguish between training and execution of the model. During training, you\", \"<p>Bootstrapping in RL can be read as using one or more estimated values in the update step <em>for \", \"<p>I think that the field has moved on from that paper. There is a trend to use the data from the ex\", \"<p>Good day. I know how thin plate spline is used for smoothing splines since I've been using it per\", \"<p>Okay so i scrape data from the web on movie reviews. I also have already got my own 'dictionary' \", \"<p>I am working on multiclass classification of images. For this I created a CNN model in keras. I a\", \"<p>I hope I did not misunderstand your question, as otherwise, this may sound too trivial to you. </\", \"<p>In order to extract some data from the fitted <code>glm</code> model object, you need to figure o\", \"<p>This will extract the rows from matrix <strong>A</strong> and <strong>B</strong>. </p><pre><code>\", \"<p>Logically speaking, I think X is Green Circle is a reasonable conclusion. I find the idea in the \", \"<p>I'm trying to test different machine learning algorithm to try to find correlation between variou\", \"<p>For this feasibility study, following will be high level steps :</p><ol><li>For each feature perf\", \"<p><img src=https://i.stack.imgur.com/lBxL5.png alt=enter image description here></p><p>These are 4 \", \"<p>I try to set up a multiclass CNN with Keras which relies on <code>ImageDataGenerator</code> and <\", \"<p>Just print type of both <code>xTest</code> and <code>yTest</code>. You should see that both are o\", \"<p>As a first step you should try <a href=https://en.wikipedia.org/wiki/Logistic_regression rel=nofo\", \"<p>Trigram models can be more powerful for document retrieval than unigram models, but if you want t\", \"<p>I'm trying to train an LSTM for sentiment analysis on the <a href=http://ai.stanford.edu/~amaas/d\", \"<p>I have a big matrix of size 200000 x 200000. I need to compute its inverse. But it gives out of m\", \"<p>As @seanv507 suggested, the similar performance may simply be due to the data being best separate\", \"<blockquote>  <p>The accuracy is varying and not linear, meaning that if the number of components in\", \"<p>Merge takes only two dataframes as parameter to join them together. If you want to join 3 you hav\", \"<p>Sounds like you should use a OneHotEncoder instead of a LabelEncoder since you are trying to enco\", \"<p>One option is to :</p><ol><li>Break data into constant-frequency observations (E.g.: Assume that \", \"<p>UPDATE: the landscape has changed quite a bit since I answered this question in July '14, and som\", \"<p>If you look at the 2nd equation under Propagation function</p><p><span class=math-container>$p_{j\", \"<p>The definition of VC dimension is: if <strong>there exists</strong> a set of n points that can be\", \"<p>I'm trying to train neural networks to extract parameters out of input data.In particular determi\", \"<p>In many GBM models you can get a rough feature importance of a feature by taking the number of sp\", \"<p>let's assume that I want to train a stochastic gradient descent regression algorithm using a data\", \"<p>I have a set of 10 experiments that compute precision, recall and f1-score for each experiment.No\", \"<p>What is the ratio between 0's and the other numbers? If the ratio is too low, let's say 2%, if yo\", \"<p>The arithmetic mean is denoted as <span class=math-container>$bar{x}$</span></p><p><span class=ma\", \"<p>I have trained a SVM for image classification using RGB histogram as features and a couple of oth\", \"<p>I am trying to create a large model. One of the features is categorical, and it has almost 100 mi\", \"<p>Given the definition for mutual information</p><p>$$I(X;Y) = sum_{y in Y} sum_{x in X}  p(x,y) lo\", \"<p>i'm trying to apply scikit learns decision tree on the following dataset with the goal of classif\", \"<p>I wrote a multilayer perceptron in Python. I'm trying to get it to do nonlinear classification. I\", \"<p>Try:</p><blockquote>  <p>mylogit &lt;- glm(VALUE ~ POINT1 * POINT2 * POINT3 * POINT4, data = data\", \"<p>You can add all features as input to RNN/LSTM (Day #, F1, F2, ... F5) and binary class as output.\", \"<p>I have a list of about 20 tasks that a machine need to be performed by a machine. Each tasks cons\", \"<p><strong>Feature Generation</strong> -- This is the process of taking raw, unstructured data and d\", \"<p>If all objects are observed in the same distance and almost same angle, the relative height and w\", \"<p>I'm attempting to use a sequence of numbers (of fixed length) in order to predict a binary output\", \"<p>I apologize for a vague title, but I know only the basic machine learning jargon. Let's assume th\", \"<p>Suppose that at a layer $N$ within a CNN, my image is a 200$times$200$times$10 array. Thus, if I \", \"<p>If I understand your goal correctly, you want to build classifier on similar entities taken from \", \"<p>I would like to do dimensionality reduction on nearly 1 million vectors each with 200 dimensions(\", \"<p>Take this with a grain of salt, but I think this is simply not true. You can evaluate it with the\", \"<p>The easiest way is to use <em>Padding and Masking</em>.</p><p>There are three general ways to han\", \"<p>The ground truth is what you measured for your target variable for the training and testing examp\", \"<p>I've implement a neural network. It's a fully connected back propogation network. I'm training it\", \"<p>By good I assume you're trying to see if the features are different enough? It depends on your da\", \"<p>I created an algorithm which works on categorical attributes. The input data comes with categoric\", \"<blockquote>  <p>One argument is that we generally don't know, a priori, what will be the best solut\", \"<p>I'd like to figure out the <strong>elapsed time</strong> between flag status changes.</p><p>Simpl\", \"<p>I have a function $f(x_1, x_2) = Y$ and the goal would be a user gives me a variable list of Y's \", \"<p><strong>Problem:</strong> I would like to build a machine learning model that can predict the bes\", \"<p>I want to learn ML and AI so I want to know which courses(It would be nice if the courses were fr\", \"<p>You could use the same reward function that <a href=https://github.com/openai/gym/blob/master/gym\", \"<p>I built a prediction model and predicted on new data. I now want to specify a value of my confide\", \"<p>It seems that you have an output size of 2 in your final layer, while you should rather have size\", \"<p>There are some suggestions which I think can improve CNN performance:</p><ol><li>Input size is (6\", \"<p>The slide explains a limitation which applies to any linear model. It would equally apply to line\", \"<p>Increasing the sentence length might help, but not much. You can try n-grams(2 or 3) while vector\", \"<p>For my answers, I assume you are talking about batch (not mini-batch or stochastic) gradient desc\", \"<p>I'm trying to extract percentages using Stanford NER. But it is not extracting percentage properl\", \"<p>I have an array dataset from which I need to build D whose each element is a list of strings (Thi\", \"<p>I would like to use cross validation with <code>catboost</code>. Since I do not just want to use \", \"<p>We got several models with predictions. How can we compare scores of different models with each o\", \"<p>I try to predict temperatures values as function of time and different parameters. The temperatur\", \"<p>I am starting with the generic TensorFlow example.</p><p>To classify my data I need to use multip\", \"<p>Let's work it out from the ground up. Classification (also known as categorization) is an example\", \"<p>You certainly can use DBSCAN to solve this trivial toy example. Because it can do connected-compo\", \"<p>I want to implement a system that takes as input scribbles (i.e. drawings with writings on paper,\", \"<p>I have a huge huge model in SQL that nobody knows what it is doing. This model spits out some num\", \"<p>After reading your question, I became curious about the topic of <em>time series clustering</em> \", \"<p>I think that this is the same issue as in this question: <a href=https://stackoverflow.com/questi\", \"<h2>Business Analyst</h2><p>A business analyst is one who understands the specific domain of the pro\", \"<p>The first logloss formula you are using is for multiclass log loss, where the $i$ subscript enume\", \"<p>I think your biggest problem is the lack of biases. Between the input layer and the hidden layer,\", \"<p>I know about the <code>fitdist()</code> function from the <code>fitdistrplus</code> package in R,\", \"<p>I'm currently following a tutorial but I got stuck at the deep Q learning model. According to my \", \"<p>I have a hobby project which I am contemplating committing to as a way of increasing my so far li\", \"<p>I am trying to build price recommendation solution for clients in a scalable manner. I have two c\", \"<p>I'm starting in deep learning and I would like to apply a ternary classification model to text da\", \"<h1>This is what I am trying to accomplish:</h1><p>Predict <strong>Y</strong> based on <strong>X</st\", \"<p>You can try the following:</p><p>The minimum syntax you can use is:</p><blockquote>  <p>fit.norm \"], \"xaxis\": \"x\", \"y\": [\"4\", \"120\", \"4\", \"0\", \"1\", \"1\", \"3\", \"1\", \"2\", \"0\", \"2\", \"3\", \"165\", \"1\", \"6\", \"8\", \"1\", \"3\", \"3\", \"2\", \"1\", \"1\", \"12\", \"1\", \"23\", \"0\", \"-1\", \"1\", \"0\", \"3\", \"1\", \"2\", \"1\", \"1\", \"0\", \"10\", \"4\", \"-1\", \"1\", \"2\", \"1\", \"2\", \"1\", \"1\", \"1\", \"3\", \"8\", \"3\", \"40\", \"4\", \"3\", \"1\", \"10\", \"3\", \"1\", \"2\", \"1\", \"3\", \"1\", \"2\", \"8\", \"15\", \"0\", \"19\", \"-3\", \"0\", \"6\", \"0\", \"5\", \"8\", \"0\", \"1\", \"2\", \"15\", \"1\", \"1\", \"4\", \"2\", \"1\", \"3\", \"2\", \"2\", \"1\", \"1\", \"8\", \"1\", \"0\", \"1\", \"2\", \"0\", \"1\", \"1\", \"2\", \"2\", \"1\", \"0\", \"116\", \"1\", \"5\", \"2\", \"-1\", \"9\", \"4\", \"1\", \"10\", \"0\", \"1\", \"3\", \"0\", \"3\", \"1\", \"3\", \"6\", \"13\", \"1\", \"1\", \"3\", \"5\", \"1\", \"17\", \"3\", \"11\", \"22\", \"0\", \"3\", \"1\", \"3\", \"2\", \"2\", \"0\", \"0\", \"1\", \"5\", \"0\", \"1\", \"2\", \"0\", \"2\", \"1\", \"2\", \"3\", \"0\", \"2\", \"3\", \"13\", \"1\", \"1\", \"0\", \"14\", \"1\", \"1\", \"21\", \"3\", \"-1\", \"1\", \"17\", \"2\", \"-1\", \"1\", \"0\"], \"yaxis\": \"y\"}],\n",
       "                        {\"barmode\": \"relative\", \"height\": 600, \"legend\": {\"tracegroupgap\": 0}, \"margin\": {\"t\": 60}, \"template\": {\"data\": {\"bar\": [{\"error_x\": {\"color\": \"#f2f5fa\"}, \"error_y\": {\"color\": \"#f2f5fa\"}, \"marker\": {\"line\": {\"color\": \"rgb(17,17,17)\", \"width\": 0.5}}, \"type\": \"bar\"}], \"barpolar\": [{\"marker\": {\"line\": {\"color\": \"rgb(17,17,17)\", \"width\": 0.5}}, \"type\": \"barpolar\"}], \"carpet\": [{\"aaxis\": {\"endlinecolor\": \"#A2B1C6\", \"gridcolor\": \"#506784\", \"linecolor\": \"#506784\", \"minorgridcolor\": \"#506784\", \"startlinecolor\": \"#A2B1C6\"}, \"baxis\": {\"endlinecolor\": \"#A2B1C6\", \"gridcolor\": \"#506784\", \"linecolor\": \"#506784\", \"minorgridcolor\": \"#506784\", \"startlinecolor\": \"#A2B1C6\"}, \"type\": \"carpet\"}], \"choropleth\": [{\"colorbar\": {\"outlinewidth\": 0, \"ticks\": \"\"}, \"type\": \"choropleth\"}], \"contour\": [{\"colorbar\": {\"outlinewidth\": 0, \"ticks\": \"\"}, \"colorscale\": [[0.0, \"#0d0887\"], [0.1111111111111111, \"#46039f\"], [0.2222222222222222, \"#7201a8\"], [0.3333333333333333, \"#9c179e\"], [0.4444444444444444, \"#bd3786\"], [0.5555555555555556, \"#d8576b\"], [0.6666666666666666, \"#ed7953\"], [0.7777777777777778, \"#fb9f3a\"], [0.8888888888888888, \"#fdca26\"], [1.0, \"#f0f921\"]], \"type\": \"contour\"}], \"contourcarpet\": [{\"colorbar\": {\"outlinewidth\": 0, \"ticks\": \"\"}, \"type\": \"contourcarpet\"}], \"heatmap\": [{\"colorbar\": {\"outlinewidth\": 0, \"ticks\": \"\"}, \"colorscale\": [[0.0, \"#0d0887\"], [0.1111111111111111, \"#46039f\"], [0.2222222222222222, \"#7201a8\"], [0.3333333333333333, \"#9c179e\"], [0.4444444444444444, \"#bd3786\"], [0.5555555555555556, \"#d8576b\"], [0.6666666666666666, \"#ed7953\"], [0.7777777777777778, \"#fb9f3a\"], [0.8888888888888888, \"#fdca26\"], [1.0, \"#f0f921\"]], \"type\": \"heatmap\"}], \"heatmapgl\": [{\"colorbar\": {\"outlinewidth\": 0, \"ticks\": \"\"}, \"colorscale\": [[0.0, \"#0d0887\"], [0.1111111111111111, \"#46039f\"], [0.2222222222222222, \"#7201a8\"], [0.3333333333333333, \"#9c179e\"], [0.4444444444444444, \"#bd3786\"], [0.5555555555555556, \"#d8576b\"], [0.6666666666666666, \"#ed7953\"], [0.7777777777777778, \"#fb9f3a\"], [0.8888888888888888, \"#fdca26\"], [1.0, \"#f0f921\"]], \"type\": \"heatmapgl\"}], \"histogram\": [{\"marker\": {\"colorbar\": {\"outlinewidth\": 0, \"ticks\": \"\"}}, \"type\": \"histogram\"}], \"histogram2d\": [{\"colorbar\": {\"outlinewidth\": 0, \"ticks\": \"\"}, \"colorscale\": [[0.0, \"#0d0887\"], [0.1111111111111111, \"#46039f\"], [0.2222222222222222, \"#7201a8\"], [0.3333333333333333, \"#9c179e\"], [0.4444444444444444, \"#bd3786\"], [0.5555555555555556, \"#d8576b\"], [0.6666666666666666, \"#ed7953\"], [0.7777777777777778, \"#fb9f3a\"], [0.8888888888888888, \"#fdca26\"], [1.0, \"#f0f921\"]], \"type\": \"histogram2d\"}], \"histogram2dcontour\": [{\"colorbar\": {\"outlinewidth\": 0, \"ticks\": \"\"}, \"colorscale\": [[0.0, \"#0d0887\"], [0.1111111111111111, \"#46039f\"], [0.2222222222222222, \"#7201a8\"], [0.3333333333333333, \"#9c179e\"], [0.4444444444444444, \"#bd3786\"], [0.5555555555555556, \"#d8576b\"], [0.6666666666666666, \"#ed7953\"], [0.7777777777777778, \"#fb9f3a\"], [0.8888888888888888, \"#fdca26\"], [1.0, \"#f0f921\"]], \"type\": \"histogram2dcontour\"}], \"mesh3d\": [{\"colorbar\": {\"outlinewidth\": 0, \"ticks\": \"\"}, \"type\": \"mesh3d\"}], \"parcoords\": [{\"line\": {\"colorbar\": {\"outlinewidth\": 0, \"ticks\": \"\"}}, \"type\": \"parcoords\"}], \"scatter\": [{\"marker\": {\"line\": {\"color\": \"#283442\"}}, \"type\": \"scatter\"}], \"scatter3d\": [{\"line\": {\"colorbar\": {\"outlinewidth\": 0, \"ticks\": \"\"}}, \"marker\": {\"colorbar\": {\"outlinewidth\": 0, \"ticks\": \"\"}}, \"type\": \"scatter3d\"}], \"scattercarpet\": [{\"marker\": {\"colorbar\": {\"outlinewidth\": 0, \"ticks\": \"\"}}, \"type\": \"scattercarpet\"}], \"scattergeo\": [{\"marker\": {\"colorbar\": {\"outlinewidth\": 0, \"ticks\": \"\"}}, \"type\": \"scattergeo\"}], \"scattergl\": [{\"marker\": {\"line\": {\"color\": \"#283442\"}}, \"type\": \"scattergl\"}], \"scattermapbox\": [{\"marker\": {\"colorbar\": {\"outlinewidth\": 0, \"ticks\": \"\"}}, \"type\": \"scattermapbox\"}], \"scatterpolar\": [{\"marker\": {\"colorbar\": {\"outlinewidth\": 0, \"ticks\": \"\"}}, \"type\": \"scatterpolar\"}], \"scatterpolargl\": [{\"marker\": {\"colorbar\": {\"outlinewidth\": 0, \"ticks\": \"\"}}, \"type\": \"scatterpolargl\"}], \"scatterternary\": [{\"marker\": {\"colorbar\": {\"outlinewidth\": 0, \"ticks\": \"\"}}, \"type\": \"scatterternary\"}], \"surface\": [{\"colorbar\": {\"outlinewidth\": 0, \"ticks\": \"\"}, \"colorscale\": [[0.0, \"#0d0887\"], [0.1111111111111111, \"#46039f\"], [0.2222222222222222, \"#7201a8\"], [0.3333333333333333, \"#9c179e\"], [0.4444444444444444, \"#bd3786\"], [0.5555555555555556, \"#d8576b\"], [0.6666666666666666, \"#ed7953\"], [0.7777777777777778, \"#fb9f3a\"], [0.8888888888888888, \"#fdca26\"], [1.0, \"#f0f921\"]], \"type\": \"surface\"}], \"table\": [{\"cells\": {\"fill\": {\"color\": \"#506784\"}, \"line\": {\"color\": \"rgb(17,17,17)\"}}, \"header\": {\"fill\": {\"color\": \"#2a3f5f\"}, \"line\": {\"color\": \"rgb(17,17,17)\"}}, \"type\": \"table\"}]}, \"layout\": {\"annotationdefaults\": {\"arrowcolor\": \"#f2f5fa\", \"arrowhead\": 0, \"arrowwidth\": 1}, \"colorscale\": {\"diverging\": [[0, \"#8e0152\"], [0.1, \"#c51b7d\"], [0.2, \"#de77ae\"], [0.3, \"#f1b6da\"], [0.4, \"#fde0ef\"], [0.5, \"#f7f7f7\"], [0.6, \"#e6f5d0\"], [0.7, \"#b8e186\"], [0.8, \"#7fbc41\"], [0.9, \"#4d9221\"], [1, \"#276419\"]], \"sequential\": [[0.0, \"#0d0887\"], [0.1111111111111111, \"#46039f\"], [0.2222222222222222, \"#7201a8\"], [0.3333333333333333, \"#9c179e\"], [0.4444444444444444, \"#bd3786\"], [0.5555555555555556, \"#d8576b\"], [0.6666666666666666, \"#ed7953\"], [0.7777777777777778, \"#fb9f3a\"], [0.8888888888888888, \"#fdca26\"], [1.0, \"#f0f921\"]], \"sequentialminus\": [[0.0, \"#0d0887\"], [0.1111111111111111, \"#46039f\"], [0.2222222222222222, \"#7201a8\"], [0.3333333333333333, \"#9c179e\"], [0.4444444444444444, \"#bd3786\"], [0.5555555555555556, \"#d8576b\"], [0.6666666666666666, \"#ed7953\"], [0.7777777777777778, \"#fb9f3a\"], [0.8888888888888888, \"#fdca26\"], [1.0, \"#f0f921\"]]}, \"colorway\": [\"#636efa\", \"#EF553B\", \"#00cc96\", \"#ab63fa\", \"#FFA15A\", \"#19d3f3\", \"#FF6692\", \"#B6E880\", \"#FF97FF\", \"#FECB52\"], \"font\": {\"color\": \"#f2f5fa\"}, \"geo\": {\"bgcolor\": \"rgb(17,17,17)\", \"lakecolor\": \"rgb(17,17,17)\", \"landcolor\": \"rgb(17,17,17)\", \"showlakes\": true, \"showland\": true, \"subunitcolor\": \"#506784\"}, \"hoverlabel\": {\"align\": \"left\"}, \"hovermode\": \"closest\", \"mapbox\": {\"style\": \"dark\"}, \"paper_bgcolor\": \"rgb(17,17,17)\", \"plot_bgcolor\": \"rgb(17,17,17)\", \"polar\": {\"angularaxis\": {\"gridcolor\": \"#506784\", \"linecolor\": \"#506784\", \"ticks\": \"\"}, \"bgcolor\": \"rgb(17,17,17)\", \"radialaxis\": {\"gridcolor\": \"#506784\", \"linecolor\": \"#506784\", \"ticks\": \"\"}}, \"scene\": {\"xaxis\": {\"backgroundcolor\": \"rgb(17,17,17)\", \"gridcolor\": \"#506784\", \"gridwidth\": 2, \"linecolor\": \"#506784\", \"showbackground\": true, \"ticks\": \"\", \"zerolinecolor\": \"#C8D4E3\"}, \"yaxis\": {\"backgroundcolor\": \"rgb(17,17,17)\", \"gridcolor\": \"#506784\", \"gridwidth\": 2, \"linecolor\": \"#506784\", \"showbackground\": true, \"ticks\": \"\", \"zerolinecolor\": \"#C8D4E3\"}, \"zaxis\": {\"backgroundcolor\": \"rgb(17,17,17)\", \"gridcolor\": \"#506784\", \"gridwidth\": 2, \"linecolor\": \"#506784\", \"showbackground\": true, \"ticks\": \"\", \"zerolinecolor\": \"#C8D4E3\"}}, \"shapedefaults\": {\"line\": {\"color\": \"#f2f5fa\"}}, \"sliderdefaults\": {\"bgcolor\": \"#C8D4E3\", \"bordercolor\": \"rgb(17,17,17)\", \"borderwidth\": 1, \"tickwidth\": 0}, \"ternary\": {\"aaxis\": {\"gridcolor\": \"#506784\", \"linecolor\": \"#506784\", \"ticks\": \"\"}, \"baxis\": {\"gridcolor\": \"#506784\", \"linecolor\": \"#506784\", \"ticks\": \"\"}, \"bgcolor\": \"rgb(17,17,17)\", \"caxis\": {\"gridcolor\": \"#506784\", \"linecolor\": \"#506784\", \"ticks\": \"\"}}, \"title\": {\"x\": 0.05}, \"updatemenudefaults\": {\"bgcolor\": \"#506784\", \"borderwidth\": 0}, \"xaxis\": {\"automargin\": true, \"gridcolor\": \"#283442\", \"linecolor\": \"#506784\", \"ticks\": \"\", \"zerolinecolor\": \"#283442\", \"zerolinewidth\": 2}, \"yaxis\": {\"automargin\": true, \"gridcolor\": \"#283442\", \"linecolor\": \"#506784\", \"ticks\": \"\", \"zerolinecolor\": \"#283442\", \"zerolinewidth\": 2}}}, \"xaxis\": {\"anchor\": \"y\", \"domain\": [0.0, 0.98], \"title\": {\"text\": \"body\"}}, \"yaxis\": {\"anchor\": \"x\", \"domain\": [0.0, 1.0], \"title\": {\"text\": \"score\"}}},\n",
       "                        {\"responsive\": true}\n",
       "                    ).then(function(){\n",
       "                            \n",
       "var gd = document.getElementById('af1f0885-8c6a-4e2a-b642-793eb20c8a8e');\n",
       "var x = new MutationObserver(function (mutations, observer) {{\n",
       "        var display = window.getComputedStyle(gd).display;\n",
       "        if (!display || display === 'none') {{\n",
       "            console.log([gd, 'removed!']);\n",
       "            Plotly.purge(gd);\n",
       "            observer.disconnect();\n",
       "        }}\n",
       "}});\n",
       "\n",
       "// Listen for the removal of the full notebook cells\n",
       "var notebookContainer = gd.closest('#notebook-container');\n",
       "if (notebookContainer) {{\n",
       "    x.observe(notebookContainer, {childList: true});\n",
       "}}\n",
       "\n",
       "// Listen for the clearing of the current output cell\n",
       "var outputEl = gd.closest('.output');\n",
       "if (outputEl) {{\n",
       "    x.observe(outputEl, {childList: true});\n",
       "}}\n",
       "\n",
       "                        })\n",
       "                };\n",
       "                });\n",
       "            </script>\n",
       "        </div>"
      ]
     },
     "metadata": {},
     "output_type": "display_data"
    }
   ],
   "source": [
    "import plotly_express as px         \n",
    "px.bar(hyp5, x='body', y='score', template='plotly_dark')"
   ]
  },
  {
   "cell_type": "code",
   "execution_count": 181,
   "metadata": {},
   "outputs": [
    {
     "data": {
      "application/vnd.plotly.v1+json": {
       "config": {
        "plotlyServerURL": "https://plot.ly"
       },
       "data": [
        {
         "alignmentgroup": "True",
         "hoverlabel": {
          "namelength": 0
         },
         "hovertemplate": "score/comments=%{y}",
         "legendgroup": "",
         "marker": {
          "color": "#636efa"
         },
         "name": "",
         "notched": false,
         "offsetgroup": "",
         "orientation": "v",
         "showlegend": false,
         "type": "box",
         "x0": " ",
         "xaxis": "x",
         "y": [
          0.4444444444444444,
          13.333333333333334,
          0.4444444444444444,
          0,
          0.1111111111111111,
          0.1111111111111111,
          0.3333333333333333,
          0.1111111111111111,
          0.2222222222222222,
          0,
          0.2222222222222222,
          0.3333333333333333,
          18.333333333333332,
          0.1111111111111111,
          0.6666666666666666,
          0.8888888888888888,
          0.1111111111111111,
          0.3333333333333333,
          0.3333333333333333,
          0.2222222222222222,
          0.1111111111111111,
          0.1111111111111111,
          1.3333333333333333,
          0.1111111111111111,
          2.5555555555555554,
          0,
          -0.1111111111111111,
          0.1111111111111111,
          0,
          0.3333333333333333,
          0.1111111111111111,
          0.2222222222222222,
          0.1111111111111111,
          0.1111111111111111,
          0,
          1.1111111111111112,
          0.4444444444444444,
          -0.1111111111111111,
          0.1111111111111111,
          0.2222222222222222,
          0.1111111111111111,
          0.2222222222222222,
          0.1111111111111111,
          0.1111111111111111,
          0.1111111111111111,
          0.3333333333333333,
          0.8888888888888888,
          0.3333333333333333,
          4.444444444444445,
          0.4444444444444444,
          0.3333333333333333,
          0.1111111111111111,
          1.1111111111111112,
          0.3333333333333333,
          0.1111111111111111,
          0.2222222222222222,
          0.1111111111111111,
          0.3333333333333333,
          0.1111111111111111,
          0.2222222222222222,
          0.8888888888888888,
          1.6666666666666667,
          0,
          2.111111111111111,
          -0.3333333333333333,
          0,
          0.6666666666666666,
          0,
          0.5555555555555556,
          0.8888888888888888,
          0,
          0.1111111111111111,
          0.2222222222222222,
          1.6666666666666667,
          0.1111111111111111,
          0.1111111111111111,
          0.4444444444444444,
          0.2222222222222222,
          0.1111111111111111,
          0.3333333333333333,
          0.2222222222222222,
          0.2222222222222222,
          0.1111111111111111,
          0.1111111111111111,
          0.8888888888888888,
          0.1111111111111111,
          0,
          0.1111111111111111,
          0.2222222222222222,
          0,
          0.1111111111111111,
          0.1111111111111111,
          0.2222222222222222,
          0.2222222222222222,
          0.1111111111111111,
          0,
          12.88888888888889,
          0.1111111111111111,
          0.5555555555555556,
          0.2222222222222222,
          -0.1111111111111111,
          1,
          0.4444444444444444,
          0.1111111111111111,
          1.1111111111111112,
          0,
          0.1111111111111111,
          0.3333333333333333,
          0,
          0.3333333333333333,
          0.1111111111111111,
          0.3333333333333333,
          0.6666666666666666,
          1.4444444444444444,
          0.1111111111111111,
          0.1111111111111111,
          0.3333333333333333,
          0.5555555555555556,
          0.125,
          2.125,
          0.375,
          1.375,
          2.75,
          0,
          0.375,
          0.125,
          0.375,
          0.25,
          0.25,
          0,
          0,
          0.125,
          0.625,
          0,
          0.125,
          0.25,
          0,
          0.25,
          0.125,
          0.25,
          0.375,
          0,
          0.25,
          0.375,
          1.625,
          0.125,
          0.125,
          0,
          1.75,
          0.125,
          0.125,
          2.625,
          0.375,
          -0.125,
          0.125,
          2.125,
          0.25,
          -0.125,
          0.125,
          0
         ],
         "y0": " ",
         "yaxis": "y"
        }
       ],
       "layout": {
        "boxmode": "group",
        "height": 600,
        "legend": {
         "tracegroupgap": 0
        },
        "template": {
         "data": {
          "bar": [
           {
            "error_x": {
             "color": "#f2f5fa"
            },
            "error_y": {
             "color": "#f2f5fa"
            },
            "marker": {
             "line": {
              "color": "rgb(17,17,17)",
              "width": 0.5
             }
            },
            "type": "bar"
           }
          ],
          "barpolar": [
           {
            "marker": {
             "line": {
              "color": "rgb(17,17,17)",
              "width": 0.5
             }
            },
            "type": "barpolar"
           }
          ],
          "carpet": [
           {
            "aaxis": {
             "endlinecolor": "#A2B1C6",
             "gridcolor": "#506784",
             "linecolor": "#506784",
             "minorgridcolor": "#506784",
             "startlinecolor": "#A2B1C6"
            },
            "baxis": {
             "endlinecolor": "#A2B1C6",
             "gridcolor": "#506784",
             "linecolor": "#506784",
             "minorgridcolor": "#506784",
             "startlinecolor": "#A2B1C6"
            },
            "type": "carpet"
           }
          ],
          "choropleth": [
           {
            "colorbar": {
             "outlinewidth": 0,
             "ticks": ""
            },
            "type": "choropleth"
           }
          ],
          "contour": [
           {
            "colorbar": {
             "outlinewidth": 0,
             "ticks": ""
            },
            "colorscale": [
             [
              0,
              "#0d0887"
             ],
             [
              0.1111111111111111,
              "#46039f"
             ],
             [
              0.2222222222222222,
              "#7201a8"
             ],
             [
              0.3333333333333333,
              "#9c179e"
             ],
             [
              0.4444444444444444,
              "#bd3786"
             ],
             [
              0.5555555555555556,
              "#d8576b"
             ],
             [
              0.6666666666666666,
              "#ed7953"
             ],
             [
              0.7777777777777778,
              "#fb9f3a"
             ],
             [
              0.8888888888888888,
              "#fdca26"
             ],
             [
              1,
              "#f0f921"
             ]
            ],
            "type": "contour"
           }
          ],
          "contourcarpet": [
           {
            "colorbar": {
             "outlinewidth": 0,
             "ticks": ""
            },
            "type": "contourcarpet"
           }
          ],
          "heatmap": [
           {
            "colorbar": {
             "outlinewidth": 0,
             "ticks": ""
            },
            "colorscale": [
             [
              0,
              "#0d0887"
             ],
             [
              0.1111111111111111,
              "#46039f"
             ],
             [
              0.2222222222222222,
              "#7201a8"
             ],
             [
              0.3333333333333333,
              "#9c179e"
             ],
             [
              0.4444444444444444,
              "#bd3786"
             ],
             [
              0.5555555555555556,
              "#d8576b"
             ],
             [
              0.6666666666666666,
              "#ed7953"
             ],
             [
              0.7777777777777778,
              "#fb9f3a"
             ],
             [
              0.8888888888888888,
              "#fdca26"
             ],
             [
              1,
              "#f0f921"
             ]
            ],
            "type": "heatmap"
           }
          ],
          "heatmapgl": [
           {
            "colorbar": {
             "outlinewidth": 0,
             "ticks": ""
            },
            "colorscale": [
             [
              0,
              "#0d0887"
             ],
             [
              0.1111111111111111,
              "#46039f"
             ],
             [
              0.2222222222222222,
              "#7201a8"
             ],
             [
              0.3333333333333333,
              "#9c179e"
             ],
             [
              0.4444444444444444,
              "#bd3786"
             ],
             [
              0.5555555555555556,
              "#d8576b"
             ],
             [
              0.6666666666666666,
              "#ed7953"
             ],
             [
              0.7777777777777778,
              "#fb9f3a"
             ],
             [
              0.8888888888888888,
              "#fdca26"
             ],
             [
              1,
              "#f0f921"
             ]
            ],
            "type": "heatmapgl"
           }
          ],
          "histogram": [
           {
            "marker": {
             "colorbar": {
              "outlinewidth": 0,
              "ticks": ""
             }
            },
            "type": "histogram"
           }
          ],
          "histogram2d": [
           {
            "colorbar": {
             "outlinewidth": 0,
             "ticks": ""
            },
            "colorscale": [
             [
              0,
              "#0d0887"
             ],
             [
              0.1111111111111111,
              "#46039f"
             ],
             [
              0.2222222222222222,
              "#7201a8"
             ],
             [
              0.3333333333333333,
              "#9c179e"
             ],
             [
              0.4444444444444444,
              "#bd3786"
             ],
             [
              0.5555555555555556,
              "#d8576b"
             ],
             [
              0.6666666666666666,
              "#ed7953"
             ],
             [
              0.7777777777777778,
              "#fb9f3a"
             ],
             [
              0.8888888888888888,
              "#fdca26"
             ],
             [
              1,
              "#f0f921"
             ]
            ],
            "type": "histogram2d"
           }
          ],
          "histogram2dcontour": [
           {
            "colorbar": {
             "outlinewidth": 0,
             "ticks": ""
            },
            "colorscale": [
             [
              0,
              "#0d0887"
             ],
             [
              0.1111111111111111,
              "#46039f"
             ],
             [
              0.2222222222222222,
              "#7201a8"
             ],
             [
              0.3333333333333333,
              "#9c179e"
             ],
             [
              0.4444444444444444,
              "#bd3786"
             ],
             [
              0.5555555555555556,
              "#d8576b"
             ],
             [
              0.6666666666666666,
              "#ed7953"
             ],
             [
              0.7777777777777778,
              "#fb9f3a"
             ],
             [
              0.8888888888888888,
              "#fdca26"
             ],
             [
              1,
              "#f0f921"
             ]
            ],
            "type": "histogram2dcontour"
           }
          ],
          "mesh3d": [
           {
            "colorbar": {
             "outlinewidth": 0,
             "ticks": ""
            },
            "type": "mesh3d"
           }
          ],
          "parcoords": [
           {
            "line": {
             "colorbar": {
              "outlinewidth": 0,
              "ticks": ""
             }
            },
            "type": "parcoords"
           }
          ],
          "scatter": [
           {
            "marker": {
             "line": {
              "color": "#283442"
             }
            },
            "type": "scatter"
           }
          ],
          "scatter3d": [
           {
            "line": {
             "colorbar": {
              "outlinewidth": 0,
              "ticks": ""
             }
            },
            "marker": {
             "colorbar": {
              "outlinewidth": 0,
              "ticks": ""
             }
            },
            "type": "scatter3d"
           }
          ],
          "scattercarpet": [
           {
            "marker": {
             "colorbar": {
              "outlinewidth": 0,
              "ticks": ""
             }
            },
            "type": "scattercarpet"
           }
          ],
          "scattergeo": [
           {
            "marker": {
             "colorbar": {
              "outlinewidth": 0,
              "ticks": ""
             }
            },
            "type": "scattergeo"
           }
          ],
          "scattergl": [
           {
            "marker": {
             "line": {
              "color": "#283442"
             }
            },
            "type": "scattergl"
           }
          ],
          "scattermapbox": [
           {
            "marker": {
             "colorbar": {
              "outlinewidth": 0,
              "ticks": ""
             }
            },
            "type": "scattermapbox"
           }
          ],
          "scatterpolar": [
           {
            "marker": {
             "colorbar": {
              "outlinewidth": 0,
              "ticks": ""
             }
            },
            "type": "scatterpolar"
           }
          ],
          "scatterpolargl": [
           {
            "marker": {
             "colorbar": {
              "outlinewidth": 0,
              "ticks": ""
             }
            },
            "type": "scatterpolargl"
           }
          ],
          "scatterternary": [
           {
            "marker": {
             "colorbar": {
              "outlinewidth": 0,
              "ticks": ""
             }
            },
            "type": "scatterternary"
           }
          ],
          "surface": [
           {
            "colorbar": {
             "outlinewidth": 0,
             "ticks": ""
            },
            "colorscale": [
             [
              0,
              "#0d0887"
             ],
             [
              0.1111111111111111,
              "#46039f"
             ],
             [
              0.2222222222222222,
              "#7201a8"
             ],
             [
              0.3333333333333333,
              "#9c179e"
             ],
             [
              0.4444444444444444,
              "#bd3786"
             ],
             [
              0.5555555555555556,
              "#d8576b"
             ],
             [
              0.6666666666666666,
              "#ed7953"
             ],
             [
              0.7777777777777778,
              "#fb9f3a"
             ],
             [
              0.8888888888888888,
              "#fdca26"
             ],
             [
              1,
              "#f0f921"
             ]
            ],
            "type": "surface"
           }
          ],
          "table": [
           {
            "cells": {
             "fill": {
              "color": "#506784"
             },
             "line": {
              "color": "rgb(17,17,17)"
             }
            },
            "header": {
             "fill": {
              "color": "#2a3f5f"
             },
             "line": {
              "color": "rgb(17,17,17)"
             }
            },
            "type": "table"
           }
          ]
         },
         "layout": {
          "annotationdefaults": {
           "arrowcolor": "#f2f5fa",
           "arrowhead": 0,
           "arrowwidth": 1
          },
          "colorscale": {
           "diverging": [
            [
             0,
             "#8e0152"
            ],
            [
             0.1,
             "#c51b7d"
            ],
            [
             0.2,
             "#de77ae"
            ],
            [
             0.3,
             "#f1b6da"
            ],
            [
             0.4,
             "#fde0ef"
            ],
            [
             0.5,
             "#f7f7f7"
            ],
            [
             0.6,
             "#e6f5d0"
            ],
            [
             0.7,
             "#b8e186"
            ],
            [
             0.8,
             "#7fbc41"
            ],
            [
             0.9,
             "#4d9221"
            ],
            [
             1,
             "#276419"
            ]
           ],
           "sequential": [
            [
             0,
             "#0d0887"
            ],
            [
             0.1111111111111111,
             "#46039f"
            ],
            [
             0.2222222222222222,
             "#7201a8"
            ],
            [
             0.3333333333333333,
             "#9c179e"
            ],
            [
             0.4444444444444444,
             "#bd3786"
            ],
            [
             0.5555555555555556,
             "#d8576b"
            ],
            [
             0.6666666666666666,
             "#ed7953"
            ],
            [
             0.7777777777777778,
             "#fb9f3a"
            ],
            [
             0.8888888888888888,
             "#fdca26"
            ],
            [
             1,
             "#f0f921"
            ]
           ],
           "sequentialminus": [
            [
             0,
             "#0d0887"
            ],
            [
             0.1111111111111111,
             "#46039f"
            ],
            [
             0.2222222222222222,
             "#7201a8"
            ],
            [
             0.3333333333333333,
             "#9c179e"
            ],
            [
             0.4444444444444444,
             "#bd3786"
            ],
            [
             0.5555555555555556,
             "#d8576b"
            ],
            [
             0.6666666666666666,
             "#ed7953"
            ],
            [
             0.7777777777777778,
             "#fb9f3a"
            ],
            [
             0.8888888888888888,
             "#fdca26"
            ],
            [
             1,
             "#f0f921"
            ]
           ]
          },
          "colorway": [
           "#636efa",
           "#EF553B",
           "#00cc96",
           "#ab63fa",
           "#FFA15A",
           "#19d3f3",
           "#FF6692",
           "#B6E880",
           "#FF97FF",
           "#FECB52"
          ],
          "font": {
           "color": "#f2f5fa"
          },
          "geo": {
           "bgcolor": "rgb(17,17,17)",
           "lakecolor": "rgb(17,17,17)",
           "landcolor": "rgb(17,17,17)",
           "showlakes": true,
           "showland": true,
           "subunitcolor": "#506784"
          },
          "hoverlabel": {
           "align": "left"
          },
          "hovermode": "closest",
          "mapbox": {
           "style": "dark"
          },
          "paper_bgcolor": "rgb(17,17,17)",
          "plot_bgcolor": "rgb(17,17,17)",
          "polar": {
           "angularaxis": {
            "gridcolor": "#506784",
            "linecolor": "#506784",
            "ticks": ""
           },
           "bgcolor": "rgb(17,17,17)",
           "radialaxis": {
            "gridcolor": "#506784",
            "linecolor": "#506784",
            "ticks": ""
           }
          },
          "scene": {
           "xaxis": {
            "backgroundcolor": "rgb(17,17,17)",
            "gridcolor": "#506784",
            "gridwidth": 2,
            "linecolor": "#506784",
            "showbackground": true,
            "ticks": "",
            "zerolinecolor": "#C8D4E3"
           },
           "yaxis": {
            "backgroundcolor": "rgb(17,17,17)",
            "gridcolor": "#506784",
            "gridwidth": 2,
            "linecolor": "#506784",
            "showbackground": true,
            "ticks": "",
            "zerolinecolor": "#C8D4E3"
           },
           "zaxis": {
            "backgroundcolor": "rgb(17,17,17)",
            "gridcolor": "#506784",
            "gridwidth": 2,
            "linecolor": "#506784",
            "showbackground": true,
            "ticks": "",
            "zerolinecolor": "#C8D4E3"
           }
          },
          "shapedefaults": {
           "line": {
            "color": "#f2f5fa"
           }
          },
          "sliderdefaults": {
           "bgcolor": "#C8D4E3",
           "bordercolor": "rgb(17,17,17)",
           "borderwidth": 1,
           "tickwidth": 0
          },
          "ternary": {
           "aaxis": {
            "gridcolor": "#506784",
            "linecolor": "#506784",
            "ticks": ""
           },
           "baxis": {
            "gridcolor": "#506784",
            "linecolor": "#506784",
            "ticks": ""
           },
           "bgcolor": "rgb(17,17,17)",
           "caxis": {
            "gridcolor": "#506784",
            "linecolor": "#506784",
            "ticks": ""
           }
          },
          "title": {
           "x": 0.05
          },
          "updatemenudefaults": {
           "bgcolor": "#506784",
           "borderwidth": 0
          },
          "xaxis": {
           "automargin": true,
           "gridcolor": "#283442",
           "linecolor": "#506784",
           "ticks": "",
           "zerolinecolor": "#283442",
           "zerolinewidth": 2
          },
          "yaxis": {
           "automargin": true,
           "gridcolor": "#283442",
           "linecolor": "#506784",
           "ticks": "",
           "zerolinecolor": "#283442",
           "zerolinewidth": 2
          }
         }
        },
        "title": {
         "text": "Distribution of Post Score in Posts with 9 Answers"
        },
        "xaxis": {
         "anchor": "y",
         "domain": [
          0,
          0.98
         ]
        },
        "yaxis": {
         "anchor": "x",
         "domain": [
          0,
          1
         ],
         "title": {
          "text": "score/comments"
         }
        }
       }
      },
      "text/html": [
       "<div>\n",
       "        \n",
       "        \n",
       "            <div id=\"2f966782-7902-48c6-b5fd-6b9fcc1840d9\" class=\"plotly-graph-div\" style=\"height:600px; width:100%;\"></div>\n",
       "            <script type=\"text/javascript\">\n",
       "                require([\"plotly\"], function(Plotly) {\n",
       "                    window.PLOTLYENV=window.PLOTLYENV || {};\n",
       "                    \n",
       "                if (document.getElementById(\"2f966782-7902-48c6-b5fd-6b9fcc1840d9\")) {\n",
       "                    Plotly.newPlot(\n",
       "                        '2f966782-7902-48c6-b5fd-6b9fcc1840d9',\n",
       "                        [{\"alignmentgroup\": \"True\", \"hoverlabel\": {\"namelength\": 0}, \"hovertemplate\": \"score/comments=%{y}\", \"legendgroup\": \"\", \"marker\": {\"color\": \"#636efa\"}, \"name\": \"\", \"notched\": false, \"offsetgroup\": \"\", \"orientation\": \"v\", \"showlegend\": false, \"type\": \"box\", \"x0\": \" \", \"xaxis\": \"x\", \"y\": [0.4444444444444444, 13.333333333333334, 0.4444444444444444, 0.0, 0.1111111111111111, 0.1111111111111111, 0.3333333333333333, 0.1111111111111111, 0.2222222222222222, 0.0, 0.2222222222222222, 0.3333333333333333, 18.333333333333332, 0.1111111111111111, 0.6666666666666666, 0.8888888888888888, 0.1111111111111111, 0.3333333333333333, 0.3333333333333333, 0.2222222222222222, 0.1111111111111111, 0.1111111111111111, 1.3333333333333333, 0.1111111111111111, 2.5555555555555554, 0.0, -0.1111111111111111, 0.1111111111111111, 0.0, 0.3333333333333333, 0.1111111111111111, 0.2222222222222222, 0.1111111111111111, 0.1111111111111111, 0.0, 1.1111111111111112, 0.4444444444444444, -0.1111111111111111, 0.1111111111111111, 0.2222222222222222, 0.1111111111111111, 0.2222222222222222, 0.1111111111111111, 0.1111111111111111, 0.1111111111111111, 0.3333333333333333, 0.8888888888888888, 0.3333333333333333, 4.444444444444445, 0.4444444444444444, 0.3333333333333333, 0.1111111111111111, 1.1111111111111112, 0.3333333333333333, 0.1111111111111111, 0.2222222222222222, 0.1111111111111111, 0.3333333333333333, 0.1111111111111111, 0.2222222222222222, 0.8888888888888888, 1.6666666666666667, 0.0, 2.111111111111111, -0.3333333333333333, 0.0, 0.6666666666666666, 0.0, 0.5555555555555556, 0.8888888888888888, 0.0, 0.1111111111111111, 0.2222222222222222, 1.6666666666666667, 0.1111111111111111, 0.1111111111111111, 0.4444444444444444, 0.2222222222222222, 0.1111111111111111, 0.3333333333333333, 0.2222222222222222, 0.2222222222222222, 0.1111111111111111, 0.1111111111111111, 0.8888888888888888, 0.1111111111111111, 0.0, 0.1111111111111111, 0.2222222222222222, 0.0, 0.1111111111111111, 0.1111111111111111, 0.2222222222222222, 0.2222222222222222, 0.1111111111111111, 0.0, 12.88888888888889, 0.1111111111111111, 0.5555555555555556, 0.2222222222222222, -0.1111111111111111, 1.0, 0.4444444444444444, 0.1111111111111111, 1.1111111111111112, 0.0, 0.1111111111111111, 0.3333333333333333, 0.0, 0.3333333333333333, 0.1111111111111111, 0.3333333333333333, 0.6666666666666666, 1.4444444444444444, 0.1111111111111111, 0.1111111111111111, 0.3333333333333333, 0.5555555555555556, 0.125, 2.125, 0.375, 1.375, 2.75, 0.0, 0.375, 0.125, 0.375, 0.25, 0.25, 0.0, 0.0, 0.125, 0.625, 0.0, 0.125, 0.25, 0.0, 0.25, 0.125, 0.25, 0.375, 0.0, 0.25, 0.375, 1.625, 0.125, 0.125, 0.0, 1.75, 0.125, 0.125, 2.625, 0.375, -0.125, 0.125, 2.125, 0.25, -0.125, 0.125, 0.0], \"y0\": \" \", \"yaxis\": \"y\"}],\n",
       "                        {\"boxmode\": \"group\", \"height\": 600, \"legend\": {\"tracegroupgap\": 0}, \"template\": {\"data\": {\"bar\": [{\"error_x\": {\"color\": \"#f2f5fa\"}, \"error_y\": {\"color\": \"#f2f5fa\"}, \"marker\": {\"line\": {\"color\": \"rgb(17,17,17)\", \"width\": 0.5}}, \"type\": \"bar\"}], \"barpolar\": [{\"marker\": {\"line\": {\"color\": \"rgb(17,17,17)\", \"width\": 0.5}}, \"type\": \"barpolar\"}], \"carpet\": [{\"aaxis\": {\"endlinecolor\": \"#A2B1C6\", \"gridcolor\": \"#506784\", \"linecolor\": \"#506784\", \"minorgridcolor\": \"#506784\", \"startlinecolor\": \"#A2B1C6\"}, \"baxis\": {\"endlinecolor\": \"#A2B1C6\", \"gridcolor\": \"#506784\", \"linecolor\": \"#506784\", \"minorgridcolor\": \"#506784\", \"startlinecolor\": \"#A2B1C6\"}, \"type\": \"carpet\"}], \"choropleth\": [{\"colorbar\": {\"outlinewidth\": 0, \"ticks\": \"\"}, \"type\": \"choropleth\"}], \"contour\": [{\"colorbar\": {\"outlinewidth\": 0, \"ticks\": \"\"}, \"colorscale\": [[0.0, \"#0d0887\"], [0.1111111111111111, \"#46039f\"], [0.2222222222222222, \"#7201a8\"], [0.3333333333333333, \"#9c179e\"], [0.4444444444444444, \"#bd3786\"], [0.5555555555555556, \"#d8576b\"], [0.6666666666666666, \"#ed7953\"], [0.7777777777777778, \"#fb9f3a\"], [0.8888888888888888, \"#fdca26\"], [1.0, \"#f0f921\"]], \"type\": \"contour\"}], \"contourcarpet\": [{\"colorbar\": {\"outlinewidth\": 0, \"ticks\": \"\"}, \"type\": \"contourcarpet\"}], \"heatmap\": [{\"colorbar\": {\"outlinewidth\": 0, \"ticks\": \"\"}, \"colorscale\": [[0.0, \"#0d0887\"], [0.1111111111111111, \"#46039f\"], [0.2222222222222222, \"#7201a8\"], [0.3333333333333333, \"#9c179e\"], [0.4444444444444444, \"#bd3786\"], [0.5555555555555556, \"#d8576b\"], [0.6666666666666666, \"#ed7953\"], [0.7777777777777778, \"#fb9f3a\"], [0.8888888888888888, \"#fdca26\"], [1.0, \"#f0f921\"]], \"type\": \"heatmap\"}], \"heatmapgl\": [{\"colorbar\": {\"outlinewidth\": 0, \"ticks\": \"\"}, \"colorscale\": [[0.0, \"#0d0887\"], [0.1111111111111111, \"#46039f\"], [0.2222222222222222, \"#7201a8\"], [0.3333333333333333, \"#9c179e\"], [0.4444444444444444, \"#bd3786\"], [0.5555555555555556, \"#d8576b\"], [0.6666666666666666, \"#ed7953\"], [0.7777777777777778, \"#fb9f3a\"], [0.8888888888888888, \"#fdca26\"], [1.0, \"#f0f921\"]], \"type\": \"heatmapgl\"}], \"histogram\": [{\"marker\": {\"colorbar\": {\"outlinewidth\": 0, \"ticks\": \"\"}}, \"type\": \"histogram\"}], \"histogram2d\": [{\"colorbar\": {\"outlinewidth\": 0, \"ticks\": \"\"}, \"colorscale\": [[0.0, \"#0d0887\"], [0.1111111111111111, \"#46039f\"], [0.2222222222222222, \"#7201a8\"], [0.3333333333333333, \"#9c179e\"], [0.4444444444444444, \"#bd3786\"], [0.5555555555555556, \"#d8576b\"], [0.6666666666666666, \"#ed7953\"], [0.7777777777777778, \"#fb9f3a\"], [0.8888888888888888, \"#fdca26\"], [1.0, \"#f0f921\"]], \"type\": \"histogram2d\"}], \"histogram2dcontour\": [{\"colorbar\": {\"outlinewidth\": 0, \"ticks\": \"\"}, \"colorscale\": [[0.0, \"#0d0887\"], [0.1111111111111111, \"#46039f\"], [0.2222222222222222, \"#7201a8\"], [0.3333333333333333, \"#9c179e\"], [0.4444444444444444, \"#bd3786\"], [0.5555555555555556, \"#d8576b\"], [0.6666666666666666, \"#ed7953\"], [0.7777777777777778, \"#fb9f3a\"], [0.8888888888888888, \"#fdca26\"], [1.0, \"#f0f921\"]], \"type\": \"histogram2dcontour\"}], \"mesh3d\": [{\"colorbar\": {\"outlinewidth\": 0, \"ticks\": \"\"}, \"type\": \"mesh3d\"}], \"parcoords\": [{\"line\": {\"colorbar\": {\"outlinewidth\": 0, \"ticks\": \"\"}}, \"type\": \"parcoords\"}], \"scatter\": [{\"marker\": {\"line\": {\"color\": \"#283442\"}}, \"type\": \"scatter\"}], \"scatter3d\": [{\"line\": {\"colorbar\": {\"outlinewidth\": 0, \"ticks\": \"\"}}, \"marker\": {\"colorbar\": {\"outlinewidth\": 0, \"ticks\": \"\"}}, \"type\": \"scatter3d\"}], \"scattercarpet\": [{\"marker\": {\"colorbar\": {\"outlinewidth\": 0, \"ticks\": \"\"}}, \"type\": \"scattercarpet\"}], \"scattergeo\": [{\"marker\": {\"colorbar\": {\"outlinewidth\": 0, \"ticks\": \"\"}}, \"type\": \"scattergeo\"}], \"scattergl\": [{\"marker\": {\"line\": {\"color\": \"#283442\"}}, \"type\": \"scattergl\"}], \"scattermapbox\": [{\"marker\": {\"colorbar\": {\"outlinewidth\": 0, \"ticks\": \"\"}}, \"type\": \"scattermapbox\"}], \"scatterpolar\": [{\"marker\": {\"colorbar\": {\"outlinewidth\": 0, \"ticks\": \"\"}}, \"type\": \"scatterpolar\"}], \"scatterpolargl\": [{\"marker\": {\"colorbar\": {\"outlinewidth\": 0, \"ticks\": \"\"}}, \"type\": \"scatterpolargl\"}], \"scatterternary\": [{\"marker\": {\"colorbar\": {\"outlinewidth\": 0, \"ticks\": \"\"}}, \"type\": \"scatterternary\"}], \"surface\": [{\"colorbar\": {\"outlinewidth\": 0, \"ticks\": \"\"}, \"colorscale\": [[0.0, \"#0d0887\"], [0.1111111111111111, \"#46039f\"], [0.2222222222222222, \"#7201a8\"], [0.3333333333333333, \"#9c179e\"], [0.4444444444444444, \"#bd3786\"], [0.5555555555555556, \"#d8576b\"], [0.6666666666666666, \"#ed7953\"], [0.7777777777777778, \"#fb9f3a\"], [0.8888888888888888, \"#fdca26\"], [1.0, \"#f0f921\"]], \"type\": \"surface\"}], \"table\": [{\"cells\": {\"fill\": {\"color\": \"#506784\"}, \"line\": {\"color\": \"rgb(17,17,17)\"}}, \"header\": {\"fill\": {\"color\": \"#2a3f5f\"}, \"line\": {\"color\": \"rgb(17,17,17)\"}}, \"type\": \"table\"}]}, \"layout\": {\"annotationdefaults\": {\"arrowcolor\": \"#f2f5fa\", \"arrowhead\": 0, \"arrowwidth\": 1}, \"colorscale\": {\"diverging\": [[0, \"#8e0152\"], [0.1, \"#c51b7d\"], [0.2, \"#de77ae\"], [0.3, \"#f1b6da\"], [0.4, \"#fde0ef\"], [0.5, \"#f7f7f7\"], [0.6, \"#e6f5d0\"], [0.7, \"#b8e186\"], [0.8, \"#7fbc41\"], [0.9, \"#4d9221\"], [1, \"#276419\"]], \"sequential\": [[0.0, \"#0d0887\"], [0.1111111111111111, \"#46039f\"], [0.2222222222222222, \"#7201a8\"], [0.3333333333333333, \"#9c179e\"], [0.4444444444444444, \"#bd3786\"], [0.5555555555555556, \"#d8576b\"], [0.6666666666666666, \"#ed7953\"], [0.7777777777777778, \"#fb9f3a\"], [0.8888888888888888, \"#fdca26\"], [1.0, \"#f0f921\"]], \"sequentialminus\": [[0.0, \"#0d0887\"], [0.1111111111111111, \"#46039f\"], [0.2222222222222222, \"#7201a8\"], [0.3333333333333333, \"#9c179e\"], [0.4444444444444444, \"#bd3786\"], [0.5555555555555556, \"#d8576b\"], [0.6666666666666666, \"#ed7953\"], [0.7777777777777778, \"#fb9f3a\"], [0.8888888888888888, \"#fdca26\"], [1.0, \"#f0f921\"]]}, \"colorway\": [\"#636efa\", \"#EF553B\", \"#00cc96\", \"#ab63fa\", \"#FFA15A\", \"#19d3f3\", \"#FF6692\", \"#B6E880\", \"#FF97FF\", \"#FECB52\"], \"font\": {\"color\": \"#f2f5fa\"}, \"geo\": {\"bgcolor\": \"rgb(17,17,17)\", \"lakecolor\": \"rgb(17,17,17)\", \"landcolor\": \"rgb(17,17,17)\", \"showlakes\": true, \"showland\": true, \"subunitcolor\": \"#506784\"}, \"hoverlabel\": {\"align\": \"left\"}, \"hovermode\": \"closest\", \"mapbox\": {\"style\": \"dark\"}, \"paper_bgcolor\": \"rgb(17,17,17)\", \"plot_bgcolor\": \"rgb(17,17,17)\", \"polar\": {\"angularaxis\": {\"gridcolor\": \"#506784\", \"linecolor\": \"#506784\", \"ticks\": \"\"}, \"bgcolor\": \"rgb(17,17,17)\", \"radialaxis\": {\"gridcolor\": \"#506784\", \"linecolor\": \"#506784\", \"ticks\": \"\"}}, \"scene\": {\"xaxis\": {\"backgroundcolor\": \"rgb(17,17,17)\", \"gridcolor\": \"#506784\", \"gridwidth\": 2, \"linecolor\": \"#506784\", \"showbackground\": true, \"ticks\": \"\", \"zerolinecolor\": \"#C8D4E3\"}, \"yaxis\": {\"backgroundcolor\": \"rgb(17,17,17)\", \"gridcolor\": \"#506784\", \"gridwidth\": 2, \"linecolor\": \"#506784\", \"showbackground\": true, \"ticks\": \"\", \"zerolinecolor\": \"#C8D4E3\"}, \"zaxis\": {\"backgroundcolor\": \"rgb(17,17,17)\", \"gridcolor\": \"#506784\", \"gridwidth\": 2, \"linecolor\": \"#506784\", \"showbackground\": true, \"ticks\": \"\", \"zerolinecolor\": \"#C8D4E3\"}}, \"shapedefaults\": {\"line\": {\"color\": \"#f2f5fa\"}}, \"sliderdefaults\": {\"bgcolor\": \"#C8D4E3\", \"bordercolor\": \"rgb(17,17,17)\", \"borderwidth\": 1, \"tickwidth\": 0}, \"ternary\": {\"aaxis\": {\"gridcolor\": \"#506784\", \"linecolor\": \"#506784\", \"ticks\": \"\"}, \"baxis\": {\"gridcolor\": \"#506784\", \"linecolor\": \"#506784\", \"ticks\": \"\"}, \"bgcolor\": \"rgb(17,17,17)\", \"caxis\": {\"gridcolor\": \"#506784\", \"linecolor\": \"#506784\", \"ticks\": \"\"}}, \"title\": {\"x\": 0.05}, \"updatemenudefaults\": {\"bgcolor\": \"#506784\", \"borderwidth\": 0}, \"xaxis\": {\"automargin\": true, \"gridcolor\": \"#283442\", \"linecolor\": \"#506784\", \"ticks\": \"\", \"zerolinecolor\": \"#283442\", \"zerolinewidth\": 2}, \"yaxis\": {\"automargin\": true, \"gridcolor\": \"#283442\", \"linecolor\": \"#506784\", \"ticks\": \"\", \"zerolinecolor\": \"#283442\", \"zerolinewidth\": 2}}}, \"title\": {\"text\": \"Distribution of Post Score in Posts with 9 Answers\"}, \"xaxis\": {\"anchor\": \"y\", \"domain\": [0.0, 0.98]}, \"yaxis\": {\"anchor\": \"x\", \"domain\": [0.0, 1.0], \"title\": {\"text\": \"score/comments\"}}},\n",
       "                        {\"responsive\": true}\n",
       "                    ).then(function(){\n",
       "                            \n",
       "var gd = document.getElementById('2f966782-7902-48c6-b5fd-6b9fcc1840d9');\n",
       "var x = new MutationObserver(function (mutations, observer) {{\n",
       "        var display = window.getComputedStyle(gd).display;\n",
       "        if (!display || display === 'none') {{\n",
       "            console.log([gd, 'removed!']);\n",
       "            Plotly.purge(gd);\n",
       "            observer.disconnect();\n",
       "        }}\n",
       "}});\n",
       "\n",
       "// Listen for the removal of the full notebook cells\n",
       "var notebookContainer = gd.closest('#notebook-container');\n",
       "if (notebookContainer) {{\n",
       "    x.observe(notebookContainer, {childList: true});\n",
       "}}\n",
       "\n",
       "// Listen for the clearing of the current output cell\n",
       "var outputEl = gd.closest('.output');\n",
       "if (outputEl) {{\n",
       "    x.observe(outputEl, {childList: true});\n",
       "}}\n",
       "\n",
       "                        })\n",
       "                };\n",
       "                });\n",
       "            </script>\n",
       "        </div>"
      ]
     },
     "metadata": {},
     "output_type": "display_data"
    }
   ],
   "source": [
    "px.box(data_frame=hyp5\n",
    "    , y=\"score/comments\"\n",
    "    , title=\"Distribution of Post Score in Posts with 9 Answers\"\n",
    "    , template='plotly_dark'\n",
    "    )"
   ]
  },
  {
   "cell_type": "code",
   "execution_count": 183,
   "metadata": {},
   "outputs": [
    {
     "data": {
      "text/html": [
       "<div>\n",
       "<style scoped>\n",
       "    .dataframe tbody tr th:only-of-type {\n",
       "        vertical-align: middle;\n",
       "    }\n",
       "\n",
       "    .dataframe tbody tr th {\n",
       "        vertical-align: top;\n",
       "    }\n",
       "\n",
       "    .dataframe thead th {\n",
       "        text-align: right;\n",
       "    }\n",
       "</style>\n",
       "<table border=\"1\" class=\"dataframe\">\n",
       "  <thead>\n",
       "    <tr style=\"text-align: right;\">\n",
       "      <th></th>\n",
       "      <th>n.body</th>\n",
       "    </tr>\n",
       "  </thead>\n",
       "  <tbody>\n",
       "    <tr>\n",
       "      <td>0</td>\n",
       "      <td>&lt;p&gt;One of the common problems in data science ...</td>\n",
       "    </tr>\n",
       "  </tbody>\n",
       "</table>\n",
       "</div>"
      ],
      "text/plain": [
       "                                              n.body\n",
       "0  <p>One of the common problems in data science ..."
      ]
     },
     "execution_count": 183,
     "metadata": {},
     "output_type": "execute_result"
    }
   ],
   "source": [
    "# MATCH (n:Post) where n.postId=\"155\" RETURN n.body\n",
    "\n",
    "query = \"MATCH (n:Post) where n.postId='155' RETURN n.body;\" \n",
    "# match (t:Tag) with t order by t.count desc limit 5 return t.tagId, t.count;\n",
    "hyp6 = graph.run(query)\n",
    "#print(result.to_data_frame())\n",
    "hyp7 = hyp6.to_data_frame()\n",
    "#hyp5[\"score/comments\"] = hyp5[\"score\"].astype(float) / hyp5[\"comments\"].astype(float)\n",
    "hyp7.head(40)"
   ]
  },
  {
   "cell_type": "code",
   "execution_count": 191,
   "metadata": {},
   "outputs": [
    {
     "name": "stdout",
     "output_type": "stream",
     "text": [
      "                                              n.body\n",
      "0  <p>One of the common problems in data science ...\n"
     ]
    }
   ],
   "source": [
    "#display(hyp7)\n",
    "\n",
    "print(hyp7.to_string())"
   ]
  },
  {
   "cell_type": "code",
   "execution_count": null,
   "metadata": {},
   "outputs": [],
   "source": []
  }
 ],
 "metadata": {
  "kernelspec": {
   "display_name": "Python 3",
   "language": "python",
   "name": "python3"
  },
  "language_info": {
   "codemirror_mode": {
    "name": "ipython",
    "version": 3
   },
   "file_extension": ".py",
   "mimetype": "text/x-python",
   "name": "python",
   "nbconvert_exporter": "python",
   "pygments_lexer": "ipython3",
   "version": "3.7.3"
  }
 },
 "nbformat": 4,
 "nbformat_minor": 2
}
