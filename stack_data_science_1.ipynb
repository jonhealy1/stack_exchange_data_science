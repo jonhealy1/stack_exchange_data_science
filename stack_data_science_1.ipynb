{
 "cells": [
  {
   "cell_type": "code",
   "execution_count": 1,
   "metadata": {},
   "outputs": [],
   "source": [
    "from py2neo import Graph, Node, Relationship"
   ]
  },
  {
   "cell_type": "code",
   "execution_count": 6,
   "metadata": {},
   "outputs": [
    {
     "name": "stdout",
     "output_type": "stream",
     "text": [
      "  label  count(*)\n",
      "0  Post     39929\n",
      "1  User     66951\n",
      "2   Tag       489\n"
     ]
    }
   ],
   "source": [
    "graph = Graph(password=\"password\")\n",
    "\n",
    "query = \"match (n) return head(labels(n)) as label, count(*);\"\n",
    "result = graph.run(query)\n",
    "\n",
    "print(result.to_data_frame())"
   ]
  },
  {
   "cell_type": "markdown",
   "metadata": {},
   "source": [
    "#### Create constraints and indices - easier in browser - localhost:7474"
   ]
  },
  {
   "cell_type": "code",
   "execution_count": null,
   "metadata": {},
   "outputs": [],
   "source": [
    "# create index on :Post(title);\n",
    "# create index on :Post(createdAt);\n",
    "# create index on :Post(score);\n",
    "# create index on :Post(views);\n",
    "# create index on :Post(favorites);\n",
    "# create index on :Post(answers);\n",
    "# create index on :Post(score);\n",
    "\n",
    "# create index on :User(name);\n",
    "# create index on :User(createdAt);\n",
    "# create index on :User(reputation);\n",
    "# create index on :User(age);\n",
    "\n",
    "# create index on :Tag(count);\n",
    "\n",
    "# create constraint on (t:Tag) assert t.tagId is unique;\n",
    "# create constraint on (u:User) assert u.userId is unique;\n",
    "# create constraint on (p:Post) assert p.postId is unique;\n",
    "\n",
    "# We then waited for the indexes to be finished.\n",
    "\n",
    "# schema await"
   ]
  },
  {
   "cell_type": "code",
   "execution_count": 12,
   "metadata": {},
   "outputs": [
    {
     "name": "stdout",
     "output_type": "stream",
     "text": [
      "    u.displayname  posts\n",
      "0     Neil Slater    403\n",
      "1     Vaalizaadeh    354\n",
      "2         n1k31t4    347\n",
      "3    Anony-Mousse    325\n",
      "4  Brian Spiering    241\n",
      "5            Emre    227\n",
      "6    Martin Thoma    224\n",
      "7         Dawny33    215\n",
      "8           Tasos    205\n",
      "9        JahKnows    203\n"
     ]
    }
   ],
   "source": [
    "query = \"match (u:User) with u,size( (u)-[:POSTED]->()) as posts order by posts desc limit 10 return u.displayname, posts;\" \n",
    "result = graph.run(query)\n",
    "\n",
    "print(result.to_data_frame())"
   ]
  },
  {
   "cell_type": "markdown",
   "metadata": {},
   "source": [
    "#### Get number of tags used in asking questions"
   ]
  },
  {
   "cell_type": "code",
   "execution_count": 21,
   "metadata": {},
   "outputs": [
    {
     "name": "stdout",
     "output_type": "stream",
     "text": [
      "                               t  posts\n",
      "0  {'tagId': 'machine-learning'}     20\n",
      "1     {'tagId': 'deep-learning'}     15\n",
      "2    {'tagId': 'neural-network'}     11\n",
      "3               {'tagId': 'cnn'}      4\n",
      "4             {'tagId': 'keras'}      2\n"
     ]
    }
   ],
   "source": [
    "query = \"match (u:User)-[:POSTED]->()-[:HAS_TAG]->(t:Tag) where u.displayname = 'Vaalizaadeh'  return t,count(*) as posts order by posts desc limit 5;\" \n",
    "result = graph.run(query)\n",
    "\n",
    "print(result.to_data_frame())\n",
    "\n",
    "# This user only answered questions"
   ]
  },
  {
   "cell_type": "markdown",
   "metadata": {},
   "source": [
    "#### Get tags that User answered"
   ]
  },
  {
   "cell_type": "code",
   "execution_count": 63,
   "metadata": {},
   "outputs": [
    {
     "name": "stdout",
     "output_type": "stream",
     "text": [
      "            t.tagId  posts\n",
      "0           bigdata      1\n",
      "1            libsvm      1\n",
      "2  machine-learning      1\n"
     ]
    }
   ],
   "source": [
    "query = \"match (u:User)-[:POSTED]->()-[:HAS_TAG]->(t:Tag) where u.displayname = 'Puffin GDI' return t.tagId,count(*) as posts order by posts desc limit 5;\" \n",
    "result = graph.run(query)\n",
    "\n",
    "print(result.to_data_frame())"
   ]
  },
  {
   "cell_type": "markdown",
   "metadata": {},
   "source": [
    "#### All shortest paths - run in neo4j console or browser"
   ]
  },
  {
   "cell_type": "code",
   "execution_count": 64,
   "metadata": {},
   "outputs": [],
   "source": [
    "# MATCH path = allShortestPaths(\n",
    "#      (u:User {displayname:\"Emre\"})-[*]-(me:User {displayname:\"Vaalizaadeh\"}))\n",
    "# RETURN path;"
   ]
  },
  {
   "cell_type": "markdown",
   "metadata": {},
   "source": [
    "![title](images/all_short_path.png)"
   ]
  },
  {
   "cell_type": "markdown",
   "metadata": {},
   "source": [
    "#### User with letter t in name answered the most questions about python"
   ]
  },
  {
   "cell_type": "code",
   "execution_count": 61,
   "metadata": {},
   "outputs": [
    {
     "name": "stdout",
     "output_type": "stream",
     "text": [
      "                u.displayname u.reputation               u.location  answers\n",
      "0                     n1k31t4         8181                   Europa      117\n",
      "1                 Neil Slater        18824   Durham, United Kingdom       36\n",
      "2    Juan Esteban de la Calle         1504         Bogotá, Colombia       24\n",
      "3            Jan van der Vegt         6995                Amsterdam       23\n",
      "4                      Aditya         1577       West Bengal, India       22\n",
      "..                        ...          ...                      ...      ...\n",
      "455           Christian Sauer          437           Düren, Germany        1\n",
      "456           MCP_infiltrator          966  New York, United States        1\n",
      "457        Christopher Louden         1120          San Antonio, TX        1\n",
      "458                   Stanpol          572                   Norway        1\n",
      "459                 adesantos          483                   Madrid        1\n",
      "\n",
      "[460 rows x 4 columns]\n"
     ]
    }
   ],
   "source": [
    "query = \"MATCH (u:User)-[:POSTED]->(answer)<-[:PARENT_OF]-()-[:HAS_TAG]-(:Tag {tagId:'python'}) WHERE u.displayname contains 't' RETURN u.displayname,u.reputation,u.location, count(distinct answer) AS answers ORDER BY answers DESC;\" \n",
    "result = graph.run(query)\n",
    "print(result.to_data_frame())\n",
    "\n",
    "# query = \"\" \n",
    "# result = graph.run(query)\n",
    "# print(result.to_data_frame())"
   ]
  },
  {
   "cell_type": "code",
   "execution_count": 47,
   "metadata": {},
   "outputs": [],
   "source": [
    "# MATCH (u:User)-[:POSTED]->(answer)<-[:PARENT_OF]-()-[:HAS_TAG]-(:Tag {tagId:\"nosql\"}) \n",
    "# WHERE u.displayname = 'Emre'\n",
    "# RETURN u.displayname, u.reputation,u.location, count(distinct answer) AS answers\n",
    "# ORDER BY answers DESC;"
   ]
  },
  {
   "cell_type": "markdown",
   "metadata": {},
   "source": [
    "#### Run this graph in browser/ console"
   ]
  },
  {
   "cell_type": "code",
   "execution_count": 62,
   "metadata": {},
   "outputs": [],
   "source": [
    "# MATCH (u:User)-[:POSTED]->(answer)<-[:PARENT_OF]-(question)-[:HAS_TAG]-(tag:Tag {tagId:\"python\"}) \n",
    "# WHERE u.displayname contains \"t\"\n",
    "# RETURN *,count(distinct answer) AS answers\n",
    "# ORDER BY answers DESC limit 30;"
   ]
  },
  {
   "cell_type": "markdown",
   "metadata": {},
   "source": [
    "![title](images/python_answers.png)"
   ]
  },
  {
   "cell_type": "markdown",
   "metadata": {},
   "source": [
    "#### Top 5 tags of all time"
   ]
  },
  {
   "cell_type": "code",
   "execution_count": 73,
   "metadata": {},
   "outputs": [
    {
     "name": "stdout",
     "output_type": "stream",
     "text": [
      "            t.tagId t.count\n",
      "0  machine-learning    None\n",
      "1           bigdata    None\n",
      "2       data-mining    None\n",
      "3         databases    None\n",
      "4       definitions    None\n"
     ]
    }
   ],
   "source": [
    "query = \"match (t:Tag) with t order by t.count desc limit 5 return t.tagId, t.count;\" \n",
    "result = graph.run(query)\n",
    "print(result.to_data_frame())"
   ]
  },
  {
   "cell_type": "markdown",
   "metadata": {},
   "source": [
    "#### Co-occurence with 'javascript' tag"
   ]
  },
  {
   "cell_type": "code",
   "execution_count": 75,
   "metadata": {},
   "outputs": [
    {
     "name": "stdout",
     "output_type": "stream",
     "text": [
      "        other.tagId  freq\n",
      "0     visualization    11\n",
      "1    neural-network     6\n",
      "2  machine-learning     6\n",
      "3            python     3\n",
      "4            graphs     2\n"
     ]
    }
   ],
   "source": [
    "query = \"match (t:Tag {tagId:'javascript'})<-[:HAS_TAG]-()-[:HAS_TAG]->(other:Tag) WITH other, count(*) as freq order by freq desc limit 5 RETURN other.tagId,freq;\" \n",
    "result = graph.run(query)\n",
    "print(result.to_data_frame())\n",
    "\n",
    "# match (t:Tag {tagId:\"javascript\"})<-[:HAS_TAG]-()-[:HAS_TAG]->(other:Tag) \n",
    "# WITH other, count(*) as freq order by freq desc limit 5\n",
    "# RETURN other.tagId,freq;"
   ]
  },
  {
   "cell_type": "markdown",
   "metadata": {},
   "source": [
    "#### Most active answerers for python"
   ]
  },
  {
   "cell_type": "code",
   "execution_count": 79,
   "metadata": {},
   "outputs": [
    {
     "name": "stdout",
     "output_type": "stream",
     "text": [
      "    u.displayname  freq\n",
      "0         n1k31t4   117\n",
      "1        JahKnows    52\n",
      "2  Brian Spiering    49\n",
      "3    Anony-Mousse    49\n",
      "4            Emre    42\n",
      "5     Vaalizaadeh    38\n",
      "6     Neil Slater    36\n",
      "7            MaxU    34\n",
      "8  Kasra Manshaei    31\n",
      "9           Tasos    28\n"
     ]
    }
   ],
   "source": [
    "query = \"match (t:Tag {tagId:'python'})<-[:HAS_TAG]-()-[:PARENT_OF]->()<-[:POSTED]-(u:User) WITH u, count(*) as freq order by freq desc limit 10 RETURN u.displayname,freq;\" \n",
    "result = graph.run(query)\n",
    "print(result.to_data_frame())\n",
    "\n",
    "\n",
    "# match (t:Tag {tagId:\"neo4j\"})<-[:HAS_TAG]-()\n",
    "#        -[:PARENT_OF]->()<-[:POSTED]-(u:User) \n",
    "# WITH u, count(*) as freq order by freq desc limit 10\n",
    "# RETURN u.name,freq;"
   ]
  },
  {
   "cell_type": "markdown",
   "metadata": {},
   "source": [
    "#### Where are the most active answerers also active"
   ]
  },
  {
   "cell_type": "code",
   "execution_count": 82,
   "metadata": {},
   "outputs": [
    {
     "name": "stdout",
     "output_type": "stream",
     "text": [
      "    u.displayname                                               tags\n",
      "0     Vaalizaadeh        [deep-learning, neural-network, cnn, keras]\n",
      "1    Anony-Mousse  [machine-learning, k-means, data-mining, class...\n",
      "2     Neil Slater  [neural-network, reinforcement-learning, deep-...\n",
      "3            Emre  [neural-network, classification, deep-learning...\n",
      "4         n1k31t4  [deep-learning, neural-network, keras, tensorf...\n",
      "5        JahKnows  [neural-network, deep-learning, keras, classif...\n",
      "6  Brian Spiering  [nlp, deep-learning, neural-network, text-mining]\n",
      "7  Kasra Manshaei  [clustering, graphs, classification, data-mining]\n",
      "8           Tasos             [pandas, nlp, statistics, time-series]\n"
     ]
    }
   ],
   "source": [
    "query = \"MATCH (neo:Tag {tagId:'python'})<-[:HAS_TAG]-()-[:PARENT_OF]->()<-[:POSTED]-(u:User) WITH neo,u, count(*) as freq order by freq desc limit 10 MATCH (u)-[:POSTED]->()<-[:PARENT_OF]-(p)-[:HAS_TAG]->(other:Tag) WHERE NOT (p)-[:HAS_TAG]->(neo) WITH u,other,count(*) as freq2 order by freq2 desc RETURN u.displayname,collect(distinct other.tagId)[1..5] as tags;\" \n",
    "result = graph.run(query)\n",
    "print(result.to_data_frame())\n",
    "\n",
    "\n",
    "# MATCH (neo:Tag {tagId:'neo4j'})<-[:HAS_TAG]-()\n",
    "#       -[:PARENT_OF]->()<-[:POSTED]-(u:User) \n",
    "# WITH neo,u, count(*) as freq order by freq desc limit 10\n",
    "# MATCH (u)-[:POSTED]->()<-[:PARENT_OF]-(p)-[:HAS_TAG]->(other:Tag)\n",
    "# WHERE NOT (p)-[:HAS_TAG]->(neo)\n",
    "# WITH u,other,count(*) as freq2 order by freq2 desc \n",
    "# RETURN u.displayname,collect(distinct other.tagId)[1..5] as tags;"
   ]
  },
  {
   "cell_type": "markdown",
   "metadata": {},
   "source": [
    "#### Posted most questions about neo4j"
   ]
  },
  {
   "cell_type": "code",
   "execution_count": 85,
   "metadata": {},
   "outputs": [
    {
     "name": "stdout",
     "output_type": "stream",
     "text": [
      "       u.displayname  count\n",
      "0        John Newman      2\n",
      "1       Sreejithc321      2\n",
      "2        TobiasJakob      1\n",
      "3           blunders      1\n",
      "4                SRS      1\n",
      "5      sheldonkreger      1\n",
      "6             Victor      1\n",
      "7  Austin Capobianco      1\n"
     ]
    }
   ],
   "source": [
    "query = \"MATCH (t:Tag {tagId:'neo4j'})<-[:HAS_TAG]-(:Post)<-[:POSTED]-(u:User) RETURN u.displayname,count(*) as count ORDER BY count DESC LIMIT 10;\" \n",
    "result = graph.run(query)\n",
    "print(result.to_data_frame())\n",
    "\n",
    "# MATCH (t:Tag {tagId:'neo4j'})<-[:HAS_TAG]-(:Post)<-[:POSTED]-(u:User)\n",
    "# RETURN u.name,count(*) as count\n",
    "# ORDER BY count DESC LIMIT 10;"
   ]
  },
  {
   "cell_type": "markdown",
   "metadata": {},
   "source": [
    "#### Top answerers for pandas tag"
   ]
  },
  {
   "cell_type": "code",
   "execution_count": 88,
   "metadata": {},
   "outputs": [
    {
     "name": "stdout",
     "output_type": "stream",
     "text": [
      "   u.displayname  count\n",
      "0        n1k31t4     36\n",
      "1           MaxU     24\n",
      "2           Emre     18\n",
      "3          Tasos     15\n",
      "4         Aditya     12\n",
      "5          bkshi     12\n",
      "6  Stephen Rauch     10\n",
      "7    Vaalizaadeh     10\n",
      "8   TwinPenguins      8\n",
      "9       JahKnows      8\n"
     ]
    }
   ],
   "source": [
    "query = \"MATCH (:Tag {tagId:'pandas'})<-[:HAS_TAG]-()-[:PARENT_OF]->()<-[:POSTED]-(u:User) RETURN u.displayname,count(*) as count ORDER BY count DESC LIMIT 10;\" \n",
    "result = graph.run(query)\n",
    "print(result.to_data_frame())\n",
    "\n",
    "# MATCH (:Tag {tagId:'py2neo'})<-[:HAS_TAG]-()-[:PARENT_OF]->()\n",
    "#       <-[:POSTED]-(u:User)\n",
    "# RETURN u.displayname,count(*) as count\n",
    "# ORDER BY count DESC LIMIT 10;"
   ]
  },
  {
   "cell_type": "markdown",
   "metadata": {},
   "source": [
    "#### Users who answered their own question "
   ]
  },
  {
   "cell_type": "code",
   "execution_count": 94,
   "metadata": {},
   "outputs": [
    {
     "name": "stdout",
     "output_type": "stream",
     "text": [
      "Empty DataFrame\n",
      "Columns: []\n",
      "Index: []\n"
     ]
    }
   ],
   "source": [
    "query = \"MATCH (u:User) WHERE u.reputation > 1000 MATCH (u)-[:POSTED]->(question)-[:ANSWER]->(answer)<-[:POSTED]-(u) WITH u,count(distinct question) AS questions ORDER BY questions DESC LIMIT 5 RETURN u.displayname, u.reputation, questions;\" \n",
    "result = graph.run(query)\n",
    "print(result.to_data_frame())\n",
    "\n",
    "# MATCH (u:User) WHERE u.reputation > 20000\n",
    "# MATCH (u)-[:POSTED]->(question)-[:ANSWER]->(answer)<-[:POSTED]-(u)\n",
    "# WITH u,count(distinct question) AS questions\n",
    "# ORDER BY questions DESC LIMIT 5\n",
    "# RETURN u.displayname, u.reputation, questions;\n",
    "\n",
    "# not working no :ANSWER relationship"
   ]
  },
  {
   "cell_type": "code",
   "execution_count": null,
   "metadata": {},
   "outputs": [],
   "source": []
  }
 ],
 "metadata": {
  "kernelspec": {
   "display_name": "Python 3",
   "language": "python",
   "name": "python3"
  },
  "language_info": {
   "codemirror_mode": {
    "name": "ipython",
    "version": 3
   },
   "file_extension": ".py",
   "mimetype": "text/x-python",
   "name": "python",
   "nbconvert_exporter": "python",
   "pygments_lexer": "ipython3",
   "version": "3.7.3"
  }
 },
 "nbformat": 4,
 "nbformat_minor": 2
}
