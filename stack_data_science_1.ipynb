{
 "cells": [
  {
   "cell_type": "code",
   "execution_count": 1,
   "metadata": {},
   "outputs": [],
   "source": [
    "from py2neo import Graph, Node, Relationship"
   ]
  },
  {
   "cell_type": "code",
   "execution_count": 2,
   "metadata": {},
   "outputs": [
    {
     "name": "stdout",
     "output_type": "stream",
     "text": [
      "   label  count(*)\n",
      "0   Post     39929\n",
      "1   User     66951\n",
      "2    Tag       489\n",
      "3  Stack      6187\n"
     ]
    }
   ],
   "source": [
    "graph = Graph(password=\"password\")\n",
    "\n",
    "query = \"match (n) return head(labels(n)) as label, count(*);\"\n",
    "result = graph.run(query)\n",
    "\n",
    "print(result.to_data_frame())"
   ]
  },
  {
   "cell_type": "markdown",
   "metadata": {},
   "source": [
    "#### Create constraints and indices - easier in browser - localhost:7474"
   ]
  },
  {
   "cell_type": "code",
   "execution_count": 3,
   "metadata": {},
   "outputs": [],
   "source": [
    "# create index on :Post(title);\n",
    "# create index on :Post(createdAt);\n",
    "# create index on :Post(score);\n",
    "# create index on :Post(views);\n",
    "# create index on :Post(favorites);\n",
    "# create index on :Post(answers);\n",
    "# create index on :Post(score);\n",
    "\n",
    "# create index on :User(name);\n",
    "# create index on :User(createdAt);\n",
    "# create index on :User(reputation);\n",
    "# create index on :User(age);\n",
    "\n",
    "# create index on :Tag(count);\n",
    "\n",
    "# create constraint on (t:Tag) assert t.tagId is unique;\n",
    "# create constraint on (u:User) assert u.userId is unique;\n",
    "# create constraint on (p:Post) assert p.postId is unique;\n",
    "\n",
    "# We then waited for the indexes to be finished.\n",
    "\n",
    "# schema await"
   ]
  },
  {
   "cell_type": "code",
   "execution_count": 4,
   "metadata": {},
   "outputs": [
    {
     "name": "stdout",
     "output_type": "stream",
     "text": [
      "    u.displayname  posts\n",
      "0     Neil Slater    403\n",
      "1     Vaalizaadeh    354\n",
      "2         n1k31t4    347\n",
      "3    Anony-Mousse    325\n",
      "4  Brian Spiering    241\n",
      "5            Emre    227\n",
      "6    Martin Thoma    224\n",
      "7         Dawny33    215\n",
      "8           Tasos    205\n",
      "9        JahKnows    203\n"
     ]
    }
   ],
   "source": [
    "query = \"match (u:User) with u,size( (u)-[:POSTED]->()) as posts order by posts desc limit 10 return u.displayname, posts;\" \n",
    "result = graph.run(query)\n",
    "\n",
    "print(result.to_data_frame())"
   ]
  },
  {
   "cell_type": "markdown",
   "metadata": {},
   "source": [
    "#### Get number of tags used in asking questions"
   ]
  },
  {
   "cell_type": "code",
   "execution_count": 5,
   "metadata": {},
   "outputs": [
    {
     "name": "stdout",
     "output_type": "stream",
     "text": [
      "                               t  posts\n",
      "0  {'tagId': 'machine-learning'}     20\n",
      "1     {'tagId': 'deep-learning'}     15\n",
      "2    {'tagId': 'neural-network'}     11\n",
      "3               {'tagId': 'cnn'}      4\n",
      "4             {'tagId': 'keras'}      2\n"
     ]
    }
   ],
   "source": [
    "query = \"match (u:User)-[:POSTED]->()-[:HAS_TAG]->(t:Tag) where u.displayname = 'Vaalizaadeh'  return t,count(*) as posts order by posts desc limit 5;\" \n",
    "result = graph.run(query)\n",
    "\n",
    "print(result.to_data_frame())\n",
    "\n",
    "# This user only answered questions"
   ]
  },
  {
   "cell_type": "markdown",
   "metadata": {},
   "source": [
    "#### Get tags that User answered"
   ]
  },
  {
   "cell_type": "code",
   "execution_count": 6,
   "metadata": {},
   "outputs": [
    {
     "name": "stdout",
     "output_type": "stream",
     "text": [
      "            t.tagId  posts\n",
      "0           bigdata      1\n",
      "1            libsvm      1\n",
      "2  machine-learning      1\n"
     ]
    }
   ],
   "source": [
    "query = \"match (u:User)-[:POSTED]->()-[:HAS_TAG]->(t:Tag) where u.displayname = 'Puffin GDI' return t.tagId,count(*) as posts order by posts desc limit 5;\" \n",
    "result = graph.run(query)\n",
    "\n",
    "print(result.to_data_frame())"
   ]
  },
  {
   "cell_type": "markdown",
   "metadata": {},
   "source": [
    "#### All shortest paths - run in neo4j console or browser"
   ]
  },
  {
   "cell_type": "code",
   "execution_count": 7,
   "metadata": {},
   "outputs": [],
   "source": [
    "# MATCH path = allShortestPaths(\n",
    "#      (u:User {displayname:\"Emre\"})-[*]-(me:User {displayname:\"Vaalizaadeh\"}))\n",
    "# RETURN path;"
   ]
  },
  {
   "cell_type": "markdown",
   "metadata": {},
   "source": [
    "![title](images/all_short_path.png)"
   ]
  },
  {
   "cell_type": "markdown",
   "metadata": {},
   "source": [
    "#### User with letter t in name answered the most questions about python"
   ]
  },
  {
   "cell_type": "code",
   "execution_count": 45,
   "metadata": {},
   "outputs": [
    {
     "data": {
      "text/html": [
       "<div>\n",
       "<style scoped>\n",
       "    .dataframe tbody tr th:only-of-type {\n",
       "        vertical-align: middle;\n",
       "    }\n",
       "\n",
       "    .dataframe tbody tr th {\n",
       "        vertical-align: top;\n",
       "    }\n",
       "\n",
       "    .dataframe thead th {\n",
       "        text-align: right;\n",
       "    }\n",
       "</style>\n",
       "<table border=\"1\" class=\"dataframe\">\n",
       "  <thead>\n",
       "    <tr style=\"text-align: right;\">\n",
       "      <th></th>\n",
       "      <th>name</th>\n",
       "      <th>rep</th>\n",
       "      <th>u.location</th>\n",
       "      <th>answers</th>\n",
       "      <th>rep/ans</th>\n",
       "    </tr>\n",
       "  </thead>\n",
       "  <tbody>\n",
       "    <tr>\n",
       "      <td>0</td>\n",
       "      <td>n1k31t4</td>\n",
       "      <td>8181</td>\n",
       "      <td>Europa</td>\n",
       "      <td>117</td>\n",
       "      <td>69.923077</td>\n",
       "    </tr>\n",
       "    <tr>\n",
       "      <td>1</td>\n",
       "      <td>Neil Slater</td>\n",
       "      <td>18824</td>\n",
       "      <td>Durham, United Kingdom</td>\n",
       "      <td>36</td>\n",
       "      <td>522.888889</td>\n",
       "    </tr>\n",
       "    <tr>\n",
       "      <td>2</td>\n",
       "      <td>Juan Esteban de la Calle</td>\n",
       "      <td>1504</td>\n",
       "      <td>Bogotá, Colombia</td>\n",
       "      <td>24</td>\n",
       "      <td>62.666667</td>\n",
       "    </tr>\n",
       "    <tr>\n",
       "      <td>3</td>\n",
       "      <td>Jan van der Vegt</td>\n",
       "      <td>6995</td>\n",
       "      <td>Amsterdam</td>\n",
       "      <td>23</td>\n",
       "      <td>304.130435</td>\n",
       "    </tr>\n",
       "    <tr>\n",
       "      <td>4</td>\n",
       "      <td>Aditya</td>\n",
       "      <td>1577</td>\n",
       "      <td>West Bengal, India</td>\n",
       "      <td>22</td>\n",
       "      <td>71.681818</td>\n",
       "    </tr>\n",
       "    <tr>\n",
       "      <td>5</td>\n",
       "      <td>Stephen Rauch</td>\n",
       "      <td>1598</td>\n",
       "      <td>Northern California, United States</td>\n",
       "      <td>19</td>\n",
       "      <td>84.105263</td>\n",
       "    </tr>\n",
       "    <tr>\n",
       "      <td>6</td>\n",
       "      <td>Peter</td>\n",
       "      <td>1648</td>\n",
       "      <td>Frankfurt am Main, Deutschland</td>\n",
       "      <td>17</td>\n",
       "      <td>96.941176</td>\n",
       "    </tr>\n",
       "    <tr>\n",
       "      <td>7</td>\n",
       "      <td>Ankit Seth</td>\n",
       "      <td>1159</td>\n",
       "      <td>None</td>\n",
       "      <td>17</td>\n",
       "      <td>68.176471</td>\n",
       "    </tr>\n",
       "    <tr>\n",
       "      <td>8</td>\n",
       "      <td>Kiritee Gak</td>\n",
       "      <td>1379</td>\n",
       "      <td>Delhi, India</td>\n",
       "      <td>15</td>\n",
       "      <td>91.933333</td>\n",
       "    </tr>\n",
       "    <tr>\n",
       "      <td>9</td>\n",
       "      <td>Shamit Verma</td>\n",
       "      <td>1754</td>\n",
       "      <td>Mumbai, India</td>\n",
       "      <td>14</td>\n",
       "      <td>125.285714</td>\n",
       "    </tr>\n",
       "    <tr>\n",
       "      <td>10</td>\n",
       "      <td>TitoOrt</td>\n",
       "      <td>822</td>\n",
       "      <td>Stuttgart, Germany</td>\n",
       "      <td>11</td>\n",
       "      <td>74.727273</td>\n",
       "    </tr>\n",
       "    <tr>\n",
       "      <td>11</td>\n",
       "      <td>Antonio Jurić</td>\n",
       "      <td>789</td>\n",
       "      <td>None</td>\n",
       "      <td>10</td>\n",
       "      <td>78.900000</td>\n",
       "    </tr>\n",
       "    <tr>\n",
       "      <td>12</td>\n",
       "      <td>Franck Dernoncourt</td>\n",
       "      <td>3656</td>\n",
       "      <td>Adobe Research, San Jose, CA, USA</td>\n",
       "      <td>10</td>\n",
       "      <td>365.600000</td>\n",
       "    </tr>\n",
       "    <tr>\n",
       "      <td>13</td>\n",
       "      <td>Elias Strehle</td>\n",
       "      <td>1311</td>\n",
       "      <td>Hamburg, Germany</td>\n",
       "      <td>10</td>\n",
       "      <td>131.100000</td>\n",
       "    </tr>\n",
       "    <tr>\n",
       "      <td>14</td>\n",
       "      <td>stmax</td>\n",
       "      <td>1409</td>\n",
       "      <td>Austria</td>\n",
       "      <td>10</td>\n",
       "      <td>140.900000</td>\n",
       "    </tr>\n",
       "    <tr>\n",
       "      <td>15</td>\n",
       "      <td>I_Play_With_Data</td>\n",
       "      <td>1294</td>\n",
       "      <td>USA</td>\n",
       "      <td>10</td>\n",
       "      <td>129.400000</td>\n",
       "    </tr>\n",
       "    <tr>\n",
       "      <td>16</td>\n",
       "      <td>tuomastik</td>\n",
       "      <td>781</td>\n",
       "      <td>Helsinki, Finland</td>\n",
       "      <td>10</td>\n",
       "      <td>78.100000</td>\n",
       "    </tr>\n",
       "    <tr>\n",
       "      <td>17</td>\n",
       "      <td>Ryan Zotti</td>\n",
       "      <td>2564</td>\n",
       "      <td>San Francisco, CA, USA</td>\n",
       "      <td>9</td>\n",
       "      <td>284.888889</td>\n",
       "    </tr>\n",
       "    <tr>\n",
       "      <td>18</td>\n",
       "      <td>thanatoz</td>\n",
       "      <td>900</td>\n",
       "      <td>India</td>\n",
       "      <td>8</td>\n",
       "      <td>112.500000</td>\n",
       "    </tr>\n",
       "    <tr>\n",
       "      <td>19</td>\n",
       "      <td>StatsSorceress</td>\n",
       "      <td>1194</td>\n",
       "      <td>None</td>\n",
       "      <td>8</td>\n",
       "      <td>149.250000</td>\n",
       "    </tr>\n",
       "  </tbody>\n",
       "</table>\n",
       "</div>"
      ],
      "text/plain": [
       "                        name    rep                          u.location  \\\n",
       "0                    n1k31t4   8181                              Europa   \n",
       "1                Neil Slater  18824              Durham, United Kingdom   \n",
       "2   Juan Esteban de la Calle   1504                    Bogotá, Colombia   \n",
       "3           Jan van der Vegt   6995                           Amsterdam   \n",
       "4                     Aditya   1577                  West Bengal, India   \n",
       "5              Stephen Rauch   1598  Northern California, United States   \n",
       "6                      Peter   1648      Frankfurt am Main, Deutschland   \n",
       "7                 Ankit Seth   1159                                None   \n",
       "8                Kiritee Gak   1379                        Delhi, India   \n",
       "9               Shamit Verma   1754                       Mumbai, India   \n",
       "10                   TitoOrt    822                  Stuttgart, Germany   \n",
       "11             Antonio Jurić    789                                None   \n",
       "12        Franck Dernoncourt   3656   Adobe Research, San Jose, CA, USA   \n",
       "13             Elias Strehle   1311                    Hamburg, Germany   \n",
       "14                     stmax   1409                             Austria   \n",
       "15          I_Play_With_Data   1294                                 USA   \n",
       "16                 tuomastik    781                   Helsinki, Finland   \n",
       "17                Ryan Zotti   2564              San Francisco, CA, USA   \n",
       "18                  thanatoz    900                               India   \n",
       "19            StatsSorceress   1194                                None   \n",
       "\n",
       "    answers     rep/ans  \n",
       "0       117   69.923077  \n",
       "1        36  522.888889  \n",
       "2        24   62.666667  \n",
       "3        23  304.130435  \n",
       "4        22   71.681818  \n",
       "5        19   84.105263  \n",
       "6        17   96.941176  \n",
       "7        17   68.176471  \n",
       "8        15   91.933333  \n",
       "9        14  125.285714  \n",
       "10       11   74.727273  \n",
       "11       10   78.900000  \n",
       "12       10  365.600000  \n",
       "13       10  131.100000  \n",
       "14       10  140.900000  \n",
       "15       10  129.400000  \n",
       "16       10   78.100000  \n",
       "17        9  284.888889  \n",
       "18        8  112.500000  \n",
       "19        8  149.250000  "
      ]
     },
     "execution_count": 45,
     "metadata": {},
     "output_type": "execute_result"
    }
   ],
   "source": [
    "query = \"MATCH (u:User)-[:POSTED]->(answer)<-[:PARENT_OF]-()-[:HAS_TAG]-(:Tag {tagId:'python'}) WHERE u.displayname contains 't' RETURN u.displayname AS name,u.reputation AS rep,u.location, count(distinct answer) AS answers ORDER BY answers DESC LIMIT 20;\" \n",
    "result = graph.run(query)\n",
    "#print(result.to_data_frame())\n",
    "xo = result.to_data_frame()\n",
    "xo[\"rep/ans\"] = xo[\"rep\"].astype(float) / xo[\"answers\"].astype(float)\n",
    "#print(xo)\n",
    "xo.head(40)\n",
    "\n",
    "# query = \"\" \n",
    "# result = graph.run(query)\n",
    "# print(result.to_data_frame())"
   ]
  },
  {
   "cell_type": "code",
   "execution_count": 46,
   "metadata": {},
   "outputs": [
    {
     "data": {
      "application/vnd.plotly.v1+json": {
       "config": {
        "plotlyServerURL": "https://plot.ly"
       },
       "data": [
        {
         "alignmentgroup": "True",
         "hoverlabel": {
          "namelength": 0
         },
         "hovertemplate": "name=%{x}<br>rep=%{y}",
         "legendgroup": "",
         "marker": {
          "color": "#636efa"
         },
         "name": "",
         "offsetgroup": "",
         "orientation": "v",
         "showlegend": false,
         "textposition": "auto",
         "type": "bar",
         "x": [
          "n1k31t4",
          "Neil Slater",
          "Juan Esteban de la Calle",
          "Jan van der Vegt",
          "Aditya",
          "Stephen Rauch",
          "Peter",
          "Ankit Seth",
          "Kiritee Gak",
          "Shamit Verma",
          "TitoOrt",
          "Antonio Jurić",
          "Franck Dernoncourt",
          "Elias Strehle",
          "stmax",
          "I_Play_With_Data",
          "tuomastik",
          "Ryan Zotti",
          "thanatoz",
          "StatsSorceress"
         ],
         "xaxis": "x",
         "y": [
          "8181",
          "18824",
          "1504",
          "6995",
          "1577",
          "1598",
          "1648",
          "1159",
          "1379",
          "1754",
          "822",
          "789",
          "3656",
          "1311",
          "1409",
          "1294",
          "781",
          "2564",
          "900",
          "1194"
         ],
         "yaxis": "y"
        }
       ],
       "layout": {
        "barmode": "relative",
        "height": 600,
        "legend": {
         "tracegroupgap": 0
        },
        "margin": {
         "t": 60
        },
        "template": {
         "data": {
          "bar": [
           {
            "error_x": {
             "color": "#2a3f5f"
            },
            "error_y": {
             "color": "#2a3f5f"
            },
            "marker": {
             "line": {
              "color": "#E5ECF6",
              "width": 0.5
             }
            },
            "type": "bar"
           }
          ],
          "barpolar": [
           {
            "marker": {
             "line": {
              "color": "#E5ECF6",
              "width": 0.5
             }
            },
            "type": "barpolar"
           }
          ],
          "carpet": [
           {
            "aaxis": {
             "endlinecolor": "#2a3f5f",
             "gridcolor": "white",
             "linecolor": "white",
             "minorgridcolor": "white",
             "startlinecolor": "#2a3f5f"
            },
            "baxis": {
             "endlinecolor": "#2a3f5f",
             "gridcolor": "white",
             "linecolor": "white",
             "minorgridcolor": "white",
             "startlinecolor": "#2a3f5f"
            },
            "type": "carpet"
           }
          ],
          "choropleth": [
           {
            "colorbar": {
             "outlinewidth": 0,
             "ticks": ""
            },
            "type": "choropleth"
           }
          ],
          "contour": [
           {
            "colorbar": {
             "outlinewidth": 0,
             "ticks": ""
            },
            "colorscale": [
             [
              0,
              "#0d0887"
             ],
             [
              0.1111111111111111,
              "#46039f"
             ],
             [
              0.2222222222222222,
              "#7201a8"
             ],
             [
              0.3333333333333333,
              "#9c179e"
             ],
             [
              0.4444444444444444,
              "#bd3786"
             ],
             [
              0.5555555555555556,
              "#d8576b"
             ],
             [
              0.6666666666666666,
              "#ed7953"
             ],
             [
              0.7777777777777778,
              "#fb9f3a"
             ],
             [
              0.8888888888888888,
              "#fdca26"
             ],
             [
              1,
              "#f0f921"
             ]
            ],
            "type": "contour"
           }
          ],
          "contourcarpet": [
           {
            "colorbar": {
             "outlinewidth": 0,
             "ticks": ""
            },
            "type": "contourcarpet"
           }
          ],
          "heatmap": [
           {
            "colorbar": {
             "outlinewidth": 0,
             "ticks": ""
            },
            "colorscale": [
             [
              0,
              "#0d0887"
             ],
             [
              0.1111111111111111,
              "#46039f"
             ],
             [
              0.2222222222222222,
              "#7201a8"
             ],
             [
              0.3333333333333333,
              "#9c179e"
             ],
             [
              0.4444444444444444,
              "#bd3786"
             ],
             [
              0.5555555555555556,
              "#d8576b"
             ],
             [
              0.6666666666666666,
              "#ed7953"
             ],
             [
              0.7777777777777778,
              "#fb9f3a"
             ],
             [
              0.8888888888888888,
              "#fdca26"
             ],
             [
              1,
              "#f0f921"
             ]
            ],
            "type": "heatmap"
           }
          ],
          "heatmapgl": [
           {
            "colorbar": {
             "outlinewidth": 0,
             "ticks": ""
            },
            "colorscale": [
             [
              0,
              "#0d0887"
             ],
             [
              0.1111111111111111,
              "#46039f"
             ],
             [
              0.2222222222222222,
              "#7201a8"
             ],
             [
              0.3333333333333333,
              "#9c179e"
             ],
             [
              0.4444444444444444,
              "#bd3786"
             ],
             [
              0.5555555555555556,
              "#d8576b"
             ],
             [
              0.6666666666666666,
              "#ed7953"
             ],
             [
              0.7777777777777778,
              "#fb9f3a"
             ],
             [
              0.8888888888888888,
              "#fdca26"
             ],
             [
              1,
              "#f0f921"
             ]
            ],
            "type": "heatmapgl"
           }
          ],
          "histogram": [
           {
            "marker": {
             "colorbar": {
              "outlinewidth": 0,
              "ticks": ""
             }
            },
            "type": "histogram"
           }
          ],
          "histogram2d": [
           {
            "colorbar": {
             "outlinewidth": 0,
             "ticks": ""
            },
            "colorscale": [
             [
              0,
              "#0d0887"
             ],
             [
              0.1111111111111111,
              "#46039f"
             ],
             [
              0.2222222222222222,
              "#7201a8"
             ],
             [
              0.3333333333333333,
              "#9c179e"
             ],
             [
              0.4444444444444444,
              "#bd3786"
             ],
             [
              0.5555555555555556,
              "#d8576b"
             ],
             [
              0.6666666666666666,
              "#ed7953"
             ],
             [
              0.7777777777777778,
              "#fb9f3a"
             ],
             [
              0.8888888888888888,
              "#fdca26"
             ],
             [
              1,
              "#f0f921"
             ]
            ],
            "type": "histogram2d"
           }
          ],
          "histogram2dcontour": [
           {
            "colorbar": {
             "outlinewidth": 0,
             "ticks": ""
            },
            "colorscale": [
             [
              0,
              "#0d0887"
             ],
             [
              0.1111111111111111,
              "#46039f"
             ],
             [
              0.2222222222222222,
              "#7201a8"
             ],
             [
              0.3333333333333333,
              "#9c179e"
             ],
             [
              0.4444444444444444,
              "#bd3786"
             ],
             [
              0.5555555555555556,
              "#d8576b"
             ],
             [
              0.6666666666666666,
              "#ed7953"
             ],
             [
              0.7777777777777778,
              "#fb9f3a"
             ],
             [
              0.8888888888888888,
              "#fdca26"
             ],
             [
              1,
              "#f0f921"
             ]
            ],
            "type": "histogram2dcontour"
           }
          ],
          "mesh3d": [
           {
            "colorbar": {
             "outlinewidth": 0,
             "ticks": ""
            },
            "type": "mesh3d"
           }
          ],
          "parcoords": [
           {
            "line": {
             "colorbar": {
              "outlinewidth": 0,
              "ticks": ""
             }
            },
            "type": "parcoords"
           }
          ],
          "scatter": [
           {
            "marker": {
             "colorbar": {
              "outlinewidth": 0,
              "ticks": ""
             }
            },
            "type": "scatter"
           }
          ],
          "scatter3d": [
           {
            "line": {
             "colorbar": {
              "outlinewidth": 0,
              "ticks": ""
             }
            },
            "marker": {
             "colorbar": {
              "outlinewidth": 0,
              "ticks": ""
             }
            },
            "type": "scatter3d"
           }
          ],
          "scattercarpet": [
           {
            "marker": {
             "colorbar": {
              "outlinewidth": 0,
              "ticks": ""
             }
            },
            "type": "scattercarpet"
           }
          ],
          "scattergeo": [
           {
            "marker": {
             "colorbar": {
              "outlinewidth": 0,
              "ticks": ""
             }
            },
            "type": "scattergeo"
           }
          ],
          "scattergl": [
           {
            "marker": {
             "colorbar": {
              "outlinewidth": 0,
              "ticks": ""
             }
            },
            "type": "scattergl"
           }
          ],
          "scattermapbox": [
           {
            "marker": {
             "colorbar": {
              "outlinewidth": 0,
              "ticks": ""
             }
            },
            "type": "scattermapbox"
           }
          ],
          "scatterpolar": [
           {
            "marker": {
             "colorbar": {
              "outlinewidth": 0,
              "ticks": ""
             }
            },
            "type": "scatterpolar"
           }
          ],
          "scatterpolargl": [
           {
            "marker": {
             "colorbar": {
              "outlinewidth": 0,
              "ticks": ""
             }
            },
            "type": "scatterpolargl"
           }
          ],
          "scatterternary": [
           {
            "marker": {
             "colorbar": {
              "outlinewidth": 0,
              "ticks": ""
             }
            },
            "type": "scatterternary"
           }
          ],
          "surface": [
           {
            "colorbar": {
             "outlinewidth": 0,
             "ticks": ""
            },
            "colorscale": [
             [
              0,
              "#0d0887"
             ],
             [
              0.1111111111111111,
              "#46039f"
             ],
             [
              0.2222222222222222,
              "#7201a8"
             ],
             [
              0.3333333333333333,
              "#9c179e"
             ],
             [
              0.4444444444444444,
              "#bd3786"
             ],
             [
              0.5555555555555556,
              "#d8576b"
             ],
             [
              0.6666666666666666,
              "#ed7953"
             ],
             [
              0.7777777777777778,
              "#fb9f3a"
             ],
             [
              0.8888888888888888,
              "#fdca26"
             ],
             [
              1,
              "#f0f921"
             ]
            ],
            "type": "surface"
           }
          ],
          "table": [
           {
            "cells": {
             "fill": {
              "color": "#EBF0F8"
             },
             "line": {
              "color": "white"
             }
            },
            "header": {
             "fill": {
              "color": "#C8D4E3"
             },
             "line": {
              "color": "white"
             }
            },
            "type": "table"
           }
          ]
         },
         "layout": {
          "annotationdefaults": {
           "arrowcolor": "#2a3f5f",
           "arrowhead": 0,
           "arrowwidth": 1
          },
          "colorscale": {
           "diverging": [
            [
             0,
             "#8e0152"
            ],
            [
             0.1,
             "#c51b7d"
            ],
            [
             0.2,
             "#de77ae"
            ],
            [
             0.3,
             "#f1b6da"
            ],
            [
             0.4,
             "#fde0ef"
            ],
            [
             0.5,
             "#f7f7f7"
            ],
            [
             0.6,
             "#e6f5d0"
            ],
            [
             0.7,
             "#b8e186"
            ],
            [
             0.8,
             "#7fbc41"
            ],
            [
             0.9,
             "#4d9221"
            ],
            [
             1,
             "#276419"
            ]
           ],
           "sequential": [
            [
             0,
             "#0d0887"
            ],
            [
             0.1111111111111111,
             "#46039f"
            ],
            [
             0.2222222222222222,
             "#7201a8"
            ],
            [
             0.3333333333333333,
             "#9c179e"
            ],
            [
             0.4444444444444444,
             "#bd3786"
            ],
            [
             0.5555555555555556,
             "#d8576b"
            ],
            [
             0.6666666666666666,
             "#ed7953"
            ],
            [
             0.7777777777777778,
             "#fb9f3a"
            ],
            [
             0.8888888888888888,
             "#fdca26"
            ],
            [
             1,
             "#f0f921"
            ]
           ],
           "sequentialminus": [
            [
             0,
             "#0d0887"
            ],
            [
             0.1111111111111111,
             "#46039f"
            ],
            [
             0.2222222222222222,
             "#7201a8"
            ],
            [
             0.3333333333333333,
             "#9c179e"
            ],
            [
             0.4444444444444444,
             "#bd3786"
            ],
            [
             0.5555555555555556,
             "#d8576b"
            ],
            [
             0.6666666666666666,
             "#ed7953"
            ],
            [
             0.7777777777777778,
             "#fb9f3a"
            ],
            [
             0.8888888888888888,
             "#fdca26"
            ],
            [
             1,
             "#f0f921"
            ]
           ]
          },
          "colorway": [
           "#636efa",
           "#EF553B",
           "#00cc96",
           "#ab63fa",
           "#FFA15A",
           "#19d3f3",
           "#FF6692",
           "#B6E880",
           "#FF97FF",
           "#FECB52"
          ],
          "font": {
           "color": "#2a3f5f"
          },
          "geo": {
           "bgcolor": "white",
           "lakecolor": "white",
           "landcolor": "#E5ECF6",
           "showlakes": true,
           "showland": true,
           "subunitcolor": "white"
          },
          "hoverlabel": {
           "align": "left"
          },
          "hovermode": "closest",
          "mapbox": {
           "style": "light"
          },
          "paper_bgcolor": "white",
          "plot_bgcolor": "#E5ECF6",
          "polar": {
           "angularaxis": {
            "gridcolor": "white",
            "linecolor": "white",
            "ticks": ""
           },
           "bgcolor": "#E5ECF6",
           "radialaxis": {
            "gridcolor": "white",
            "linecolor": "white",
            "ticks": ""
           }
          },
          "scene": {
           "xaxis": {
            "backgroundcolor": "#E5ECF6",
            "gridcolor": "white",
            "gridwidth": 2,
            "linecolor": "white",
            "showbackground": true,
            "ticks": "",
            "zerolinecolor": "white"
           },
           "yaxis": {
            "backgroundcolor": "#E5ECF6",
            "gridcolor": "white",
            "gridwidth": 2,
            "linecolor": "white",
            "showbackground": true,
            "ticks": "",
            "zerolinecolor": "white"
           },
           "zaxis": {
            "backgroundcolor": "#E5ECF6",
            "gridcolor": "white",
            "gridwidth": 2,
            "linecolor": "white",
            "showbackground": true,
            "ticks": "",
            "zerolinecolor": "white"
           }
          },
          "shapedefaults": {
           "line": {
            "color": "#2a3f5f"
           }
          },
          "ternary": {
           "aaxis": {
            "gridcolor": "white",
            "linecolor": "white",
            "ticks": ""
           },
           "baxis": {
            "gridcolor": "white",
            "linecolor": "white",
            "ticks": ""
           },
           "bgcolor": "#E5ECF6",
           "caxis": {
            "gridcolor": "white",
            "linecolor": "white",
            "ticks": ""
           }
          },
          "title": {
           "x": 0.05
          },
          "xaxis": {
           "automargin": true,
           "gridcolor": "white",
           "linecolor": "white",
           "ticks": "",
           "zerolinecolor": "white",
           "zerolinewidth": 2
          },
          "yaxis": {
           "automargin": true,
           "gridcolor": "white",
           "linecolor": "white",
           "ticks": "",
           "zerolinecolor": "white",
           "zerolinewidth": 2
          }
         }
        },
        "xaxis": {
         "anchor": "y",
         "domain": [
          0,
          0.98
         ],
         "title": {
          "text": "name"
         }
        },
        "yaxis": {
         "anchor": "x",
         "domain": [
          0,
          1
         ],
         "title": {
          "text": "rep"
         }
        }
       }
      },
      "text/html": [
       "<div>\n",
       "        \n",
       "        \n",
       "            <div id=\"e012835c-a2e6-4a3c-861f-a745447839c6\" class=\"plotly-graph-div\" style=\"height:600px; width:100%;\"></div>\n",
       "            <script type=\"text/javascript\">\n",
       "                require([\"plotly\"], function(Plotly) {\n",
       "                    window.PLOTLYENV=window.PLOTLYENV || {};\n",
       "                    \n",
       "                if (document.getElementById(\"e012835c-a2e6-4a3c-861f-a745447839c6\")) {\n",
       "                    Plotly.newPlot(\n",
       "                        'e012835c-a2e6-4a3c-861f-a745447839c6',\n",
       "                        [{\"alignmentgroup\": \"True\", \"hoverlabel\": {\"namelength\": 0}, \"hovertemplate\": \"name=%{x}<br>rep=%{y}\", \"legendgroup\": \"\", \"marker\": {\"color\": \"#636efa\"}, \"name\": \"\", \"offsetgroup\": \"\", \"orientation\": \"v\", \"showlegend\": false, \"textposition\": \"auto\", \"type\": \"bar\", \"x\": [\"n1k31t4\", \"Neil Slater\", \"Juan Esteban de la Calle\", \"Jan van der Vegt\", \"Aditya\", \"Stephen Rauch\", \"Peter\", \"Ankit Seth\", \"Kiritee Gak\", \"Shamit Verma\", \"TitoOrt\", \"Antonio Juri\\u0107\", \"Franck Dernoncourt\", \"Elias Strehle\", \"stmax\", \"I_Play_With_Data\", \"tuomastik\", \"Ryan Zotti\", \"thanatoz\", \"StatsSorceress\"], \"xaxis\": \"x\", \"y\": [\"8181\", \"18824\", \"1504\", \"6995\", \"1577\", \"1598\", \"1648\", \"1159\", \"1379\", \"1754\", \"822\", \"789\", \"3656\", \"1311\", \"1409\", \"1294\", \"781\", \"2564\", \"900\", \"1194\"], \"yaxis\": \"y\"}],\n",
       "                        {\"barmode\": \"relative\", \"height\": 600, \"legend\": {\"tracegroupgap\": 0}, \"margin\": {\"t\": 60}, \"template\": {\"data\": {\"bar\": [{\"error_x\": {\"color\": \"#2a3f5f\"}, \"error_y\": {\"color\": \"#2a3f5f\"}, \"marker\": {\"line\": {\"color\": \"#E5ECF6\", \"width\": 0.5}}, \"type\": \"bar\"}], \"barpolar\": [{\"marker\": {\"line\": {\"color\": \"#E5ECF6\", \"width\": 0.5}}, \"type\": \"barpolar\"}], \"carpet\": [{\"aaxis\": {\"endlinecolor\": \"#2a3f5f\", \"gridcolor\": \"white\", \"linecolor\": \"white\", \"minorgridcolor\": \"white\", \"startlinecolor\": \"#2a3f5f\"}, \"baxis\": {\"endlinecolor\": \"#2a3f5f\", \"gridcolor\": \"white\", \"linecolor\": \"white\", \"minorgridcolor\": \"white\", \"startlinecolor\": \"#2a3f5f\"}, \"type\": \"carpet\"}], \"choropleth\": [{\"colorbar\": {\"outlinewidth\": 0, \"ticks\": \"\"}, \"type\": \"choropleth\"}], \"contour\": [{\"colorbar\": {\"outlinewidth\": 0, \"ticks\": \"\"}, \"colorscale\": [[0.0, \"#0d0887\"], [0.1111111111111111, \"#46039f\"], [0.2222222222222222, \"#7201a8\"], [0.3333333333333333, \"#9c179e\"], [0.4444444444444444, \"#bd3786\"], [0.5555555555555556, \"#d8576b\"], [0.6666666666666666, \"#ed7953\"], [0.7777777777777778, \"#fb9f3a\"], [0.8888888888888888, \"#fdca26\"], [1.0, \"#f0f921\"]], \"type\": \"contour\"}], \"contourcarpet\": [{\"colorbar\": {\"outlinewidth\": 0, \"ticks\": \"\"}, \"type\": \"contourcarpet\"}], \"heatmap\": [{\"colorbar\": {\"outlinewidth\": 0, \"ticks\": \"\"}, \"colorscale\": [[0.0, \"#0d0887\"], [0.1111111111111111, \"#46039f\"], [0.2222222222222222, \"#7201a8\"], [0.3333333333333333, \"#9c179e\"], [0.4444444444444444, \"#bd3786\"], [0.5555555555555556, \"#d8576b\"], [0.6666666666666666, \"#ed7953\"], [0.7777777777777778, \"#fb9f3a\"], [0.8888888888888888, \"#fdca26\"], [1.0, \"#f0f921\"]], \"type\": \"heatmap\"}], \"heatmapgl\": [{\"colorbar\": {\"outlinewidth\": 0, \"ticks\": \"\"}, \"colorscale\": [[0.0, \"#0d0887\"], [0.1111111111111111, \"#46039f\"], [0.2222222222222222, \"#7201a8\"], [0.3333333333333333, \"#9c179e\"], [0.4444444444444444, \"#bd3786\"], [0.5555555555555556, \"#d8576b\"], [0.6666666666666666, \"#ed7953\"], [0.7777777777777778, \"#fb9f3a\"], [0.8888888888888888, \"#fdca26\"], [1.0, \"#f0f921\"]], \"type\": \"heatmapgl\"}], \"histogram\": [{\"marker\": {\"colorbar\": {\"outlinewidth\": 0, \"ticks\": \"\"}}, \"type\": \"histogram\"}], \"histogram2d\": [{\"colorbar\": {\"outlinewidth\": 0, \"ticks\": \"\"}, \"colorscale\": [[0.0, \"#0d0887\"], [0.1111111111111111, \"#46039f\"], [0.2222222222222222, \"#7201a8\"], [0.3333333333333333, \"#9c179e\"], [0.4444444444444444, \"#bd3786\"], [0.5555555555555556, \"#d8576b\"], [0.6666666666666666, \"#ed7953\"], [0.7777777777777778, \"#fb9f3a\"], [0.8888888888888888, \"#fdca26\"], [1.0, \"#f0f921\"]], \"type\": \"histogram2d\"}], \"histogram2dcontour\": [{\"colorbar\": {\"outlinewidth\": 0, \"ticks\": \"\"}, \"colorscale\": [[0.0, \"#0d0887\"], [0.1111111111111111, \"#46039f\"], [0.2222222222222222, \"#7201a8\"], [0.3333333333333333, \"#9c179e\"], [0.4444444444444444, \"#bd3786\"], [0.5555555555555556, \"#d8576b\"], [0.6666666666666666, \"#ed7953\"], [0.7777777777777778, \"#fb9f3a\"], [0.8888888888888888, \"#fdca26\"], [1.0, \"#f0f921\"]], \"type\": \"histogram2dcontour\"}], \"mesh3d\": [{\"colorbar\": {\"outlinewidth\": 0, \"ticks\": \"\"}, \"type\": \"mesh3d\"}], \"parcoords\": [{\"line\": {\"colorbar\": {\"outlinewidth\": 0, \"ticks\": \"\"}}, \"type\": \"parcoords\"}], \"scatter\": [{\"marker\": {\"colorbar\": {\"outlinewidth\": 0, \"ticks\": \"\"}}, \"type\": \"scatter\"}], \"scatter3d\": [{\"line\": {\"colorbar\": {\"outlinewidth\": 0, \"ticks\": \"\"}}, \"marker\": {\"colorbar\": {\"outlinewidth\": 0, \"ticks\": \"\"}}, \"type\": \"scatter3d\"}], \"scattercarpet\": [{\"marker\": {\"colorbar\": {\"outlinewidth\": 0, \"ticks\": \"\"}}, \"type\": \"scattercarpet\"}], \"scattergeo\": [{\"marker\": {\"colorbar\": {\"outlinewidth\": 0, \"ticks\": \"\"}}, \"type\": \"scattergeo\"}], \"scattergl\": [{\"marker\": {\"colorbar\": {\"outlinewidth\": 0, \"ticks\": \"\"}}, \"type\": \"scattergl\"}], \"scattermapbox\": [{\"marker\": {\"colorbar\": {\"outlinewidth\": 0, \"ticks\": \"\"}}, \"type\": \"scattermapbox\"}], \"scatterpolar\": [{\"marker\": {\"colorbar\": {\"outlinewidth\": 0, \"ticks\": \"\"}}, \"type\": \"scatterpolar\"}], \"scatterpolargl\": [{\"marker\": {\"colorbar\": {\"outlinewidth\": 0, \"ticks\": \"\"}}, \"type\": \"scatterpolargl\"}], \"scatterternary\": [{\"marker\": {\"colorbar\": {\"outlinewidth\": 0, \"ticks\": \"\"}}, \"type\": \"scatterternary\"}], \"surface\": [{\"colorbar\": {\"outlinewidth\": 0, \"ticks\": \"\"}, \"colorscale\": [[0.0, \"#0d0887\"], [0.1111111111111111, \"#46039f\"], [0.2222222222222222, \"#7201a8\"], [0.3333333333333333, \"#9c179e\"], [0.4444444444444444, \"#bd3786\"], [0.5555555555555556, \"#d8576b\"], [0.6666666666666666, \"#ed7953\"], [0.7777777777777778, \"#fb9f3a\"], [0.8888888888888888, \"#fdca26\"], [1.0, \"#f0f921\"]], \"type\": \"surface\"}], \"table\": [{\"cells\": {\"fill\": {\"color\": \"#EBF0F8\"}, \"line\": {\"color\": \"white\"}}, \"header\": {\"fill\": {\"color\": \"#C8D4E3\"}, \"line\": {\"color\": \"white\"}}, \"type\": \"table\"}]}, \"layout\": {\"annotationdefaults\": {\"arrowcolor\": \"#2a3f5f\", \"arrowhead\": 0, \"arrowwidth\": 1}, \"colorscale\": {\"diverging\": [[0, \"#8e0152\"], [0.1, \"#c51b7d\"], [0.2, \"#de77ae\"], [0.3, \"#f1b6da\"], [0.4, \"#fde0ef\"], [0.5, \"#f7f7f7\"], [0.6, \"#e6f5d0\"], [0.7, \"#b8e186\"], [0.8, \"#7fbc41\"], [0.9, \"#4d9221\"], [1, \"#276419\"]], \"sequential\": [[0.0, \"#0d0887\"], [0.1111111111111111, \"#46039f\"], [0.2222222222222222, \"#7201a8\"], [0.3333333333333333, \"#9c179e\"], [0.4444444444444444, \"#bd3786\"], [0.5555555555555556, \"#d8576b\"], [0.6666666666666666, \"#ed7953\"], [0.7777777777777778, \"#fb9f3a\"], [0.8888888888888888, \"#fdca26\"], [1.0, \"#f0f921\"]], \"sequentialminus\": [[0.0, \"#0d0887\"], [0.1111111111111111, \"#46039f\"], [0.2222222222222222, \"#7201a8\"], [0.3333333333333333, \"#9c179e\"], [0.4444444444444444, \"#bd3786\"], [0.5555555555555556, \"#d8576b\"], [0.6666666666666666, \"#ed7953\"], [0.7777777777777778, \"#fb9f3a\"], [0.8888888888888888, \"#fdca26\"], [1.0, \"#f0f921\"]]}, \"colorway\": [\"#636efa\", \"#EF553B\", \"#00cc96\", \"#ab63fa\", \"#FFA15A\", \"#19d3f3\", \"#FF6692\", \"#B6E880\", \"#FF97FF\", \"#FECB52\"], \"font\": {\"color\": \"#2a3f5f\"}, \"geo\": {\"bgcolor\": \"white\", \"lakecolor\": \"white\", \"landcolor\": \"#E5ECF6\", \"showlakes\": true, \"showland\": true, \"subunitcolor\": \"white\"}, \"hoverlabel\": {\"align\": \"left\"}, \"hovermode\": \"closest\", \"mapbox\": {\"style\": \"light\"}, \"paper_bgcolor\": \"white\", \"plot_bgcolor\": \"#E5ECF6\", \"polar\": {\"angularaxis\": {\"gridcolor\": \"white\", \"linecolor\": \"white\", \"ticks\": \"\"}, \"bgcolor\": \"#E5ECF6\", \"radialaxis\": {\"gridcolor\": \"white\", \"linecolor\": \"white\", \"ticks\": \"\"}}, \"scene\": {\"xaxis\": {\"backgroundcolor\": \"#E5ECF6\", \"gridcolor\": \"white\", \"gridwidth\": 2, \"linecolor\": \"white\", \"showbackground\": true, \"ticks\": \"\", \"zerolinecolor\": \"white\"}, \"yaxis\": {\"backgroundcolor\": \"#E5ECF6\", \"gridcolor\": \"white\", \"gridwidth\": 2, \"linecolor\": \"white\", \"showbackground\": true, \"ticks\": \"\", \"zerolinecolor\": \"white\"}, \"zaxis\": {\"backgroundcolor\": \"#E5ECF6\", \"gridcolor\": \"white\", \"gridwidth\": 2, \"linecolor\": \"white\", \"showbackground\": true, \"ticks\": \"\", \"zerolinecolor\": \"white\"}}, \"shapedefaults\": {\"line\": {\"color\": \"#2a3f5f\"}}, \"ternary\": {\"aaxis\": {\"gridcolor\": \"white\", \"linecolor\": \"white\", \"ticks\": \"\"}, \"baxis\": {\"gridcolor\": \"white\", \"linecolor\": \"white\", \"ticks\": \"\"}, \"bgcolor\": \"#E5ECF6\", \"caxis\": {\"gridcolor\": \"white\", \"linecolor\": \"white\", \"ticks\": \"\"}}, \"title\": {\"x\": 0.05}, \"xaxis\": {\"automargin\": true, \"gridcolor\": \"white\", \"linecolor\": \"white\", \"ticks\": \"\", \"zerolinecolor\": \"white\", \"zerolinewidth\": 2}, \"yaxis\": {\"automargin\": true, \"gridcolor\": \"white\", \"linecolor\": \"white\", \"ticks\": \"\", \"zerolinecolor\": \"white\", \"zerolinewidth\": 2}}}, \"xaxis\": {\"anchor\": \"y\", \"domain\": [0.0, 0.98], \"title\": {\"text\": \"name\"}}, \"yaxis\": {\"anchor\": \"x\", \"domain\": [0.0, 1.0], \"title\": {\"text\": \"rep\"}}},\n",
       "                        {\"responsive\": true}\n",
       "                    ).then(function(){\n",
       "                            \n",
       "var gd = document.getElementById('e012835c-a2e6-4a3c-861f-a745447839c6');\n",
       "var x = new MutationObserver(function (mutations, observer) {{\n",
       "        var display = window.getComputedStyle(gd).display;\n",
       "        if (!display || display === 'none') {{\n",
       "            console.log([gd, 'removed!']);\n",
       "            Plotly.purge(gd);\n",
       "            observer.disconnect();\n",
       "        }}\n",
       "}});\n",
       "\n",
       "// Listen for the removal of the full notebook cells\n",
       "var notebookContainer = gd.closest('#notebook-container');\n",
       "if (notebookContainer) {{\n",
       "    x.observe(notebookContainer, {childList: true});\n",
       "}}\n",
       "\n",
       "// Listen for the clearing of the current output cell\n",
       "var outputEl = gd.closest('.output');\n",
       "if (outputEl) {{\n",
       "    x.observe(outputEl, {childList: true});\n",
       "}}\n",
       "\n",
       "                        })\n",
       "                };\n",
       "                });\n",
       "            </script>\n",
       "        </div>"
      ]
     },
     "metadata": {},
     "output_type": "display_data"
    }
   ],
   "source": [
    "import plotly_express as px         \n",
    "px.bar(xo, x='name', y='rep')"
   ]
  },
  {
   "cell_type": "code",
   "execution_count": 47,
   "metadata": {},
   "outputs": [
    {
     "data": {
      "application/vnd.plotly.v1+json": {
       "config": {
        "plotlyServerURL": "https://plot.ly"
       },
       "data": [
        {
         "hoverlabel": {
          "namelength": 0
         },
         "hovertemplate": "name=n1k31t4<br>answers=%{x}<br>rep=%{y}<br>rep/ans=%{marker.size}",
         "legendgroup": "name=n1k31t4",
         "marker": {
          "color": "#636efa",
          "size": [
           69.92307692307692
          ],
          "sizemode": "area",
          "sizeref": 1.3072222222222223,
          "symbol": "circle"
         },
         "mode": "markers",
         "name": "name=n1k31t4",
         "showlegend": true,
         "type": "scatter",
         "x": [
          117
         ],
         "xaxis": "x",
         "y": [
          "8181"
         ],
         "yaxis": "y"
        },
        {
         "hoverlabel": {
          "namelength": 0
         },
         "hovertemplate": "name=Neil Slater<br>answers=%{x}<br>rep=%{y}<br>rep/ans=%{marker.size}",
         "legendgroup": "name=Neil Slater",
         "marker": {
          "color": "#EF553B",
          "size": [
           522.8888888888889
          ],
          "sizemode": "area",
          "sizeref": 1.3072222222222223,
          "symbol": "circle"
         },
         "mode": "markers",
         "name": "name=Neil Slater",
         "showlegend": true,
         "type": "scatter",
         "x": [
          36
         ],
         "xaxis": "x",
         "y": [
          "18824"
         ],
         "yaxis": "y"
        },
        {
         "hoverlabel": {
          "namelength": 0
         },
         "hovertemplate": "name=Juan Esteban de la Calle<br>answers=%{x}<br>rep=%{y}<br>rep/ans=%{marker.size}",
         "legendgroup": "name=Juan Esteban de la Calle",
         "marker": {
          "color": "#00cc96",
          "size": [
           62.666666666666664
          ],
          "sizemode": "area",
          "sizeref": 1.3072222222222223,
          "symbol": "circle"
         },
         "mode": "markers",
         "name": "name=Juan Esteban de la Calle",
         "showlegend": true,
         "type": "scatter",
         "x": [
          24
         ],
         "xaxis": "x",
         "y": [
          "1504"
         ],
         "yaxis": "y"
        },
        {
         "hoverlabel": {
          "namelength": 0
         },
         "hovertemplate": "name=Jan van der Vegt<br>answers=%{x}<br>rep=%{y}<br>rep/ans=%{marker.size}",
         "legendgroup": "name=Jan van der Vegt",
         "marker": {
          "color": "#ab63fa",
          "size": [
           304.1304347826087
          ],
          "sizemode": "area",
          "sizeref": 1.3072222222222223,
          "symbol": "circle"
         },
         "mode": "markers",
         "name": "name=Jan van der Vegt",
         "showlegend": true,
         "type": "scatter",
         "x": [
          23
         ],
         "xaxis": "x",
         "y": [
          "6995"
         ],
         "yaxis": "y"
        },
        {
         "hoverlabel": {
          "namelength": 0
         },
         "hovertemplate": "name=Aditya<br>answers=%{x}<br>rep=%{y}<br>rep/ans=%{marker.size}",
         "legendgroup": "name=Aditya",
         "marker": {
          "color": "#FFA15A",
          "size": [
           71.68181818181819
          ],
          "sizemode": "area",
          "sizeref": 1.3072222222222223,
          "symbol": "circle"
         },
         "mode": "markers",
         "name": "name=Aditya",
         "showlegend": true,
         "type": "scatter",
         "x": [
          22
         ],
         "xaxis": "x",
         "y": [
          "1577"
         ],
         "yaxis": "y"
        },
        {
         "hoverlabel": {
          "namelength": 0
         },
         "hovertemplate": "name=Stephen Rauch<br>answers=%{x}<br>rep=%{y}<br>rep/ans=%{marker.size}",
         "legendgroup": "name=Stephen Rauch",
         "marker": {
          "color": "#19d3f3",
          "size": [
           84.10526315789474
          ],
          "sizemode": "area",
          "sizeref": 1.3072222222222223,
          "symbol": "circle"
         },
         "mode": "markers",
         "name": "name=Stephen Rauch",
         "showlegend": true,
         "type": "scatter",
         "x": [
          19
         ],
         "xaxis": "x",
         "y": [
          "1598"
         ],
         "yaxis": "y"
        },
        {
         "hoverlabel": {
          "namelength": 0
         },
         "hovertemplate": "name=Peter<br>answers=%{x}<br>rep=%{y}<br>rep/ans=%{marker.size}",
         "legendgroup": "name=Peter",
         "marker": {
          "color": "#FF6692",
          "size": [
           96.94117647058823
          ],
          "sizemode": "area",
          "sizeref": 1.3072222222222223,
          "symbol": "circle"
         },
         "mode": "markers",
         "name": "name=Peter",
         "showlegend": true,
         "type": "scatter",
         "x": [
          17
         ],
         "xaxis": "x",
         "y": [
          "1648"
         ],
         "yaxis": "y"
        },
        {
         "hoverlabel": {
          "namelength": 0
         },
         "hovertemplate": "name=Ankit Seth<br>answers=%{x}<br>rep=%{y}<br>rep/ans=%{marker.size}",
         "legendgroup": "name=Ankit Seth",
         "marker": {
          "color": "#B6E880",
          "size": [
           68.17647058823529
          ],
          "sizemode": "area",
          "sizeref": 1.3072222222222223,
          "symbol": "circle"
         },
         "mode": "markers",
         "name": "name=Ankit Seth",
         "showlegend": true,
         "type": "scatter",
         "x": [
          17
         ],
         "xaxis": "x",
         "y": [
          "1159"
         ],
         "yaxis": "y"
        },
        {
         "hoverlabel": {
          "namelength": 0
         },
         "hovertemplate": "name=Kiritee Gak<br>answers=%{x}<br>rep=%{y}<br>rep/ans=%{marker.size}",
         "legendgroup": "name=Kiritee Gak",
         "marker": {
          "color": "#FF97FF",
          "size": [
           91.93333333333334
          ],
          "sizemode": "area",
          "sizeref": 1.3072222222222223,
          "symbol": "circle"
         },
         "mode": "markers",
         "name": "name=Kiritee Gak",
         "showlegend": true,
         "type": "scatter",
         "x": [
          15
         ],
         "xaxis": "x",
         "y": [
          "1379"
         ],
         "yaxis": "y"
        },
        {
         "hoverlabel": {
          "namelength": 0
         },
         "hovertemplate": "name=Shamit Verma<br>answers=%{x}<br>rep=%{y}<br>rep/ans=%{marker.size}",
         "legendgroup": "name=Shamit Verma",
         "marker": {
          "color": "#FECB52",
          "size": [
           125.28571428571429
          ],
          "sizemode": "area",
          "sizeref": 1.3072222222222223,
          "symbol": "circle"
         },
         "mode": "markers",
         "name": "name=Shamit Verma",
         "showlegend": true,
         "type": "scatter",
         "x": [
          14
         ],
         "xaxis": "x",
         "y": [
          "1754"
         ],
         "yaxis": "y"
        },
        {
         "hoverlabel": {
          "namelength": 0
         },
         "hovertemplate": "name=TitoOrt<br>answers=%{x}<br>rep=%{y}<br>rep/ans=%{marker.size}",
         "legendgroup": "name=TitoOrt",
         "marker": {
          "color": "#636efa",
          "size": [
           74.72727272727273
          ],
          "sizemode": "area",
          "sizeref": 1.3072222222222223,
          "symbol": "circle"
         },
         "mode": "markers",
         "name": "name=TitoOrt",
         "showlegend": true,
         "type": "scatter",
         "x": [
          11
         ],
         "xaxis": "x",
         "y": [
          "822"
         ],
         "yaxis": "y"
        },
        {
         "hoverlabel": {
          "namelength": 0
         },
         "hovertemplate": "name=Antonio Jurić<br>answers=%{x}<br>rep=%{y}<br>rep/ans=%{marker.size}",
         "legendgroup": "name=Antonio Jurić",
         "marker": {
          "color": "#EF553B",
          "size": [
           78.9
          ],
          "sizemode": "area",
          "sizeref": 1.3072222222222223,
          "symbol": "circle"
         },
         "mode": "markers",
         "name": "name=Antonio Jurić",
         "showlegend": true,
         "type": "scatter",
         "x": [
          10
         ],
         "xaxis": "x",
         "y": [
          "789"
         ],
         "yaxis": "y"
        },
        {
         "hoverlabel": {
          "namelength": 0
         },
         "hovertemplate": "name=Franck Dernoncourt<br>answers=%{x}<br>rep=%{y}<br>rep/ans=%{marker.size}",
         "legendgroup": "name=Franck Dernoncourt",
         "marker": {
          "color": "#00cc96",
          "size": [
           365.6
          ],
          "sizemode": "area",
          "sizeref": 1.3072222222222223,
          "symbol": "circle"
         },
         "mode": "markers",
         "name": "name=Franck Dernoncourt",
         "showlegend": true,
         "type": "scatter",
         "x": [
          10
         ],
         "xaxis": "x",
         "y": [
          "3656"
         ],
         "yaxis": "y"
        },
        {
         "hoverlabel": {
          "namelength": 0
         },
         "hovertemplate": "name=Elias Strehle<br>answers=%{x}<br>rep=%{y}<br>rep/ans=%{marker.size}",
         "legendgroup": "name=Elias Strehle",
         "marker": {
          "color": "#ab63fa",
          "size": [
           131.1
          ],
          "sizemode": "area",
          "sizeref": 1.3072222222222223,
          "symbol": "circle"
         },
         "mode": "markers",
         "name": "name=Elias Strehle",
         "showlegend": true,
         "type": "scatter",
         "x": [
          10
         ],
         "xaxis": "x",
         "y": [
          "1311"
         ],
         "yaxis": "y"
        },
        {
         "hoverlabel": {
          "namelength": 0
         },
         "hovertemplate": "name=stmax<br>answers=%{x}<br>rep=%{y}<br>rep/ans=%{marker.size}",
         "legendgroup": "name=stmax",
         "marker": {
          "color": "#FFA15A",
          "size": [
           140.9
          ],
          "sizemode": "area",
          "sizeref": 1.3072222222222223,
          "symbol": "circle"
         },
         "mode": "markers",
         "name": "name=stmax",
         "showlegend": true,
         "type": "scatter",
         "x": [
          10
         ],
         "xaxis": "x",
         "y": [
          "1409"
         ],
         "yaxis": "y"
        },
        {
         "hoverlabel": {
          "namelength": 0
         },
         "hovertemplate": "name=I_Play_With_Data<br>answers=%{x}<br>rep=%{y}<br>rep/ans=%{marker.size}",
         "legendgroup": "name=I_Play_With_Data",
         "marker": {
          "color": "#19d3f3",
          "size": [
           129.4
          ],
          "sizemode": "area",
          "sizeref": 1.3072222222222223,
          "symbol": "circle"
         },
         "mode": "markers",
         "name": "name=I_Play_With_Data",
         "showlegend": true,
         "type": "scatter",
         "x": [
          10
         ],
         "xaxis": "x",
         "y": [
          "1294"
         ],
         "yaxis": "y"
        },
        {
         "hoverlabel": {
          "namelength": 0
         },
         "hovertemplate": "name=tuomastik<br>answers=%{x}<br>rep=%{y}<br>rep/ans=%{marker.size}",
         "legendgroup": "name=tuomastik",
         "marker": {
          "color": "#FF6692",
          "size": [
           78.1
          ],
          "sizemode": "area",
          "sizeref": 1.3072222222222223,
          "symbol": "circle"
         },
         "mode": "markers",
         "name": "name=tuomastik",
         "showlegend": true,
         "type": "scatter",
         "x": [
          10
         ],
         "xaxis": "x",
         "y": [
          "781"
         ],
         "yaxis": "y"
        },
        {
         "hoverlabel": {
          "namelength": 0
         },
         "hovertemplate": "name=Ryan Zotti<br>answers=%{x}<br>rep=%{y}<br>rep/ans=%{marker.size}",
         "legendgroup": "name=Ryan Zotti",
         "marker": {
          "color": "#B6E880",
          "size": [
           284.8888888888889
          ],
          "sizemode": "area",
          "sizeref": 1.3072222222222223,
          "symbol": "circle"
         },
         "mode": "markers",
         "name": "name=Ryan Zotti",
         "showlegend": true,
         "type": "scatter",
         "x": [
          9
         ],
         "xaxis": "x",
         "y": [
          "2564"
         ],
         "yaxis": "y"
        },
        {
         "hoverlabel": {
          "namelength": 0
         },
         "hovertemplate": "name=thanatoz<br>answers=%{x}<br>rep=%{y}<br>rep/ans=%{marker.size}",
         "legendgroup": "name=thanatoz",
         "marker": {
          "color": "#FF97FF",
          "size": [
           112.5
          ],
          "sizemode": "area",
          "sizeref": 1.3072222222222223,
          "symbol": "circle"
         },
         "mode": "markers",
         "name": "name=thanatoz",
         "showlegend": true,
         "type": "scatter",
         "x": [
          8
         ],
         "xaxis": "x",
         "y": [
          "900"
         ],
         "yaxis": "y"
        },
        {
         "hoverlabel": {
          "namelength": 0
         },
         "hovertemplate": "name=StatsSorceress<br>answers=%{x}<br>rep=%{y}<br>rep/ans=%{marker.size}",
         "legendgroup": "name=StatsSorceress",
         "marker": {
          "color": "#FECB52",
          "size": [
           149.25
          ],
          "sizemode": "area",
          "sizeref": 1.3072222222222223,
          "symbol": "circle"
         },
         "mode": "markers",
         "name": "name=StatsSorceress",
         "showlegend": true,
         "type": "scatter",
         "x": [
          8
         ],
         "xaxis": "x",
         "y": [
          "1194"
         ],
         "yaxis": "y"
        }
       ],
       "layout": {
        "height": 600,
        "legend": {
         "itemsizing": "constant",
         "tracegroupgap": 0
        },
        "margin": {
         "t": 60
        },
        "template": {
         "data": {
          "bar": [
           {
            "error_x": {
             "color": "#2a3f5f"
            },
            "error_y": {
             "color": "#2a3f5f"
            },
            "marker": {
             "line": {
              "color": "#E5ECF6",
              "width": 0.5
             }
            },
            "type": "bar"
           }
          ],
          "barpolar": [
           {
            "marker": {
             "line": {
              "color": "#E5ECF6",
              "width": 0.5
             }
            },
            "type": "barpolar"
           }
          ],
          "carpet": [
           {
            "aaxis": {
             "endlinecolor": "#2a3f5f",
             "gridcolor": "white",
             "linecolor": "white",
             "minorgridcolor": "white",
             "startlinecolor": "#2a3f5f"
            },
            "baxis": {
             "endlinecolor": "#2a3f5f",
             "gridcolor": "white",
             "linecolor": "white",
             "minorgridcolor": "white",
             "startlinecolor": "#2a3f5f"
            },
            "type": "carpet"
           }
          ],
          "choropleth": [
           {
            "colorbar": {
             "outlinewidth": 0,
             "ticks": ""
            },
            "type": "choropleth"
           }
          ],
          "contour": [
           {
            "colorbar": {
             "outlinewidth": 0,
             "ticks": ""
            },
            "colorscale": [
             [
              0,
              "#0d0887"
             ],
             [
              0.1111111111111111,
              "#46039f"
             ],
             [
              0.2222222222222222,
              "#7201a8"
             ],
             [
              0.3333333333333333,
              "#9c179e"
             ],
             [
              0.4444444444444444,
              "#bd3786"
             ],
             [
              0.5555555555555556,
              "#d8576b"
             ],
             [
              0.6666666666666666,
              "#ed7953"
             ],
             [
              0.7777777777777778,
              "#fb9f3a"
             ],
             [
              0.8888888888888888,
              "#fdca26"
             ],
             [
              1,
              "#f0f921"
             ]
            ],
            "type": "contour"
           }
          ],
          "contourcarpet": [
           {
            "colorbar": {
             "outlinewidth": 0,
             "ticks": ""
            },
            "type": "contourcarpet"
           }
          ],
          "heatmap": [
           {
            "colorbar": {
             "outlinewidth": 0,
             "ticks": ""
            },
            "colorscale": [
             [
              0,
              "#0d0887"
             ],
             [
              0.1111111111111111,
              "#46039f"
             ],
             [
              0.2222222222222222,
              "#7201a8"
             ],
             [
              0.3333333333333333,
              "#9c179e"
             ],
             [
              0.4444444444444444,
              "#bd3786"
             ],
             [
              0.5555555555555556,
              "#d8576b"
             ],
             [
              0.6666666666666666,
              "#ed7953"
             ],
             [
              0.7777777777777778,
              "#fb9f3a"
             ],
             [
              0.8888888888888888,
              "#fdca26"
             ],
             [
              1,
              "#f0f921"
             ]
            ],
            "type": "heatmap"
           }
          ],
          "heatmapgl": [
           {
            "colorbar": {
             "outlinewidth": 0,
             "ticks": ""
            },
            "colorscale": [
             [
              0,
              "#0d0887"
             ],
             [
              0.1111111111111111,
              "#46039f"
             ],
             [
              0.2222222222222222,
              "#7201a8"
             ],
             [
              0.3333333333333333,
              "#9c179e"
             ],
             [
              0.4444444444444444,
              "#bd3786"
             ],
             [
              0.5555555555555556,
              "#d8576b"
             ],
             [
              0.6666666666666666,
              "#ed7953"
             ],
             [
              0.7777777777777778,
              "#fb9f3a"
             ],
             [
              0.8888888888888888,
              "#fdca26"
             ],
             [
              1,
              "#f0f921"
             ]
            ],
            "type": "heatmapgl"
           }
          ],
          "histogram": [
           {
            "marker": {
             "colorbar": {
              "outlinewidth": 0,
              "ticks": ""
             }
            },
            "type": "histogram"
           }
          ],
          "histogram2d": [
           {
            "colorbar": {
             "outlinewidth": 0,
             "ticks": ""
            },
            "colorscale": [
             [
              0,
              "#0d0887"
             ],
             [
              0.1111111111111111,
              "#46039f"
             ],
             [
              0.2222222222222222,
              "#7201a8"
             ],
             [
              0.3333333333333333,
              "#9c179e"
             ],
             [
              0.4444444444444444,
              "#bd3786"
             ],
             [
              0.5555555555555556,
              "#d8576b"
             ],
             [
              0.6666666666666666,
              "#ed7953"
             ],
             [
              0.7777777777777778,
              "#fb9f3a"
             ],
             [
              0.8888888888888888,
              "#fdca26"
             ],
             [
              1,
              "#f0f921"
             ]
            ],
            "type": "histogram2d"
           }
          ],
          "histogram2dcontour": [
           {
            "colorbar": {
             "outlinewidth": 0,
             "ticks": ""
            },
            "colorscale": [
             [
              0,
              "#0d0887"
             ],
             [
              0.1111111111111111,
              "#46039f"
             ],
             [
              0.2222222222222222,
              "#7201a8"
             ],
             [
              0.3333333333333333,
              "#9c179e"
             ],
             [
              0.4444444444444444,
              "#bd3786"
             ],
             [
              0.5555555555555556,
              "#d8576b"
             ],
             [
              0.6666666666666666,
              "#ed7953"
             ],
             [
              0.7777777777777778,
              "#fb9f3a"
             ],
             [
              0.8888888888888888,
              "#fdca26"
             ],
             [
              1,
              "#f0f921"
             ]
            ],
            "type": "histogram2dcontour"
           }
          ],
          "mesh3d": [
           {
            "colorbar": {
             "outlinewidth": 0,
             "ticks": ""
            },
            "type": "mesh3d"
           }
          ],
          "parcoords": [
           {
            "line": {
             "colorbar": {
              "outlinewidth": 0,
              "ticks": ""
             }
            },
            "type": "parcoords"
           }
          ],
          "scatter": [
           {
            "marker": {
             "colorbar": {
              "outlinewidth": 0,
              "ticks": ""
             }
            },
            "type": "scatter"
           }
          ],
          "scatter3d": [
           {
            "line": {
             "colorbar": {
              "outlinewidth": 0,
              "ticks": ""
             }
            },
            "marker": {
             "colorbar": {
              "outlinewidth": 0,
              "ticks": ""
             }
            },
            "type": "scatter3d"
           }
          ],
          "scattercarpet": [
           {
            "marker": {
             "colorbar": {
              "outlinewidth": 0,
              "ticks": ""
             }
            },
            "type": "scattercarpet"
           }
          ],
          "scattergeo": [
           {
            "marker": {
             "colorbar": {
              "outlinewidth": 0,
              "ticks": ""
             }
            },
            "type": "scattergeo"
           }
          ],
          "scattergl": [
           {
            "marker": {
             "colorbar": {
              "outlinewidth": 0,
              "ticks": ""
             }
            },
            "type": "scattergl"
           }
          ],
          "scattermapbox": [
           {
            "marker": {
             "colorbar": {
              "outlinewidth": 0,
              "ticks": ""
             }
            },
            "type": "scattermapbox"
           }
          ],
          "scatterpolar": [
           {
            "marker": {
             "colorbar": {
              "outlinewidth": 0,
              "ticks": ""
             }
            },
            "type": "scatterpolar"
           }
          ],
          "scatterpolargl": [
           {
            "marker": {
             "colorbar": {
              "outlinewidth": 0,
              "ticks": ""
             }
            },
            "type": "scatterpolargl"
           }
          ],
          "scatterternary": [
           {
            "marker": {
             "colorbar": {
              "outlinewidth": 0,
              "ticks": ""
             }
            },
            "type": "scatterternary"
           }
          ],
          "surface": [
           {
            "colorbar": {
             "outlinewidth": 0,
             "ticks": ""
            },
            "colorscale": [
             [
              0,
              "#0d0887"
             ],
             [
              0.1111111111111111,
              "#46039f"
             ],
             [
              0.2222222222222222,
              "#7201a8"
             ],
             [
              0.3333333333333333,
              "#9c179e"
             ],
             [
              0.4444444444444444,
              "#bd3786"
             ],
             [
              0.5555555555555556,
              "#d8576b"
             ],
             [
              0.6666666666666666,
              "#ed7953"
             ],
             [
              0.7777777777777778,
              "#fb9f3a"
             ],
             [
              0.8888888888888888,
              "#fdca26"
             ],
             [
              1,
              "#f0f921"
             ]
            ],
            "type": "surface"
           }
          ],
          "table": [
           {
            "cells": {
             "fill": {
              "color": "#EBF0F8"
             },
             "line": {
              "color": "white"
             }
            },
            "header": {
             "fill": {
              "color": "#C8D4E3"
             },
             "line": {
              "color": "white"
             }
            },
            "type": "table"
           }
          ]
         },
         "layout": {
          "annotationdefaults": {
           "arrowcolor": "#2a3f5f",
           "arrowhead": 0,
           "arrowwidth": 1
          },
          "colorscale": {
           "diverging": [
            [
             0,
             "#8e0152"
            ],
            [
             0.1,
             "#c51b7d"
            ],
            [
             0.2,
             "#de77ae"
            ],
            [
             0.3,
             "#f1b6da"
            ],
            [
             0.4,
             "#fde0ef"
            ],
            [
             0.5,
             "#f7f7f7"
            ],
            [
             0.6,
             "#e6f5d0"
            ],
            [
             0.7,
             "#b8e186"
            ],
            [
             0.8,
             "#7fbc41"
            ],
            [
             0.9,
             "#4d9221"
            ],
            [
             1,
             "#276419"
            ]
           ],
           "sequential": [
            [
             0,
             "#0d0887"
            ],
            [
             0.1111111111111111,
             "#46039f"
            ],
            [
             0.2222222222222222,
             "#7201a8"
            ],
            [
             0.3333333333333333,
             "#9c179e"
            ],
            [
             0.4444444444444444,
             "#bd3786"
            ],
            [
             0.5555555555555556,
             "#d8576b"
            ],
            [
             0.6666666666666666,
             "#ed7953"
            ],
            [
             0.7777777777777778,
             "#fb9f3a"
            ],
            [
             0.8888888888888888,
             "#fdca26"
            ],
            [
             1,
             "#f0f921"
            ]
           ],
           "sequentialminus": [
            [
             0,
             "#0d0887"
            ],
            [
             0.1111111111111111,
             "#46039f"
            ],
            [
             0.2222222222222222,
             "#7201a8"
            ],
            [
             0.3333333333333333,
             "#9c179e"
            ],
            [
             0.4444444444444444,
             "#bd3786"
            ],
            [
             0.5555555555555556,
             "#d8576b"
            ],
            [
             0.6666666666666666,
             "#ed7953"
            ],
            [
             0.7777777777777778,
             "#fb9f3a"
            ],
            [
             0.8888888888888888,
             "#fdca26"
            ],
            [
             1,
             "#f0f921"
            ]
           ]
          },
          "colorway": [
           "#636efa",
           "#EF553B",
           "#00cc96",
           "#ab63fa",
           "#FFA15A",
           "#19d3f3",
           "#FF6692",
           "#B6E880",
           "#FF97FF",
           "#FECB52"
          ],
          "font": {
           "color": "#2a3f5f"
          },
          "geo": {
           "bgcolor": "white",
           "lakecolor": "white",
           "landcolor": "#E5ECF6",
           "showlakes": true,
           "showland": true,
           "subunitcolor": "white"
          },
          "hoverlabel": {
           "align": "left"
          },
          "hovermode": "closest",
          "mapbox": {
           "style": "light"
          },
          "paper_bgcolor": "white",
          "plot_bgcolor": "#E5ECF6",
          "polar": {
           "angularaxis": {
            "gridcolor": "white",
            "linecolor": "white",
            "ticks": ""
           },
           "bgcolor": "#E5ECF6",
           "radialaxis": {
            "gridcolor": "white",
            "linecolor": "white",
            "ticks": ""
           }
          },
          "scene": {
           "xaxis": {
            "backgroundcolor": "#E5ECF6",
            "gridcolor": "white",
            "gridwidth": 2,
            "linecolor": "white",
            "showbackground": true,
            "ticks": "",
            "zerolinecolor": "white"
           },
           "yaxis": {
            "backgroundcolor": "#E5ECF6",
            "gridcolor": "white",
            "gridwidth": 2,
            "linecolor": "white",
            "showbackground": true,
            "ticks": "",
            "zerolinecolor": "white"
           },
           "zaxis": {
            "backgroundcolor": "#E5ECF6",
            "gridcolor": "white",
            "gridwidth": 2,
            "linecolor": "white",
            "showbackground": true,
            "ticks": "",
            "zerolinecolor": "white"
           }
          },
          "shapedefaults": {
           "line": {
            "color": "#2a3f5f"
           }
          },
          "ternary": {
           "aaxis": {
            "gridcolor": "white",
            "linecolor": "white",
            "ticks": ""
           },
           "baxis": {
            "gridcolor": "white",
            "linecolor": "white",
            "ticks": ""
           },
           "bgcolor": "#E5ECF6",
           "caxis": {
            "gridcolor": "white",
            "linecolor": "white",
            "ticks": ""
           }
          },
          "title": {
           "x": 0.05
          },
          "xaxis": {
           "automargin": true,
           "gridcolor": "white",
           "linecolor": "white",
           "ticks": "",
           "zerolinecolor": "white",
           "zerolinewidth": 2
          },
          "yaxis": {
           "automargin": true,
           "gridcolor": "white",
           "linecolor": "white",
           "ticks": "",
           "zerolinecolor": "white",
           "zerolinewidth": 2
          }
         }
        },
        "xaxis": {
         "anchor": "y",
         "domain": [
          0,
          0.98
         ],
         "title": {
          "text": "answers"
         },
         "type": "log"
        },
        "yaxis": {
         "anchor": "x",
         "domain": [
          0,
          1
         ],
         "title": {
          "text": "rep"
         },
         "type": "log"
        }
       }
      },
      "text/html": [
       "<div>\n",
       "        \n",
       "        \n",
       "            <div id=\"66a43805-bd49-4b54-958a-421bece02bb7\" class=\"plotly-graph-div\" style=\"height:600px; width:100%;\"></div>\n",
       "            <script type=\"text/javascript\">\n",
       "                require([\"plotly\"], function(Plotly) {\n",
       "                    window.PLOTLYENV=window.PLOTLYENV || {};\n",
       "                    \n",
       "                if (document.getElementById(\"66a43805-bd49-4b54-958a-421bece02bb7\")) {\n",
       "                    Plotly.newPlot(\n",
       "                        '66a43805-bd49-4b54-958a-421bece02bb7',\n",
       "                        [{\"hoverlabel\": {\"namelength\": 0}, \"hovertemplate\": \"name=n1k31t4<br>answers=%{x}<br>rep=%{y}<br>rep/ans=%{marker.size}\", \"legendgroup\": \"name=n1k31t4\", \"marker\": {\"color\": \"#636efa\", \"size\": [69.92307692307692], \"sizemode\": \"area\", \"sizeref\": 1.3072222222222223, \"symbol\": \"circle\"}, \"mode\": \"markers\", \"name\": \"name=n1k31t4\", \"showlegend\": true, \"type\": \"scatter\", \"x\": [117], \"xaxis\": \"x\", \"y\": [\"8181\"], \"yaxis\": \"y\"}, {\"hoverlabel\": {\"namelength\": 0}, \"hovertemplate\": \"name=Neil Slater<br>answers=%{x}<br>rep=%{y}<br>rep/ans=%{marker.size}\", \"legendgroup\": \"name=Neil Slater\", \"marker\": {\"color\": \"#EF553B\", \"size\": [522.8888888888889], \"sizemode\": \"area\", \"sizeref\": 1.3072222222222223, \"symbol\": \"circle\"}, \"mode\": \"markers\", \"name\": \"name=Neil Slater\", \"showlegend\": true, \"type\": \"scatter\", \"x\": [36], \"xaxis\": \"x\", \"y\": [\"18824\"], \"yaxis\": \"y\"}, {\"hoverlabel\": {\"namelength\": 0}, \"hovertemplate\": \"name=Juan Esteban de la Calle<br>answers=%{x}<br>rep=%{y}<br>rep/ans=%{marker.size}\", \"legendgroup\": \"name=Juan Esteban de la Calle\", \"marker\": {\"color\": \"#00cc96\", \"size\": [62.666666666666664], \"sizemode\": \"area\", \"sizeref\": 1.3072222222222223, \"symbol\": \"circle\"}, \"mode\": \"markers\", \"name\": \"name=Juan Esteban de la Calle\", \"showlegend\": true, \"type\": \"scatter\", \"x\": [24], \"xaxis\": \"x\", \"y\": [\"1504\"], \"yaxis\": \"y\"}, {\"hoverlabel\": {\"namelength\": 0}, \"hovertemplate\": \"name=Jan van der Vegt<br>answers=%{x}<br>rep=%{y}<br>rep/ans=%{marker.size}\", \"legendgroup\": \"name=Jan van der Vegt\", \"marker\": {\"color\": \"#ab63fa\", \"size\": [304.1304347826087], \"sizemode\": \"area\", \"sizeref\": 1.3072222222222223, \"symbol\": \"circle\"}, \"mode\": \"markers\", \"name\": \"name=Jan van der Vegt\", \"showlegend\": true, \"type\": \"scatter\", \"x\": [23], \"xaxis\": \"x\", \"y\": [\"6995\"], \"yaxis\": \"y\"}, {\"hoverlabel\": {\"namelength\": 0}, \"hovertemplate\": \"name=Aditya<br>answers=%{x}<br>rep=%{y}<br>rep/ans=%{marker.size}\", \"legendgroup\": \"name=Aditya\", \"marker\": {\"color\": \"#FFA15A\", \"size\": [71.68181818181819], \"sizemode\": \"area\", \"sizeref\": 1.3072222222222223, \"symbol\": \"circle\"}, \"mode\": \"markers\", \"name\": \"name=Aditya\", \"showlegend\": true, \"type\": \"scatter\", \"x\": [22], \"xaxis\": \"x\", \"y\": [\"1577\"], \"yaxis\": \"y\"}, {\"hoverlabel\": {\"namelength\": 0}, \"hovertemplate\": \"name=Stephen Rauch<br>answers=%{x}<br>rep=%{y}<br>rep/ans=%{marker.size}\", \"legendgroup\": \"name=Stephen Rauch\", \"marker\": {\"color\": \"#19d3f3\", \"size\": [84.10526315789474], \"sizemode\": \"area\", \"sizeref\": 1.3072222222222223, \"symbol\": \"circle\"}, \"mode\": \"markers\", \"name\": \"name=Stephen Rauch\", \"showlegend\": true, \"type\": \"scatter\", \"x\": [19], \"xaxis\": \"x\", \"y\": [\"1598\"], \"yaxis\": \"y\"}, {\"hoverlabel\": {\"namelength\": 0}, \"hovertemplate\": \"name=Peter<br>answers=%{x}<br>rep=%{y}<br>rep/ans=%{marker.size}\", \"legendgroup\": \"name=Peter\", \"marker\": {\"color\": \"#FF6692\", \"size\": [96.94117647058823], \"sizemode\": \"area\", \"sizeref\": 1.3072222222222223, \"symbol\": \"circle\"}, \"mode\": \"markers\", \"name\": \"name=Peter\", \"showlegend\": true, \"type\": \"scatter\", \"x\": [17], \"xaxis\": \"x\", \"y\": [\"1648\"], \"yaxis\": \"y\"}, {\"hoverlabel\": {\"namelength\": 0}, \"hovertemplate\": \"name=Ankit Seth<br>answers=%{x}<br>rep=%{y}<br>rep/ans=%{marker.size}\", \"legendgroup\": \"name=Ankit Seth\", \"marker\": {\"color\": \"#B6E880\", \"size\": [68.17647058823529], \"sizemode\": \"area\", \"sizeref\": 1.3072222222222223, \"symbol\": \"circle\"}, \"mode\": \"markers\", \"name\": \"name=Ankit Seth\", \"showlegend\": true, \"type\": \"scatter\", \"x\": [17], \"xaxis\": \"x\", \"y\": [\"1159\"], \"yaxis\": \"y\"}, {\"hoverlabel\": {\"namelength\": 0}, \"hovertemplate\": \"name=Kiritee Gak<br>answers=%{x}<br>rep=%{y}<br>rep/ans=%{marker.size}\", \"legendgroup\": \"name=Kiritee Gak\", \"marker\": {\"color\": \"#FF97FF\", \"size\": [91.93333333333334], \"sizemode\": \"area\", \"sizeref\": 1.3072222222222223, \"symbol\": \"circle\"}, \"mode\": \"markers\", \"name\": \"name=Kiritee Gak\", \"showlegend\": true, \"type\": \"scatter\", \"x\": [15], \"xaxis\": \"x\", \"y\": [\"1379\"], \"yaxis\": \"y\"}, {\"hoverlabel\": {\"namelength\": 0}, \"hovertemplate\": \"name=Shamit Verma<br>answers=%{x}<br>rep=%{y}<br>rep/ans=%{marker.size}\", \"legendgroup\": \"name=Shamit Verma\", \"marker\": {\"color\": \"#FECB52\", \"size\": [125.28571428571429], \"sizemode\": \"area\", \"sizeref\": 1.3072222222222223, \"symbol\": \"circle\"}, \"mode\": \"markers\", \"name\": \"name=Shamit Verma\", \"showlegend\": true, \"type\": \"scatter\", \"x\": [14], \"xaxis\": \"x\", \"y\": [\"1754\"], \"yaxis\": \"y\"}, {\"hoverlabel\": {\"namelength\": 0}, \"hovertemplate\": \"name=TitoOrt<br>answers=%{x}<br>rep=%{y}<br>rep/ans=%{marker.size}\", \"legendgroup\": \"name=TitoOrt\", \"marker\": {\"color\": \"#636efa\", \"size\": [74.72727272727273], \"sizemode\": \"area\", \"sizeref\": 1.3072222222222223, \"symbol\": \"circle\"}, \"mode\": \"markers\", \"name\": \"name=TitoOrt\", \"showlegend\": true, \"type\": \"scatter\", \"x\": [11], \"xaxis\": \"x\", \"y\": [\"822\"], \"yaxis\": \"y\"}, {\"hoverlabel\": {\"namelength\": 0}, \"hovertemplate\": \"name=Antonio Juri\\u0107<br>answers=%{x}<br>rep=%{y}<br>rep/ans=%{marker.size}\", \"legendgroup\": \"name=Antonio Juri\\u0107\", \"marker\": {\"color\": \"#EF553B\", \"size\": [78.9], \"sizemode\": \"area\", \"sizeref\": 1.3072222222222223, \"symbol\": \"circle\"}, \"mode\": \"markers\", \"name\": \"name=Antonio Juri\\u0107\", \"showlegend\": true, \"type\": \"scatter\", \"x\": [10], \"xaxis\": \"x\", \"y\": [\"789\"], \"yaxis\": \"y\"}, {\"hoverlabel\": {\"namelength\": 0}, \"hovertemplate\": \"name=Franck Dernoncourt<br>answers=%{x}<br>rep=%{y}<br>rep/ans=%{marker.size}\", \"legendgroup\": \"name=Franck Dernoncourt\", \"marker\": {\"color\": \"#00cc96\", \"size\": [365.6], \"sizemode\": \"area\", \"sizeref\": 1.3072222222222223, \"symbol\": \"circle\"}, \"mode\": \"markers\", \"name\": \"name=Franck Dernoncourt\", \"showlegend\": true, \"type\": \"scatter\", \"x\": [10], \"xaxis\": \"x\", \"y\": [\"3656\"], \"yaxis\": \"y\"}, {\"hoverlabel\": {\"namelength\": 0}, \"hovertemplate\": \"name=Elias Strehle<br>answers=%{x}<br>rep=%{y}<br>rep/ans=%{marker.size}\", \"legendgroup\": \"name=Elias Strehle\", \"marker\": {\"color\": \"#ab63fa\", \"size\": [131.1], \"sizemode\": \"area\", \"sizeref\": 1.3072222222222223, \"symbol\": \"circle\"}, \"mode\": \"markers\", \"name\": \"name=Elias Strehle\", \"showlegend\": true, \"type\": \"scatter\", \"x\": [10], \"xaxis\": \"x\", \"y\": [\"1311\"], \"yaxis\": \"y\"}, {\"hoverlabel\": {\"namelength\": 0}, \"hovertemplate\": \"name=stmax<br>answers=%{x}<br>rep=%{y}<br>rep/ans=%{marker.size}\", \"legendgroup\": \"name=stmax\", \"marker\": {\"color\": \"#FFA15A\", \"size\": [140.9], \"sizemode\": \"area\", \"sizeref\": 1.3072222222222223, \"symbol\": \"circle\"}, \"mode\": \"markers\", \"name\": \"name=stmax\", \"showlegend\": true, \"type\": \"scatter\", \"x\": [10], \"xaxis\": \"x\", \"y\": [\"1409\"], \"yaxis\": \"y\"}, {\"hoverlabel\": {\"namelength\": 0}, \"hovertemplate\": \"name=I_Play_With_Data<br>answers=%{x}<br>rep=%{y}<br>rep/ans=%{marker.size}\", \"legendgroup\": \"name=I_Play_With_Data\", \"marker\": {\"color\": \"#19d3f3\", \"size\": [129.4], \"sizemode\": \"area\", \"sizeref\": 1.3072222222222223, \"symbol\": \"circle\"}, \"mode\": \"markers\", \"name\": \"name=I_Play_With_Data\", \"showlegend\": true, \"type\": \"scatter\", \"x\": [10], \"xaxis\": \"x\", \"y\": [\"1294\"], \"yaxis\": \"y\"}, {\"hoverlabel\": {\"namelength\": 0}, \"hovertemplate\": \"name=tuomastik<br>answers=%{x}<br>rep=%{y}<br>rep/ans=%{marker.size}\", \"legendgroup\": \"name=tuomastik\", \"marker\": {\"color\": \"#FF6692\", \"size\": [78.1], \"sizemode\": \"area\", \"sizeref\": 1.3072222222222223, \"symbol\": \"circle\"}, \"mode\": \"markers\", \"name\": \"name=tuomastik\", \"showlegend\": true, \"type\": \"scatter\", \"x\": [10], \"xaxis\": \"x\", \"y\": [\"781\"], \"yaxis\": \"y\"}, {\"hoverlabel\": {\"namelength\": 0}, \"hovertemplate\": \"name=Ryan Zotti<br>answers=%{x}<br>rep=%{y}<br>rep/ans=%{marker.size}\", \"legendgroup\": \"name=Ryan Zotti\", \"marker\": {\"color\": \"#B6E880\", \"size\": [284.8888888888889], \"sizemode\": \"area\", \"sizeref\": 1.3072222222222223, \"symbol\": \"circle\"}, \"mode\": \"markers\", \"name\": \"name=Ryan Zotti\", \"showlegend\": true, \"type\": \"scatter\", \"x\": [9], \"xaxis\": \"x\", \"y\": [\"2564\"], \"yaxis\": \"y\"}, {\"hoverlabel\": {\"namelength\": 0}, \"hovertemplate\": \"name=thanatoz<br>answers=%{x}<br>rep=%{y}<br>rep/ans=%{marker.size}\", \"legendgroup\": \"name=thanatoz\", \"marker\": {\"color\": \"#FF97FF\", \"size\": [112.5], \"sizemode\": \"area\", \"sizeref\": 1.3072222222222223, \"symbol\": \"circle\"}, \"mode\": \"markers\", \"name\": \"name=thanatoz\", \"showlegend\": true, \"type\": \"scatter\", \"x\": [8], \"xaxis\": \"x\", \"y\": [\"900\"], \"yaxis\": \"y\"}, {\"hoverlabel\": {\"namelength\": 0}, \"hovertemplate\": \"name=StatsSorceress<br>answers=%{x}<br>rep=%{y}<br>rep/ans=%{marker.size}\", \"legendgroup\": \"name=StatsSorceress\", \"marker\": {\"color\": \"#FECB52\", \"size\": [149.25], \"sizemode\": \"area\", \"sizeref\": 1.3072222222222223, \"symbol\": \"circle\"}, \"mode\": \"markers\", \"name\": \"name=StatsSorceress\", \"showlegend\": true, \"type\": \"scatter\", \"x\": [8], \"xaxis\": \"x\", \"y\": [\"1194\"], \"yaxis\": \"y\"}],\n",
       "                        {\"height\": 600, \"legend\": {\"itemsizing\": \"constant\", \"tracegroupgap\": 0}, \"margin\": {\"t\": 60}, \"template\": {\"data\": {\"bar\": [{\"error_x\": {\"color\": \"#2a3f5f\"}, \"error_y\": {\"color\": \"#2a3f5f\"}, \"marker\": {\"line\": {\"color\": \"#E5ECF6\", \"width\": 0.5}}, \"type\": \"bar\"}], \"barpolar\": [{\"marker\": {\"line\": {\"color\": \"#E5ECF6\", \"width\": 0.5}}, \"type\": \"barpolar\"}], \"carpet\": [{\"aaxis\": {\"endlinecolor\": \"#2a3f5f\", \"gridcolor\": \"white\", \"linecolor\": \"white\", \"minorgridcolor\": \"white\", \"startlinecolor\": \"#2a3f5f\"}, \"baxis\": {\"endlinecolor\": \"#2a3f5f\", \"gridcolor\": \"white\", \"linecolor\": \"white\", \"minorgridcolor\": \"white\", \"startlinecolor\": \"#2a3f5f\"}, \"type\": \"carpet\"}], \"choropleth\": [{\"colorbar\": {\"outlinewidth\": 0, \"ticks\": \"\"}, \"type\": \"choropleth\"}], \"contour\": [{\"colorbar\": {\"outlinewidth\": 0, \"ticks\": \"\"}, \"colorscale\": [[0.0, \"#0d0887\"], [0.1111111111111111, \"#46039f\"], [0.2222222222222222, \"#7201a8\"], [0.3333333333333333, \"#9c179e\"], [0.4444444444444444, \"#bd3786\"], [0.5555555555555556, \"#d8576b\"], [0.6666666666666666, \"#ed7953\"], [0.7777777777777778, \"#fb9f3a\"], [0.8888888888888888, \"#fdca26\"], [1.0, \"#f0f921\"]], \"type\": \"contour\"}], \"contourcarpet\": [{\"colorbar\": {\"outlinewidth\": 0, \"ticks\": \"\"}, \"type\": \"contourcarpet\"}], \"heatmap\": [{\"colorbar\": {\"outlinewidth\": 0, \"ticks\": \"\"}, \"colorscale\": [[0.0, \"#0d0887\"], [0.1111111111111111, \"#46039f\"], [0.2222222222222222, \"#7201a8\"], [0.3333333333333333, \"#9c179e\"], [0.4444444444444444, \"#bd3786\"], [0.5555555555555556, \"#d8576b\"], [0.6666666666666666, \"#ed7953\"], [0.7777777777777778, \"#fb9f3a\"], [0.8888888888888888, \"#fdca26\"], [1.0, \"#f0f921\"]], \"type\": \"heatmap\"}], \"heatmapgl\": [{\"colorbar\": {\"outlinewidth\": 0, \"ticks\": \"\"}, \"colorscale\": [[0.0, \"#0d0887\"], [0.1111111111111111, \"#46039f\"], [0.2222222222222222, \"#7201a8\"], [0.3333333333333333, \"#9c179e\"], [0.4444444444444444, \"#bd3786\"], [0.5555555555555556, \"#d8576b\"], [0.6666666666666666, \"#ed7953\"], [0.7777777777777778, \"#fb9f3a\"], [0.8888888888888888, \"#fdca26\"], [1.0, \"#f0f921\"]], \"type\": \"heatmapgl\"}], \"histogram\": [{\"marker\": {\"colorbar\": {\"outlinewidth\": 0, \"ticks\": \"\"}}, \"type\": \"histogram\"}], \"histogram2d\": [{\"colorbar\": {\"outlinewidth\": 0, \"ticks\": \"\"}, \"colorscale\": [[0.0, \"#0d0887\"], [0.1111111111111111, \"#46039f\"], [0.2222222222222222, \"#7201a8\"], [0.3333333333333333, \"#9c179e\"], [0.4444444444444444, \"#bd3786\"], [0.5555555555555556, \"#d8576b\"], [0.6666666666666666, \"#ed7953\"], [0.7777777777777778, \"#fb9f3a\"], [0.8888888888888888, \"#fdca26\"], [1.0, \"#f0f921\"]], \"type\": \"histogram2d\"}], \"histogram2dcontour\": [{\"colorbar\": {\"outlinewidth\": 0, \"ticks\": \"\"}, \"colorscale\": [[0.0, \"#0d0887\"], [0.1111111111111111, \"#46039f\"], [0.2222222222222222, \"#7201a8\"], [0.3333333333333333, \"#9c179e\"], [0.4444444444444444, \"#bd3786\"], [0.5555555555555556, \"#d8576b\"], [0.6666666666666666, \"#ed7953\"], [0.7777777777777778, \"#fb9f3a\"], [0.8888888888888888, \"#fdca26\"], [1.0, \"#f0f921\"]], \"type\": \"histogram2dcontour\"}], \"mesh3d\": [{\"colorbar\": {\"outlinewidth\": 0, \"ticks\": \"\"}, \"type\": \"mesh3d\"}], \"parcoords\": [{\"line\": {\"colorbar\": {\"outlinewidth\": 0, \"ticks\": \"\"}}, \"type\": \"parcoords\"}], \"scatter\": [{\"marker\": {\"colorbar\": {\"outlinewidth\": 0, \"ticks\": \"\"}}, \"type\": \"scatter\"}], \"scatter3d\": [{\"line\": {\"colorbar\": {\"outlinewidth\": 0, \"ticks\": \"\"}}, \"marker\": {\"colorbar\": {\"outlinewidth\": 0, \"ticks\": \"\"}}, \"type\": \"scatter3d\"}], \"scattercarpet\": [{\"marker\": {\"colorbar\": {\"outlinewidth\": 0, \"ticks\": \"\"}}, \"type\": \"scattercarpet\"}], \"scattergeo\": [{\"marker\": {\"colorbar\": {\"outlinewidth\": 0, \"ticks\": \"\"}}, \"type\": \"scattergeo\"}], \"scattergl\": [{\"marker\": {\"colorbar\": {\"outlinewidth\": 0, \"ticks\": \"\"}}, \"type\": \"scattergl\"}], \"scattermapbox\": [{\"marker\": {\"colorbar\": {\"outlinewidth\": 0, \"ticks\": \"\"}}, \"type\": \"scattermapbox\"}], \"scatterpolar\": [{\"marker\": {\"colorbar\": {\"outlinewidth\": 0, \"ticks\": \"\"}}, \"type\": \"scatterpolar\"}], \"scatterpolargl\": [{\"marker\": {\"colorbar\": {\"outlinewidth\": 0, \"ticks\": \"\"}}, \"type\": \"scatterpolargl\"}], \"scatterternary\": [{\"marker\": {\"colorbar\": {\"outlinewidth\": 0, \"ticks\": \"\"}}, \"type\": \"scatterternary\"}], \"surface\": [{\"colorbar\": {\"outlinewidth\": 0, \"ticks\": \"\"}, \"colorscale\": [[0.0, \"#0d0887\"], [0.1111111111111111, \"#46039f\"], [0.2222222222222222, \"#7201a8\"], [0.3333333333333333, \"#9c179e\"], [0.4444444444444444, \"#bd3786\"], [0.5555555555555556, \"#d8576b\"], [0.6666666666666666, \"#ed7953\"], [0.7777777777777778, \"#fb9f3a\"], [0.8888888888888888, \"#fdca26\"], [1.0, \"#f0f921\"]], \"type\": \"surface\"}], \"table\": [{\"cells\": {\"fill\": {\"color\": \"#EBF0F8\"}, \"line\": {\"color\": \"white\"}}, \"header\": {\"fill\": {\"color\": \"#C8D4E3\"}, \"line\": {\"color\": \"white\"}}, \"type\": \"table\"}]}, \"layout\": {\"annotationdefaults\": {\"arrowcolor\": \"#2a3f5f\", \"arrowhead\": 0, \"arrowwidth\": 1}, \"colorscale\": {\"diverging\": [[0, \"#8e0152\"], [0.1, \"#c51b7d\"], [0.2, \"#de77ae\"], [0.3, \"#f1b6da\"], [0.4, \"#fde0ef\"], [0.5, \"#f7f7f7\"], [0.6, \"#e6f5d0\"], [0.7, \"#b8e186\"], [0.8, \"#7fbc41\"], [0.9, \"#4d9221\"], [1, \"#276419\"]], \"sequential\": [[0.0, \"#0d0887\"], [0.1111111111111111, \"#46039f\"], [0.2222222222222222, \"#7201a8\"], [0.3333333333333333, \"#9c179e\"], [0.4444444444444444, \"#bd3786\"], [0.5555555555555556, \"#d8576b\"], [0.6666666666666666, \"#ed7953\"], [0.7777777777777778, \"#fb9f3a\"], [0.8888888888888888, \"#fdca26\"], [1.0, \"#f0f921\"]], \"sequentialminus\": [[0.0, \"#0d0887\"], [0.1111111111111111, \"#46039f\"], [0.2222222222222222, \"#7201a8\"], [0.3333333333333333, \"#9c179e\"], [0.4444444444444444, \"#bd3786\"], [0.5555555555555556, \"#d8576b\"], [0.6666666666666666, \"#ed7953\"], [0.7777777777777778, \"#fb9f3a\"], [0.8888888888888888, \"#fdca26\"], [1.0, \"#f0f921\"]]}, \"colorway\": [\"#636efa\", \"#EF553B\", \"#00cc96\", \"#ab63fa\", \"#FFA15A\", \"#19d3f3\", \"#FF6692\", \"#B6E880\", \"#FF97FF\", \"#FECB52\"], \"font\": {\"color\": \"#2a3f5f\"}, \"geo\": {\"bgcolor\": \"white\", \"lakecolor\": \"white\", \"landcolor\": \"#E5ECF6\", \"showlakes\": true, \"showland\": true, \"subunitcolor\": \"white\"}, \"hoverlabel\": {\"align\": \"left\"}, \"hovermode\": \"closest\", \"mapbox\": {\"style\": \"light\"}, \"paper_bgcolor\": \"white\", \"plot_bgcolor\": \"#E5ECF6\", \"polar\": {\"angularaxis\": {\"gridcolor\": \"white\", \"linecolor\": \"white\", \"ticks\": \"\"}, \"bgcolor\": \"#E5ECF6\", \"radialaxis\": {\"gridcolor\": \"white\", \"linecolor\": \"white\", \"ticks\": \"\"}}, \"scene\": {\"xaxis\": {\"backgroundcolor\": \"#E5ECF6\", \"gridcolor\": \"white\", \"gridwidth\": 2, \"linecolor\": \"white\", \"showbackground\": true, \"ticks\": \"\", \"zerolinecolor\": \"white\"}, \"yaxis\": {\"backgroundcolor\": \"#E5ECF6\", \"gridcolor\": \"white\", \"gridwidth\": 2, \"linecolor\": \"white\", \"showbackground\": true, \"ticks\": \"\", \"zerolinecolor\": \"white\"}, \"zaxis\": {\"backgroundcolor\": \"#E5ECF6\", \"gridcolor\": \"white\", \"gridwidth\": 2, \"linecolor\": \"white\", \"showbackground\": true, \"ticks\": \"\", \"zerolinecolor\": \"white\"}}, \"shapedefaults\": {\"line\": {\"color\": \"#2a3f5f\"}}, \"ternary\": {\"aaxis\": {\"gridcolor\": \"white\", \"linecolor\": \"white\", \"ticks\": \"\"}, \"baxis\": {\"gridcolor\": \"white\", \"linecolor\": \"white\", \"ticks\": \"\"}, \"bgcolor\": \"#E5ECF6\", \"caxis\": {\"gridcolor\": \"white\", \"linecolor\": \"white\", \"ticks\": \"\"}}, \"title\": {\"x\": 0.05}, \"xaxis\": {\"automargin\": true, \"gridcolor\": \"white\", \"linecolor\": \"white\", \"ticks\": \"\", \"zerolinecolor\": \"white\", \"zerolinewidth\": 2}, \"yaxis\": {\"automargin\": true, \"gridcolor\": \"white\", \"linecolor\": \"white\", \"ticks\": \"\", \"zerolinecolor\": \"white\", \"zerolinewidth\": 2}}}, \"xaxis\": {\"anchor\": \"y\", \"domain\": [0.0, 0.98], \"title\": {\"text\": \"answers\"}, \"type\": \"log\"}, \"yaxis\": {\"anchor\": \"x\", \"domain\": [0.0, 1.0], \"title\": {\"text\": \"rep\"}, \"type\": \"log\"}},\n",
       "                        {\"responsive\": true}\n",
       "                    ).then(function(){\n",
       "                            \n",
       "var gd = document.getElementById('66a43805-bd49-4b54-958a-421bece02bb7');\n",
       "var x = new MutationObserver(function (mutations, observer) {{\n",
       "        var display = window.getComputedStyle(gd).display;\n",
       "        if (!display || display === 'none') {{\n",
       "            console.log([gd, 'removed!']);\n",
       "            Plotly.purge(gd);\n",
       "            observer.disconnect();\n",
       "        }}\n",
       "}});\n",
       "\n",
       "// Listen for the removal of the full notebook cells\n",
       "var notebookContainer = gd.closest('#notebook-container');\n",
       "if (notebookContainer) {{\n",
       "    x.observe(notebookContainer, {childList: true});\n",
       "}}\n",
       "\n",
       "// Listen for the clearing of the current output cell\n",
       "var outputEl = gd.closest('.output');\n",
       "if (outputEl) {{\n",
       "    x.observe(outputEl, {childList: true});\n",
       "}}\n",
       "\n",
       "                        })\n",
       "                };\n",
       "                });\n",
       "            </script>\n",
       "        </div>"
      ]
     },
     "metadata": {},
     "output_type": "display_data"
    }
   ],
   "source": [
    "fig = px.scatter(xo, x=\"answers\", y=\"rep\", color=\"name\", size=\"rep/ans\", log_x=True, log_y=True)\n",
    "fig.show()"
   ]
  },
  {
   "cell_type": "code",
   "execution_count": 47,
   "metadata": {},
   "outputs": [],
   "source": [
    "# MATCH (u:User)-[:POSTED]->(answer)<-[:PARENT_OF]-()-[:HAS_TAG]-(:Tag {tagId:\"nosql\"}) \n",
    "# WHERE u.displayname = 'Emre'\n",
    "# RETURN u.displayname, u.reputation,u.location, count(distinct answer) AS answers\n",
    "# ORDER BY answers DESC;"
   ]
  },
  {
   "cell_type": "markdown",
   "metadata": {},
   "source": [
    "#### Run this graph in browser/ console"
   ]
  },
  {
   "cell_type": "code",
   "execution_count": 62,
   "metadata": {},
   "outputs": [],
   "source": [
    "# MATCH (u:User)-[:POSTED]->(answer)<-[:PARENT_OF]-(question)-[:HAS_TAG]-(tag:Tag {tagId:\"python\"}) \n",
    "# WHERE u.displayname contains \"t\"\n",
    "# RETURN *,count(distinct answer) AS answers\n",
    "# ORDER BY answers DESC limit 30;"
   ]
  },
  {
   "cell_type": "markdown",
   "metadata": {},
   "source": [
    "![title](images/python_answers.png)"
   ]
  },
  {
   "cell_type": "markdown",
   "metadata": {},
   "source": [
    "#### Top 5 tags of all time"
   ]
  },
  {
   "cell_type": "code",
   "execution_count": 73,
   "metadata": {},
   "outputs": [
    {
     "name": "stdout",
     "output_type": "stream",
     "text": [
      "            t.tagId t.count\n",
      "0  machine-learning    None\n",
      "1           bigdata    None\n",
      "2       data-mining    None\n",
      "3         databases    None\n",
      "4       definitions    None\n"
     ]
    }
   ],
   "source": [
    "query = \"match (t:Tag) with t order by t.count desc limit 5 return t.tagId, t.count;\" \n",
    "result = graph.run(query)\n",
    "print(result.to_data_frame())"
   ]
  },
  {
   "cell_type": "markdown",
   "metadata": {},
   "source": [
    "#### Co-occurence with 'javascript' tag"
   ]
  },
  {
   "cell_type": "code",
   "execution_count": 75,
   "metadata": {},
   "outputs": [
    {
     "name": "stdout",
     "output_type": "stream",
     "text": [
      "        other.tagId  freq\n",
      "0     visualization    11\n",
      "1    neural-network     6\n",
      "2  machine-learning     6\n",
      "3            python     3\n",
      "4            graphs     2\n"
     ]
    }
   ],
   "source": [
    "query = \"match (t:Tag {tagId:'javascript'})<-[:HAS_TAG]-()-[:HAS_TAG]->(other:Tag) WITH other, count(*) as freq order by freq desc limit 5 RETURN other.tagId,freq;\" \n",
    "result = graph.run(query)\n",
    "print(result.to_data_frame())\n",
    "\n",
    "# match (t:Tag {tagId:\"javascript\"})<-[:HAS_TAG]-()-[:HAS_TAG]->(other:Tag) \n",
    "# WITH other, count(*) as freq order by freq desc limit 5\n",
    "# RETURN other.tagId,freq;"
   ]
  },
  {
   "cell_type": "markdown",
   "metadata": {},
   "source": [
    "#### Most active answerers for python"
   ]
  },
  {
   "cell_type": "code",
   "execution_count": 79,
   "metadata": {},
   "outputs": [
    {
     "name": "stdout",
     "output_type": "stream",
     "text": [
      "    u.displayname  freq\n",
      "0         n1k31t4   117\n",
      "1        JahKnows    52\n",
      "2  Brian Spiering    49\n",
      "3    Anony-Mousse    49\n",
      "4            Emre    42\n",
      "5     Vaalizaadeh    38\n",
      "6     Neil Slater    36\n",
      "7            MaxU    34\n",
      "8  Kasra Manshaei    31\n",
      "9           Tasos    28\n"
     ]
    }
   ],
   "source": [
    "query = \"match (t:Tag {tagId:'python'})<-[:HAS_TAG]-()-[:PARENT_OF]->()<-[:POSTED]-(u:User) WITH u, count(*) as freq order by freq desc limit 10 RETURN u.displayname,freq;\" \n",
    "result = graph.run(query)\n",
    "print(result.to_data_frame())\n",
    "\n",
    "\n",
    "# match (t:Tag {tagId:\"neo4j\"})<-[:HAS_TAG]-()\n",
    "#        -[:PARENT_OF]->()<-[:POSTED]-(u:User) \n",
    "# WITH u, count(*) as freq order by freq desc limit 10\n",
    "# RETURN u.name,freq;"
   ]
  },
  {
   "cell_type": "markdown",
   "metadata": {},
   "source": [
    "#### Where are the most active answerers also active"
   ]
  },
  {
   "cell_type": "code",
   "execution_count": 82,
   "metadata": {},
   "outputs": [
    {
     "name": "stdout",
     "output_type": "stream",
     "text": [
      "    u.displayname                                               tags\n",
      "0     Vaalizaadeh        [deep-learning, neural-network, cnn, keras]\n",
      "1    Anony-Mousse  [machine-learning, k-means, data-mining, class...\n",
      "2     Neil Slater  [neural-network, reinforcement-learning, deep-...\n",
      "3            Emre  [neural-network, classification, deep-learning...\n",
      "4         n1k31t4  [deep-learning, neural-network, keras, tensorf...\n",
      "5        JahKnows  [neural-network, deep-learning, keras, classif...\n",
      "6  Brian Spiering  [nlp, deep-learning, neural-network, text-mining]\n",
      "7  Kasra Manshaei  [clustering, graphs, classification, data-mining]\n",
      "8           Tasos             [pandas, nlp, statistics, time-series]\n"
     ]
    }
   ],
   "source": [
    "query = \"MATCH (neo:Tag {tagId:'python'})<-[:HAS_TAG]-()-[:PARENT_OF]->()<-[:POSTED]-(u:User) WITH neo,u, count(*) as freq order by freq desc limit 10 MATCH (u)-[:POSTED]->()<-[:PARENT_OF]-(p)-[:HAS_TAG]->(other:Tag) WHERE NOT (p)-[:HAS_TAG]->(neo) WITH u,other,count(*) as freq2 order by freq2 desc RETURN u.displayname,collect(distinct other.tagId)[1..5] as tags;\" \n",
    "result = graph.run(query)\n",
    "print(result.to_data_frame())\n",
    "\n",
    "\n",
    "# MATCH (neo:Tag {tagId:'neo4j'})<-[:HAS_TAG]-()\n",
    "#       -[:PARENT_OF]->()<-[:POSTED]-(u:User) \n",
    "# WITH neo,u, count(*) as freq order by freq desc limit 10\n",
    "# MATCH (u)-[:POSTED]->()<-[:PARENT_OF]-(p)-[:HAS_TAG]->(other:Tag)\n",
    "# WHERE NOT (p)-[:HAS_TAG]->(neo)\n",
    "# WITH u,other,count(*) as freq2 order by freq2 desc \n",
    "# RETURN u.displayname,collect(distinct other.tagId)[1..5] as tags;"
   ]
  },
  {
   "cell_type": "markdown",
   "metadata": {},
   "source": [
    "#### Posted most questions about neo4j"
   ]
  },
  {
   "cell_type": "code",
   "execution_count": 85,
   "metadata": {},
   "outputs": [
    {
     "name": "stdout",
     "output_type": "stream",
     "text": [
      "       u.displayname  count\n",
      "0        John Newman      2\n",
      "1       Sreejithc321      2\n",
      "2        TobiasJakob      1\n",
      "3           blunders      1\n",
      "4                SRS      1\n",
      "5      sheldonkreger      1\n",
      "6             Victor      1\n",
      "7  Austin Capobianco      1\n"
     ]
    }
   ],
   "source": [
    "query = \"MATCH (t:Tag {tagId:'neo4j'})<-[:HAS_TAG]-(:Post)<-[:POSTED]-(u:User) RETURN u.displayname,count(*) as count ORDER BY count DESC LIMIT 10;\" \n",
    "result = graph.run(query)\n",
    "print(result.to_data_frame())\n",
    "\n",
    "# MATCH (t:Tag {tagId:'neo4j'})<-[:HAS_TAG]-(:Post)<-[:POSTED]-(u:User)\n",
    "# RETURN u.name,count(*) as count\n",
    "# ORDER BY count DESC LIMIT 10;"
   ]
  },
  {
   "cell_type": "markdown",
   "metadata": {},
   "source": [
    "#### Top answerers for pandas tag"
   ]
  },
  {
   "cell_type": "code",
   "execution_count": 88,
   "metadata": {},
   "outputs": [
    {
     "name": "stdout",
     "output_type": "stream",
     "text": [
      "   u.displayname  count\n",
      "0        n1k31t4     36\n",
      "1           MaxU     24\n",
      "2           Emre     18\n",
      "3          Tasos     15\n",
      "4         Aditya     12\n",
      "5          bkshi     12\n",
      "6  Stephen Rauch     10\n",
      "7    Vaalizaadeh     10\n",
      "8   TwinPenguins      8\n",
      "9       JahKnows      8\n"
     ]
    }
   ],
   "source": [
    "query = \"MATCH (:Tag {tagId:'pandas'})<-[:HAS_TAG]-()-[:PARENT_OF]->()<-[:POSTED]-(u:User) RETURN u.displayname,count(*) as count ORDER BY count DESC LIMIT 10;\" \n",
    "result = graph.run(query)\n",
    "print(result.to_data_frame())\n",
    "\n",
    "# MATCH (:Tag {tagId:'py2neo'})<-[:HAS_TAG]-()-[:PARENT_OF]->()\n",
    "#       <-[:POSTED]-(u:User)\n",
    "# RETURN u.displayname,count(*) as count\n",
    "# ORDER BY count DESC LIMIT 10;"
   ]
  },
  {
   "cell_type": "markdown",
   "metadata": {},
   "source": [
    "#### Users who answered their own question "
   ]
  },
  {
   "cell_type": "code",
   "execution_count": 94,
   "metadata": {},
   "outputs": [
    {
     "name": "stdout",
     "output_type": "stream",
     "text": [
      "Empty DataFrame\n",
      "Columns: []\n",
      "Index: []\n"
     ]
    }
   ],
   "source": [
    "query = \"MATCH (u:User) WHERE u.reputation > 1000 MATCH (u)-[:POSTED]->(question)-[:ANSWER]->(answer)<-[:POSTED]-(u) WITH u,count(distinct question) AS questions ORDER BY questions DESC LIMIT 5 RETURN u.displayname, u.reputation, questions;\" \n",
    "result = graph.run(query)\n",
    "print(result.to_data_frame())\n",
    "\n",
    "# MATCH (u:User) WHERE u.reputation > 20000\n",
    "# MATCH (u)-[:POSTED]->(question)-[:ANSWER]->(answer)<-[:POSTED]-(u)\n",
    "# WITH u,count(distinct question) AS questions\n",
    "# ORDER BY questions DESC LIMIT 5\n",
    "# RETURN u.displayname, u.reputation, questions;\n",
    "\n",
    "# not working no :ANSWER relationship"
   ]
  },
  {
   "cell_type": "markdown",
   "metadata": {},
   "source": [
    "#### Smaller queries"
   ]
  },
  {
   "cell_type": "code",
   "execution_count": null,
   "metadata": {},
   "outputs": [],
   "source": [
    "# MATCH path = allShortestPaths( (t:Tag {tagId:\"activation\"})-[*]-(u:Tag {tagId:\"xboost\"})) RETURN path LIMIT 10;"
   ]
  },
  {
   "cell_type": "markdown",
   "metadata": {},
   "source": [
    "![title](images/xboost_activation_bigdb.png)"
   ]
  },
  {
   "cell_type": "code",
   "execution_count": 1,
   "metadata": {},
   "outputs": [],
   "source": [
    "# MATCH path = allShortestPaths( (t:User {displayname:\"black_cat\"})-[*]-(u:User {displayname:\"Skier\"})) RETURN path LIMIT 10;"
   ]
  },
  {
   "cell_type": "markdown",
   "metadata": {},
   "source": [
    "![title](images/black_cat_to_skier.png)"
   ]
  },
  {
   "cell_type": "code",
   "execution_count": null,
   "metadata": {},
   "outputs": [],
   "source": []
  }
 ],
 "metadata": {
  "kernelspec": {
   "display_name": "Python 3",
   "language": "python",
   "name": "python3"
  },
  "language_info": {
   "codemirror_mode": {
    "name": "ipython",
    "version": 3
   },
   "file_extension": ".py",
   "mimetype": "text/x-python",
   "name": "python",
   "nbconvert_exporter": "python",
   "pygments_lexer": "ipython3",
   "version": "3.7.3"
  }
 },
 "nbformat": 4,
 "nbformat_minor": 2
}
